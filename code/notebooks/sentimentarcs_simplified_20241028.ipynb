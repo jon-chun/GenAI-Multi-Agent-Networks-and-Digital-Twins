{
  "nbformat": 4,
  "nbformat_minor": 0,
  "metadata": {
    "colab": {
      "provenance": [],
      "collapsed_sections": [
        "EMhPyO0F85GJ"
      ],
      "toc_visible": true,
      "gpuType": "T4"
    },
    "kernelspec": {
      "name": "python3",
      "display_name": "Python 3"
    },
    "language_info": {
      "name": "python"
    },
    "accelerator": "GPU"
  },
  "cells": [
    {
      "cell_type": "markdown",
      "source": [
        "# SentimentArcs Simplified Notebook\n",
        "\n",
        "Created:\n",
        "\n",
        "* 28 Oct 2022\n",
        "* Jon Chun\n",
        "\n",
        "A simplified version of SentimentArcs Notebooks with only the most common and state-of-the-art sentiment analysis models in the ensemble. This operationalizes SentimentArcs more accessible and robust.\n",
        "\n",
        "* https://github.com/jon-chun/sentimentarcs_notebooks\n",
        "\n",
        "* https://arxiv.org/pdf/2110.09454.pdf"
      ],
      "metadata": {
        "id": "YwxnxnOXF4TB"
      }
    },
    {
      "cell_type": "markdown",
      "source": [
        "# Review VM Specs"
      ],
      "metadata": {
        "id": "9O8gnSf4iIw9"
      }
    },
    {
      "cell_type": "code",
      "source": [
        "# Make sure your Linux VM is connected to a GPU\n",
        "\n",
        "!nvidia-smi"
      ],
      "metadata": {
        "id": "NSZ4PRXtiIw9",
        "colab": {
          "base_uri": "https://localhost:8080/"
        },
        "outputId": "68143f7d-6a35-4e9b-ce31-31e23af2645e"
      },
      "execution_count": 1,
      "outputs": [
        {
          "output_type": "stream",
          "name": "stdout",
          "text": [
            "Mon Oct 28 17:17:41 2024       \n",
            "+---------------------------------------------------------------------------------------+\n",
            "| NVIDIA-SMI 535.104.05             Driver Version: 535.104.05   CUDA Version: 12.2     |\n",
            "|-----------------------------------------+----------------------+----------------------+\n",
            "| GPU  Name                 Persistence-M | Bus-Id        Disp.A | Volatile Uncorr. ECC |\n",
            "| Fan  Temp   Perf          Pwr:Usage/Cap |         Memory-Usage | GPU-Util  Compute M. |\n",
            "|                                         |                      |               MIG M. |\n",
            "|=========================================+======================+======================|\n",
            "|   0  Tesla T4                       Off | 00000000:00:04.0 Off |                    0 |\n",
            "| N/A   52C    P8               9W /  70W |      0MiB / 15360MiB |      0%      Default |\n",
            "|                                         |                      |                  N/A |\n",
            "+-----------------------------------------+----------------------+----------------------+\n",
            "                                                                                         \n",
            "+---------------------------------------------------------------------------------------+\n",
            "| Processes:                                                                            |\n",
            "|  GPU   GI   CI        PID   Type   Process name                            GPU Memory |\n",
            "|        ID   ID                                                             Usage      |\n",
            "|=======================================================================================|\n",
            "|  No running processes found                                                           |\n",
            "+---------------------------------------------------------------------------------------+\n"
          ]
        }
      ]
    },
    {
      "cell_type": "code",
      "source": [
        "# Node GPU Count/Type\n",
        "\n",
        "!nvidia-smi -L"
      ],
      "metadata": {
        "id": "FsMiuonMiIw9",
        "colab": {
          "base_uri": "https://localhost:8080/"
        },
        "outputId": "de199192-8df0-447a-8ca5-2218fe052391"
      },
      "execution_count": 2,
      "outputs": [
        {
          "output_type": "stream",
          "name": "stdout",
          "text": [
            "GPU 0: Tesla T4 (UUID: GPU-c2bc3385-d1cd-9374-6002-c0fe8c66b183)\n"
          ]
        }
      ]
    },
    {
      "cell_type": "code",
      "source": [
        "# Memory\n",
        "\n",
        "!free -h --si | awk  '/Mem:/{print $2}'"
      ],
      "metadata": {
        "id": "W6cw1NyMiIw-",
        "colab": {
          "base_uri": "https://localhost:8080/"
        },
        "outputId": "99af75e8-c496-4490-e7fb-be99a77bf128"
      },
      "execution_count": 3,
      "outputs": [
        {
          "output_type": "stream",
          "name": "stdout",
          "text": [
            "12G\n"
          ]
        }
      ]
    },
    {
      "cell_type": "code",
      "source": [
        "# GPU log information\n",
        "\n",
        "# !nvidia-smi -q"
      ],
      "metadata": {
        "id": "Hir6o2DAiIw-"
      },
      "execution_count": 4,
      "outputs": []
    },
    {
      "cell_type": "code",
      "source": [
        "# Check how many CPU cores available for parallization\n",
        "\n",
        "!cat /proc/cpuinfo"
      ],
      "metadata": {
        "id": "s2waXTRWiIw-",
        "colab": {
          "base_uri": "https://localhost:8080/"
        },
        "outputId": "5897d7dc-c42c-4c4f-ad27-ae3e25e7772f"
      },
      "execution_count": 5,
      "outputs": [
        {
          "output_type": "stream",
          "name": "stdout",
          "text": [
            "processor\t: 0\n",
            "vendor_id\t: GenuineIntel\n",
            "cpu family\t: 6\n",
            "model\t\t: 85\n",
            "model name\t: Intel(R) Xeon(R) CPU @ 2.00GHz\n",
            "stepping\t: 3\n",
            "microcode\t: 0xffffffff\n",
            "cpu MHz\t\t: 2000.164\n",
            "cache size\t: 39424 KB\n",
            "physical id\t: 0\n",
            "siblings\t: 2\n",
            "core id\t\t: 0\n",
            "cpu cores\t: 1\n",
            "apicid\t\t: 0\n",
            "initial apicid\t: 0\n",
            "fpu\t\t: yes\n",
            "fpu_exception\t: yes\n",
            "cpuid level\t: 13\n",
            "wp\t\t: yes\n",
            "flags\t\t: fpu vme de pse tsc msr pae mce cx8 apic sep mtrr pge mca cmov pat pse36 clflush mmx fxsr sse sse2 ss ht syscall nx pdpe1gb rdtscp lm constant_tsc rep_good nopl xtopology nonstop_tsc cpuid tsc_known_freq pni pclmulqdq ssse3 fma cx16 pcid sse4_1 sse4_2 x2apic movbe popcnt aes xsave avx f16c rdrand hypervisor lahf_lm abm 3dnowprefetch invpcid_single ssbd ibrs ibpb stibp fsgsbase tsc_adjust bmi1 hle avx2 smep bmi2 erms invpcid rtm mpx avx512f avx512dq rdseed adx smap clflushopt clwb avx512cd avx512bw avx512vl xsaveopt xsavec xgetbv1 xsaves arat md_clear arch_capabilities\n",
            "bugs\t\t: cpu_meltdown spectre_v1 spectre_v2 spec_store_bypass l1tf mds swapgs taa mmio_stale_data retbleed bhi\n",
            "bogomips\t: 4000.32\n",
            "clflush size\t: 64\n",
            "cache_alignment\t: 64\n",
            "address sizes\t: 46 bits physical, 48 bits virtual\n",
            "power management:\n",
            "\n",
            "processor\t: 1\n",
            "vendor_id\t: GenuineIntel\n",
            "cpu family\t: 6\n",
            "model\t\t: 85\n",
            "model name\t: Intel(R) Xeon(R) CPU @ 2.00GHz\n",
            "stepping\t: 3\n",
            "microcode\t: 0xffffffff\n",
            "cpu MHz\t\t: 2000.164\n",
            "cache size\t: 39424 KB\n",
            "physical id\t: 0\n",
            "siblings\t: 2\n",
            "core id\t\t: 0\n",
            "cpu cores\t: 1\n",
            "apicid\t\t: 1\n",
            "initial apicid\t: 1\n",
            "fpu\t\t: yes\n",
            "fpu_exception\t: yes\n",
            "cpuid level\t: 13\n",
            "wp\t\t: yes\n",
            "flags\t\t: fpu vme de pse tsc msr pae mce cx8 apic sep mtrr pge mca cmov pat pse36 clflush mmx fxsr sse sse2 ss ht syscall nx pdpe1gb rdtscp lm constant_tsc rep_good nopl xtopology nonstop_tsc cpuid tsc_known_freq pni pclmulqdq ssse3 fma cx16 pcid sse4_1 sse4_2 x2apic movbe popcnt aes xsave avx f16c rdrand hypervisor lahf_lm abm 3dnowprefetch invpcid_single ssbd ibrs ibpb stibp fsgsbase tsc_adjust bmi1 hle avx2 smep bmi2 erms invpcid rtm mpx avx512f avx512dq rdseed adx smap clflushopt clwb avx512cd avx512bw avx512vl xsaveopt xsavec xgetbv1 xsaves arat md_clear arch_capabilities\n",
            "bugs\t\t: cpu_meltdown spectre_v1 spectre_v2 spec_store_bypass l1tf mds swapgs taa mmio_stale_data retbleed bhi\n",
            "bogomips\t: 4000.32\n",
            "clflush size\t: 64\n",
            "cache_alignment\t: 64\n",
            "address sizes\t: 46 bits physical, 48 bits virtual\n",
            "power management:\n",
            "\n"
          ]
        }
      ]
    },
    {
      "cell_type": "code",
      "source": [
        "!lscpu"
      ],
      "metadata": {
        "id": "WW-K8tVviIw-",
        "colab": {
          "base_uri": "https://localhost:8080/"
        },
        "outputId": "072ecdea-a74e-415b-d9bd-daf15146f9b5"
      },
      "execution_count": 6,
      "outputs": [
        {
          "output_type": "stream",
          "name": "stdout",
          "text": [
            "Architecture:             x86_64\n",
            "  CPU op-mode(s):         32-bit, 64-bit\n",
            "  Address sizes:          46 bits physical, 48 bits virtual\n",
            "  Byte Order:             Little Endian\n",
            "CPU(s):                   2\n",
            "  On-line CPU(s) list:    0,1\n",
            "Vendor ID:                GenuineIntel\n",
            "  Model name:             Intel(R) Xeon(R) CPU @ 2.00GHz\n",
            "    CPU family:           6\n",
            "    Model:                85\n",
            "    Thread(s) per core:   2\n",
            "    Core(s) per socket:   1\n",
            "    Socket(s):            1\n",
            "    Stepping:             3\n",
            "    BogoMIPS:             4000.32\n",
            "    Flags:                fpu vme de pse tsc msr pae mce cx8 apic sep mtrr pge mca cmov pat pse36 cl\n",
            "                          flush mmx fxsr sse sse2 ss ht syscall nx pdpe1gb rdtscp lm constant_tsc re\n",
            "                          p_good nopl xtopology nonstop_tsc cpuid tsc_known_freq pni pclmulqdq ssse3\n",
            "                           fma cx16 pcid sse4_1 sse4_2 x2apic movbe popcnt aes xsave avx f16c rdrand\n",
            "                           hypervisor lahf_lm abm 3dnowprefetch invpcid_single ssbd ibrs ibpb stibp \n",
            "                          fsgsbase tsc_adjust bmi1 hle avx2 smep bmi2 erms invpcid rtm mpx avx512f a\n",
            "                          vx512dq rdseed adx smap clflushopt clwb avx512cd avx512bw avx512vl xsaveop\n",
            "                          t xsavec xgetbv1 xsaves arat md_clear arch_capabilities\n",
            "Virtualization features:  \n",
            "  Hypervisor vendor:      KVM\n",
            "  Virtualization type:    full\n",
            "Caches (sum of all):      \n",
            "  L1d:                    32 KiB (1 instance)\n",
            "  L1i:                    32 KiB (1 instance)\n",
            "  L2:                     1 MiB (1 instance)\n",
            "  L3:                     38.5 MiB (1 instance)\n",
            "NUMA:                     \n",
            "  NUMA node(s):           1\n",
            "  NUMA node0 CPU(s):      0,1\n",
            "Vulnerabilities:          \n",
            "  Gather data sampling:   Not affected\n",
            "  Itlb multihit:          Not affected\n",
            "  L1tf:                   Mitigation; PTE Inversion\n",
            "  Mds:                    Vulnerable; SMT Host state unknown\n",
            "  Meltdown:               Vulnerable\n",
            "  Mmio stale data:        Vulnerable\n",
            "  Reg file data sampling: Not affected\n",
            "  Retbleed:               Vulnerable\n",
            "  Spec rstack overflow:   Not affected\n",
            "  Spec store bypass:      Vulnerable\n",
            "  Spectre v1:             Vulnerable: __user pointer sanitization and usercopy barriers only; no swa\n",
            "                          pgs barriers\n",
            "  Spectre v2:             Vulnerable; IBPB: disabled; STIBP: disabled; PBRSB-eIBRS: Not affected; BH\n",
            "                          I: Vulnerable (Syscall hardening enabled)\n",
            "  Srbds:                  Not affected\n",
            "  Tsx async abort:        Vulnerable\n"
          ]
        }
      ]
    },
    {
      "cell_type": "markdown",
      "source": [
        "# Setup"
      ],
      "metadata": {
        "id": "84IZ26RpiS7f"
      }
    },
    {
      "cell_type": "markdown",
      "source": [
        "## Install Libraries"
      ],
      "metadata": {
        "id": "lVKek_uU7NG_"
      }
    },
    {
      "cell_type": "code",
      "source": [
        "# !pip install transformers[sentencepiece]\n",
        "\n",
        "!pip install transformers"
      ],
      "metadata": {
        "id": "Dd4CiRWNof2-",
        "colab": {
          "base_uri": "https://localhost:8080/"
        },
        "outputId": "3c8b5b16-84ce-4650-9b17-e1fbd396d921"
      },
      "execution_count": 7,
      "outputs": [
        {
          "output_type": "stream",
          "name": "stdout",
          "text": [
            "Requirement already satisfied: transformers in /usr/local/lib/python3.10/dist-packages (4.44.2)\n",
            "Requirement already satisfied: filelock in /usr/local/lib/python3.10/dist-packages (from transformers) (3.16.1)\n",
            "Requirement already satisfied: huggingface-hub<1.0,>=0.23.2 in /usr/local/lib/python3.10/dist-packages (from transformers) (0.24.7)\n",
            "Requirement already satisfied: numpy>=1.17 in /usr/local/lib/python3.10/dist-packages (from transformers) (1.26.4)\n",
            "Requirement already satisfied: packaging>=20.0 in /usr/local/lib/python3.10/dist-packages (from transformers) (24.1)\n",
            "Requirement already satisfied: pyyaml>=5.1 in /usr/local/lib/python3.10/dist-packages (from transformers) (6.0.2)\n",
            "Requirement already satisfied: regex!=2019.12.17 in /usr/local/lib/python3.10/dist-packages (from transformers) (2024.9.11)\n",
            "Requirement already satisfied: requests in /usr/local/lib/python3.10/dist-packages (from transformers) (2.32.3)\n",
            "Requirement already satisfied: safetensors>=0.4.1 in /usr/local/lib/python3.10/dist-packages (from transformers) (0.4.5)\n",
            "Requirement already satisfied: tokenizers<0.20,>=0.19 in /usr/local/lib/python3.10/dist-packages (from transformers) (0.19.1)\n",
            "Requirement already satisfied: tqdm>=4.27 in /usr/local/lib/python3.10/dist-packages (from transformers) (4.66.5)\n",
            "Requirement already satisfied: fsspec>=2023.5.0 in /usr/local/lib/python3.10/dist-packages (from huggingface-hub<1.0,>=0.23.2->transformers) (2024.6.1)\n",
            "Requirement already satisfied: typing-extensions>=3.7.4.3 in /usr/local/lib/python3.10/dist-packages (from huggingface-hub<1.0,>=0.23.2->transformers) (4.12.2)\n",
            "Requirement already satisfied: charset-normalizer<4,>=2 in /usr/local/lib/python3.10/dist-packages (from requests->transformers) (3.4.0)\n",
            "Requirement already satisfied: idna<4,>=2.5 in /usr/local/lib/python3.10/dist-packages (from requests->transformers) (3.10)\n",
            "Requirement already satisfied: urllib3<3,>=1.21.1 in /usr/local/lib/python3.10/dist-packages (from requests->transformers) (2.2.3)\n",
            "Requirement already satisfied: certifi>=2017.4.17 in /usr/local/lib/python3.10/dist-packages (from requests->transformers) (2024.8.30)\n"
          ]
        }
      ]
    },
    {
      "cell_type": "code",
      "source": [
        "# May require [RESET RUNTIME]\n",
        "\n",
        "# !pip install modin[all]"
      ],
      "metadata": {
        "id": "GEHDAX84QeDg"
      },
      "execution_count": 8,
      "outputs": []
    },
    {
      "cell_type": "markdown",
      "source": [
        "## Import Libraries"
      ],
      "metadata": {
        "id": "w6AarbSqQweP"
      }
    },
    {
      "cell_type": "code",
      "source": [
        "from google.colab import files"
      ],
      "metadata": {
        "id": "7asUI7bIT0Zr"
      },
      "execution_count": 9,
      "outputs": []
    },
    {
      "cell_type": "code",
      "source": [
        "import numpy as np\n",
        "import pandas as pd\n",
        "# import modin.pandas as pd_modin\n",
        "import matplotlib.pyplot as plt\n",
        "import seaborn as sns\n",
        "\n",
        "import datetime\n",
        "import re\n",
        "import os\n",
        "\n",
        "from tqdm import tqdm\n",
        "import tqdm.notebook as tq\n",
        "# for i in tq.tqdm(...):"
      ],
      "metadata": {
        "id": "2vBv9P-fZaxS"
      },
      "execution_count": 10,
      "outputs": []
    },
    {
      "cell_type": "markdown",
      "source": [
        "## Configure Settings"
      ],
      "metadata": {
        "id": "9YGBQuOQ8262"
      }
    },
    {
      "cell_type": "code",
      "source": [
        "from IPython.core.interactiveshell import InteractiveShell\n",
        "InteractiveShell.ast_node_interactivity = \"all\""
      ],
      "metadata": {
        "id": "aex0daSTdhQs"
      },
      "execution_count": 11,
      "outputs": []
    },
    {
      "cell_type": "markdown",
      "source": [
        "# Global Variables & Functions"
      ],
      "metadata": {
        "id": "NdyvMBNkiYtk"
      }
    },
    {
      "cell_type": "markdown",
      "source": [
        "## Global Variables"
      ],
      "metadata": {
        "id": "nDRQt-CWditY"
      }
    },
    {
      "cell_type": "code",
      "source": [
        "# Main (Modin) DataFrame for Novel Sentiments\n",
        "\n",
        "sentiment_df = pd.DataFrame\n"
      ],
      "metadata": {
        "id": "Qb_U-MrR-2x0"
      },
      "execution_count": 12,
      "outputs": []
    },
    {
      "cell_type": "markdown",
      "source": [
        "## Common Functions"
      ],
      "metadata": {
        "id": "EMhPyO0F85GJ"
      }
    },
    {
      "cell_type": "code",
      "source": [
        "def verify_novel(novel_str, index_ends=500):\n",
        "  '''\n",
        "  INPUT: string in some stage of processing\n",
        "  OUTPUT: display summary index_ends chars of header/footer for verification\n",
        "  '''\n",
        "\n",
        "  print(f'Novel Name: {novel_name_str}')\n",
        "  print(f'  Char Len: {len(novel_str)}')\n",
        "  print('====================================\\n')\n",
        "  print(f'Beginning:\\n\\n {novel_str[:index_ends]}\\n\\n')\n",
        "  print('\\n------------------------------------')\n",
        "  print(f'Ending:\\n\\n {novel_str[-index_ends:]}\\n\\n')"
      ],
      "metadata": {
        "id": "DmBgCGUCDYGA"
      },
      "execution_count": 13,
      "outputs": []
    },
    {
      "cell_type": "code",
      "source": [
        "def save_text2txt_and_download(text_obj, file_suffix='_save.txt'):\n",
        "  '''\n",
        "  INPUT: text object and suffix to add to output text filename\n",
        "  OUTPUT: Write text object to text file (both temp VM and download)\n",
        "  '''\n",
        "\n",
        "  if type(text_obj) == str:\n",
        "    print('STEP 1. Processing String Object\\n')\n",
        "    str_obj = text_obj\n",
        "  elif type(text_obj) == list:\n",
        "    if (len(text_obj) > 0):\n",
        "      if type(text_obj[0]) == str:\n",
        "        print('STEP 1. Processing List of Strings Object\\n')\n",
        "        str_obj = \"\\n\".join(text_obj)\n",
        "      else:\n",
        "        print('ERROR: Object is not an List of Strings [save_text2txt_and_download()]')\n",
        "        return -1\n",
        "    else:\n",
        "      print('ERROR: Object is an empty List [save_text2txt_and_download()]')\n",
        "      return -1\n",
        "  else:\n",
        "    print('ERROR: Object Type is neither String nor List [save_text2txt_and_download()]')\n",
        "    return -1\n",
        "\n",
        "  datetime_str = datetime.datetime.now().strftime('%Y%m%d-%H%M%S')\n",
        "  # out_filename = novel_name_str.split('.')[0] + '_' + datetime_str + file_suffix\n",
        "  out_filename = novel_name_str.split('.')[0] + file_suffix\n",
        "\n",
        "  # Write file to temporary VM filesystem\n",
        "  print(f'STEP 2. Saving textfile to temporary VM file: {out_filename}\\n')\n",
        "  with open(out_filename, \"w\") as fp:\n",
        "    fp.write(str_obj)\n",
        "\n",
        "  # Download permanent copy of file\n",
        "  print(f'STEP 3. Downloading permanent copy of textfile: {out_filename}\\n')\n",
        "  files.download(out_filename)"
      ],
      "metadata": {
        "id": "4284uzStHpyU"
      },
      "execution_count": 14,
      "outputs": []
    },
    {
      "cell_type": "code",
      "source": [
        "def save_plot2png(file_suffix='_plot.png', nodate=True):\n",
        "    '''\n",
        "    Save the current plot to a PNG file.\n",
        "\n",
        "    INPUT:\n",
        "    - file_suffix: The suffix to add to the output PNG filename.\n",
        "    - nodate: If True, the date is not added to the filename; if False, the date is included.\n",
        "\n",
        "    OUTPUT:\n",
        "    - Saves the current plot to a PNG file in the temporary VM and downloads it.\n",
        "    '''\n",
        "    # Construct the filename based on whether the date should be included\n",
        "    datetime_str = datetime.datetime.now().strftime('%Y%m%d-%H%M%S')\n",
        "    if nodate:\n",
        "        out_filename = novel_name_str.split('.')[0] + file_suffix\n",
        "    else:\n",
        "        out_filename = novel_name_str.split('.')[0] + '_' + datetime_str + file_suffix\n",
        "\n",
        "    # Save the plot\n",
        "    plt.savefig(out_filename)\n",
        "    print(f'STEP 1. Saving plot to temporary VM file: {out_filename}\\n')\n",
        "\n",
        "    # Download the saved file\n",
        "    print(f'STEP 2. Downloading permanent copy of the PNG file: {out_filename}\\n')\n",
        "    files.download(out_filename)"
      ],
      "metadata": {
        "id": "DcZY1AuoBUqd"
      },
      "execution_count": 15,
      "outputs": []
    },
    {
      "cell_type": "code",
      "source": [
        "def save_df2csv_and_download(df_obj, file_suffix='_save.csv', nodate=True):\n",
        "  '''\n",
        "  INPUT: DataFrame object and suffix to add to output csv filename\n",
        "  OUTPUT: Write DataFrame object to csv file (both temp VM and download)\n",
        "  '''\n",
        "\n",
        "  if isinstance(df_obj, pd.DataFrame):\n",
        "    datetime_str = datetime.datetime.now().strftime('%Y%m%d-%H%M%S')\n",
        "    if nodate:\n",
        "      out_filename = novel_name_str.split('.')[0] + file_suffix\n",
        "    else:\n",
        "      out_filename = novel_name_str.split('.')[0] + '_' + datetime_str + file_suffix\n",
        "    # print(f'STEP 1. Saving DataFrame: {df_obj.__name__} to temporary VM file: {out_filename}\\n') # Also, isinstance(obj, pd.DataFrame)\n",
        "    print(f'STEP 1. Saving DataFrame to temporary VM file: {out_filename}\\n')\n",
        "    df_obj.to_csv(out_filename, index=False)\n",
        "  else:\n",
        "    print(f'ERROR: Object is not a DataFrame [save_df2csv_and_download()]')\n",
        "    return -1\n",
        "\n",
        "  # Download permanent copy of file\n",
        "  print(f'STEP 2. Downloading permanent copy of csvfile: {out_filename}\\n')\n",
        "  files.download(out_filename)\n",
        "\n",
        "\n",
        "# Test\n",
        "\n",
        "# save_df2csv_and_download(temp_df, '_bert-nlptown.txt')"
      ],
      "metadata": {
        "id": "CeA0VLNT56TZ"
      },
      "execution_count": 16,
      "outputs": []
    },
    {
      "cell_type": "markdown",
      "source": [
        "# Get Clean Text"
      ],
      "metadata": {
        "id": "kqLNZq62HImu"
      }
    },
    {
      "cell_type": "markdown",
      "source": [
        "## Upload Trimmed Gutenberg Text (no header/footer)\n",
        "\n",
        "Get plain text of familiar novel at:\n",
        "* https://gutenberg.net.au/ (AUS)\n",
        "* https://gutenberg.org/ (US)"
      ],
      "metadata": {
        "id": "2YVNpxpABMoQ"
      }
    },
    {
      "cell_type": "code",
      "source": [
        "# Upload Plain Text File\n",
        "novel_name_str = ''\n",
        "uploaded = files.upload()\n",
        "\n",
        "# Allows for multiple file uploads, will only process the last\n",
        "# Left in for future feature addition (processing multiple files at once)\n",
        "for fn in uploaded.keys():\n",
        "    print('User uploaded file \"{name}\" with length {length} bytes'.format(\n",
        "        name=fn, length=len(uploaded[fn])))\n",
        "    novel_name_str = fn\n",
        "\n",
        "# Extract from Dict and decode binary into char string\n",
        "TEXT_ENCODING = 'utf-8'  # Define the encoding format\n",
        "novel_raw_str = uploaded[novel_name_str].decode(TEXT_ENCODING)\n"
      ],
      "metadata": {
        "colab": {
          "base_uri": "https://localhost:8080/",
          "height": 90
        },
        "id": "f6yuzmXo9Tva",
        "outputId": "0f701a3f-258f-4a44-9d1d-726b21e1b095"
      },
      "execution_count": 17,
      "outputs": [
        {
          "output_type": "display_data",
          "data": {
            "text/plain": [
              "<IPython.core.display.HTML object>"
            ],
            "text/html": [
              "\n",
              "     <input type=\"file\" id=\"files-522e7de4-2984-4be3-8e6b-b715768421c8\" name=\"files[]\" multiple disabled\n",
              "        style=\"border:none\" />\n",
              "     <output id=\"result-522e7de4-2984-4be3-8e6b-b715768421c8\">\n",
              "      Upload widget is only available when the cell has been executed in the\n",
              "      current browser session. Please rerun this cell to enable.\n",
              "      </output>\n",
              "      <script>// Copyright 2017 Google LLC\n",
              "//\n",
              "// Licensed under the Apache License, Version 2.0 (the \"License\");\n",
              "// you may not use this file except in compliance with the License.\n",
              "// You may obtain a copy of the License at\n",
              "//\n",
              "//      http://www.apache.org/licenses/LICENSE-2.0\n",
              "//\n",
              "// Unless required by applicable law or agreed to in writing, software\n",
              "// distributed under the License is distributed on an \"AS IS\" BASIS,\n",
              "// WITHOUT WARRANTIES OR CONDITIONS OF ANY KIND, either express or implied.\n",
              "// See the License for the specific language governing permissions and\n",
              "// limitations under the License.\n",
              "\n",
              "/**\n",
              " * @fileoverview Helpers for google.colab Python module.\n",
              " */\n",
              "(function(scope) {\n",
              "function span(text, styleAttributes = {}) {\n",
              "  const element = document.createElement('span');\n",
              "  element.textContent = text;\n",
              "  for (const key of Object.keys(styleAttributes)) {\n",
              "    element.style[key] = styleAttributes[key];\n",
              "  }\n",
              "  return element;\n",
              "}\n",
              "\n",
              "// Max number of bytes which will be uploaded at a time.\n",
              "const MAX_PAYLOAD_SIZE = 100 * 1024;\n",
              "\n",
              "function _uploadFiles(inputId, outputId) {\n",
              "  const steps = uploadFilesStep(inputId, outputId);\n",
              "  const outputElement = document.getElementById(outputId);\n",
              "  // Cache steps on the outputElement to make it available for the next call\n",
              "  // to uploadFilesContinue from Python.\n",
              "  outputElement.steps = steps;\n",
              "\n",
              "  return _uploadFilesContinue(outputId);\n",
              "}\n",
              "\n",
              "// This is roughly an async generator (not supported in the browser yet),\n",
              "// where there are multiple asynchronous steps and the Python side is going\n",
              "// to poll for completion of each step.\n",
              "// This uses a Promise to block the python side on completion of each step,\n",
              "// then passes the result of the previous step as the input to the next step.\n",
              "function _uploadFilesContinue(outputId) {\n",
              "  const outputElement = document.getElementById(outputId);\n",
              "  const steps = outputElement.steps;\n",
              "\n",
              "  const next = steps.next(outputElement.lastPromiseValue);\n",
              "  return Promise.resolve(next.value.promise).then((value) => {\n",
              "    // Cache the last promise value to make it available to the next\n",
              "    // step of the generator.\n",
              "    outputElement.lastPromiseValue = value;\n",
              "    return next.value.response;\n",
              "  });\n",
              "}\n",
              "\n",
              "/**\n",
              " * Generator function which is called between each async step of the upload\n",
              " * process.\n",
              " * @param {string} inputId Element ID of the input file picker element.\n",
              " * @param {string} outputId Element ID of the output display.\n",
              " * @return {!Iterable<!Object>} Iterable of next steps.\n",
              " */\n",
              "function* uploadFilesStep(inputId, outputId) {\n",
              "  const inputElement = document.getElementById(inputId);\n",
              "  inputElement.disabled = false;\n",
              "\n",
              "  const outputElement = document.getElementById(outputId);\n",
              "  outputElement.innerHTML = '';\n",
              "\n",
              "  const pickedPromise = new Promise((resolve) => {\n",
              "    inputElement.addEventListener('change', (e) => {\n",
              "      resolve(e.target.files);\n",
              "    });\n",
              "  });\n",
              "\n",
              "  const cancel = document.createElement('button');\n",
              "  inputElement.parentElement.appendChild(cancel);\n",
              "  cancel.textContent = 'Cancel upload';\n",
              "  const cancelPromise = new Promise((resolve) => {\n",
              "    cancel.onclick = () => {\n",
              "      resolve(null);\n",
              "    };\n",
              "  });\n",
              "\n",
              "  // Wait for the user to pick the files.\n",
              "  const files = yield {\n",
              "    promise: Promise.race([pickedPromise, cancelPromise]),\n",
              "    response: {\n",
              "      action: 'starting',\n",
              "    }\n",
              "  };\n",
              "\n",
              "  cancel.remove();\n",
              "\n",
              "  // Disable the input element since further picks are not allowed.\n",
              "  inputElement.disabled = true;\n",
              "\n",
              "  if (!files) {\n",
              "    return {\n",
              "      response: {\n",
              "        action: 'complete',\n",
              "      }\n",
              "    };\n",
              "  }\n",
              "\n",
              "  for (const file of files) {\n",
              "    const li = document.createElement('li');\n",
              "    li.append(span(file.name, {fontWeight: 'bold'}));\n",
              "    li.append(span(\n",
              "        `(${file.type || 'n/a'}) - ${file.size} bytes, ` +\n",
              "        `last modified: ${\n",
              "            file.lastModifiedDate ? file.lastModifiedDate.toLocaleDateString() :\n",
              "                                    'n/a'} - `));\n",
              "    const percent = span('0% done');\n",
              "    li.appendChild(percent);\n",
              "\n",
              "    outputElement.appendChild(li);\n",
              "\n",
              "    const fileDataPromise = new Promise((resolve) => {\n",
              "      const reader = new FileReader();\n",
              "      reader.onload = (e) => {\n",
              "        resolve(e.target.result);\n",
              "      };\n",
              "      reader.readAsArrayBuffer(file);\n",
              "    });\n",
              "    // Wait for the data to be ready.\n",
              "    let fileData = yield {\n",
              "      promise: fileDataPromise,\n",
              "      response: {\n",
              "        action: 'continue',\n",
              "      }\n",
              "    };\n",
              "\n",
              "    // Use a chunked sending to avoid message size limits. See b/62115660.\n",
              "    let position = 0;\n",
              "    do {\n",
              "      const length = Math.min(fileData.byteLength - position, MAX_PAYLOAD_SIZE);\n",
              "      const chunk = new Uint8Array(fileData, position, length);\n",
              "      position += length;\n",
              "\n",
              "      const base64 = btoa(String.fromCharCode.apply(null, chunk));\n",
              "      yield {\n",
              "        response: {\n",
              "          action: 'append',\n",
              "          file: file.name,\n",
              "          data: base64,\n",
              "        },\n",
              "      };\n",
              "\n",
              "      let percentDone = fileData.byteLength === 0 ?\n",
              "          100 :\n",
              "          Math.round((position / fileData.byteLength) * 100);\n",
              "      percent.textContent = `${percentDone}% done`;\n",
              "\n",
              "    } while (position < fileData.byteLength);\n",
              "  }\n",
              "\n",
              "  // All done.\n",
              "  yield {\n",
              "    response: {\n",
              "      action: 'complete',\n",
              "    }\n",
              "  };\n",
              "}\n",
              "\n",
              "scope.google = scope.google || {};\n",
              "scope.google.colab = scope.google.colab || {};\n",
              "scope.google.colab._files = {\n",
              "  _uploadFiles,\n",
              "  _uploadFilesContinue,\n",
              "};\n",
              "})(self);\n",
              "</script> "
            ]
          },
          "metadata": {}
        },
        {
          "output_type": "stream",
          "name": "stdout",
          "text": [
            "Saving book_great-gatsby_plain.txt to book_great-gatsby_plain.txt\n",
            "User uploaded file \"book_great-gatsby_plain.txt\" with length 286442 bytes\n"
          ]
        }
      ]
    },
    {
      "cell_type": "code",
      "source": [
        "# Verify\n",
        "\n",
        "verify_novel(novel_raw_str)"
      ],
      "metadata": {
        "id": "KRiLBvvACAJ8",
        "colab": {
          "base_uri": "https://localhost:8080/"
        },
        "outputId": "06bee612-a28c-4e73-e25c-9cbd9f2ce2ef"
      },
      "execution_count": 18,
      "outputs": [
        {
          "output_type": "stream",
          "name": "stdout",
          "text": [
            "Novel Name: book_great-gatsby_plain.txt\n",
            "  Char Len: 276892\n",
            "====================================\n",
            "\n",
            "Beginning:\n",
            "\n",
            "                               Once again\r\n",
            "                                  to\r\n",
            "                                 Zelda\r\n",
            "\r\n",
            "\r\n",
            "  Then wear the gold hat, if that will move her;\r\n",
            "  If you can bounce high, bounce for her too,\r\n",
            "  Till she cry “Lover, gold-hatted, high-bouncing lover,\r\n",
            "  I must have you!”\r\n",
            "\r\n",
            "  Thomas Parke d’Invilliers\r\n",
            "\r\n",
            "\r\n",
            "                                  I\r\n",
            "\r\n",
            "In my younger and more vulnerable years my father gave me some advice\r\n",
            "that I’ve been turning over in my mind ever since.\r\n",
            "\r\n",
            "“\n",
            "\n",
            "\n",
            "\n",
            "------------------------------------\n",
            "Ending:\n",
            "\n",
            " hardly fail to grasp it. He\r\n",
            "did not know that it was already behind him, somewhere back in that\r\n",
            "vast obscurity beyond the city, where the dark fields of the republic\r\n",
            "rolled on under the night.\r\n",
            "\r\n",
            "Gatsby believed in the green light, the orgastic future that year by\r\n",
            "year recedes before us. It eluded us then, but that’s no\r\n",
            "matter—tomorrow we will run faster, stretch out our arms further … And\r\n",
            "one fine morning—\r\n",
            "\r\n",
            "So we beat on, boats against the current, borne back ceaselessly into\r\n",
            "the past.\n",
            "\n",
            "\n"
          ]
        }
      ]
    },
    {
      "cell_type": "markdown",
      "source": [
        "## Clean Text"
      ],
      "metadata": {
        "id": "Sw5cff-kNOBL"
      }
    },
    {
      "cell_type": "code",
      "source": [
        "!pip install clean-text"
      ],
      "metadata": {
        "id": "-mWoG6U07jU3",
        "colab": {
          "base_uri": "https://localhost:8080/"
        },
        "outputId": "d0dc0ebe-0973-425f-859f-6207422ff546"
      },
      "execution_count": 19,
      "outputs": [
        {
          "output_type": "stream",
          "name": "stdout",
          "text": [
            "Collecting clean-text\n",
            "  Downloading clean_text-0.6.0-py3-none-any.whl.metadata (6.6 kB)\n",
            "Collecting emoji<2.0.0,>=1.0.0 (from clean-text)\n",
            "  Downloading emoji-1.7.0.tar.gz (175 kB)\n",
            "\u001b[?25l     \u001b[90m━━━━━━━━━━━━━━━━━━━━━━━━━━━━━━━━━━━━━━━━\u001b[0m \u001b[32m0.0/175.4 kB\u001b[0m \u001b[31m?\u001b[0m eta \u001b[36m-:--:--\u001b[0m\r\u001b[2K     \u001b[90m━━━━━━━━━━━━━━━━━━━━━━━━━━━━━━━━━━━━━━━━\u001b[0m \u001b[32m175.4/175.4 kB\u001b[0m \u001b[31m6.9 MB/s\u001b[0m eta \u001b[36m0:00:00\u001b[0m\n",
            "\u001b[?25h  Preparing metadata (setup.py) ... \u001b[?25l\u001b[?25hdone\n",
            "Collecting ftfy<7.0,>=6.0 (from clean-text)\n",
            "  Downloading ftfy-6.3.1-py3-none-any.whl.metadata (7.3 kB)\n",
            "Requirement already satisfied: wcwidth in /usr/local/lib/python3.10/dist-packages (from ftfy<7.0,>=6.0->clean-text) (0.2.13)\n",
            "Downloading clean_text-0.6.0-py3-none-any.whl (11 kB)\n",
            "Downloading ftfy-6.3.1-py3-none-any.whl (44 kB)\n",
            "\u001b[2K   \u001b[90m━━━━━━━━━━━━━━━━━━━━━━━━━━━━━━━━━━━━━━━━\u001b[0m \u001b[32m44.8/44.8 kB\u001b[0m \u001b[31m4.2 MB/s\u001b[0m eta \u001b[36m0:00:00\u001b[0m\n",
            "\u001b[?25hBuilding wheels for collected packages: emoji\n",
            "  Building wheel for emoji (setup.py) ... \u001b[?25l\u001b[?25hdone\n",
            "  Created wheel for emoji: filename=emoji-1.7.0-py3-none-any.whl size=171033 sha256=a64f062a76b80e26083c47ed82f531a937c625061568ac66eb9a96c8186c56b3\n",
            "  Stored in directory: /root/.cache/pip/wheels/31/8a/8c/315c9e5d7773f74b33d5ed33f075b49c6eaeb7cedbb86e2cf8\n",
            "Successfully built emoji\n",
            "Installing collected packages: emoji, ftfy, clean-text\n",
            "Successfully installed clean-text-0.6.0 emoji-1.7.0 ftfy-6.3.1\n"
          ]
        }
      ]
    },
    {
      "cell_type": "code",
      "source": [
        "!pip install unidecode  # clean-text dependency"
      ],
      "metadata": {
        "id": "w8TQCzw6ZjTA",
        "colab": {
          "base_uri": "https://localhost:8080/"
        },
        "outputId": "25f27cc9-c9fd-46ec-b81e-244fe34dfba1"
      },
      "execution_count": 20,
      "outputs": [
        {
          "output_type": "stream",
          "name": "stdout",
          "text": [
            "Collecting unidecode\n",
            "  Downloading Unidecode-1.3.8-py3-none-any.whl.metadata (13 kB)\n",
            "Downloading Unidecode-1.3.8-py3-none-any.whl (235 kB)\n",
            "\u001b[?25l   \u001b[90m━━━━━━━━━━━━━━━━━━━━━━━━━━━━━━━━━━━━━━━━\u001b[0m \u001b[32m0.0/235.5 kB\u001b[0m \u001b[31m?\u001b[0m eta \u001b[36m-:--:--\u001b[0m\r\u001b[2K   \u001b[90m━━━━━━━━━━━━━━━━━━━━━━━━━━━━━━━━━━━━━━━━\u001b[0m \u001b[32m235.5/235.5 kB\u001b[0m \u001b[31m15.3 MB/s\u001b[0m eta \u001b[36m0:00:00\u001b[0m\n",
            "\u001b[?25hInstalling collected packages: unidecode\n",
            "Successfully installed unidecode-1.3.8\n"
          ]
        }
      ]
    },
    {
      "cell_type": "code",
      "source": [
        "from cleantext import clean"
      ],
      "metadata": {
        "id": "Tnbwxio8NFs8"
      },
      "execution_count": 21,
      "outputs": []
    },
    {
      "cell_type": "code",
      "source": [
        "novel_clean_str = clean(novel_raw_str,\n",
        "    fix_unicode=True,               # fix various unicode errors\n",
        "    to_ascii=True,                  # transliterate to closest ASCII representation\n",
        "    lower=True,                     # lowercase text\n",
        "    no_line_breaks=False,           # fully strip line breaks as opposed to only normalizing them\n",
        "    no_urls=False,                  # replace all URLs with a special token\n",
        "    no_emails=False,                # replace all email addresses with a special token\n",
        "    no_phone_numbers=False,         # replace all phone numbers with a special token\n",
        "    no_numbers=False,               # replace all numbers with a special token\n",
        "    no_digits=False,                # replace all digits with a special token\n",
        "    no_currency_symbols=False,      # replace all currency symbols with a special token\n",
        "    no_punct=False,                 # remove punctuations\n",
        "    # replace_with_punct=\"\",          # instead of removing punctuations you may replace them\n",
        "    # replace_with_url=\"<URL>\",\n",
        "    # replace_with_email=\"<EMAIL>\",\n",
        "    # replace_with_phone_number=\"<PHONE>\",\n",
        "    # replace_with_number=\"<NUMBER>\",\n",
        "    # replace_with_digit=\"0\",\n",
        "    # replace_with_currency_symbol=\"<CUR>\",\n",
        "    lang=\"en\"                       # set to 'de' for German special handling\n",
        ")\n",
        "\n",
        "# Replace all new lines/returns with single whitespace\n",
        "novel_clean_str = novel_clean_str.replace('\\n\\r', ' ')\n",
        "novel_clean_str = novel_clean_str.replace('\\n', ' ')\n",
        "novel_clean_str = novel_clean_str.replace('\\r', ' ')\n",
        "novel_clean_str = ' '.join(novel_clean_str.split())\n",
        "novel_clean_str"
      ],
      "metadata": {
        "id": "TRTdmakW8tO_",
        "colab": {
          "base_uri": "https://localhost:8080/",
          "height": 122
        },
        "outputId": "75b84571-f40b-4b2c-bf29-a16f2a0a1f43"
      },
      "execution_count": 22,
      "outputs": [
        {
          "output_type": "execute_result",
          "data": {
            "text/plain": [
              "'once again to zelda then wear the gold hat, if that will move her; if you can bounce high, bounce for her too, till she cry \"lover, gold-hatted, high-bouncing lover, i must have you!\" thomas parke d\\'invilliers i in my younger and more vulnerable years my father gave me some advice that i\\'ve been turning over in my mind ever since. \"whenever you feel like criticizing anyone,\" he told me, \"just remember that all the people in this world haven\\'t had the advantages that you\\'ve had.\" he didn\\'t say any more, but we\\'ve always been unusually communicative in a reserved way, and i understood that he meant a great deal more than that. in consequence, i\\'m inclined to reserve all judgements, a habit that has opened up many curious natures to me and also made me the victim of not a few veteran bores. the abnormal mind is quick to detect and attach itself to this quality when it appears in a normal person, and so it came about that in college i was unjustly accused of being a politician, because i was privy to the secret griefs of wild, unknown men. most of the confidences were unsought--frequently i have feigned sleep, preoccupation, or a hostile levity when i realized by some unmistakable sign that an intimate revelation was quivering on the horizon; for the intimate revelations of young men, or at least the terms in which they express them, are usually plagiaristic and marred by obvious suppressions. reserving judgements is a matter of infinite hope. i am still a little afraid of missing something if i forget that, as my father snobbishly suggested, and i snobbishly repeat, a sense of the fundamental decencies is parcelled out unequally at birth. and, after boasting this way of my tolerance, i come to the admission that it has a limit. conduct may be founded on the hard rock or the wet marshes, but after a certain point i don\\'t care what it\\'s founded on. when i came back from the east last autumn i felt that i wanted the world to be in uniform and at a sort of moral attention forever; i wanted no more riotous excursions with privileged glimpses into the human heart. only gatsby, the man who gives his name to this book, was exempt from my reaction--gatsby, who represented everything for which i have an unaffected scorn. if personality is an unbroken series of successful gestures, then there was something gorgeous about him, some heightened sensitivity to the promises of life, as if he were related to one of those intricate machines that register earthquakes ten thousand miles away. this responsiveness had nothing to do with that flabby impressionability which is dignified under the name of the \"creative temperament\"--it was an extraordinary gift for hope, a romantic readiness such as i have never found in any other person and which it is not likely i shall ever find again. no--gatsby turned out all right at the end; it is what preyed on gatsby, what foul dust floated in the wake of his dreams that temporarily closed out my interest in the abortive sorrows and short-winded elations of men. ------------------------------------------------------------------------ my family have been prominent, well-to-do people in this middle western city for three generations. the carraways are something of a clan, and we have a tradition that we\\'re descended from the dukes of buccleuch, but the actual founder of my line was my grandfather\\'s brother, who came here in fifty-one, sent a substitute to the civil war, and started the wholesale hardware business that my father carries on today. i never saw this great-uncle, but i\\'m supposed to look like him--with special reference to the rather hard-boiled painting that hangs in father\\'s office. i graduated from new haven in 1915, just a quarter of a century after my father, and a little later i participated in that delayed teutonic migration known as the great war. i enjoyed the counter-raid so thoroughly that i came back restless. instead of being the warm centre of the world, the middle west now seemed like the ragged edge of the universe--so i decided to go east and learn the bond business. everybody i knew was in the bond business, so i supposed it could support one more single man. all my aunts and uncles talked it over as if they were choosing a prep school for me, and finally said, \"why--ye-es,\" with very grave, hesitant faces. father agreed to finance me for a year, and after various delays i came east, permanently, i thought, in the spring of twenty-two. the practical thing was to find rooms in the city, but it was a warm season, and i had just left a country of wide lawns and friendly trees, so when a young man at the office suggested that we take a house together in a commuting town, it sounded like a great idea. he found the house, a weather-beaten cardboard bungalow at eighty a month, but at the last minute the firm ordered him to washington, and i went out to the country alone. i had a dog--at least i had him for a few days until he ran away--and an old dodge and a finnish woman, who made my bed and cooked breakfast and muttered finnish wisdom to herself over the electric stove. it was lonely for a day or so until one morning some man, more recently arrived than i, stopped me on the road. \"how do you get to west egg village?\" he asked helplessly. i told him. and as i walked on i was lonely no longer. i was a guide, a pathfinder, an original settler. he had casually conferred on me the freedom of the neighbourhood. and so with the sunshine and the great bursts of leaves growing on the trees, just as things grow in fast movies, i had that familiar conviction that life was beginning over again with the summer. there was so much to read, for one thing, and so much fine health to be pulled down out of the young breath-giving air. i bought a dozen volumes on banking and credit and investment securities, and they stood on my shelf in red and gold like new money from the mint, promising to unfold the shining secrets that only midas and morgan and maecenas knew. and i had the high intention of reading many other books besides. i was rather literary in college--one year i wrote a series of very solemn and obvious editorials for the yale news--and now i was going to bring back all such things into my life and become again that most limited of all specialists, the \"well-rounded man.\" this isn\\'t just an epigram--life is much more successfully looked at from a single window, after all. it was a matter of chance that i should have rented a house in one of the strangest communities in north america. it was on that slender riotous island which extends itself due east of new york--and where there are, among other natural curiosities, two unusual formations of land. twenty miles from the city a pair of enormous eggs, identical in contour and separated only by a courtesy bay, jut out into the most domesticated body of salt water in the western hemisphere, the great wet barnyard of long island sound. they are not perfect ovals--like the egg in the columbus story, they are both crushed flat at the contact end--but their physical resemblance must be a source of perpetual wonder to the gulls that fly overhead. to the wingless a more interesting phenomenon is their dissimilarity in every particular except shape and size. i lived at west egg, the--well, the less fashionable of the two, though this is a most superficial tag to express the bizarre and not a little sinister contrast between them. my house was at the very tip of the egg, only fifty yards from the sound, and squeezed between two huge places that rented for twelve or fifteen thousand a season. the one on my right was a colossal affair by any standard--it was a factual imitation of some hotel de ville in normandy, with a tower on one side, spanking new under a thin beard of raw ivy, and a marble swimming pool, and more than forty acres of lawn and garden. it was gatsby\\'s mansion. or, rather, as i didn\\'t know mr. gatsby, it was a mansion inhabited by a gentleman of that name. my own house was an eyesore, but it was a small eyesore, and it had been overlooked, so i had a view of the water, a partial view of my neighbour\\'s lawn, and the consoling proximity of millionaires--all for eighty dollars a month. across the courtesy bay the white palaces of fashionable east egg glittered along the water, and the history of the summer really begins on the evening i drove over there to have dinner with the tom buchanans. daisy was my second cousin once removed, and i\\'d known tom in college. and just after the war i spent two days with them in chicago. her husband, among various physical accomplishments, had been one of the most powerful ends that ever played football at new haven--a national figure in a way, one of those men who reach such an acute limited excellence at twenty-one that everything afterward savours of anticlimax. his family were enormously wealthy--even in college his freedom with money was a matter for reproach--but now he\\'d left chicago and come east in a fashion that rather took your breath away: for instance, he\\'d brought down a string of polo ponies from lake forest. it was hard to realize that a man in my own generation was wealthy enough to do that. why they came east i don\\'t know. they had spent a year in france for no particular reason, and then drifted here and there unrestfully wherever people played polo and were rich together. this was a permanent move, said daisy over the telephone, but i didn\\'t believe it--i had no sight into daisy\\'s heart, but i felt that tom would drift on forever seeking, a little wistfully, for the dramatic turbulence of some irrecoverable football game. and so it happened that on a warm windy evening i drove over to east egg to see two old friends whom i scarcely knew at all. their house was even more elaborate than i expected, a cheerful red-and-white georgian colonial mansion, overlooking the bay. the lawn started at the beach and ran towards the front door for a quarter of a mile, jumping over sundials and brick walks and burning gardens--finally when it reached the house drifting up the side in bright vines as though from the momentum of its run. the front was broken by a line of french windows, glowing now with reflected gold and wide open to the warm windy afternoon, and tom buchanan in riding clothes was standing with his legs apart on the front porch. he had changed since his new haven years. now he was a sturdy straw-haired man of thirty, with a rather hard mouth and a supercilious manner. two shining arrogant eyes had established dominance over his face and gave him the appearance of always leaning aggressively forward. not even the effeminate swank of his riding clothes could hide the enormous power of that body--he seemed to fill those glistening boots until he strained the top lacing, and you could see a great pack of muscle shifting when his shoulder moved under his thin coat. it was a body capable of enormous leverage--a cruel body. his speaking voice, a gruff husky tenor, added to the impression of fractiousness he conveyed. there was a touch of paternal contempt in it, even toward people he liked--and there were men at new haven who had hated his guts. \"now, don\\'t think my opinion on these matters is final,\" he seemed to say, \"just because i\\'m stronger and more of a man than you are.\" we were in the same senior society, and while we were never intimate i always had the impression that he approved of me and wanted me to like him with some harsh, defiant wistfulness of his own. we talked for a few minutes on the sunny porch. \"i\\'ve got a nice place here,\" he said, his eyes flashing about restlessly. turning me around by one arm, he moved a broad flat hand along the front vista, including in its sweep a sunken italian garden, a half acre of deep, pungent roses, and a snub-nosed motorboat that bumped the tide offshore. \"it belonged to demaine, the oil man.\" he turned me around again, politely and abruptly. \"we\\'ll go inside.\" we walked through a high hallway into a bright rosy-coloured space, fragilely bound into the house by french windows at either end. the windows were ajar and gleaming white against the fresh grass outside that seemed to grow a little way into the house. a breeze blew through the room, blew curtains in at one end and out the other like pale flags, twisting them up toward the frosted wedding-cake of the ceiling, and then rippled over the wine-coloured rug, making a shadow on it as wind does on the sea. the only completely stationary object in the room was an enormous couch on which two young women were buoyed up as though upon an anchored balloon. they were both in white, and their dresses were rippling and fluttering as if they had just been blown back in after a short flight around the house. i must have stood for a few moments listening to the whip and snap of the curtains and the groan of a picture on the wall. then there was a boom as tom buchanan shut the rear windows and the caught wind died out about the room, and the curtains and the rugs and the two young women ballooned slowly to the floor. the younger of the two was a stranger to me. she was extended full length at her end of the divan, completely motionless, and with her chin raised a little, as if she were balancing something on it which was quite likely to fall. if she saw me out of the corner of her eyes she gave no hint of it--indeed, i was almost surprised into murmuring an apology for having disturbed her by coming in. the other girl, daisy, made an attempt to rise--she leaned slightly forward with a conscientious expression--then she laughed, an absurd, charming little laugh, and i laughed too and came forward into the room. \"i\\'m p-paralysed with happiness.\" she laughed again, as if she said something very witty, and held my hand for a moment, looking up into my face, promising that there was no one in the world she so much wanted to see. that was a way she had. she hinted in a murmur that the surname of the balancing girl was baker. (i\\'ve heard it said that daisy\\'s murmur was only to make people lean toward her; an irrelevant criticism that made it no less charming.) at any rate, miss baker\\'s lips fluttered, she nodded at me almost imperceptibly, and then quickly tipped her head back again--the object she was balancing had obviously tottered a little and given her something of a fright. again a sort of apology arose to my lips. almost any exhibition of complete self-sufficiency draws a stunned tribute from me. i looked back at my cousin, who began to ask me questions in her low, thrilling voice. it was the kind of voice that the ear follows up and down, as if each speech is an arrangement of notes that will never be played again. her face was sad and lovely with bright things in it, bright eyes and a bright passionate mouth, but there was an excitement in her voice that men who had cared for her found difficult to forget: a singing compulsion, a whispered \"listen,\" a promise that she had done gay, exciting things just a while since and that there were gay, exciting things hovering in the next hour. i told her how i had stopped off in chicago for a day on my way east, and how a dozen people had sent their love through me. \"do they miss me?\" she cried ecstatically. \"the whole town is desolate. all the cars have the left rear wheel painted black as a mourning wreath, and there\\'s a persistent wail all night along the north shore.\" \"how gorgeous! let\\'s go back, tom. tomorrow!\" then she added irrelevantly: \"you ought to see the baby.\" \"i\\'d like to.\" \"she\\'s asleep. she\\'s three years old. haven\\'t you ever seen her?\" \"never.\" \"well, you ought to see her. she\\'s--\" tom buchanan, who had been hovering restlessly about the room, stopped and rested his hand on my shoulder. \"what you doing, nick?\" \"i\\'m a bond man.\" \"who with?\" i told him. \"never heard of them,\" he remarked decisively. this annoyed me. \"you will,\" i answered shortly. \"you will if you stay in the east.\" \"oh, i\\'ll stay in the east, don\\'t you worry,\" he said, glancing at daisy and then back at me, as if he were alert for something more. \"i\\'d be a god damned fool to live anywhere else.\" at this point miss baker said: \"absolutely!\" with such suddenness that i started--it was the first word she had uttered since i came into the room. evidently it surprised her as much as it did me, for she yawned and with a series of rapid, deft movements stood up into the room. \"i\\'m stiff,\" she complained, \"i\\'ve been lying on that sofa for as long as i can remember.\" \"don\\'t look at me,\" daisy retorted, \"i\\'ve been trying to get you to new york all afternoon.\" \"no, thanks,\" said miss baker to the four cocktails just in from the pantry. \"i\\'m absolutely in training.\" her host looked at her incredulously. \"you are!\" he took down his drink as if it were a drop in the bottom of a glass. \"how you ever get anything done is beyond me.\" i looked at miss baker, wondering what it was she \"got done.\" i enjoyed looking at her. she was a slender, small-breasted girl, with an erect carriage, which she accentuated by throwing her body backward at the shoulders like a young cadet. her grey sun-strained eyes looked back at me with polite reciprocal curiosity out of a wan, charming, discontented face. it occurred to me now that i had seen her, or a picture of her, somewhere before. \"you live in west egg,\" she remarked contemptuously. \"i know somebody there.\" \"i don\\'t know a single--\" \"you must know gatsby.\" \"gatsby?\" demanded daisy. \"what gatsby?\" before i could reply that he was my neighbour dinner was announced; wedging his tense arm imperatively under mine, tom buchanan compelled me from the room as though he were moving a checker to another square. slenderly, languidly, their hands set lightly on their hips, the two young women preceded us out on to a rosy-coloured porch, open toward the sunset, where four candles flickered on the table in the diminished wind. \"why candles?\" objected daisy, frowning. she snapped them out with her fingers. \"in two weeks it\\'ll be the longest day in the year.\" she looked at us all radiantly. \"do you always watch for the longest day of the year and then miss it? i always watch for the longest day in the year and then miss it.\" \"we ought to plan something,\" yawned miss baker, sitting down at the table as if she were getting into bed. \"all right,\" said daisy. \"what\\'ll we plan?\" she turned to me helplessly: \"what do people plan?\" before i could answer her eyes fastened with an awed expression on her little finger. \"look!\" she complained; \"i hurt it.\" we all looked--the knuckle was black and blue. \"you did it, tom,\" she said accusingly. \"i know you didn\\'t mean to, but you did do it. that\\'s what i get for marrying a brute of a man, a great, big, hulking physical specimen of a--\" \"i hate that word \\'hulking,\\' \" objected tom crossly, \"even in kidding.\" \"hulking,\" insisted daisy. sometimes she and miss baker talked at once, unobtrusively and with a bantering inconsequence that was never quite chatter, that was as cool as their white dresses and their impersonal eyes in the absence of all desire. they were here, and they accepted tom and me, making only a polite pleasant effort to entertain or to be entertained. they knew that presently dinner would be over and a little later the evening too would be over and casually put away. it was sharply different from the west, where an evening was hurried from phase to phase towards its close, in a continually disappointed anticipation or else in sheer nervous dread of the moment itself. \"you make me feel uncivilized, daisy,\" i confessed on my second glass of corky but rather impressive claret. \"can\\'t you talk about crops or something?\" i meant nothing in particular by this remark, but it was taken up in an unexpected way. \"civilization\\'s going to pieces,\" broke out tom violently. \"i\\'ve gotten to be a terrible pessimist about things. have you read the rise of the coloured empires by this man goddard?\" \"why, no,\" i answered, rather surprised by his tone. \"well, it\\'s a fine book, and everybody ought to read it. the idea is if we don\\'t look out the white race will be--will be utterly submerged. it\\'s all scientific stuff; it\\'s been proved.\" \"tom\\'s getting very profound,\" said daisy, with an expression of unthoughtful sadness. \"he reads deep books with long words in them. what was that word we--\" \"well, these books are all scientific,\" insisted tom, glancing at her impatiently. \"this fellow has worked out the whole thing. it\\'s up to us, who are the dominant race, to watch out or these other races will have control of things.\" \"we\\'ve got to beat them down,\" whispered daisy, winking ferociously toward the fervent sun. \"you ought to live in california--\" began miss baker, but tom interrupted her by shifting heavily in his chair. \"this idea is that we\\'re nordics. i am, and you are, and you are, and--\" after an infinitesimal hesitation he included daisy with a slight nod, and she winked at me again. \"--and we\\'ve produced all the things that go to make civilization--oh, science and art, and all that. do you see?\" there was something pathetic in his concentration, as if his complacency, more acute than of old, was not enough to him any more. when, almost immediately, the telephone rang inside and the butler left the porch daisy seized upon the momentary interruption and leaned towards me. \"i\\'ll tell you a family secret,\" she whispered enthusiastically. \"it\\'s about the butler\\'s nose. do you want to hear about the butler\\'s nose?\" \"that\\'s why i came over tonight.\" \"well, he wasn\\'t always a butler; he used to be the silver polisher for some people in new york that had a silver service for two hundred people. he had to polish it from morning till night, until finally it began to affect his nose--\" \"things went from bad to worse,\" suggested miss baker. \"yes. things went from bad to worse, until finally he had to give up his position.\" for a moment the last sunshine fell with romantic affection upon her glowing face; her voice compelled me forward breathlessly as i listened--then the glow faded, each light deserting her with lingering regret, like children leaving a pleasant street at dusk. the butler came back and murmured something close to tom\\'s ear, whereupon tom frowned, pushed back his chair, and without a word went inside. as if his absence quickened something within her, daisy leaned forward again, her voice glowing and singing. \"i love to see you at my table, nick. you remind me of a--of a rose, an absolute rose. doesn\\'t he?\" she turned to miss baker for confirmation: \"an absolute rose?\" this was untrue. i am not even faintly like a rose. she was only extemporizing, but a stirring warmth flowed from her, as if her heart was trying to come out to you concealed in one of those breathless, thrilling words. then suddenly she threw her napkin on the table and excused herself and went into the house. miss baker and i exchanged a short glance consciously devoid of meaning. i was about to speak when she sat up alertly and said \"sh!\" in a warning voice. a subdued impassioned murmur was audible in the room beyond, and miss baker leaned forward unashamed, trying to hear. the murmur trembled on the verge of coherence, sank down, mounted excitedly, and then ceased altogether. \"this mr. gatsby you spoke of is my neighbour--\" i began. \"don\\'t talk. i want to hear what happens.\" \"is something happening?\" i inquired innocently. \"you mean to say you don\\'t know?\" said miss baker, honestly surprised. \"i thought everybody knew.\" \"i don\\'t.\" \"why--\" she said hesitantly. \"tom\\'s got some woman in new york.\" \"got some woman?\" i repeated blankly. miss baker nodded. \"she might have the decency not to telephone him at dinner time. don\\'t you think?\" almost before i had grasped her meaning there was the flutter of a dress and the crunch of leather boots, and tom and daisy were back at the table. \"it couldn\\'t be helped!\" cried daisy with tense gaiety. she sat down, glanced searchingly at miss baker and then at me, and continued: \"i looked outdoors for a minute, and it\\'s very romantic outdoors. there\\'s a bird on the lawn that i think must be a nightingale come over on the cunard or white star line. he\\'s singing away--\" her voice sang: \"it\\'s romantic, isn\\'t it, tom?\" \"very romantic,\" he said, and then miserably to me: \"if it\\'s light enough after dinner, i want to take you down to the stables.\" the telephone rang inside, startlingly, and as daisy shook her head decisively at tom the subject of the stables, in fact all subjects, vanished into air. among the broken fragments of the last five minutes at table i remember the candles being lit again, pointlessly, and i was conscious of wanting to look squarely at everyone, and yet to avoid all eyes. i couldn\\'t guess what daisy and tom were thinking, but i doubt if even miss baker, who seemed to have mastered a certain hardy scepticism, was able utterly to put this fifth guest\\'s shrill metallic urgency out of mind. to a certain temperament the situation might have seemed intriguing--my own instinct was to telephone immediately for the police. the horses, needless to say, were not mentioned again. tom and miss baker, with several feet of twilight between them, strolled back into the library, as if to a vigil beside a perfectly tangible body, while, trying to look pleasantly interested and a little deaf, i followed daisy around a chain of connecting verandas to the porch in front. in its deep gloom we sat down side by side on a wicker settee. daisy took her face in her hands as if feeling its lovely shape, and her eyes moved gradually out into the velvet dusk. i saw that turbulent emotions possessed her, so i asked what i thought would be some sedative questions about her little girl. \"we don\\'t know each other very well, nick,\" she said suddenly. \"even if we are cousins. you didn\\'t come to my wedding.\" \"i wasn\\'t back from the war.\" \"that\\'s true.\" she hesitated. \"well, i\\'ve had a very bad time, nick, and i\\'m pretty cynical about everything.\" evidently she had reason to be. i waited but she didn\\'t say any more, and after a moment i returned rather feebly to the subject of her daughter. \"i suppose she talks, and--eats, and everything.\" \"oh, yes.\" she looked at me absently. \"listen, nick; let me tell you what i said when she was born. would you like to hear?\" \"very much.\" \"it\\'ll show you how i\\'ve gotten to feel about--things. well, she was less than an hour old and tom was god knows where. i woke up out of the ether with an utterly abandoned feeling, and asked the nurse right away if it was a boy or a girl. she told me it was a girl, and so i turned my head away and wept. \\'all right,\\' i said, \\'i\\'m glad it\\'s a girl. and i hope she\\'ll be a fool--that\\'s the best thing a girl can be in this world, a beautiful little fool.\\' \"you see i think everything\\'s terrible anyhow,\" she went on in a convinced way. \"everybody thinks so--the most advanced people. and i know. i\\'ve been everywhere and seen everything and done everything.\" her eyes flashed around her in a defiant way, rather like tom\\'s, and she laughed with thrilling scorn. \"sophisticated--god, i\\'m sophisticated!\" the instant her voice broke off, ceasing to compel my attention, my belief, i felt the basic insincerity of what she had said. it made me uneasy, as though the whole evening had been a trick of some sort to exact a contributory emotion from me. i waited, and sure enough, in a moment she looked at me with an absolute smirk on her lovely face, as if she had asserted her membership in a rather distinguished secret society to which she and tom belonged. ------------------------------------------------------------------------ inside, the crimson room bloomed with light. tom and miss baker sat at either end of the long couch and she read aloud to him from the saturday evening post--the words, murmurous and uninflected, running together in a soothing tune. the lamplight, bright on his boots and dull on the autumn-leaf yellow of her hair, glinted along the paper as she turned a page with a flutter of slender muscles in her arms. when we came in she held us silent for a moment with a lifted hand. \"to be continued,\" she said, tossing the magazine on the table, \"in our very next issue.\" her body asserted itself with a restless movement of her knee, and she stood up. \"ten o\\'clock,\" she remarked, apparently finding the time on the ceiling. \"time for this good girl to go to bed.\" \"jordan\\'s going to play in the tournament tomorrow,\" explained daisy, \"over at westchester.\" \"oh--you\\'re jordan baker.\" i knew now why her face was familiar--its pleasing contemptuous expression had looked out at me from many rotogravure pictures of the sporting life at asheville and hot springs and palm beach. i had heard some story of her too, a critical, unpleasant story, but what it was i had forgotten long ago. \"good night,\" she said softly. \"wake me at eight, won\\'t you.\" \"if you\\'ll get up.\" \"i will. good night, mr. carraway. see you anon.\" \"of course you will,\" confirmed daisy. \"in fact i think i\\'ll arrange a marriage. come over often, nick, and i\\'ll sort of--oh--fling you together. you know--lock you up accidentally in linen closets and push you out to sea in a boat, and all that sort of thing--\" \"good night,\" called miss baker from the stairs. \"i haven\\'t heard a word.\" \"she\\'s a nice girl,\" said tom after a moment. \"they oughtn\\'t to let her run around the country this way.\" \"who oughtn\\'t to?\" inquired daisy coldly. \"her family.\" \"her family is one aunt about a thousand years old. besides, nick\\'s going to look after her, aren\\'t you, nick? she\\'s going to spend lots of weekends out here this summer. i think the home influence will be very good for her.\" daisy and tom looked at each other for a moment in silence. \"is she from new york?\" i asked quickly. \"from louisville. our white girlhood was passed together there. our beautiful white--\" \"did you give nick a little heart to heart talk on the veranda?\" demanded tom suddenly. \"did i?\" she looked at me. \"i can\\'t seem to remember, but i think we talked about the nordic race. yes, i\\'m sure we did. it sort of crept up on us and first thing you know--\" \"don\\'t believe everything you hear, nick,\" he advised me. i said lightly that i had heard nothing at all, and a few minutes later i got up to go home. they came to the door with me and stood side by side in a cheerful square of light. as i started my motor daisy peremptorily called: \"wait! \"i forgot to ask you something, and it\\'s important. we heard you were engaged to a girl out west.\" \"that\\'s right,\" corroborated tom kindly. \"we heard that you were engaged.\" \"it\\'s a libel. i\\'m too poor.\" \"but we heard it,\" insisted daisy, surprising me by opening up again in a flower-like way. \"we heard it from three people, so it must be true.\" of course i knew what they were referring to, but i wasn\\'t even vaguely engaged. the fact that gossip had published the banns was one of the reasons i had come east. you can\\'t stop going with an old friend on account of rumours, and on the other hand i had no intention of being rumoured into marriage. their interest rather touched me and made them less remotely rich--nevertheless, i was confused and a little disgusted as i drove away. it seemed to me that the thing for daisy to do was to rush out of the house, child in arms--but apparently there were no such intentions in her head. as for tom, the fact that he \"had some woman in new york\" was really less surprising than that he had been depressed by a book. something was making him nibble at the edge of stale ideas as if his sturdy physical egotism no longer nourished his peremptory heart. already it was deep summer on roadhouse roofs and in front of wayside garages, where new red petrol-pumps sat out in pools of light, and when i reached my estate at west egg i ran the car under its shed and sat for a while on an abandoned grass roller in the yard. the wind had blown off, leaving a loud, bright night, with wings beating in the trees and a persistent organ sound as the full bellows of the earth blew the frogs full of life. the silhouette of a moving cat wavered across the moonlight, and, turning my head to watch it, i saw that i was not alone--fifty feet away a figure had emerged from the shadow of my neighbour\\'s mansion and was standing with his hands in his pockets regarding the silver pepper of the stars. something in his leisurely movements and the secure position of his feet upon the lawn suggested that it was mr. gatsby himself, come out to determine what share was his of our local heavens. i decided to call to him. miss baker had mentioned him at dinner, and that would do for an introduction. but i didn\\'t call to him, for he gave a sudden intimation that he was content to be alone--he stretched out his arms toward the dark water in a curious way, and, far as i was from him, i could have sworn he was trembling. involuntarily i glanced seaward--and distinguished nothing except a single green light, minute and far away, that might have been the end of a dock. when i looked once more for gatsby he had vanished, and i was alone again in the unquiet darkness. ii about halfway between west egg and new york the motor road hastily joins the railroad and runs beside it for a quarter of a mile, so as to shrink away from a certain desolate area of land. this is a valley of ashes--a fantastic farm where ashes grow like wheat into ridges and hills and grotesque gardens; where ashes take the forms of houses and chimneys and rising smoke and, finally, with a transcendent effort, of ash-grey men, who move dimly and already crumbling through the powdery air. occasionally a line of grey cars crawls along an invisible track, gives out a ghastly creak, and comes to rest, and immediately the ash-grey men swarm up with leaden spades and stir up an impenetrable cloud, which screens their obscure operations from your sight. but above the grey land and the spasms of bleak dust which drift endlessly over it, you perceive, after a moment, the eyes of doctor t. j. eckleburg. the eyes of doctor t. j. eckleburg are blue and gigantic--their retinas are one yard high. they look out of no face, but, instead, from a pair of enormous yellow spectacles which pass over a nonexistent nose. evidently some wild wag of an oculist set them there to fatten his practice in the borough of queens, and then sank down himself into eternal blindness, or forgot them and moved away. but his eyes, dimmed a little by many paintless days, under sun and rain, brood on over the solemn dumping ground. the valley of ashes is bounded on one side by a small foul river, and, when the drawbridge is up to let barges through, the passengers on waiting trains can stare at the dismal scene for as long as half an hour. there is always a halt there of at least a minute, and it was because of this that i first met tom buchanan\\'s mistress. the fact that he had one was insisted upon wherever he was known. his acquaintances resented the fact that he turned up in popular cafes with her and, leaving her at a table, sauntered about, chatting with whomsoever he knew. though i was curious to see her, i had no desire to meet her--but i did. i went up to new york with tom on the train one afternoon, and when we stopped by the ash-heaps he jumped to his feet and, taking hold of my elbow, literally forced me from the car. \"we\\'re getting off,\" he insisted. \"i want you to meet my girl.\" i think he\\'d tanked up a good deal at luncheon, and his determination to have my company bordered on violence. the supercilious assumption was that on sunday afternoon i had nothing better to do. i followed him over a low whitewashed railroad fence, and we walked back a hundred yards along the road under doctor eckleburg\\'s persistent stare. the only building in sight was a small block of yellow brick sitting on the edge of the waste land, a sort of compact main street ministering to it, and contiguous to absolutely nothing. one of the three shops it contained was for rent and another was an all-night restaurant, approached by a trail of ashes; the third was a garage--repairs. george b. wilson. cars bought and sold.--and i followed tom inside. the interior was unprosperous and bare; the only car visible was the dust-covered wreck of a ford which crouched in a dim corner. it had occurred to me that this shadow of a garage must be a blind, and that sumptuous and romantic apartments were concealed overhead, when the proprietor himself appeared in the door of an office, wiping his hands on a piece of waste. he was a blond, spiritless man, anaemic, and faintly handsome. when he saw us a damp gleam of hope sprang into his light blue eyes. \"hello, wilson, old man,\" said tom, slapping him jovially on the shoulder. \"how\\'s business?\" \"i can\\'t complain,\" answered wilson unconvincingly. \"when are you going to sell me that car?\" \"next week; i\\'ve got my man working on it now.\" \"works pretty slow, don\\'t he?\" \"no, he doesn\\'t,\" said tom coldly. \"and if you feel that way about it, maybe i\\'d better sell it somewhere else after all.\" \"i don\\'t mean that,\" explained wilson quickly. \"i just meant--\" his voice faded off and tom glanced impatiently around the garage. then i heard footsteps on a stairs, and in a moment the thickish figure of a woman blocked out the light from the office door. she was in the middle thirties, and faintly stout, but she carried her flesh sensuously as some women can. her face, above a spotted dress of dark blue crepe-de-chine, contained no facet or gleam of beauty, but there was an immediately perceptible vitality about her as if the nerves of her body were continually smouldering. she smiled slowly and, walking through her husband as if he were a ghost, shook hands with tom, looking him flush in the eye. then she wet her lips, and without turning around spoke to her husband in a soft, coarse voice: \"get some chairs, why don\\'t you, so somebody can sit down.\" \"oh, sure,\" agreed wilson hurriedly, and went toward the little office, mingling immediately with the cement colour of the walls. a white ashen dust veiled his dark suit and his pale hair as it veiled everything in the vicinity--except his wife, who moved close to tom. \"i want to see you,\" said tom intently. \"get on the next train.\" \"all right.\" \"i\\'ll meet you by the newsstand on the lower level.\" she nodded and moved away from him just as george wilson emerged with two chairs from his office door. we waited for her down the road and out of sight. it was a few days before the fourth of july, and a grey, scrawny italian child was setting torpedoes in a row along the railroad track. \"terrible place, isn\\'t it,\" said tom, exchanging a frown with doctor eckleburg. \"awful.\" \"it does her good to get away.\" \"doesn\\'t her husband object?\" \"wilson? he thinks she goes to see her sister in new york. he\\'s so dumb he doesn\\'t know he\\'s alive.\" so tom buchanan and his girl and i went up together to new york--or not quite together, for mrs. wilson sat discreetly in another car. tom deferred that much to the sensibilities of those east eggers who might be on the train. she had changed her dress to a brown figured muslin, which stretched tight over her rather wide hips as tom helped her to the platform in new york. at the newsstand she bought a copy of town tattle and a moving-picture magazine, and in the station drugstore some cold cream and a small flask of perfume. upstairs, in the solemn echoing drive she let four taxicabs drive away before she selected a new one, lavender-coloured with grey upholstery, and in this we slid out from the mass of the station into the glowing sunshine. but immediately she turned sharply from the window and, leaning forward, tapped on the front glass. \"i want to get one of those dogs,\" she said earnestly. \"i want to get one for the apartment. they\\'re nice to have--a dog.\" we backed up to a grey old man who bore an absurd resemblance to john d. rockefeller. in a basket swung from his neck cowered a dozen very recent puppies of an indeterminate breed. \"what kind are they?\" asked mrs. wilson eagerly, as he came to the taxi-window. \"all kinds. what kind do you want, lady?\" \"i\\'d like to get one of those police dogs; i don\\'t suppose you got that kind?\" the man peered doubtfully into the basket, plunged in his hand and drew one up, wriggling, by the back of the neck. \"that\\'s no police dog,\" said tom. \"no, it\\'s not exactly a police dog,\" said the man with disappointment in his voice. \"it\\'s more of an airedale.\" he passed his hand over the brown washrag of a back. \"look at that coat. some coat. that\\'s a dog that\\'ll never bother you with catching cold.\" \"i think it\\'s cute,\" said mrs. wilson enthusiastically. \"how much is it?\" \"that dog?\" he looked at it admiringly. \"that dog will cost you ten dollars.\" the airedale--undoubtedly there was an airedale concerned in it somewhere, though its feet were startlingly white--changed hands and settled down into mrs. wilson\\'s lap, where she fondled the weatherproof coat with rapture. \"is it a boy or a girl?\" she asked delicately. \"that dog? that dog\\'s a boy.\" \"it\\'s a bitch,\" said tom decisively. \"here\\'s your money. go and buy ten more dogs with it.\" we drove over to fifth avenue, warm and soft, almost pastoral, on the summer sunday afternoon. i wouldn\\'t have been surprised to see a great flock of white sheep turn the corner. \"hold on,\" i said, \"i have to leave you here.\" \"no you don\\'t,\" interposed tom quickly. \"myrtle\\'ll be hurt if you don\\'t come up to the apartment. won\\'t you, myrtle?\" \"come on,\" she urged. \"i\\'ll telephone my sister catherine. she\\'s said to be very beautiful by people who ought to know.\" \"well, i\\'d like to, but--\" we went on, cutting back again over the park toward the west hundreds. at 158th street the cab stopped at one slice in a long white cake of apartment-houses. throwing a regal homecoming glance around the neighbourhood, mrs. wilson gathered up her dog and her other purchases, and went haughtily in. \"i\\'m going to have the mckees come up,\" she announced as we rose in the elevator. \"and, of course, i got to call up my sister, too.\" the apartment was on the top floor--a small living-room, a small dining-room, a small bedroom, and a bath. the living-room was crowded to the doors with a set of tapestried furniture entirely too large for it, so that to move about was to stumble continually over scenes of ladies swinging in the gardens of versailles. the only picture was an over-enlarged photograph, apparently a hen sitting on a blurred rock. looked at from a distance, however, the hen resolved itself into a bonnet, and the countenance of a stout old lady beamed down into the room. several old copies of town tattle lay on the table together with a copy of simon called peter, and some of the small scandal magazines of broadway. mrs. wilson was first concerned with the dog. a reluctant elevator boy went for a box full of straw and some milk, to which he added on his own initiative a tin of large, hard dog biscuits--one of which decomposed apathetically in the saucer of milk all afternoon. meanwhile tom brought out a bottle of whisky from a locked bureau door. i have been drunk just twice in my life, and the second time was that afternoon; so everything that happened has a dim, hazy cast over it, although until after eight o\\'clock the apartment was full of cheerful sun. sitting on tom\\'s lap mrs. wilson called up several people on the telephone; then there were no cigarettes, and i went out to buy some at the drugstore on the corner. when i came back they had both disappeared, so i sat down discreetly in the living-room and read a chapter of simon called peter--either it was terrible stuff or the whisky distorted things, because it didn\\'t make any sense to me. just as tom and myrtle (after the first drink mrs. wilson and i called each other by our first names) reappeared, company commenced to arrive at the apartment door. the sister, catherine, was a slender, worldly girl of about thirty, with a solid, sticky bob of red hair, and a complexion powdered milky white. her eyebrows had been plucked and then drawn on again at a more rakish angle, but the efforts of nature toward the restoration of the old alignment gave a blurred air to her face. when she moved about there was an incessant clicking as innumerable pottery bracelets jingled up and down upon her arms. she came in with such a proprietary haste, and looked around so possessively at the furniture that i wondered if she lived here. but when i asked her she laughed immoderately, repeated my question aloud, and told me she lived with a girl friend at a hotel. mr. mckee was a pale, feminine man from the flat below. he had just shaved, for there was a white spot of lather on his cheekbone, and he was most respectful in his greeting to everyone in the room. he informed me that he was in the \"artistic game,\" and i gathered later that he was a photographer and had made the dim enlargement of mrs. wilson\\'s mother which hovered like an ectoplasm on the wall. his wife was shrill, languid, handsome, and horrible. she told me with pride that her husband had photographed her a hundred and twenty-seven times since they had been married. mrs. wilson had changed her costume some time before, and was now attired in an elaborate afternoon dress of cream-coloured chiffon, which gave out a continual rustle as she swept about the room. with the influence of the dress her personality had also undergone a change. the intense vitality that had been so remarkable in the garage was converted into impressive hauteur. her laughter, her gestures, her assertions became more violently affected moment by moment, and as she expanded the room grew smaller around her, until she seemed to be revolving on a noisy, creaking pivot through the smoky air. \"my dear,\" she told her sister in a high, mincing shout, \"most of these fellas will cheat you every time. all they think of is money. i had a woman up here last week to look at my feet, and when she gave me the bill you\\'d of thought she had my appendicitis out.\" \"what was the name of the woman?\" asked mrs. mckee. \"mrs. eberhardt. she goes around looking at people\\'s feet in their own homes.\" \"i like your dress,\" remarked mrs. mckee, \"i think it\\'s adorable.\" mrs. wilson rejected the compliment by raising her eyebrow in disdain. \"it\\'s just a crazy old thing,\" she said. \"i just slip it on sometimes when i don\\'t care what i look like.\" \"but it looks wonderful on you, if you know what i mean,\" pursued mrs. mckee. \"if chester could only get you in that pose i think he could make something of it.\" we all looked in silence at mrs. wilson, who removed a strand of hair from over her eyes and looked back at us with a brilliant smile. mr. mckee regarded her intently with his head on one side, and then moved his hand back and forth slowly in front of his face. \"i should change the light,\" he said after a moment. \"i\\'d like to bring out the modelling of the features. and i\\'d try to get hold of all the back hair.\" \"i wouldn\\'t think of changing the light,\" cried mrs. mckee. \"i think it\\'s--\" her husband said \"sh!\" and we all looked at the subject again, whereupon tom buchanan yawned audibly and got to his feet. \"you mckees have something to drink,\" he said. \"get some more ice and mineral water, myrtle, before everybody goes to sleep.\" \"i told that boy about the ice.\" myrtle raised her eyebrows in despair at the shiftlessness of the lower orders. \"these people! you have to keep after them all the time.\" she looked at me and laughed pointlessly. then she flounced over to the dog, kissed it with ecstasy, and swept into the kitchen, implying that a dozen chefs awaited her orders there. \"i\\'ve done some nice things out on long island,\" asserted mr. mckee. tom looked at him blankly. \"two of them we have framed downstairs.\" \"two what?\" demanded tom. \"two studies. one of them i call montauk point--the gulls, and the other i call montauk point--the sea.\" the sister catherine sat down beside me on the couch. \"do you live down on long island, too?\" she inquired. \"i live at west egg.\" \"really? i was down there at a party about a month ago. at a man named gatsby\\'s. do you know him?\" \"i live next door to him.\" \"well, they say he\\'s a nephew or a cousin of kaiser wilhelm\\'s. that\\'s where all his money comes from.\" \"really?\" she nodded. \"i\\'m scared of him. i\\'d hate to have him get anything on me.\" this absorbing information about my neighbour was interrupted by mrs. mckee\\'s pointing suddenly at catherine: \"chester, i think you could do something with her,\" she broke out, but mr. mckee only nodded in a bored way, and turned his attention to tom. \"i\\'d like to do more work on long island, if i could get the entry. all i ask is that they should give me a start.\" \"ask myrtle,\" said tom, breaking into a short shout of laughter as mrs. wilson entered with a tray. \"she\\'ll give you a letter of introduction, won\\'t you, myrtle?\" \"do what?\" she asked, startled. \"you\\'ll give mckee a letter of introduction to your husband, so he can do some studies of him.\" his lips moved silently for a moment as he invented, \" \\'george b. wilson at the gasoline pump,\\' or something like that.\" catherine leaned close to me and whispered in my ear: \"neither of them can stand the person they\\'re married to.\" \"can\\'t they?\" \"can\\'t stand them.\" she looked at myrtle and then at tom. \"what i say is, why go on living with them if they can\\'t stand them? if i was them i\\'d get a divorce and get married to each other right away.\" \"doesn\\'t she like wilson either?\" the answer to this was unexpected. it came from myrtle, who had overheard the question, and it was violent and obscene. \"you see,\" cried catherine triumphantly. she lowered her voice again. \"it\\'s really his wife that\\'s keeping them apart. she\\'s a catholic, and they don\\'t believe in divorce.\" daisy was not a catholic, and i was a little shocked at the elaborateness of the lie. \"when they do get married,\" continued catherine, \"they\\'re going west to live for a while until it blows over.\" \"it\\'d be more discreet to go to europe.\" \"oh, do you like europe?\" she exclaimed surprisingly. \"i just got back from monte carlo.\" \"really.\" \"just last year. i went over there with another girl.\" \"stay long?\" \"no, we just went to monte carlo and back. we went by way of marseilles. we had over twelve hundred dollars when we started, but we got gyped out of it all in two days in the private rooms. we had an awful time getting back, i can tell you. god, how i hated that town!\" the late afternoon sky bloomed in the window for a moment like the blue honey of the mediterranean--then the shrill voice of mrs. mckee called me back into the room. \"i almost made a mistake, too,\" she declared vigorously. \"i almost married a little kike who\\'d been after me for years. i knew he was below me. everybody kept saying to me: \\'lucille, that man\\'s way below you!\\' but if i hadn\\'t met chester, he\\'d of got me sure.\" \"yes, but listen,\" said myrtle wilson, nodding her head up and down, \"at least you didn\\'t marry him.\" \"i know i didn\\'t.\" \"well, i married him,\" said myrtle, ambiguously. \"and that\\'s the difference between your case and mine.\" \"why did you, myrtle?\" demanded catherine. \"nobody forced you to.\" myrtle considered. \"i married him because i thought he was a gentleman,\" she said finally. \"i thought he knew something about breeding, but he wasn\\'t fit to lick my shoe.\" \"you were crazy about him for a while,\" said catherine. \"crazy about him!\" cried myrtle incredulously. \"who said i was crazy about him? i never was any more crazy about him than i was about that man there.\" she pointed suddenly at me, and everyone looked at me accusingly. i tried to show by my expression that i expected no affection. \"the only crazy i was was when i married him. i knew right away i made a mistake. he borrowed somebody\\'s best suit to get married in, and never even told me about it, and the man came after it one day when he was out: \\'oh, is that your suit?\\' i said. \\'this is the first i ever heard about it.\\' but i gave it to him and then i lay down and cried to beat the band all afternoon.\" \"she really ought to get away from him,\" resumed catherine to me. \"they\\'ve been living over that garage for eleven years. and tom\\'s the first sweetie she ever had.\" the bottle of whisky--a second one--was now in constant demand by all present, excepting catherine, who \"felt just as good on nothing at all.\" tom rang for the janitor and sent him for some celebrated sandwiches, which were a complete supper in themselves. i wanted to get out and walk eastward toward the park through the soft twilight, but each time i tried to go i became entangled in some wild, strident argument which pulled me back, as if with ropes, into my chair. yet high over the city our line of yellow windows must have contributed their share of human secrecy to the casual watcher in the darkening streets, and i saw him too, looking up and wondering. i was within and without, simultaneously enchanted and repelled by the inexhaustible variety of life. myrtle pulled her chair close to mine, and suddenly her warm breath poured over me the story of her first meeting with tom. \"it was on the two little seats facing each other that are always the last ones left on the train. i was going up to new york to see my sister and spend the night. he had on a dress suit and patent leather shoes, and i couldn\\'t keep my eyes off him, but every time he looked at me i had to pretend to be looking at the advertisement over his head. when we came into the station he was next to me, and his white shirtfront pressed against my arm, and so i told him i\\'d have to call a policeman, but he knew i lied. i was so excited that when i got into a taxi with him i didn\\'t hardly know i wasn\\'t getting into a subway train. all i kept thinking about, over and over, was \\'you can\\'t live forever; you can\\'t live forever.\\' \" she turned to mrs. mckee and the room rang full of her artificial laughter. \"my dear,\" she cried, \"i\\'m going to give you this dress as soon as i\\'m through with it. i\\'ve got to get another one tomorrow. i\\'m going to make a list of all the things i\\'ve got to get. a massage and a wave, and a collar for the dog, and one of those cute little ashtrays where you touch a spring, and a wreath with a black silk bow for mother\\'s grave that\\'ll last all summer. i got to write down a list so i won\\'t forget all the things i got to do.\" it was nine o\\'clock--almost immediately afterward i looked at my watch and found it was ten. mr. mckee was asleep on a chair with his fists clenched in his lap, like a photograph of a man of action. taking out my handkerchief i wiped from his cheek the spot of dried lather that had worried me all the afternoon. the little dog was sitting on the table looking with blind eyes through the smoke, and from time to time groaning faintly. people disappeared, reappeared, made plans to go somewhere, and then lost each other, searched for each other, found each other a few feet away. some time toward midnight tom buchanan and mrs. wilson stood face to face discussing, in impassioned voices, whether mrs. wilson had any right to mention daisy\\'s name. \"daisy! daisy! daisy!\" shouted mrs. wilson. \"i\\'ll say it whenever i want to! daisy! dai--\" making a short deft movement, tom buchanan broke her nose with his open hand. then there were bloody towels upon the bathroom floor, and women\\'s voices scolding, and high over the confusion a long broken wail of pain. mr. mckee awoke from his doze and started in a daze toward the door. when he had gone halfway he turned around and stared at the scene--his wife and catherine scolding and consoling as they stumbled here and there among the crowded furniture with articles of aid, and the despairing figure on the couch, bleeding fluently, and trying to spread a copy of town tattle over the tapestry scenes of versailles. then mr. mckee turned and continued on out the door. taking my hat from the chandelier, i followed. \"come to lunch some day,\" he suggested, as we groaned down in the elevator. \"where?\" \"anywhere.\" \"keep your hands off the lever,\" snapped the elevator boy. \"i beg your pardon,\" said mr. mckee with dignity, \"i didn\\'t know i was touching it.\" \"all right,\" i agreed, \"i\\'ll be glad to.\" ... i was standing beside his bed and he was sitting up between the sheets, clad in his underwear, with a great portfolio in his hands. \"beauty and the beast ... loneliness ... old grocery horse ... brook\\'n bridge ...\" then i was lying half asleep in the cold lower level of the pennsylvania station, staring at the morning tribune, and waiting for the four o\\'clock train. iii there was music from my neighbour\\'s house through the summer nights. in his blue gardens men and girls came and went like moths among the whisperings and the champagne and the stars. at high tide in the afternoon i watched his guests diving from the tower of his raft, or taking the sun on the hot sand of his beach while his two motorboats slit the waters of the sound, drawing aquaplanes over cataracts of foam. on weekends his rolls-royce became an omnibus, bearing parties to and from the city between nine in the morning and long past midnight, while his station wagon scampered like a brisk yellow bug to meet all trains. and on mondays eight servants, including an extra gardener, toiled all day with mops and scrubbing-brushes and hammers and garden-shears, repairing the ravages of the night before. every friday five crates of oranges and lemons arrived from a fruiterer in new york--every monday these same oranges and lemons left his back door in a pyramid of pulpless halves. there was a machine in the kitchen which could extract the juice of two hundred oranges in half an hour if a little button was pressed two hundred times by a butler\\'s thumb. at least once a fortnight a corps of caterers came down with several hundred feet of canvas and enough coloured lights to make a christmas tree of gatsby\\'s enormous garden. on buffet tables, garnished with glistening hors-d\\'oeuvre, spiced baked hams crowded against salads of harlequin designs and pastry pigs and turkeys bewitched to a dark gold. in the main hall a bar with a real brass rail was set up, and stocked with gins and liquors and with cordials so long forgotten that most of his female guests were too young to know one from another. by seven o\\'clock the orchestra has arrived, no thin five-piece affair, but a whole pitful of oboes and trombones and saxophones and viols and cornets and piccolos, and low and high drums. the last swimmers have come in from the beach now and are dressing upstairs; the cars from new york are parked five deep in the drive, and already the halls and salons and verandas are gaudy with primary colours, and hair bobbed in strange new ways, and shawls beyond the dreams of castile. the bar is in full swing, and floating rounds of cocktails permeate the garden outside, until the air is alive with chatter and laughter, and casual innuendo and introductions forgotten on the spot, and enthusiastic meetings between women who never knew each other\\'s names. the lights grow brighter as the earth lurches away from the sun, and now the orchestra is playing yellow cocktail music, and the opera of voices pitches a key higher. laughter is easier minute by minute, spilled with prodigality, tipped out at a cheerful word. the groups change more swiftly, swell with new arrivals, dissolve and form in the same breath; already there are wanderers, confident girls who weave here and there among the stouter and more stable, become for a sharp, joyous moment the centre of a group, and then, excited with triumph, glide on through the sea-change of faces and voices and colour under the constantly changing light. suddenly one of these gypsies, in trembling opal, seizes a cocktail out of the air, dumps it down for courage and, moving her hands like frisco, dances out alone on the canvas platform. a momentary hush; the orchestra leader varies his rhythm obligingly for her, and there is a burst of chatter as the erroneous news goes around that she is gilda gray\\'s understudy from the follies. the party has begun. i believe that on the first night i went to gatsby\\'s house i was one of the few guests who had actually been invited. people were not invited--they went there. they got into automobiles which bore them out to long island, and somehow they ended up at gatsby\\'s door. once there they were introduced by somebody who knew gatsby, and after that they conducted themselves according to the rules of behaviour associated with an amusement park. sometimes they came and went without having met gatsby at all, came for the party with a simplicity of heart that was its own ticket of admission. i had been actually invited. a chauffeur in a uniform of robin\\'s-egg blue crossed my lawn early that saturday morning with a surprisingly formal note from his employer: the honour would be entirely gatsby\\'s, it said, if i would attend his \"little party\" that night. he had seen me several times, and had intended to call on me long before, but a peculiar combination of circumstances had prevented it--signed jay gatsby, in a majestic hand. dressed up in white flannels i went over to his lawn a little after seven, and wandered around rather ill at ease among swirls and eddies of people i didn\\'t know--though here and there was a face i had noticed on the commuting train. i was immediately struck by the number of young englishmen dotted about; all well dressed, all looking a little hungry, and all talking in low, earnest voices to solid and prosperous americans. i was sure that they were selling something: bonds or insurance or automobiles. they were at least agonizingly aware of the easy money in the vicinity and convinced that it was theirs for a few words in the right key. as soon as i arrived i made an attempt to find my host, but the two or three people of whom i asked his whereabouts stared at me in such an amazed way, and denied so vehemently any knowledge of his movements, that i slunk off in the direction of the cocktail table--the only place in the garden where a single man could linger without looking purposeless and alone. i was on my way to get roaring drunk from sheer embarrassment when jordan baker came out of the house and stood at the head of the marble steps, leaning a little backward and looking with contemptuous interest down into the garden. welcome or not, i found it necessary to attach myself to someone before i should begin to address cordial remarks to the passersby. \"hello!\" i roared, advancing toward her. my voice seemed unnaturally loud across the garden. \"i thought you might be here,\" she responded absently as i came up. \"i remembered you lived next door to--\" she held my hand impersonally, as a promise that she\\'d take care of me in a minute, and gave ear to two girls in twin yellow dresses, who stopped at the foot of the steps. \"hello!\" they cried together. \"sorry you didn\\'t win.\" that was for the golf tournament. she had lost in the finals the week before. \"you don\\'t know who we are,\" said one of the girls in yellow, \"but we met you here about a month ago.\" \"you\\'ve dyed your hair since then,\" remarked jordan, and i started, but the girls had moved casually on and her remark was addressed to the premature moon, produced like the supper, no doubt, out of a caterer\\'s basket. with jordan\\'s slender golden arm resting in mine, we descended the steps and sauntered about the garden. a tray of cocktails floated at us through the twilight, and we sat down at a table with the two girls in yellow and three men, each one introduced to us as mr. mumble. \"do you come to these parties often?\" inquired jordan of the girl beside her. \"the last one was the one i met you at,\" answered the girl, in an alert confident voice. she turned to her companion: \"wasn\\'t it for you, lucille?\" it was for lucille, too. \"i like to come,\" lucille said. \"i never care what i do, so i always have a good time. when i was here last i tore my gown on a chair, and he asked me my name and address--inside of a week i got a package from croirier\\'s with a new evening gown in it.\" \"did you keep it?\" asked jordan. \"sure i did. i was going to wear it tonight, but it was too big in the bust and had to be altered. it was gas blue with lavender beads. two hundred and sixty-five dollars.\" \"there\\'s something funny about a fellow that\\'ll do a thing like that,\" said the other girl eagerly. \"he doesn\\'t want any trouble with anybody.\" \"who doesn\\'t?\" i inquired. \"gatsby. somebody told me--\" the two girls and jordan leaned together confidentially. \"somebody told me they thought he killed a man once.\" a thrill passed over all of us. the three mr. mumbles bent forward and listened eagerly. \"i don\\'t think it\\'s so much that,\" argued lucille sceptically; \"it\\'s more that he was a german spy during the war.\" one of the men nodded in confirmation. \"i heard that from a man who knew all about him, grew up with him in germany,\" he assured us positively. \"oh, no,\" said the first girl, \"it couldn\\'t be that, because he was in the american army during the war.\" as our credulity switched back to her she leaned forward with enthusiasm. \"you look at him sometimes when he thinks nobody\\'s looking at him. i\\'ll bet he killed a man.\" she narrowed her eyes and shivered. lucille shivered. we all turned and looked around for gatsby. it was testimony to the romantic speculation he inspired that there were whispers about him from those who had found little that it was necessary to whisper about in this world. the first supper--there would be another one after midnight--was now being served, and jordan invited me to join her own party, who were spread around a table on the other side of the garden. there were three married couples and jordan\\'s escort, a persistent undergraduate given to violent innuendo, and obviously under the impression that sooner or later jordan was going to yield him up her person to a greater or lesser degree. instead of rambling, this party had preserved a dignified homogeneity, and assumed to itself the function of representing the staid nobility of the countryside--east egg condescending to west egg and carefully on guard against its spectroscopic gaiety. \"let\\'s get out,\" whispered jordan, after a somehow wasteful and inappropriate half-hour; \"this is much too polite for me.\" we got up, and she explained that we were going to find the host: i had never met him, she said, and it was making me uneasy. the undergraduate nodded in a cynical, melancholy way. the bar, where we glanced first, was crowded, but gatsby was not there. she couldn\\'t find him from the top of the steps, and he wasn\\'t on the veranda. on a chance we tried an important-looking door, and walked into a high gothic library, panelled with carved english oak, and probably transported complete from some ruin overseas. a stout, middle-aged man, with enormous owl-eyed spectacles, was sitting somewhat drunk on the edge of a great table, staring with unsteady concentration at the shelves of books. as we entered he wheeled excitedly around and examined jordan from head to foot. \"what do you think?\" he demanded impetuously. \"about what?\" he waved his hand toward the bookshelves. \"about that. as a matter of fact you needn\\'t bother to ascertain. i ascertained. they\\'re real.\" \"the books?\" he nodded. \"absolutely real--have pages and everything. i thought they\\'d be a nice durable cardboard. matter of fact, they\\'re absolutely real. pages and--here! lemme show you.\" taking our scepticism for granted, he rushed to the bookcases and returned with volume one of the stoddard lectures. \"see!\" he cried triumphantly. \"it\\'s a bona-fide piece of printed matter. it fooled me. this fella\\'s a regular belasco. it\\'s a triumph. what thoroughness! what realism! knew when to stop, too--didn\\'t cut the pages. but what do you want? what do you expect?\" he snatched the book from me and replaced it hastily on its shelf, muttering that if one brick was removed the whole library was liable to collapse. \"who brought you?\" he demanded. \"or did you just come? i was brought. most people were brought.\" jordan looked at him alertly, cheerfully, without answering. \"i was brought by a woman named roosevelt,\" he continued. \"mrs. claud roosevelt. do you know her? i met her somewhere last night. i\\'ve been drunk for about a week now, and i thought it might sober me up to sit in a library.\" \"has it?\" \"a little bit, i think. i can\\'t tell yet. i\\'ve only been here an hour. did i tell you about the books? they\\'re real. they\\'re--\" \"you told us.\" we shook hands with him gravely and went back outdoors. there was dancing now on the canvas in the garden; old men pushing young girls backward in eternal graceless circles, superior couples holding each other tortuously, fashionably, and keeping in the corners--and a great number of single girls dancing individually or relieving the orchestra for a moment of the burden of the banjo or the traps. by midnight the hilarity had increased. a celebrated tenor had sung in italian, and a notorious contralto had sung in jazz, and between the numbers people were doing \"stunts\" all over the garden, while happy, vacuous bursts of laughter rose toward the summer sky. a pair of stage twins, who turned out to be the girls in yellow, did a baby act in costume, and champagne was served in glasses bigger than finger-bowls. the moon had risen higher, and floating in the sound was a triangle of silver scales, trembling a little to the stiff, tinny drip of the banjoes on the lawn. i was still with jordan baker. we were sitting at a table with a man of about my age and a rowdy little girl, who gave way upon the slightest provocation to uncontrollable laughter. i was enjoying myself now. i had taken two finger-bowls of champagne, and the scene had changed before my eyes into something significant, elemental, and profound. at a lull in the entertainment the man looked at me and smiled. \"your face is familiar,\" he said politely. \"weren\\'t you in the first division during the war?\" \"why yes. i was in the twenty-eighth infantry.\" \"i was in the sixteenth until june nineteen-eighteen. i knew i\\'d seen you somewhere before.\" we talked for a moment about some wet, grey little villages in france. evidently he lived in this vicinity, for he told me that he had just bought a hydroplane, and was going to try it out in the morning. \"want to go with me, old sport? just near the shore along the sound.\" \"what time?\" \"any time that suits you best.\" it was on the tip of my tongue to ask his name when jordan looked around and smiled. \"having a gay time now?\" she inquired. \"much better.\" i turned again to my new acquaintance. \"this is an unusual party for me. i haven\\'t even seen the host. i live over there--\" i waved my hand at the invisible hedge in the distance, \"and this man gatsby sent over his chauffeur with an invitation.\" for a moment he looked at me as if he failed to understand. \"i\\'m gatsby,\" he said suddenly. \"what!\" i exclaimed. \"oh, i beg your pardon.\" \"i thought you knew, old sport. i\\'m afraid i\\'m not a very good host.\" he smiled understandingly--much more than understandingly. it was one of those rare smiles with a quality of eternal reassurance in it, that you may come across four or five times in life. it faced--or seemed to face--the whole eternal world for an instant, and then concentrated on you with an irresistible prejudice in your favour. it understood you just so far as you wanted to be understood, believed in you as you would like to believe in yourself, and assured you that it had precisely the impression of you that, at your best, you hoped to convey. precisely at that point it vanished--and i was looking at an elegant young roughneck, a year or two over thirty, whose elaborate formality of speech just missed being absurd. some time before he introduced himself i\\'d got a strong impression that he was picking his words with care. almost at the moment when mr. gatsby identified himself a butler hurried toward him with the information that chicago was calling him on the wire. he excused himself with a small bow that included each of us in turn. \"if you want anything just ask for it, old sport,\" he urged me. \"excuse me. i will rejoin you later.\" when he was gone i turned immediately to jordan--constrained to assure her of my surprise. i had expected that mr. gatsby would be a florid and corpulent person in his middle years. \"who is he?\" i demanded. \"do you know?\" \"he\\'s just a man named gatsby.\" \"where is he from, i mean? and what does he do?\" \"now you\\'re started on the subject,\" she answered with a wan smile. \"well, he told me once he was an oxford man.\" a dim background started to take shape behind him, but at her next remark it faded away. \"however, i don\\'t believe it.\" \"why not?\" \"i don\\'t know,\" she insisted, \"i just don\\'t think he went there.\" something in her tone reminded me of the other girl\\'s \"i think he killed a man,\" and had the effect of stimulating my curiosity. i would have accepted without question the information that gatsby sprang from the swamps of louisiana or from the lower east side of new york. that was comprehensible. but young men didn\\'t--at least in my provincial inexperience i believed they didn\\'t--drift coolly out of nowhere and buy a palace on long island sound. \"anyhow, he gives large parties,\" said jordan, changing the subject with an urban distaste for the concrete. \"and i like large parties. they\\'re so intimate. at small parties there isn\\'t any privacy.\" there was the boom of a bass drum, and the voice of the orchestra leader rang out suddenly above the echolalia of the garden. \"ladies and gentlemen,\" he cried. \"at the request of mr. gatsby we are going to play for you mr. vladmir tostoff\\'s latest work, which attracted so much attention at carnegie hall last may. if you read the papers you know there was a big sensation.\" he smiled with jovial condescension, and added: \"some sensation!\" whereupon everybody laughed. \"the piece is known,\" he concluded lustily, \"as \\'vladmir tostoff\\'s jazz history of the world!\\' \" the nature of mr. tostoff\\'s composition eluded me, because just as it began my eyes fell on gatsby, standing alone on the marble steps and looking from one group to another with approving eyes. his tanned skin was drawn attractively tight on his face and his short hair looked as though it were trimmed every day. i could see nothing sinister about him. i wondered if the fact that he was not drinking helped to set him off from his guests, for it seemed to me that he grew more correct as the fraternal hilarity increased. when the \"jazz history of the world\" was over, girls were putting their heads on men\\'s shoulders in a puppyish, convivial way, girls were swooning backward playfully into men\\'s arms, even into groups, knowing that someone would arrest their falls--but no one swooned backward on gatsby, and no french bob touched gatsby\\'s shoulder, and no singing quartets were formed with gatsby\\'s head for one link. \"i beg your pardon.\" gatsby\\'s butler was suddenly standing beside us. \"miss baker?\" he inquired. \"i beg your pardon, but mr. gatsby would like to speak to you alone.\" \"with me?\" she exclaimed in surprise. \"yes, madame.\" she got up slowly, raising her eyebrows at me in astonishment, and followed the butler toward the house. i noticed that she wore her evening-dress, all her dresses, like sports clothes--there was a jauntiness about her movements as if she had first learned to walk upon golf courses on clean, crisp mornings. i was alone and it was almost two. for some time confused and intriguing sounds had issued from a long, many-windowed room which overhung the terrace. eluding jordan\\'s undergraduate, who was now engaged in an obstetrical conversation with two chorus girls, and who implored me to join him, i went inside. the large room was full of people. one of the girls in yellow was playing the piano, and beside her stood a tall, red-haired young lady from a famous chorus, engaged in song. she had drunk a quantity of champagne, and during the course of her song she had decided, ineptly, that everything was very, very sad--she was not only singing, she was weeping too. whenever there was a pause in the song she filled it with gasping, broken sobs, and then took up the lyric again in a quavering soprano. the tears coursed down her cheeks--not freely, however, for when they came into contact with her heavily beaded eyelashes they assumed an inky colour, and pursued the rest of their way in slow black rivulets. a humorous suggestion was made that she sing the notes on her face, whereupon she threw up her hands, sank into a chair, and went off into a deep vinous sleep. \"she had a fight with a man who says he\\'s her husband,\" explained a girl at my elbow. i looked around. most of the remaining women were now having fights with men said to be their husbands. even jordan\\'s party, the quartet from east egg, were rent asunder by dissension. one of the men was talking with curious intensity to a young actress, and his wife, after attempting to laugh at the situation in a dignified and indifferent way, broke down entirely and resorted to flank attacks--at intervals she appeared suddenly at his side like an angry diamond, and hissed: \"you promised!\" into his ear. the reluctance to go home was not confined to wayward men. the hall was at present occupied by two deplorably sober men and their highly indignant wives. the wives were sympathizing with each other in slightly raised voices. \"whenever he sees i\\'m having a good time he wants to go home.\" \"never heard anything so selfish in my life.\" \"we\\'re always the first ones to leave.\" \"so are we.\" \"well, we\\'re almost the last tonight,\" said one of the men sheepishly. \"the orchestra left half an hour ago.\" in spite of the wives\\' agreement that such malevolence was beyond credibility, the dispute ended in a short struggle, and both wives were lifted, kicking, into the night. as i waited for my hat in the hall the door of the library opened and jordan baker and gatsby came out together. he was saying some last word to her, but the eagerness in his manner tightened abruptly into formality as several people approached him to say goodbye. jordan\\'s party were calling impatiently to her from the porch, but she lingered for a moment to shake hands. \"i\\'ve just heard the most amazing thing,\" she whispered. \"how long were we in there?\" \"why, about an hour.\" \"it was ... simply amazing,\" she repeated abstractedly. \"but i swore i wouldn\\'t tell it and here i am tantalizing you.\" she yawned gracefully in my face. \"please come and see me ... phone book ... under the name of mrs. sigourney howard ... my aunt ...\" she was hurrying off as she talked--her brown hand waved a jaunty salute as she melted into her party at the door. rather ashamed that on my first appearance i had stayed so late, i joined the last of gatsby\\'s guests, who were clustered around him. i wanted to explain that i\\'d hunted for him early in the evening and to apologize for not having known him in the garden. \"don\\'t mention it,\" he enjoined me eagerly. \"don\\'t give it another thought, old sport.\" the familiar expression held no more familiarity than the hand which reassuringly brushed my shoulder. \"and don\\'t forget we\\'re going up in the hydroplane tomorrow morning, at nine o\\'clock.\" then the butler, behind his shoulder: \"philadelphia wants you on the phone, sir.\" \"all right, in a minute. tell them i\\'ll be right there ... good night.\" \"good night.\" \"good night.\" he smiled--and suddenly there seemed to be a pleasant significance in having been among the last to go, as if he had desired it all the time. \"good night, old sport ... good night.\" but as i walked down the steps i saw that the evening was not quite over. fifty feet from the door a dozen headlights illuminated a bizarre and tumultuous scene. in the ditch beside the road, right side up, but violently shorn of one wheel, rested a new coupe which had left gatsby\\'s drive not two minutes before. the sharp jut of a wall accounted for the detachment of the wheel, which was now getting considerable attention from half a dozen curious chauffeurs. however, as they had left their cars blocking the road, a harsh, discordant din from those in the rear had been audible for some time, and added to the already violent confusion of the scene. a man in a long duster had dismounted from the wreck and now stood in the middle of the road, looking from the car to the tyre and from the tyre to the observers in a pleasant, puzzled way. \"see!\" he explained. \"it went in the ditch.\" the fact was infinitely astonishing to him, and i recognized first the unusual quality of wonder, and then the man--it was the late patron of gatsby\\'s library. \"how\\'d it happen?\" he shrugged his shoulders. \"i know nothing whatever about mechanics,\" he said decisively. \"but how did it happen? did you run into the wall?\" \"don\\'t ask me,\" said owl eyes, washing his hands of the whole matter. \"i know very little about driving--next to nothing. it happened, and that\\'s all i know.\" \"well, if you\\'re a poor driver you oughtn\\'t to try driving at night.\" \"but i wasn\\'t even trying,\" he explained indignantly, \"i wasn\\'t even trying.\" an awed hush fell upon the bystanders. \"do you want to commit suicide?\" \"you\\'re lucky it was just a wheel! a bad driver and not even trying!\" \"you don\\'t understand,\" explained the criminal. \"i wasn\\'t driving. there\\'s another man in the car.\" the shock that followed this declaration found voice in a sustained \"ah-h-h!\" as the door of the coupe swung slowly open. the crowd--it was now a crowd--stepped back involuntarily, and when the door had opened wide there was a ghostly pause. then, very gradually, part by part, a pale, dangling individual stepped out of the wreck, pawing tentatively at the ground with a large uncertain dancing shoe. blinded by the glare of the headlights and confused by the incessant groaning of the horns, the apparition stood swaying for a moment before he perceived the man in the duster. \"wha\\'s matter?\" he inquired calmly. \"did we run outa gas?\" \"look!\" half a dozen fingers pointed at the amputated wheel--he stared at it for a moment, and then looked upward as though he suspected that it had dropped from the sky. \"it came off,\" someone explained. he nodded. \"at first i din\\' notice we\\'d stopped.\" a pause. then, taking a long breath and straightening his shoulders, he remarked in a determined voice: \"wonder\\'ff tell me where there\\'s a gas\\'line station?\" at least a dozen men, some of them a little better off than he was, explained to him that wheel and car were no longer joined by any physical bond. \"back out,\" he suggested after a moment. \"put her in reverse.\" \"but the wheel\\'s off!\" he hesitated. \"no harm in trying,\" he said. the caterwauling horns had reached a crescendo and i turned away and cut across the lawn toward home. i glanced back once. a wafer of a moon was shining over gatsby\\'s house, making the night fine as before, and surviving the laughter and the sound of his still glowing garden. a sudden emptiness seemed to flow now from the windows and the great doors, endowing with complete isolation the figure of the host, who stood on the porch, his hand up in a formal gesture of farewell. ------------------------------------------------------------------------ reading over what i have written so far, i see i have given the impression that the events of three nights several weeks apart were all that absorbed me. on the contrary, they were merely casual events in a crowded summer, and, until much later, they absorbed me infinitely less than my personal affairs. most of the time i worked. in the early morning the sun threw my shadow westward as i hurried down the white chasms of lower new york to the probity trust. i knew the other clerks and young bond-salesmen by their first names, and lunched with them in dark, crowded restaurants on little pig sausages and mashed potatoes and coffee. i even had a short affair with a girl who lived in jersey city and worked in the accounting department, but her brother began throwing mean looks in my direction, so when she went on her vacation in july i let it blow quietly away. i took dinner usually at the yale club--for some reason it was the gloomiest event of my day--and then i went upstairs to the library and studied investments and securities for a conscientious hour. there were generally a few rioters around, but they never came into the library, so it was a good place to work. after that, if the night was mellow, i strolled down madison avenue past the old murray hill hotel, and over 33rd street to the pennsylvania station. i began to like new york, the racy, adventurous feel of it at night, and the satisfaction that the constant flicker of men and women and machines gives to the restless eye. i liked to walk up fifth avenue and pick out romantic women from the crowd and imagine that in a few minutes i was going to enter into their lives, and no one would ever know or disapprove. sometimes, in my mind, i followed them to their apartments on the corners of hidden streets, and they turned and smiled back at me before they faded through a door into warm darkness. at the enchanted metropolitan twilight i felt a haunting loneliness sometimes, and felt it in others--poor young clerks who loitered in front of windows waiting until it was time for a solitary restaurant dinner--young clerks in the dusk, wasting the most poignant moments of night and life. again at eight o\\'clock, when the dark lanes of the forties were lined five deep with throbbing taxicabs, bound for the theatre district, i felt a sinking in my heart. forms leaned together in the taxis as they waited, and voices sang, and there was laughter from unheard jokes, and lighted cigarettes made unintelligible circles inside. imagining that i, too, was hurrying towards gaiety and sharing their intimate excitement, i wished them well. for a while i lost sight of jordan baker, and then in midsummer i found her again. at first i was flattered to go places with her, because she was a golf champion, and everyone knew her name. then it was something more. i wasn\\'t actually in love, but i felt a sort of tender curiosity. the bored haughty face that she turned to the world concealed something--most affectations conceal something eventually, even though they don\\'t in the beginning--and one day i found what it was. when we were on a house-party together up in warwick, she left a borrowed car out in the rain with the top down, and then lied about it--and suddenly i remembered the story about her that had eluded me that night at daisy\\'s. at her first big golf tournament there was a row that nearly reached the newspapers--a suggestion that she had moved her ball from a bad lie in the semifinal round. the thing approached the proportions of a scandal--then died away. a caddy retracted his statement, and the only other witness admitted that he might have been mistaken. the incident and the name had remained together in my mind. jordan baker instinctively avoided clever, shrewd men, and now i saw that this was because she felt safer on a plane where any divergence from a code would be thought impossible. she was incurably dishonest. she wasn\\'t able to endure being at a disadvantage and, given this unwillingness, i suppose she had begun dealing in subterfuges when she was very young in order to keep that cool, insolent smile turned to the world and yet satisfy the demands of her hard, jaunty body. it made no difference to me. dishonesty in a woman is a thing you never blame deeply--i was casually sorry, and then i forgot. it was on that same house-party that we had a curious conversation about driving a car. it started because she passed so close to some workmen that our fender flicked a button on one man\\'s coat. \"you\\'re a rotten driver,\" i protested. \"either you ought to be more careful, or you oughtn\\'t to drive at all.\" \"i am careful.\" \"no, you\\'re not.\" \"well, other people are,\" she said lightly. \"what\\'s that got to do with it?\" \"they\\'ll keep out of my way,\" she insisted. \"it takes two to make an accident.\" \"suppose you met somebody just as careless as yourself.\" \"i hope i never will,\" she answered. \"i hate careless people. that\\'s why i like you.\" her grey, sun-strained eyes stared straight ahead, but she had deliberately shifted our relations, and for a moment i thought i loved her. but i am slow-thinking and full of interior rules that act as brakes on my desires, and i knew that first i had to get myself definitely out of that tangle back home. i\\'d been writing letters once a week and signing them: \"love, nick,\" and all i could think of was how, when that certain girl played tennis, a faint moustache of perspiration appeared on her upper lip. nevertheless there was a vague understanding that had to be tactfully broken off before i was free. everyone suspects himself of at least one of the cardinal virtues, and this is mine: i am one of the few honest people that i have ever known. iv on sunday morning while church bells rang in the villages alongshore, the world and its mistress returned to gatsby\\'s house and twinkled hilariously on his lawn. \"he\\'s a bootlegger,\" said the young ladies, moving somewhere between his cocktails and his flowers. \"one time he killed a man who had found out that he was nephew to von hindenburg and second cousin to the devil. reach me a rose, honey, and pour me a last drop into that there crystal glass.\" once i wrote down on the empty spaces of a timetable the names of those who came to gatsby\\'s house that summer. it is an old timetable now, disintegrating at its folds, and headed \"this schedule in effect july 5th, 1922.\" but i can still read the grey names, and they will give you a better impression than my generalities of those who accepted gatsby\\'s hospitality and paid him the subtle tribute of knowing nothing whatever about him. from east egg, then, came the chester beckers and the leeches, and a man named bunsen, whom i knew at yale, and doctor webster civet, who was drowned last summer up in maine. and the hornbeams and the willie voltaires, and a whole clan named blackbuck, who always gathered in a corner and flipped up their noses like goats at whosoever came near. and the ismays and the chrysties (or rather hubert auerbach and mr. chrystie\\'s wife), and edgar beaver, whose hair, they say, turned cotton-white one winter afternoon for no good reason at all. clarence endive was from east egg, as i remember. he came only once, in white knickerbockers, and had a fight with a bum named etty in the garden. from farther out on the island came the cheadles and the o. r. p. schraeders, and the stonewall jackson abrams of georgia, and the fishguards and the ripley snells. snell was there three days before he went to the penitentiary, so drunk out on the gravel drive that mrs. ulysses swett\\'s automobile ran over his right hand. the dancies came, too, and s. b. whitebait, who was well over sixty, and maurice a. flink, and the hammerheads, and beluga the tobacco importer, and beluga\\'s girls. from west egg came the poles and the mulreadys and cecil roebuck and cecil schoen and gulick the state senator and newton orchid, who controlled films par excellence, and eckhaust and clyde cohen and don s. schwartz (the son) and arthur mccarty, all connected with the movies in one way or another. and the catlips and the bembergs and g. earl muldoon, brother to that muldoon who afterward strangled his wife. da fontano the promoter came there, and ed legros and james b. (\"rot-gut\") ferret and the de jongs and ernest lilly--they came to gamble, and when ferret wandered into the garden it meant he was cleaned out and associated traction would have to fluctuate profitably next day. a man named klipspringer was there so often that he became known as \"the boarder\"--i doubt if he had any other home. of theatrical people there were gus waize and horace o\\'donavan and lester myer and george duckweed and francis bull. also from new york were the chromes and the backhyssons and the dennickers and russel betty and the corrigans and the kellehers and the dewars and the scullys and s. w. belcher and the smirkes and the young quinns, divorced now, and henry l. palmetto, who killed himself by jumping in front of a subway train in times square. benny mcclenahan arrived always with four girls. they were never quite the same ones in physical person, but they were so identical one with another that it inevitably seemed they had been there before. i have forgotten their names--jaqueline, i think, or else consuela, or gloria or judy or june, and their last names were either the melodious names of flowers and months or the sterner ones of the great american capitalists whose cousins, if pressed, they would confess themselves to be. in addition to all these i can remember that faustina o\\'brien came there at least once and the baedeker girls and young brewer, who had his nose shot off in the war, and mr. albrucksburger and miss haag, his fiancee, and ardita fitz-peters and mr. p. jewett, once head of the american legion, and miss claudia hip, with a man reputed to be her chauffeur, and a prince of something, whom we called duke, and whose name, if i ever knew it, i have forgotten. all these people came to gatsby\\'s house in the summer. ------------------------------------------------------------------------ at nine o\\'clock, one morning late in july, gatsby\\'s gorgeous car lurched up the rocky drive to my door and gave out a burst of melody from its three-noted horn. it was the first time he had called on me, though i had gone to two of his parties, mounted in his hydroplane, and, at his urgent invitation, made frequent use of his beach. \"good morning, old sport. you\\'re having lunch with me today and i thought we\\'d ride up together.\" he was balancing himself on the dashboard of his car with that resourcefulness of movement that is so peculiarly american--that comes, i suppose, with the absence of lifting work in youth and, even more, with the formless grace of our nervous, sporadic games. this quality was continually breaking through his punctilious manner in the shape of restlessness. he was never quite still; there was always a tapping foot somewhere or the impatient opening and closing of a hand. he saw me looking with admiration at his car. \"it\\'s pretty, isn\\'t it, old sport?\" he jumped off to give me a better view. \"haven\\'t you ever seen it before?\" i\\'d seen it. everybody had seen it. it was a rich cream colour, bright with nickel, swollen here and there in its monstrous length with triumphant hatboxes and supper-boxes and toolboxes, and terraced with a labyrinth of windshields that mirrored a dozen suns. sitting down behind many layers of glass in a sort of green leather conservatory, we started to town. i had talked with him perhaps half a dozen times in the past month and found, to my disappointment, that he had little to say. so my first impression, that he was a person of some undefined consequence, had gradually faded and he had become simply the proprietor of an elaborate roadhouse next door. and then came that disconcerting ride. we hadn\\'t reached west egg village before gatsby began leaving his elegant sentences unfinished and slapping himself indecisively on the knee of his caramel-coloured suit. \"look here, old sport,\" he broke out surprisingly, \"what\\'s your opinion of me, anyhow?\" a little overwhelmed, i began the generalized evasions which that question deserves. \"well, i\\'m going to tell you something about my life,\" he interrupted. \"i don\\'t want you to get a wrong idea of me from all these stories you hear.\" so he was aware of the bizarre accusations that flavoured conversation in his halls. \"i\\'ll tell you god\\'s truth.\" his right hand suddenly ordered divine retribution to stand by. \"i am the son of some wealthy people in the middle west--all dead now. i was brought up in america but educated at oxford, because all my ancestors have been educated there for many years. it is a family tradition.\" he looked at me sideways--and i knew why jordan baker had believed he was lying. he hurried the phrase \"educated at oxford,\" or swallowed it, or choked on it, as though it had bothered him before. and with this doubt, his whole statement fell to pieces, and i wondered if there wasn\\'t something a little sinister about him, after all. \"what part of the middle west?\" i inquired casually. \"san francisco.\" \"i see.\" \"my family all died and i came into a good deal of money.\" his voice was solemn, as if the memory of that sudden extinction of a clan still haunted him. for a moment i suspected that he was pulling my leg, but a glance at him convinced me otherwise. \"after that i lived like a young rajah in all the capitals of europe--paris, venice, rome--collecting jewels, chiefly rubies, hunting big game, painting a little, things for myself only, and trying to forget something very sad that had happened to me long ago.\" with an effort i managed to restrain my incredulous laughter. the very phrases were worn so threadbare that they evoked no image except that of a turbaned \"character\" leaking sawdust at every pore as he pursued a tiger through the bois de boulogne. \"then came the war, old sport. it was a great relief, and i tried very hard to die, but i seemed to bear an enchanted life. i accepted a commission as first lieutenant when it began. in the argonne forest i took the remains of my machine-gun battalion so far forward that there was a half mile gap on either side of us where the infantry couldn\\'t advance. we stayed there two days and two nights, a hundred and thirty men with sixteen lewis guns, and when the infantry came up at last they found the insignia of three german divisions among the piles of dead. i was promoted to be a major, and every allied government gave me a decoration--even montenegro, little montenegro down on the adriatic sea!\" little montenegro! he lifted up the words and nodded at them--with his smile. the smile comprehended montenegro\\'s troubled history and sympathized with the brave struggles of the montenegrin people. it appreciated fully the chain of national circumstances which had elicited this tribute from montenegro\\'s warm little heart. my incredulity was submerged in fascination now; it was like skimming hastily through a dozen magazines. he reached in his pocket, and a piece of metal, slung on a ribbon, fell into my palm. \"that\\'s the one from montenegro.\" to my astonishment, the thing had an authentic look. \"orderi di danilo,\" ran the circular legend, \"montenegro, nicolas rex.\" \"turn it.\" \"major jay gatsby,\" i read, \"for valour extraordinary.\" \"here\\'s another thing i always carry. a souvenir of oxford days. it was taken in trinity quad--the man on my left is now the earl of doncaster.\" it was a photograph of half a dozen young men in blazers loafing in an archway through which were visible a host of spires. there was gatsby, looking a little, not much, younger--with a cricket bat in his hand. then it was all true. i saw the skins of tigers flaming in his palace on the grand canal; i saw him opening a chest of rubies to ease, with their crimson-lighted depths, the gnawings of his broken heart. \"i\\'m going to make a big request of you today,\" he said, pocketing his souvenirs with satisfaction, \"so i thought you ought to know something about me. i didn\\'t want you to think i was just some nobody. you see, i usually find myself among strangers because i drift here and there trying to forget the sad things that happened to me.\" he hesitated. \"you\\'ll hear about it this afternoon.\" \"at lunch?\" \"no, this afternoon. i happened to find out that you\\'re taking miss baker to tea.\" \"do you mean you\\'re in love with miss baker?\" \"no, old sport, i\\'m not. but miss baker has kindly consented to speak to you about this matter.\" i hadn\\'t the faintest idea what \"this matter\" was, but i was more annoyed than interested. i hadn\\'t asked jordan to tea in order to discuss mr. jay gatsby. i was sure the request would be something utterly fantastic, and for a moment i was sorry i\\'d ever set foot upon his overpopulated lawn. he wouldn\\'t say another word. his correctness grew on him as we neared the city. we passed port roosevelt, where there was a glimpse of red-belted oceangoing ships, and sped along a cobbled slum lined with the dark, undeserted saloons of the faded-gilt nineteen-hundreds. then the valley of ashes opened out on both sides of us, and i had a glimpse of mrs. wilson straining at the garage pump with panting vitality as we went by. with fenders spread like wings we scattered light through half astoria--only half, for as we twisted among the pillars of the elevated i heard the familiar \"jug-jug-spat!\" of a motorcycle, and a frantic policeman rode alongside. \"all right, old sport,\" called gatsby. we slowed down. taking a white card from his wallet, he waved it before the man\\'s eyes. \"right you are,\" agreed the policeman, tipping his cap. \"know you next time, mr. gatsby. excuse me!\" \"what was that?\" i inquired. \"the picture of oxford?\" \"i was able to do the commissioner a favour once, and he sends me a christmas card every year.\" over the great bridge, with the sunlight through the girders making a constant flicker upon the moving cars, with the city rising up across the river in white heaps and sugar lumps all built with a wish out of nonolfactory money. the city seen from the queensboro bridge is always the city seen for the first time, in its first wild promise of all the mystery and the beauty in the world. a dead man passed us in a hearse heaped with blooms, followed by two carriages with drawn blinds, and by more cheerful carriages for friends. the friends looked out at us with the tragic eyes and short upper lips of southeastern europe, and i was glad that the sight of gatsby\\'s splendid car was included in their sombre holiday. as we crossed blackwell\\'s island a limousine passed us, driven by a white chauffeur, in which sat three modish negroes, two bucks and a girl. i laughed aloud as the yolks of their eyeballs rolled toward us in haughty rivalry. \"anything can happen now that we\\'ve slid over this bridge,\" i thought; \"anything at all ...\" even gatsby could happen, without any particular wonder. ------------------------------------------------------------------------ roaring noon. in a well-fanned forty-second street cellar i met gatsby for lunch. blinking away the brightness of the street outside, my eyes picked him out obscurely in the anteroom, talking to another man. \"mr. carraway, this is my friend mr. wolfshiem.\" a small, flat-nosed jew raised his large head and regarded me with two fine growths of hair which luxuriated in either nostril. after a moment i discovered his tiny eyes in the half-darkness. \"--so i took one look at him,\" said mr. wolfshiem, shaking my hand earnestly, \"and what do you think i did?\" \"what?\" i inquired politely. but evidently he was not addressing me, for he dropped my hand and covered gatsby with his expressive nose. \"i handed the money to katspaugh and i said: \\'all right, katspaugh, don\\'t pay him a penny till he shuts his mouth.\\' he shut it then and there.\" gatsby took an arm of each of us and moved forward into the restaurant, whereupon mr. wolfshiem swallowed a new sentence he was starting and lapsed into a somnambulatory abstraction. \"highballs?\" asked the head waiter. \"this is a nice restaurant here,\" said mr. wolfshiem, looking at the presbyterian nymphs on the ceiling. \"but i like across the street better!\" \"yes, highballs,\" agreed gatsby, and then to mr. wolfshiem: \"it\\'s too hot over there.\" \"hot and small--yes,\" said mr. wolfshiem, \"but full of memories.\" \"what place is that?\" i asked. \"the old metropole.\" \"the old metropole,\" brooded mr. wolfshiem gloomily. \"filled with faces dead and gone. filled with friends gone now forever. i can\\'t forget so long as i live the night they shot rosy rosenthal there. it was six of us at the table, and rosy had eat and drunk a lot all evening. when it was almost morning the waiter came up to him with a funny look and says somebody wants to speak to him outside. \\'all right,\\' says rosy, and begins to get up, and i pulled him down in his chair. \" \\'let the bastards come in here if they want you, rosy, but don\\'t you, so help me, move outside this room.\\' \"it was four o\\'clock in the morning then, and if we\\'d of raised the blinds we\\'d of seen daylight.\" \"did he go?\" i asked innocently. \"sure he went.\" mr. wolfshiem\\'s nose flashed at me indignantly. \"he turned around in the door and says: \\'don\\'t let that waiter take away my coffee!\\' then he went out on the sidewalk, and they shot him three times in his full belly and drove away.\" \"four of them were electrocuted,\" i said, remembering. \"five, with becker.\" his nostrils turned to me in an interested way. \"i understand you\\'re looking for a business gonnegtion.\" the juxtaposition of these two remarks was startling. gatsby answered for me: \"oh, no,\" he exclaimed, \"this isn\\'t the man.\" \"no?\" mr. wolfshiem seemed disappointed. \"this is just a friend. i told you we\\'d talk about that some other time.\" \"i beg your pardon,\" said mr. wolfshiem, \"i had a wrong man.\" a succulent hash arrived, and mr. wolfshiem, forgetting the more sentimental atmosphere of the old metropole, began to eat with ferocious delicacy. his eyes, meanwhile, roved very slowly all around the room--he completed the arc by turning to inspect the people directly behind. i think that, except for my presence, he would have taken one short glance beneath our own table. \"look here, old sport,\" said gatsby, leaning toward me, \"i\\'m afraid i made you a little angry this morning in the car.\" there was the smile again, but this time i held out against it. \"i don\\'t like mysteries,\" i answered, \"and i don\\'t understand why you won\\'t come out frankly and tell me what you want. why has it all got to come through miss baker?\" \"oh, it\\'s nothing underhand,\" he assured me. \"miss baker\\'s a great sportswoman, you know, and she\\'d never do anything that wasn\\'t all right.\" suddenly he looked at his watch, jumped up, and hurried from the room, leaving me with mr. wolfshiem at the table. \"he has to telephone,\" said mr. wolfshiem, following him with his eyes. \"fine fellow, isn\\'t he? handsome to look at and a perfect gentleman.\" \"yes.\" \"he\\'s an oggsford man.\" \"oh!\" \"he went to oggsford college in england. you know oggsford college?\" \"i\\'ve heard of it.\" \"it\\'s one of the most famous colleges in the world.\" \"have you known gatsby for a long time?\" i inquired. \"several years,\" he answered in a gratified way. \"i made the pleasure of his acquaintance just after the war. but i knew i had discovered a man of fine breeding after i talked with him an hour. i said to myself: \\'there\\'s the kind of man you\\'d like to take home and introduce to your mother and sister.\\' \" he paused. \"i see you\\'re looking at my cuff buttons.\" i hadn\\'t been looking at them, but i did now. they were composed of oddly familiar pieces of ivory. \"finest specimens of human molars,\" he informed me. \"well!\" i inspected them. \"that\\'s a very interesting idea.\" \"yeah.\" he flipped his sleeves up under his coat. \"yeah, gatsby\\'s very careful about women. he would never so much as look at a friend\\'s wife.\" when the subject of this instinctive trust returned to the table and sat down mr. wolfshiem drank his coffee with a jerk and got to his feet. \"i have enjoyed my lunch,\" he said, \"and i\\'m going to run off from you two young men before i outstay my welcome.\" \"don\\'t hurry meyer,\" said gatsby, without enthusiasm. mr. wolfshiem raised his hand in a sort of benediction. \"you\\'re very polite, but i belong to another generation,\" he announced solemnly. \"you sit here and discuss your sports and your young ladies and your--\" he supplied an imaginary noun with another wave of his hand. \"as for me, i am fifty years old, and i won\\'t impose myself on you any longer.\" as he shook hands and turned away his tragic nose was trembling. i wondered if i had said anything to offend him. \"he becomes very sentimental sometimes,\" explained gatsby. \"this is one of his sentimental days. he\\'s quite a character around new york--a denizen of broadway.\" \"who is he, anyhow, an actor?\" \"no.\" \"a dentist?\" \"meyer wolfshiem? no, he\\'s a gambler.\" gatsby hesitated, then added, coolly: \"he\\'s the man who fixed the world\\'s series back in 1919.\" \"fixed the world\\'s series?\" i repeated. the idea staggered me. i remembered, of course, that the world\\'s series had been fixed in 1919, but if i had thought of it at all i would have thought of it as a thing that merely happened, the end of some inevitable chain. it never occurred to me that one man could start to play with the faith of fifty million people--with the single-mindedness of a burglar blowing a safe. \"how did he happen to do that?\" i asked after a minute. \"he just saw the opportunity.\" \"why isn\\'t he in jail?\" \"they can\\'t get him, old sport. he\\'s a smart man.\" i insisted on paying the check. as the waiter brought my change i caught sight of tom buchanan across the crowded room. \"come along with me for a minute,\" i said; \"i\\'ve got to say hello to someone.\" when he saw us tom jumped up and took half a dozen steps in our direction. \"where\\'ve you been?\" he demanded eagerly. \"daisy\\'s furious because you haven\\'t called up.\" \"this is mr. gatsby, mr. buchanan.\" they shook hands briefly, and a strained, unfamiliar look of embarrassment came over gatsby\\'s face. \"how\\'ve you been, anyhow?\" demanded tom of me. \"how\\'d you happen to come up this far to eat?\" \"i\\'ve been having lunch with mr. gatsby.\" i turned toward mr. gatsby, but he was no longer there. ------------------------------------------------------------------------ one october day in nineteen-seventeen-- (said jordan baker that afternoon, sitting up very straight on a straight chair in the tea-garden at the plaza hotel) --i was walking along from one place to another, half on the sidewalks and half on the lawns. i was happier on the lawns because i had on shoes from england with rubber knobs on the soles that bit into the soft ground. i had on a new plaid skirt also that blew a little in the wind, and whenever this happened the red, white, and blue banners in front of all the houses stretched out stiff and said tut-tut-tut-tut, in a disapproving way. the largest of the banners and the largest of the lawns belonged to daisy fay\\'s house. she was just eighteen, two years older than me, and by far the most popular of all the young girls in louisville. she dressed in white, and had a little white roadster, and all day long the telephone rang in her house and excited young officers from camp taylor demanded the privilege of monopolizing her that night. \"anyways, for an hour!\" when i came opposite her house that morning her white roadster was beside the kerb, and she was sitting in it with a lieutenant i had never seen before. they were so engrossed in each other that she didn\\'t see me until i was five feet away. \"hello, jordan,\" she called unexpectedly. \"please come here.\" i was flattered that she wanted to speak to me, because of all the older girls i admired her most. she asked me if i was going to the red cross to make bandages. i was. well, then, would i tell them that she couldn\\'t come that day? the officer looked at daisy while she was speaking, in a way that every young girl wants to be looked at sometime, and because it seemed romantic to me i have remembered the incident ever since. his name was jay gatsby, and i didn\\'t lay eyes on him again for over four years--even after i\\'d met him on long island i didn\\'t realize it was the same man. that was nineteen-seventeen. by the next year i had a few beaux myself, and i began to play in tournaments, so i didn\\'t see daisy very often. she went with a slightly older crowd--when she went with anyone at all. wild rumours were circulating about her--how her mother had found her packing her bag one winter night to go to new york and say goodbye to a soldier who was going overseas. she was effectually prevented, but she wasn\\'t on speaking terms with her family for several weeks. after that she didn\\'t play around with the soldiers any more, but only with a few flat-footed, shortsighted young men in town, who couldn\\'t get into the army at all. by the next autumn she was gay again, gay as ever. she had a debut after the armistice, and in february she was presumably engaged to a man from new orleans. in june she married tom buchanan of chicago, with more pomp and circumstance than louisville ever knew before. he came down with a hundred people in four private cars, and hired a whole floor of the muhlbach hotel, and the day before the wedding he gave her a string of pearls valued at three hundred and fifty thousand dollars. i was a bridesmaid. i came into her room half an hour before the bridal dinner, and found her lying on her bed as lovely as the june night in her flowered dress--and as drunk as a monkey. she had a bottle of sauterne in one hand and a letter in the other. \" \\'gratulate me,\" she muttered. \"never had a drink before, but oh how i do enjoy it.\" \"what\\'s the matter, daisy?\" i was scared, i can tell you; i\\'d never seen a girl like that before. \"here, dearies.\" she groped around in a wastebasket she had with her on the bed and pulled out the string of pearls. \"take \\'em downstairs and give \\'em back to whoever they belong to. tell \\'em all daisy\\'s change\\' her mine. say: \\'daisy\\'s change\\' her mine!\\' \" she began to cry--she cried and cried. i rushed out and found her mother\\'s maid, and we locked the door and got her into a cold bath. she wouldn\\'t let go of the letter. she took it into the tub with her and squeezed it up in a wet ball, and only let me leave it in the soap-dish when she saw that it was coming to pieces like snow. but she didn\\'t say another word. we gave her spirits of ammonia and put ice on her forehead and hooked her back into her dress, and half an hour later, when we walked out of the room, the pearls were around her neck and the incident was over. next day at five o\\'clock she married tom buchanan without so much as a shiver, and started off on a three months\\' trip to the south seas. i saw them in santa barbara when they came back, and i thought i\\'d never seen a girl so mad about her husband. if he left the room for a minute she\\'d look around uneasily, and say: \"where\\'s tom gone?\" and wear the most abstracted expression until she saw him coming in the door. she used to sit on the sand with his head in her lap by the hour, rubbing her fingers over his eyes and looking at him with unfathomable delight. it was touching to see them together--it made you laugh in a hushed, fascinated way. that was in august. a week after i left santa barbara tom ran into a wagon on the ventura road one night, and ripped a front wheel off his car. the girl who was with him got into the papers, too, because her arm was broken--she was one of the chambermaids in the santa barbara hotel. the next april daisy had her little girl, and they went to france for a year. i saw them one spring in cannes, and later in deauville, and then they came back to chicago to settle down. daisy was popular in chicago, as you know. they moved with a fast crowd, all of them young and rich and wild, but she came out with an absolutely perfect reputation. perhaps because she doesn\\'t drink. it\\'s a great advantage not to drink among hard-drinking people. you can hold your tongue and, moreover, you can time any little irregularity of your own so that everybody else is so blind that they don\\'t see or care. perhaps daisy never went in for amour at all--and yet there\\'s something in that voice of hers ... well, about six weeks ago, she heard the name gatsby for the first time in years. it was when i asked you--do you remember?--if you knew gatsby in west egg. after you had gone home she came into my room and woke me up, and said: \"what gatsby?\" and when i described him--i was half asleep--she said in the strangest voice that it must be the man she used to know. it wasn\\'t until then that i connected this gatsby with the officer in her white car. ------------------------------------------------------------------------ when jordan baker had finished telling all this we had left the plaza for half an hour and were driving in a victoria through central park. the sun had gone down behind the tall apartments of the movie stars in the west fifties, and the clear voices of children, already gathered like crickets on the grass, rose through the hot twilight: \"i\\'m the sheik of araby. your love belongs to me. at night when you\\'re asleep into your tent i\\'ll creep--\" \"it was a strange coincidence,\" i said. \"but it wasn\\'t a coincidence at all.\" \"why not?\" \"gatsby bought that house so that daisy would be just across the bay.\" then it had not been merely the stars to which he had aspired on that june night. he came alive to me, delivered suddenly from the womb of his purposeless splendour. \"he wants to know,\" continued jordan, \"if you\\'ll invite daisy to your house some afternoon and then let him come over.\" the modesty of the demand shook me. he had waited five years and bought a mansion where he dispensed starlight to casual moths--so that he could \"come over\" some afternoon to a stranger\\'s garden. \"did i have to know all this before he could ask such a little thing?\" \"he\\'s afraid, he\\'s waited so long. he thought you might be offended. you see, he\\'s regular tough underneath it all.\" something worried me. \"why didn\\'t he ask you to arrange a meeting?\" \"he wants her to see his house,\" she explained. \"and your house is right next door.\" \"oh!\" \"i think he half expected her to wander into one of his parties, some night,\" went on jordan, \"but she never did. then he began asking people casually if they knew her, and i was the first one he found. it was that night he sent for me at his dance, and you should have heard the elaborate way he worked up to it. of course, i immediately suggested a luncheon in new york--and i thought he\\'d go mad: \" \\'i don\\'t want to do anything out of the way!\\' he kept saying. \\'i want to see her right next door.\\' \"when i said you were a particular friend of tom\\'s, he started to abandon the whole idea. he doesn\\'t know very much about tom, though he says he\\'s read a chicago paper for years just on the chance of catching a glimpse of daisy\\'s name.\" it was dark now, and as we dipped under a little bridge i put my arm around jordan\\'s golden shoulder and drew her toward me and asked her to dinner. suddenly i wasn\\'t thinking of daisy and gatsby any more, but of this clean, hard, limited person, who dealt in universal scepticism, and who leaned back jauntily just within the circle of my arm. a phrase began to beat in my ears with a sort of heady excitement: \"there are only the pursued, the pursuing, the busy, and the tired.\" \"and daisy ought to have something in her life,\" murmured jordan to me. \"does she want to see gatsby?\" \"she\\'s not to know about it. gatsby doesn\\'t want her to know. you\\'re just supposed to invite her to tea.\" we passed a barrier of dark trees, and then the facade of fifty-ninth street, a block of delicate pale light, beamed down into the park. unlike gatsby and tom buchanan, i had no girl whose disembodied face floated along the dark cornices and blinding signs, and so i drew up the girl beside me, tightening my arms. her wan, scornful mouth smiled, and so i drew her up again closer, this time to my face. v when i came home to west egg that night i was afraid for a moment that my house was on fire. two o\\'clock and the whole corner of the peninsula was blazing with light, which fell unreal on the shrubbery and made thin elongating glints upon the roadside wires. turning a corner, i saw that it was gatsby\\'s house, lit from tower to cellar. at first i thought it was another party, a wild rout that had resolved itself into \"hide-and-go-seek\" or \"sardines-in-the-box\" with all the house thrown open to the game. but there wasn\\'t a sound. only wind in the trees, which blew the wires and made the lights go off and on again as if the house had winked into the darkness. as my taxi groaned away i saw gatsby walking toward me across his lawn. \"your place looks like the world\\'s fair,\" i said. \"does it?\" he turned his eyes toward it absently. \"i have been glancing into some of the rooms. let\\'s go to coney island, old sport. in my car.\" \"it\\'s too late.\" \"well, suppose we take a plunge in the swimming pool? i haven\\'t made use of it all summer.\" \"i\\'ve got to go to bed.\" \"all right.\" he waited, looking at me with suppressed eagerness. \"i talked with miss baker,\" i said after a moment. \"i\\'m going to call up daisy tomorrow and invite her over here to tea.\" \"oh, that\\'s all right,\" he said carelessly. \"i don\\'t want to put you to any trouble.\" \"what day would suit you?\" \"what day would suit you?\" he corrected me quickly. \"i don\\'t want to put you to any trouble, you see.\" \"how about the day after tomorrow?\" he considered for a moment. then, with reluctance: \"i want to get the grass cut,\" he said. we both looked down at the grass--there was a sharp line where my ragged lawn ended and the darker, well-kept expanse of his began. i suspected that he meant my grass. \"there\\'s another little thing,\" he said uncertainly, and hesitated. \"would you rather put it off for a few days?\" i asked. \"oh, it isn\\'t about that. at least--\" he fumbled with a series of beginnings. \"why, i thought--why, look here, old sport, you don\\'t make much money, do you?\" \"not very much.\" this seemed to reassure him and he continued more confidently. \"i thought you didn\\'t, if you\\'ll pardon my--you see, i carry on a little business on the side, a sort of side line, you understand. and i thought that if you don\\'t make very much--you\\'re selling bonds, aren\\'t you, old sport?\" \"trying to.\" \"well, this would interest you. it wouldn\\'t take up much of your time and you might pick up a nice bit of money. it happens to be a rather confidential sort of thing.\" i realize now that under different circumstances that conversation might have been one of the crises of my life. but, because the offer was obviously and tactlessly for a service to be rendered, i had no choice except to cut him off there. \"i\\'ve got my hands full,\" i said. \"i\\'m much obliged but i couldn\\'t take on any more work.\" \"you wouldn\\'t have to do any business with wolfshiem.\" evidently he thought that i was shying away from the \"gonnegtion\" mentioned at lunch, but i assured him he was wrong. he waited a moment longer, hoping i\\'d begin a conversation, but i was too absorbed to be responsive, so he went unwillingly home. the evening had made me lightheaded and happy; i think i walked into a deep sleep as i entered my front door. so i don\\'t know whether or not gatsby went to coney island, or for how many hours he \"glanced into rooms\" while his house blazed gaudily on. i called up daisy from the office next morning, and invited her to come to tea. \"don\\'t bring tom,\" i warned her. \"what?\" \"don\\'t bring tom.\" \"who is \\'tom\\'?\" she asked innocently. the day agreed upon was pouring rain. at eleven o\\'clock a man in a raincoat, dragging a lawn-mower, tapped at my front door and said that mr. gatsby had sent him over to cut my grass. this reminded me that i had forgotten to tell my finn to come back, so i drove into west egg village to search for her among soggy whitewashed alleys and to buy some cups and lemons and flowers. the flowers were unnecessary, for at two o\\'clock a greenhouse arrived from gatsby\\'s, with innumerable receptacles to contain it. an hour later the front door opened nervously, and gatsby in a white flannel suit, silver shirt, and gold-coloured tie, hurried in. he was pale, and there were dark signs of sleeplessness beneath his eyes. \"is everything all right?\" he asked immediately. \"the grass looks fine, if that\\'s what you mean.\" \"what grass?\" he inquired blankly. \"oh, the grass in the yard.\" he looked out the window at it, but, judging from his expression, i don\\'t believe he saw a thing. \"looks very good,\" he remarked vaguely. \"one of the papers said they thought the rain would stop about four. i think it was the journal. have you got everything you need in the shape of--of tea?\" i took him into the pantry, where he looked a little reproachfully at the finn. together we scrutinized the twelve lemon cakes from the delicatessen shop. \"will they do?\" i asked. \"of course, of course! they\\'re fine!\" and he added hollowly, \"... old sport.\" the rain cooled about half-past three to a damp mist, through which occasional thin drops swam like dew. gatsby looked with vacant eyes through a copy of clay\\'s economics, starting at the finnish tread that shook the kitchen floor, and peering towards the bleared windows from time to time as if a series of invisible but alarming happenings were taking place outside. finally he got up and informed me, in an uncertain voice, that he was going home. \"why\\'s that?\" \"nobody\\'s coming to tea. it\\'s too late!\" he looked at his watch as if there was some pressing demand on his time elsewhere. \"i can\\'t wait all day.\" \"don\\'t be silly; it\\'s just two minutes to four.\" he sat down miserably, as if i had pushed him, and simultaneously there was the sound of a motor turning into my lane. we both jumped up, and, a little harrowed myself, i went out into the yard. under the dripping bare lilac-trees a large open car was coming up the drive. it stopped. daisy\\'s face, tipped sideways beneath a three-cornered lavender hat, looked out at me with a bright ecstatic smile. \"is this absolutely where you live, my dearest one?\" the exhilarating ripple of her voice was a wild tonic in the rain. i had to follow the sound of it for a moment, up and down, with my ear alone, before any words came through. a damp streak of hair lay like a dash of blue paint across her cheek, and her hand was wet with glistening drops as i took it to help her from the car. \"are you in love with me,\" she said low in my ear, \"or why did i have to come alone?\" \"that\\'s the secret of castle rackrent. tell your chauffeur to go far away and spend an hour.\" \"come back in an hour, ferdie.\" then in a grave murmur: \"his name is ferdie.\" \"does the gasoline affect his nose?\" \"i don\\'t think so,\" she said innocently. \"why?\" we went in. to my overwhelming surprise the living-room was deserted. \"well, that\\'s funny,\" i exclaimed. \"what\\'s funny?\" she turned her head as there was a light dignified knocking at the front door. i went out and opened it. gatsby, pale as death, with his hands plunged like weights in his coat pockets, was standing in a puddle of water glaring tragically into my eyes. with his hands still in his coat pockets he stalked by me into the hall, turned sharply as if he were on a wire, and disappeared into the living-room. it wasn\\'t a bit funny. aware of the loud beating of my own heart i pulled the door to against the increasing rain. for half a minute there wasn\\'t a sound. then from the living-room i heard a sort of choking murmur and part of a laugh, followed by daisy\\'s voice on a clear artificial note: \"i certainly am awfully glad to see you again.\" a pause; it endured horribly. i had nothing to do in the hall, so i went into the room. gatsby, his hands still in his pockets, was reclining against the mantelpiece in a strained counterfeit of perfect ease, even of boredom. his head leaned back so far that it rested against the face of a defunct mantelpiece clock, and from this position his distraught eyes stared down at daisy, who was sitting, frightened but graceful, on the edge of a stiff chair. \"we\\'ve met before,\" muttered gatsby. his eyes glanced momentarily at me, and his lips parted with an abortive attempt at a laugh. luckily the clock took this moment to tilt dangerously at the pressure of his head, whereupon he turned and caught it with trembling fingers, and set it back in place. then he sat down, rigidly, his elbow on the arm of the sofa and his chin in his hand. \"i\\'m sorry about the clock,\" he said. my own face had now assumed a deep tropical burn. i couldn\\'t muster up a single commonplace out of the thousand in my head. \"it\\'s an old clock,\" i told them idiotically. i think we all believed for a moment that it had smashed in pieces on the floor. \"we haven\\'t met for many years,\" said daisy, her voice as matter-of-fact as it could ever be. \"five years next november.\" the automatic quality of gatsby\\'s answer set us all back at least another minute. i had them both on their feet with the desperate suggestion that they help me make tea in the kitchen when the demoniac finn brought it in on a tray. amid the welcome confusion of cups and cakes a certain physical decency established itself. gatsby got himself into a shadow and, while daisy and i talked, looked conscientiously from one to the other of us with tense, unhappy eyes. however, as calmness wasn\\'t an end in itself, i made an excuse at the first possible moment, and got to my feet. \"where are you going?\" demanded gatsby in immediate alarm. \"i\\'ll be back.\" \"i\\'ve got to speak to you about something before you go.\" he followed me wildly into the kitchen, closed the door, and whispered: \"oh, god!\" in a miserable way. \"what\\'s the matter?\" \"this is a terrible mistake,\" he said, shaking his head from side to side, \"a terrible, terrible mistake.\" \"you\\'re just embarrassed, that\\'s all,\" and luckily i added: \"daisy\\'s embarrassed too.\" \"she\\'s embarrassed?\" he repeated incredulously. \"just as much as you are.\" \"don\\'t talk so loud.\" \"you\\'re acting like a little boy,\" i broke out impatiently. \"not only that, but you\\'re rude. daisy\\'s sitting in there all alone.\" he raised his hand to stop my words, looked at me with unforgettable reproach, and, opening the door cautiously, went back into the other room. i walked out the back way--just as gatsby had when he had made his nervous circuit of the house half an hour before--and ran for a huge black knotted tree, whose massed leaves made a fabric against the rain. once more it was pouring, and my irregular lawn, well-shaved by gatsby\\'s gardener, abounded in small muddy swamps and prehistoric marshes. there was nothing to look at from under the tree except gatsby\\'s enormous house, so i stared at it, like kant at his church steeple, for half an hour. a brewer had built it early in the \"period\" craze, a decade before, and there was a story that he\\'d agreed to pay five years\\' taxes on all the neighbouring cottages if the owners would have their roofs thatched with straw. perhaps their refusal took the heart out of his plan to found a family--he went into an immediate decline. his children sold his house with the black wreath still on the door. americans, while willing, even eager, to be serfs, have always been obstinate about being peasantry. after half an hour, the sun shone again, and the grocer\\'s automobile rounded gatsby\\'s drive with the raw material for his servants\\' dinner--i felt sure he wouldn\\'t eat a spoonful. a maid began opening the upper windows of his house, appeared momentarily in each, and, leaning from the large central bay, spat meditatively into the garden. it was time i went back. while the rain continued it had seemed like the murmur of their voices, rising and swelling a little now and then with gusts of emotion. but in the new silence i felt that silence had fallen within the house too. i went in--after making every possible noise in the kitchen, short of pushing over the stove--but i don\\'t believe they heard a sound. they were sitting at either end of the couch, looking at each other as if some question had been asked, or was in the air, and every vestige of embarrassment was gone. daisy\\'s face was smeared with tears, and when i came in she jumped up and began wiping at it with her handkerchief before a mirror. but there was a change in gatsby that was simply confounding. he literally glowed; without a word or a gesture of exultation a new well-being radiated from him and filled the little room. \"oh, hello, old sport,\" he said, as if he hadn\\'t seen me for years. i thought for a moment he was going to shake hands. \"it\\'s stopped raining.\" \"has it?\" when he realized what i was talking about, that there were twinkle-bells of sunshine in the room, he smiled like a weather man, like an ecstatic patron of recurrent light, and repeated the news to daisy. \"what do you think of that? it\\'s stopped raining.\" \"i\\'m glad, jay.\" her throat, full of aching, grieving beauty, told only of her unexpected joy. \"i want you and daisy to come over to my house,\" he said, \"i\\'d like to show her around.\" \"you\\'re sure you want me to come?\" \"absolutely, old sport.\" daisy went upstairs to wash her face--too late i thought with humiliation of my towels--while gatsby and i waited on the lawn. \"my house looks well, doesn\\'t it?\" he demanded. \"see how the whole front of it catches the light.\" i agreed that it was splendid. \"yes.\" his eyes went over it, every arched door and square tower. \"it took me just three years to earn the money that bought it.\" \"i thought you inherited your money.\" \"i did, old sport,\" he said automatically, \"but i lost most of it in the big panic--the panic of the war.\" i think he hardly knew what he was saying, for when i asked him what business he was in he answered: \"that\\'s my affair,\" before he realized that it wasn\\'t an appropriate reply. \"oh, i\\'ve been in several things,\" he corrected himself. \"i was in the drug business and then i was in the oil business. but i\\'m not in either one now.\" he looked at me with more attention. \"do you mean you\\'ve been thinking over what i proposed the other night?\" before i could answer, daisy came out of the house and two rows of brass buttons on her dress gleamed in the sunlight. \"that huge place there?\" she cried pointing. \"do you like it?\" \"i love it, but i don\\'t see how you live there all alone.\" \"i keep it always full of interesting people, night and day. people who do interesting things. celebrated people.\" instead of taking the shortcut along the sound we went down to the road and entered by the big postern. with enchanting murmurs daisy admired this aspect or that of the feudal silhouette against the sky, admired the gardens, the sparkling odour of jonquils and the frothy odour of hawthorn and plum blossoms and the pale gold odour of kiss-me-at-the-gate. it was strange to reach the marble steps and find no stir of bright dresses in and out the door, and hear no sound but bird voices in the trees. and inside, as we wandered through marie antoinette music-rooms and restoration salons, i felt that there were guests concealed behind every couch and table, under orders to be breathlessly silent until we had passed through. as gatsby closed the door of \"the merton college library\" i could have sworn i heard the owl-eyed man break into ghostly laughter. we went upstairs, through period bedrooms swathed in rose and lavender silk and vivid with new flowers, through dressing-rooms and poolrooms, and bathrooms with sunken baths--intruding into one chamber where a dishevelled man in pyjamas was doing liver exercises on the floor. it was mr. klipspringer, the \"boarder.\" i had seen him wandering hungrily about the beach that morning. finally we came to gatsby\\'s own apartment, a bedroom and a bath, and an adam\\'s study, where we sat down and drank a glass of some chartreuse he took from a cupboard in the wall. he hadn\\'t once ceased looking at daisy, and i think he revalued everything in his house according to the measure of response it drew from her well-loved eyes. sometimes too, he stared around at his possessions in a dazed way, as though in her actual and astounding presence none of it was any longer real. once he nearly toppled down a flight of stairs. his bedroom was the simplest room of all--except where the dresser was garnished with a toilet set of pure dull gold. daisy took the brush with delight, and smoothed her hair, whereupon gatsby sat down and shaded his eyes and began to laugh. \"it\\'s the funniest thing, old sport,\" he said hilariously. \"i can\\'t--when i try to--\" he had passed visibly through two states and was entering upon a third. after his embarrassment and his unreasoning joy he was consumed with wonder at her presence. he had been full of the idea so long, dreamed it right through to the end, waited with his teeth set, so to speak, at an inconceivable pitch of intensity. now, in the reaction, he was running down like an over-wound clock. recovering himself in a minute he opened for us two hulking patent cabinets which held his massed suits and dressing-gowns and ties, and his shirts, piled like bricks in stacks a dozen high. \"i\\'ve got a man in england who buys me clothes. he sends over a selection of things at the beginning of each season, spring and fall.\" he took out a pile of shirts and began throwing them, one by one, before us, shirts of sheer linen and thick silk and fine flannel, which lost their folds as they fell and covered the table in many-coloured disarray. while we admired he brought more and the soft rich heap mounted higher--shirts with stripes and scrolls and plaids in coral and apple-green and lavender and faint orange, with monograms of indian blue. suddenly, with a strained sound, daisy bent her head into the shirts and began to cry stormily. \"they\\'re such beautiful shirts,\" she sobbed, her voice muffled in the thick folds. \"it makes me sad because i\\'ve never seen such--such beautiful shirts before.\" ------------------------------------------------------------------------ after the house, we were to see the grounds and the swimming pool, and the hydroplane, and the midsummer flowers--but outside gatsby\\'s window it began to rain again, so we stood in a row looking at the corrugated surface of the sound. \"if it wasn\\'t for the mist we could see your home across the bay,\" said gatsby. \"you always have a green light that burns all night at the end of your dock.\" daisy put her arm through his abruptly, but he seemed absorbed in what he had just said. possibly it had occurred to him that the colossal significance of that light had now vanished forever. compared to the great distance that had separated him from daisy it had seemed very near to her, almost touching her. it had seemed as close as a star to the moon. now it was again a green light on a dock. his count of enchanted objects had diminished by one. i began to walk about the room, examining various indefinite objects in the half darkness. a large photograph of an elderly man in yachting costume attracted me, hung on the wall over his desk. \"who\\'s this?\" \"that? that\\'s mr. dan cody, old sport.\" the name sounded faintly familiar. \"he\\'s dead now. he used to be my best friend years ago.\" there was a small picture of gatsby, also in yachting costume, on the bureau--gatsby with his head thrown back defiantly--taken apparently when he was about eighteen. \"i adore it,\" exclaimed daisy. \"the pompadour! you never told me you had a pompadour--or a yacht.\" \"look at this,\" said gatsby quickly. \"here\\'s a lot of clippings--about you.\" they stood side by side examining it. i was going to ask to see the rubies when the phone rang, and gatsby took up the receiver. \"yes ... well, i can\\'t talk now ... i can\\'t talk now, old sport ... i said a small town ... he must know what a small town is ... well, he\\'s no use to us if detroit is his idea of a small town ...\" he rang off. \"come here quick!\" cried daisy at the window. the rain was still falling, but the darkness had parted in the west, and there was a pink and golden billow of foamy clouds above the sea. \"look at that,\" she whispered, and then after a moment: \"i\\'d like to just get one of those pink clouds and put you in it and push you around.\" i tried to go then, but they wouldn\\'t hear of it; perhaps my presence made them feel more satisfactorily alone. \"i know what we\\'ll do,\" said gatsby, \"we\\'ll have klipspringer play the piano.\" he went out of the room calling \"ewing!\" and returned in a few minutes accompanied by an embarrassed, slightly worn young man, with shell-rimmed glasses and scanty blond hair. he was now decently clothed in a \"sport shirt,\" open at the neck, sneakers, and duck trousers of a nebulous hue. \"did we interrupt your exercise?\" inquired daisy politely. \"i was asleep,\" cried mr. klipspringer, in a spasm of embarrassment. \"that is, i\\'d been asleep. then i got up ...\" \"klipspringer plays the piano,\" said gatsby, cutting him off. \"don\\'t you, ewing, old sport?\" \"i don\\'t play well. i don\\'t--hardly play at all. i\\'m all out of prac--\" \"we\\'ll go downstairs,\" interrupted gatsby. he flipped a switch. the grey windows disappeared as the house glowed full of light. in the music-room gatsby turned on a solitary lamp beside the piano. he lit daisy\\'s cigarette from a trembling match, and sat down with her on a couch far across the room, where there was no light save what the gleaming floor bounced in from the hall. when klipspringer had played \"the love nest\" he turned around on the bench and searched unhappily for gatsby in the gloom. \"i\\'m all out of practice, you see. i told you i couldn\\'t play. i\\'m all out of prac--\" \"don\\'t talk so much, old sport,\" commanded gatsby. \"play!\" \"in the morning, in the evening, ain\\'t we got fun--\" outside the wind was loud and there was a faint flow of thunder along the sound. all the lights were going on in west egg now; the electric trains, men-carrying, were plunging home through the rain from new york. it was the hour of a profound human change, and excitement was generating on the air. \"one thing\\'s sure and nothing\\'s surer the rich get richer and the poor get--children. in the meantime, in between time--\" as i went over to say goodbye i saw that the expression of bewilderment had come back into gatsby\\'s face, as though a faint doubt had occurred to him as to the quality of his present happiness. almost five years! there must have been moments even that afternoon when daisy tumbled short of his dreams--not through her own fault, but because of the colossal vitality of his illusion. it had gone beyond her, beyond everything. he had thrown himself into it with a creative passion, adding to it all the time, decking it out with every bright feather that drifted his way. no amount of fire or freshness can challenge what a man can store up in his ghostly heart. as i watched him he adjusted himself a little, visibly. his hand took hold of hers, and as she said something low in his ear he turned toward her with a rush of emotion. i think that voice held him most, with its fluctuating, feverish warmth, because it couldn\\'t be over-dreamed--that voice was a deathless song. they had forgotten me, but daisy glanced up and held out her hand; gatsby didn\\'t know me now at all. i looked once more at them and they looked back at me, remotely, possessed by intense life. then i went out of the room and down the marble steps into the rain, leaving them there together. vi about this time an ambitious young reporter from new york arrived one morning at gatsby\\'s door and asked him if he had anything to say. \"anything to say about what?\" inquired gatsby politely. \"why--any statement to give out.\" it transpired after a confused five minutes that the man had heard gatsby\\'s name around his office in a connection which he either wouldn\\'t reveal or didn\\'t fully understand. this was his day off and with laudable initiative he had hurried out \"to see.\" it was a random shot, and yet the reporter\\'s instinct was right. gatsby\\'s notoriety, spread about by the hundreds who had accepted his hospitality and so become authorities upon his past, had increased all summer until he fell just short of being news. contemporary legends such as the \"underground pipeline to canada\" attached themselves to him, and there was one persistent story that he didn\\'t live in a house at all, but in a boat that looked like a house and was moved secretly up and down the long island shore. just why these inventions were a source of satisfaction to james gatz of north dakota, isn\\'t easy to say. james gatz--that was really, or at least legally, his name. he had changed it at the age of seventeen and at the specific moment that witnessed the beginning of his career--when he saw dan cody\\'s yacht drop anchor over the most insidious flat on lake superior. it was james gatz who had been loafing along the beach that afternoon in a torn green jersey and a pair of canvas pants, but it was already jay gatsby who borrowed a rowboat, pulled out to the tuolomee, and informed cody that a wind might catch him and break him up in half an hour. i suppose he\\'d had the name ready for a long time, even then. his parents were shiftless and unsuccessful farm people--his imagination had never really accepted them as his parents at all. the truth was that jay gatsby of west egg, long island, sprang from his platonic conception of himself. he was a son of god--a phrase which, if it means anything, means just that--and he must be about his father\\'s business, the service of a vast, vulgar, and meretricious beauty. so he invented just the sort of jay gatsby that a seventeen-year-old boy would be likely to invent, and to this conception he was faithful to the end. for over a year he had been beating his way along the south shore of lake superior as a clam-digger and a salmon-fisher or in any other capacity that brought him food and bed. his brown, hardening body lived naturally through the half-fierce, half-lazy work of the bracing days. he knew women early, and since they spoiled him he became contemptuous of them, of young virgins because they were ignorant, of the others because they were hysterical about things which in his overwhelming self-absorption he took for granted. but his heart was in a constant, turbulent riot. the most grotesque and fantastic conceits haunted him in his bed at night. a universe of ineffable gaudiness spun itself out in his brain while the clock ticked on the washstand and the moon soaked with wet light his tangled clothes upon the floor. each night he added to the pattern of his fancies until drowsiness closed down upon some vivid scene with an oblivious embrace. for a while these reveries provided an outlet for his imagination; they were a satisfactory hint of the unreality of reality, a promise that the rock of the world was founded securely on a fairy\\'s wing. an instinct toward his future glory had led him, some months before, to the small lutheran college of st. olaf\\'s in southern minnesota. he stayed there two weeks, dismayed at its ferocious indifference to the drums of his destiny, to destiny itself, and despising the janitor\\'s work with which he was to pay his way through. then he drifted back to lake superior, and he was still searching for something to do on the day that dan cody\\'s yacht dropped anchor in the shallows alongshore. cody was fifty years old then, a product of the nevada silver fields, of the yukon, of every rush for metal since seventy-five. the transactions in montana copper that made him many times a millionaire found him physically robust but on the verge of soft-mindedness, and, suspecting this, an infinite number of women tried to separate him from his money. the none too savoury ramifications by which ella kaye, the newspaper woman, played madame de maintenon to his weakness and sent him to sea in a yacht, were common property of the turgid journalism in 1902. he had been coasting along all too hospitable shores for five years when he turned up as james gatz\\'s destiny in little girl bay. to young gatz, resting on his oars and looking up at the railed deck, that yacht represented all the beauty and glamour in the world. i suppose he smiled at cody--he had probably discovered that people liked him when he smiled. at any rate cody asked him a few questions (one of them elicited the brand new name) and found that he was quick and extravagantly ambitious. a few days later he took him to duluth and bought him a blue coat, six pairs of white duck trousers, and a yachting cap. and when the tuolomee left for the west indies and the barbary coast, gatsby left too. he was employed in a vague personal capacity--while he remained with cody he was in turn steward, mate, skipper, secretary, and even jailor, for dan cody sober knew what lavish doings dan cody drunk might soon be about, and he provided for such contingencies by reposing more and more trust in gatsby. the arrangement lasted five years, during which the boat went three times around the continent. it might have lasted indefinitely except for the fact that ella kaye came on board one night in boston and a week later dan cody inhospitably died. i remember the portrait of him up in gatsby\\'s bedroom, a grey, florid man with a hard, empty face--the pioneer debauchee, who during one phase of american life brought back to the eastern seaboard the savage violence of the frontier brothel and saloon. it was indirectly due to cody that gatsby drank so little. sometimes in the course of gay parties women used to rub champagne into his hair; for himself he formed the habit of letting liquor alone. and it was from cody that he inherited money--a legacy of twenty-five thousand dollars. he didn\\'t get it. he never understood the legal device that was used against him, but what remained of the millions went intact to ella kaye. he was left with his singularly appropriate education; the vague contour of jay gatsby had filled out to the substantiality of a man. ------------------------------------------------------------------------ he told me all this very much later, but i\\'ve put it down here with the idea of exploding those first wild rumours about his antecedents, which weren\\'t even faintly true. moreover he told it to me at a time of confusion, when i had reached the point of believing everything and nothing about him. so i take advantage of this short halt, while gatsby, so to speak, caught his breath, to clear this set of misconceptions away. it was a halt, too, in my association with his affairs. for several weeks i didn\\'t see him or hear his voice on the phone--mostly i was in new york, trotting around with jordan and trying to ingratiate myself with her senile aunt--but finally i went over to his house one sunday afternoon. i hadn\\'t been there two minutes when somebody brought tom buchanan in for a drink. i was startled, naturally, but the really surprising thing was that it hadn\\'t happened before. they were a party of three on horseback--tom and a man named sloane and a pretty woman in a brown riding-habit, who had been there previously. \"i\\'m delighted to see you,\" said gatsby, standing on his porch. \"i\\'m delighted that you dropped in.\" as though they cared! \"sit right down. have a cigarette or a cigar.\" he walked around the room quickly, ringing bells. \"i\\'ll have something to drink for you in just a minute.\" he was profoundly affected by the fact that tom was there. but he would be uneasy anyhow until he had given them something, realizing in a vague way that that was all they came for. mr. sloane wanted nothing. a lemonade? no, thanks. a little champagne? nothing at all, thanks ... i\\'m sorry-- \"did you have a nice ride?\" \"very good roads around here.\" \"i suppose the automobiles--\" \"yeah.\" moved by an irresistible impulse, gatsby turned to tom, who had accepted the introduction as a stranger. \"i believe we\\'ve met somewhere before, mr. buchanan.\" \"oh, yes,\" said tom, gruffly polite, but obviously not remembering. \"so we did. i remember very well.\" \"about two weeks ago.\" \"that\\'s right. you were with nick here.\" \"i know your wife,\" continued gatsby, almost aggressively. \"that so?\" tom turned to me. \"you live near here, nick?\" \"next door.\" \"that so?\" mr. sloane didn\\'t enter into the conversation, but lounged back haughtily in his chair; the woman said nothing either--until unexpectedly, after two highballs, she became cordial. \"we\\'ll all come over to your next party, mr. gatsby,\" she suggested. \"what do you say?\" \"certainly; i\\'d be delighted to have you.\" \"be ver\\' nice,\" said mr. sloane, without gratitude. \"well--think ought to be starting home.\" \"please don\\'t hurry,\" gatsby urged them. he had control of himself now, and he wanted to see more of tom. \"why don\\'t you--why don\\'t you stay for supper? i wouldn\\'t be surprised if some other people dropped in from new york.\" \"you come to supper with me,\" said the lady enthusiastically. \"both of you.\" this included me. mr. sloane got to his feet. \"come along,\" he said--but to her only. \"i mean it,\" she insisted. \"i\\'d love to have you. lots of room.\" gatsby looked at me questioningly. he wanted to go and he didn\\'t see that mr. sloane had determined he shouldn\\'t. \"i\\'m afraid i won\\'t be able to,\" i said. \"well, you come,\" she urged, concentrating on gatsby. mr. sloane murmured something close to her ear. \"we won\\'t be late if we start now,\" she insisted aloud. \"i haven\\'t got a horse,\" said gatsby. \"i used to ride in the army, but i\\'ve never bought a horse. i\\'ll have to follow you in my car. excuse me for just a minute.\" the rest of us walked out on the porch, where sloane and the lady began an impassioned conversation aside. \"my god, i believe the man\\'s coming,\" said tom. \"doesn\\'t he know she doesn\\'t want him?\" \"she says she does want him.\" \"she has a big dinner party and he won\\'t know a soul there.\" he frowned. \"i wonder where in the devil he met daisy. by god, i may be old-fashioned in my ideas, but women run around too much these days to suit me. they meet all kinds of crazy fish.\" suddenly mr. sloane and the lady walked down the steps and mounted their horses. \"come on,\" said mr. sloane to tom, \"we\\'re late. we\\'ve got to go.\" and then to me: \"tell him we couldn\\'t wait, will you?\" tom and i shook hands, the rest of us exchanged a cool nod, and they trotted quickly down the drive, disappearing under the august foliage just as gatsby, with hat and light overcoat in hand, came out the front door. tom was evidently perturbed at daisy\\'s running around alone, for on the following saturday night he came with her to gatsby\\'s party. perhaps his presence gave the evening its peculiar quality of oppressiveness--it stands out in my memory from gatsby\\'s other parties that summer. there were the same people, or at least the same sort of people, the same profusion of champagne, the same many-coloured, many-keyed commotion, but i felt an unpleasantness in the air, a pervading harshness that hadn\\'t been there before. or perhaps i had merely grown used to it, grown to accept west egg as a world complete in itself, with its own standards and its own great figures, second to nothing because it had no consciousness of being so, and now i was looking at it again, through daisy\\'s eyes. it is invariably saddening to look through new eyes at things upon which you have expended your own powers of adjustment. they arrived at twilight, and, as we strolled out among the sparkling hundreds, daisy\\'s voice was playing murmurous tricks in her throat. \"these things excite me so,\" she whispered. \"if you want to kiss me any time during the evening, nick, just let me know and i\\'ll be glad to arrange it for you. just mention my name. or present a green card. i\\'m giving out green--\" \"look around,\" suggested gatsby. \"i\\'m looking around. i\\'m having a marvellous--\" \"you must see the faces of many people you\\'ve heard about.\" tom\\'s arrogant eyes roamed the crowd. \"we don\\'t go around very much,\" he said; \"in fact, i was just thinking i don\\'t know a soul here.\" \"perhaps you know that lady.\" gatsby indicated a gorgeous, scarcely human orchid of a woman who sat in state under a white-plum tree. tom and daisy stared, with that peculiarly unreal feeling that accompanies the recognition of a hitherto ghostly celebrity of the movies. \"she\\'s lovely,\" said daisy. \"the man bending over her is her director.\" he took them ceremoniously from group to group: \"mrs. buchanan ... and mr. buchanan--\" after an instant\\'s hesitation he added: \"the polo player.\" \"oh no,\" objected tom quickly, \"not me.\" but evidently the sound of it pleased gatsby for tom remained \"the polo player\" for the rest of the evening. \"i\\'ve never met so many celebrities,\" daisy exclaimed. \"i liked that man--what was his name?--with the sort of blue nose.\" gatsby identified him, adding that he was a small producer. \"well, i liked him anyhow.\" \"i\\'d a little rather not be the polo player,\" said tom pleasantly, \"i\\'d rather look at all these famous people in--in oblivion.\" daisy and gatsby danced. i remember being surprised by his graceful, conservative foxtrot--i had never seen him dance before. then they sauntered over to my house and sat on the steps for half an hour, while at her request i remained watchfully in the garden. \"in case there\\'s a fire or a flood,\" she explained, \"or any act of god.\" tom appeared from his oblivion as we were sitting down to supper together. \"do you mind if i eat with some people over here?\" he said. \"a fellow\\'s getting off some funny stuff.\" \"go ahead,\" answered daisy genially, \"and if you want to take down any addresses here\\'s my little gold pencil.\" ... she looked around after a moment and told me the girl was \"common but pretty,\" and i knew that except for the half-hour she\\'d been alone with gatsby she wasn\\'t having a good time. we were at a particularly tipsy table. that was my fault--gatsby had been called to the phone, and i\\'d enjoyed these same people only two weeks before. but what had amused me then turned septic on the air now. \"how do you feel, miss baedeker?\" the girl addressed was trying, unsuccessfully, to slump against my shoulder. at this inquiry she sat up and opened her eyes. \"wha\\'?\" a massive and lethargic woman, who had been urging daisy to play golf with her at the local club tomorrow, spoke in miss baedeker\\'s defence: \"oh, she\\'s all right now. when she\\'s had five or six cocktails she always starts screaming like that. i tell her she ought to leave it alone.\" \"i do leave it alone,\" affirmed the accused hollowly. \"we heard you yelling, so i said to doc civet here: \\'there\\'s somebody that needs your help, doc.\\' \" \"she\\'s much obliged, i\\'m sure,\" said another friend, without gratitude, \"but you got her dress all wet when you stuck her head in the pool.\" \"anything i hate is to get my head stuck in a pool,\" mumbled miss baedeker. \"they almost drowned me once over in new jersey.\" \"then you ought to leave it alone,\" countered doctor civet. \"speak for yourself!\" cried miss baedeker violently. \"your hand shakes. i wouldn\\'t let you operate on me!\" it was like that. almost the last thing i remember was standing with daisy and watching the moving-picture director and his star. they were still under the white-plum tree and their faces were touching except for a pale, thin ray of moonlight between. it occurred to me that he had been very slowly bending toward her all evening to attain this proximity, and even while i watched i saw him stoop one ultimate degree and kiss at her cheek. \"i like her,\" said daisy, \"i think she\\'s lovely.\" but the rest offended her--and inarguably because it wasn\\'t a gesture but an emotion. she was appalled by west egg, this unprecedented \"place\" that broadway had begotten upon a long island fishing village--appalled by its raw vigour that chafed under the old euphemisms and by the too obtrusive fate that herded its inhabitants along a shortcut from nothing to nothing. she saw something awful in the very simplicity she failed to understand. i sat on the front steps with them while they waited for their car. it was dark here in front; only the bright door sent ten square feet of light volleying out into the soft black morning. sometimes a shadow moved against a dressing-room blind above, gave way to another shadow, an indefinite procession of shadows, who rouged and powdered in an invisible glass. \"who is this gatsby anyhow?\" demanded tom suddenly. \"some big bootlegger?\" \"where\\'d you hear that?\" i inquired. \"i didn\\'t hear it. i imagined it. a lot of these newly rich people are just big bootleggers, you know.\" \"not gatsby,\" i said shortly. he was silent for a moment. the pebbles of the drive crunched under his feet. \"well, he certainly must have strained himself to get this menagerie together.\" a breeze stirred the grey haze of daisy\\'s fur collar. \"at least they are more interesting than the people we know,\" she said with an effort. \"you didn\\'t look so interested.\" \"well, i was.\" tom laughed and turned to me. \"did you notice daisy\\'s face when that girl asked her to put her under a cold shower?\" daisy began to sing with the music in a husky, rhythmic whisper, bringing out a meaning in each word that it had never had before and would never have again. when the melody rose her voice broke up sweetly, following it, in a way contralto voices have, and each change tipped out a little of her warm human magic upon the air. \"lots of people come who haven\\'t been invited,\" she said suddenly. \"that girl hadn\\'t been invited. they simply force their way in and he\\'s too polite to object.\" \"i\\'d like to know who he is and what he does,\" insisted tom. \"and i think i\\'ll make a point of finding out.\" \"i can tell you right now,\" she answered. \"he owned some drugstores, a lot of drugstores. he built them up himself.\" the dilatory limousine came rolling up the drive. \"good night, nick,\" said daisy. her glance left me and sought the lighted top of the steps, where \"three o\\'clock in the morning,\" a neat, sad little waltz of that year, was drifting out the open door. after all, in the very casualness of gatsby\\'s party there were romantic possibilities totally absent from her world. what was it up there in the song that seemed to be calling her back inside? what would happen now in the dim, incalculable hours? perhaps some unbelievable guest would arrive, a person infinitely rare and to be marvelled at, some authentically radiant young girl who with one fresh glance at gatsby, one moment of magical encounter, would blot out those five years of unwavering devotion. i stayed late that night. gatsby asked me to wait until he was free, and i lingered in the garden until the inevitable swimming party had run up, chilled and exalted, from the black beach, until the lights were extinguished in the guestrooms overhead. when he came down the steps at last the tanned skin was drawn unusually tight on his face, and his eyes were bright and tired. \"she didn\\'t like it,\" he said immediately. \"of course she did.\" \"she didn\\'t like it,\" he insisted. \"she didn\\'t have a good time.\" he was silent, and i guessed at his unutterable depression. \"i feel far away from her,\" he said. \"it\\'s hard to make her understand.\" \"you mean about the dance?\" \"the dance?\" he dismissed all the dances he had given with a snap of his fingers. \"old sport, the dance is unimportant.\" he wanted nothing less of daisy than that she should go to tom and say: \"i never loved you.\" after she had obliterated four years with that sentence they could decide upon the more practical measures to be taken. one of them was that, after she was free, they were to go back to louisville and be married from her house--just as if it were five years ago. \"and she doesn\\'t understand,\" he said. \"she used to be able to understand. we\\'d sit for hours--\" he broke off and began to walk up and down a desolate path of fruit rinds and discarded favours and crushed flowers. \"i wouldn\\'t ask too much of her,\" i ventured. \"you can\\'t repeat the past.\" \"can\\'t repeat the past?\" he cried incredulously. \"why of course you can!\" he looked around him wildly, as if the past were lurking here in the shadow of his house, just out of reach of his hand. \"i\\'m going to fix everything just the way it was before,\" he said, nodding determinedly. \"she\\'ll see.\" he talked a lot about the past, and i gathered that he wanted to recover something, some idea of himself perhaps, that had gone into loving daisy. his life had been confused and disordered since then, but if he could once return to a certain starting place and go over it all slowly, he could find out what that thing was ... ... one autumn night, five years before, they had been walking down the street when the leaves were falling, and they came to a place where there were no trees and the sidewalk was white with moonlight. they stopped here and turned toward each other. now it was a cool night with that mysterious excitement in it which comes at the two changes of the year. the quiet lights in the houses were humming out into the darkness and there was a stir and bustle among the stars. out of the corner of his eye gatsby saw that the blocks of the sidewalks really formed a ladder and mounted to a secret place above the trees--he could climb to it, if he climbed alone, and once there he could suck on the pap of life, gulp down the incomparable milk of wonder. his heart beat faster as daisy\\'s white face came up to his own. he knew that when he kissed this girl, and forever wed his unutterable visions to her perishable breath, his mind would never romp again like the mind of god. so he waited, listening for a moment longer to the tuning-fork that had been struck upon a star. then he kissed her. at his lips\\' touch she blossomed for him like a flower and the incarnation was complete. through all he said, even through his appalling sentimentality, i was reminded of something--an elusive rhythm, a fragment of lost words, that i had heard somewhere a long time ago. for a moment a phrase tried to take shape in my mouth and my lips parted like a dumb man\\'s, as though there was more struggling upon them than a wisp of startled air. but they made no sound, and what i had almost remembered was uncommunicable forever. vii it was when curiosity about gatsby was at its highest that the lights in his house failed to go on one saturday night--and, as obscurely as it had begun, his career as trimalchio was over. only gradually did i become aware that the automobiles which turned expectantly into his drive stayed for just a minute and then drove sulkily away. wondering if he were sick i went over to find out--an unfamiliar butler with a villainous face squinted at me suspiciously from the door. \"is mr. gatsby sick?\" \"nope.\" after a pause he added \"sir\" in a dilatory, grudging way. \"i hadn\\'t seen him around, and i was rather worried. tell him mr. carraway came over.\" \"who?\" he demanded rudely. \"carraway.\" \"carraway. all right, i\\'ll tell him.\" abruptly he slammed the door. my finn informed me that gatsby had dismissed every servant in his house a week ago and replaced them with half a dozen others, who never went into west egg village to be bribed by the tradesmen, but ordered moderate supplies over the telephone. the grocery boy reported that the kitchen looked like a pigsty, and the general opinion in the village was that the new people weren\\'t servants at all. next day gatsby called me on the phone. \"going away?\" i inquired. \"no, old sport.\" \"i hear you fired all your servants.\" \"i wanted somebody who wouldn\\'t gossip. daisy comes over quite often--in the afternoons.\" so the whole caravansary had fallen in like a card house at the disapproval in her eyes. \"they\\'re some people wolfshiem wanted to do something for. they\\'re all brothers and sisters. they used to run a small hotel.\" \"i see.\" he was calling up at daisy\\'s request--would i come to lunch at her house tomorrow? miss baker would be there. half an hour later daisy herself telephoned and seemed relieved to find that i was coming. something was up. and yet i couldn\\'t believe that they would choose this occasion for a scene--especially for the rather harrowing scene that gatsby had outlined in the garden. the next day was broiling, almost the last, certainly the warmest, of the summer. as my train emerged from the tunnel into sunlight, only the hot whistles of the national biscuit company broke the simmering hush at noon. the straw seats of the car hovered on the edge of combustion; the woman next to me perspired delicately for a while into her white shirtwaist, and then, as her newspaper dampened under her fingers, lapsed despairingly into deep heat with a desolate cry. her pocketbook slapped to the floor. \"oh, my!\" she gasped. i picked it up with a weary bend and handed it back to her, holding it at arm\\'s length and by the extreme tip of the corners to indicate that i had no designs upon it--but everyone near by, including the woman, suspected me just the same. \"hot!\" said the conductor to familiar faces. \"some weather! ... hot! ... hot! ... hot! ... is it hot enough for you? is it hot? is it ... ?\" my commutation ticket came back to me with a dark stain from his hand. that anyone should care in this heat whose flushed lips he kissed, whose head made damp the pyjama pocket over his heart! ... through the hall of the buchanans\\' house blew a faint wind, carrying the sound of the telephone bell out to gatsby and me as we waited at the door. \"the master\\'s body?\" roared the butler into the mouthpiece. \"i\\'m sorry, madame, but we can\\'t furnish it--it\\'s far too hot to touch this noon!\" what he really said was: \"yes ... yes ... i\\'ll see.\" he set down the receiver and came toward us, glistening slightly, to take our stiff straw hats. \"madame expects you in the salon!\" he cried, needlessly indicating the direction. in this heat every extra gesture was an affront to the common store of life. the room, shadowed well with awnings, was dark and cool. daisy and jordan lay upon an enormous couch, like silver idols weighing down their own white dresses against the singing breeze of the fans. \"we can\\'t move,\" they said together. jordan\\'s fingers, powdered white over their tan, rested for a moment in mine. \"and mr. thomas buchanan, the athlete?\" i inquired. simultaneously i heard his voice, gruff, muffled, husky, at the hall telephone. gatsby stood in the centre of the crimson carpet and gazed around with fascinated eyes. daisy watched him and laughed, her sweet, exciting laugh; a tiny gust of powder rose from her bosom into the air. \"the rumour is,\" whispered jordan, \"that that\\'s tom\\'s girl on the telephone.\" we were silent. the voice in the hall rose high with annoyance: \"very well, then, i won\\'t sell you the car at all ... i\\'m under no obligations to you at all ... and as for your bothering me about it at lunch time, i won\\'t stand that at all!\" \"holding down the receiver,\" said daisy cynically. \"no, he\\'s not,\" i assured her. \"it\\'s a bona-fide deal. i happen to know about it.\" tom flung open the door, blocked out its space for a moment with his thick body, and hurried into the room. \"mr. gatsby!\" he put out his broad, flat hand with well-concealed dislike. \"i\\'m glad to see you, sir ... nick ...\" \"make us a cold drink,\" cried daisy. as he left the room again she got up and went over to gatsby and pulled his face down, kissing him on the mouth. \"you know i love you,\" she murmured. \"you forget there\\'s a lady present,\" said jordan. daisy looked around doubtfully. \"you kiss nick too.\" \"what a low, vulgar girl!\" \"i don\\'t care!\" cried daisy, and began to clog on the brick fireplace. then she remembered the heat and sat down guiltily on the couch just as a freshly laundered nurse leading a little girl came into the room. \"bles-sed pre-cious,\" she crooned, holding out her arms. \"come to your own mother that loves you.\" the child, relinquished by the nurse, rushed across the room and rooted shyly into her mother\\'s dress. \"the bles-sed pre-cious! did mother get powder on your old yellowy hair? stand up now, and say--how-de-do.\" gatsby and i in turn leaned down and took the small reluctant hand. afterward he kept looking at the child with surprise. i don\\'t think he had ever really believed in its existence before. \"i got dressed before luncheon,\" said the child, turning eagerly to daisy. \"that\\'s because your mother wanted to show you off.\" her face bent into the single wrinkle of the small white neck. \"you dream, you. you absolute little dream.\" \"yes,\" admitted the child calmly. \"aunt jordan\\'s got on a white dress too.\" \"how do you like mother\\'s friends?\" daisy turned her around so that she faced gatsby. \"do you think they\\'re pretty?\" \"where\\'s daddy?\" \"she doesn\\'t look like her father,\" explained daisy. \"she looks like me. she\\'s got my hair and shape of the face.\" daisy sat back upon the couch. the nurse took a step forward and held out her hand. \"come, pammy.\" \"goodbye, sweetheart!\" with a reluctant backward glance the well-disciplined child held to her nurse\\'s hand and was pulled out the door, just as tom came back, preceding four gin rickeys that clicked full of ice. gatsby took up his drink. \"they certainly look cool,\" he said, with visible tension. we drank in long, greedy swallows. \"i read somewhere that the sun\\'s getting hotter every year,\" said tom genially. \"it seems that pretty soon the earth\\'s going to fall into the sun--or wait a minute--it\\'s just the opposite--the sun\\'s getting colder every year. \"come outside,\" he suggested to gatsby, \"i\\'d like you to have a look at the place.\" i went with them out to the veranda. on the green sound, stagnant in the heat, one small sail crawled slowly toward the fresher sea. gatsby\\'s eyes followed it momentarily; he raised his hand and pointed across the bay. \"i\\'m right across from you.\" \"so you are.\" our eyes lifted over the rose-beds and the hot lawn and the weedy refuse of the dog-days alongshore. slowly the white wings of the boat moved against the blue cool limit of the sky. ahead lay the scalloped ocean and the abounding blessed isles. \"there\\'s sport for you,\" said tom, nodding. \"i\\'d like to be out there with him for about an hour.\" we had luncheon in the dining-room, darkened too against the heat, and drank down nervous gaiety with the cold ale. \"what\\'ll we do with ourselves this afternoon?\" cried daisy, \"and the day after that, and the next thirty years?\" \"don\\'t be morbid,\" jordan said. \"life starts all over again when it gets crisp in the fall.\" \"but it\\'s so hot,\" insisted daisy, on the verge of tears, \"and everything\\'s so confused. let\\'s all go to town!\" her voice struggled on through the heat, beating against it, moulding its senselessness into forms. \"i\\'ve heard of making a garage out of a stable,\" tom was saying to gatsby, \"but i\\'m the first man who ever made a stable out of a garage.\" \"who wants to go to town?\" demanded daisy insistently. gatsby\\'s eyes floated toward her. \"ah,\" she cried, \"you look so cool.\" their eyes met, and they stared together at each other, alone in space. with an effort she glanced down at the table. \"you always look so cool,\" she repeated. she had told him that she loved him, and tom buchanan saw. he was astounded. his mouth opened a little, and he looked at gatsby, and then back at daisy as if he had just recognized her as someone he knew a long time ago. \"you resemble the advertisement of the man,\" she went on innocently. \"you know the advertisement of the man--\" \"all right,\" broke in tom quickly, \"i\\'m perfectly willing to go to town. come on--we\\'re all going to town.\" he got up, his eyes still flashing between gatsby and his wife. no one moved. \"come on!\" his temper cracked a little. \"what\\'s the matter, anyhow? if we\\'re going to town, let\\'s start.\" his hand, trembling with his effort at self-control, bore to his lips the last of his glass of ale. daisy\\'s voice got us to our feet and out on to the blazing gravel drive. \"are we just going to go?\" she objected. \"like this? aren\\'t we going to let anyone smoke a cigarette first?\" \"everybody smoked all through lunch.\" \"oh, let\\'s have fun,\" she begged him. \"it\\'s too hot to fuss.\" he didn\\'t answer. \"have it your own way,\" she said. \"come on, jordan.\" they went upstairs to get ready while we three men stood there shuffling the hot pebbles with our feet. a silver curve of the moon hovered already in the western sky. gatsby started to speak, changed his mind, but not before tom wheeled and faced him expectantly. \"have you got your stables here?\" asked gatsby with an effort. \"about a quarter of a mile down the road.\" \"oh.\" a pause. \"i don\\'t see the idea of going to town,\" broke out tom savagely. \"women get these notions in their heads--\" \"shall we take anything to drink?\" called daisy from an upper window. \"i\\'ll get some whisky,\" answered tom. he went inside. gatsby turned to me rigidly: \"i can\\'t say anything in his house, old sport.\" \"she\\'s got an indiscreet voice,\" i remarked. \"it\\'s full of--\" i hesitated. \"her voice is full of money,\" he said suddenly. that was it. i\\'d never understood before. it was full of money--that was the inexhaustible charm that rose and fell in it, the jingle of it, the cymbals\\' song of it ... high in a white palace the king\\'s daughter, the golden girl ... tom came out of the house wrapping a quart bottle in a towel, followed by daisy and jordan wearing small tight hats of metallic cloth and carrying light capes over their arms. \"shall we all go in my car?\" suggested gatsby. he felt the hot, green leather of the seat. \"i ought to have left it in the shade.\" \"is it standard shift?\" demanded tom. \"yes.\" \"well, you take my coupe and let me drive your car to town.\" the suggestion was distasteful to gatsby. \"i don\\'t think there\\'s much gas,\" he objected. \"plenty of gas,\" said tom boisterously. he looked at the gauge. \"and if it runs out i can stop at a drugstore. you can buy anything at a drugstore nowadays.\" a pause followed this apparently pointless remark. daisy looked at tom frowning, and an indefinable expression, at once definitely unfamiliar and vaguely recognizable, as if i had only heard it described in words, passed over gatsby\\'s face. \"come on, daisy,\" said tom, pressing her with his hand toward gatsby\\'s car. \"i\\'ll take you in this circus wagon.\" he opened the door, but she moved out from the circle of his arm. \"you take nick and jordan. we\\'ll follow you in the coupe.\" she walked close to gatsby, touching his coat with her hand. jordan and tom and i got into the front seat of gatsby\\'s car, tom pushed the unfamiliar gears tentatively, and we shot off into the oppressive heat, leaving them out of sight behind. \"did you see that?\" demanded tom. \"see what?\" he looked at me keenly, realizing that jordan and i must have known all along. \"you think i\\'m pretty dumb, don\\'t you?\" he suggested. \"perhaps i am, but i have a--almost a second sight, sometimes, that tells me what to do. maybe you don\\'t believe that, but science--\" he paused. the immediate contingency overtook him, pulled him back from the edge of theoretical abyss. \"i\\'ve made a small investigation of this fellow,\" he continued. \"i could have gone deeper if i\\'d known--\" \"do you mean you\\'ve been to a medium?\" inquired jordan humorously. \"what?\" confused, he stared at us as we laughed. \"a medium?\" \"about gatsby.\" \"about gatsby! no, i haven\\'t. i said i\\'d been making a small investigation of his past.\" \"and you found he was an oxford man,\" said jordan helpfully. \"an oxford man!\" he was incredulous. \"like hell he is! he wears a pink suit.\" \"nevertheless he\\'s an oxford man.\" \"oxford, new mexico,\" snorted tom contemptuously, \"or something like that.\" \"listen, tom. if you\\'re such a snob, why did you invite him to lunch?\" demanded jordan crossly. \"daisy invited him; she knew him before we were married--god knows where!\" we were all irritable now with the fading ale, and aware of it we drove for a while in silence. then as doctor t. j. eckleburg\\'s faded eyes came into sight down the road, i remembered gatsby\\'s caution about gasoline. \"we\\'ve got enough to get us to town,\" said tom. \"but there\\'s a garage right here,\" objected jordan. \"i don\\'t want to get stalled in this baking heat.\" tom threw on both brakes impatiently, and we slid to an abrupt dusty stop under wilson\\'s sign. after a moment the proprietor emerged from the interior of his establishment and gazed hollow-eyed at the car. \"let\\'s have some gas!\" cried tom roughly. \"what do you think we stopped for--to admire the view?\" \"i\\'m sick,\" said wilson without moving. \"been sick all day.\" \"what\\'s the matter?\" \"i\\'m all run down.\" \"well, shall i help myself?\" tom demanded. \"you sounded well enough on the phone.\" with an effort wilson left the shade and support of the doorway and, breathing hard, unscrewed the cap of the tank. in the sunlight his face was green. \"i didn\\'t mean to interrupt your lunch,\" he said. \"but i need money pretty bad, and i was wondering what you were going to do with your old car.\" \"how do you like this one?\" inquired tom. \"i bought it last week.\" \"it\\'s a nice yellow one,\" said wilson, as he strained at the handle. \"like to buy it?\" \"big chance,\" wilson smiled faintly. \"no, but i could make some money on the other.\" \"what do you want money for, all of a sudden?\" \"i\\'ve been here too long. i want to get away. my wife and i want to go west.\" \"your wife does,\" exclaimed tom, startled. \"she\\'s been talking about it for ten years.\" he rested for a moment against the pump, shading his eyes. \"and now she\\'s going whether she wants to or not. i\\'m going to get her away.\" the coupe flashed by us with a flurry of dust and the flash of a waving hand. \"what do i owe you?\" demanded tom harshly. \"i just got wised up to something funny the last two days,\" remarked wilson. \"that\\'s why i want to get away. that\\'s why i been bothering you about the car.\" \"what do i owe you?\" \"dollar twenty.\" the relentless beating heat was beginning to confuse me and i had a bad moment there before i realized that so far his suspicions hadn\\'t alighted on tom. he had discovered that myrtle had some sort of life apart from him in another world, and the shock had made him physically sick. i stared at him and then at tom, who had made a parallel discovery less than an hour before--and it occurred to me that there was no difference between men, in intelligence or race, so profound as the difference between the sick and the well. wilson was so sick that he looked guilty, unforgivably guilty--as if he had just got some poor girl with child. \"i\\'ll let you have that car,\" said tom. \"i\\'ll send it over tomorrow afternoon.\" that locality was always vaguely disquieting, even in the broad glare of afternoon, and now i turned my head as though i had been warned of something behind. over the ash-heaps the giant eyes of doctor t. j. eckleburg kept their vigil, but i perceived, after a moment, that other eyes were regarding us with peculiar intensity from less than twenty feet away. in one of the windows over the garage the curtains had been moved aside a little, and myrtle wilson was peering down at the car. so engrossed was she that she had no consciousness of being observed, and one emotion after another crept into her face like objects into a slowly developing picture. her expression was curiously familiar--it was an expression i had often seen on women\\'s faces, but on myrtle wilson\\'s face it seemed purposeless and inexplicable until i realized that her eyes, wide with jealous terror, were fixed not on tom, but on jordan baker, whom she took to be his wife. ------------------------------------------------------------------------ there is no confusion like the confusion of a simple mind, and as we drove away tom was feeling the hot whips of panic. his wife and his mistress, until an hour ago secure and inviolate, were slipping precipitately from his control. instinct made him step on the accelerator with the double purpose of overtaking daisy and leaving wilson behind, and we sped along toward astoria at fifty miles an hour, until, among the spidery girders of the elevated, we came in sight of the easygoing blue coupe. \"those big movies around fiftieth street are cool,\" suggested jordan. \"i love new york on summer afternoons when everyone\\'s away. there\\'s something very sensuous about it--overripe, as if all sorts of funny fruits were going to fall into your hands.\" the word \"sensuous\" had the effect of further disquieting tom, but before he could invent a protest the coupe came to a stop, and daisy signalled us to draw up alongside. \"where are we going?\" she cried. \"how about the movies?\" \"it\\'s so hot,\" she complained. \"you go. we\\'ll ride around and meet you after.\" with an effort her wit rose faintly. \"we\\'ll meet you on some corner. i\\'ll be the man smoking two cigarettes.\" \"we can\\'t argue about it here,\" tom said impatiently, as a truck gave out a cursing whistle behind us. \"you follow me to the south side of central park, in front of the plaza.\" several times he turned his head and looked back for their car, and if the traffic delayed them he slowed up until they came into sight. i think he was afraid they would dart down a side-street and out of his life forever. but they didn\\'t. and we all took the less explicable step of engaging the parlour of a suite in the plaza hotel. the prolonged and tumultuous argument that ended by herding us into that room eludes me, though i have a sharp physical memory that, in the course of it, my underwear kept climbing like a damp snake around my legs and intermittent beads of sweat raced cool across my back. the notion originated with daisy\\'s suggestion that we hire five bathrooms and take cold baths, and then assumed more tangible form as \"a place to have a mint julep.\" each of us said over and over that it was a \"crazy idea\"--we all talked at once to a baffled clerk and thought, or pretended to think, that we were being very funny ... the room was large and stifling, and, though it was already four o\\'clock, opening the windows admitted only a gust of hot shrubbery from the park. daisy went to the mirror and stood with her back to us, fixing her hair. \"it\\'s a swell suite,\" whispered jordan respectfully, and everyone laughed. \"open another window,\" commanded daisy, without turning around. \"there aren\\'t any more.\" \"well, we\\'d better telephone for an axe--\" \"the thing to do is to forget about the heat,\" said tom impatiently. \"you make it ten times worse by crabbing about it.\" he unrolled the bottle of whisky from the towel and put it on the table. \"why not let her alone, old sport?\" remarked gatsby. \"you\\'re the one that wanted to come to town.\" there was a moment of silence. the telephone book slipped from its nail and splashed to the floor, whereupon jordan whispered, \"excuse me\"--but this time no one laughed. \"i\\'ll pick it up,\" i offered. \"i\\'ve got it.\" gatsby examined the parted string, muttered \"hum!\" in an interested way, and tossed the book on a chair. \"that\\'s a great expression of yours, isn\\'t it?\" said tom sharply. \"what is?\" \"all this \\'old sport\\' business. where\\'d you pick that up?\" \"now see here, tom,\" said daisy, turning around from the mirror, \"if you\\'re going to make personal remarks i won\\'t stay here a minute. call up and order some ice for the mint julep.\" as tom took up the receiver the compressed heat exploded into sound and we were listening to the portentous chords of mendelssohn\\'s wedding march from the ballroom below. \"imagine marrying anybody in this heat!\" cried jordan dismally. \"still--i was married in the middle of june,\" daisy remembered. \"louisville in june! somebody fainted. who was it fainted, tom?\" \"biloxi,\" he answered shortly. \"a man named biloxi. \\'blocks\\' biloxi, and he made boxes--that\\'s a fact--and he was from biloxi, tennessee.\" \"they carried him into my house,\" appended jordan, \"because we lived just two doors from the church. and he stayed three weeks, until daddy told him he had to get out. the day after he left daddy died.\" after a moment she added as if she might have sounded irreverent, \"there wasn\\'t any connection.\" \"i used to know a bill biloxi from memphis,\" i remarked. \"that was his cousin. i knew his whole family history before he left. he gave me an aluminium putter that i use today.\" the music had died down as the ceremony began and now a long cheer floated in at the window, followed by intermittent cries of \"yea--ea--ea!\" and finally by a burst of jazz as the dancing began. \"we\\'re getting old,\" said daisy. \"if we were young we\\'d rise and dance.\" \"remember biloxi,\" jordan warned her. \"where\\'d you know him, tom?\" \"biloxi?\" he concentrated with an effort. \"i didn\\'t know him. he was a friend of daisy\\'s.\" \"he was not,\" she denied. \"i\\'d never seen him before. he came down in the private car.\" \"well, he said he knew you. he said he was raised in louisville. asa bird brought him around at the last minute and asked if we had room for him.\" jordan smiled. \"he was probably bumming his way home. he told me he was president of your class at yale.\" tom and i looked at each other blankly. \"biloxi?\" \"first place, we didn\\'t have any president--\" gatsby\\'s foot beat a short, restless tattoo and tom eyed him suddenly. \"by the way, mr. gatsby, i understand you\\'re an oxford man.\" \"not exactly.\" \"oh, yes, i understand you went to oxford.\" \"yes--i went there.\" a pause. then tom\\'s voice, incredulous and insulting: \"you must have gone there about the time biloxi went to new haven.\" another pause. a waiter knocked and came in with crushed mint and ice but the silence was unbroken by his \"thank you\" and the soft closing of the door. this tremendous detail was to be cleared up at last. \"i told you i went there,\" said gatsby. \"i heard you, but i\\'d like to know when.\" \"it was in nineteen-nineteen, i only stayed five months. that\\'s why i can\\'t really call myself an oxford man.\" tom glanced around to see if we mirrored his unbelief. but we were all looking at gatsby. \"it was an opportunity they gave to some of the officers after the armistice,\" he continued. \"we could go to any of the universities in england or france.\" i wanted to get up and slap him on the back. i had one of those renewals of complete faith in him that i\\'d experienced before. daisy rose, smiling faintly, and went to the table. \"open the whisky, tom,\" she ordered, \"and i\\'ll make you a mint julep. then you won\\'t seem so stupid to yourself ... look at the mint!\" \"wait a minute,\" snapped tom, \"i want to ask mr. gatsby one more question.\" \"go on,\" gatsby said politely. \"what kind of a row are you trying to cause in my house anyhow?\" they were out in the open at last and gatsby was content. \"he isn\\'t causing a row,\" daisy looked desperately from one to the other. \"you\\'re causing a row. please have a little self-control.\" \"self-control!\" repeated tom incredulously. \"i suppose the latest thing is to sit back and let mr. nobody from nowhere make love to your wife. well, if that\\'s the idea you can count me out ... nowadays people begin by sneering at family life and family institutions, and next they\\'ll throw everything overboard and have intermarriage between black and white.\" flushed with his impassioned gibberish, he saw himself standing alone on the last barrier of civilization. \"we\\'re all white here,\" murmured jordan. \"i know i\\'m not very popular. i don\\'t give big parties. i suppose you\\'ve got to make your house into a pigsty in order to have any friends--in the modern world.\" angry as i was, as we all were, i was tempted to laugh whenever he opened his mouth. the transition from libertine to prig was so complete. \"i\\'ve got something to tell you, old sport--\" began gatsby. but daisy guessed at his intention. \"please don\\'t!\" she interrupted helplessly. \"please let\\'s all go home. why don\\'t we all go home?\" \"that\\'s a good idea,\" i got up. \"come on, tom. nobody wants a drink.\" \"i want to know what mr. gatsby has to tell me.\" \"your wife doesn\\'t love you,\" said gatsby. \"she\\'s never loved you. she loves me.\" \"you must be crazy!\" exclaimed tom automatically. gatsby sprang to his feet, vivid with excitement. \"she never loved you, do you hear?\" he cried. \"she only married you because i was poor and she was tired of waiting for me. it was a terrible mistake, but in her heart she never loved anyone except me!\" at this point jordan and i tried to go, but tom and gatsby insisted with competitive firmness that we remain--as though neither of them had anything to conceal and it would be a privilege to partake vicariously of their emotions. \"sit down, daisy,\" tom\\'s voice groped unsuccessfully for the paternal note. \"what\\'s been going on? i want to hear all about it.\" \"i told you what\\'s been going on,\" said gatsby. \"going on for five years--and you didn\\'t know.\" tom turned to daisy sharply. \"you\\'ve been seeing this fellow for five years?\" \"not seeing,\" said gatsby. \"no, we couldn\\'t meet. but both of us loved each other all that time, old sport, and you didn\\'t know. i used to laugh sometimes\"--but there was no laughter in his eyes--\"to think that you didn\\'t know.\" \"oh--that\\'s all.\" tom tapped his thick fingers together like a clergyman and leaned back in his chair. \"you\\'re crazy!\" he exploded. \"i can\\'t speak about what happened five years ago, because i didn\\'t know daisy then--and i\\'ll be damned if i see how you got within a mile of her unless you brought the groceries to the back door. but all the rest of that\\'s a god damned lie. daisy loved me when she married me and she loves me now.\" \"no,\" said gatsby, shaking his head. \"she does, though. the trouble is that sometimes she gets foolish ideas in her head and doesn\\'t know what she\\'s doing.\" he nodded sagely. \"and what\\'s more, i love daisy too. once in a while i go off on a spree and make a fool of myself, but i always come back, and in my heart i love her all the time.\" \"you\\'re revolting,\" said daisy. she turned to me, and her voice, dropping an octave lower, filled the room with thrilling scorn: \"do you know why we left chicago? i\\'m surprised that they didn\\'t treat you to the story of that little spree.\" gatsby walked over and stood beside her. \"daisy, that\\'s all over now,\" he said earnestly. \"it doesn\\'t matter any more. just tell him the truth--that you never loved him--and it\\'s all wiped out forever.\" she looked at him blindly. \"why--how could i love him--possibly?\" \"you never loved him.\" she hesitated. her eyes fell on jordan and me with a sort of appeal, as though she realized at last what she was doing--and as though she had never, all along, intended doing anything at all. but it was done now. it was too late. \"i never loved him,\" she said, with perceptible reluctance. \"not at kapiolani?\" demanded tom suddenly. \"no.\" from the ballroom beneath, muffled and suffocating chords were drifting up on hot waves of air. \"not that day i carried you down from the punch bowl to keep your shoes dry?\" there was a husky tenderness in his tone ... \"daisy?\" \"please don\\'t.\" her voice was cold, but the rancour was gone from it. she looked at gatsby. \"there, jay,\" she said--but her hand as she tried to light a cigarette was trembling. suddenly she threw the cigarette and the burning match on the carpet. \"oh, you want too much!\" she cried to gatsby. \"i love you now--isn\\'t that enough? i can\\'t help what\\'s past.\" she began to sob helplessly. \"i did love him once--but i loved you too.\" gatsby\\'s eyes opened and closed. \"you loved me too?\" he repeated. \"even that\\'s a lie,\" said tom savagely. \"she didn\\'t know you were alive. why--there\\'s things between daisy and me that you\\'ll never know, things that neither of us can ever forget.\" the words seemed to bite physically into gatsby. \"i want to speak to daisy alone,\" he insisted. \"she\\'s all excited now--\" \"even alone i can\\'t say i never loved tom,\" she admitted in a pitiful voice. \"it wouldn\\'t be true.\" \"of course it wouldn\\'t,\" agreed tom. she turned to her husband. \"as if it mattered to you,\" she said. \"of course it matters. i\\'m going to take better care of you from now on.\" \"you don\\'t understand,\" said gatsby, with a touch of panic. \"you\\'re not going to take care of her any more.\" \"i\\'m not?\" tom opened his eyes wide and laughed. he could afford to control himself now. \"why\\'s that?\" \"daisy\\'s leaving you.\" \"nonsense.\" \"i am, though,\" she said with a visible effort. \"she\\'s not leaving me!\" tom\\'s words suddenly leaned down over gatsby. \"certainly not for a common swindler who\\'d have to steal the ring he put on her finger.\" \"i won\\'t stand this!\" cried daisy. \"oh, please let\\'s get out.\" \"who are you, anyhow?\" broke out tom. \"you\\'re one of that bunch that hangs around with meyer wolfshiem--that much i happen to know. i\\'ve made a little investigation into your affairs--and i\\'ll carry it further tomorrow.\" \"you can suit yourself about that, old sport,\" said gatsby steadily. \"i found out what your \\'drugstores\\' were.\" he turned to us and spoke rapidly. \"he and this wolfshiem bought up a lot of side-street drugstores here and in chicago and sold grain alcohol over the counter. that\\'s one of his little stunts. i picked him for a bootlegger the first time i saw him, and i wasn\\'t far wrong.\" \"what about it?\" said gatsby politely. \"i guess your friend walter chase wasn\\'t too proud to come in on it.\" \"and you left him in the lurch, didn\\'t you? you let him go to jail for a month over in new jersey. god! you ought to hear walter on the subject of you.\" \"he came to us dead broke. he was very glad to pick up some money, old sport.\" \"don\\'t you call me \\'old sport\\'!\" cried tom. gatsby said nothing. \"walter could have you up on the betting laws too, but wolfshiem scared him into shutting his mouth.\" that unfamiliar yet recognizable look was back again in gatsby\\'s face. \"that drugstore business was just small change,\" continued tom slowly, \"but you\\'ve got something on now that walter\\'s afraid to tell me about.\" i glanced at daisy, who was staring terrified between gatsby and her husband, and at jordan, who had begun to balance an invisible but absorbing object on the tip of her chin. then i turned back to gatsby--and was startled at his expression. he looked--and this is said in all contempt for the babbled slander of his garden--as if he had \"killed a man.\" for a moment the set of his face could be described in just that fantastic way. it passed, and he began to talk excitedly to daisy, denying everything, defending his name against accusations that had not been made. but with every word she was drawing further and further into herself, so he gave that up, and only the dead dream fought on as the afternoon slipped away, trying to touch what was no longer tangible, struggling unhappily, undespairingly, toward that lost voice across the room. the voice begged again to go. \"please, tom! i can\\'t stand this any more.\" her frightened eyes told that whatever intentions, whatever courage she had had, were definitely gone. \"you two start on home, daisy,\" said tom. \"in mr. gatsby\\'s car.\" she looked at tom, alarmed now, but he insisted with magnanimous scorn. \"go on. he won\\'t annoy you. i think he realizes that his presumptuous little flirtation is over.\" they were gone, without a word, snapped out, made accidental, isolated, like ghosts, even from our pity. after a moment tom got up and began wrapping the unopened bottle of whisky in the towel. \"want any of this stuff? jordan? ... nick?\" i didn\\'t answer. \"nick?\" he asked again. \"what?\" \"want any?\" \"no ... i just remembered that today\\'s my birthday.\" i was thirty. before me stretched the portentous, menacing road of a new decade. it was seven o\\'clock when we got into the coupe with him and started for long island. tom talked incessantly, exulting and laughing, but his voice was as remote from jordan and me as the foreign clamour on the sidewalk or the tumult of the elevated overhead. human sympathy has its limits, and we were content to let all their tragic arguments fade with the city lights behind. thirty--the promise of a decade of loneliness, a thinning list of single men to know, a thinning briefcase of enthusiasm, thinning hair. but there was jordan beside me, who, unlike daisy, was too wise ever to carry well-forgotten dreams from age to age. as we passed over the dark bridge her wan face fell lazily against my coat\\'s shoulder and the formidable stroke of thirty died away with the reassuring pressure of her hand. so we drove on toward death through the cooling twilight. ------------------------------------------------------------------------ the young greek, michaelis, who ran the coffee joint beside the ash-heaps was the principal witness at the inquest. he had slept through the heat until after five, when he strolled over to the garage, and found george wilson sick in his office--really sick, pale as his own pale hair and shaking all over. michaelis advised him to go to bed, but wilson refused, saying that he\\'d miss a lot of business if he did. while his neighbour was trying to persuade him a violent racket broke out overhead. \"i\\'ve got my wife locked in up there,\" explained wilson calmly. \"she\\'s going to stay there till the day after tomorrow, and then we\\'re going to move away.\" michaelis was astonished; they had been neighbours for four years, and wilson had never seemed faintly capable of such a statement. generally he was one of these worn-out men: when he wasn\\'t working, he sat on a chair in the doorway and stared at the people and the cars that passed along the road. when anyone spoke to him he invariably laughed in an agreeable, colourless way. he was his wife\\'s man and not his own. so naturally michaelis tried to find out what had happened, but wilson wouldn\\'t say a word--instead he began to throw curious, suspicious glances at his visitor and ask him what he\\'d been doing at certain times on certain days. just as the latter was getting uneasy, some workmen came past the door bound for his restaurant, and michaelis took the opportunity to get away, intending to come back later. but he didn\\'t. he supposed he forgot to, that\\'s all. when he came outside again, a little after seven, he was reminded of the conversation because he heard mrs. wilson\\'s voice, loud and scolding, downstairs in the garage. \"beat me!\" he heard her cry. \"throw me down and beat me, you dirty little coward!\" a moment later she rushed out into the dusk, waving her hands and shouting--before he could move from his door the business was over. the \"death car\" as the newspapers called it, didn\\'t stop; it came out of the gathering darkness, wavered tragically for a moment, and then disappeared around the next bend. mavro michaelis wasn\\'t even sure of its colour--he told the first policeman that it was light green. the other car, the one going toward new york, came to rest a hundred yards beyond, and its driver hurried back to where myrtle wilson, her life violently extinguished, knelt in the road and mingled her thick dark blood with the dust. michaelis and this man reached her first, but when they had torn open her shirtwaist, still damp with perspiration, they saw that her left breast was swinging loose like a flap, and there was no need to listen for the heart beneath. the mouth was wide open and ripped a little at the corners, as though she had choked a little in giving up the tremendous vitality she had stored so long. ------------------------------------------------------------------------ we saw the three or four automobiles and the crowd when we were still some distance away. \"wreck!\" said tom. \"that\\'s good. wilson\\'ll have a little business at last.\" he slowed down, but still without any intention of stopping, until, as we came nearer, the hushed, intent faces of the people at the garage door made him automatically put on the brakes. \"we\\'ll take a look,\" he said doubtfully, \"just a look.\" i became aware now of a hollow, wailing sound which issued incessantly from the garage, a sound which as we got out of the coupe and walked toward the door resolved itself into the words \"oh, my god!\" uttered over and over in a gasping moan. \"there\\'s some bad trouble here,\" said tom excitedly. he reached up on tiptoes and peered over a circle of heads into the garage, which was lit only by a yellow light in a swinging metal basket overhead. then he made a harsh sound in his throat, and with a violent thrusting movement of his powerful arms pushed his way through. the circle closed up again with a running murmur of expostulation; it was a minute before i could see anything at all. then new arrivals deranged the line, and jordan and i were pushed suddenly inside. myrtle wilson\\'s body, wrapped in a blanket, and then in another blanket, as though she suffered from a chill in the hot night, lay on a worktable by the wall, and tom, with his back to us, was bending over it, motionless. next to him stood a motorcycle policeman taking down names with much sweat and correction in a little book. at first i couldn\\'t find the source of the high, groaning words that echoed clamorously through the bare garage--then i saw wilson standing on the raised threshold of his office, swaying back and forth and holding to the doorposts with both hands. some man was talking to him in a low voice and attempting, from time to time, to lay a hand on his shoulder, but wilson neither heard nor saw. his eyes would drop slowly from the swinging light to the laden table by the wall, and then jerk back to the light again, and he gave out incessantly his high, horrible call: \"oh, my ga-od! oh, my ga-od! oh, ga-od! oh, my ga-od!\" presently tom lifted his head with a jerk and, after staring around the garage with glazed eyes, addressed a mumbled incoherent remark to the policeman. \"m-a-v--\" the policeman was saying, \"--o--\" \"no, r--\" corrected the man, \"m-a-v-r-o--\" \"listen to me!\" muttered tom fiercely. \"r--\" said the policeman, \"o--\" \"g--\" \"g--\" he looked up as tom\\'s broad hand fell sharply on his shoulder. \"what you want, fella?\" \"what happened?--that\\'s what i want to know.\" \"auto hit her. ins\\'antly killed.\" \"instantly killed,\" repeated tom, staring. \"she ran out ina road. son-of-a-bitch didn\\'t even stopus car.\" \"there was two cars,\" said michaelis, \"one comin\\', one goin\\', see?\" \"going where?\" asked the policeman keenly. \"one goin\\' each way. well, she\"--his hand rose toward the blankets but stopped halfway and fell to his side--\"she ran out there an\\' the one comin\\' from n\\'york knock right into her, goin\\' thirty or forty miles an hour.\" \"what\\'s the name of this place here?\" demanded the officer. \"hasn\\'t got any name.\" a pale well-dressed negro stepped near. \"it was a yellow car,\" he said, \"big yellow car. new.\" \"see the accident?\" asked the policeman. \"no, but the car passed me down the road, going faster\\'n forty. going fifty, sixty.\" \"come here and let\\'s have your name. look out now. i want to get his name.\" some words of this conversation must have reached wilson, swaying in the office door, for suddenly a new theme found voice among his grasping cries: \"you don\\'t have to tell me what kind of car it was! i know what kind of car it was!\" watching tom, i saw the wad of muscle back of his shoulder tighten under his coat. he walked quickly over to wilson and, standing in front of him, seized him firmly by the upper arms. \"you\\'ve got to pull yourself together,\" he said with soothing gruffness. wilson\\'s eyes fell upon tom; he started up on his tiptoes and then would have collapsed to his knees had not tom held him upright. \"listen,\" said tom, shaking him a little. \"i just got here a minute ago, from new york. i was bringing you that coupe we\\'ve been talking about. that yellow car i was driving this afternoon wasn\\'t mine--do you hear? i haven\\'t seen it all afternoon.\" only the negro and i were near enough to hear what he said, but the policeman caught something in the tone and looked over with truculent eyes. \"what\\'s all that?\" he demanded. \"i\\'m a friend of his.\" tom turned his head but kept his hands firm on wilson\\'s body. \"he says he knows the car that did it ... it was a yellow car.\" some dim impulse moved the policeman to look suspiciously at tom. \"and what colour\\'s your car?\" \"it\\'s a blue car, a coupe.\" \"we\\'ve come straight from new york,\" i said. someone who had been driving a little behind us confirmed this, and the policeman turned away. \"now, if you\\'ll let me have that name again correct--\" picking up wilson like a doll, tom carried him into the office, set him down in a chair, and came back. \"if somebody\\'ll come here and sit with him,\" he snapped authoritatively. he watched while the two men standing closest glanced at each other and went unwillingly into the room. then tom shut the door on them and came down the single step, his eyes avoiding the table. as he passed close to me he whispered: \"let\\'s get out.\" self-consciously, with his authoritative arms breaking the way, we pushed through the still gathering crowd, passing a hurried doctor, case in hand, who had been sent for in wild hope half an hour ago. tom drove slowly until we were beyond the bend--then his foot came down hard, and the coupe raced along through the night. in a little while i heard a low husky sob, and saw that the tears were overflowing down his face. \"the god damned coward!\" he whimpered. \"he didn\\'t even stop his car.\" ------------------------------------------------------------------------ the buchanans\\' house floated suddenly toward us through the dark rustling trees. tom stopped beside the porch and looked up at the second floor, where two windows bloomed with light among the vines. \"daisy\\'s home,\" he said. as we got out of the car he glanced at me and frowned slightly. \"i ought to have dropped you in west egg, nick. there\\'s nothing we can do tonight.\" a change had come over him, and he spoke gravely, and with decision. as we walked across the moonlight gravel to the porch he disposed of the situation in a few brisk phrases. \"i\\'ll telephone for a taxi to take you home, and while you\\'re waiting you and jordan better go in the kitchen and have them get you some supper--if you want any.\" he opened the door. \"come in.\" \"no, thanks. but i\\'d be glad if you\\'d order me the taxi. i\\'ll wait outside.\" jordan put her hand on my arm. \"won\\'t you come in, nick?\" \"no, thanks.\" i was feeling a little sick and i wanted to be alone. but jordan lingered for a moment more. \"it\\'s only half-past nine,\" she said. i\\'d be damned if i\\'d go in; i\\'d had enough of all of them for one day, and suddenly that included jordan too. she must have seen something of this in my expression, for she turned abruptly away and ran up the porch steps into the house. i sat down for a few minutes with my head in my hands, until i heard the phone taken up inside and the butler\\'s voice calling a taxi. then i walked slowly down the drive away from the house, intending to wait by the gate. i hadn\\'t gone twenty yards when i heard my name and gatsby stepped from between two bushes into the path. i must have felt pretty weird by that time, because i could think of nothing except the luminosity of his pink suit under the moon. \"what are you doing?\" i inquired. \"just standing here, old sport.\" somehow, that seemed a despicable occupation. for all i knew he was going to rob the house in a moment; i wouldn\\'t have been surprised to see sinister faces, the faces of \"wolfshiem\\'s people,\" behind him in the dark shrubbery. \"did you see any trouble on the road?\" he asked after a minute. \"yes.\" he hesitated. \"was she killed?\" \"yes.\" \"i thought so; i told daisy i thought so. it\\'s better that the shock should all come at once. she stood it pretty well.\" he spoke as if daisy\\'s reaction was the only thing that mattered. \"i got to west egg by a side road,\" he went on, \"and left the car in my garage. i don\\'t think anybody saw us, but of course i can\\'t be sure.\" i disliked him so much by this time that i didn\\'t find it necessary to tell him he was wrong. \"who was the woman?\" he inquired. \"her name was wilson. her husband owns the garage. how the devil did it happen?\" \"well, i tried to swing the wheel--\" he broke off, and suddenly i guessed at the truth. \"was daisy driving?\" \"yes,\" he said after a moment, \"but of course i\\'ll say i was. you see, when we left new york she was very nervous and she thought it would steady her to drive--and this woman rushed out at us just as we were passing a car coming the other way. it all happened in a minute, but it seemed to me that she wanted to speak to us, thought we were somebody she knew. well, first daisy turned away from the woman toward the other car, and then she lost her nerve and turned back. the second my hand reached the wheel i felt the shock--it must have killed her instantly.\" \"it ripped her open--\" \"don\\'t tell me, old sport.\" he winced. \"anyhow--daisy stepped on it. i tried to make her stop, but she couldn\\'t, so i pulled on the emergency brake. then she fell over into my lap and i drove on. \"she\\'ll be all right tomorrow,\" he said presently. \"i\\'m just going to wait here and see if he tries to bother her about that unpleasantness this afternoon. she\\'s locked herself into her room, and if he tries any brutality she\\'s going to turn the light out and on again.\" \"he won\\'t touch her,\" i said. \"he\\'s not thinking about her.\" \"i don\\'t trust him, old sport.\" \"how long are you going to wait?\" \"all night, if necessary. anyhow, till they all go to bed.\" a new point of view occurred to me. suppose tom found out that daisy had been driving. he might think he saw a connection in it--he might think anything. i looked at the house; there were two or three bright windows downstairs and the pink glow from daisy\\'s room on the ground floor. \"you wait here,\" i said. \"i\\'ll see if there\\'s any sign of a commotion.\" i walked back along the border of the lawn, traversed the gravel softly, and tiptoed up the veranda steps. the drawing-room curtains were open, and i saw that the room was empty. crossing the porch where we had dined that june night three months before, i came to a small rectangle of light which i guessed was the pantry window. the blind was drawn, but i found a rift at the sill. daisy and tom were sitting opposite each other at the kitchen table, with a plate of cold fried chicken between them, and two bottles of ale. he was talking intently across the table at her, and in his earnestness his hand had fallen upon and covered her own. once in a while she looked up at him and nodded in agreement. they weren\\'t happy, and neither of them had touched the chicken or the ale--and yet they weren\\'t unhappy either. there was an unmistakable air of natural intimacy about the picture, and anybody would have said that they were conspiring together. as i tiptoed from the porch i heard my taxi feeling its way along the dark road toward the house. gatsby was waiting where i had left him in the drive. \"is it all quiet up there?\" he asked anxiously. \"yes, it\\'s all quiet.\" i hesitated. \"you\\'d better come home and get some sleep.\" he shook his head. \"i want to wait here till daisy goes to bed. good night, old sport.\" he put his hands in his coat pockets and turned back eagerly to his scrutiny of the house, as though my presence marred the sacredness of the vigil. so i walked away and left him standing there in the moonlight--watching over nothing. viii i couldn\\'t sleep all night; a foghorn was groaning incessantly on the sound, and i tossed half-sick between grotesque reality and savage, frightening dreams. toward dawn i heard a taxi go up gatsby\\'s drive, and immediately i jumped out of bed and began to dress--i felt that i had something to tell him, something to warn him about, and morning would be too late. crossing his lawn, i saw that his front door was still open and he was leaning against a table in the hall, heavy with dejection or sleep. \"nothing happened,\" he said wanly. \"i waited, and about four o\\'clock she came to the window and stood there for a minute and then turned out the light.\" his house had never seemed so enormous to me as it did that night when we hunted through the great rooms for cigarettes. we pushed aside curtains that were like pavilions, and felt over innumerable feet of dark wall for electric light switches--once i tumbled with a sort of splash upon the keys of a ghostly piano. there was an inexplicable amount of dust everywhere, and the rooms were musty, as though they hadn\\'t been aired for many days. i found the humidor on an unfamiliar table, with two stale, dry cigarettes inside. throwing open the french windows of the drawing-room, we sat smoking out into the darkness. \"you ought to go away,\" i said. \"it\\'s pretty certain they\\'ll trace your car.\" \"go away now, old sport?\" \"go to atlantic city for a week, or up to montreal.\" he wouldn\\'t consider it. he couldn\\'t possibly leave daisy until he knew what she was going to do. he was clutching at some last hope and i couldn\\'t bear to shake him free. it was this night that he told me the strange story of his youth with dan cody--told it to me because \"jay gatsby\" had broken up like glass against tom\\'s hard malice, and the long secret extravaganza was played out. i think that he would have acknowledged anything now, without reserve, but he wanted to talk about daisy. she was the first \"nice\" girl he had ever known. in various unrevealed capacities he had come in contact with such people, but always with indiscernible barbed wire between. he found her excitingly desirable. he went to her house, at first with other officers from camp taylor, then alone. it amazed him--he had never been in such a beautiful house before. but what gave it an air of breathless intensity, was that daisy lived there--it was as casual a thing to her as his tent out at camp was to him. there was a ripe mystery about it, a hint of bedrooms upstairs more beautiful and cool than other bedrooms, of gay and radiant activities taking place through its corridors, and of romances that were not musty and laid away already in lavender but fresh and breathing and redolent of this year\\'s shining motorcars and of dances whose flowers were scarcely withered. it excited him, too, that many men had already loved daisy--it increased her value in his eyes. he felt their presence all about the house, pervading the air with the shades and echoes of still vibrant emotions. but he knew that he was in daisy\\'s house by a colossal accident. however glorious might be his future as jay gatsby, he was at present a penniless young man without a past, and at any moment the invisible cloak of his uniform might slip from his shoulders. so he made the most of his time. he took what he could get, ravenously and unscrupulously--eventually he took daisy one still october night, took her because he had no real right to touch her hand. he might have despised himself, for he had certainly taken her under false pretences. i don\\'t mean that he had traded on his phantom millions, but he had deliberately given daisy a sense of security; he let her believe that he was a person from much the same strata as herself--that he was fully able to take care of her. as a matter of fact, he had no such facilities--he had no comfortable family standing behind him, and he was liable at the whim of an impersonal government to be blown anywhere about the world. but he didn\\'t despise himself and it didn\\'t turn out as he had imagined. he had intended, probably, to take what he could and go--but now he found that he had committed himself to the following of a grail. he knew that daisy was extraordinary, but he didn\\'t realize just how extraordinary a \"nice\" girl could be. she vanished into her rich house, into her rich, full life, leaving gatsby--nothing. he felt married to her, that was all. when they met again, two days later, it was gatsby who was breathless, who was, somehow, betrayed. her porch was bright with the bought luxury of star-shine; the wicker of the settee squeaked fashionably as she turned toward him and he kissed her curious and lovely mouth. she had caught a cold, and it made her voice huskier and more charming than ever, and gatsby was overwhelmingly aware of the youth and mystery that wealth imprisons and preserves, of the freshness of many clothes, and of daisy, gleaming like silver, safe and proud above the hot struggles of the poor. ------------------------------------------------------------------------ \"i can\\'t describe to you how surprised i was to find out i loved her, old sport. i even hoped for a while that she\\'d throw me over, but she didn\\'t, because she was in love with me too. she thought i knew a lot because i knew different things from her ... well, there i was, way off my ambitions, getting deeper in love every minute, and all of a sudden i didn\\'t care. what was the use of doing great things if i could have a better time telling her what i was going to do?\" on the last afternoon before he went abroad, he sat with daisy in his arms for a long, silent time. it was a cold fall day, with fire in the room and her cheeks flushed. now and then she moved and he changed his arm a little, and once he kissed her dark shining hair. the afternoon had made them tranquil for a while, as if to give them a deep memory for the long parting the next day promised. they had never been closer in their month of love, nor communicated more profoundly one with another, than when she brushed silent lips against his coat\\'s shoulder or when he touched the end of her fingers, gently, as though she were asleep. ------------------------------------------------------------------------ he did extraordinarily well in the war. he was a captain before he went to the front, and following the argonne battles he got his majority and the command of the divisional machine-guns. after the armistice he tried frantically to get home, but some complication or misunderstanding sent him to oxford instead. he was worried now--there was a quality of nervous despair in daisy\\'s letters. she didn\\'t see why he couldn\\'t come. she was feeling the pressure of the world outside, and she wanted to see him and feel his presence beside her and be reassured that she was doing the right thing after all. for daisy was young and her artificial world was redolent of orchids and pleasant, cheerful snobbery and orchestras which set the rhythm of the year, summing up the sadness and suggestiveness of life in new tunes. all night the saxophones wailed the hopeless comment of the \"beale street blues\" while a hundred pairs of golden and silver slippers shuffled the shining dust. at the grey tea hour there were always rooms that throbbed incessantly with this low, sweet fever, while fresh faces drifted here and there like rose petals blown by the sad horns around the floor. through this twilight universe daisy began to move again with the season; suddenly she was again keeping half a dozen dates a day with half a dozen men, and drowsing asleep at dawn with the beads and chiffon of an evening-dress tangled among dying orchids on the floor beside her bed. and all the time something within her was crying for a decision. she wanted her life shaped now, immediately--and the decision must be made by some force--of love, of money, of unquestionable practicality--that was close at hand. that force took shape in the middle of spring with the arrival of tom buchanan. there was a wholesome bulkiness about his person and his position, and daisy was flattered. doubtless there was a certain struggle and a certain relief. the letter reached gatsby while he was still at oxford. ------------------------------------------------------------------------ it was dawn now on long island and we went about opening the rest of the windows downstairs, filling the house with grey-turning, gold-turning light. the shadow of a tree fell abruptly across the dew and ghostly birds began to sing among the blue leaves. there was a slow, pleasant movement in the air, scarcely a wind, promising a cool, lovely day. \"i don\\'t think she ever loved him.\" gatsby turned around from a window and looked at me challengingly. \"you must remember, old sport, she was very excited this afternoon. he told her those things in a way that frightened her--that made it look as if i was some kind of cheap sharper. and the result was she hardly knew what she was saying.\" he sat down gloomily. \"of course she might have loved him just for a minute, when they were first married--and loved me more even then, do you see?\" suddenly he came out with a curious remark. \"in any case,\" he said, \"it was just personal.\" what could you make of that, except to suspect some intensity in his conception of the affair that couldn\\'t be measured? he came back from france when tom and daisy were still on their wedding trip, and made a miserable but irresistible journey to louisville on the last of his army pay. he stayed there a week, walking the streets where their footsteps had clicked together through the november night and revisiting the out-of-the-way places to which they had driven in her white car. just as daisy\\'s house had always seemed to him more mysterious and gay than other houses, so his idea of the city itself, even though she was gone from it, was pervaded with a melancholy beauty. he left feeling that if he had searched harder, he might have found her--that he was leaving her behind. the day-coach--he was penniless now--was hot. he went out to the open vestibule and sat down on a folding-chair, and the station slid away and the backs of unfamiliar buildings moved by. then out into the spring fields, where a yellow trolley raced them for a minute with people in it who might once have seen the pale magic of her face along the casual street. the track curved and now it was going away from the sun, which, as it sank lower, seemed to spread itself in benediction over the vanishing city where she had drawn her breath. he stretched out his hand desperately as if to snatch only a wisp of air, to save a fragment of the spot that she had made lovely for him. but it was all going by too fast now for his blurred eyes and he knew that he had lost that part of it, the freshest and the best, forever. it was nine o\\'clock when we finished breakfast and went out on the porch. the night had made a sharp difference in the weather and there was an autumn flavour in the air. the gardener, the last one of gatsby\\'s former servants, came to the foot of the steps. \"i\\'m going to drain the pool today, mr. gatsby. leaves\\'ll start falling pretty soon, and then there\\'s always trouble with the pipes.\" \"don\\'t do it today,\" gatsby answered. he turned to me apologetically. \"you know, old sport, i\\'ve never used that pool all summer?\" i looked at my watch and stood up. \"twelve minutes to my train.\" i didn\\'t want to go to the city. i wasn\\'t worth a decent stroke of work, but it was more than that--i didn\\'t want to leave gatsby. i missed that train, and then another, before i could get myself away. \"i\\'ll call you up,\" i said finally. \"do, old sport.\" \"i\\'ll call you about noon.\" we walked slowly down the steps. \"i suppose daisy\\'ll call too.\" he looked at me anxiously, as if he hoped i\\'d corroborate this. \"i suppose so.\" \"well, goodbye.\" we shook hands and i started away. just before i reached the hedge i remembered something and turned around. \"they\\'re a rotten crowd,\" i shouted across the lawn. \"you\\'re worth the whole damn bunch put together.\" i\\'ve always been glad i said that. it was the only compliment i ever gave him, because i disapproved of him from beginning to end. first he nodded politely, and then his face broke into that radiant and understanding smile, as if we\\'d been in ecstatic cahoots on that fact all the time. his gorgeous pink rag of a suit made a bright spot of colour against the white steps, and i thought of the night when i first came to his ancestral home, three months before. the lawn and drive had been crowded with the faces of those who guessed at his corruption--and he had stood on those steps, concealing his incorruptible dream, as he waved them goodbye. i thanked him for his hospitality. we were always thanking him for that--i and the others. \"goodbye,\" i called. \"i enjoyed breakfast, gatsby.\" ------------------------------------------------------------------------ up in the city, i tried for a while to list the quotations on an interminable amount of stock, then i fell asleep in my swivel-chair. just before noon the phone woke me, and i started up with sweat breaking out on my forehead. it was jordan baker; she often called me up at this hour because the uncertainty of her own movements between hotels and clubs and private houses made her hard to find in any other way. usually her voice came over the wire as something fresh and cool, as if a divot from a green golf-links had come sailing in at the office window, but this morning it seemed harsh and dry. \"i\\'ve left daisy\\'s house,\" she said. \"i\\'m at hempstead, and i\\'m going down to southampton this afternoon.\" probably it had been tactful to leave daisy\\'s house, but the act annoyed me, and her next remark made me rigid. \"you weren\\'t so nice to me last night.\" \"how could it have mattered then?\" silence for a moment. then: \"however--i want to see you.\" \"i want to see you, too.\" \"suppose i don\\'t go to southampton, and come into town this afternoon?\" \"no--i don\\'t think this afternoon.\" \"very well.\" \"it\\'s impossible this afternoon. various--\" we talked like that for a while, and then abruptly we weren\\'t talking any longer. i don\\'t know which of us hung up with a sharp click, but i know i didn\\'t care. i couldn\\'t have talked to her across a tea-table that day if i never talked to her again in this world. i called gatsby\\'s house a few minutes later, but the line was busy. i tried four times; finally an exasperated central told me the wire was being kept open for long distance from detroit. taking out my timetable, i drew a small circle around the three-fifty train. then i leaned back in my chair and tried to think. it was just noon. ------------------------------------------------------------------------ when i passed the ash-heaps on the train that morning i had crossed deliberately to the other side of the car. i supposed there\\'d be a curious crowd around there all day with little boys searching for dark spots in the dust, and some garrulous man telling over and over what had happened, until it became less and less real even to him and he could tell it no longer, and myrtle wilson\\'s tragic achievement was forgotten. now i want to go back a little and tell what happened at the garage after we left there the night before. they had difficulty in locating the sister, catherine. she must have broken her rule against drinking that night, for when she arrived she was stupid with liquor and unable to understand that the ambulance had already gone to flushing. when they convinced her of this, she immediately fainted, as if that was the intolerable part of the affair. someone, kind or curious, took her in his car and drove her in the wake of her sister\\'s body. until long after midnight a changing crowd lapped up against the front of the garage, while george wilson rocked himself back and forth on the couch inside. for a while the door of the office was open, and everyone who came into the garage glanced irresistibly through it. finally someone said it was a shame, and closed the door. michaelis and several other men were with him; first, four or five men, later two or three men. still later michaelis had to ask the last stranger to wait there fifteen minutes longer, while he went back to his own place and made a pot of coffee. after that, he stayed there alone with wilson until dawn. about three o\\'clock the quality of wilson\\'s incoherent muttering changed--he grew quieter and began to talk about the yellow car. he announced that he had a way of finding out whom the yellow car belonged to, and then he blurted out that a couple of months ago his wife had come from the city with her face bruised and her nose swollen. but when he heard himself say this, he flinched and began to cry \"oh, my god!\" again in his groaning voice. michaelis made a clumsy attempt to distract him. \"how long have you been married, george? come on there, try and sit still a minute, and answer my question. how long have you been married?\" \"twelve years.\" \"ever had any children? come on, george, sit still--i asked you a question. did you ever have any children?\" the hard brown beetles kept thudding against the dull light, and whenever michaelis heard a car go tearing along the road outside it sounded to him like the car that hadn\\'t stopped a few hours before. he didn\\'t like to go into the garage, because the work bench was stained where the body had been lying, so he moved uncomfortably around the office--he knew every object in it before morning--and from time to time sat down beside wilson trying to keep him more quiet. \"have you got a church you go to sometimes, george? maybe even if you haven\\'t been there for a long time? maybe i could call up the church and get a priest to come over and he could talk to you, see?\" \"don\\'t belong to any.\" \"you ought to have a church, george, for times like this. you must have gone to church once. didn\\'t you get married in a church? listen, george, listen to me. didn\\'t you get married in a church?\" \"that was a long time ago.\" the effort of answering broke the rhythm of his rocking--for a moment he was silent. then the same half-knowing, half-bewildered look came back into his faded eyes. \"look in the drawer there,\" he said, pointing at the desk. \"which drawer?\" \"that drawer--that one.\" michaelis opened the drawer nearest his hand. there was nothing in it but a small, expensive dog-leash, made of leather and braided silver. it was apparently new. \"this?\" he inquired, holding it up. wilson stared and nodded. \"i found it yesterday afternoon. she tried to tell me about it, but i knew it was something funny.\" \"you mean your wife bought it?\" \"she had it wrapped in tissue paper on her bureau.\" michaelis didn\\'t see anything odd in that, and he gave wilson a dozen reasons why his wife might have bought the dog-leash. but conceivably wilson had heard some of these same explanations before, from myrtle, because he began saying \"oh, my god!\" again in a whisper--his comforter left several explanations in the air. \"then he killed her,\" said wilson. his mouth dropped open suddenly. \"who did?\" \"i have a way of finding out.\" \"you\\'re morbid, george,\" said his friend. \"this has been a strain to you and you don\\'t know what you\\'re saying. you\\'d better try and sit quiet till morning.\" \"he murdered her.\" \"it was an accident, george.\" wilson shook his head. his eyes narrowed and his mouth widened slightly with the ghost of a superior \"hm!\" \"i know,\" he said definitely. \"i\\'m one of these trusting fellas and i don\\'t think any harm to nobody, but when i get to know a thing i know it. it was the man in that car. she ran out to speak to him and he wouldn\\'t stop.\" michaelis had seen this too, but it hadn\\'t occurred to him that there was any special significance in it. he believed that mrs. wilson had been running away from her husband, rather than trying to stop any particular car. \"how could she of been like that?\" \"she\\'s a deep one,\" said wilson, as if that answered the question. \"ah-h-h--\" he began to rock again, and michaelis stood twisting the leash in his hand. \"maybe you got some friend that i could telephone for, george?\" this was a forlorn hope--he was almost sure that wilson had no friend: there was not enough of him for his wife. he was glad a little later when he noticed a change in the room, a blue quickening by the window, and realized that dawn wasn\\'t far off. about five o\\'clock it was blue enough outside to snap off the light. wilson\\'s glazed eyes turned out to the ash-heaps, where small grey clouds took on fantastic shapes and scurried here and there in the faint dawn wind. \"i spoke to her,\" he muttered, after a long silence. \"i told her she might fool me but she couldn\\'t fool god. i took her to the window\"--with an effort he got up and walked to the rear window and leaned with his face pressed against it--\"and i said \\'god knows what you\\'ve been doing, everything you\\'ve been doing. you may fool me, but you can\\'t fool god!\\' \" standing behind him, michaelis saw with a shock that he was looking at the eyes of doctor t. j. eckleburg, which had just emerged, pale and enormous, from the dissolving night. \"god sees everything,\" repeated wilson. \"that\\'s an advertisement,\" michaelis assured him. something made him turn away from the window and look back into the room. but wilson stood there a long time, his face close to the window pane, nodding into the twilight. ------------------------------------------------------------------------ by six o\\'clock michaelis was worn out, and grateful for the sound of a car stopping outside. it was one of the watchers of the night before who had promised to come back, so he cooked breakfast for three, which he and the other man ate together. wilson was quieter now, and michaelis went home to sleep; when he awoke four hours later and hurried back to the garage, wilson was gone. his movements--he was on foot all the time--were afterward traced to port roosevelt and then to gad\\'s hill, where he bought a sandwich that he didn\\'t eat, and a cup of coffee. he must have been tired and walking slowly, for he didn\\'t reach gad\\'s hill until noon. thus far there was no difficulty in accounting for his time--there were boys who had seen a man \"acting sort of crazy,\" and motorists at whom he stared oddly from the side of the road. then for three hours he disappeared from view. the police, on the strength of what he said to michaelis, that he \"had a way of finding out,\" supposed that he spent that time going from garage to garage thereabout, inquiring for a yellow car. on the other hand, no garage man who had seen him ever came forward, and perhaps he had an easier, surer way of finding out what he wanted to know. by half-past two he was in west egg, where he asked someone the way to gatsby\\'s house. so by that time he knew gatsby\\'s name. ------------------------------------------------------------------------ at two o\\'clock gatsby put on his bathing-suit and left word with the butler that if anyone phoned word was to be brought to him at the pool. he stopped at the garage for a pneumatic mattress that had amused his guests during the summer, and the chauffeur helped him to pump it up. then he gave instructions that the open car wasn\\'t to be taken out under any circumstances--and this was strange, because the front right fender needed repair. gatsby shouldered the mattress and started for the pool. once he stopped and shifted it a little, and the chauffeur asked him if he needed help, but he shook his head and in a moment disappeared among the yellowing trees. no telephone message arrived, but the butler went without his sleep and waited for it until four o\\'clock--until long after there was anyone to give it to if it came. i have an idea that gatsby himself didn\\'t believe it would come, and perhaps he no longer cared. if that was true he must have felt that he had lost the old warm world, paid a high price for living too long with a single dream. he must have looked up at an unfamiliar sky through frightening leaves and shivered as he found what a grotesque thing a rose is and how raw the sunlight was upon the scarcely created grass. a new world, material without being real, where poor ghosts, breathing dreams like air, drifted fortuitously about ... like that ashen, fantastic figure gliding toward him through the amorphous trees. the chauffeur--he was one of wolfshiem\\'s proteges--heard the shots--afterwards he could only say that he hadn\\'t thought anything much about them. i drove from the station directly to gatsby\\'s house and my rushing anxiously up the front steps was the first thing that alarmed anyone. but they knew then, i firmly believe. with scarcely a word said, four of us, the chauffeur, butler, gardener, and i hurried down to the pool. there was a faint, barely perceptible movement of the water as the fresh flow from one end urged its way toward the drain at the other. with little ripples that were hardly the shadows of waves, the laden mattress moved irregularly down the pool. a small gust of wind that scarcely corrugated the surface was enough to disturb its accidental course with its accidental burden. the touch of a cluster of leaves revolved it slowly, tracing, like the leg of transit, a thin red circle in the water. it was after we started with gatsby toward the house that the gardener saw wilson\\'s body a little way off in the grass, and the holocaust was complete. ix after two years i remember the rest of that day, and that night and the next day, only as an endless drill of police and photographers and newspaper men in and out of gatsby\\'s front door. a rope stretched across the main gate and a policeman by it kept out the curious, but little boys soon discovered that they could enter through my yard, and there were always a few of them clustered open-mouthed about the pool. someone with a positive manner, perhaps a detective, used the expression \"madman\" as he bent over wilson\\'s body that afternoon, and the adventitious authority of his voice set the key for the newspaper reports next morning. most of those reports were a nightmare--grotesque, circumstantial, eager, and untrue. when michaelis\\'s testimony at the inquest brought to light wilson\\'s suspicions of his wife i thought the whole tale would shortly be served up in racy pasquinade--but catherine, who might have said anything, didn\\'t say a word. she showed a surprising amount of character about it too--looked at the coroner with determined eyes under that corrected brow of hers, and swore that her sister had never seen gatsby, that her sister was completely happy with her husband, that her sister had been into no mischief whatever. she convinced herself of it, and cried into her handkerchief, as if the very suggestion was more than she could endure. so wilson was reduced to a man \"deranged by grief\" in order that the case might remain in its simplest form. and it rested there. but all this part of it seemed remote and unessential. i found myself on gatsby\\'s side, and alone. from the moment i telephoned news of the catastrophe to west egg village, every surmise about him, and every practical question, was referred to me. at first i was surprised and confused; then, as he lay in his house and didn\\'t move or breathe or speak, hour upon hour, it grew upon me that i was responsible, because no one else was interested--interested, i mean, with that intense personal interest to which everyone has some vague right at the end. i called up daisy half an hour after we found him, called her instinctively and without hesitation. but she and tom had gone away early that afternoon, and taken baggage with them. \"left no address?\" \"no.\" \"say when they\\'d be back?\" \"no.\" \"any idea where they are? how i could reach them?\" \"i don\\'t know. can\\'t say.\" i wanted to get somebody for him. i wanted to go into the room where he lay and reassure him: \"i\\'ll get somebody for you, gatsby. don\\'t worry. just trust me and i\\'ll get somebody for you--\" meyer wolfshiem\\'s name wasn\\'t in the phone book. the butler gave me his office address on broadway, and i called information, but by the time i had the number it was long after five, and no one answered the phone. \"will you ring again?\" \"i\\'ve rung three times.\" \"it\\'s very important.\" \"sorry. i\\'m afraid no one\\'s there.\" i went back to the drawing-room and thought for an instant that they were chance visitors, all these official people who suddenly filled it. but, though they drew back the sheet and looked at gatsby with shocked eyes, his protest continued in my brain: \"look here, old sport, you\\'ve got to get somebody for me. you\\'ve got to try hard. i can\\'t go through this alone.\" someone started to ask me questions, but i broke away and going upstairs looked hastily through the unlocked parts of his desk--he\\'d never told me definitely that his parents were dead. but there was nothing--only the picture of dan cody, a token of forgotten violence, staring down from the wall. next morning i sent the butler to new york with a letter to wolfshiem, which asked for information and urged him to come out on the next train. that request seemed superfluous when i wrote it. i was sure he\\'d start when he saw the newspapers, just as i was sure there\\'d be a wire from daisy before noon--but neither a wire nor mr. wolfshiem arrived; no one arrived except more police and photographers and newspaper men. when the butler brought back wolfshiem\\'s answer i began to have a feeling of defiance, of scornful solidarity between gatsby and me against them all. dear mr. carraway. this has been one of the most terrible shocks of my life to me i hardly can believe it that it is true at all. such a mad act as that man did should make us all think. i cannot come down now as i am tied up in some very important business and cannot get mixed up in this thing now. if there is anything i can do a little later let me know in a letter by edgar. i hardly know where i am when i hear about a thing like this and am completely knocked down and out. yours truly meyer wolfshiem and then hasty addenda beneath: let me know about the funeral etc do not know his family at all. when the phone rang that afternoon and long distance said chicago was calling i thought this would be daisy at last. but the connection came through as a man\\'s voice, very thin and far away. \"this is slagle speaking ...\" \"yes?\" the name was unfamiliar. \"hell of a note, isn\\'t it? get my wire?\" \"there haven\\'t been any wires.\" \"young parke\\'s in trouble,\" he said rapidly. \"they picked him up when he handed the bonds over the counter. they got a circular from new york giving \\'em the numbers just five minutes before. what d\\'you know about that, hey? you never can tell in these hick towns--\" \"hello!\" i interrupted breathlessly. \"look here--this isn\\'t mr. gatsby. mr. gatsby\\'s dead.\" there was a long silence on the other end of the wire, followed by an exclamation ... then a quick squawk as the connection was broken. ------------------------------------------------------------------------ i think it was on the third day that a telegram signed henry c. gatz arrived from a town in minnesota. it said only that the sender was leaving immediately and to postpone the funeral until he came. it was gatsby\\'s father, a solemn old man, very helpless and dismayed, bundled up in a long cheap ulster against the warm september day. his eyes leaked continuously with excitement, and when i took the bag and umbrella from his hands he began to pull so incessantly at his sparse grey beard that i had difficulty in getting off his coat. he was on the point of collapse, so i took him into the music-room and made him sit down while i sent for something to eat. but he wouldn\\'t eat, and the glass of milk spilled from his trembling hand. \"i saw it in the chicago newspaper,\" he said. \"it was all in the chicago newspaper. i started right away.\" \"i didn\\'t know how to reach you.\" his eyes, seeing nothing, moved ceaselessly about the room. \"it was a madman,\" he said. \"he must have been mad.\" \"wouldn\\'t you like some coffee?\" i urged him. \"i don\\'t want anything. i\\'m all right now, mr.--\" \"carraway.\" \"well, i\\'m all right now. where have they got jimmy?\" i took him into the drawing-room, where his son lay, and left him there. some little boys had come up on the steps and were looking into the hall; when i told them who had arrived, they went reluctantly away. after a little while mr. gatz opened the door and came out, his mouth ajar, his face flushed slightly, his eyes leaking isolated and unpunctual tears. he had reached an age where death no longer has the quality of ghastly surprise, and when he looked around him now for the first time and saw the height and splendour of the hall and the great rooms opening out from it into other rooms, his grief began to be mixed with an awed pride. i helped him to a bedroom upstairs; while he took off his coat and vest i told him that all arrangements had been deferred until he came. \"i didn\\'t know what you\\'d want, mr. gatsby--\" \"gatz is my name.\" \"--mr. gatz. i thought you might want to take the body west.\" he shook his head. \"jimmy always liked it better down east. he rose up to his position in the east. were you a friend of my boy\\'s, mr.--?\" \"we were close friends.\" \"he had a big future before him, you know. he was only a young man, but he had a lot of brain power here.\" he touched his head impressively, and i nodded. \"if he\\'d of lived, he\\'d of been a great man. a man like james j. hill. he\\'d of helped build up the country.\" \"that\\'s true,\" i said, uncomfortably. he fumbled at the embroidered coverlet, trying to take it from the bed, and lay down stiffly--was instantly asleep. that night an obviously frightened person called up, and demanded to know who i was before he would give his name. \"this is mr. carraway,\" i said. \"oh!\" he sounded relieved. \"this is klipspringer.\" i was relieved too, for that seemed to promise another friend at gatsby\\'s grave. i didn\\'t want it to be in the papers and draw a sightseeing crowd, so i\\'d been calling up a few people myself. they were hard to find. \"the funeral\\'s tomorrow,\" i said. \"three o\\'clock, here at the house. i wish you\\'d tell anybody who\\'d be interested.\" \"oh, i will,\" he broke out hastily. \"of course i\\'m not likely to see anybody, but if i do.\" his tone made me suspicious. \"of course you\\'ll be there yourself.\" \"well, i\\'ll certainly try. what i called up about is--\" \"wait a minute,\" i interrupted. \"how about saying you\\'ll come?\" \"well, the fact is--the truth of the matter is that i\\'m staying with some people up here in greenwich, and they rather expect me to be with them tomorrow. in fact, there\\'s a sort of picnic or something. of course i\\'ll do my best to get away.\" i ejaculated an unrestrained \"huh!\" and he must have heard me, for he went on nervously: \"what i called up about was a pair of shoes i left there. i wonder if it\\'d be too much trouble to have the butler send them on. you see, they\\'re tennis shoes, and i\\'m sort of helpless without them. my address is care of b. f.--\" i didn\\'t hear the rest of the name, because i hung up the receiver. after that i felt a certain shame for gatsby--one gentleman to whom i telephoned implied that he had got what he deserved. however, that was my fault, for he was one of those who used to sneer most bitterly at gatsby on the courage of gatsby\\'s liquor, and i should have known better than to call him. the morning of the funeral i went up to new york to see meyer wolfshiem; i couldn\\'t seem to reach him any other way. the door that i pushed open, on the advice of an elevator boy, was marked \"the swastika holding company,\" and at first there didn\\'t seem to be anyone inside. but when i\\'d shouted \"hello\" several times in vain, an argument broke out behind a partition, and presently a lovely jewess appeared at an interior door and scrutinized me with black hostile eyes. \"nobody\\'s in,\" she said. \"mr. wolfshiem\\'s gone to chicago.\" the first part of this was obviously untrue, for someone had begun to whistle \"the rosary,\" tunelessly, inside. \"please say that mr. carraway wants to see him.\" \"i can\\'t get him back from chicago, can i?\" at this moment a voice, unmistakably wolfshiem\\'s, called \"stella!\" from the other side of the door. \"leave your name on the desk,\" she said quickly. \"i\\'ll give it to him when he gets back.\" \"but i know he\\'s there.\" she took a step toward me and began to slide her hands indignantly up and down her hips. \"you young men think you can force your way in here any time,\" she scolded. \"we\\'re getting sickantired of it. when i say he\\'s in chicago, he\\'s in chicago.\" i mentioned gatsby. \"oh-h!\" she looked at me over again. \"will you just--what was your name?\" she vanished. in a moment meyer wolfshiem stood solemnly in the doorway, holding out both hands. he drew me into his office, remarking in a reverent voice that it was a sad time for all of us, and offered me a cigar. \"my memory goes back to when first i met him,\" he said. \"a young major just out of the army and covered over with medals he got in the war. he was so hard up he had to keep on wearing his uniform because he couldn\\'t buy some regular clothes. first time i saw him was when he came into winebrenner\\'s poolroom at forty-third street and asked for a job. he hadn\\'t eat anything for a couple of days. \\'come on have some lunch with me,\\' i said. he ate more than four dollars\\' worth of food in half an hour.\" \"did you start him in business?\" i inquired. \"start him! i made him.\" \"oh.\" \"i raised him up out of nothing, right out of the gutter. i saw right away he was a fine-appearing, gentlemanly young man, and when he told me he was at oggsford i knew i could use him good. i got him to join the american legion and he used to stand high there. right off he did some work for a client of mine up to albany. we were so thick like that in everything\"--he held up two bulbous fingers--\"always together.\" i wondered if this partnership had included the world\\'s series transaction in 1919. \"now he\\'s dead,\" i said after a moment. \"you were his closest friend, so i know you\\'ll want to come to his funeral this afternoon.\" \"i\\'d like to come.\" \"well, come then.\" the hair in his nostrils quivered slightly, and as he shook his head his eyes filled with tears. \"i can\\'t do it--i can\\'t get mixed up in it,\" he said. \"there\\'s nothing to get mixed up in. it\\'s all over now.\" \"when a man gets killed i never like to get mixed up in it in any way. i keep out. when i was a young man it was different--if a friend of mine died, no matter how, i stuck with them to the end. you may think that\\'s sentimental, but i mean it--to the bitter end.\" i saw that for some reason of his own he was determined not to come, so i stood up. \"are you a college man?\" he inquired suddenly. for a moment i thought he was going to suggest a \"gonnegtion,\" but he only nodded and shook my hand. \"let us learn to show our friendship for a man when he is alive and not after he is dead,\" he suggested. \"after that my own rule is to let everything alone.\" when i left his office the sky had turned dark and i got back to west egg in a drizzle. after changing my clothes i went next door and found mr. gatz walking up and down excitedly in the hall. his pride in his son and in his son\\'s possessions was continually increasing and now he had something to show me. \"jimmy sent me this picture.\" he took out his wallet with trembling fingers. \"look there.\" it was a photograph of the house, cracked in the corners and dirty with many hands. he pointed out every detail to me eagerly. \"look there!\" and then sought admiration from my eyes. he had shown it so often that i think it was more real to him now than the house itself. \"jimmy sent it to me. i think it\\'s a very pretty picture. it shows up well.\" \"very well. had you seen him lately?\" \"he come out to see me two years ago and bought me the house i live in now. of course we was broke up when he run off from home, but i see now there was a reason for it. he knew he had a big future in front of him. and ever since he made a success he was very generous with me.\" he seemed reluctant to put away the picture, held it for another minute, lingeringly, before my eyes. then he returned the wallet and pulled from his pocket a ragged old copy of a book called hopalong cassidy. \"look here, this is a book he had when he was a boy. it just shows you.\" he opened it at the back cover and turned it around for me to see. on the last flyleaf was printed the word schedule, and the date september 12, 1906. and underneath: rise from bed 6:00 a.m. dumbell exercise and wall-scaling 6:15-6:30 \" study electricity, etc. 7:15-8:15 \" work 8:30-4:30 p.m. baseball and sports 4:30-5:00 \" practise elocution, poise and how to attain it 5:00-6:00 \" study needed inventions 7:00-9:00 \" general resolves * no wasting time at shafters or [a name, indecipherable] * no more smokeing or chewing. * bath every other day * read one improving book or magazine per week * save $5.00 [crossed out] $3.00 per week * be better to parents \"i came across this book by accident,\" said the old man. \"it just shows you, don\\'t it?\" \"it just shows you.\" \"jimmy was bound to get ahead. he always had some resolves like this or something. do you notice what he\\'s got about improving his mind? he was always great for that. he told me i et like a hog once, and i beat him for it.\" he was reluctant to close the book, reading each item aloud and then looking eagerly at me. i think he rather expected me to copy down the list for my own use. a little before three the lutheran minister arrived from flushing, and i began to look involuntarily out the windows for other cars. so did gatsby\\'s father. and as the time passed and the servants came in and stood waiting in the hall, his eyes began to blink anxiously, and he spoke of the rain in a worried, uncertain way. the minister glanced several times at his watch, so i took him aside and asked him to wait for half an hour. but it wasn\\'t any use. nobody came. ------------------------------------------------------------------------ about five o\\'clock our procession of three cars reached the cemetery and stopped in a thick drizzle beside the gate--first a motor hearse, horribly black and wet, then mr. gatz and the minister and me in the limousine, and a little later four or five servants and the postman from west egg, in gatsby\\'s station wagon, all wet to the skin. as we started through the gate into the cemetery i heard a car stop and then the sound of someone splashing after us over the soggy ground. i looked around. it was the man with owl-eyed glasses whom i had found marvelling over gatsby\\'s books in the library one night three months before. i\\'d never seen him since then. i don\\'t know how he knew about the funeral, or even his name. the rain poured down his thick glasses, and he took them off and wiped them to see the protecting canvas unrolled from gatsby\\'s grave. i tried to think about gatsby then for a moment, but he was already too far away, and i could only remember, without resentment, that daisy hadn\\'t sent a message or a flower. dimly i heard someone murmur \"blessed are the dead that the rain falls on,\" and then the owl-eyed man said \"amen to that,\" in a brave voice. we straggled down quickly through the rain to the cars. owl-eyes spoke to me by the gate. \"i couldn\\'t get to the house,\" he remarked. \"neither could anybody else.\" \"go on!\" he started. \"why, my god! they used to go there by the hundreds.\" he took off his glasses and wiped them again, outside and in. \"the poor son-of-a-bitch,\" he said. ------------------------------------------------------------------------ one of my most vivid memories is of coming back west from prep school and later from college at christmas time. those who went farther than chicago would gather in the old dim union station at six o\\'clock of a december evening, with a few chicago friends, already caught up into their own holiday gaieties, to bid them a hasty goodbye. i remember the fur coats of the girls returning from miss this-or-that\\'s and the chatter of frozen breath and the hands waving overhead as we caught sight of old acquaintances, and the matchings of invitations: \"are you going to the ordways\\'? the herseys\\'? the schultzes\\'?\" and the long green tickets clasped tight in our gloved hands. and last the murky yellow cars of the chicago, milwaukee and st. paul railroad looking cheerful as christmas itself on the tracks beside the gate. when we pulled out into the winter night and the real snow, our snow, began to stretch out beside us and twinkle against the windows, and the dim lights of small wisconsin stations moved by, a sharp wild brace came suddenly into the air. we drew in deep breaths of it as we walked back from dinner through the cold vestibules, unutterably aware of our identity with this country for one strange hour, before we melted indistinguishably into it again. that\\'s my middle west--not the wheat or the prairies or the lost swede towns, but the thrilling returning trains of my youth, and the street lamps and sleigh bells in the frosty dark and the shadows of holly wreaths thrown by lighted windows on the snow. i am part of that, a little solemn with the feel of those long winters, a little complacent from growing up in the carraway house in a city where dwellings are still called through decades by a family\\'s name. i see now that this has been a story of the west, after all--tom and gatsby, daisy and jordan and i, were all westerners, and perhaps we possessed some deficiency in common which made us subtly unadaptable to eastern life. even when the east excited me most, even when i was most keenly aware of its superiority to the bored, sprawling, swollen towns beyond the ohio, with their interminable inquisitions which spared only the children and the very old--even then it had always for me a quality of distortion. west egg, especially, still figures in my more fantastic dreams. i see it as a night scene by el greco: a hundred houses, at once conventional and grotesque, crouching under a sullen, overhanging sky and a lustreless moon. in the foreground four solemn men in dress suits are walking along the sidewalk with a stretcher on which lies a drunken woman in a white evening dress. her hand, which dangles over the side, sparkles cold with jewels. gravely the men turn in at a house--the wrong house. but no one knows the woman\\'s name, and no one cares. after gatsby\\'s death the east was haunted for me like that, distorted beyond my eyes\\' power of correction. so when the blue smoke of brittle leaves was in the air and the wind blew the wet laundry stiff on the line i decided to come back home. there was one thing to be done before i left, an awkward, unpleasant thing that perhaps had better have been let alone. but i wanted to leave things in order and not just trust that obliging and indifferent sea to sweep my refuse away. i saw jordan baker and talked over and around what had happened to us together, and what had happened afterward to me, and she lay perfectly still, listening, in a big chair. she was dressed to play golf, and i remember thinking she looked like a good illustration, her chin raised a little jauntily, her hair the colour of an autumn leaf, her face the same brown tint as the fingerless glove on her knee. when i had finished she told me without comment that she was engaged to another man. i doubted that, though there were several she could have married at a nod of her head, but i pretended to be surprised. for just a minute i wondered if i wasn\\'t making a mistake, then i thought it all over again quickly and got up to say goodbye. \"nevertheless you did throw me over,\" said jordan suddenly. \"you threw me over on the telephone. i don\\'t give a damn about you now, but it was a new experience for me, and i felt a little dizzy for a while.\" we shook hands. \"oh, and do you remember\"--she added--\"a conversation we had once about driving a car?\" \"why--not exactly.\" \"you said a bad driver was only safe until she met another bad driver? well, i met another bad driver, didn\\'t i? i mean it was careless of me to make such a wrong guess. i thought you were rather an honest, straightforward person. i thought it was your secret pride.\" \"i\\'m thirty,\" i said. \"i\\'m five years too old to lie to myself and call it honour.\" she didn\\'t answer. angry, and half in love with her, and tremendously sorry, i turned away. ------------------------------------------------------------------------ one afternoon late in october i saw tom buchanan. he was walking ahead of me along fifth avenue in his alert, aggressive way, his hands out a little from his body as if to fight off interference, his head moving sharply here and there, adapting itself to his restless eyes. just as i slowed up to avoid overtaking him he stopped and began frowning into the windows of a jewellery store. suddenly he saw me and walked back, holding out his hand. \"what\\'s the matter, nick? do you object to shaking hands with me?\" \"yes. you know what i think of you.\" \"you\\'re crazy, nick,\" he said quickly. \"crazy as hell. i don\\'t know what\\'s the matter with you.\" \"tom,\" i inquired, \"what did you say to wilson that afternoon?\" he stared at me without a word, and i knew i had guessed right about those missing hours. i started to turn away, but he took a step after me and grabbed my arm. \"i told him the truth,\" he said. \"he came to the door while we were getting ready to leave, and when i sent down word that we weren\\'t in he tried to force his way upstairs. he was crazy enough to kill me if i hadn\\'t told him who owned the car. his hand was on a revolver in his pocket every minute he was in the house--\" he broke off defiantly. \"what if i did tell him? that fellow had it coming to him. he threw dust into your eyes just like he did in daisy\\'s, but he was a tough one. he ran over myrtle like you\\'d run over a dog and never even stopped his car.\" there was nothing i could say, except the one unutterable fact that it wasn\\'t true. \"and if you think i didn\\'t have my share of suffering--look here, when i went to give up that flat and saw that damn box of dog biscuits sitting there on the sideboard, i sat down and cried like a baby. by god it was awful--\" i couldn\\'t forgive him or like him, but i saw that what he had done was, to him, entirely justified. it was all very careless and confused. they were careless people, tom and daisy--they smashed up things and creatures and then retreated back into their money or their vast carelessness, or whatever it was that kept them together, and let other people clean up the mess they had made ... i shook hands with him; it seemed silly not to, for i felt suddenly as though i were talking to a child. then he went into the jewellery store to buy a pearl necklace--or perhaps only a pair of cuff buttons--rid of my provincial squeamishness forever. ------------------------------------------------------------------------ gatsby\\'s house was still empty when i left--the grass on his lawn had grown as long as mine. one of the taxi drivers in the village never took a fare past the entrance gate without stopping for a minute and pointing inside; perhaps it was he who drove daisy and gatsby over to east egg the night of the accident, and perhaps he had made a story about it all his own. i didn\\'t want to hear it and i avoided him when i got off the train. i spent my saturday nights in new york because those gleaming, dazzling parties of his were with me so vividly that i could still hear the music and the laughter, faint and incessant, from his garden, and the cars going up and down his drive. one night i did hear a material car there, and saw its lights stop at his front steps. but i didn\\'t investigate. probably it was some final guest who had been away at the ends of the earth and didn\\'t know that the party was over. on the last night, with my trunk packed and my car sold to the grocer, i went over and looked at that huge incoherent failure of a house once more. on the white steps an obscene word, scrawled by some boy with a piece of brick, stood out clearly in the moonlight, and i erased it, drawing my shoe raspingly along the stone. then i wandered down to the beach and sprawled out on the sand. most of the big shore places were closed now and there were hardly any lights except the shadowy, moving glow of a ferryboat across the sound. and as the moon rose higher the inessential houses began to melt away until gradually i became aware of the old island here that flowered once for dutch sailors\\' eyes--a fresh, green breast of the new world. its vanished trees, the trees that had made way for gatsby\\'s house, had once pandered in whispers to the last and greatest of all human dreams; for a transitory enchanted moment man must have held his breath in the presence of this continent, compelled into an aesthetic contemplation he neither understood nor desired, face to face for the last time in history with something commensurate to his capacity for wonder. and as i sat there brooding on the old, unknown world, i thought of gatsby\\'s wonder when he first picked out the green light at the end of daisy\\'s dock. he had come a long way to this blue lawn, and his dream must have seemed so close that he could hardly fail to grasp it. he did not know that it was already behind him, somewhere back in that vast obscurity beyond the city, where the dark fields of the republic rolled on under the night. gatsby believed in the green light, the orgastic future that year by year recedes before us. it eluded us then, but that\\'s no matter--tomorrow we will run faster, stretch out our arms further ... and one fine morning-- so we beat on, boats against the current, borne back ceaselessly into the past.'"
            ],
            "application/vnd.google.colaboratory.intrinsic+json": {
              "type": "string"
            }
          },
          "metadata": {},
          "execution_count": 22
        }
      ]
    },
    {
      "cell_type": "code",
      "source": [
        "# Verify\n",
        "\n",
        "verify_novel(novel_clean_str, index_ends=500)"
      ],
      "metadata": {
        "id": "GIsI8CgED8N7",
        "colab": {
          "base_uri": "https://localhost:8080/"
        },
        "outputId": "40315727-0343-4738-e7bd-ea619c23c7c0"
      },
      "execution_count": 23,
      "outputs": [
        {
          "output_type": "stream",
          "name": "stdout",
          "text": [
            "Novel Name: book_great-gatsby_plain.txt\n",
            "  Char Len: 268671\n",
            "====================================\n",
            "\n",
            "Beginning:\n",
            "\n",
            " once again to zelda then wear the gold hat, if that will move her; if you can bounce high, bounce for her too, till she cry \"lover, gold-hatted, high-bouncing lover, i must have you!\" thomas parke d'invilliers i in my younger and more vulnerable years my father gave me some advice that i've been turning over in my mind ever since. \"whenever you feel like criticizing anyone,\" he told me, \"just remember that all the people in this world haven't had the advantages that you've had.\" he didn't say an\n",
            "\n",
            "\n",
            "\n",
            "------------------------------------\n",
            "Ending:\n",
            "\n",
            " he could hardly fail to grasp it. he did not know that it was already behind him, somewhere back in that vast obscurity beyond the city, where the dark fields of the republic rolled on under the night. gatsby believed in the green light, the orgastic future that year by year recedes before us. it eluded us then, but that's no matter--tomorrow we will run faster, stretch out our arms further ... and one fine morning-- so we beat on, boats against the current, borne back ceaselessly into the past.\n",
            "\n",
            "\n"
          ]
        }
      ]
    },
    {
      "cell_type": "markdown",
      "source": [
        "## Trim Text"
      ],
      "metadata": {
        "id": "5L8ueH7obDFk"
      }
    },
    {
      "cell_type": "code",
      "source": [
        "# FUTURE: Auto trim Gutenberg HEADER and FOOTER (varies too much)\n",
        "\n",
        "novel_trim_str = novel_clean_str"
      ],
      "metadata": {
        "id": "AhdTUaSqbC5c"
      },
      "execution_count": 24,
      "outputs": []
    },
    {
      "cell_type": "markdown",
      "source": [
        "## Segment Text"
      ],
      "metadata": {
        "id": "qDa43-cGOIMa"
      }
    },
    {
      "cell_type": "code",
      "source": [
        "!pip install pysbd  # Python Sentence Boundry Detection"
      ],
      "metadata": {
        "id": "BJqpPixhOtJC",
        "colab": {
          "base_uri": "https://localhost:8080/"
        },
        "outputId": "1003a531-9379-4110-b1f5-fed0635737b5"
      },
      "execution_count": 25,
      "outputs": [
        {
          "output_type": "stream",
          "name": "stdout",
          "text": [
            "Collecting pysbd\n",
            "  Downloading pysbd-0.3.4-py3-none-any.whl.metadata (6.1 kB)\n",
            "Downloading pysbd-0.3.4-py3-none-any.whl (71 kB)\n",
            "\u001b[?25l   \u001b[90m━━━━━━━━━━━━━━━━━━━━━━━━━━━━━━━━━━━━━━━━\u001b[0m \u001b[32m0.0/71.1 kB\u001b[0m \u001b[31m?\u001b[0m eta \u001b[36m-:--:--\u001b[0m\r\u001b[2K   \u001b[90m━━━━━━━━━━━━━━━━━━━━━━━━━━━━━━━━━━━━━━━━\u001b[0m \u001b[32m71.1/71.1 kB\u001b[0m \u001b[31m6.1 MB/s\u001b[0m eta \u001b[36m0:00:00\u001b[0m\n",
            "\u001b[?25hInstalling collected packages: pysbd\n",
            "Successfully installed pysbd-0.3.4\n"
          ]
        }
      ]
    },
    {
      "cell_type": "code",
      "source": [
        "import pysbd"
      ],
      "metadata": {
        "id": "OB27gvYJOxnG"
      },
      "execution_count": 26,
      "outputs": []
    },
    {
      "cell_type": "code",
      "source": [
        "# FIX: Normally assigned within the 'Trim Header & Footer' Section\n",
        "\n",
        "# Ensure we have trimmed version of novel in novel_trim_str\n",
        "\n",
        "if len(novel_trim_str) > 0:\n",
        "  # Header/Footer already trimmed from body of Novel\n",
        "  pass\n",
        "else:\n",
        "  novel_trim_str = novel_raw_str"
      ],
      "metadata": {
        "id": "wz6aVlxzbtEf"
      },
      "execution_count": 27,
      "outputs": []
    },
    {
      "cell_type": "code",
      "source": [
        "%%time\n",
        "\n",
        "# NOTE: 1m05s\n",
        "\n",
        "# Split Novel into Segments (~Sentences)\n",
        "seg = pysbd.Segmenter(language=\"en\", clean=False)\n",
        "novel_segments_ls = seg.segment(novel_trim_str)"
      ],
      "metadata": {
        "id": "JhSURloROtF_",
        "colab": {
          "base_uri": "https://localhost:8080/"
        },
        "outputId": "3170581d-2f12-48a1-a384-abab02121b8c"
      },
      "execution_count": 28,
      "outputs": [
        {
          "output_type": "stream",
          "name": "stdout",
          "text": [
            "CPU times: user 40.9 s, sys: 169 ms, total: 41.1 s\n",
            "Wall time: 56.3 s\n"
          ]
        }
      ]
    },
    {
      "cell_type": "code",
      "source": [
        "# Trim any leading/trailing whitespace on all Sentences\n",
        "\n",
        "novel_clean_ls = [x.strip() for x in novel_segments_ls]"
      ],
      "metadata": {
        "id": "19xTLVlAPjlm"
      },
      "execution_count": 29,
      "outputs": []
    },
    {
      "cell_type": "code",
      "source": [
        "# Verify\n",
        "\n",
        "verify_novel(novel_clean_ls, 10)"
      ],
      "metadata": {
        "id": "62DhkoOkEauJ",
        "colab": {
          "base_uri": "https://localhost:8080/"
        },
        "outputId": "84a79575-55ec-4e8a-f6a0-946734609d16"
      },
      "execution_count": 30,
      "outputs": [
        {
          "output_type": "stream",
          "name": "stdout",
          "text": [
            "Novel Name: book_great-gatsby_plain.txt\n",
            "  Char Len: 1357\n",
            "====================================\n",
            "\n",
            "Beginning:\n",
            "\n",
            " ['once again to zelda then wear the gold hat, if that will move her; if you can bounce high, bounce for her too, till she cry \"lover, gold-hatted, high-bouncing lover, i must have you!\" thomas parke d\\'invilliers i in my younger and more vulnerable years my father gave me some advice that i\\'ve been turning over in my mind ever since.', '\"whenever you feel like criticizing anyone,\" he told me, \"just remember that all the people in this world haven\\'t had the advantages that you\\'ve had.\" he didn\\'t say any more, but we\\'ve always been unusually communicative in a reserved way, and i understood that he meant a great deal more than that.', \"in consequence, i'm inclined to reserve all judgements, a habit that has opened up many curious natures to me and also made me the victim of not a few veteran bores.\", 'the abnormal mind is quick to detect and attach itself to this quality when it appears in a normal person, and so it came about that in college i was unjustly accused of being a politician, because i was privy to the secret griefs of wild, unknown men.', \"most of the confidences were unsought--frequently i have feigned sleep, preoccupation, or a hostile levity when i realized by some unmistakable sign that an intimate revelation was quivering on the horizon; for the intimate revelations of young men, or at least the terms in which they express them, are usually plagiaristic and marred by obvious suppressions. reserving judgements is a matter of infinite hope. i am still a little afraid of missing something if i forget that, as my father snobbishly suggested, and i snobbishly repeat, a sense of the fundamental decencies is parcelled out unequally at birth. and, after boasting this way of my tolerance, i come to the admission that it has a limit. conduct may be founded on the hard rock or the wet marshes, but after a certain point i don't care what it's founded on. when i came back from the east last autumn i felt that i wanted the world to be in uniform and at a sort of moral attention forever; i wanted no more riotous excursions with privileged glimpses into the human heart. only gatsby, the man who gives his name to this book, was exempt from my reaction--gatsby, who represented everything for which i have an unaffected scorn.\", 'if personality is an unbroken series of successful gestures, then there was something gorgeous about him, some heightened sensitivity to the promises of life, as if he were related to one of those intricate machines that register earthquakes ten thousand miles away.', 'this responsiveness had nothing to do with that flabby impressionability which is dignified under the name of the \"creative temperament\"--it was an extraordinary gift for hope, a romantic readiness such as i have never found in any other person and which it is not likely i shall ever find again. no--gatsby turned out all right at the end; it is what preyed on gatsby, what foul dust floated in the wake of his dreams that temporarily closed out my interest in the abortive sorrows and short-winded elations of men.', '------------------------------------------------------------------------ my family have been prominent, well-to-do people in this middle western city for three generations.', \"the carraways are something of a clan, and we have a tradition that we're descended from the dukes of buccleuch, but the actual founder of my line was my grandfather's brother, who came here in fifty-one, sent a substitute to the civil war, and started the wholesale hardware business that my father carries on today.\", \"i never saw this great-uncle, but i'm supposed to look like him--with special reference to the rather hard-boiled painting that hangs in father's office.\"]\n",
            "\n",
            "\n",
            "\n",
            "------------------------------------\n",
            "Ending:\n",
            "\n",
            " [\"i didn't want to hear it and i avoided him when i got off the train.\", 'i spent my saturday nights in new york because those gleaming, dazzling parties of his were with me so vividly that i could still hear the music and the laughter, faint and incessant, from his garden, and the cars going up and down his drive.', 'one night i did hear a material car there, and saw its lights stop at his front steps.', \"but i didn't investigate.\", \"probably it was some final guest who had been away at the ends of the earth and didn't know that the party was over.\", 'on the last night, with my trunk packed and my car sold to the grocer, i went over and looked at that huge incoherent failure of a house once more.', 'on the white steps an obscene word, scrawled by some boy with a piece of brick, stood out clearly in the moonlight, and i erased it, drawing my shoe raspingly along the stone.', 'then i wandered down to the beach and sprawled out on the sand.', 'most of the big shore places were closed now and there were hardly any lights except the shadowy, moving glow of a ferryboat across the sound.', \"and as the moon rose higher the inessential houses began to melt away until gradually i became aware of the old island here that flowered once for dutch sailors' eyes--a fresh, green breast of the new world. its vanished trees, the trees that had made way for gatsby's house, had once pandered in whispers to the last and greatest of all human dreams; for a transitory enchanted moment man must have held his breath in the presence of this continent, compelled into an aesthetic contemplation he neither understood nor desired, face to face for the last time in history with something commensurate to his capacity for wonder. and as i sat there brooding on the old, unknown world, i thought of gatsby's wonder when he first picked out the green light at the end of daisy's dock. he had come a long way to this blue lawn, and his dream must have seemed so close that he could hardly fail to grasp it. he did not know that it was already behind him, somewhere back in that vast obscurity beyond the city, where the dark fields of the republic rolled on under the night. gatsby believed in the green light, the orgastic future that year by year recedes before us. it eluded us then, but that's no matter--tomorrow we will run faster, stretch out our arms further ... and one fine morning-- so we beat on, boats against the current, borne back ceaselessly into the past.\"]\n",
            "\n",
            "\n"
          ]
        }
      ]
    },
    {
      "cell_type": "code",
      "source": [
        "# Save to file and download copy\n",
        "\n",
        "save_text2txt_and_download(novel_clean_ls, '_segments.txt')"
      ],
      "metadata": {
        "id": "EWECS98kFM1d",
        "colab": {
          "base_uri": "https://localhost:8080/",
          "height": 121
        },
        "outputId": "179c9fd4-2285-416c-c7da-e9b4e8cd295d"
      },
      "execution_count": 31,
      "outputs": [
        {
          "output_type": "stream",
          "name": "stdout",
          "text": [
            "STEP 1. Processing List of Strings Object\n",
            "\n",
            "STEP 2. Saving textfile to temporary VM file: book_great-gatsby_plain_segments.txt\n",
            "\n",
            "STEP 3. Downloading permanent copy of textfile: book_great-gatsby_plain_segments.txt\n",
            "\n"
          ]
        },
        {
          "output_type": "display_data",
          "data": {
            "text/plain": [
              "<IPython.core.display.Javascript object>"
            ],
            "application/javascript": [
              "\n",
              "    async function download(id, filename, size) {\n",
              "      if (!google.colab.kernel.accessAllowed) {\n",
              "        return;\n",
              "      }\n",
              "      const div = document.createElement('div');\n",
              "      const label = document.createElement('label');\n",
              "      label.textContent = `Downloading \"${filename}\": `;\n",
              "      div.appendChild(label);\n",
              "      const progress = document.createElement('progress');\n",
              "      progress.max = size;\n",
              "      div.appendChild(progress);\n",
              "      document.body.appendChild(div);\n",
              "\n",
              "      const buffers = [];\n",
              "      let downloaded = 0;\n",
              "\n",
              "      const channel = await google.colab.kernel.comms.open(id);\n",
              "      // Send a message to notify the kernel that we're ready.\n",
              "      channel.send({})\n",
              "\n",
              "      for await (const message of channel.messages) {\n",
              "        // Send a message to notify the kernel that we're ready.\n",
              "        channel.send({})\n",
              "        if (message.buffers) {\n",
              "          for (const buffer of message.buffers) {\n",
              "            buffers.push(buffer);\n",
              "            downloaded += buffer.byteLength;\n",
              "            progress.value = downloaded;\n",
              "          }\n",
              "        }\n",
              "      }\n",
              "      const blob = new Blob(buffers, {type: 'application/binary'});\n",
              "      const a = document.createElement('a');\n",
              "      a.href = window.URL.createObjectURL(blob);\n",
              "      a.download = filename;\n",
              "      div.appendChild(a);\n",
              "      a.click();\n",
              "      div.remove();\n",
              "    }\n",
              "  "
            ]
          },
          "metadata": {}
        },
        {
          "output_type": "display_data",
          "data": {
            "text/plain": [
              "<IPython.core.display.Javascript object>"
            ],
            "application/javascript": [
              "download(\"download_4d08ddb0-5c0b-4cdb-b88c-75dc6de81fcd\", \"book_great-gatsby_plain_segments.txt\", 268780)"
            ]
          },
          "metadata": {}
        }
      ]
    },
    {
      "cell_type": "code",
      "source": [
        "sentiment_df"
      ],
      "metadata": {
        "id": "gl_jxnxWK9ED",
        "colab": {
          "base_uri": "https://localhost:8080/",
          "height": 204
        },
        "outputId": "e6902bf5-953d-481f-d1a0-831203b8a9e9"
      },
      "execution_count": 32,
      "outputs": [
        {
          "output_type": "execute_result",
          "data": {
            "text/plain": [
              "pandas.core.frame.DataFrame"
            ],
            "text/html": [
              "<div style=\"max-width:800px; border: 1px solid var(--colab-border-color);\"><style>\n",
              "      pre.function-repr-contents {\n",
              "        overflow-x: auto;\n",
              "        padding: 8px 12px;\n",
              "        max-height: 500px;\n",
              "      }\n",
              "\n",
              "      pre.function-repr-contents.function-repr-contents-collapsed {\n",
              "        cursor: pointer;\n",
              "        max-height: 100px;\n",
              "      }\n",
              "    </style>\n",
              "    <pre style=\"white-space: initial; background:\n",
              "         var(--colab-secondary-surface-color); padding: 8px 12px;\n",
              "         border-bottom: 1px solid var(--colab-border-color);\"><b>pandas.core.frame.DataFrame</b><br/>def __init__(data=None, index: Axes | None=None, columns: Axes | None=None, dtype: Dtype | None=None, copy: bool | None=None) -&gt; None</pre><pre class=\"function-repr-contents function-repr-contents-collapsed\" style=\"\"><a class=\"filepath\" style=\"display:none\" href=\"#\">/usr/local/lib/python3.10/dist-packages/pandas/core/frame.py</a>Two-dimensional, size-mutable, potentially heterogeneous tabular data.\n",
              "\n",
              "Data structure also contains labeled axes (rows and columns).\n",
              "Arithmetic operations align on both row and column labels. Can be\n",
              "thought of as a dict-like container for Series objects. The primary\n",
              "pandas data structure.\n",
              "\n",
              "Parameters\n",
              "----------\n",
              "data : ndarray (structured or homogeneous), Iterable, dict, or DataFrame\n",
              "    Dict can contain Series, arrays, constants, dataclass or list-like objects. If\n",
              "    data is a dict, column order follows insertion-order. If a dict contains Series\n",
              "    which have an index defined, it is aligned by its index. This alignment also\n",
              "    occurs if data is a Series or a DataFrame itself. Alignment is done on\n",
              "    Series/DataFrame inputs.\n",
              "\n",
              "    If data is a list of dicts, column order follows insertion-order.\n",
              "\n",
              "index : Index or array-like\n",
              "    Index to use for resulting frame. Will default to RangeIndex if\n",
              "    no indexing information part of input data and no index provided.\n",
              "columns : Index or array-like\n",
              "    Column labels to use for resulting frame when data does not have them,\n",
              "    defaulting to RangeIndex(0, 1, 2, ..., n). If data contains column labels,\n",
              "    will perform column selection instead.\n",
              "dtype : dtype, default None\n",
              "    Data type to force. Only a single dtype is allowed. If None, infer.\n",
              "copy : bool or None, default None\n",
              "    Copy data from inputs.\n",
              "    For dict data, the default of None behaves like ``copy=True``.  For DataFrame\n",
              "    or 2d ndarray input, the default of None behaves like ``copy=False``.\n",
              "    If data is a dict containing one or more Series (possibly of different dtypes),\n",
              "    ``copy=False`` will ensure that these inputs are not copied.\n",
              "\n",
              "    .. versionchanged:: 1.3.0\n",
              "\n",
              "See Also\n",
              "--------\n",
              "DataFrame.from_records : Constructor from tuples, also record arrays.\n",
              "DataFrame.from_dict : From dicts of Series, arrays, or dicts.\n",
              "read_csv : Read a comma-separated values (csv) file into DataFrame.\n",
              "read_table : Read general delimited file into DataFrame.\n",
              "read_clipboard : Read text from clipboard into DataFrame.\n",
              "\n",
              "Notes\n",
              "-----\n",
              "Please reference the :ref:`User Guide &lt;basics.dataframe&gt;` for more information.\n",
              "\n",
              "Examples\n",
              "--------\n",
              "Constructing DataFrame from a dictionary.\n",
              "\n",
              "&gt;&gt;&gt; d = {&#x27;col1&#x27;: [1, 2], &#x27;col2&#x27;: [3, 4]}\n",
              "&gt;&gt;&gt; df = pd.DataFrame(data=d)\n",
              "&gt;&gt;&gt; df\n",
              "   col1  col2\n",
              "0     1     3\n",
              "1     2     4\n",
              "\n",
              "Notice that the inferred dtype is int64.\n",
              "\n",
              "&gt;&gt;&gt; df.dtypes\n",
              "col1    int64\n",
              "col2    int64\n",
              "dtype: object\n",
              "\n",
              "To enforce a single dtype:\n",
              "\n",
              "&gt;&gt;&gt; df = pd.DataFrame(data=d, dtype=np.int8)\n",
              "&gt;&gt;&gt; df.dtypes\n",
              "col1    int8\n",
              "col2    int8\n",
              "dtype: object\n",
              "\n",
              "Constructing DataFrame from a dictionary including Series:\n",
              "\n",
              "&gt;&gt;&gt; d = {&#x27;col1&#x27;: [0, 1, 2, 3], &#x27;col2&#x27;: pd.Series([2, 3], index=[2, 3])}\n",
              "&gt;&gt;&gt; pd.DataFrame(data=d, index=[0, 1, 2, 3])\n",
              "   col1  col2\n",
              "0     0   NaN\n",
              "1     1   NaN\n",
              "2     2   2.0\n",
              "3     3   3.0\n",
              "\n",
              "Constructing DataFrame from numpy ndarray:\n",
              "\n",
              "&gt;&gt;&gt; df2 = pd.DataFrame(np.array([[1, 2, 3], [4, 5, 6], [7, 8, 9]]),\n",
              "...                    columns=[&#x27;a&#x27;, &#x27;b&#x27;, &#x27;c&#x27;])\n",
              "&gt;&gt;&gt; df2\n",
              "   a  b  c\n",
              "0  1  2  3\n",
              "1  4  5  6\n",
              "2  7  8  9\n",
              "\n",
              "Constructing DataFrame from a numpy ndarray that has labeled columns:\n",
              "\n",
              "&gt;&gt;&gt; data = np.array([(1, 2, 3), (4, 5, 6), (7, 8, 9)],\n",
              "...                 dtype=[(&quot;a&quot;, &quot;i4&quot;), (&quot;b&quot;, &quot;i4&quot;), (&quot;c&quot;, &quot;i4&quot;)])\n",
              "&gt;&gt;&gt; df3 = pd.DataFrame(data, columns=[&#x27;c&#x27;, &#x27;a&#x27;])\n",
              "...\n",
              "&gt;&gt;&gt; df3\n",
              "   c  a\n",
              "0  3  1\n",
              "1  6  4\n",
              "2  9  7\n",
              "\n",
              "Constructing DataFrame from dataclass:\n",
              "\n",
              "&gt;&gt;&gt; from dataclasses import make_dataclass\n",
              "&gt;&gt;&gt; Point = make_dataclass(&quot;Point&quot;, [(&quot;x&quot;, int), (&quot;y&quot;, int)])\n",
              "&gt;&gt;&gt; pd.DataFrame([Point(0, 0), Point(0, 3), Point(2, 3)])\n",
              "   x  y\n",
              "0  0  0\n",
              "1  0  3\n",
              "2  2  3\n",
              "\n",
              "Constructing DataFrame from Series/DataFrame:\n",
              "\n",
              "&gt;&gt;&gt; ser = pd.Series([1, 2, 3], index=[&quot;a&quot;, &quot;b&quot;, &quot;c&quot;])\n",
              "&gt;&gt;&gt; df = pd.DataFrame(data=ser, index=[&quot;a&quot;, &quot;c&quot;])\n",
              "&gt;&gt;&gt; df\n",
              "   0\n",
              "a  1\n",
              "c  3\n",
              "\n",
              "&gt;&gt;&gt; df1 = pd.DataFrame([1, 2, 3], index=[&quot;a&quot;, &quot;b&quot;, &quot;c&quot;], columns=[&quot;x&quot;])\n",
              "&gt;&gt;&gt; df2 = pd.DataFrame(data=df1, index=[&quot;a&quot;, &quot;c&quot;])\n",
              "&gt;&gt;&gt; df2\n",
              "   x\n",
              "a  1\n",
              "c  3</pre>\n",
              "      <script>\n",
              "      if (google.colab.kernel.accessAllowed && google.colab.files && google.colab.files.view) {\n",
              "        for (const element of document.querySelectorAll('.filepath')) {\n",
              "          element.style.display = 'block'\n",
              "          element.onclick = (event) => {\n",
              "            event.preventDefault();\n",
              "            event.stopPropagation();\n",
              "            google.colab.files.view(element.textContent, 509);\n",
              "          };\n",
              "        }\n",
              "      }\n",
              "      for (const element of document.querySelectorAll('.function-repr-contents')) {\n",
              "        element.onclick = (event) => {\n",
              "          event.preventDefault();\n",
              "          event.stopPropagation();\n",
              "          element.classList.toggle('function-repr-contents-collapsed');\n",
              "        };\n",
              "      }\n",
              "      </script>\n",
              "      </div>"
            ]
          },
          "metadata": {},
          "execution_count": 32
        }
      ]
    },
    {
      "cell_type": "code",
      "source": [
        "# Populate novel sentiment_df with sentence number and clean segmented strings\n",
        "\n",
        "sentence_no_ls = list(range(len(novel_clean_ls)))\n",
        "sentence_no_ls[-1]\n",
        "\n",
        "sentiment_df = pd.DataFrame({'line_no':sentence_no_ls, 'line':novel_clean_ls})\n",
        "sentiment_df.head()"
      ],
      "metadata": {
        "id": "m5Qbh6uHJ_fh",
        "colab": {
          "base_uri": "https://localhost:8080/",
          "height": 224
        },
        "outputId": "b813a53d-dcb5-4a1c-a4c5-aadc0d9671dd"
      },
      "execution_count": 33,
      "outputs": [
        {
          "output_type": "execute_result",
          "data": {
            "text/plain": [
              "1356"
            ]
          },
          "metadata": {},
          "execution_count": 33
        },
        {
          "output_type": "execute_result",
          "data": {
            "text/plain": [
              "   line_no                                               line\n",
              "0        0  once again to zelda then wear the gold hat, if...\n",
              "1        1  \"whenever you feel like criticizing anyone,\" h...\n",
              "2        2  in consequence, i'm inclined to reserve all ju...\n",
              "3        3  the abnormal mind is quick to detect and attac...\n",
              "4        4  most of the confidences were unsought--frequen..."
            ],
            "text/html": [
              "\n",
              "  <div id=\"df-2404678e-0bae-4158-a754-3045792d104d\" class=\"colab-df-container\">\n",
              "    <div>\n",
              "<style scoped>\n",
              "    .dataframe tbody tr th:only-of-type {\n",
              "        vertical-align: middle;\n",
              "    }\n",
              "\n",
              "    .dataframe tbody tr th {\n",
              "        vertical-align: top;\n",
              "    }\n",
              "\n",
              "    .dataframe thead th {\n",
              "        text-align: right;\n",
              "    }\n",
              "</style>\n",
              "<table border=\"1\" class=\"dataframe\">\n",
              "  <thead>\n",
              "    <tr style=\"text-align: right;\">\n",
              "      <th></th>\n",
              "      <th>line_no</th>\n",
              "      <th>line</th>\n",
              "    </tr>\n",
              "  </thead>\n",
              "  <tbody>\n",
              "    <tr>\n",
              "      <th>0</th>\n",
              "      <td>0</td>\n",
              "      <td>once again to zelda then wear the gold hat, if...</td>\n",
              "    </tr>\n",
              "    <tr>\n",
              "      <th>1</th>\n",
              "      <td>1</td>\n",
              "      <td>\"whenever you feel like criticizing anyone,\" h...</td>\n",
              "    </tr>\n",
              "    <tr>\n",
              "      <th>2</th>\n",
              "      <td>2</td>\n",
              "      <td>in consequence, i'm inclined to reserve all ju...</td>\n",
              "    </tr>\n",
              "    <tr>\n",
              "      <th>3</th>\n",
              "      <td>3</td>\n",
              "      <td>the abnormal mind is quick to detect and attac...</td>\n",
              "    </tr>\n",
              "    <tr>\n",
              "      <th>4</th>\n",
              "      <td>4</td>\n",
              "      <td>most of the confidences were unsought--frequen...</td>\n",
              "    </tr>\n",
              "  </tbody>\n",
              "</table>\n",
              "</div>\n",
              "    <div class=\"colab-df-buttons\">\n",
              "\n",
              "  <div class=\"colab-df-container\">\n",
              "    <button class=\"colab-df-convert\" onclick=\"convertToInteractive('df-2404678e-0bae-4158-a754-3045792d104d')\"\n",
              "            title=\"Convert this dataframe to an interactive table.\"\n",
              "            style=\"display:none;\">\n",
              "\n",
              "  <svg xmlns=\"http://www.w3.org/2000/svg\" height=\"24px\" viewBox=\"0 -960 960 960\">\n",
              "    <path d=\"M120-120v-720h720v720H120Zm60-500h600v-160H180v160Zm220 220h160v-160H400v160Zm0 220h160v-160H400v160ZM180-400h160v-160H180v160Zm440 0h160v-160H620v160ZM180-180h160v-160H180v160Zm440 0h160v-160H620v160Z\"/>\n",
              "  </svg>\n",
              "    </button>\n",
              "\n",
              "  <style>\n",
              "    .colab-df-container {\n",
              "      display:flex;\n",
              "      gap: 12px;\n",
              "    }\n",
              "\n",
              "    .colab-df-convert {\n",
              "      background-color: #E8F0FE;\n",
              "      border: none;\n",
              "      border-radius: 50%;\n",
              "      cursor: pointer;\n",
              "      display: none;\n",
              "      fill: #1967D2;\n",
              "      height: 32px;\n",
              "      padding: 0 0 0 0;\n",
              "      width: 32px;\n",
              "    }\n",
              "\n",
              "    .colab-df-convert:hover {\n",
              "      background-color: #E2EBFA;\n",
              "      box-shadow: 0px 1px 2px rgba(60, 64, 67, 0.3), 0px 1px 3px 1px rgba(60, 64, 67, 0.15);\n",
              "      fill: #174EA6;\n",
              "    }\n",
              "\n",
              "    .colab-df-buttons div {\n",
              "      margin-bottom: 4px;\n",
              "    }\n",
              "\n",
              "    [theme=dark] .colab-df-convert {\n",
              "      background-color: #3B4455;\n",
              "      fill: #D2E3FC;\n",
              "    }\n",
              "\n",
              "    [theme=dark] .colab-df-convert:hover {\n",
              "      background-color: #434B5C;\n",
              "      box-shadow: 0px 1px 3px 1px rgba(0, 0, 0, 0.15);\n",
              "      filter: drop-shadow(0px 1px 2px rgba(0, 0, 0, 0.3));\n",
              "      fill: #FFFFFF;\n",
              "    }\n",
              "  </style>\n",
              "\n",
              "    <script>\n",
              "      const buttonEl =\n",
              "        document.querySelector('#df-2404678e-0bae-4158-a754-3045792d104d button.colab-df-convert');\n",
              "      buttonEl.style.display =\n",
              "        google.colab.kernel.accessAllowed ? 'block' : 'none';\n",
              "\n",
              "      async function convertToInteractive(key) {\n",
              "        const element = document.querySelector('#df-2404678e-0bae-4158-a754-3045792d104d');\n",
              "        const dataTable =\n",
              "          await google.colab.kernel.invokeFunction('convertToInteractive',\n",
              "                                                    [key], {});\n",
              "        if (!dataTable) return;\n",
              "\n",
              "        const docLinkHtml = 'Like what you see? Visit the ' +\n",
              "          '<a target=\"_blank\" href=https://colab.research.google.com/notebooks/data_table.ipynb>data table notebook</a>'\n",
              "          + ' to learn more about interactive tables.';\n",
              "        element.innerHTML = '';\n",
              "        dataTable['output_type'] = 'display_data';\n",
              "        await google.colab.output.renderOutput(dataTable, element);\n",
              "        const docLink = document.createElement('div');\n",
              "        docLink.innerHTML = docLinkHtml;\n",
              "        element.appendChild(docLink);\n",
              "      }\n",
              "    </script>\n",
              "  </div>\n",
              "\n",
              "\n",
              "<div id=\"df-7ac3f686-e0ac-4c32-9c11-33d54f270c99\">\n",
              "  <button class=\"colab-df-quickchart\" onclick=\"quickchart('df-7ac3f686-e0ac-4c32-9c11-33d54f270c99')\"\n",
              "            title=\"Suggest charts\"\n",
              "            style=\"display:none;\">\n",
              "\n",
              "<svg xmlns=\"http://www.w3.org/2000/svg\" height=\"24px\"viewBox=\"0 0 24 24\"\n",
              "     width=\"24px\">\n",
              "    <g>\n",
              "        <path d=\"M19 3H5c-1.1 0-2 .9-2 2v14c0 1.1.9 2 2 2h14c1.1 0 2-.9 2-2V5c0-1.1-.9-2-2-2zM9 17H7v-7h2v7zm4 0h-2V7h2v10zm4 0h-2v-4h2v4z\"/>\n",
              "    </g>\n",
              "</svg>\n",
              "  </button>\n",
              "\n",
              "<style>\n",
              "  .colab-df-quickchart {\n",
              "      --bg-color: #E8F0FE;\n",
              "      --fill-color: #1967D2;\n",
              "      --hover-bg-color: #E2EBFA;\n",
              "      --hover-fill-color: #174EA6;\n",
              "      --disabled-fill-color: #AAA;\n",
              "      --disabled-bg-color: #DDD;\n",
              "  }\n",
              "\n",
              "  [theme=dark] .colab-df-quickchart {\n",
              "      --bg-color: #3B4455;\n",
              "      --fill-color: #D2E3FC;\n",
              "      --hover-bg-color: #434B5C;\n",
              "      --hover-fill-color: #FFFFFF;\n",
              "      --disabled-bg-color: #3B4455;\n",
              "      --disabled-fill-color: #666;\n",
              "  }\n",
              "\n",
              "  .colab-df-quickchart {\n",
              "    background-color: var(--bg-color);\n",
              "    border: none;\n",
              "    border-radius: 50%;\n",
              "    cursor: pointer;\n",
              "    display: none;\n",
              "    fill: var(--fill-color);\n",
              "    height: 32px;\n",
              "    padding: 0;\n",
              "    width: 32px;\n",
              "  }\n",
              "\n",
              "  .colab-df-quickchart:hover {\n",
              "    background-color: var(--hover-bg-color);\n",
              "    box-shadow: 0 1px 2px rgba(60, 64, 67, 0.3), 0 1px 3px 1px rgba(60, 64, 67, 0.15);\n",
              "    fill: var(--button-hover-fill-color);\n",
              "  }\n",
              "\n",
              "  .colab-df-quickchart-complete:disabled,\n",
              "  .colab-df-quickchart-complete:disabled:hover {\n",
              "    background-color: var(--disabled-bg-color);\n",
              "    fill: var(--disabled-fill-color);\n",
              "    box-shadow: none;\n",
              "  }\n",
              "\n",
              "  .colab-df-spinner {\n",
              "    border: 2px solid var(--fill-color);\n",
              "    border-color: transparent;\n",
              "    border-bottom-color: var(--fill-color);\n",
              "    animation:\n",
              "      spin 1s steps(1) infinite;\n",
              "  }\n",
              "\n",
              "  @keyframes spin {\n",
              "    0% {\n",
              "      border-color: transparent;\n",
              "      border-bottom-color: var(--fill-color);\n",
              "      border-left-color: var(--fill-color);\n",
              "    }\n",
              "    20% {\n",
              "      border-color: transparent;\n",
              "      border-left-color: var(--fill-color);\n",
              "      border-top-color: var(--fill-color);\n",
              "    }\n",
              "    30% {\n",
              "      border-color: transparent;\n",
              "      border-left-color: var(--fill-color);\n",
              "      border-top-color: var(--fill-color);\n",
              "      border-right-color: var(--fill-color);\n",
              "    }\n",
              "    40% {\n",
              "      border-color: transparent;\n",
              "      border-right-color: var(--fill-color);\n",
              "      border-top-color: var(--fill-color);\n",
              "    }\n",
              "    60% {\n",
              "      border-color: transparent;\n",
              "      border-right-color: var(--fill-color);\n",
              "    }\n",
              "    80% {\n",
              "      border-color: transparent;\n",
              "      border-right-color: var(--fill-color);\n",
              "      border-bottom-color: var(--fill-color);\n",
              "    }\n",
              "    90% {\n",
              "      border-color: transparent;\n",
              "      border-bottom-color: var(--fill-color);\n",
              "    }\n",
              "  }\n",
              "</style>\n",
              "\n",
              "  <script>\n",
              "    async function quickchart(key) {\n",
              "      const quickchartButtonEl =\n",
              "        document.querySelector('#' + key + ' button');\n",
              "      quickchartButtonEl.disabled = true;  // To prevent multiple clicks.\n",
              "      quickchartButtonEl.classList.add('colab-df-spinner');\n",
              "      try {\n",
              "        const charts = await google.colab.kernel.invokeFunction(\n",
              "            'suggestCharts', [key], {});\n",
              "      } catch (error) {\n",
              "        console.error('Error during call to suggestCharts:', error);\n",
              "      }\n",
              "      quickchartButtonEl.classList.remove('colab-df-spinner');\n",
              "      quickchartButtonEl.classList.add('colab-df-quickchart-complete');\n",
              "    }\n",
              "    (() => {\n",
              "      let quickchartButtonEl =\n",
              "        document.querySelector('#df-7ac3f686-e0ac-4c32-9c11-33d54f270c99 button');\n",
              "      quickchartButtonEl.style.display =\n",
              "        google.colab.kernel.accessAllowed ? 'block' : 'none';\n",
              "    })();\n",
              "  </script>\n",
              "</div>\n",
              "\n",
              "    </div>\n",
              "  </div>\n"
            ],
            "application/vnd.google.colaboratory.intrinsic+json": {
              "type": "dataframe",
              "variable_name": "sentiment_df",
              "summary": "{\n  \"name\": \"sentiment_df\",\n  \"rows\": 1357,\n  \"fields\": [\n    {\n      \"column\": \"line_no\",\n      \"properties\": {\n        \"dtype\": \"number\",\n        \"std\": 391,\n        \"min\": 0,\n        \"max\": 1356,\n        \"num_unique_values\": 1357,\n        \"samples\": [\n          51,\n          1098,\n          1310\n        ],\n        \"semantic_type\": \"\",\n        \"description\": \"\"\n      }\n    },\n    {\n      \"column\": \"line\",\n      \"properties\": {\n        \"dtype\": \"string\",\n        \"num_unique_values\": 1355,\n        \"samples\": [\n          \"there was a touch of paternal contempt in it, even toward people he liked--and there were men at new haven who had hated his guts.\",\n          \"well, she\\\"--his hand rose toward the blankets but stopped halfway and fell to his side--\\\"she ran out there an' the one comin' from n'york knock right into her, goin' thirty or forty miles an hour.\",\n          \"\\\"orderi di danilo,\\\" ran the circular legend, \\\"montenegro, nicolas rex.\\\" \\\"turn it.\\\" \\\"major jay gatsby,\\\" i read, \\\"for valour extraordinary.\\\" \\\"here's another thing i always carry. a souvenir of oxford days. it was taken in trinity quad--the man on my left is now the earl of doncaster.\\\" it was a photograph of half a dozen young men in blazers loafing in an archway through which were visible a host of spires. there was gatsby, looking a little, not much, younger--with a cricket bat in his hand.\"\n        ],\n        \"semantic_type\": \"\",\n        \"description\": \"\"\n      }\n    }\n  ]\n}"
            }
          },
          "metadata": {},
          "execution_count": 33
        }
      ]
    },
    {
      "cell_type": "markdown",
      "source": [
        "# Compute Sentiment"
      ],
      "metadata": {
        "id": "2thPN2r_QJSz"
      }
    },
    {
      "cell_type": "markdown",
      "source": [
        "## Option (1): Symbolic: Lexicons"
      ],
      "metadata": {
        "id": "rJUoLqF_QWbw"
      }
    },
    {
      "cell_type": "markdown",
      "source": [
        "### VADER"
      ],
      "metadata": {
        "id": "-9C-x51-LaES"
      }
    },
    {
      "cell_type": "code",
      "source": [
        "!pip install vaderSentiment"
      ],
      "metadata": {
        "id": "zJ2XMJDSF3jU",
        "colab": {
          "base_uri": "https://localhost:8080/"
        },
        "outputId": "1911e2dc-daca-42d0-e819-c7bb3a27f972"
      },
      "execution_count": 34,
      "outputs": [
        {
          "output_type": "stream",
          "name": "stdout",
          "text": [
            "Collecting vaderSentiment\n",
            "  Downloading vaderSentiment-3.3.2-py2.py3-none-any.whl.metadata (572 bytes)\n",
            "Requirement already satisfied: requests in /usr/local/lib/python3.10/dist-packages (from vaderSentiment) (2.32.3)\n",
            "Requirement already satisfied: charset-normalizer<4,>=2 in /usr/local/lib/python3.10/dist-packages (from requests->vaderSentiment) (3.4.0)\n",
            "Requirement already satisfied: idna<4,>=2.5 in /usr/local/lib/python3.10/dist-packages (from requests->vaderSentiment) (3.10)\n",
            "Requirement already satisfied: urllib3<3,>=1.21.1 in /usr/local/lib/python3.10/dist-packages (from requests->vaderSentiment) (2.2.3)\n",
            "Requirement already satisfied: certifi>=2017.4.17 in /usr/local/lib/python3.10/dist-packages (from requests->vaderSentiment) (2024.8.30)\n",
            "Downloading vaderSentiment-3.3.2-py2.py3-none-any.whl (125 kB)\n",
            "\u001b[?25l   \u001b[90m━━━━━━━━━━━━━━━━━━━━━━━━━━━━━━━━━━━━━━━━\u001b[0m \u001b[32m0.0/126.0 kB\u001b[0m \u001b[31m?\u001b[0m eta \u001b[36m-:--:--\u001b[0m\r\u001b[2K   \u001b[90m━━━━━━━━━━━━━━━━━━━━━━━━━━━━━━━━━━━━━━━━\u001b[0m \u001b[32m126.0/126.0 kB\u001b[0m \u001b[31m9.4 MB/s\u001b[0m eta \u001b[36m0:00:00\u001b[0m\n",
            "\u001b[?25hInstalling collected packages: vaderSentiment\n",
            "Successfully installed vaderSentiment-3.3.2\n"
          ]
        }
      ]
    },
    {
      "cell_type": "code",
      "source": [
        "from vaderSentiment.vaderSentiment import SentimentIntensityAnalyzer\n",
        "\n",
        "sid_obj = SentimentIntensityAnalyzer()"
      ],
      "metadata": {
        "id": "Qma7eu0gQnKy"
      },
      "execution_count": 35,
      "outputs": []
    },
    {
      "cell_type": "code",
      "source": [
        "sentiment_vader_ls = [sid_obj.polarity_scores(asentence)['compound'] for asentence in novel_clean_ls]"
      ],
      "metadata": {
        "id": "Lng_pNpVQnHu"
      },
      "execution_count": 36,
      "outputs": []
    },
    {
      "cell_type": "code",
      "source": [
        "# Create new VADER DataFrame to save results\n",
        "\n",
        "vader_df = sentiment_df[['line_no', 'line']].copy(deep=True)\n",
        "vader_df['sentiment'] = pd.Series(sentiment_vader_ls)\n",
        "vader_df.head()"
      ],
      "metadata": {
        "id": "ckLEiP79jwRX",
        "colab": {
          "base_uri": "https://localhost:8080/",
          "height": 206
        },
        "outputId": "5c2d47c6-cf6a-448b-993f-786558a2057d"
      },
      "execution_count": 37,
      "outputs": [
        {
          "output_type": "execute_result",
          "data": {
            "text/plain": [
              "   line_no                                               line  sentiment\n",
              "0        0  once again to zelda then wear the gold hat, if...     0.5572\n",
              "1        1  \"whenever you feel like criticizing anyone,\" h...     0.7265\n",
              "2        2  in consequence, i'm inclined to reserve all ju...    -0.2732\n",
              "3        3  the abnormal mind is quick to detect and attac...    -0.2960\n",
              "4        4  most of the confidences were unsought--frequen...     0.3797"
            ],
            "text/html": [
              "\n",
              "  <div id=\"df-db8f1b40-88fd-4d0e-9296-39a956885fdf\" class=\"colab-df-container\">\n",
              "    <div>\n",
              "<style scoped>\n",
              "    .dataframe tbody tr th:only-of-type {\n",
              "        vertical-align: middle;\n",
              "    }\n",
              "\n",
              "    .dataframe tbody tr th {\n",
              "        vertical-align: top;\n",
              "    }\n",
              "\n",
              "    .dataframe thead th {\n",
              "        text-align: right;\n",
              "    }\n",
              "</style>\n",
              "<table border=\"1\" class=\"dataframe\">\n",
              "  <thead>\n",
              "    <tr style=\"text-align: right;\">\n",
              "      <th></th>\n",
              "      <th>line_no</th>\n",
              "      <th>line</th>\n",
              "      <th>sentiment</th>\n",
              "    </tr>\n",
              "  </thead>\n",
              "  <tbody>\n",
              "    <tr>\n",
              "      <th>0</th>\n",
              "      <td>0</td>\n",
              "      <td>once again to zelda then wear the gold hat, if...</td>\n",
              "      <td>0.5572</td>\n",
              "    </tr>\n",
              "    <tr>\n",
              "      <th>1</th>\n",
              "      <td>1</td>\n",
              "      <td>\"whenever you feel like criticizing anyone,\" h...</td>\n",
              "      <td>0.7265</td>\n",
              "    </tr>\n",
              "    <tr>\n",
              "      <th>2</th>\n",
              "      <td>2</td>\n",
              "      <td>in consequence, i'm inclined to reserve all ju...</td>\n",
              "      <td>-0.2732</td>\n",
              "    </tr>\n",
              "    <tr>\n",
              "      <th>3</th>\n",
              "      <td>3</td>\n",
              "      <td>the abnormal mind is quick to detect and attac...</td>\n",
              "      <td>-0.2960</td>\n",
              "    </tr>\n",
              "    <tr>\n",
              "      <th>4</th>\n",
              "      <td>4</td>\n",
              "      <td>most of the confidences were unsought--frequen...</td>\n",
              "      <td>0.3797</td>\n",
              "    </tr>\n",
              "  </tbody>\n",
              "</table>\n",
              "</div>\n",
              "    <div class=\"colab-df-buttons\">\n",
              "\n",
              "  <div class=\"colab-df-container\">\n",
              "    <button class=\"colab-df-convert\" onclick=\"convertToInteractive('df-db8f1b40-88fd-4d0e-9296-39a956885fdf')\"\n",
              "            title=\"Convert this dataframe to an interactive table.\"\n",
              "            style=\"display:none;\">\n",
              "\n",
              "  <svg xmlns=\"http://www.w3.org/2000/svg\" height=\"24px\" viewBox=\"0 -960 960 960\">\n",
              "    <path d=\"M120-120v-720h720v720H120Zm60-500h600v-160H180v160Zm220 220h160v-160H400v160Zm0 220h160v-160H400v160ZM180-400h160v-160H180v160Zm440 0h160v-160H620v160ZM180-180h160v-160H180v160Zm440 0h160v-160H620v160Z\"/>\n",
              "  </svg>\n",
              "    </button>\n",
              "\n",
              "  <style>\n",
              "    .colab-df-container {\n",
              "      display:flex;\n",
              "      gap: 12px;\n",
              "    }\n",
              "\n",
              "    .colab-df-convert {\n",
              "      background-color: #E8F0FE;\n",
              "      border: none;\n",
              "      border-radius: 50%;\n",
              "      cursor: pointer;\n",
              "      display: none;\n",
              "      fill: #1967D2;\n",
              "      height: 32px;\n",
              "      padding: 0 0 0 0;\n",
              "      width: 32px;\n",
              "    }\n",
              "\n",
              "    .colab-df-convert:hover {\n",
              "      background-color: #E2EBFA;\n",
              "      box-shadow: 0px 1px 2px rgba(60, 64, 67, 0.3), 0px 1px 3px 1px rgba(60, 64, 67, 0.15);\n",
              "      fill: #174EA6;\n",
              "    }\n",
              "\n",
              "    .colab-df-buttons div {\n",
              "      margin-bottom: 4px;\n",
              "    }\n",
              "\n",
              "    [theme=dark] .colab-df-convert {\n",
              "      background-color: #3B4455;\n",
              "      fill: #D2E3FC;\n",
              "    }\n",
              "\n",
              "    [theme=dark] .colab-df-convert:hover {\n",
              "      background-color: #434B5C;\n",
              "      box-shadow: 0px 1px 3px 1px rgba(0, 0, 0, 0.15);\n",
              "      filter: drop-shadow(0px 1px 2px rgba(0, 0, 0, 0.3));\n",
              "      fill: #FFFFFF;\n",
              "    }\n",
              "  </style>\n",
              "\n",
              "    <script>\n",
              "      const buttonEl =\n",
              "        document.querySelector('#df-db8f1b40-88fd-4d0e-9296-39a956885fdf button.colab-df-convert');\n",
              "      buttonEl.style.display =\n",
              "        google.colab.kernel.accessAllowed ? 'block' : 'none';\n",
              "\n",
              "      async function convertToInteractive(key) {\n",
              "        const element = document.querySelector('#df-db8f1b40-88fd-4d0e-9296-39a956885fdf');\n",
              "        const dataTable =\n",
              "          await google.colab.kernel.invokeFunction('convertToInteractive',\n",
              "                                                    [key], {});\n",
              "        if (!dataTable) return;\n",
              "\n",
              "        const docLinkHtml = 'Like what you see? Visit the ' +\n",
              "          '<a target=\"_blank\" href=https://colab.research.google.com/notebooks/data_table.ipynb>data table notebook</a>'\n",
              "          + ' to learn more about interactive tables.';\n",
              "        element.innerHTML = '';\n",
              "        dataTable['output_type'] = 'display_data';\n",
              "        await google.colab.output.renderOutput(dataTable, element);\n",
              "        const docLink = document.createElement('div');\n",
              "        docLink.innerHTML = docLinkHtml;\n",
              "        element.appendChild(docLink);\n",
              "      }\n",
              "    </script>\n",
              "  </div>\n",
              "\n",
              "\n",
              "<div id=\"df-fab05ffd-0aa4-4200-8f9c-e8bd2fe34edd\">\n",
              "  <button class=\"colab-df-quickchart\" onclick=\"quickchart('df-fab05ffd-0aa4-4200-8f9c-e8bd2fe34edd')\"\n",
              "            title=\"Suggest charts\"\n",
              "            style=\"display:none;\">\n",
              "\n",
              "<svg xmlns=\"http://www.w3.org/2000/svg\" height=\"24px\"viewBox=\"0 0 24 24\"\n",
              "     width=\"24px\">\n",
              "    <g>\n",
              "        <path d=\"M19 3H5c-1.1 0-2 .9-2 2v14c0 1.1.9 2 2 2h14c1.1 0 2-.9 2-2V5c0-1.1-.9-2-2-2zM9 17H7v-7h2v7zm4 0h-2V7h2v10zm4 0h-2v-4h2v4z\"/>\n",
              "    </g>\n",
              "</svg>\n",
              "  </button>\n",
              "\n",
              "<style>\n",
              "  .colab-df-quickchart {\n",
              "      --bg-color: #E8F0FE;\n",
              "      --fill-color: #1967D2;\n",
              "      --hover-bg-color: #E2EBFA;\n",
              "      --hover-fill-color: #174EA6;\n",
              "      --disabled-fill-color: #AAA;\n",
              "      --disabled-bg-color: #DDD;\n",
              "  }\n",
              "\n",
              "  [theme=dark] .colab-df-quickchart {\n",
              "      --bg-color: #3B4455;\n",
              "      --fill-color: #D2E3FC;\n",
              "      --hover-bg-color: #434B5C;\n",
              "      --hover-fill-color: #FFFFFF;\n",
              "      --disabled-bg-color: #3B4455;\n",
              "      --disabled-fill-color: #666;\n",
              "  }\n",
              "\n",
              "  .colab-df-quickchart {\n",
              "    background-color: var(--bg-color);\n",
              "    border: none;\n",
              "    border-radius: 50%;\n",
              "    cursor: pointer;\n",
              "    display: none;\n",
              "    fill: var(--fill-color);\n",
              "    height: 32px;\n",
              "    padding: 0;\n",
              "    width: 32px;\n",
              "  }\n",
              "\n",
              "  .colab-df-quickchart:hover {\n",
              "    background-color: var(--hover-bg-color);\n",
              "    box-shadow: 0 1px 2px rgba(60, 64, 67, 0.3), 0 1px 3px 1px rgba(60, 64, 67, 0.15);\n",
              "    fill: var(--button-hover-fill-color);\n",
              "  }\n",
              "\n",
              "  .colab-df-quickchart-complete:disabled,\n",
              "  .colab-df-quickchart-complete:disabled:hover {\n",
              "    background-color: var(--disabled-bg-color);\n",
              "    fill: var(--disabled-fill-color);\n",
              "    box-shadow: none;\n",
              "  }\n",
              "\n",
              "  .colab-df-spinner {\n",
              "    border: 2px solid var(--fill-color);\n",
              "    border-color: transparent;\n",
              "    border-bottom-color: var(--fill-color);\n",
              "    animation:\n",
              "      spin 1s steps(1) infinite;\n",
              "  }\n",
              "\n",
              "  @keyframes spin {\n",
              "    0% {\n",
              "      border-color: transparent;\n",
              "      border-bottom-color: var(--fill-color);\n",
              "      border-left-color: var(--fill-color);\n",
              "    }\n",
              "    20% {\n",
              "      border-color: transparent;\n",
              "      border-left-color: var(--fill-color);\n",
              "      border-top-color: var(--fill-color);\n",
              "    }\n",
              "    30% {\n",
              "      border-color: transparent;\n",
              "      border-left-color: var(--fill-color);\n",
              "      border-top-color: var(--fill-color);\n",
              "      border-right-color: var(--fill-color);\n",
              "    }\n",
              "    40% {\n",
              "      border-color: transparent;\n",
              "      border-right-color: var(--fill-color);\n",
              "      border-top-color: var(--fill-color);\n",
              "    }\n",
              "    60% {\n",
              "      border-color: transparent;\n",
              "      border-right-color: var(--fill-color);\n",
              "    }\n",
              "    80% {\n",
              "      border-color: transparent;\n",
              "      border-right-color: var(--fill-color);\n",
              "      border-bottom-color: var(--fill-color);\n",
              "    }\n",
              "    90% {\n",
              "      border-color: transparent;\n",
              "      border-bottom-color: var(--fill-color);\n",
              "    }\n",
              "  }\n",
              "</style>\n",
              "\n",
              "  <script>\n",
              "    async function quickchart(key) {\n",
              "      const quickchartButtonEl =\n",
              "        document.querySelector('#' + key + ' button');\n",
              "      quickchartButtonEl.disabled = true;  // To prevent multiple clicks.\n",
              "      quickchartButtonEl.classList.add('colab-df-spinner');\n",
              "      try {\n",
              "        const charts = await google.colab.kernel.invokeFunction(\n",
              "            'suggestCharts', [key], {});\n",
              "      } catch (error) {\n",
              "        console.error('Error during call to suggestCharts:', error);\n",
              "      }\n",
              "      quickchartButtonEl.classList.remove('colab-df-spinner');\n",
              "      quickchartButtonEl.classList.add('colab-df-quickchart-complete');\n",
              "    }\n",
              "    (() => {\n",
              "      let quickchartButtonEl =\n",
              "        document.querySelector('#df-fab05ffd-0aa4-4200-8f9c-e8bd2fe34edd button');\n",
              "      quickchartButtonEl.style.display =\n",
              "        google.colab.kernel.accessAllowed ? 'block' : 'none';\n",
              "    })();\n",
              "  </script>\n",
              "</div>\n",
              "\n",
              "    </div>\n",
              "  </div>\n"
            ],
            "application/vnd.google.colaboratory.intrinsic+json": {
              "type": "dataframe",
              "variable_name": "vader_df",
              "summary": "{\n  \"name\": \"vader_df\",\n  \"rows\": 1357,\n  \"fields\": [\n    {\n      \"column\": \"line_no\",\n      \"properties\": {\n        \"dtype\": \"number\",\n        \"std\": 391,\n        \"min\": 0,\n        \"max\": 1356,\n        \"num_unique_values\": 1357,\n        \"samples\": [\n          51,\n          1098,\n          1310\n        ],\n        \"semantic_type\": \"\",\n        \"description\": \"\"\n      }\n    },\n    {\n      \"column\": \"line\",\n      \"properties\": {\n        \"dtype\": \"string\",\n        \"num_unique_values\": 1355,\n        \"samples\": [\n          \"there was a touch of paternal contempt in it, even toward people he liked--and there were men at new haven who had hated his guts.\",\n          \"well, she\\\"--his hand rose toward the blankets but stopped halfway and fell to his side--\\\"she ran out there an' the one comin' from n'york knock right into her, goin' thirty or forty miles an hour.\",\n          \"\\\"orderi di danilo,\\\" ran the circular legend, \\\"montenegro, nicolas rex.\\\" \\\"turn it.\\\" \\\"major jay gatsby,\\\" i read, \\\"for valour extraordinary.\\\" \\\"here's another thing i always carry. a souvenir of oxford days. it was taken in trinity quad--the man on my left is now the earl of doncaster.\\\" it was a photograph of half a dozen young men in blazers loafing in an archway through which were visible a host of spires. there was gatsby, looking a little, not much, younger--with a cricket bat in his hand.\"\n        ],\n        \"semantic_type\": \"\",\n        \"description\": \"\"\n      }\n    },\n    {\n      \"column\": \"sentiment\",\n      \"properties\": {\n        \"dtype\": \"number\",\n        \"std\": 0.44316733155369353,\n        \"min\": -0.9935,\n        \"max\": 0.9941,\n        \"num_unique_values\": 453,\n        \"samples\": [\n          -0.6551,\n          -0.8402,\n          -0.4199\n        ],\n        \"semantic_type\": \"\",\n        \"description\": \"\"\n      }\n    }\n  ]\n}"
            }
          },
          "metadata": {},
          "execution_count": 37
        }
      ]
    },
    {
      "cell_type": "code",
      "source": [
        "win_per = 0.1\n",
        "win_size = int(win_per * vader_df.shape[0])\n",
        "\n",
        "# Create a new figure\n",
        "plt.figure()\n",
        "\n",
        "_ = vader_df['sentiment'].rolling(win_size, center=True).mean().plot(grid=True)\n",
        "\n",
        "# Ensure the plot is rendered and saved correctly\n",
        "plt.title(\"VADER Sentiment Analysis Rolling Mean\")\n",
        "plt.xlabel(\"Index\")\n",
        "plt.ylabel(\"Sentiment Score\")\n",
        "\n",
        "# Save the plot to a PNG file\n",
        "save_plot2png('_vader_sentiment_plot.png', nodate=True)\n",
        "\n",
        "plt.show()\n",
        "\n",
        "# Close the plot to free up memory\n",
        "plt.close()"
      ],
      "metadata": {
        "colab": {
          "base_uri": "https://localhost:8080/",
          "height": 611
        },
        "id": "rqaYBYuxbm40",
        "outputId": "ce61381c-f00f-45ce-8dda-82e87930df81"
      },
      "execution_count": 38,
      "outputs": [
        {
          "output_type": "execute_result",
          "data": {
            "text/plain": [
              "<Figure size 640x480 with 0 Axes>"
            ]
          },
          "metadata": {},
          "execution_count": 38
        },
        {
          "output_type": "execute_result",
          "data": {
            "text/plain": [
              "Text(0.5, 1.0, 'VADER Sentiment Analysis Rolling Mean')"
            ]
          },
          "metadata": {},
          "execution_count": 38
        },
        {
          "output_type": "execute_result",
          "data": {
            "text/plain": [
              "Text(0.5, 0, 'Index')"
            ]
          },
          "metadata": {},
          "execution_count": 38
        },
        {
          "output_type": "execute_result",
          "data": {
            "text/plain": [
              "Text(0, 0.5, 'Sentiment Score')"
            ]
          },
          "metadata": {},
          "execution_count": 38
        },
        {
          "output_type": "stream",
          "name": "stdout",
          "text": [
            "STEP 1. Saving plot to temporary VM file: book_great-gatsby_plain_vader_sentiment_plot.png\n",
            "\n",
            "STEP 2. Downloading permanent copy of the PNG file: book_great-gatsby_plain_vader_sentiment_plot.png\n",
            "\n"
          ]
        },
        {
          "output_type": "display_data",
          "data": {
            "text/plain": [
              "<IPython.core.display.Javascript object>"
            ],
            "application/javascript": [
              "\n",
              "    async function download(id, filename, size) {\n",
              "      if (!google.colab.kernel.accessAllowed) {\n",
              "        return;\n",
              "      }\n",
              "      const div = document.createElement('div');\n",
              "      const label = document.createElement('label');\n",
              "      label.textContent = `Downloading \"${filename}\": `;\n",
              "      div.appendChild(label);\n",
              "      const progress = document.createElement('progress');\n",
              "      progress.max = size;\n",
              "      div.appendChild(progress);\n",
              "      document.body.appendChild(div);\n",
              "\n",
              "      const buffers = [];\n",
              "      let downloaded = 0;\n",
              "\n",
              "      const channel = await google.colab.kernel.comms.open(id);\n",
              "      // Send a message to notify the kernel that we're ready.\n",
              "      channel.send({})\n",
              "\n",
              "      for await (const message of channel.messages) {\n",
              "        // Send a message to notify the kernel that we're ready.\n",
              "        channel.send({})\n",
              "        if (message.buffers) {\n",
              "          for (const buffer of message.buffers) {\n",
              "            buffers.push(buffer);\n",
              "            downloaded += buffer.byteLength;\n",
              "            progress.value = downloaded;\n",
              "          }\n",
              "        }\n",
              "      }\n",
              "      const blob = new Blob(buffers, {type: 'application/binary'});\n",
              "      const a = document.createElement('a');\n",
              "      a.href = window.URL.createObjectURL(blob);\n",
              "      a.download = filename;\n",
              "      div.appendChild(a);\n",
              "      a.click();\n",
              "      div.remove();\n",
              "    }\n",
              "  "
            ]
          },
          "metadata": {}
        },
        {
          "output_type": "display_data",
          "data": {
            "text/plain": [
              "<IPython.core.display.Javascript object>"
            ],
            "application/javascript": [
              "download(\"download_3ee63510-d0f7-4a26-b888-18af5fa8c944\", \"book_great-gatsby_plain_vader_sentiment_plot.png\", 45348)"
            ]
          },
          "metadata": {}
        },
        {
          "output_type": "display_data",
          "data": {
            "text/plain": [
              "<Figure size 640x480 with 1 Axes>"
            ],
            "image/png": "[encoded data removed]"
          },
          "metadata": {}
        }
      ]
    },
    {
      "cell_type": "code",
      "source": [
        "# Save VADER Model Sentiment Time Series\n",
        "\n",
        "save_df2csv_and_download(vader_df, '_vader_sentiment.csv', nodate=True)"
      ],
      "metadata": {
        "id": "_hf9ZTDTUxU_",
        "colab": {
          "base_uri": "https://localhost:8080/",
          "height": 86
        },
        "outputId": "2ab2a4ed-f05d-40eb-ed35-f3c6ad765993"
      },
      "execution_count": 39,
      "outputs": [
        {
          "output_type": "stream",
          "name": "stdout",
          "text": [
            "STEP 1. Saving DataFrame to temporary VM file: book_great-gatsby_plain_vader_sentiment.csv\n",
            "\n",
            "STEP 2. Downloading permanent copy of csvfile: book_great-gatsby_plain_vader_sentiment.csv\n",
            "\n"
          ]
        },
        {
          "output_type": "display_data",
          "data": {
            "text/plain": [
              "<IPython.core.display.Javascript object>"
            ],
            "application/javascript": [
              "\n",
              "    async function download(id, filename, size) {\n",
              "      if (!google.colab.kernel.accessAllowed) {\n",
              "        return;\n",
              "      }\n",
              "      const div = document.createElement('div');\n",
              "      const label = document.createElement('label');\n",
              "      label.textContent = `Downloading \"${filename}\": `;\n",
              "      div.appendChild(label);\n",
              "      const progress = document.createElement('progress');\n",
              "      progress.max = size;\n",
              "      div.appendChild(progress);\n",
              "      document.body.appendChild(div);\n",
              "\n",
              "      const buffers = [];\n",
              "      let downloaded = 0;\n",
              "\n",
              "      const channel = await google.colab.kernel.comms.open(id);\n",
              "      // Send a message to notify the kernel that we're ready.\n",
              "      channel.send({})\n",
              "\n",
              "      for await (const message of channel.messages) {\n",
              "        // Send a message to notify the kernel that we're ready.\n",
              "        channel.send({})\n",
              "        if (message.buffers) {\n",
              "          for (const buffer of message.buffers) {\n",
              "            buffers.push(buffer);\n",
              "            downloaded += buffer.byteLength;\n",
              "            progress.value = downloaded;\n",
              "          }\n",
              "        }\n",
              "      }\n",
              "      const blob = new Blob(buffers, {type: 'application/binary'});\n",
              "      const a = document.createElement('a');\n",
              "      a.href = window.URL.createObjectURL(blob);\n",
              "      a.download = filename;\n",
              "      div.appendChild(a);\n",
              "      a.click();\n",
              "      div.remove();\n",
              "    }\n",
              "  "
            ]
          },
          "metadata": {}
        },
        {
          "output_type": "display_data",
          "data": {
            "text/plain": [
              "<IPython.core.display.Javascript object>"
            ],
            "application/javascript": [
              "download(\"download_e29b9f95-e62c-431d-9e03-0d5606fb3353\", \"book_great-gatsby_plain_vader_sentiment.csv\", 288085)"
            ]
          },
          "metadata": {}
        }
      ]
    },
    {
      "cell_type": "markdown",
      "metadata": {
        "id": "B_DEOrrfnQKT"
      },
      "source": [
        "### **TextBlob**"
      ]
    },
    {
      "cell_type": "code",
      "metadata": {
        "id": "4tMg_wp7nQAW"
      },
      "source": [
        "from textblob import TextBlob"
      ],
      "execution_count": 40,
      "outputs": []
    },
    {
      "cell_type": "code",
      "metadata": {
        "colab": {
          "base_uri": "https://localhost:8080/"
        },
        "id": "b8PStLF-nkug",
        "outputId": "f89cb261-14d0-4c30-89e6-c84491946ca5"
      },
      "source": [
        "testimonial = TextBlob(\"Textblob is amazingly simple to use. What great fun!\")\n",
        "print(testimonial.sentiment.polarity)"
      ],
      "execution_count": 41,
      "outputs": [
        {
          "output_type": "stream",
          "name": "stdout",
          "text": [
            "0.39166666666666666\n"
          ]
        }
      ]
    },
    {
      "cell_type": "code",
      "source": [
        "sentiment_textblob_ls = [TextBlob(asentence).sentiment.polarity for asentence in novel_clean_ls]\n",
        "# sentiment_df['textblob'] = sentiment_df['text_clean'].apply(lambda x : TextBlob(x).sentiment.polarity)"
      ],
      "metadata": {
        "id": "fjaHzz6g_9bL"
      },
      "execution_count": 42,
      "outputs": []
    },
    {
      "cell_type": "code",
      "source": [
        "# Create new TextBlob DataFrame to save results\n",
        "\n",
        "textblob_df = sentiment_df[['line_no', 'line']].copy(deep=True)\n",
        "textblob_df['sentiment'] = pd.Series(sentiment_textblob_ls)\n",
        "textblob_df.head()"
      ],
      "metadata": {
        "id": "DQ5Kr4oH_9YM",
        "colab": {
          "base_uri": "https://localhost:8080/",
          "height": 206
        },
        "outputId": "04abbb57-0a01-4868-fb59-c7634b6320f3"
      },
      "execution_count": 43,
      "outputs": [
        {
          "output_type": "execute_result",
          "data": {
            "text/plain": [
              "   line_no                                               line  sentiment\n",
              "0        0  once again to zelda then wear the gold hat, if...   0.050000\n",
              "1        1  \"whenever you feel like criticizing anyone,\" h...   0.500000\n",
              "2        2  in consequence, i'm inclined to reserve all ju...   0.085000\n",
              "3        3  the abnormal mind is quick to detect and attac...   0.016667\n",
              "4        4  most of the confidences were unsought--frequen...  -0.050744"
            ],
            "text/html": [
              "\n",
              "  <div id=\"df-b2ab6866-3a4b-455f-8fe3-7e1ca0da585b\" class=\"colab-df-container\">\n",
              "    <div>\n",
              "<style scoped>\n",
              "    .dataframe tbody tr th:only-of-type {\n",
              "        vertical-align: middle;\n",
              "    }\n",
              "\n",
              "    .dataframe tbody tr th {\n",
              "        vertical-align: top;\n",
              "    }\n",
              "\n",
              "    .dataframe thead th {\n",
              "        text-align: right;\n",
              "    }\n",
              "</style>\n",
              "<table border=\"1\" class=\"dataframe\">\n",
              "  <thead>\n",
              "    <tr style=\"text-align: right;\">\n",
              "      <th></th>\n",
              "      <th>line_no</th>\n",
              "      <th>line</th>\n",
              "      <th>sentiment</th>\n",
              "    </tr>\n",
              "  </thead>\n",
              "  <tbody>\n",
              "    <tr>\n",
              "      <th>0</th>\n",
              "      <td>0</td>\n",
              "      <td>once again to zelda then wear the gold hat, if...</td>\n",
              "      <td>0.050000</td>\n",
              "    </tr>\n",
              "    <tr>\n",
              "      <th>1</th>\n",
              "      <td>1</td>\n",
              "      <td>\"whenever you feel like criticizing anyone,\" h...</td>\n",
              "      <td>0.500000</td>\n",
              "    </tr>\n",
              "    <tr>\n",
              "      <th>2</th>\n",
              "      <td>2</td>\n",
              "      <td>in consequence, i'm inclined to reserve all ju...</td>\n",
              "      <td>0.085000</td>\n",
              "    </tr>\n",
              "    <tr>\n",
              "      <th>3</th>\n",
              "      <td>3</td>\n",
              "      <td>the abnormal mind is quick to detect and attac...</td>\n",
              "      <td>0.016667</td>\n",
              "    </tr>\n",
              "    <tr>\n",
              "      <th>4</th>\n",
              "      <td>4</td>\n",
              "      <td>most of the confidences were unsought--frequen...</td>\n",
              "      <td>-0.050744</td>\n",
              "    </tr>\n",
              "  </tbody>\n",
              "</table>\n",
              "</div>\n",
              "    <div class=\"colab-df-buttons\">\n",
              "\n",
              "  <div class=\"colab-df-container\">\n",
              "    <button class=\"colab-df-convert\" onclick=\"convertToInteractive('df-b2ab6866-3a4b-455f-8fe3-7e1ca0da585b')\"\n",
              "            title=\"Convert this dataframe to an interactive table.\"\n",
              "            style=\"display:none;\">\n",
              "\n",
              "  <svg xmlns=\"http://www.w3.org/2000/svg\" height=\"24px\" viewBox=\"0 -960 960 960\">\n",
              "    <path d=\"M120-120v-720h720v720H120Zm60-500h600v-160H180v160Zm220 220h160v-160H400v160Zm0 220h160v-160H400v160ZM180-400h160v-160H180v160Zm440 0h160v-160H620v160ZM180-180h160v-160H180v160Zm440 0h160v-160H620v160Z\"/>\n",
              "  </svg>\n",
              "    </button>\n",
              "\n",
              "  <style>\n",
              "    .colab-df-container {\n",
              "      display:flex;\n",
              "      gap: 12px;\n",
              "    }\n",
              "\n",
              "    .colab-df-convert {\n",
              "      background-color: #E8F0FE;\n",
              "      border: none;\n",
              "      border-radius: 50%;\n",
              "      cursor: pointer;\n",
              "      display: none;\n",
              "      fill: #1967D2;\n",
              "      height: 32px;\n",
              "      padding: 0 0 0 0;\n",
              "      width: 32px;\n",
              "    }\n",
              "\n",
              "    .colab-df-convert:hover {\n",
              "      background-color: #E2EBFA;\n",
              "      box-shadow: 0px 1px 2px rgba(60, 64, 67, 0.3), 0px 1px 3px 1px rgba(60, 64, 67, 0.15);\n",
              "      fill: #174EA6;\n",
              "    }\n",
              "\n",
              "    .colab-df-buttons div {\n",
              "      margin-bottom: 4px;\n",
              "    }\n",
              "\n",
              "    [theme=dark] .colab-df-convert {\n",
              "      background-color: #3B4455;\n",
              "      fill: #D2E3FC;\n",
              "    }\n",
              "\n",
              "    [theme=dark] .colab-df-convert:hover {\n",
              "      background-color: #434B5C;\n",
              "      box-shadow: 0px 1px 3px 1px rgba(0, 0, 0, 0.15);\n",
              "      filter: drop-shadow(0px 1px 2px rgba(0, 0, 0, 0.3));\n",
              "      fill: #FFFFFF;\n",
              "    }\n",
              "  </style>\n",
              "\n",
              "    <script>\n",
              "      const buttonEl =\n",
              "        document.querySelector('#df-b2ab6866-3a4b-455f-8fe3-7e1ca0da585b button.colab-df-convert');\n",
              "      buttonEl.style.display =\n",
              "        google.colab.kernel.accessAllowed ? 'block' : 'none';\n",
              "\n",
              "      async function convertToInteractive(key) {\n",
              "        const element = document.querySelector('#df-b2ab6866-3a4b-455f-8fe3-7e1ca0da585b');\n",
              "        const dataTable =\n",
              "          await google.colab.kernel.invokeFunction('convertToInteractive',\n",
              "                                                    [key], {});\n",
              "        if (!dataTable) return;\n",
              "\n",
              "        const docLinkHtml = 'Like what you see? Visit the ' +\n",
              "          '<a target=\"_blank\" href=https://colab.research.google.com/notebooks/data_table.ipynb>data table notebook</a>'\n",
              "          + ' to learn more about interactive tables.';\n",
              "        element.innerHTML = '';\n",
              "        dataTable['output_type'] = 'display_data';\n",
              "        await google.colab.output.renderOutput(dataTable, element);\n",
              "        const docLink = document.createElement('div');\n",
              "        docLink.innerHTML = docLinkHtml;\n",
              "        element.appendChild(docLink);\n",
              "      }\n",
              "    </script>\n",
              "  </div>\n",
              "\n",
              "\n",
              "<div id=\"df-acaca734-6c3d-4869-b077-70e60539a283\">\n",
              "  <button class=\"colab-df-quickchart\" onclick=\"quickchart('df-acaca734-6c3d-4869-b077-70e60539a283')\"\n",
              "            title=\"Suggest charts\"\n",
              "            style=\"display:none;\">\n",
              "\n",
              "<svg xmlns=\"http://www.w3.org/2000/svg\" height=\"24px\"viewBox=\"0 0 24 24\"\n",
              "     width=\"24px\">\n",
              "    <g>\n",
              "        <path d=\"M19 3H5c-1.1 0-2 .9-2 2v14c0 1.1.9 2 2 2h14c1.1 0 2-.9 2-2V5c0-1.1-.9-2-2-2zM9 17H7v-7h2v7zm4 0h-2V7h2v10zm4 0h-2v-4h2v4z\"/>\n",
              "    </g>\n",
              "</svg>\n",
              "  </button>\n",
              "\n",
              "<style>\n",
              "  .colab-df-quickchart {\n",
              "      --bg-color: #E8F0FE;\n",
              "      --fill-color: #1967D2;\n",
              "      --hover-bg-color: #E2EBFA;\n",
              "      --hover-fill-color: #174EA6;\n",
              "      --disabled-fill-color: #AAA;\n",
              "      --disabled-bg-color: #DDD;\n",
              "  }\n",
              "\n",
              "  [theme=dark] .colab-df-quickchart {\n",
              "      --bg-color: #3B4455;\n",
              "      --fill-color: #D2E3FC;\n",
              "      --hover-bg-color: #434B5C;\n",
              "      --hover-fill-color: #FFFFFF;\n",
              "      --disabled-bg-color: #3B4455;\n",
              "      --disabled-fill-color: #666;\n",
              "  }\n",
              "\n",
              "  .colab-df-quickchart {\n",
              "    background-color: var(--bg-color);\n",
              "    border: none;\n",
              "    border-radius: 50%;\n",
              "    cursor: pointer;\n",
              "    display: none;\n",
              "    fill: var(--fill-color);\n",
              "    height: 32px;\n",
              "    padding: 0;\n",
              "    width: 32px;\n",
              "  }\n",
              "\n",
              "  .colab-df-quickchart:hover {\n",
              "    background-color: var(--hover-bg-color);\n",
              "    box-shadow: 0 1px 2px rgba(60, 64, 67, 0.3), 0 1px 3px 1px rgba(60, 64, 67, 0.15);\n",
              "    fill: var(--button-hover-fill-color);\n",
              "  }\n",
              "\n",
              "  .colab-df-quickchart-complete:disabled,\n",
              "  .colab-df-quickchart-complete:disabled:hover {\n",
              "    background-color: var(--disabled-bg-color);\n",
              "    fill: var(--disabled-fill-color);\n",
              "    box-shadow: none;\n",
              "  }\n",
              "\n",
              "  .colab-df-spinner {\n",
              "    border: 2px solid var(--fill-color);\n",
              "    border-color: transparent;\n",
              "    border-bottom-color: var(--fill-color);\n",
              "    animation:\n",
              "      spin 1s steps(1) infinite;\n",
              "  }\n",
              "\n",
              "  @keyframes spin {\n",
              "    0% {\n",
              "      border-color: transparent;\n",
              "      border-bottom-color: var(--fill-color);\n",
              "      border-left-color: var(--fill-color);\n",
              "    }\n",
              "    20% {\n",
              "      border-color: transparent;\n",
              "      border-left-color: var(--fill-color);\n",
              "      border-top-color: var(--fill-color);\n",
              "    }\n",
              "    30% {\n",
              "      border-color: transparent;\n",
              "      border-left-color: var(--fill-color);\n",
              "      border-top-color: var(--fill-color);\n",
              "      border-right-color: var(--fill-color);\n",
              "    }\n",
              "    40% {\n",
              "      border-color: transparent;\n",
              "      border-right-color: var(--fill-color);\n",
              "      border-top-color: var(--fill-color);\n",
              "    }\n",
              "    60% {\n",
              "      border-color: transparent;\n",
              "      border-right-color: var(--fill-color);\n",
              "    }\n",
              "    80% {\n",
              "      border-color: transparent;\n",
              "      border-right-color: var(--fill-color);\n",
              "      border-bottom-color: var(--fill-color);\n",
              "    }\n",
              "    90% {\n",
              "      border-color: transparent;\n",
              "      border-bottom-color: var(--fill-color);\n",
              "    }\n",
              "  }\n",
              "</style>\n",
              "\n",
              "  <script>\n",
              "    async function quickchart(key) {\n",
              "      const quickchartButtonEl =\n",
              "        document.querySelector('#' + key + ' button');\n",
              "      quickchartButtonEl.disabled = true;  // To prevent multiple clicks.\n",
              "      quickchartButtonEl.classList.add('colab-df-spinner');\n",
              "      try {\n",
              "        const charts = await google.colab.kernel.invokeFunction(\n",
              "            'suggestCharts', [key], {});\n",
              "      } catch (error) {\n",
              "        console.error('Error during call to suggestCharts:', error);\n",
              "      }\n",
              "      quickchartButtonEl.classList.remove('colab-df-spinner');\n",
              "      quickchartButtonEl.classList.add('colab-df-quickchart-complete');\n",
              "    }\n",
              "    (() => {\n",
              "      let quickchartButtonEl =\n",
              "        document.querySelector('#df-acaca734-6c3d-4869-b077-70e60539a283 button');\n",
              "      quickchartButtonEl.style.display =\n",
              "        google.colab.kernel.accessAllowed ? 'block' : 'none';\n",
              "    })();\n",
              "  </script>\n",
              "</div>\n",
              "\n",
              "    </div>\n",
              "  </div>\n"
            ],
            "application/vnd.google.colaboratory.intrinsic+json": {
              "type": "dataframe",
              "variable_name": "textblob_df",
              "summary": "{\n  \"name\": \"textblob_df\",\n  \"rows\": 1357,\n  \"fields\": [\n    {\n      \"column\": \"line_no\",\n      \"properties\": {\n        \"dtype\": \"number\",\n        \"std\": 391,\n        \"min\": 0,\n        \"max\": 1356,\n        \"num_unique_values\": 1357,\n        \"samples\": [\n          51,\n          1098,\n          1310\n        ],\n        \"semantic_type\": \"\",\n        \"description\": \"\"\n      }\n    },\n    {\n      \"column\": \"line\",\n      \"properties\": {\n        \"dtype\": \"string\",\n        \"num_unique_values\": 1355,\n        \"samples\": [\n          \"there was a touch of paternal contempt in it, even toward people he liked--and there were men at new haven who had hated his guts.\",\n          \"well, she\\\"--his hand rose toward the blankets but stopped halfway and fell to his side--\\\"she ran out there an' the one comin' from n'york knock right into her, goin' thirty or forty miles an hour.\",\n          \"\\\"orderi di danilo,\\\" ran the circular legend, \\\"montenegro, nicolas rex.\\\" \\\"turn it.\\\" \\\"major jay gatsby,\\\" i read, \\\"for valour extraordinary.\\\" \\\"here's another thing i always carry. a souvenir of oxford days. it was taken in trinity quad--the man on my left is now the earl of doncaster.\\\" it was a photograph of half a dozen young men in blazers loafing in an archway through which were visible a host of spires. there was gatsby, looking a little, not much, younger--with a cricket bat in his hand.\"\n        ],\n        \"semantic_type\": \"\",\n        \"description\": \"\"\n      }\n    },\n    {\n      \"column\": \"sentiment\",\n      \"properties\": {\n        \"dtype\": \"number\",\n        \"std\": 0.21981674173548948,\n        \"min\": -0.8,\n        \"max\": 1.0,\n        \"num_unique_values\": 517,\n        \"samples\": [\n          1.0,\n          -0.018055555555555554,\n          0.06300505050505051\n        ],\n        \"semantic_type\": \"\",\n        \"description\": \"\"\n      }\n    }\n  ]\n}"
            }
          },
          "metadata": {},
          "execution_count": 43
        }
      ]
    },
    {
      "cell_type": "code",
      "source": [
        "win_per = 0.1\n",
        "win_size = int(win_per * textblob_df.shape[0])\n",
        "\n",
        "# Create a new figure\n",
        "plt.figure()\n",
        "\n",
        "_ = textblob_df['sentiment'].rolling(win_size, center=True).mean().plot(grid=True)\n",
        "\n",
        "# Ensure the plot is rendered and saved correctly\n",
        "plt.title(\"TextBlob Sentiment Analysis Rolling Mean\")\n",
        "plt.xlabel(\"Index\")\n",
        "plt.ylabel(\"Sentiment Score\")\n",
        "\n",
        "# Save the plot to a PNG file\n",
        "save_plot2png('_textblob_sentiment_plot.png', nodate=True)\n",
        "\n",
        "plt.show()\n",
        "\n",
        "# Close the plot to free up memory\n",
        "plt.close()"
      ],
      "metadata": {
        "colab": {
          "base_uri": "https://localhost:8080/",
          "height": 611
        },
        "id": "pIUr7nfJcNYE",
        "outputId": "54ab4a42-232e-4630-9e1f-cf8783790d2f"
      },
      "execution_count": 44,
      "outputs": [
        {
          "output_type": "execute_result",
          "data": {
            "text/plain": [
              "<Figure size 640x480 with 0 Axes>"
            ]
          },
          "metadata": {},
          "execution_count": 44
        },
        {
          "output_type": "execute_result",
          "data": {
            "text/plain": [
              "Text(0.5, 1.0, 'TextBlob Sentiment Analysis Rolling Mean')"
            ]
          },
          "metadata": {},
          "execution_count": 44
        },
        {
          "output_type": "execute_result",
          "data": {
            "text/plain": [
              "Text(0.5, 0, 'Index')"
            ]
          },
          "metadata": {},
          "execution_count": 44
        },
        {
          "output_type": "execute_result",
          "data": {
            "text/plain": [
              "Text(0, 0.5, 'Sentiment Score')"
            ]
          },
          "metadata": {},
          "execution_count": 44
        },
        {
          "output_type": "stream",
          "name": "stdout",
          "text": [
            "STEP 1. Saving plot to temporary VM file: book_great-gatsby_plain_textblob_sentiment_plot.png\n",
            "\n",
            "STEP 2. Downloading permanent copy of the PNG file: book_great-gatsby_plain_textblob_sentiment_plot.png\n",
            "\n"
          ]
        },
        {
          "output_type": "display_data",
          "data": {
            "text/plain": [
              "<IPython.core.display.Javascript object>"
            ],
            "application/javascript": [
              "\n",
              "    async function download(id, filename, size) {\n",
              "      if (!google.colab.kernel.accessAllowed) {\n",
              "        return;\n",
              "      }\n",
              "      const div = document.createElement('div');\n",
              "      const label = document.createElement('label');\n",
              "      label.textContent = `Downloading \"${filename}\": `;\n",
              "      div.appendChild(label);\n",
              "      const progress = document.createElement('progress');\n",
              "      progress.max = size;\n",
              "      div.appendChild(progress);\n",
              "      document.body.appendChild(div);\n",
              "\n",
              "      const buffers = [];\n",
              "      let downloaded = 0;\n",
              "\n",
              "      const channel = await google.colab.kernel.comms.open(id);\n",
              "      // Send a message to notify the kernel that we're ready.\n",
              "      channel.send({})\n",
              "\n",
              "      for await (const message of channel.messages) {\n",
              "        // Send a message to notify the kernel that we're ready.\n",
              "        channel.send({})\n",
              "        if (message.buffers) {\n",
              "          for (const buffer of message.buffers) {\n",
              "            buffers.push(buffer);\n",
              "            downloaded += buffer.byteLength;\n",
              "            progress.value = downloaded;\n",
              "          }\n",
              "        }\n",
              "      }\n",
              "      const blob = new Blob(buffers, {type: 'application/binary'});\n",
              "      const a = document.createElement('a');\n",
              "      a.href = window.URL.createObjectURL(blob);\n",
              "      a.download = filename;\n",
              "      div.appendChild(a);\n",
              "      a.click();\n",
              "      div.remove();\n",
              "    }\n",
              "  "
            ]
          },
          "metadata": {}
        },
        {
          "output_type": "display_data",
          "data": {
            "text/plain": [
              "<IPython.core.display.Javascript object>"
            ],
            "application/javascript": [
              "download(\"download_0ffb1141-3b32-4613-8afc-529fd9d6924f\", \"book_great-gatsby_plain_textblob_sentiment_plot.png\", 46485)"
            ]
          },
          "metadata": {}
        },
        {
          "output_type": "display_data",
          "data": {
            "text/plain": [
              "<Figure size 640x480 with 1 Axes>"
            ],
            "image/png": "[encoded data removed]"
          },
          "metadata": {}
        }
      ]
    },
    {
      "cell_type": "code",
      "source": [
        "# Save TextBlob Model Sentiment Time Series\n",
        "\n",
        "save_df2csv_and_download(textblob_df, '_textblob_sentiment.csv', nodate=True)"
      ],
      "metadata": {
        "id": "y4zehm57AQiq",
        "colab": {
          "base_uri": "https://localhost:8080/",
          "height": 176
        },
        "outputId": "24dba59f-0c0f-4311-ca72-6a40a4726de8"
      },
      "execution_count": 45,
      "outputs": [
        {
          "output_type": "error",
          "ename": "NameError",
          "evalue": "name 'sentiment_textblob_df' is not defined",
          "traceback": [
            "\u001b[0;31m---------------------------------------------------------------------------\u001b[0m",
            "\u001b[0;31mNameError\u001b[0m                                 Traceback (most recent call last)",
            "\u001b[0;32m<ipython-input-45-e62e1d86a397>\u001b[0m in \u001b[0;36m<cell line: 3>\u001b[0;34m()\u001b[0m\n\u001b[1;32m      1\u001b[0m \u001b[0;31m# Save TextBlob Model Sentiment Time Series\u001b[0m\u001b[0;34m\u001b[0m\u001b[0;34m\u001b[0m\u001b[0m\n\u001b[1;32m      2\u001b[0m \u001b[0;34m\u001b[0m\u001b[0m\n\u001b[0;32m----> 3\u001b[0;31m \u001b[0msave_df2csv_and_download\u001b[0m\u001b[0;34m(\u001b[0m\u001b[0msentiment_textblob_df\u001b[0m\u001b[0;34m,\u001b[0m \u001b[0;34m'_textblob_sentiment.csv'\u001b[0m\u001b[0;34m,\u001b[0m \u001b[0mnodate\u001b[0m\u001b[0;34m=\u001b[0m\u001b[0;32mTrue\u001b[0m\u001b[0;34m)\u001b[0m\u001b[0;34m\u001b[0m\u001b[0;34m\u001b[0m\u001b[0m\n\u001b[0m",
            "\u001b[0;31mNameError\u001b[0m: name 'sentiment_textblob_df' is not defined"
          ]
        }
      ]
    },
    {
      "cell_type": "markdown",
      "source": [
        "### SyuzhetR (4)\n",
        "\n",
        "* SyzuhetR: https://cran.r-project.org/web/packages/readtext/vignettes/readtext_vignette.html\n",
        "* http://rstudio-pubs-static.s3.amazonaws.com/283881_efbb666d653a4eb3b0c5e5672e3446c6.html\n",
        "\n",
        "* SentimentR: https://github.com/trinker/sentimentr\n",
        "\n",
        "* JupyterLab w/Py OR R: https://www.youtube.com/watch?v=Q35WIqZoUF4"
      ],
      "metadata": {
        "id": "LwstY7VcCixU"
      }
    },
    {
      "cell_type": "code",
      "source": [
        "%load_ext rpy2.ipython"
      ],
      "metadata": {
        "id": "yCEwjcx3wNkd"
      },
      "execution_count": null,
      "outputs": []
    },
    {
      "cell_type": "code",
      "source": [
        "# Load Python libraries to exchange data with R Program Space and read R Datafiles\n",
        "\n",
        "import rpy2.robjects as robjects\n",
        "from rpy2.robjects.packages import importr"
      ],
      "metadata": {
        "id": "5nny0fWmWhBA"
      },
      "execution_count": null,
      "outputs": []
    },
    {
      "cell_type": "code",
      "source": [
        "%R getwd()"
      ],
      "metadata": {
        "id": "UTVTOkZmwNdc"
      },
      "execution_count": null,
      "outputs": []
    },
    {
      "cell_type": "code",
      "source": [
        "%R list.files()"
      ],
      "metadata": {
        "id": "IaTCr6yJVhRp"
      },
      "execution_count": null,
      "outputs": []
    },
    {
      "cell_type": "code",
      "source": [
        "%%time\n",
        "%%capture\n",
        "%%R\n",
        "\n",
        "# Install Syuzhet.R, Sentiment.R and Utility Libraries\n",
        "\n",
        "# NOTE: 56s 17:30EST on 27Oct2022 - Colab Pro\n",
        "\n",
        "install.packages(c('syuzhet', 'sentimentr', 'tidyverse', 'lexicon'))\n",
        "\n",
        "library(syuzhet)\n",
        "library(sentimentr)\n",
        "library(tidyverse)\n",
        "library(lexicon)"
      ],
      "metadata": {
        "id": "azOwcqnQV4ee"
      },
      "execution_count": null,
      "outputs": []
    },
    {
      "cell_type": "code",
      "source": [
        "%R sessionInfo()"
      ],
      "metadata": {
        "id": "3tp5BKpeWM6S"
      },
      "execution_count": null,
      "outputs": []
    },
    {
      "cell_type": "code",
      "source": [
        "sentiment_df.head()"
      ],
      "metadata": {
        "id": "2fSFFsNcWu6b"
      },
      "execution_count": null,
      "outputs": []
    },
    {
      "cell_type": "code",
      "source": [
        "%%time\n",
        "\n",
        "# Compute Sentiments from all 4 Syuzhet Models\n",
        "\n",
        "# NOTE:  3m57s 17:40EST on 27Oct2022 Colab Pro (The Idiot)\n",
        "#        3m55s 18:02EST on 27Oct2022 Colab Pro (The Idiot)\n",
        "#        4m10s 23:14EST on 27Oct2022 Colab Pro (The Idiot)\n",
        "\n",
        "syuzhet = importr('syuzhet')\n",
        "\n",
        "# Create new SyuzhetR DataFrame to save results\n",
        "syuzhet_df = sentiment_df[['line_no', 'line']].copy(deep=True)\n",
        "\n",
        "print('[1/4] Processing syuzhetr_syuzhet')\n",
        "syuzhet_df['syuzhetr_syuzhet'] = syuzhet.get_sentiment(syuzhet_df['line'].to_list(), method='syuzhet')\n",
        "print('[2/4] Processing syuzhetr_bing')\n",
        "syuzhet_df['syuzhetr_bing'] = syuzhet.get_sentiment(syuzhet_df['line'].to_list(), method='bing')\n",
        "print('[3/4] Processing syuzhetr_afinn')\n",
        "syuzhet_df['syuzhetr_afinn'] = syuzhet.get_sentiment(syuzhet_df['line'].to_list(), method='afinn')\n",
        "print('[4/4] Processing syuzhetr_nrc')\n",
        "syuzhet_df['syuzhetr_nrc'] = syuzhet.get_sentiment(syuzhet_df['line'].to_list(), method='nrc')\n",
        "\n",
        "syuzhet_df.head()"
      ],
      "metadata": {
        "id": "K8c99c-RWaDH"
      },
      "execution_count": null,
      "outputs": []
    },
    {
      "cell_type": "code",
      "source": [
        "# Generate the plot properly\n",
        "win_per = 0.1\n",
        "win_size = int(win_per * syuzhet_df.shape[0])\n",
        "\n",
        "# Create a new figure\n",
        "plt.figure()\n",
        "\n",
        "# Plot the rolling mean sentiment\n",
        "syuzhet_model_ls = ['syuzhetr_syuzhet', 'syuzhetr_bing', 'syuzhetr_afinn', 'syuzhetr_nrc']\n",
        "_ = syuzhet_df[syuzhet_model_ls].rolling(win_size, center=True).mean().plot(figsize=(12,6), grid=True)\n",
        "\n",
        "# Ensure the plot is rendered and saved correctly\n",
        "plt.title(\"Syuzhet Sentiment Analysis Rolling Mean\")\n",
        "plt.xlabel(\"Index\")\n",
        "plt.ylabel(\"Sentiment Score\")\n",
        "\n",
        "# Save the plot to a PNG file\n",
        "save_plot2png('_syzhet_sentiment_plot.png', nodate=True)\n",
        "\n",
        "plt.show()\n",
        "\n",
        "# Close the plot to free up memory\n",
        "plt.close()\n"
      ],
      "metadata": {
        "id": "mhO4Ir_tCCWk"
      },
      "execution_count": null,
      "outputs": []
    },
    {
      "cell_type": "code",
      "source": [
        "# Save SyuzhetR Models' Sentiment Time Series\n",
        "\n",
        "save_df2csv_and_download(syuzhet_df, '_syuzhetr_sentiment.csv', nodate=True)"
      ],
      "metadata": {
        "id": "XE_CyXh8WZ_o"
      },
      "execution_count": null,
      "outputs": []
    },
    {
      "cell_type": "markdown",
      "source": [
        "### SentimentR (8)\n",
        "\n",
        "Call function in external get_sentimentr.R from within Python Loop\n",
        "\n",
        "* https://medium.com/analytics-vidhya/calling-r-from-python-magic-of-rpy2-d8cbbf991571\n",
        "\n",
        "* https://rpy2.github.io/doc/v3.0.x/html/generated_rst/pandas.html"
      ],
      "metadata": {
        "id": "tURoX7JiYSMY"
      }
    },
    {
      "cell_type": "code",
      "source": [
        "%%file get_sentimentr.R\n",
        "\n",
        "library(sentimentr)\n",
        "library(lexicon)\n",
        "\n",
        "get_sentimentr_values <- function(s_v) {\n",
        "\n",
        "  print('[1/8] Processing sentimentr_jockersrinker')\n",
        "  sentimentr_jockersrinker <- sentiment(s_v, polarity_dt=lexicon::hash_sentiment_jockers_rinker,\n",
        "                                        hypen=\"\", amplifier.weight=0.8, n.before=5, n.after=2,\n",
        "                                        adversative.weight=0.25, neutral.nonverb.like = FALSE, missing_value = 0)\n",
        "\n",
        "  print('[2/8] Processing sentimentr_jockers')\n",
        "  sentimentr_jockers <- sentiment(s_v, polarity_dt=lexicon::hash_sentiment_jockers,\n",
        "                                        hypen=\"\", amplifier.weight=0.8, n.before=5, n.after=2,\n",
        "                                        adversative.weight=0.25, neutral.nonverb.like = FALSE, missing_value = 0)\n",
        "\n",
        "  print('[3/8] Processing sentimentr_huliu')\n",
        "  sentimentr_huliu <- sentiment(s_v, polarity_dt=lexicon::hash_sentiment_huliu,\n",
        "                                        hypen=\"\", amplifier.weight=0.8, n.before=5, n.after=2,\n",
        "                                        adversative.weight=0.25, neutral.nonverb.like = FALSE, missing_value = 0)\n",
        "\n",
        "  print('[4/8] Processing sentimentr_nrc')\n",
        "  sentimentr_nrc <- sentiment(s_v, polarity_dt=lexicon::hash_sentiment_nrc,\n",
        "                                        hypen=\"\", amplifier.weight=0.8, n.before=5, n.after=2,\n",
        "                                        adversative.weight=0.25, neutral.nonverb.like = FALSE, missing_value = 0)\n",
        "\n",
        "  print('[5/8] Processing sentimentr_senticnet')\n",
        "  sentimentr_senticnet <- sentiment(s_v, polarity_dt=lexicon::hash_sentiment_senticnet,\n",
        "                                        hypen=\"\", amplifier.weight=0.8, n.before=5, n.after=2,\n",
        "                                        adversative.weight=0.25, neutral.nonverb.like = FALSE, missing_value = 0)\n",
        "\n",
        "  print('[6/8] Processing sentimentr_sentiword')\n",
        "  sentimentr_sentiword <- sentiment(s_v, polarity_dt=lexicon::hash_sentiment_sentiword,\n",
        "                                        hypen=\"\", amplifier.weight=0.8, n.before=5, n.after=2,\n",
        "                                        adversative.weight=0.25, neutral.nonverb.like = FALSE, missing_value = 0)\n",
        "\n",
        "  print('[7/8] Processing sentimentr_loughran_mcdonald')\n",
        "  sentimentr_loughran_mcdonald <- sentiment(s_v, polarity_dt=lexicon::hash_sentiment_loughran_mcdonald,\n",
        "                                        hypen=\"\", amplifier.weight=0.8, n.before=5, n.after=2,\n",
        "                                        adversative.weight=0.25, neutral.nonverb.like = FALSE, missing_value = 0)\n",
        "\n",
        "  print('[8/8] Processing sentimentr_socal_google')\n",
        "  sentimentr_socal_google <- sentiment(s_v, polarity_dt=lexicon::hash_sentiment_socal_google,\n",
        "                                        hypen=\"\", amplifier.weight=0.8, n.before=5, n.after=2,\n",
        "                                        adversative.weight=0.25, neutral.nonverb.like = FALSE, missing_value = 0)\n",
        "\n",
        "  anovel_sentimentr_df <- data.frame(# 'text_clean' = s_v,\n",
        "                                'sentimentr_jockersrinker' = sentimentr_jockersrinker$sentiment,\n",
        "                                'sentimentr_jockers' = sentimentr_jockers$sentiment,\n",
        "                                'sentimentr_huliu' = sentimentr_huliu$sentiment,\n",
        "                                'sentimentr_nrc' = sentimentr_nrc$sentiment,\n",
        "                                'sentimentr_senticnet' = sentimentr_senticnet$sentiment,\n",
        "                                'sentimentr_sentiword' = sentimentr_sentiword$sentiment,\n",
        "                                'sentimentr_loughran_mcdonald' = sentimentr_loughran_mcdonald$sentiment,\n",
        "                                'sentimentr_socal_google' = sentimentr_socal_google$sentiment\n",
        "                                )\n",
        "  return(anovel_sentimentr_df)\n",
        "\n",
        "}"
      ],
      "metadata": {
        "id": "EB8hSEe2YR_q"
      },
      "execution_count": null,
      "outputs": []
    },
    {
      "cell_type": "code",
      "source": [
        "# Verify the *.R file above was written correctly\n",
        "\n",
        "# !cat get_sentimentr.R"
      ],
      "metadata": {
        "id": "2Hp4J1HVYgv2"
      },
      "execution_count": null,
      "outputs": []
    },
    {
      "cell_type": "code",
      "source": [
        "# Setup python robject with external library::function()\n",
        "# https://rpy2.github.io/doc/v3.0.x/html/generated_rst/pandas.html\n",
        "\n",
        "# import rpy2.robjects as robjects\n",
        "\n",
        "# Defining the R script and loading the instance in Python\n",
        "# from rpy2.robjects import pandas2ri\n",
        "r = robjects.r\n",
        "\n",
        "# Loading the function we have defined in R.\n",
        "r['source']('get_sentimentr.R')\n",
        "\n",
        "# Reading and processing data\n",
        "get_sentimentr_function_r = robjects.globalenv['get_sentimentr_values']"
      ],
      "metadata": {
        "id": "9YXY3mZHYgsw"
      },
      "execution_count": null,
      "outputs": []
    },
    {
      "cell_type": "code",
      "source": [
        "%%time\n",
        "\n",
        "# NOTE:   2m40s  @17:48EST on 27Oct2022 Colab Pro (The Idiot)\n",
        "#         2m42s  @18:06EST on 27Oct2022 Colab Pro (The Idiot)\n",
        "#         2m37s  @23:20EST on 27Oct2022 Colab Pro (The Idiot)\n",
        "\n",
        "# Call external get_sentimentr::get_sentimentr_values with Python loop over all novels\n",
        "\n",
        "line_ls = sentiment_df['line'].to_list()\n",
        "\n",
        "# Convert Python List of Strings to a R vector of characters\n",
        "# https://rpy2.github.io/doc/v3.0.x/html/generated_rst/pandas.html\n",
        "sentence_v = robjects.StrVector(line_ls)\n",
        "sentiment_df_r = get_sentimentr_function_r(sentence_v)\n",
        "\n",
        "# Convert rpy2.robjects.vectors.DataFrame to pandas.core.frame.DataFrame\n",
        "# https://stackoverflow.com/questions/20630121/pandas-how-to-convert-r-dataframe-back-to-pandas\n",
        "print(f'type(sentiment_df_r): {type(sentiment_df_r)}')\n",
        "temp_df = pd.DataFrame.from_dict({ key : np.asarray(sentiment_df_r.rx2(key)) for key in sentiment_df_r.names })\n",
        "print(f'type(temp_df): {type(temp_df)}')\n",
        "\n",
        "# Create new SentimentR DataFrame to save results\n",
        "# sentimentr_df = sentiment_df[['line_no', 'line']].copy(deep=True)\n",
        "sentimentr_df = pd.DataFrame()\n",
        "\n",
        "# This works for Novels New Corpus Texts\n",
        "sentimentr_df['sentimentr_jockersrinker'] = temp_df['sentimentr_jockersrinker']\n",
        "sentimentr_df['sentimentr_jockers'] = temp_df['sentimentr_jockers']\n",
        "sentimentr_df['sentimentr_huliu'] = temp_df['sentimentr_huliu']\n",
        "sentimentr_df['sentimentr_nrc'] = temp_df['sentimentr_nrc']\n",
        "sentimentr_df['sentimentr_senticnet'] = temp_df['sentimentr_senticnet']\n",
        "sentimentr_df['sentimentr_sentiword'] = temp_df['sentimentr_sentiword']\n",
        "sentimentr_df['sentimentr_loughran_mcdonald'] = temp_df['sentimentr_loughran_mcdonald']\n",
        "sentimentr_df['sentimentr_socal_google'] = temp_df['sentimentr_socal_google']\n",
        "\n",
        "sentimentr_df.head()"
      ],
      "metadata": {
        "id": "Rz1qp9R8Ygp3"
      },
      "execution_count": null,
      "outputs": []
    },
    {
      "cell_type": "code",
      "source": [
        "# prompt: for sentiment_df, insert 'line_no\" as the first column that assigns sequentially increasing integers from 0 upward, drop the index\n",
        "\n",
        "# Assuming sentiment_df is your DataFrame\n",
        "sentimentr_df = sentimentr_df.reset_index(drop=True)\n",
        "sentimentr_df.insert(0, 'line_no', range(0, len(sentimentr_df)))\n",
        "sentimentr_df.head()"
      ],
      "metadata": {
        "id": "IAE89n2xT_5N"
      },
      "execution_count": null,
      "outputs": []
    },
    {
      "cell_type": "code",
      "source": [
        "sentimentr_df.columns.to_list()"
      ],
      "metadata": {
        "id": "t-uFe2VyndRN"
      },
      "execution_count": null,
      "outputs": []
    },
    {
      "cell_type": "code",
      "source": [
        "# Generate the plot properly\n",
        "win_per = 0.1\n",
        "win_size = int(win_per * sentimentr_df.shape[0])\n",
        "\n",
        "# Create a new figure\n",
        "plt.figure()\n",
        "\n",
        "# Plot the rolling mean sentiment\n",
        "sentimentr_model_ls = [\n",
        "    'sentimentr_jockersrinker',\n",
        "    'sentimentr_jockers',\n",
        "    'sentimentr_huliu',\n",
        "    'sentimentr_nrc',\n",
        "    'sentimentr_senticnet',\n",
        "    'sentimentr_sentiword',\n",
        "    'sentimentr_loughran_mcdonald',\n",
        "    'sentimentr_socal_google']\n",
        "_ = sentimentr_df[sentimentr_model_ls].rolling(win_size, center=True).mean().plot(figsize=(12,6), grid=True)\n",
        "\n",
        "# Ensure the plot is rendered and saved correctly\n",
        "plt.title(\"SentimentR Sentiment Analysis Rolling Mean\")\n",
        "plt.xlabel(\"Index\")\n",
        "plt.ylabel(\"Sentiment Score\")\n",
        "\n",
        "# Save the plot to a PNG file\n",
        "save_plot2png('_sentimentr_sentiment_plot.png', nodate=True)\n",
        "\n",
        "plt.show()\n",
        "\n",
        "# Close the plot to free up memory\n",
        "plt.close()\n"
      ],
      "metadata": {
        "id": "cxg7X7ZnD4E9"
      },
      "execution_count": null,
      "outputs": []
    },
    {
      "cell_type": "code",
      "source": [
        "# Save SyuzhetR Models' Sentiment Time Series\n",
        "\n",
        "save_df2csv_and_download(sentimentr_df, '_sentimentr_sentiment.csv', nodate=True)"
      ],
      "metadata": {
        "id": "JwklgP5ba7BD"
      },
      "execution_count": null,
      "outputs": []
    },
    {
      "cell_type": "markdown",
      "source": [
        "## Option (2): Statistical ML\n",
        "\n",
        "* https://towardsdatascience.com/building-a-sentiment-classifier-using-scikit-learn-54c8e7c5d2f0"
      ],
      "metadata": {
        "id": "5lnCsFNUQZuA"
      }
    },
    {
      "cell_type": "code",
      "source": [
        "# Example: Naive Bayes\n",
        "\n",
        "# https://www.datacamp.com/tutorial/simplifying-sentiment-analysis-python"
      ],
      "metadata": {
        "id": "MWQCuXN1RrF3"
      },
      "execution_count": null,
      "outputs": []
    },
    {
      "cell_type": "code",
      "source": [
        "# Example: SVM\n",
        "\n",
        "# https://www.kaggle.com/code/bansodesandeep/sentiment-analysis-support-vector-machine"
      ],
      "metadata": {
        "id": "ycOzMmcGWFwH"
      },
      "execution_count": null,
      "outputs": []
    },
    {
      "cell_type": "markdown",
      "source": [
        "## Option (3): Connectionist: Transformers\n",
        "\n",
        "**WARNING:** This takes a LONG TIME to run to completion (~45mins).\n",
        "\n",
        "Accelerate Large Models:\n",
        "\n",
        "* https://ponder.io/faster-hugging-face-with-modin/ ***\n",
        "\n",
        "* https://huggingface.co/blog/accelerate-large-models\n",
        "\n",
        "* (Moden) https://github.com/modin-project/modin\n",
        "* (Moden+HF) https://github.com/ponder-org/ponder-blog/blob/main/Modin%20%2B%20Hugging%20Face%20Tutorial.ipynb\n",
        "\n",
        "* https://heartbeat.comet.ml/optimizing-a-huggingface-transformer-model-for-toxic-speech-detection-6d59e66f615a"
      ],
      "metadata": {
        "id": "r3YQL4FKQdBi"
      }
    },
    {
      "cell_type": "code",
      "source": [
        "!pip install -q transformers"
      ],
      "metadata": {
        "id": "a8yQt0LzpJTA"
      },
      "execution_count": null,
      "outputs": []
    },
    {
      "cell_type": "code",
      "source": [
        "!pip install sentencepiece"
      ],
      "metadata": {
        "id": "L5Uj6TzEFFoZ"
      },
      "execution_count": null,
      "outputs": []
    },
    {
      "cell_type": "code",
      "source": [
        "from transformers import pipeline\n",
        "\n",
        "from transformers import AutoTokenizer, AutoModelWithLMHead  # T5Base 50k\n",
        "from transformers import AutoModelForSequenceClassification, Trainer\n",
        "from transformers import AutoModelForSeq2SeqLM, AutoModelWithLMHead\n",
        "\n",
        "from transformers import BertTokenizer, BertForSequenceClassification\n",
        "\n",
        "import sentencepiece"
      ],
      "metadata": {
        "id": "HLbC-Gx9pEcc"
      },
      "execution_count": null,
      "outputs": []
    },
    {
      "cell_type": "code",
      "source": [
        "# Test Dataset: List of TestSentiment Strings\n",
        "\n",
        "test_lines_ls = [\n",
        "    \"I love you.\",\n",
        "    \"You hate me.\",\n",
        "    \"I'm not sure if I hate you, but I certainly don't care for your attitude young man!\"\n",
        "]"
      ],
      "metadata": {
        "id": "8GsluNzHOnSV"
      },
      "execution_count": null,
      "outputs": []
    },
    {
      "cell_type": "code",
      "source": [
        "# Create class for data preparation\n",
        "\n",
        "class SimpleDataset:\n",
        "    def __init__(self, tokenized_texts):\n",
        "        self.tokenized_texts = tokenized_texts\n",
        "\n",
        "    def __len__(self):\n",
        "        return len(self.tokenized_texts[\"input_ids\"])\n",
        "\n",
        "    def __getitem__(self, idx):\n",
        "        return {k: v[idx] for k, v in self.tokenized_texts.items()}"
      ],
      "metadata": {
        "id": "JizomLuFsOZ_"
      },
      "execution_count": null,
      "outputs": []
    },
    {
      "cell_type": "markdown",
      "source": [
        "### HF: DistilBERT Finetuned (sst2en)\n",
        "\n",
        "distilbert-base-uncased-finetuned-sst-2-english\n",
        "\n",
        "* https://huggingface.co/docs/transformers/task_summary"
      ],
      "metadata": {
        "id": "QrsQK7ezzDfU"
      }
    },
    {
      "cell_type": "code",
      "source": [
        "# Load tokenizer and model, create trainer\n",
        "\n",
        "model_name = \"distilbert-base-uncased-finetuned-sst-2-english\"\n",
        "tokenizer = AutoTokenizer.from_pretrained(model_name)\n",
        "model = AutoModelForSequenceClassification.from_pretrained(model_name)\n",
        "trainer = Trainer(model=model)"
      ],
      "metadata": {
        "id": "XMOGq-X9WIbv"
      },
      "execution_count": null,
      "outputs": []
    },
    {
      "cell_type": "code",
      "source": [
        "# Create list of texts (can be imported from .csv, .xls etc.)\n",
        "\n",
        "# Test\n",
        "line_ls = ['I like that','That is annoying','This is great!','Wouldn´t recommend it.']\n",
        "\n",
        "# Novel Lines\n",
        "line_ls = sentiment_df['line'].to_list()"
      ],
      "metadata": {
        "id": "nFbXm_H7WbYq"
      },
      "execution_count": null,
      "outputs": []
    },
    {
      "cell_type": "code",
      "source": [
        "# Tokenize texts and create prediction data set\n",
        "tokenized_texts = tokenizer(line_ls,truncation=True,padding=True)\n",
        "pred_dataset = SimpleDataset(tokenized_texts)"
      ],
      "metadata": {
        "id": "wgIseJpWWbYq"
      },
      "execution_count": null,
      "outputs": []
    },
    {
      "cell_type": "code",
      "source": [
        "# import wandb\n",
        "\n",
        "# wandb.init() # wandb.log()"
      ],
      "metadata": {
        "id": "ivgHsGylejO_"
      },
      "execution_count": null,
      "outputs": []
    },
    {
      "cell_type": "code",
      "metadata": {
        "id": "ylqEUWutWbYq"
      },
      "source": [
        "%%time\n",
        "\n",
        "# NOTE: 0m40s 02:49EST on 28Oct2022 Colab Pro (The Idiot)\n",
        "\n",
        "\n",
        "# Run predictions\n",
        "predictions = trainer.predict(pred_dataset)"
      ],
      "execution_count": null,
      "outputs": []
    },
    {
      "cell_type": "code",
      "source": [
        "type(predictions)"
      ],
      "metadata": {
        "id": "MyAE2QZVWbYq"
      },
      "execution_count": null,
      "outputs": []
    },
    {
      "cell_type": "code",
      "metadata": {
        "id": "i4vzPeFoWbYq"
      },
      "source": [
        "# Transform predictions to labels\n",
        "sentiment_ls = predictions.predictions.argmax(-1)\n",
        "labels_ls = pd.Series(sentiment_ls).map(model.config.id2label)\n",
        "scores_ls = (np.exp(predictions[0])/np.exp(predictions[0]).sum(-1,keepdims=True)).max(1)"
      ],
      "execution_count": null,
      "outputs": []
    },
    {
      "cell_type": "code",
      "source": [
        "line_no_ls = list(range(len(sentiment_ls)))"
      ],
      "metadata": {
        "id": "KKdY2KTVWbYq"
      },
      "execution_count": null,
      "outputs": []
    },
    {
      "cell_type": "code",
      "metadata": {
        "id": "1W968Sz8WbYr"
      },
      "source": [
        "# Create DataFrame with texts, predictions, labels, and scores\n",
        "distilbert_df = pd.DataFrame(list(zip(line_no_ls, line_ls,sentiment_ls,labels_ls,scores_ls)), columns=['line_no','line','distilbert','label','score'])\n",
        "distilbert_df.head()"
      ],
      "execution_count": null,
      "outputs": []
    },
    {
      "cell_type": "code",
      "source": [
        "distilbert_df['label'].unique()"
      ],
      "metadata": {
        "id": "hMLpdjoAWbYr"
      },
      "execution_count": null,
      "outputs": []
    },
    {
      "cell_type": "code",
      "source": [
        "win_per = 0.1\n",
        "win_size = int(win_per * distilbert_df.shape[0])\n",
        "\n",
        "# Create a new figure\n",
        "plt.figure()\n",
        "\n",
        "_ = distilbert_df['distilbert'].rolling(win_size, center=True).mean().plot(grid=True)\n",
        "\n",
        "# Ensure the plot is rendered and saved correctly\n",
        "plt.title(\"DistilBERT Sentiment Analysis Rolling Mean\")\n",
        "plt.xlabel(\"Index\")\n",
        "plt.ylabel(\"Sentiment Score\")\n",
        "\n",
        "# Save the plot to a PNG file\n",
        "save_plot2png('_distilbert_sentiment_plot.png', nodate=True)\n",
        "\n",
        "plt.show()\n",
        "\n",
        "# Close the plot to free up memory\n",
        "plt.close()"
      ],
      "metadata": {
        "id": "xfqapgvMG5ZZ"
      },
      "execution_count": null,
      "outputs": []
    },
    {
      "cell_type": "code",
      "source": [
        "# Save Model Sentiment Time Series\n",
        "\n",
        "save_df2csv_and_download(distilbert_df, '_distilbert_sentiment.csv', nodate=True)"
      ],
      "metadata": {
        "id": "lUoHS481WbYr"
      },
      "execution_count": null,
      "outputs": []
    },
    {
      "cell_type": "markdown",
      "source": [
        "### HF: MultiBERT NLPTown\n",
        "\n",
        "nlptown/bert-base-multilingual-uncased-sentiment\n",
        "\n",
        "* https://huggingface.co/nlptown/bert-base-multilingual-uncased-sentiment?text=I+like+you.+I+love+you"
      ],
      "metadata": {
        "id": "nMk2CQeViO40"
      }
    },
    {
      "cell_type": "code",
      "source": [
        "# Load tokenizer and model, create trainer\n",
        "\n",
        "model_name = \"nlptown/bert-base-multilingual-uncased-sentiment\"\n",
        "tokenizer = AutoTokenizer.from_pretrained(model_name)\n",
        "model = AutoModelForSequenceClassification.from_pretrained(model_name)\n",
        "trainer = Trainer(model=model)"
      ],
      "metadata": {
        "id": "6bPn93D-9un1"
      },
      "execution_count": null,
      "outputs": []
    },
    {
      "cell_type": "code",
      "source": [
        "# Create list of texts (can be imported from .csv, .xls etc.)\n",
        "\n",
        "# Test\n",
        "# line_ls = ['I like that','That is annoying','This is great!','Wouldn´t recommend it.']\n",
        "\n",
        "# Novel Lines\n",
        "line_ls = sentiment_df['line'].to_list()"
      ],
      "metadata": {
        "id": "-EMWbKA3-CM_"
      },
      "execution_count": null,
      "outputs": []
    },
    {
      "cell_type": "code",
      "source": [
        "# Tokenize texts and create prediction data set\n",
        "tokenized_texts = tokenizer(line_ls,truncation=True,padding=True)\n",
        "pred_dataset = SimpleDataset(tokenized_texts)"
      ],
      "metadata": {
        "id": "cDJG5iEu-CM_"
      },
      "execution_count": null,
      "outputs": []
    },
    {
      "cell_type": "code",
      "metadata": {
        "id": "bE63EELQ-CM_"
      },
      "source": [
        "%%time\n",
        "\n",
        "# NOTE:  4m00s 23:57EST on 27Oct2022 Colab Pro (The Idiot)\n",
        "#        1m28s 01:24EST on 28Oct2022 Colab Pro (The Idiot)\n",
        "#        1m27s 02:42EST on 28Oct2022 Colab Pro (The Idiot)\n",
        "\n",
        "# Run predictions\n",
        "predictions = trainer.predict(pred_dataset)"
      ],
      "execution_count": null,
      "outputs": []
    },
    {
      "cell_type": "code",
      "metadata": {
        "id": "ft9zucAJ-CM_"
      },
      "source": [
        "# Transform predictions to labels\n",
        "sentiment_ls = predictions.predictions.argmax(-1)\n",
        "labels_ls = pd.Series(sentiment_ls).map(model.config.id2label)\n",
        "scores_ls = (np.exp(predictions[0])/np.exp(predictions[0]).sum(-1,keepdims=True)).max(1)"
      ],
      "execution_count": null,
      "outputs": []
    },
    {
      "cell_type": "code",
      "source": [
        "line_no_ls = list(range(len(sentiment_ls)))"
      ],
      "metadata": {
        "id": "JdA3_IeGUPff"
      },
      "execution_count": null,
      "outputs": []
    },
    {
      "cell_type": "code",
      "metadata": {
        "id": "UHKwQi2k-CM_"
      },
      "source": [
        "# Create DataFrame with texts, predictions, labels, and scores\n",
        "nlptown_df = pd.DataFrame(list(zip(line_no_ls,line_ls,sentiment_ls,labels_ls,scores_ls)), columns=['line_no','line','nlptown','label','score'])\n",
        "nlptown_df.head()"
      ],
      "execution_count": null,
      "outputs": []
    },
    {
      "cell_type": "code",
      "source": [
        "nlptown_df.shape"
      ],
      "metadata": {
        "id": "Xzy-u9cJUnfk"
      },
      "execution_count": null,
      "outputs": []
    },
    {
      "cell_type": "code",
      "source": [
        "nlptown_df['label'].unique()"
      ],
      "metadata": {
        "id": "jBvG4K7i-CNA"
      },
      "execution_count": null,
      "outputs": []
    },
    {
      "cell_type": "code",
      "source": [
        "win_per = 0.1\n",
        "win_size = int(win_per * nlptown_df.shape[0])\n",
        "\n",
        "# Create a new figure\n",
        "plt.figure()\n",
        "\n",
        "_ = nlptown_df['nlptown'].rolling(win_size, center=True).mean().plot(grid=True)\n",
        "\n",
        "# Ensure the plot is rendered and saved correctly\n",
        "plt.title(\"NLPTown Sentiment Analysis Rolling Mean\")\n",
        "plt.xlabel(\"Index\")\n",
        "plt.ylabel(\"Sentiment Score\")\n",
        "\n",
        "# Save the plot to a PNG file\n",
        "save_plot2png('_nlptown_sentiment_plot.png', nodate=True)\n",
        "\n",
        "plt.show()\n",
        "\n",
        "# Close the plot to free up memory\n",
        "plt.close()"
      ],
      "metadata": {
        "id": "J8EKiNNiIIsd"
      },
      "execution_count": null,
      "outputs": []
    },
    {
      "cell_type": "code",
      "source": [
        "# Save Model Sentiment Time Series\n",
        "\n",
        "save_df2csv_and_download(nlptown_df, '_nlptown_sentiment.csv', nodate=True)"
      ],
      "metadata": {
        "id": "Pffzn0hK-CNA"
      },
      "execution_count": null,
      "outputs": []
    },
    {
      "cell_type": "markdown",
      "source": [],
      "metadata": {
        "id": "rPwcz6MLMy_v"
      }
    },
    {
      "cell_type": "markdown",
      "source": [
        "### HF: RoBERTa Finetuned (en)\n",
        "\n",
        "siebert/sentiment-roberta-large-english\n",
        "\n",
        "* https://colab.research.google.com/github/chrsiebert/sentiment-roberta-large-english/blob/main/sentiment_roberta_prediction_example.ipynb"
      ],
      "metadata": {
        "id": "SVFTFSU9pVPp"
      }
    },
    {
      "cell_type": "code",
      "source": [
        "# Load tokenizer and model, create trainer\n",
        "\n",
        "model_name = \"siebert/sentiment-roberta-large-english\"\n",
        "tokenizer = AutoTokenizer.from_pretrained(model_name)\n",
        "model = AutoModelForSequenceClassification.from_pretrained(model_name)\n",
        "trainer = Trainer(model=model)"
      ],
      "metadata": {
        "id": "GIQKzZKVr-aq"
      },
      "execution_count": null,
      "outputs": []
    },
    {
      "cell_type": "code",
      "source": [
        "# Create list of texts (can be imported from .csv, .xls etc.)\n",
        "\n",
        "# Test\n",
        "line_ls = ['I like that','That is annoying','This is great!','Wouldn´t recommend it.']\n",
        "\n",
        "# Novel Lines\n",
        "line_ls = sentiment_df['line'].to_list()"
      ],
      "metadata": {
        "id": "C-L7j_8xsrpn"
      },
      "execution_count": null,
      "outputs": []
    },
    {
      "cell_type": "code",
      "source": [
        "# Tokenize texts and create prediction data set\n",
        "tokenized_texts = tokenizer(line_ls,truncation=True,padding=True)\n",
        "pred_dataset = SimpleDataset(tokenized_texts)"
      ],
      "metadata": {
        "id": "0jtKBTZesz-A"
      },
      "execution_count": null,
      "outputs": []
    },
    {
      "cell_type": "code",
      "metadata": {
        "id": "h5mjnob3sMCl"
      },
      "source": [
        "%%time\n",
        "\n",
        "# NOTE: 4m00s 23:57EST on 27Oct2022 Colab Pro (The Idiot)\n",
        "#       4m18s 02:27EST on 27Oct2022 Colab Pro (The Idiot)\n",
        "\n",
        "# Run predictions\n",
        "predictions = trainer.predict(pred_dataset)"
      ],
      "execution_count": null,
      "outputs": []
    },
    {
      "cell_type": "code",
      "source": [
        "type(predictions)"
      ],
      "metadata": {
        "id": "daSsWIMGSRhV"
      },
      "execution_count": null,
      "outputs": []
    },
    {
      "cell_type": "code",
      "metadata": {
        "id": "s3O53RHCsVd7"
      },
      "source": [
        "# Transform predictions to labels\n",
        "sentiment_ls = predictions.predictions.argmax(-1)\n",
        "labels_ls = pd.Series(sentiment_ls).map(model.config.id2label)\n",
        "scores_ls = (np.exp(predictions[0])/np.exp(predictions[0]).sum(-1,keepdims=True)).max(1)"
      ],
      "execution_count": null,
      "outputs": []
    },
    {
      "cell_type": "code",
      "source": [
        "line_no_ls = list(range(len(sentiment_ls)))"
      ],
      "metadata": {
        "id": "ULY4BunEQp7f"
      },
      "execution_count": null,
      "outputs": []
    },
    {
      "cell_type": "code",
      "metadata": {
        "id": "FhIONI7ett0q"
      },
      "source": [
        "# Create DataFrame with texts, predictions, labels, and scores\n",
        "roberta15lg_df = pd.DataFrame(list(zip(line_no_ls, line_ls,sentiment_ls,labels_ls,scores_ls)), columns=['line_no','line','roberta15lg','label','score'])\n",
        "roberta15lg_df.head()"
      ],
      "execution_count": null,
      "outputs": []
    },
    {
      "cell_type": "code",
      "source": [
        "roberta15lg_df['label'].unique()"
      ],
      "metadata": {
        "id": "3JCLRT4dwidn"
      },
      "execution_count": null,
      "outputs": []
    },
    {
      "cell_type": "code",
      "source": [
        "win_per = 0.1\n",
        "win_size = int(win_per * roberta15lg_df.shape[0])\n",
        "\n",
        "# Create a new figure\n",
        "plt.figure()\n",
        "\n",
        "_ = roberta15lg_df['roberta15lg'].rolling(win_size, center=True).mean().plot(grid=True)\n",
        "\n",
        "# Ensure the plot is rendered and saved correctly\n",
        "plt.title(\"RoBERTa Sentiment Analysis Rolling Mean\")\n",
        "plt.xlabel(\"Index\")\n",
        "plt.ylabel(\"Sentiment Score\")\n",
        "\n",
        "# Save the plot to a PNG file\n",
        "save_plot2png('_roberta15lg_sentiment_plot.png', nodate=True)\n",
        "\n",
        "plt.show()\n",
        "\n",
        "# Close the plot to free up memory\n",
        "plt.close()"
      ],
      "metadata": {
        "id": "MuG9zeXqwW1j"
      },
      "execution_count": null,
      "outputs": []
    },
    {
      "cell_type": "code",
      "source": [
        "# Save Model Sentiment Time Series\n",
        "\n",
        "save_df2csv_and_download(roberta15lg_df, '_roberta15lg_sentiment.csv', nodate=True)"
      ],
      "metadata": {
        "id": "Hudb1WfewW1k"
      },
      "execution_count": null,
      "outputs": []
    },
    {
      "cell_type": "markdown",
      "source": [
        "## Option (4): LLM Transformers\n",
        "\n",
        "**WARNING:** This takes a LONG TIME to run to completion (~45mins).\n",
        "\n",
        "Accelerate Large Models:\n",
        "\n",
        "* https://ponder.io/faster-hugging-face-with-modin/ ***\n",
        "\n",
        "* https://huggingface.co/blog/accelerate-large-models\n",
        "\n",
        "* (Moden) https://github.com/modin-project/modin\n",
        "* (Moden+HF) https://github.com/ponder-org/ponder-blog/blob/main/Modin%20%2B%20Hugging%20Face%20Tutorial.ipynb\n",
        "\n",
        "* https://heartbeat.comet.ml/optimizing-a-huggingface-transformer-model-for-toxic-speech-detection-6d59e66f615a"
      ],
      "metadata": {
        "id": "bZLvRHgsgY3G"
      }
    },
    {
      "cell_type": "code",
      "source": [
        "def get_llm_sentiment(model_name, lines_ls, batch_size=10):\n",
        "    \"\"\"\n",
        "    Get sentiment scores for a list of sentences using a Hugging Face LLM.\n",
        "\n",
        "    Parameters:\n",
        "    model_name (str): Name of Hugging Face model\n",
        "    lines_ls (list): List of text sentences to analyze\n",
        "    batch_size (int): Number of lines to process at once to manage memory\n",
        "\n",
        "    Returns:\n",
        "    list: List of sentiment scores between -1.0 and 1.0\n",
        "    \"\"\"\n",
        "    from transformers import AutoTokenizer, AutoModelForCausalLM\n",
        "    import torch\n",
        "    from tqdm import tqdm\n",
        "    import numpy as np\n",
        "\n",
        "    # Initialize model and tokenizer\n",
        "    print(f\"Loading {model_name}...\")\n",
        "    tokenizer = AutoTokenizer.from_pretrained(model_name)\n",
        "    model = AutoModelForCausalLM.from_pretrained(model_name, torch_dtype=torch.float16)\n",
        "\n",
        "    # Move model to GPU if available\n",
        "    device = torch.device(\"cuda\" if torch.cuda.is_available() else \"cpu\")\n",
        "    model = model.to(device)\n",
        "\n",
        "    sentiment_ls = []\n",
        "\n",
        "    # Process in batches\n",
        "    for i in tqdm(range(0, len(lines_ls), batch_size), desc=\"Analyzing sentiment\"):\n",
        "        batch = lines_ls[i:i + batch_size]\n",
        "        batch_sentiments = []\n",
        "\n",
        "        for text in batch:\n",
        "            # Skip empty or whitespace-only lines\n",
        "            if not text.strip():\n",
        "                batch_sentiments.append(0.0)\n",
        "                continue\n",
        "\n",
        "            # Create prompt\n",
        "            prompt = f\"\"\"Analyze the sentiment of the following text and return only a single float number between -1.0 (most negative) and 1.0 (most positive) representing the sentiment polarity. Return only the number.\n",
        "\n",
        "Text: \"{text}\"\n",
        "\n",
        "Sentiment score:\"\"\"\n",
        "\n",
        "            # Tokenize and generate\n",
        "            inputs = tokenizer(prompt, return_tensors=\"pt\", padding=True)\n",
        "            inputs = {k: v.to(device) for k, v in inputs.items()}\n",
        "\n",
        "            try:\n",
        "                with torch.no_grad():\n",
        "                    outputs = model.generate(\n",
        "                        **inputs,\n",
        "                        max_new_tokens=20,\n",
        "                        num_return_sequences=1,\n",
        "                        temperature=0.1,  # Low temperature for more consistent outputs\n",
        "                        pad_token_id=tokenizer.eos_token_id\n",
        "                    )\n",
        "\n",
        "                # Decode output\n",
        "                response = tokenizer.decode(outputs[0], skip_special_tokens=True)\n",
        "\n",
        "                # Extract just the score from response\n",
        "                response = response.split(\"Sentiment score:\")[-1].strip()\n",
        "\n",
        "                # Try to convert to float\n",
        "                try:\n",
        "                    score = float(response)\n",
        "                    # Ensure score is between -1 and 1\n",
        "                    score = max(min(score, 1.0), -1.0)\n",
        "                except ValueError:\n",
        "                    # If conversion fails, use fallback scoring method\n",
        "                    if any(word in response.lower() for word in ['positive', 'good', 'excellent']):\n",
        "                        score = 0.5\n",
        "                    elif any(word in response.lower() for word in ['negative', 'bad', 'poor']):\n",
        "                        score = -0.5\n",
        "                    else:\n",
        "                        score = 0.0\n",
        "\n",
        "                batch_sentiments.append(score)\n",
        "\n",
        "            except Exception as e:\n",
        "                print(f\"Error processing text: {text[:50]}... Error: {str(e)}\")\n",
        "                batch_sentiments.append(0.0)\n",
        "\n",
        "        sentiment_ls.extend(batch_sentiments)\n",
        "\n",
        "        # Clear GPU memory\n",
        "        if device.type == \"cuda\":\n",
        "            torch.cuda.empty_cache()\n",
        "\n",
        "    # Clean up\n",
        "    del model\n",
        "    del tokenizer\n",
        "    if device.type == \"cuda\":\n",
        "        torch.cuda.empty_cache()\n",
        "\n",
        "    return sentiment_ls\n",
        "\n"
      ],
      "metadata": {
        "id": "3k__XvpugYt7"
      },
      "execution_count": null,
      "outputs": []
    },
    {
      "cell_type": "markdown",
      "source": [
        "### Mistral 7B v0.1"
      ],
      "metadata": {
        "id": "tK958SUkieJw"
      }
    },
    {
      "cell_type": "code",
      "source": [
        "# Example usage:\n",
        "\n",
        "model_name = \"mistralai/Mistral-7B-Instruct-v0.1\"\n",
        "lines = [\n",
        "    \"I absolutely love this beautiful day!\",\n",
        "    \"This is the worst experience ever.\",\n",
        "    \"The weather is quite nice today.\"\n",
        "]\n",
        "sentiment_scores = get_llm_sentiment(model_name, lines)\n",
        "for line, score in zip(lines, sentiment_scores):\n",
        "    print(f\"Text: {line}\\nSentiment: {score}\\n\")"
      ],
      "metadata": {
        "id": "0TAL84iAgYre"
      },
      "execution_count": null,
      "outputs": []
    },
    {
      "cell_type": "code",
      "source": [
        "%whos"
      ],
      "metadata": {
        "id": "P0_RBBHjgYoS"
      },
      "execution_count": null,
      "outputs": []
    },
    {
      "cell_type": "markdown",
      "source": [
        "## **[SKIP to 'Plot' Section]**"
      ],
      "metadata": {
        "id": "tUxgANVife4q"
      }
    },
    {
      "cell_type": "markdown",
      "source": [
        "### NOTE: T5 vs BERT Architecture Differences\n",
        "\n",
        "The reason why models like **RoBERTa** and **DistilBERT** work in your notebook but **T5** does not likely comes down to the fundamental differences in architecture and requirements between these models. Here's a detailed explanation:\n",
        "\n",
        "### 1. **Model Architecture Differences**:\n",
        "   - **RoBERTa** and **DistilBERT** are based on the **BERT** architecture, which is designed primarily for tasks like classification, token classification, or sequence labeling. These models are simpler in terms of memory usage and computational requirements compared to T5.\n",
        "   - **T5 (Text-To-Text Transfer Transformer)** is an encoder-decoder model, which means it uses two parts: an encoder and a decoder. This setup generally requires more GPU memory and computing power, especially when fine-tuned for complex tasks like text generation.\n",
        "\n",
        "### 2. **Resource Requirements**:\n",
        "   - **T5** models, especially when fine-tuned for specific tasks like the `mrm8488/t5-base-finetuned-imdb-sentiment` model, tend to be more resource-intensive because they process input and output sequences. The GPU memory requirements for T5 can be significantly higher than those for models like RoBERTa or DistilBERT.\n",
        "   - **RoBERTa** and **DistilBERT** are lighter and less resource-hungry since they are encoder-only models designed for understanding text rather than generating it.\n",
        "\n",
        "### 3. **CUDA and Model Compatibility**:\n",
        "   - **RoBERTa** and **DistilBERT** models are generally more stable across various CUDA and PyTorch versions due to their simpler architecture.\n",
        "   - The **T5** model, particularly the fine-tuned version you are using, might be more sensitive to version mismatches between PyTorch, CUDA, and the `transformers` library. Even a slight discrepancy in CUDA versions (e.g., CUDA 12 vs. CUDA 11.8) might lead to errors for T5 but not for simpler models.\n",
        "\n",
        "### 4. **Model Implementation Differences in `transformers`**:\n",
        "   - The way the **Hugging Face `transformers`** library handles different model architectures can also lead to discrepancies. The BERT architecture (which RoBERTa and DistilBERT are based on) has been tested extensively across various environments, so it's usually stable and less prone to environment-related issues.\n",
        "   - T5, with its encoder-decoder structure, might have implementation aspects that are more sensitive to CUDA version or hardware settings, particularly when trying to utilize the GPU.\n",
        "\n",
        "### Potential Solutions to Make T5 Work:\n",
        "1. **Reduce Model Size**:\n",
        "   - If possible, try a smaller version of T5, such as `t5-small` or `t5-base` (without fine-tuning) to test if this is a memory issue:\n",
        "\n",
        "     ```python\n",
        "     from transformers import pipeline\n",
        "\n",
        "     pipe = pipeline(\"text2text-generation\", model=\"t5-small\", device=0)\n",
        "     ```\n",
        "\n",
        "2. **Use CPU as a Debugging Step**:\n",
        "   - Test running T5 on the CPU (`device=-1`) to confirm if the issue is GPU-specific:\n",
        "\n",
        "     ```python\n",
        "     pipe = pipeline(\"text2text-generation\", model=\"mrm8488/t5-base-finetuned-imdb-sentiment\", device=-1)\n",
        "     ```\n",
        "\n",
        "3. **Check GPU Memory**:\n",
        "   - Monitor GPU memory usage using `nvidia-smi` to see if the GPU runs out of memory when loading the T5 model.\n",
        "\n",
        "     ```bash\n",
        "     !nvidia-smi\n",
        "     ```\n",
        "\n",
        "4. **Try Different Versions of the Model**:\n",
        "   - Test other fine-tuned models or the base `t5-base` model to determine if the issue is specific to the fine-tuning:\n",
        "\n",
        "     ```python\n",
        "     pipe = pipeline(\"text2text-generation\", model=\"t5-base\", device=0)\n",
        "     ```\n",
        "\n",
        "5. **Use a Different CUDA Version**:\n",
        "   - As mentioned previously, trying a different version of CUDA (like CUDA 11.8) may resolve compatibility issues specific to the T5 model.\n",
        "\n",
        "By understanding the architecture and resource demands of T5, we can better pinpoint why it may be failing when other models succeed. Let me know if any of these steps help resolve the issue!"
      ],
      "metadata": {
        "id": "39rhPaxFMr9u"
      }
    },
    {
      "cell_type": "markdown",
      "source": [
        "### NOTE: T5 Fix (vs BERT)\n",
        "\n",
        "Based on the versions you provided:\n",
        "- **Transformers**: 4.44.2\n",
        "- **Torch**: 2.5.0+cu121\n",
        "\n",
        "These versions may not be fully compatible, especially since Torch 2.5.0 is quite advanced and may not have full support in Transformers 4.44.2. Torch 2.5.0+cu121 is built for CUDA 12.1, and there could be some incompatibilities with models or the Transformers version that you are using.\n",
        "\n",
        "### Solutions:\n",
        "\n",
        "1. **Downgrade PyTorch to a Compatible Version**:\n",
        "   Try using a version of PyTorch that is compatible with Transformers 4.44.2, such as PyTorch 2.0.1 or similar with CUDA 11.8, which is widely supported in Colab. You can install it using:\n",
        "\n",
        "   ```python\n",
        "   !pip install torch==2.0.1+cu118 torchvision==0.15.2+cu118 torchaudio==2.0.2+cu118 -f https://download.pytorch.org/whl/torch_stable.html\n",
        "   ```\n",
        "\n",
        "   After installation, restart the runtime and check the versions again to confirm:\n",
        "\n",
        "   ```python\n",
        "   import torch\n",
        "   import transformers\n",
        "\n",
        "   print(f'Transformers version: {transformers.__version__}')\n",
        "   print(f'Torch version: {torch.__version__}')\n",
        "   ```\n",
        "\n",
        "2. **Reinstall the `transformers` Library**:\n",
        "   Make sure that `transformers` is up-to-date and compatible with the newly installed PyTorch version:\n",
        "\n",
        "   ```python\n",
        "   !pip install transformers --upgrade\n",
        "   ```\n",
        "\n",
        "3. **Test the Pipeline Again**:\n",
        "   After ensuring the correct versions are installed, try running the pipeline again:\n",
        "\n",
        "   ```python\n",
        "   from transformers import pipeline\n",
        "\n",
        "   pipe = pipeline(\"text2text-generation\", model=\"mrm8488/t5-base-finetuned-imdb-sentiment\", device=0)\n",
        "   ```\n",
        "\n",
        "This approach should resolve the CUDA compatibility issues. If you encounter any further issues, let me know!"
      ],
      "metadata": {
        "id": "wZVjiTSANcFO"
      }
    },
    {
      "cell_type": "markdown",
      "source": [
        "#### (SKIP) HF T5 IMDB\n",
        "\n",
        "mrm8488/t5-base-finetuned-imdb-sentiment\n",
        "\n",
        "* https://huggingface.co/mrm8488/t5-base-finetuned-imdb-sentiment"
      ],
      "metadata": {
        "id": "xo_dcZlv-3pl"
      }
    },
    {
      "cell_type": "code",
      "source": [
        "import torch\n",
        "torch.cuda.is_available(), torch.cuda.current_device()\n"
      ],
      "metadata": {
        "id": "FjOzfmVMLRKg"
      },
      "execution_count": null,
      "outputs": []
    },
    {
      "cell_type": "code",
      "source": [
        "import transformers\n",
        "import torch\n",
        "\n",
        "print(f'Transformers version: {transformers.__version__}')\n",
        "print(f'Torch version: {torch.__version__}')\n"
      ],
      "metadata": {
        "id": "STRUK2q-LWjs"
      },
      "execution_count": null,
      "outputs": []
    },
    {
      "cell_type": "code",
      "source": [],
      "metadata": {
        "id": "8b26RmayLmGW"
      },
      "execution_count": null,
      "outputs": []
    },
    {
      "cell_type": "code",
      "source": [
        "# Use a pipeline as a high-level helper\n",
        "from transformers import pipeline\n",
        "\n",
        "pipe = pipeline(\"text2text-generation\", model=\"mrm8488/t5-base-finetuned-imdb-sentiment\", device=0)"
      ],
      "metadata": {
        "id": "2oGb96TAK2Ra"
      },
      "execution_count": null,
      "outputs": []
    },
    {
      "cell_type": "code",
      "source": [],
      "metadata": {
        "id": "RsSSYubvK2ME"
      },
      "execution_count": null,
      "outputs": []
    },
    {
      "cell_type": "code",
      "source": [],
      "metadata": {
        "id": "QLNofdSnK2H8"
      },
      "execution_count": null,
      "outputs": []
    },
    {
      "cell_type": "code",
      "source": [],
      "metadata": {
        "id": "uyAskF6wK2ES"
      },
      "execution_count": null,
      "outputs": []
    },
    {
      "cell_type": "code",
      "source": [
        "# from transformers import AutoTokenizer, AutoModelWithLMHead\n",
        "\n",
        "tokenizer = AutoTokenizer.from_pretrained(\"mrm8488/t5-base-finetuned-imdb-sentiment\")\n",
        "model = AutoModelWithLMHead.from_pretrained(\"mrm8488/t5-base-finetuned-imdb-sentiment\")\n",
        "\n",
        "def get_sentiment(text):\n",
        "  input_ids = tokenizer.encode(text + '</s>', return_tensors='pt')\n",
        "\n",
        "  output = model.generate(input_ids=input_ids,\n",
        "               max_length=2)\n",
        "\n",
        "  dec = [tokenizer.decode(ids) for ids in output]\n",
        "  label = dec[0]\n",
        "  return label\n",
        "\n",
        "get_sentiment(\"I dislike a lot that film\")\n",
        "\n",
        "# Output: 'negative'\n"
      ],
      "metadata": {
        "id": "nj6bSJb9I0cz"
      },
      "execution_count": null,
      "outputs": []
    },
    {
      "cell_type": "code",
      "source": [
        "# Tokenize texts and create prediction data set\n",
        "tokenized_texts = tokenizer(line_ls,truncation=True,padding=True)\n",
        "pred_dataset = SimpleDataset(tokenized_texts)"
      ],
      "metadata": {
        "id": "GBF6PlhLKckV"
      },
      "execution_count": null,
      "outputs": []
    },
    {
      "cell_type": "code",
      "metadata": {
        "id": "wm8yEmn9KckV"
      },
      "source": [
        "%%time\n",
        "\n",
        "# NOTE: 4m00s 23:57EST on 27Oct2022 Colab Pro (The Idiot)\n",
        "#       4m18s 02:27EST on 27Oct2022 Colab Pro (The Idiot)\n",
        "\n",
        "# Run predictions\n",
        "predictions = trainer.predict(pred_dataset)"
      ],
      "execution_count": null,
      "outputs": []
    },
    {
      "cell_type": "code",
      "source": [
        "type(predictions)"
      ],
      "metadata": {
        "id": "WuOd1Uc1KckV"
      },
      "execution_count": null,
      "outputs": []
    },
    {
      "cell_type": "code",
      "metadata": {
        "id": "UWXy9EIlKckV"
      },
      "source": [
        "# Transform predictions to labels\n",
        "sentiment_ls = predictions.predictions.argmax(-1)\n",
        "labels_ls = pd.Series(sentiment_ls).map(model.config.id2label)\n",
        "scores_ls = (np.exp(predictions[0])/np.exp(predictions[0]).sum(-1,keepdims=True)).max(1)"
      ],
      "execution_count": null,
      "outputs": []
    },
    {
      "cell_type": "code",
      "source": [
        "line_no_ls = list(range(len(sentiment_ls)))"
      ],
      "metadata": {
        "id": "8zjHJRirKckW"
      },
      "execution_count": null,
      "outputs": []
    },
    {
      "cell_type": "code",
      "metadata": {
        "id": "PytHWCsKKckW"
      },
      "source": [
        "# Create DataFrame with texts, predictions, labels, and scores\n",
        "roberta15lg_df = pd.DataFrame(list(zip(line_no_ls, line_ls,sentiment_ls,labels_ls,scores_ls)), columns=['line_no','line','roberta15lg','label','score'])\n",
        "roberta15lg_df.head()"
      ],
      "execution_count": null,
      "outputs": []
    },
    {
      "cell_type": "code",
      "source": [
        "roberta15lg_df['label'].unique()"
      ],
      "metadata": {
        "id": "umbUSmE0KckW"
      },
      "execution_count": null,
      "outputs": []
    },
    {
      "cell_type": "code",
      "source": [
        "win_per = 0.1\n",
        "win_size = int(win_per * roberta15lg_df.shape[0])\n",
        "\n",
        "# Create a new figure\n",
        "plt.figure()\n",
        "\n",
        "_ = roberta15lg_df['roberta15lg'].rolling(win_size, center=True).mean().plot(grid=True)\n",
        "\n",
        "# Ensure the plot is rendered and saved correctly\n",
        "plt.title(\"RoBERTa Sentiment Analysis Rolling Mean\")\n",
        "plt.xlabel(\"Index\")\n",
        "plt.ylabel(\"Sentiment Score\")\n",
        "\n",
        "# Save the plot to a PNG file\n",
        "save_plot2png('_roberta15lg_sentiment_plot.png', nodate=True)\n",
        "\n",
        "plt.show()\n",
        "\n",
        "# Close the plot to free up memory\n",
        "plt.close()"
      ],
      "metadata": {
        "id": "92PPH8eOKckW"
      },
      "execution_count": null,
      "outputs": []
    },
    {
      "cell_type": "code",
      "metadata": {
        "id": "I_n5aX25JqDA"
      },
      "source": [
        "# Create DataFrame with texts, predictions, labels, and scores\n",
        "t5imdb_df = pd.DataFrame(list(zip(line_no_ls,line_ls,sentiment_ls,labels_ls,scores_ls)), columns=['line_no','line','t5imdb','label','score'])\n",
        "t5imdb_df.head()"
      ],
      "execution_count": null,
      "outputs": []
    },
    {
      "cell_type": "code",
      "source": [
        "tokenizer = AutoTokenizer.from_pretrained(\"mrm8488/t5-base-finetuned-imdb-sentiment\")\n",
        "model = AutoModelWithLMHead.from_pretrained(\"mrm8488/t5-base-finetuned-imdb-sentiment\")\n",
        "\n",
        "input_ids = tokenizer.encode(\"Hello, my dog is cute\", return_tensors=\"pt\")  # Batch size 1\n",
        "outputs = model(input_ids=input_ids, decoder_input_ids=input_ids)\n",
        "\n",
        "last_hidden_states = outputs[0]\n"
      ],
      "metadata": {
        "id": "cXgtOf0uJ5_0"
      },
      "execution_count": null,
      "outputs": []
    },
    {
      "cell_type": "code",
      "source": [],
      "metadata": {
        "id": "2IcoyNaHJ575"
      },
      "execution_count": null,
      "outputs": []
    },
    {
      "cell_type": "code",
      "source": [],
      "metadata": {
        "id": "c5oV2zmBJ54s"
      },
      "execution_count": null,
      "outputs": []
    },
    {
      "cell_type": "code",
      "source": [
        "from transformers import T5Tokenizer, T5Model\n",
        "\n",
        "tokenizer = T5Tokenizer.from_pretrained('t5-small')\n",
        "model = T5Model.from_pretrained('t5-small')\n",
        "\n",
        "input_ids = tokenizer.encode(\"Hello, my dog is cute\", return_tensors=\"pt\")  # Batch size 1\n",
        "outputs = model(input_ids=input_ids, decoder_input_ids=input_ids)\n",
        "\n",
        "last_hidden_states = outputs[0]  # The last hidden-state is the first element of the output tuple"
      ],
      "metadata": {
        "id": "-K9b6u_jIt9Q"
      },
      "execution_count": null,
      "outputs": []
    },
    {
      "cell_type": "code",
      "source": [
        "model_name = \"t5-small\" # \"mrm8488/t5-base-finetuned-imdb-sentiment\"\n",
        "tokenizer = AutoModelWithLMHead.from_pretrained(model_name)\n",
        "model = AutoModelWithLMHead.from_pretrained(model_name)\n",
        "trainer = Trainer(model=model)"
      ],
      "metadata": {
        "id": "48q7zEnLEfC6"
      },
      "execution_count": null,
      "outputs": []
    },
    {
      "cell_type": "code",
      "source": [
        "# Create list of texts (can be imported from .csv, .xls etc.)\n",
        "\n",
        "# Test\n",
        "pred_texts = ['I like that','That is annoying','This is great!','Wouldn´t recommend it.']\n",
        "\n",
        "# Novel Lines\n",
        "pred_texts = line_ls"
      ],
      "metadata": {
        "id": "39ysafzEH-m7"
      },
      "execution_count": null,
      "outputs": []
    },
    {
      "cell_type": "code",
      "source": [
        "# Tokenize texts and create prediction data set\n",
        "tokenized_texts = tokenizer(pred_texts) # ,truncation=True,padding=True)\n",
        "pred_dataset = SimpleDataset(tokenized_texts)"
      ],
      "metadata": {
        "id": "AMwvJb3-H-m7"
      },
      "execution_count": null,
      "outputs": []
    },
    {
      "cell_type": "code",
      "metadata": {
        "id": "gkb8Xc_1H-m8"
      },
      "source": [
        "%%time\n",
        "\n",
        "# NOTE:  4m00s 23:57EST on 27Oct2022 Colab Pro (The Idiot)\n",
        "#        1m28s 01:24EST on 28Oct2022 Colab Pro (The Idiot)\n",
        "\n",
        "# Run predictions\n",
        "predictions = trainer.predict(pred_dataset)"
      ],
      "execution_count": null,
      "outputs": []
    },
    {
      "cell_type": "code",
      "metadata": {
        "id": "mqsiuZpfH-m8"
      },
      "source": [
        "# Transform predictions to labels\n",
        "preds = predictions.predictions.argmax(-1)\n",
        "labels = pd.Series(preds).map(model.config.id2label)\n",
        "scores = (np.exp(predictions[0])/np.exp(predictions[0]).sum(-1,keepdims=True)).max(1)"
      ],
      "execution_count": null,
      "outputs": []
    },
    {
      "cell_type": "code",
      "metadata": {
        "id": "pQ_CEh8bH-m8"
      },
      "source": [
        "# Create DataFrame with texts, predictions, labels, and scores\n",
        "nlptown_df = pd.DataFrame(list(zip(pred_texts,preds,labels,scores)), columns=['line','pred','label','score'])\n",
        "nlptown_df.head()"
      ],
      "execution_count": null,
      "outputs": []
    },
    {
      "cell_type": "code",
      "source": [
        "nlptown_df['label'].unique()"
      ],
      "metadata": {
        "id": "Zuo6nfNWH-m8"
      },
      "execution_count": null,
      "outputs": []
    },
    {
      "cell_type": "code",
      "source": [
        "win_per = 0.1\n",
        "win_size = int(win_per * nlptown_df.shape[0])\n",
        "\n",
        "_ = nlptown_df['pred'].rolling(win_size, center=True).mean().plot(grid=True)"
      ],
      "metadata": {
        "id": "Ue_Z9nFHH-m8"
      },
      "execution_count": null,
      "outputs": []
    },
    {
      "cell_type": "code",
      "source": [
        "# Save Model Sentiment Time Series\n",
        "\n",
        "save_df2csv_and_download(nlptown_df, '_nlptown.csv')"
      ],
      "metadata": {
        "id": "jNlxgOMvH-m8"
      },
      "execution_count": null,
      "outputs": []
    },
    {
      "cell_type": "code",
      "source": [],
      "metadata": {
        "id": "AGKI5yXkH4FM"
      },
      "execution_count": null,
      "outputs": []
    },
    {
      "cell_type": "code",
      "source": [],
      "metadata": {
        "id": "rbDv3SrnH4CN"
      },
      "execution_count": null,
      "outputs": []
    },
    {
      "cell_type": "code",
      "source": [
        "\n",
        "\n",
        "def get_sentiment(text):\n",
        "  input_ids = tokenizer.encode(text + '</s>', return_tensors='pt')\n",
        "\n",
        "  output = model.generate(input_ids=input_ids,\n",
        "               max_length=2)\n",
        "\n",
        "  dec = [tokenizer.decode(ids) for ids in output]\n",
        "  label = dec[0]\n",
        "  return label\n",
        "\n",
        "get_sentiment(\"I dislike a lot that film\")\n",
        "\n",
        "# Output: 'negative'\n"
      ],
      "metadata": {
        "id": "tzhW9esHEe_o"
      },
      "execution_count": null,
      "outputs": []
    },
    {
      "cell_type": "code",
      "source": [],
      "metadata": {
        "id": "Q9bwlxq-Ee8r"
      },
      "execution_count": null,
      "outputs": []
    },
    {
      "cell_type": "code",
      "source": [
        "from transformers import AutoModelForSeq2SeqLM"
      ],
      "metadata": {
        "id": "0ftGBWxSADiK"
      },
      "execution_count": null,
      "outputs": []
    },
    {
      "cell_type": "code",
      "source": [
        "# from transformers import AutoTokenizer, AutoModelForSeq2SeqLM\n",
        "\n",
        "tokenizer = AutoTokenizer.from_pretrained(\"mrm8488/t5-base-finetuned-imdb-sentiment\")\n",
        "model = AutoModelForSeq2SeqLM.from_pretrained(\"mrm8488/t5-base-finetuned-imdb-sentiment\")"
      ],
      "metadata": {
        "id": "Ko-KngIB-ttq"
      },
      "execution_count": null,
      "outputs": []
    },
    {
      "cell_type": "code",
      "source": [],
      "metadata": {
        "id": "0eu7hxZ1_r28"
      },
      "execution_count": null,
      "outputs": []
    },
    {
      "cell_type": "code",
      "source": [
        "# Load tokenizer and model, create trainer\n",
        "\n",
        "model_name = \"mrm8488/t5-base-finetuned-imdb-sentiment\"\n",
        "tokenizer = AutoTokenizer.from_pretrained(model_name)\n",
        "model = AutoModelForSeq2SeqLM.from_pretrained(model_name)\n",
        "trainer = Trainer(model=model)"
      ],
      "metadata": {
        "id": "LLyOhslk_x9R"
      },
      "execution_count": null,
      "outputs": []
    },
    {
      "cell_type": "code",
      "source": [
        "# Create list of texts (can be imported from .csv, .xls etc.)\n",
        "\n",
        "# Test\n",
        "pred_texts = ['I like that','That is annoying','This is great!','Wouldn´t recommend it.']\n",
        "\n",
        "# Novel Lines\n",
        "pred_texts = line_ls"
      ],
      "metadata": {
        "id": "9zUajbLp_x9S"
      },
      "execution_count": null,
      "outputs": []
    },
    {
      "cell_type": "code",
      "source": [
        "# Tokenize texts and create prediction data set\n",
        "tokenized_texts = tokenizer(pred_texts,truncation=True,padding=True)\n",
        "pred_dataset = SimpleDataset(tokenized_texts)"
      ],
      "metadata": {
        "id": "DjcV-AVG_x9S"
      },
      "execution_count": null,
      "outputs": []
    },
    {
      "cell_type": "code",
      "metadata": {
        "id": "8tcrs1X5_x9S"
      },
      "source": [
        "%%time\n",
        "\n",
        "# NOTE: 4m00s 23:57EST on 27Oct2022 Colab Pro (The Idiot)\n",
        "\n",
        "# Run predictions\n",
        "predictions = trainer.predict(pred_dataset)"
      ],
      "execution_count": null,
      "outputs": []
    },
    {
      "cell_type": "code",
      "metadata": {
        "id": "L7utEKNU_x9S"
      },
      "source": [
        "# Transform predictions to labels\n",
        "preds = predictions.predictions.argmax(-1)\n",
        "labels = pd.Series(preds).map(model.config.id2label)\n",
        "scores = (np.exp(predictions[0])/np.exp(predictions[0]).sum(-1,keepdims=True)).max(1)"
      ],
      "execution_count": null,
      "outputs": []
    },
    {
      "cell_type": "code",
      "metadata": {
        "id": "MN9ZPcvo_x9T"
      },
      "source": [
        "# Create DataFrame with texts, predictions, labels, and scores\n",
        "nlptown_df = pd.DataFrame(list(zip(pred_texts,preds,labels,scores)), columns=['text','pred','label','score'])\n",
        "nlptown_df.head()"
      ],
      "execution_count": null,
      "outputs": []
    },
    {
      "cell_type": "code",
      "source": [
        "nlptown_df['label'].unique()"
      ],
      "metadata": {
        "id": "gfP2L121_x9T"
      },
      "execution_count": null,
      "outputs": []
    },
    {
      "cell_type": "code",
      "source": [
        "win_per = 0.1\n",
        "win_size = int(win_per * nlptown_df.shape[0])\n",
        "\n",
        "_ = nlptown_df['pred'].rolling(win_size, center=True).mean().plot(grid=True)"
      ],
      "metadata": {
        "id": "i4ZyrqIj_x9T"
      },
      "execution_count": null,
      "outputs": []
    },
    {
      "cell_type": "code",
      "source": [
        "# Save VADER Model Sentiment Time Series\n",
        "\n",
        "save_df2csv_and_download(nlptown_df, '_nlptown.csv')"
      ],
      "metadata": {
        "id": "tdmZhF4o_x9T"
      },
      "execution_count": null,
      "outputs": []
    },
    {
      "cell_type": "code",
      "source": [],
      "metadata": {
        "id": "waNaiO6W_rzX"
      },
      "execution_count": null,
      "outputs": []
    },
    {
      "cell_type": "code",
      "source": [],
      "metadata": {
        "id": "4n3rYRAZ_rYS"
      },
      "execution_count": null,
      "outputs": []
    },
    {
      "cell_type": "markdown",
      "source": [
        "### HF: T5 Sentiment Span Extraction\n",
        "\n",
        "mrm8488/t5-base-finetuned-span-sentiment-extraction\"\n",
        "\n",
        "* https://huggingface.co/mrm8488/t5-base-finetuned-imdb-sentiment"
      ],
      "metadata": {
        "id": "0rj20oAxbm-u"
      }
    },
    {
      "cell_type": "code",
      "source": [
        "!pip install transformers[sentencepiece]"
      ],
      "metadata": {
        "id": "mznHqiVscIdZ"
      },
      "execution_count": null,
      "outputs": []
    },
    {
      "cell_type": "code",
      "source": [
        "from transformers import AutoModelWithLMHead, AutoTokenizer\n",
        "\n",
        "model = \"mrm8488/t5-base-finetuned-span-sentiment-extraction\"\n",
        "tokenizer = AutoTokenizer.from_pretrained(model)\n",
        "model = AutoModelWithLMHead.from_pretrained(model)"
      ],
      "metadata": {
        "id": "qPlsgf5wb4Cf"
      },
      "execution_count": null,
      "outputs": []
    },
    {
      "cell_type": "code",
      "source": [
        "\n",
        "\n",
        "def get_sentiment_span(text):\n",
        "  input_ids = tokenizer.encode(text, return_tensors=\"pt\", add_special_tokens=True)  # Batch size 1\n",
        "\n",
        "  generated_ids = model.generate(input_ids=input_ids, num_beams=1, max_length=80).squeeze()\n",
        "\n",
        "  predicted_span = tokenizer.decode(generated_ids, skip_special_tokens=True, clean_up_tokenization_spaces=True)\n",
        "\n",
        "  return predicted_span\n",
        "\n",
        "get_sentiment_span(\"question: negative context: My bike was put on hold...should have known that.... argh total bummer\")\n",
        "\n",
        "# output: 'argh total bummer'\n",
        "\n",
        "get_sentiment_span(\"question: positive context: On the monday, so i wont be able to be with you! i love you\")\n",
        "\n",
        "# output: 'i love you'\n"
      ],
      "metadata": {
        "id": "pfmKwDNjbm0f"
      },
      "execution_count": null,
      "outputs": []
    },
    {
      "cell_type": "markdown",
      "source": [
        "# Plot"
      ],
      "metadata": {
        "id": "ZLMS4igchaNH"
      }
    },
    {
      "cell_type": "markdown",
      "source": [
        "## Dialate SentimentR, Combine, and Plot Together\n",
        "\n",
        "* VADER\n",
        "* TextBlob\n",
        "* SyuzhetR (4)\n",
        "* DistilBERT\n",
        "* NLPTown\n",
        "* RoBERTa15lg"
      ],
      "metadata": {
        "id": "frnJrT2F-DT5"
      }
    },
    {
      "cell_type": "code",
      "source": [
        "!ls -altr"
      ],
      "metadata": {
        "id": "tm1c-LgNPIQx"
      },
      "execution_count": null,
      "outputs": []
    },
    {
      "cell_type": "code",
      "source": [
        "def clean_filenames_with_max_n(substr_del_template=' ({n})'):\n",
        "    # Regex pattern to match the substring pattern \" ({n})\" where n is any integer\n",
        "    pattern = re.compile(r' \\((\\d+)\\)')\n",
        "\n",
        "    # Dictionary to store filenames with their highest \"n\" value\n",
        "    files_to_keep = {}\n",
        "\n",
        "    # Iterate over all files in the current directory\n",
        "    for filename in os.listdir('.'):\n",
        "        match = pattern.search(filename)\n",
        "        if match:\n",
        "            # Extract the number and the root filename (without the \" (n)\" part and the extension)\n",
        "            n_value = int(match.group(1))\n",
        "            root_filename = pattern.sub('', filename)\n",
        "            file_extension = os.path.splitext(filename)[1]\n",
        "            base_filename = root_filename + file_extension\n",
        "\n",
        "            # Keep only the file with the highest \"n\" value for each base filename\n",
        "            if base_filename not in files_to_keep or n_value > files_to_keep[base_filename][1]:\n",
        "                files_to_keep[base_filename] = (filename, n_value)\n",
        "\n",
        "    # Delete files that are not the one with the highest \"n\" value\n",
        "    for filename in os.listdir('.'):\n",
        "        match = pattern.search(filename)\n",
        "        if match:\n",
        "            n_value = int(match.group(1))\n",
        "            root_filename = pattern.sub('', filename)\n",
        "            file_extension = os.path.splitext(filename)[1]\n",
        "            base_filename = root_filename + file_extension\n",
        "\n",
        "            # If the current file is not the one to keep, delete it\n",
        "            if filename != files_to_keep[base_filename][0]:\n",
        "                print(f\"Deleting file: {filename}\")\n",
        "                os.remove(filename)\n",
        "            else:\n",
        "                # Rename the kept file to remove the \" (n)\" part\n",
        "                new_name = base_filename\n",
        "                if filename != new_name:\n",
        "                    print(f\"Renaming {filename} to {new_name}\")\n",
        "                    os.rename(filename, new_name)\n",
        "\n",
        "# Run the function\n",
        "clean_filenames_with_max_n()\n"
      ],
      "metadata": {
        "id": "lt0rKvKTPP4c"
      },
      "execution_count": null,
      "outputs": []
    },
    {
      "cell_type": "code",
      "source": [
        "!ls -altr"
      ],
      "metadata": {
        "id": "mgf7B916Pg3f"
      },
      "execution_count": null,
      "outputs": []
    },
    {
      "cell_type": "code",
      "source": [
        "def make_csv_list(filename_root):\n",
        "    # List of possible model names\n",
        "    model_ls = ['vader', 'textblob', 'syuzhetr', 'sentimentr', 'distilbert', 'nlptown', 'roberta15lg']\n",
        "\n",
        "    # Remove the file extension and extract the title_author part\n",
        "    filename_without_ext = os.path.splitext(filename_root)[0]\n",
        "    parts = filename_without_ext.split('_')\n",
        "    title_author = '_'.join(parts[1:3])  # Get both parts of title_author (e.g., \"the-great-gatsby_fscottfitzgerald\")\n",
        "\n",
        "    # Initialize an empty list to hold the found CSV files\n",
        "    csv_list = []\n",
        "\n",
        "    # Debugging information\n",
        "    print(f\"Looking for files with title_author: {title_author}\")\n",
        "\n",
        "    # Iterate through each model name and construct the expected filename\n",
        "    for model_name in model_ls:\n",
        "        # Construct the filename based on the pattern\n",
        "        csv_filename = f'book_{title_author}_{model_name}_sentiment.csv'\n",
        "\n",
        "        # Check if the file exists in the current directory\n",
        "        if os.path.isfile(csv_filename):\n",
        "            csv_list.append(csv_filename)\n",
        "        else:\n",
        "            print(f\"File not found: {csv_filename}\")\n",
        "\n",
        "    return csv_list\n",
        "\n",
        "# Example usage\n",
        "csv_list = make_csv_list('book_the-great-gatsby_fscottfitzgerald.csv')\n",
        "print(csv_list)\n"
      ],
      "metadata": {
        "id": "_ywwy_xDQJ4b"
      },
      "execution_count": null,
      "outputs": []
    },
    {
      "cell_type": "code",
      "source": [
        "models_sa_ls = ['TheIdiot_FyodorDostoyevsky_GutenbergOrg_syuzhetr.csv',\n",
        "                'TheIdiot_FyodorDostoyevsky_GutenbergOrg_vader.csv',\n",
        "                'TheIdiot_FyodorDostoyevsky_GutenbergOrg_textblob.csv',\n",
        "                'TheIdiot_FyodorDostoyevsky_GutenbergOrg_distilbert.csv',\n",
        "                'TheIdiot_FyodorDostoyevsky_GutenbergOrg_nlptown.csv',\n",
        "                'TheIdiot_FyodorDostoyevsky_GutenbergOrg_roberta15lg.csv']\n",
        "\n",
        "models_sa_ls = make_csv_list('book_the-great-gatsby_fscottfitzgerald.csv')\n",
        "for amodel in models_sa_ls:\n",
        "  print(amodel)"
      ],
      "metadata": {
        "id": "3u9x-VrY-DKz"
      },
      "execution_count": null,
      "outputs": []
    },
    {
      "cell_type": "code",
      "source": [
        "# models_sa_ls.remove('book_the-great-gatsby_fscottfitzgerald_sentimentr.csv')"
      ],
      "metadata": {
        "id": "ex7ICmHvTbRp"
      },
      "execution_count": null,
      "outputs": []
    },
    {
      "cell_type": "code",
      "source": [
        "sentimentr_df.info()"
      ],
      "metadata": {
        "id": "Gg01ywrsW1iH"
      },
      "execution_count": null,
      "outputs": []
    },
    {
      "cell_type": "code",
      "source": [
        "for amodel in models_sa_ls:\n",
        "  print(f\"\\n\\n{amodel}\")\n",
        "  temp_df = pd.read_csv(amodel)\n",
        "  print(temp_df.columns)"
      ],
      "metadata": {
        "id": "zpq4vACRS-cL"
      },
      "execution_count": null,
      "outputs": []
    },
    {
      "cell_type": "code",
      "source": [
        "sentiment_all_df = pd.read_csv(models_sa_ls[0])  # Start with vader\n",
        "\n",
        "for i, amodel in enumerate(models_sa_ls[1:]):\n",
        "    model_name_str = amodel.split('.')[0].split('_')[-1].lower().strip()\n",
        "    print(f'Model #{i}: {model_name_str}')\n",
        "\n",
        "    one_model_df = pd.read_csv(amodel)\n",
        "    print(f' Cols: {one_model_df.columns.to_list()}')\n",
        "\n",
        "    # Special handling for sentimentr which has different structure\n",
        "    if 'sentimentr' in model_name_str:\n",
        "        # Add line_no as index+1 since sentimentr is missing it\n",
        "        one_model_df['line_no'] = range(1, len(one_model_df) + 1)\n",
        "\n",
        "    # Remove unnecessary columns\n",
        "    cols_to_drop = ['line', 'label', 'score']\n",
        "    for col in cols_to_drop:\n",
        "        if col in one_model_df.columns:\n",
        "            one_model_df.drop(columns=[col], inplace=True)\n",
        "\n",
        "    # Rename sentiment column if it exists\n",
        "    if 'sentiment' in one_model_df.columns:\n",
        "        one_model_df.rename(columns={'sentiment': model_name_str}, inplace=True)\n",
        "\n",
        "    # Merge on line_no\n",
        "    sentiment_all_df = sentiment_all_df.merge(one_model_df, on='line_no')"
      ],
      "metadata": {
        "id": "_cs1LU-0X2gL"
      },
      "execution_count": null,
      "outputs": []
    },
    {
      "cell_type": "code",
      "source": [
        "sentiment_all_df.head()"
      ],
      "metadata": {
        "id": "gTTUtyueX2cu"
      },
      "execution_count": null,
      "outputs": []
    },
    {
      "cell_type": "code",
      "source": [
        "sentiment_all_df.info()"
      ],
      "metadata": {
        "id": "jGOKl_IsYQ1T"
      },
      "execution_count": null,
      "outputs": []
    },
    {
      "cell_type": "code",
      "source": [
        "def plot_all(sentiment_all_df):\n",
        "   \"\"\"\n",
        "   Plot all sentiment columns after z-score normalization, using SMA smoothing.\n",
        "   Window size is 10% of series length, with 5% edge extrapolation.\n",
        "   Includes mean of all series in black.\n",
        "\n",
        "   Parameters:\n",
        "   sentiment_all_df (pd.DataFrame): DataFrame containing sentiment columns and line_no\n",
        "   \"\"\"\n",
        "   import matplotlib.pyplot as plt\n",
        "   import seaborn as sns\n",
        "   from scipy import stats\n",
        "   import numpy as np\n",
        "   import pandas as pd\n",
        "\n",
        "   # Create a copy to avoid modifying the original dataframe\n",
        "   df = sentiment_all_df.copy()\n",
        "\n",
        "   # Get all columns except line_no\n",
        "   sentiment_cols = [col for col in df.columns if col != 'line_no']\n",
        "\n",
        "   # Convert columns to numeric, dropping any that can't be converted\n",
        "   numeric_cols = []\n",
        "   for col in sentiment_cols:\n",
        "       try:\n",
        "           df[col] = pd.to_numeric(df[col])\n",
        "           numeric_cols.append(col)\n",
        "       except (ValueError, TypeError):\n",
        "           print(f\"Warning: Dropping column '{col}' as it contains non-numeric values\")\n",
        "           continue\n",
        "\n",
        "   if not numeric_cols:\n",
        "       raise ValueError(\"No numeric columns found for plotting\")\n",
        "\n",
        "   # Calculate window size (10% of series length)\n",
        "   window_size = max(3, int(len(df) * 0.1))\n",
        "   # Calculate extrapolation size (5% of series length)\n",
        "   extrap_size = int(len(df) * 0.05)\n",
        "\n",
        "   # Create figure with appropriate size\n",
        "   plt.figure(figsize=(15, 8))\n",
        "\n",
        "   # Store smoothed series for calculating mean\n",
        "   all_smoothed = []\n",
        "   base_linewidth = 1.5  # Base line width for individual series\n",
        "\n",
        "   # Plot each sentiment column after z-normalization and smoothing\n",
        "   for col in numeric_cols:\n",
        "       # Z-normalize the column\n",
        "       z_scores = stats.zscore(df[col], nan_policy='omit')\n",
        "\n",
        "       # Create series for smoothing\n",
        "       series = pd.Series(z_scores)\n",
        "\n",
        "       # Extrapolate edges before smoothing\n",
        "       start_values = series[:extrap_size].values[::-1]\n",
        "       end_values = series[-extrap_size:].values[::-1]\n",
        "\n",
        "       # Create extended series\n",
        "       extended_series = pd.concat([\n",
        "           pd.Series(start_values),\n",
        "           series,\n",
        "           pd.Series(end_values)\n",
        "       ])\n",
        "\n",
        "       # Apply SMA\n",
        "       smoothed = extended_series.rolling(window=window_size, center=True).mean()\n",
        "\n",
        "       # Trim back to original size\n",
        "       smoothed = smoothed[extrap_size:-extrap_size]\n",
        "\n",
        "       # Store smoothed series for mean calculation\n",
        "       all_smoothed.append(smoothed)\n",
        "\n",
        "       # Plot with some transparency for better visibility when lines overlap\n",
        "       plt.plot(df['line_no'], smoothed, label=col, alpha=0.7, linewidth=base_linewidth)\n",
        "\n",
        "   # Calculate and plot mean of all series\n",
        "   mean_series = pd.concat(all_smoothed, axis=1).mean(axis=1)\n",
        "   plt.plot(df['line_no'], mean_series, label='Mean of All', color='black',\n",
        "            alpha=0.7, linewidth=base_linewidth*2)\n",
        "\n",
        "   # Customize the plot\n",
        "   plt.title(f'Z-normalized Sentiment Analysis Comparison\\n(SMA window: {window_size} lines, {extrap_size} lines extrapolated at edges)',\n",
        "             fontsize=14)\n",
        "   plt.xlabel('Line Number', fontsize=12)\n",
        "   plt.ylabel('Z-normalized Sentiment Score', fontsize=12)\n",
        "\n",
        "   # Add legend with smaller font and outside the plot\n",
        "   plt.legend(bbox_to_anchor=(1.05, 1), loc='upper left',\n",
        "             fontsize=10, borderaxespad=0.)\n",
        "\n",
        "   # Add grid for better readability\n",
        "   plt.grid(True, linestyle='--', alpha=0.7)\n",
        "\n",
        "   # Adjust layout to prevent legend cutoff\n",
        "   plt.tight_layout()\n",
        "\n",
        "   # Show the plot\n",
        "   plt.show()\n",
        "\n",
        "   # Print basic statistics\n",
        "   print(\"\\nCorrelation between different sentiment analyses:\")\n",
        "   correlation_matrix = df[numeric_cols].corr()\n",
        "\n",
        "   # Use seaborn to create a heatmap of correlations\n",
        "   plt.figure(figsize=(12, 10))\n",
        "   sns.heatmap(correlation_matrix, annot=True, cmap='RdBu', center=0, fmt='.2f')\n",
        "   plt.title('Correlation Matrix of Sentiment Analyses', fontsize=14)\n",
        "   plt.tight_layout()\n",
        "   plt.show()\n",
        "\n",
        "   # Print mean absolute differences between normalized scores\n",
        "   print(\"\\nMean absolute differences between normalized scores:\")\n",
        "   z_scores_df = df[numeric_cols].apply(lambda x: stats.zscore(x, nan_policy='omit'))\n",
        "\n",
        "   for i, col1 in enumerate(numeric_cols):\n",
        "       for col2 in numeric_cols[i+1:]:\n",
        "           mad = abs(z_scores_df[col1] - z_scores_df[col2]).mean()\n",
        "           print(f\"{col1} vs {col2}: {mad:.3f}\")\n",
        "\n",
        "   return df[numeric_cols]  # Return the numeric columns for further analysis if needed"
      ],
      "metadata": {
        "id": "A63beSXeXUkE"
      },
      "execution_count": null,
      "outputs": []
    },
    {
      "cell_type": "code",
      "source": [
        "plot_all(sentiment_all_df)"
      ],
      "metadata": {
        "id": "3QDKhAyKXUhl"
      },
      "execution_count": null,
      "outputs": []
    },
    {
      "cell_type": "code",
      "source": [],
      "metadata": {
        "id": "8mv6yC__gRS4"
      },
      "execution_count": null,
      "outputs": []
    }
  ]
}