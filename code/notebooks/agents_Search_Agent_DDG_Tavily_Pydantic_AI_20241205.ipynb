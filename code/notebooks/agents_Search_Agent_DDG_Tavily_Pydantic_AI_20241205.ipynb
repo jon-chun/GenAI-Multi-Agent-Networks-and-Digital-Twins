{
  "nbformat": 4,
  "nbformat_minor": 0,
  "metadata": {
    "colab": {
      "provenance": []
    },
    "kernelspec": {
      "name": "python3",
      "display_name": "Python 3"
    },
    "language_info": {
      "name": "python"
    }
  },
  "cells": [
    {
      "cell_type": "markdown",
      "source": [
        "* https://www.youtube.com/watch?v=MkqkiJgnDxk"
      ],
      "metadata": {
        "id": "-khin8AfWqkQ"
      }
    },
    {
      "cell_type": "markdown",
      "source": [
        "# Building a Research Agent with Pydantic AI."
      ],
      "metadata": {
        "id": "QYMN38rMsnJp"
      }
    },
    {
      "cell_type": "code",
      "execution_count": null,
      "metadata": {
        "id": "kBChdle68C3E",
        "colab": {
          "base_uri": "https://localhost:8080/"
        },
        "outputId": "edd08b32-c610-4939-fd27-6be908f95b38"
      },
      "outputs": [
        {
          "output_type": "stream",
          "name": "stdout",
          "text": [
            "\u001b[?25l   \u001b[90m━━━━━━━━━━━━━━━━━━━━━━━━━━━━━━━━━━━━━━━━\u001b[0m \u001b[32m0.0/57.3 kB\u001b[0m \u001b[31m?\u001b[0m eta \u001b[36m-:--:--\u001b[0m\r\u001b[2K   \u001b[91m━━━━━━━━━━━━━━━━━━━━━━━━━━━━━━━━━━━\u001b[0m\u001b[91m╸\u001b[0m\u001b[90m━━━━\u001b[0m \u001b[32m51.2/57.3 kB\u001b[0m \u001b[31m3.4 MB/s\u001b[0m eta \u001b[36m0:00:01\u001b[0m\r\u001b[2K   \u001b[90m━━━━━━━━━━━━━━━━━━━━━━━━━━━━━━━━━━━━━━━━\u001b[0m \u001b[32m57.3/57.3 kB\u001b[0m \u001b[31m1.1 MB/s\u001b[0m eta \u001b[36m0:00:00\u001b[0m\n",
            "\u001b[?25h\u001b[?25l   \u001b[90m━━━━━━━━━━━━━━━━━━━━━━━━━━━━━━━━━━━━━━━━\u001b[0m \u001b[32m0.0/209.5 kB\u001b[0m \u001b[31m?\u001b[0m eta \u001b[36m-:--:--\u001b[0m\r\u001b[2K   \u001b[90m━━━━━━━━━━━━━━━━━━━━━━━━━━━━━━━━━━━━━━━━\u001b[0m \u001b[32m209.5/209.5 kB\u001b[0m \u001b[31m8.3 MB/s\u001b[0m eta \u001b[36m0:00:00\u001b[0m\n",
            "\u001b[2K   \u001b[90m━━━━━━━━━━━━━━━━━━━━━━━━━━━━━━━━━━━━━━━━\u001b[0m \u001b[32m127.1/127.1 kB\u001b[0m \u001b[31m3.2 MB/s\u001b[0m eta \u001b[36m0:00:00\u001b[0m\n",
            "\u001b[2K   \u001b[90m━━━━━━━━━━━━━━━━━━━━━━━━━━━━━━━━━━━━━━━━\u001b[0m \u001b[32m108.8/108.8 kB\u001b[0m \u001b[31m6.7 MB/s\u001b[0m eta \u001b[36m0:00:00\u001b[0m\n",
            "\u001b[2K   \u001b[90m━━━━━━━━━━━━━━━━━━━━━━━━━━━━━━━━━━━━━━━━\u001b[0m \u001b[32m70.4/70.4 kB\u001b[0m \u001b[31m2.8 MB/s\u001b[0m eta \u001b[36m0:00:00\u001b[0m\n",
            "\u001b[?25h\u001b[31mERROR: pip's dependency resolver does not currently take into account all the packages that are installed. This behaviour is the source of the following dependency conflicts.\n",
            "google-colab 1.0.0 requires google-auth==2.27.0, but you have google-auth 2.36.0 which is incompatible.\u001b[0m\u001b[31m\n",
            "\u001b[2K   \u001b[90m━━━━━━━━━━━━━━━━━━━━━━━━━━━━━━━━━━━━━━━━\u001b[0m \u001b[32m3.0/3.0 MB\u001b[0m \u001b[31m34.6 MB/s\u001b[0m eta \u001b[36m0:00:00\u001b[0m\n",
            "\u001b[2K   \u001b[90m━━━━━━━━━━━━━━━━━━━━━━━━━━━━━━━━━━━━━━━━\u001b[0m \u001b[32m1.2/1.2 MB\u001b[0m \u001b[31m13.0 MB/s\u001b[0m eta \u001b[36m0:00:00\u001b[0m\n",
            "\u001b[?25h"
          ]
        }
      ],
      "source": [
        "!pip -q install pydantic-ai\n",
        "!pip -q install nest_asyncio\n",
        "!pip -q install devtools\n",
        "!pip -q install duckduckgo-search\n",
        "!pip -q install tavily-python"
      ]
    },
    {
      "cell_type": "markdown",
      "source": [
        "### **Restart the notebook**\n",
        "\n",
        "You will need to restart the notebook after you've installed Pydantic AI and the other dependencies above."
      ],
      "metadata": {
        "id": "N2rUPJxt4t-r"
      }
    },
    {
      "cell_type": "code",
      "source": [
        "import os\n",
        "from google.colab import userdata\n",
        "from IPython.display import display, Markdown\n",
        "\n",
        "os.environ[\"OPENAI_API_KEY\"] = userdata.get('OPENAI_API_KEY')\n",
        "os.environ[\"GEMINI_API_KEY\"] = userdata.get('GOOGLE_AI_STUDIO')\n",
        "os.environ[\"GROQ_API_KEY\"] = userdata.get('GROQ_API_KEY')\n",
        "os.environ[\"TAVILY_API_KEY\"] = userdata.get('TAVILY_API_KEY') # If you dont have this use the DDGS alternative below"
      ],
      "metadata": {
        "id": "icRZD-DW8JZf"
      },
      "execution_count": null,
      "outputs": []
    },
    {
      "cell_type": "code",
      "source": [
        "import nest_asyncio\n",
        "nest_asyncio.apply()"
      ],
      "metadata": {
        "id": "ZKpEfbHCO0b5"
      },
      "execution_count": null,
      "outputs": []
    },
    {
      "cell_type": "markdown",
      "source": [
        "## Setting Up search Tavily & DDGS\n",
        "\n",
        "I've put both Tavily search and DuckDuckGo search here. You should use DuckDuckGo search if you want a free alternative, but you can get an API key with Tavily which will also give you a number of free calls. Unfortunately, nowadays with DuckDuckGo search you often hit rate limits if you're not using a proxy system.\n",
        "\n",
        "No need to use both, just using one of these is fine."
      ],
      "metadata": {
        "id": "GUsfwyaIgVZE"
      }
    },
    {
      "cell_type": "markdown",
      "source": [
        "### DuckDuckGo Search"
      ],
      "metadata": {
        "id": "ZqoCgYrlsXCp"
      }
    },
    {
      "cell_type": "code",
      "source": [
        "from duckduckgo_search import DDGS ,AsyncDDGS\n",
        "\n",
        "results = DDGS().text(\"python programming\", max_results=5)\n",
        "print(results)"
      ],
      "metadata": {
        "colab": {
          "base_uri": "https://localhost:8080/"
        },
        "id": "4EbXQTPQgkxe",
        "outputId": "ce47092a-db14-4c97-cac9-7e400da5c24f"
      },
      "execution_count": null,
      "outputs": [
        {
          "output_type": "stream",
          "name": "stdout",
          "text": [
            "[{'title': 'Welcome to Python.org', 'href': 'https://www.python.org/', 'body': 'Python is a programming language that lets you work quickly and integrate systems more effectively. Learn More. ⚡🐍⚡ Power Python with a 30% discount on PyCharm- all proceeds go to the Python Software Foundation. Offer ends soon, so grab it today! GET 30% OFF PYCHARM.'}, {'title': 'Python For Beginners | Python.org', 'href': 'https://www.python.org/about/gettingstarted/', 'body': 'Learn how to get started with Python, a popular and easy-to-use programming language. Find out how to install, edit, and use Python, and explore its libraries, documentation, and community resources.'}, {'title': 'Python Tutorial - W3Schools', 'href': 'https://www.w3schools.com/python/', 'body': 'W3Schools offers a comprehensive and interactive Python tutorial with examples, exercises, quizzes, and references. You can learn Python basics, web applications, file handling, database handling, and more.'}, {'title': 'Python (programming language) - Wikipedia', 'href': 'https://en.wikipedia.org/wiki/Python_(programming_language)', 'body': 'Python is a high-level, general-purpose programming language.Its design philosophy emphasizes code readability with the use of significant indentation. [32]Python is dynamically typed and garbage-collected.It supports multiple programming paradigms, including structured (particularly procedural), object-oriented and functional programming.It is often described as a \"batteries included ...'}, {'title': 'Learn Python Programming', 'href': 'https://www.programiz.com/python-programming', 'body': 'A comprehensive guide to learn Python, one of the top programming languages in the world, widely used in AI, data science, and web development. Find free tutorials, interactive courses, online compiler, and career tips for beginners and advanced learners.'}]\n"
          ]
        }
      ]
    },
    {
      "cell_type": "code",
      "source": [
        "results = AsyncDDGS().text(\"python programming\", max_results=5)\n",
        "print(results)"
      ],
      "metadata": {
        "colab": {
          "base_uri": "https://localhost:8080/"
        },
        "id": "NnKZqQvsoB0j",
        "outputId": "eab369cb-e3c2-4673-c218-679f31c098ed"
      },
      "execution_count": null,
      "outputs": [
        {
          "output_type": "stream",
          "name": "stdout",
          "text": [
            "[{'title': 'Welcome to Python.org', 'href': 'https://www.python.org/', 'body': 'Python is a programming language that lets you work quickly and integrate systems more effectively. Learn More. ⚡🐍⚡ Power Python with a 30% discount on PyCharm- all proceeds go to the Python Software Foundation. Offer ends soon, so grab it today! GET 30% OFF PYCHARM.'}, {'title': 'Python For Beginners | Python.org', 'href': 'https://www.python.org/about/gettingstarted/', 'body': 'Learn how to get started with Python, a popular and easy-to-use programming language. Find out how to install, edit, and use Python, and explore its libraries, documentation, and community resources.'}, {'title': 'Python (programming language) - Wikipedia', 'href': 'https://en.wikipedia.org/wiki/Python_(programming_language)', 'body': 'Python is a high-level, general-purpose programming language.Its design philosophy emphasizes code readability with the use of significant indentation. [32]Python is dynamically typed and garbage-collected.It supports multiple programming paradigms, including structured (particularly procedural), object-oriented and functional programming.It is often described as a \"batteries included ...'}, {'title': 'Python Tutorial - W3Schools', 'href': 'https://www.w3schools.com/python/', 'body': 'W3Schools offers a comprehensive and interactive Python tutorial with examples, exercises, quizzes, and references. You can learn Python basics, web applications, file handling, database handling, and more.'}, {'title': 'Learn Python Programming', 'href': 'https://www.programiz.com/python-programming', 'body': 'A comprehensive guide to learn Python, one of the top programming languages in the world, widely used in AI, data science, and web development. Find free tutorials, interactive courses, online compiler, and career tips for beginners and advanced learners.'}]\n"
          ]
        }
      ]
    },
    {
      "cell_type": "code",
      "source": [
        "results = await AsyncDDGS().achat('describe the characteristic habits and behaviors of humans as a species')\n",
        "print(results)"
      ],
      "metadata": {
        "id": "bVuVSlL-tORa",
        "colab": {
          "base_uri": "https://localhost:8080/"
        },
        "outputId": "60a6576d-1f09-45f7-e813-c1e7182533be"
      },
      "execution_count": null,
      "outputs": [
        {
          "output_type": "stream",
          "name": "stdout",
          "text": [
            "Humans exhibit a wide range of characteristic habits and behaviors that are shaped by biological, social, and cultural factors. Here are some key aspects:\n",
            "\n",
            "1. **Social Interaction**: Humans are inherently social beings. They form complex social structures, including families, communities, and nations. Social interaction is fundamental to human life, influencing emotional well-being and identity.\n",
            "\n",
            "2. **Communication**: Humans have developed sophisticated language systems, allowing for nuanced communication. This includes verbal and non-verbal forms, such as body language, gestures, and written communication.\n",
            "\n",
            "3. **Tool Use**: Humans are known for their ability to create and use tools. This behavior has evolved over time, leading to advancements in technology that enhance survival and improve quality of life.\n",
            "\n",
            "4. **Cultural Practices**: Humans create and participate in diverse cultural practices, including rituals, traditions, art, and music. Culture shapes values, beliefs, and behaviors, providing a sense of identity and belonging.\n",
            "\n",
            "5. **Learning and Adaptation**: Humans have a strong capacity for learning, both from direct experience and through observation. This adaptability allows them to thrive in various environments and situations.\n",
            "\n",
            "6. **Emotional Expression**: Humans experience a wide range of emotions and have developed ways to express and manage these feelings. Emotional intelligence plays a crucial role in social interactions and relationships.\n",
            "\n",
            "7. **Altruism and Cooperation**: While competition exists, humans often engage in altruistic behaviors, helping others and cooperating for mutual benefit. This is evident in community support, charitable actions, and teamwork.\n",
            "\n",
            "8. **Play and Recreation**: Play is an important aspect of human behavior, especially in childhood. It fosters creativity, social skills, and cognitive development. Adults also engage in recreational activities for relaxation and enjoyment.\n",
            "\n",
            "9. **Rituals and Beliefs**: Many humans engage in rituals and hold beliefs that provide meaning and structure to their lives. This can include religious practices, celebrations, and personal routines.\n",
            "\n",
            "10. **Exploration and Curiosity**: Humans have an innate curiosity and desire to explore their environment. This drive has led to discoveries in science, geography, and the arts, pushing the boundaries of knowledge.\n",
            "\n",
            "These habits and behaviors are not universal and can vary significantly across different cultures and societies, but they collectively contribute to the unique nature of humanity.\n"
          ]
        }
      ]
    },
    {
      "cell_type": "markdown",
      "source": [
        "### Tavily Search"
      ],
      "metadata": {
        "id": "4CEVVhRnscdr"
      }
    },
    {
      "cell_type": "code",
      "source": [
        "from tavily import TavilyClient, AsyncTavilyClient\n",
        "\n",
        "# Setup the Tavily Client\n",
        "tavily_client = AsyncTavilyClient(api_key=os.environ[\"TAVILY_API_KEY\"])\n",
        "\n",
        "# Simple Search\n",
        "response = await tavily_client.search(\"Who is Leo Messi?\", max_results=3)\n",
        "\n",
        "print(response['results'])"
      ],
      "metadata": {
        "colab": {
          "base_uri": "https://localhost:8080/"
        },
        "id": "v3r_wxilsepA",
        "outputId": "6593d849-0589-4349-da3a-a92a91c963ad"
      },
      "execution_count": null,
      "outputs": [
        {
          "output_type": "stream",
          "name": "stdout",
          "text": [
            "[{'title': 'Career of Lionel Messi - Wikipedia', 'url': 'https://en.wikipedia.org/wiki/Career_of_Lionel_Messi', 'content': \"Lionel Messi is an Argentine professional footballer who plays as a forward for and captains both Major League Soccer club Inter Miami and the Argentina national team.His individual achievements include eight Ballon d'Or awards, the most for any footballer. Having won 45 team trophies, [note 1] he is the most decorated player in the history of professional football. [11]\", 'score': 0.9970765, 'raw_content': None}, {'title': 'Lionel Messi: The evolution of the greatest footballer of all time', 'url': 'https://www.nytimes.com/athletic/4679809/2023/07/19/lionel-messi-evolution-barcelona-argentina/', 'content': \"Lionel Messi profile: The life and times of Inter Miami's World Cup winner; The Dribbling Winger. Next time you've got a minute to reconsider whether you've ever truly been good at anything,\", 'score': 0.90515476, 'raw_content': None}, {'title': \"Lionel Messi | Records, Height, Ballon d'Or, Inter Miami, & Facts ...\", 'url': 'https://www.britannica.com/biography/Lionel-Messi', 'content': 'In early 2009 Messi capped off a spectacular 2008–09 season by helping FC Barcelona capture the club’s first “treble” (winning three major European club titles in one season): the team won the La Liga championship, the Copa del Rey (Spain’s major domestic cup), and the Champions League title. Messi’s play continued to rapidly improve over the years, and by 2008 he was one of the most dominant players in the world, finishing second to Manchester United’s Cristiano Ronaldo in the voting for the 2008 Ballon d’Or. At the 2014 World Cup, Messi put on a dazzling display, scoring four goals and almost single-handedly propelling an offense-deficient Argentina team through the group stage and into the knockout rounds, where Argentina then advanced to the World Cup final for the first time in 24 years. After Argentina was defeated in the Copa final—the team’s third consecutive finals loss in a major tournament—Messi said that he was quitting the national team, but his short-lived “retirement” lasted less than two months before he announced his return to the Argentine team. Messi helped Barcelona capture another treble during the 2014–15 season, leading the team with 43 goals scored over the course of the campaign, which resulted in his fifth world player of the year honour.', 'score': 0.8749346, 'raw_content': None}]\n"
          ]
        }
      ]
    },
    {
      "cell_type": "code",
      "source": [
        "# Responses\n",
        "for result in response['results']:\n",
        "    print(result['title'])\n",
        "    print(result['content'])\n",
        "    print('\\n')"
      ],
      "metadata": {
        "colab": {
          "base_uri": "https://localhost:8080/"
        },
        "id": "KRc-tLALv6CP",
        "outputId": "2493dbfd-ac2f-437b-d05f-e51455fb354d"
      },
      "execution_count": null,
      "outputs": [
        {
          "output_type": "stream",
          "name": "stdout",
          "text": [
            "Career of Lionel Messi - Wikipedia\n",
            "Lionel Messi is an Argentine professional footballer who plays as a forward for and captains both Major League Soccer club Inter Miami and the Argentina national team.His individual achievements include eight Ballon d'Or awards, the most for any footballer. Having won 45 team trophies, [note 1] he is the most decorated player in the history of professional football. [11]\n",
            "\n",
            "\n",
            "Lionel Messi: The evolution of the greatest footballer of all time\n",
            "Lionel Messi profile: The life and times of Inter Miami's World Cup winner; The Dribbling Winger. Next time you've got a minute to reconsider whether you've ever truly been good at anything,\n",
            "\n",
            "\n",
            "Lionel Messi | Records, Height, Ballon d'Or, Inter Miami, & Facts ...\n",
            "In early 2009 Messi capped off a spectacular 2008–09 season by helping FC Barcelona capture the club’s first “treble” (winning three major European club titles in one season): the team won the La Liga championship, the Copa del Rey (Spain’s major domestic cup), and the Champions League title. Messi’s play continued to rapidly improve over the years, and by 2008 he was one of the most dominant players in the world, finishing second to Manchester United’s Cristiano Ronaldo in the voting for the 2008 Ballon d’Or. At the 2014 World Cup, Messi put on a dazzling display, scoring four goals and almost single-handedly propelling an offense-deficient Argentina team through the group stage and into the knockout rounds, where Argentina then advanced to the World Cup final for the first time in 24 years. After Argentina was defeated in the Copa final—the team’s third consecutive finals loss in a major tournament—Messi said that he was quitting the national team, but his short-lived “retirement” lasted less than two months before he announced his return to the Argentine team. Messi helped Barcelona capture another treble during the 2014–15 season, leading the team with 43 goals scored over the course of the campaign, which resulted in his fifth world player of the year honour.\n",
            "\n",
            "\n"
          ]
        }
      ]
    },
    {
      "cell_type": "code",
      "source": [
        "# RAG Context search\n",
        "\n",
        "# Context Search\n",
        "context = await tavily_client.get_search_context(query=\"Who is Leo Messi?\", max_results=3)\n",
        "\n",
        "print(context)"
      ],
      "metadata": {
        "colab": {
          "base_uri": "https://localhost:8080/"
        },
        "id": "q2WhsgwstOFq",
        "outputId": "47c0df72-1191-409b-d0c0-5a0300a1b377"
      },
      "execution_count": null,
      "outputs": [
        {
          "output_type": "stream",
          "name": "stdout",
          "text": [
            "\"[\\\"{\\\\\\\"url\\\\\\\": \\\\\\\"https://en.wikipedia.org/wiki/Career_of_Lionel_Messi\\\\\\\", \\\\\\\"content\\\\\\\": \\\\\\\"Lionel Messi is an Argentine professional footballer who plays as a forward for and captains both Major League Soccer club Inter Miami and the Argentina national team.His individual achievements include eight Ballon d'Or awards, the most for any footballer. Having won 45 team trophies, [note 1] he is the most decorated player in the history of professional football. [11]\\\\\\\"}\\\", \\\"{\\\\\\\"url\\\\\\\": \\\\\\\"https://www.thefamouspeople.com/profiles/lionel-messi-5242.php\\\\\\\", \\\\\\\"content\\\\\\\": \\\\\\\"Lionel Messi has won multiple FIFA Ballon d'Or awards, numerous La Liga titles with FC Barcelona, and holds the record for most goals scored in a calendar year. In the finals too Messi scored the winning goal to give Barcelona their third title in six years and fourth overall. In the 2018 Football World Cup Messi scored a goal in the Argentina's final group match against Nigeria and helped his team to a 2-1 victory. Messi has in his kitty 20 Player of the Year awards including FIFA World Player of the Year (1), World Soccer Player of the Year (3), Goal.com Player of the Year (2), UEFA Best Player in Europe Award (1), UEFA Club Footballer of the Year (1), FIFA U-20 World Cup Player of the Tournament (1), La Liga Player of the Year (3), La Liga Foreign Player of the Year (3) and La Liga Ibero-American Player of the Year (5).\\\\\\\"}\\\", \\\"{\\\\\\\"url\\\\\\\": \\\\\\\"https://www.nytimes.com/athletic/4679809/2023/07/19/lionel-messi-evolution-barcelona-argentina/\\\\\\\", \\\\\\\"content\\\\\\\": \\\\\\\"Lionel Messi profile: The life and times of Inter Miami's World Cup winner; The Dribbling Winger. Next time you've got a minute to reconsider whether you've ever truly been good at anything,\\\\\\\"}\\\"]\"\n"
          ]
        }
      ]
    },
    {
      "cell_type": "markdown",
      "source": [
        "## Setting up the Agent & Tools"
      ],
      "metadata": {
        "id": "Gkm255ZBsu9e"
      }
    },
    {
      "cell_type": "code",
      "source": [
        "from __future__ import annotations as _annotations\n",
        "\n",
        "import asyncio\n",
        "import os\n",
        "from dataclasses import dataclass\n",
        "from typing import Any\n",
        "\n",
        "from devtools import debug\n",
        "from httpx import AsyncClient\n",
        "import datetime\n",
        "\n",
        "from pydantic_ai import Agent, ModelRetry, RunContext\n",
        "from pydantic import BaseModel, Field"
      ],
      "metadata": {
        "id": "p-vqnUv4lfM5"
      },
      "execution_count": null,
      "outputs": []
    },
    {
      "cell_type": "code",
      "source": [
        "@dataclass\n",
        "class SearchDataclass:\n",
        "    max_results: int\n",
        "    todays_date: str\n",
        "\n",
        "@dataclass\n",
        "class ResearchDependencies:\n",
        "    todays_date: str\n",
        "\n",
        "class ResearchResult(BaseModel):\n",
        "    research_title: str = Field(description='This is a top level Markdown heading that covers the topic of the query and answer prefix it with #')\n",
        "    research_main: str = Field(description='This is a main section that provides answers for the query and research')\n",
        "    research_bullets: str = Field(description='This is a set of bulletpoints that summarize the answers for query')"
      ],
      "metadata": {
        "id": "q0Jxftii2JSg"
      },
      "execution_count": null,
      "outputs": []
    },
    {
      "cell_type": "code",
      "source": [
        "## Make the agent\n",
        "search_agent = Agent(  'openai:gpt-4o',\n",
        "                     deps_type=ResearchDependencies,\n",
        "                     result_type=ResearchResult,\n",
        "                     system_prompt='Your a helpful research assistant, you are an expert in research '\n",
        "                     'If you are given a question you write strong keywords to do 3-5 searches in total '\n",
        "                     '(each with a query_number) and then combine the results', )\n"
      ],
      "metadata": {
        "id": "F87pJ01UnB8j"
      },
      "execution_count": null,
      "outputs": []
    },
    {
      "cell_type": "code",
      "source": [
        "@search_agent.tool #Tavily\n",
        "async def get_search(search_data:RunContext[SearchDataclass],query: str, query_number: int) -> dict[str, Any]:\n",
        "    \"\"\"Get the search for a keyword query.\n",
        "\n",
        "    Args:\n",
        "        query: keywords to search.\n",
        "    \"\"\"\n",
        "    print(f\"Search query {query_number}: {query}\")\n",
        "    max_results = search_data.deps.max_results\n",
        "    results = await tavily_client.get_search_context(query=query, max_results=max_results)\n",
        "\n",
        "    return results\n"
      ],
      "metadata": {
        "id": "OuX8DCKguKVG"
      },
      "execution_count": null,
      "outputs": []
    },
    {
      "cell_type": "markdown",
      "source": [
        "#### Uncomment this for the DDGS version"
      ],
      "metadata": {
        "id": "zStn8UCn0udh"
      }
    },
    {
      "cell_type": "code",
      "source": [
        "# @search_agent.tool # DDGS\n",
        "# async def get_search(search_data:RunContext[SearchDataclass],query: str) -> dict[str, Any]:\n",
        "#     \"\"\"Get the search for a keyword query.\n",
        "\n",
        "#     Args:\n",
        "#         query: keywords to search.\n",
        "#     \"\"\"\n",
        "#     print(f\"Search query: {query}\")\n",
        "#     max_results = search_data.deps.max_results\n",
        "#     results = await AsyncDDGS(proxy=None).atext(query, max_results=max_results)\n",
        "\n",
        "#     return results"
      ],
      "metadata": {
        "id": "lNCOYz7HtRJ7"
      },
      "execution_count": null,
      "outputs": []
    },
    {
      "cell_type": "code",
      "source": [
        "## set up the dependencies\n",
        "\n",
        "# Get the current date\n",
        "current_date = datetime.date.today()\n",
        "\n",
        "# Convert the date to a string\n",
        "date_string = current_date.strftime(\"%Y-%m-%d\")\n",
        "\n",
        "\n",
        "deps = SearchDataclass(max_results=3, todays_date=date_string)\n",
        "\n"
      ],
      "metadata": {
        "id": "YUMBK_Mc_2hz"
      },
      "execution_count": null,
      "outputs": []
    },
    {
      "cell_type": "code",
      "source": [
        "result = await search_agent.run(\n",
        "    'can you give me a very detailed bio of Sam Altman?', deps=deps\n",
        ")"
      ],
      "metadata": {
        "colab": {
          "base_uri": "https://localhost:8080/"
        },
        "id": "R984pSOJ4xQe",
        "outputId": "6bff9ae4-048b-425b-d6c4-8ca7d23d73ad"
      },
      "execution_count": null,
      "outputs": [
        {
          "output_type": "stream",
          "name": "stdout",
          "text": [
            "Search query 1: Sam Altman biography early life\n",
            "Search query 2: Sam Altman career OpenAI Y Combinator\n",
            "Search query 3: Sam Altman achievements and contributions\n",
            "Search query 4: Sam Altman personal life and philanthropy\n"
          ]
        }
      ]
    },
    {
      "cell_type": "code",
      "source": [
        "print(result.data)"
      ],
      "metadata": {
        "colab": {
          "base_uri": "https://localhost:8080/"
        },
        "id": "TLnmlWyV72Cf",
        "outputId": "cc69f2af-8726-4536-b2d6-a9eb123b4cd5"
      },
      "execution_count": null,
      "outputs": [
        {
          "output_type": "stream",
          "name": "stdout",
          "text": [
            "research_title='Sam Altman: An In-depth Biography of a Visionary Leader' research_main=\"Sam Altman was born on April 22, 1985, in Chicago, Illinois, and was raised in St. Louis, Missouri. From an early age, he displayed a keen interest in technology, learning how to code at the age of 8. Educated at Stanford University, Altman studied computer science but left after two years to pursue entrepreneurial ventures.\\n\\nIn the early 2000s, Altman co-founded Loopt, a location-based social networking mobile app, which was later acquired. His career took a turn when he joined Y Combinator, a notable startup accelerator, in 2011. By 2014, he became its president, nurturing startups like Airbnb, Dropbox, and Reddit, and leading the establishment of Y Combinator Continuity, a $700 million equity fund.\\n\\nAltman made a significant impact as the CEO of OpenAI, an artificial intelligence research organization, since 2019. During his tenure, he helped transform OpenAI into a leader in the AI field, tackling complex issues associated with AI development. Besides his leadership roles, Altman is also an investor with interests ranging from tech startups to nuclear energy.\\n\\nAltman's influence extends beyond business, as he actively contributes to safeguarding technological advancement through philanthropy. He joined the Giving Pledge, promising to donate a substantial portion of his wealth to charitable causes. Known for his vision and strategic foresight, he endeavors to shape a future where technology serves the greater good.\" research_bullets='- Born on April 22, 1985, in Chicago, and grew up in St. Louis, Missouri.\\n- Attended Stanford University, studied computer science, dropped out to pursue entrepreneurship.\\n- Co-founded Loopt, worked at Y Combinator, became its president in 2014.\\n- Led the creation of Y Combinator Continuity Fund.\\n- CEO of OpenAI, transforming it into an AI leader.\\n- Active investor in tech and nuclear energy.\\n- Signed the Giving Pledge, promising to donate over half of his wealth to charity.'\n"
          ]
        }
      ]
    },
    {
      "cell_type": "code",
      "source": [
        "result.data.research_title = '#'+result.data.research_title\n",
        "print(result.data.research_title)"
      ],
      "metadata": {
        "colab": {
          "base_uri": "https://localhost:8080/"
        },
        "id": "m8Jf8MX177a4",
        "outputId": "394b323c-d29f-4f74-b0f5-6cb0d283de48"
      },
      "execution_count": null,
      "outputs": [
        {
          "output_type": "stream",
          "name": "stdout",
          "text": [
            "#Sam Altman: An In-depth Biography of a Visionary Leader\n"
          ]
        }
      ]
    },
    {
      "cell_type": "code",
      "source": [
        "print(result.data.research_main)"
      ],
      "metadata": {
        "colab": {
          "base_uri": "https://localhost:8080/"
        },
        "id": "1ElYwhOz8FRX",
        "outputId": "49842c9c-5aa3-4627-b6af-b4677e720a3d"
      },
      "execution_count": null,
      "outputs": [
        {
          "output_type": "stream",
          "name": "stdout",
          "text": [
            "Sam Altman was born on April 22, 1985, in Chicago, Illinois, and was raised in St. Louis, Missouri. From an early age, he displayed a keen interest in technology, learning how to code at the age of 8. Educated at Stanford University, Altman studied computer science but left after two years to pursue entrepreneurial ventures.\n",
            "\n",
            "In the early 2000s, Altman co-founded Loopt, a location-based social networking mobile app, which was later acquired. His career took a turn when he joined Y Combinator, a notable startup accelerator, in 2011. By 2014, he became its president, nurturing startups like Airbnb, Dropbox, and Reddit, and leading the establishment of Y Combinator Continuity, a $700 million equity fund.\n",
            "\n",
            "Altman made a significant impact as the CEO of OpenAI, an artificial intelligence research organization, since 2019. During his tenure, he helped transform OpenAI into a leader in the AI field, tackling complex issues associated with AI development. Besides his leadership roles, Altman is also an investor with interests ranging from tech startups to nuclear energy.\n",
            "\n",
            "Altman's influence extends beyond business, as he actively contributes to safeguarding technological advancement through philanthropy. He joined the Giving Pledge, promising to donate a substantial portion of his wealth to charitable causes. Known for his vision and strategic foresight, he endeavors to shape a future where technology serves the greater good.\n"
          ]
        }
      ]
    },
    {
      "cell_type": "code",
      "source": [
        "print(result.data.research_bullets)"
      ],
      "metadata": {
        "colab": {
          "base_uri": "https://localhost:8080/"
        },
        "id": "rIeHqBPV8HGo",
        "outputId": "996deb48-8d0d-49c1-8507-fce187f7482a"
      },
      "execution_count": null,
      "outputs": [
        {
          "output_type": "stream",
          "name": "stdout",
          "text": [
            "- Born on April 22, 1985, in Chicago, and grew up in St. Louis, Missouri.\n",
            "- Attended Stanford University, studied computer science, dropped out to pursue entrepreneurship.\n",
            "- Co-founded Loopt, worked at Y Combinator, became its president in 2014.\n",
            "- Led the creation of Y Combinator Continuity Fund.\n",
            "- CEO of OpenAI, transforming it into an AI leader.\n",
            "- Active investor in tech and nuclear energy.\n",
            "- Signed the Giving Pledge, promising to donate over half of his wealth to charity.\n"
          ]
        }
      ]
    },
    {
      "cell_type": "code",
      "source": [
        "\n",
        "combined_markdown = \"\\n\\n\".join([result.data.research_title, result.data.research_main, result.data.research_bullets])\n",
        "\n",
        "Markdown(combined_markdown)"
      ],
      "metadata": {
        "colab": {
          "base_uri": "https://localhost:8080/",
          "height": 419
        },
        "id": "csRIddVBHMZG",
        "outputId": "39a3c9f1-69f9-433e-f9a2-9ffee4524dd5"
      },
      "execution_count": null,
      "outputs": [
        {
          "output_type": "execute_result",
          "data": {
            "text/plain": [
              "<IPython.core.display.Markdown object>"
            ],
            "text/markdown": "#Sam Altman: An In-depth Biography of a Visionary Leader\n\nSam Altman was born on April 22, 1985, in Chicago, Illinois, and was raised in St. Louis, Missouri. From an early age, he displayed a keen interest in technology, learning how to code at the age of 8. Educated at Stanford University, Altman studied computer science but left after two years to pursue entrepreneurial ventures.\n\nIn the early 2000s, Altman co-founded Loopt, a location-based social networking mobile app, which was later acquired. His career took a turn when he joined Y Combinator, a notable startup accelerator, in 2011. By 2014, he became its president, nurturing startups like Airbnb, Dropbox, and Reddit, and leading the establishment of Y Combinator Continuity, a $700 million equity fund.\n\nAltman made a significant impact as the CEO of OpenAI, an artificial intelligence research organization, since 2019. During his tenure, he helped transform OpenAI into a leader in the AI field, tackling complex issues associated with AI development. Besides his leadership roles, Altman is also an investor with interests ranging from tech startups to nuclear energy.\n\nAltman's influence extends beyond business, as he actively contributes to safeguarding technological advancement through philanthropy. He joined the Giving Pledge, promising to donate a substantial portion of his wealth to charitable causes. Known for his vision and strategic foresight, he endeavors to shape a future where technology serves the greater good.\n\n- Born on April 22, 1985, in Chicago, and grew up in St. Louis, Missouri.\n- Attended Stanford University, studied computer science, dropped out to pursue entrepreneurship.\n- Co-founded Loopt, worked at Y Combinator, became its president in 2014.\n- Led the creation of Y Combinator Continuity Fund.\n- CEO of OpenAI, transforming it into an AI leader.\n- Active investor in tech and nuclear energy.\n- Signed the Giving Pledge, promising to donate over half of his wealth to charity."
          },
          "metadata": {},
          "execution_count": 34
        }
      ]
    },
    {
      "cell_type": "code",
      "source": [
        "debug(result)"
      ],
      "metadata": {
        "id": "1sv7GpvzqVYM"
      },
      "execution_count": null,
      "outputs": []
    },
    {
      "cell_type": "code",
      "source": [
        "result = await search_agent.run(\n",
        "    'What is the latest AI News?', deps=deps\n",
        ")"
      ],
      "metadata": {
        "colab": {
          "base_uri": "https://localhost:8080/"
        },
        "outputId": "ca3c7fbd-075f-4f2f-bfcf-34dd468a7abf",
        "id": "X9mgeULM5c_P"
      },
      "execution_count": null,
      "outputs": [
        {
          "output_type": "stream",
          "name": "stdout",
          "text": [
            "Search query 1: latest AI news October 2023\n",
            "Search query 2: new AI developments October 2023\n",
            "Search query 3: AI breakthroughs October 2023\n"
          ]
        }
      ]
    },
    {
      "cell_type": "code",
      "source": [
        "print(result.data)"
      ],
      "metadata": {
        "colab": {
          "base_uri": "https://localhost:8080/"
        },
        "outputId": "325b395f-c1af-4171-df50-4f115a0c0c3b",
        "id": "heajKGCi5c_Q"
      },
      "execution_count": null,
      "outputs": [
        {
          "output_type": "stream",
          "name": "stdout",
          "text": [
            "Here is a summary of the latest AI news and developments from October 2023:\n",
            "\n",
            "1. **AI Developments:**\n",
            "   - October 2023 marked significant advancements in AI technologies and applications. [Mind Benders](https://mind-benders.github.io/blog/p/tmai-october-2023/) and other sources highlight these novel developments.\n",
            "\n",
            "2. **AI Tools and Applications:**\n",
            "   - Canva introduced AI-powered design tools, while Amazon made strides with AI image generation, showcasing the integration of AI in creative tools. [Everypixel Journal](https://journal.everypixel.com/top-ai-news-october-2023) covers these stories.\n",
            "\n",
            "3. **Generative AI Adoption:**\n",
            "   - Gartner predicts extensive use of generative AI APIs and applications, with over 80% of enterprises expected to adopt these technologies by 2026. Discussions at the Gartner IT Symposium/Xpo highlight the fast-paced development of generative AI tools. [Gartner](https://www.gartner.com/en/newsroom/press-releases/2023-10-11-gartner-says-more-than-80-percent-of-enterprises-will-have-used-generative-ai-apis-or-deployed-generative-ai-enabled-applications-by-2026) provides further insights.\n",
            "\n",
            "4. **Breakthrough Technologies:**\n",
            "   - October saw AI breakthroughs in diverse fields, including deep learning, reinforcement learning, and generative adversarial networks. [Toolify.ai](https://www.toolify.ai/ai-news/top-10-ai-breakthroughs-october-2023-2613333) lists the top AI breakthroughs.\n",
            "\n",
            "5. **AI Safety and Regulation:**\n",
            "   - Concerns around AI safety and security are intensifying as generative AI becomes more prevalent. AI regulations, such as the US AI Bill of Rights and the EU's AI Act, are being developed to address these issues. [Forbes](https://www.forbes.com/sites/nishatalagala/2024/01/31/top-ai-developments-of-2023/) discusses these regulatory developments.\n",
            "\n",
            "These updates reflect both technological advancements and regulatory challenges as AI continues to evolve and integrate into various sectors.\n"
          ]
        }
      ]
    },
    {
      "cell_type": "markdown",
      "source": [
        "## Add in the date"
      ],
      "metadata": {
        "id": "AH9Xno_gA0I-"
      }
    },
    {
      "cell_type": "code",
      "source": [
        "@search_agent.system_prompt\n",
        "async def add_current_date(ctx: RunContext[ResearchDependencies]) -> str:\n",
        "    todays_date = ctx.deps.todays_date\n",
        "    system_prompt=f'Your a helpful research assistant, you are an expert in research \\\n",
        "                If you are given a question you write strong keywords to do 3-5 searches in total \\\n",
        "                (each with a query_number) and then combine the results \\\n",
        "                if you need todays date it is {todays_date}'\n",
        "    return system_prompt"
      ],
      "metadata": {
        "id": "Y53dieyuk24n"
      },
      "execution_count": null,
      "outputs": []
    },
    {
      "cell_type": "code",
      "source": [
        "result = await search_agent.run(\n",
        "    'What are the major AI News announcements in the last few days?', deps=deps\n",
        ")"
      ],
      "metadata": {
        "colab": {
          "base_uri": "https://localhost:8080/"
        },
        "id": "RD3z_a9WA2CI",
        "outputId": "4ac6ce2e-cba6-4fca-cec4-f72c71e186d0"
      },
      "execution_count": null,
      "outputs": [
        {
          "output_type": "stream",
          "name": "stdout",
          "text": [
            "Search query 1: AI news announcements December 2024\n",
            "Search query 2: recent AI developments December 2024\n",
            "Search query 3: latest AI advancements December 2024\n"
          ]
        }
      ]
    },
    {
      "cell_type": "code",
      "source": [
        "print(result.data)"
      ],
      "metadata": {
        "colab": {
          "base_uri": "https://localhost:8080/"
        },
        "outputId": "d989e740-ea81-4864-f3d9-a0b83ac9672d",
        "id": "WUgREI2MBR5p"
      },
      "execution_count": null,
      "outputs": [
        {
          "output_type": "stream",
          "name": "stdout",
          "text": [
            "research_title='Recent AI News Announcements December 2024' research_main=\"In the beginning of December 2024, several significant announcements and developments have characterized the rapidly evolving landscape of artificial intelligence. OpenAI has come into the spotlight with its '12 days of shipmas,' unveiling a range of new features and products over a two-week period. This includes potential advancements such as the public release of a text-to-video model named Sora and a reasoning AI model. Additionally, there has been speculation about a new ChatGPT Pro subscription plan costing $200 per month, advanced voice models, and other innovative AI tools that are yet to be disclosed. This ambitious rollout demonstrates OpenAI's commitment to expanding its product offerings before the end of the year.\" research_bullets=\"- OpenAI announced a '12 days of shipmas' event to reveal new AI products through daily releases.\\n- Rumors about OpenAI launching a ChatGPT Pro plan at $200 per month and text-to-video model Sora.\\n- Enhanced AI models from OpenAI include advanced reasoning capacities.\\n- Increasing use of AI in platforms such as Meta, YouTube, and TikTok for content creation and localization including AI-driven dubbing features.\\n- The introduction of universal knowledge assistants like Sana AI that aid in data management and AI integration for enterprises.\"\n"
          ]
        }
      ]
    },
    {
      "cell_type": "code",
      "source": [
        "result.data.research_title = '#'+result.data.research_title\n",
        "print(result.data.research_title)"
      ],
      "metadata": {
        "colab": {
          "base_uri": "https://localhost:8080/"
        },
        "outputId": "27538864-51cd-40da-ec41-eab674980ad3",
        "id": "-Va0j58lBR5p"
      },
      "execution_count": null,
      "outputs": [
        {
          "output_type": "stream",
          "name": "stdout",
          "text": [
            "#Recent AI News Announcements December 2024\n"
          ]
        }
      ]
    },
    {
      "cell_type": "code",
      "source": [
        "print(result.data.research_main)"
      ],
      "metadata": {
        "colab": {
          "base_uri": "https://localhost:8080/"
        },
        "outputId": "69f06ba6-e081-48d7-a3cb-7cbd3ddb5b75",
        "id": "kaCUdf0lBR5p"
      },
      "execution_count": null,
      "outputs": [
        {
          "output_type": "stream",
          "name": "stdout",
          "text": [
            "In the beginning of December 2024, several significant announcements and developments have characterized the rapidly evolving landscape of artificial intelligence. OpenAI has come into the spotlight with its '12 days of shipmas,' unveiling a range of new features and products over a two-week period. This includes potential advancements such as the public release of a text-to-video model named Sora and a reasoning AI model. Additionally, there has been speculation about a new ChatGPT Pro subscription plan costing $200 per month, advanced voice models, and other innovative AI tools that are yet to be disclosed. This ambitious rollout demonstrates OpenAI's commitment to expanding its product offerings before the end of the year.\n"
          ]
        }
      ]
    },
    {
      "cell_type": "code",
      "source": [
        "print(result.data.research_bullets)"
      ],
      "metadata": {
        "colab": {
          "base_uri": "https://localhost:8080/"
        },
        "outputId": "72884d09-be6b-4519-cabb-d0b714f888d4",
        "id": "JD4P5IZgBR5p"
      },
      "execution_count": null,
      "outputs": [
        {
          "output_type": "stream",
          "name": "stdout",
          "text": [
            "- OpenAI announced a '12 days of shipmas' event to reveal new AI products through daily releases.\n",
            "- Rumors about OpenAI launching a ChatGPT Pro plan at $200 per month and text-to-video model Sora.\n",
            "- Enhanced AI models from OpenAI include advanced reasoning capacities.\n",
            "- Increasing use of AI in platforms such as Meta, YouTube, and TikTok for content creation and localization including AI-driven dubbing features.\n",
            "- The introduction of universal knowledge assistants like Sana AI that aid in data management and AI integration for enterprises.\n"
          ]
        }
      ]
    },
    {
      "cell_type": "code",
      "source": [
        "\n",
        "combined_markdown = \"\\n\\n\".join([result.data.research_title, result.data.research_main, result.data.research_bullets])\n",
        "\n",
        "Markdown(combined_markdown)"
      ],
      "metadata": {
        "colab": {
          "base_uri": "https://localhost:8080/",
          "height": 262
        },
        "outputId": "9d588252-2e12-45cd-fc72-82630898cb03",
        "id": "DzKY8FEiBR5q"
      },
      "execution_count": null,
      "outputs": [
        {
          "output_type": "execute_result",
          "data": {
            "text/plain": [
              "<IPython.core.display.Markdown object>"
            ],
            "text/markdown": "#Recent AI News Announcements December 2024\n\nIn the beginning of December 2024, several significant announcements and developments have characterized the rapidly evolving landscape of artificial intelligence. OpenAI has come into the spotlight with its '12 days of shipmas,' unveiling a range of new features and products over a two-week period. This includes potential advancements such as the public release of a text-to-video model named Sora and a reasoning AI model. Additionally, there has been speculation about a new ChatGPT Pro subscription plan costing $200 per month, advanced voice models, and other innovative AI tools that are yet to be disclosed. This ambitious rollout demonstrates OpenAI's commitment to expanding its product offerings before the end of the year.\n\n- OpenAI announced a '12 days of shipmas' event to reveal new AI products through daily releases.\n- Rumors about OpenAI launching a ChatGPT Pro plan at $200 per month and text-to-video model Sora.\n- Enhanced AI models from OpenAI include advanced reasoning capacities.\n- Increasing use of AI in platforms such as Meta, YouTube, and TikTok for content creation and localization including AI-driven dubbing features.\n- The introduction of universal knowledge assistants like Sana AI that aid in data management and AI integration for enterprises."
          },
          "metadata": {},
          "execution_count": 190
        }
      ]
    },
    {
      "cell_type": "code",
      "source": [
        "debug(result)"
      ],
      "metadata": {
        "id": "I8mPp2E_BR5q"
      },
      "execution_count": null,
      "outputs": []
    }
  ]
}