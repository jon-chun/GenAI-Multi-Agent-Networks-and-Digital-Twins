{
  "cells": [
    {
      "cell_type": "markdown",
      "metadata": {
        "id": "nXLvYhVVpJxc"
      },
      "source": [
        "[![Open In Colab](https://colab.research.google.com/assets/colab-badge.svg)](https://colab.research.google.com/github/pinecone-io/examples/blob/master/learn/generation/langchain/langgraph/01-gpt-4o-research-agent.ipynb) [![Open nbviewer](https://raw.githubusercontent.com/pinecone-io/examples/master/assets/nbviewer-shield.svg)](https://nbviewer.org/github/pinecone-io/examples/blob/master/learn/generation/langchain/langgraph/01-gpt-4o-research-agent.ipynb)"
      ]
    },
    {
      "cell_type": "markdown",
      "source": [
        "* https://www.youtube.com/watch?v=usOmwLZNVuM"
      ],
      "metadata": {
        "id": "ilfb4mSPpsD_"
      }
    },
    {
      "cell_type": "markdown",
      "metadata": {
        "id": "_PFp0JhOWCU5"
      },
      "source": [
        "# GPT-4o Research Agent in LangGraph"
      ]
    },
    {
      "cell_type": "markdown",
      "metadata": {
        "id": "EckNKuhXWHEJ"
      },
      "source": [
        "**Research agents** are multi-step LLM agents that through multiple steps can produce in depth research reports on a topic of our choosing. Most research agents are packed up into their own frameworks, like BlockAGI and others.\n",
        "\n",
        "In this example, we want to demonstrate how we can build our own AI research agent using `gpt-4o`, Pinecone, LangGraph, arXiv, and Google via the SerpAPI."
      ]
    },
    {
      "cell_type": "code",
      "execution_count": 1,
      "metadata": {
        "colab": {
          "base_uri": "https://localhost:8080/"
        },
        "id": "TCVLlfNyAtxD",
        "outputId": "344b1929-e440-414f-8eaa-8feabf463586"
      },
      "outputs": [
        {
          "output_type": "stream",
          "name": "stdout",
          "text": [
            "Reading package lists... Done\n",
            "Building dependency tree... Done\n",
            "Reading state information... Done\n",
            "graphviz is already the newest version (2.42.2-6ubuntu0.1).\n",
            "The following packages were automatically installed and are no longer required:\n",
            "  libbz2-dev libpkgconf3 libreadline-dev\n",
            "Use 'apt autoremove' to remove them.\n",
            "The following additional packages will be installed:\n",
            "  libgail-common libgail18 libgtk2.0-0 libgtk2.0-bin libgtk2.0-common libgvc6-plugins-gtk\n",
            "  librsvg2-common libxdot4\n",
            "Suggested packages:\n",
            "  gvfs\n",
            "The following packages will be REMOVED:\n",
            "  pkgconf r-base-dev\n",
            "The following NEW packages will be installed:\n",
            "  libgail-common libgail18 libgraphviz-dev libgtk2.0-0 libgtk2.0-bin libgtk2.0-common\n",
            "  libgvc6-plugins-gtk librsvg2-common libxdot4 pkg-config\n",
            "0 upgraded, 10 newly installed, 2 to remove and 49 not upgraded.\n",
            "Need to get 2,482 kB of archives.\n",
            "After this operation, 7,670 kB of additional disk space will be used.\n",
            "Get:1 http://archive.ubuntu.com/ubuntu jammy/main amd64 pkg-config amd64 0.29.2-1ubuntu3 [48.2 kB]\n",
            "Get:2 http://archive.ubuntu.com/ubuntu jammy-updates/main amd64 libgtk2.0-common all 2.24.33-2ubuntu2.1 [125 kB]\n",
            "Get:3 http://archive.ubuntu.com/ubuntu jammy-updates/main amd64 libgtk2.0-0 amd64 2.24.33-2ubuntu2.1 [2,038 kB]\n",
            "Get:4 http://archive.ubuntu.com/ubuntu jammy-updates/main amd64 libgail18 amd64 2.24.33-2ubuntu2.1 [15.9 kB]\n",
            "Get:5 http://archive.ubuntu.com/ubuntu jammy-updates/main amd64 libgail-common amd64 2.24.33-2ubuntu2.1 [132 kB]\n",
            "Get:6 http://archive.ubuntu.com/ubuntu jammy-updates/universe amd64 libxdot4 amd64 2.42.2-6ubuntu0.1 [16.4 kB]\n",
            "Get:7 http://archive.ubuntu.com/ubuntu jammy-updates/universe amd64 libgvc6-plugins-gtk amd64 2.42.2-6ubuntu0.1 [22.5 kB]\n",
            "Get:8 http://archive.ubuntu.com/ubuntu jammy-updates/universe amd64 libgraphviz-dev amd64 2.42.2-6ubuntu0.1 [58.5 kB]\n",
            "Get:9 http://archive.ubuntu.com/ubuntu jammy-updates/main amd64 libgtk2.0-bin amd64 2.24.33-2ubuntu2.1 [7,936 B]\n",
            "Get:10 http://archive.ubuntu.com/ubuntu jammy-updates/main amd64 librsvg2-common amd64 2.52.5+dfsg-3ubuntu0.2 [17.7 kB]\n",
            "Fetched 2,482 kB in 6s (427 kB/s)\n",
            "(Reading database ... 123623 files and directories currently installed.)\n",
            "Removing r-base-dev (4.4.1-3.2204.0) ...\n",
            "dpkg: pkgconf: dependency problems, but removing anyway as you requested:\n",
            " libsndfile1-dev:amd64 depends on pkg-config; however:\n",
            "  Package pkg-config is not installed.\n",
            "  Package pkgconf which provides pkg-config is to be removed.\n",
            " libopencv-dev depends on pkg-config; however:\n",
            "  Package pkg-config is not installed.\n",
            "  Package pkgconf which provides pkg-config is to be removed.\n",
            " libmkl-dev:amd64 depends on pkg-config; however:\n",
            "  Package pkg-config is not installed.\n",
            "  Package pkgconf which provides pkg-config is to be removed.\n",
            " libjack-dev depends on pkg-config; however:\n",
            "  Package pkg-config is not installed.\n",
            "  Package pkgconf which provides pkg-config is to be removed.\n",
            " libgphoto2-dev:amd64 depends on pkg-config; however:\n",
            "  Package pkg-config is not installed.\n",
            "  Package pkgconf which provides pkg-config is to be removed.\n",
            " libfontconfig-dev:amd64 depends on pkg-config; however:\n",
            "  Package pkg-config is not installed.\n",
            "  Package pkgconf which provides pkg-config is to be removed.\n",
            "\n",
            "Removing pkgconf (1.8.0-1) ...\n",
            "Removing 'diversion of /usr/bin/pkg-config to /usr/bin/pkg-config.real by pkgconf'\n",
            "Removing 'diversion of /usr/share/aclocal/pkg.m4 to /usr/share/aclocal/pkg.real.m4 by pkgconf'\n",
            "Removing 'diversion of /usr/share/man/man1/pkg-config.1.gz to /usr/share/man/man1/pkg-config.real.1.gz by pkgconf'\n",
            "Removing 'diversion of /usr/share/pkg-config-crosswrapper to /usr/share/pkg-config-crosswrapper.real by pkgconf'\n",
            "Selecting previously unselected package pkg-config.\n",
            "(Reading database ... 123599 files and directories currently installed.)\n",
            "Preparing to unpack .../0-pkg-config_0.29.2-1ubuntu3_amd64.deb ...\n",
            "Unpacking pkg-config (0.29.2-1ubuntu3) ...\n",
            "Selecting previously unselected package libgtk2.0-common.\n",
            "Preparing to unpack .../1-libgtk2.0-common_2.24.33-2ubuntu2.1_all.deb ...\n",
            "Unpacking libgtk2.0-common (2.24.33-2ubuntu2.1) ...\n",
            "Selecting previously unselected package libgtk2.0-0:amd64.\n",
            "Preparing to unpack .../2-libgtk2.0-0_2.24.33-2ubuntu2.1_amd64.deb ...\n",
            "Unpacking libgtk2.0-0:amd64 (2.24.33-2ubuntu2.1) ...\n",
            "Selecting previously unselected package libgail18:amd64.\n",
            "Preparing to unpack .../3-libgail18_2.24.33-2ubuntu2.1_amd64.deb ...\n",
            "Unpacking libgail18:amd64 (2.24.33-2ubuntu2.1) ...\n",
            "Selecting previously unselected package libgail-common:amd64.\n",
            "Preparing to unpack .../4-libgail-common_2.24.33-2ubuntu2.1_amd64.deb ...\n",
            "Unpacking libgail-common:amd64 (2.24.33-2ubuntu2.1) ...\n",
            "Selecting previously unselected package libxdot4:amd64.\n",
            "Preparing to unpack .../5-libxdot4_2.42.2-6ubuntu0.1_amd64.deb ...\n",
            "Unpacking libxdot4:amd64 (2.42.2-6ubuntu0.1) ...\n",
            "Selecting previously unselected package libgvc6-plugins-gtk.\n",
            "Preparing to unpack .../6-libgvc6-plugins-gtk_2.42.2-6ubuntu0.1_amd64.deb ...\n",
            "Unpacking libgvc6-plugins-gtk (2.42.2-6ubuntu0.1) ...\n",
            "Selecting previously unselected package libgraphviz-dev:amd64.\n",
            "Preparing to unpack .../7-libgraphviz-dev_2.42.2-6ubuntu0.1_amd64.deb ...\n",
            "Unpacking libgraphviz-dev:amd64 (2.42.2-6ubuntu0.1) ...\n",
            "Selecting previously unselected package libgtk2.0-bin.\n",
            "Preparing to unpack .../8-libgtk2.0-bin_2.24.33-2ubuntu2.1_amd64.deb ...\n",
            "Unpacking libgtk2.0-bin (2.24.33-2ubuntu2.1) ...\n",
            "Selecting previously unselected package librsvg2-common:amd64.\n",
            "Preparing to unpack .../9-librsvg2-common_2.52.5+dfsg-3ubuntu0.2_amd64.deb ...\n",
            "Unpacking librsvg2-common:amd64 (2.52.5+dfsg-3ubuntu0.2) ...\n",
            "Setting up libxdot4:amd64 (2.42.2-6ubuntu0.1) ...\n",
            "Setting up pkg-config (0.29.2-1ubuntu3) ...\n",
            "Setting up librsvg2-common:amd64 (2.52.5+dfsg-3ubuntu0.2) ...\n",
            "Setting up libgtk2.0-common (2.24.33-2ubuntu2.1) ...\n",
            "Setting up libgtk2.0-0:amd64 (2.24.33-2ubuntu2.1) ...\n",
            "Setting up libgvc6-plugins-gtk (2.42.2-6ubuntu0.1) ...\n",
            "Setting up libgail18:amd64 (2.24.33-2ubuntu2.1) ...\n",
            "Setting up libgtk2.0-bin (2.24.33-2ubuntu2.1) ...\n",
            "Setting up libgail-common:amd64 (2.24.33-2ubuntu2.1) ...\n",
            "Setting up libgraphviz-dev:amd64 (2.42.2-6ubuntu0.1) ...\n",
            "Processing triggers for libc-bin (2.35-0ubuntu3.4) ...\n",
            "/sbin/ldconfig.real: /usr/local/lib/libtbbbind_2_0.so.3 is not a symbolic link\n",
            "\n",
            "/sbin/ldconfig.real: /usr/local/lib/libur_adapter_level_zero.so.0 is not a symbolic link\n",
            "\n",
            "/sbin/ldconfig.real: /usr/local/lib/libur_loader.so.0 is not a symbolic link\n",
            "\n",
            "/sbin/ldconfig.real: /usr/local/lib/libtbbbind_2_5.so.3 is not a symbolic link\n",
            "\n",
            "/sbin/ldconfig.real: /usr/local/lib/libur_adapter_opencl.so.0 is not a symbolic link\n",
            "\n",
            "/sbin/ldconfig.real: /usr/local/lib/libtbb.so.12 is not a symbolic link\n",
            "\n",
            "/sbin/ldconfig.real: /usr/local/lib/libhwloc.so.15 is not a symbolic link\n",
            "\n",
            "/sbin/ldconfig.real: /usr/local/lib/libtcm.so.1 is not a symbolic link\n",
            "\n",
            "/sbin/ldconfig.real: /usr/local/lib/libtbbmalloc_proxy.so.2 is not a symbolic link\n",
            "\n",
            "/sbin/ldconfig.real: /usr/local/lib/libtbbbind.so.3 is not a symbolic link\n",
            "\n",
            "/sbin/ldconfig.real: /usr/local/lib/libumf.so.0 is not a symbolic link\n",
            "\n",
            "/sbin/ldconfig.real: /usr/local/lib/libtbbmalloc.so.2 is not a symbolic link\n",
            "\n",
            "/sbin/ldconfig.real: /usr/local/lib/libtcm_debug.so.1 is not a symbolic link\n",
            "\n",
            "Processing triggers for man-db (2.10.2-1) ...\n",
            "Processing triggers for libgdk-pixbuf-2.0-0:amd64 (2.42.8+dfsg-1ubuntu0.3) ...\n"
          ]
        }
      ],
      "source": [
        "!apt-get install graphviz libgraphviz-dev pkg-config"
      ]
    },
    {
      "cell_type": "markdown",
      "metadata": {
        "id": "X3hzHJ4NoLYD"
      },
      "source": [
        "We need these prerequisite libraries to run a graph visualization library (`pygraphviz`). We will use this library during this notebook to understand the structure of our graphs _but_ it is not required to use `langgraph`."
      ]
    },
    {
      "cell_type": "markdown",
      "metadata": {
        "id": "IbR8rt-EtqWh"
      },
      "source": [
        "Now we install Python libraries:"
      ]
    },
    {
      "cell_type": "code",
      "execution_count": 2,
      "metadata": {
        "id": "FUt2EoJZu6M3",
        "colab": {
          "base_uri": "https://localhost:8080/"
        },
        "outputId": "958d40f3-665f-41e6-a8bf-2e1ec047d59d"
      },
      "outputs": [
        {
          "output_type": "stream",
          "name": "stdout",
          "text": [
            "  Preparing metadata (setup.py) ... \u001b[?25l\u001b[?25hdone\n",
            "\u001b[2K     \u001b[90m━━━━━━━━━━━━━━━━━━━━━━━━━━━━━━━━━━━━━━━━\u001b[0m \u001b[32m104.9/104.9 kB\u001b[0m \u001b[31m3.9 MB/s\u001b[0m eta \u001b[36m0:00:00\u001b[0m\n",
            "\u001b[?25h  Installing build dependencies ... \u001b[?25l\u001b[?25hdone\n",
            "  Getting requirements to build wheel ... \u001b[?25l\u001b[?25hdone\n",
            "  Preparing metadata (pyproject.toml) ... \u001b[?25l\u001b[?25hdone\n",
            "\u001b[2K   \u001b[90m━━━━━━━━━━━━━━━━━━━━━━━━━━━━━━━━━━━━━━━━\u001b[0m \u001b[32m542.0/542.0 kB\u001b[0m \u001b[31m2.3 MB/s\u001b[0m eta \u001b[36m0:00:00\u001b[0m\n",
            "\u001b[2K   \u001b[90m━━━━━━━━━━━━━━━━━━━━━━━━━━━━━━━━━━━━━━━━\u001b[0m \u001b[32m40.3/40.3 kB\u001b[0m \u001b[31m2.0 MB/s\u001b[0m eta \u001b[36m0:00:00\u001b[0m\n",
            "\u001b[2K   \u001b[90m━━━━━━━━━━━━━━━━━━━━━━━━━━━━━━━━━━━━━━━━\u001b[0m \u001b[32m974.6/974.6 kB\u001b[0m \u001b[31m25.2 MB/s\u001b[0m eta \u001b[36m0:00:00\u001b[0m\n",
            "\u001b[2K   \u001b[90m━━━━━━━━━━━━━━━━━━━━━━━━━━━━━━━━━━━━━━━━\u001b[0m \u001b[32m321.8/321.8 kB\u001b[0m \u001b[31m17.4 MB/s\u001b[0m eta \u001b[36m0:00:00\u001b[0m\n",
            "\u001b[2K   \u001b[90m━━━━━━━━━━━━━━━━━━━━━━━━━━━━━━━━━━━━━━━━\u001b[0m \u001b[32m87.3/87.3 kB\u001b[0m \u001b[31m5.2 MB/s\u001b[0m eta \u001b[36m0:00:00\u001b[0m\n",
            "\u001b[2K   \u001b[90m━━━━━━━━━━━━━━━━━━━━━━━━━━━━━━━━━━━━━━━━\u001b[0m \u001b[32m74.8/74.8 kB\u001b[0m \u001b[31m4.2 MB/s\u001b[0m eta \u001b[36m0:00:00\u001b[0m\n",
            "\u001b[2K   \u001b[90m━━━━━━━━━━━━━━━━━━━━━━━━━━━━━━━━━━━━━━━━\u001b[0m \u001b[32m248.7/248.7 kB\u001b[0m \u001b[31m11.6 MB/s\u001b[0m eta \u001b[36m0:00:00\u001b[0m\n",
            "\u001b[2K   \u001b[90m━━━━━━━━━━━━━━━━━━━━━━━━━━━━━━━━━━━━━━━━\u001b[0m \u001b[32m116.3/116.3 kB\u001b[0m \u001b[31m7.3 MB/s\u001b[0m eta \u001b[36m0:00:00\u001b[0m\n",
            "\u001b[2K   \u001b[90m━━━━━━━━━━━━━━━━━━━━━━━━━━━━━━━━━━━━━━━━\u001b[0m \u001b[32m172.0/172.0 kB\u001b[0m \u001b[31m9.8 MB/s\u001b[0m eta \u001b[36m0:00:00\u001b[0m\n",
            "\u001b[2K   \u001b[90m━━━━━━━━━━━━━━━━━━━━━━━━━━━━━━━━━━━━━━━━\u001b[0m \u001b[32m215.9/215.9 kB\u001b[0m \u001b[31m11.9 MB/s\u001b[0m eta \u001b[36m0:00:00\u001b[0m\n",
            "\u001b[2K   \u001b[90m━━━━━━━━━━━━━━━━━━━━━━━━━━━━━━━━━━━━━━━━\u001b[0m \u001b[32m1.2/1.2 MB\u001b[0m \u001b[31m44.0 MB/s\u001b[0m eta \u001b[36m0:00:00\u001b[0m\n",
            "\u001b[2K   \u001b[90m━━━━━━━━━━━━━━━━━━━━━━━━━━━━━━━━━━━━━━━━\u001b[0m \u001b[32m134.8/134.8 kB\u001b[0m \u001b[31m6.4 MB/s\u001b[0m eta \u001b[36m0:00:00\u001b[0m\n",
            "\u001b[2K   \u001b[90m━━━━━━━━━━━━━━━━━━━━━━━━━━━━━━━━━━━━━━━━\u001b[0m \u001b[32m194.1/194.1 kB\u001b[0m \u001b[31m13.2 MB/s\u001b[0m eta \u001b[36m0:00:00\u001b[0m\n",
            "\u001b[2K   \u001b[90m━━━━━━━━━━━━━━━━━━━━━━━━━━━━━━━━━━━━━━━━\u001b[0m \u001b[32m3.1/3.1 MB\u001b[0m \u001b[31m42.7 MB/s\u001b[0m eta \u001b[36m0:00:00\u001b[0m\n",
            "\u001b[?25h  Building wheel for google-search-results (setup.py) ... \u001b[?25l\u001b[?25hdone\n",
            "  Building wheel for pygraphviz (pyproject.toml) ... \u001b[?25l\u001b[?25hdone\n",
            "\u001b[31mERROR: pip's dependency resolver does not currently take into account all the packages that are installed. This behaviour is the source of the following dependency conflicts.\n",
            "gcsfs 2024.10.0 requires fsspec==2024.10.0, but you have fsspec 2024.3.1 which is incompatible.\u001b[0m\u001b[31m\n",
            "\u001b[0m"
          ]
        }
      ],
      "source": [
        "!pip install -qU \\\n",
        "    datasets==2.19.1 \\\n",
        "    langchain-pinecone==0.1.1 \\\n",
        "    langchain-openai==0.1.9 \\\n",
        "    langchain==0.2.5 \\\n",
        "    langchain-core==0.2.9 \\\n",
        "    langgraph==0.1.1 \\\n",
        "    semantic-router==0.0.48 \\\n",
        "    serpapi==0.1.5 \\\n",
        "    google-search-results==2.4.2 \\\n",
        "    pygraphviz==1.12  # for visualizing"
      ]
    },
    {
      "cell_type": "markdown",
      "metadata": {
        "id": "bABCOVLFdrW4"
      },
      "source": [
        "## Research Agent Overview"
      ]
    },
    {
      "cell_type": "markdown",
      "metadata": {
        "id": "_t1rZK3FdtLh"
      },
      "source": [
        "Our research agent will consist of a function calling AI agent that has access to several tools that it can use to find information on a particular topic. It will be able to use several tools over multiple steps, meaning it can find information on one topic, broaden the scope of knowledge on this topic and _even_ investigate parallel topics where relevant.\n",
        "\n",
        "The tools we will be using are:\n",
        "\n",
        "* **ArXiv paper fetch**: Given an arXiv paper ID, this tool provides our agent with the abstract of the paper.\n",
        "* **Web search**: This tool provides our agent with access to Google search for more generalized queries.\n",
        "* **RAG search**: We will create a knowledge base containing AI arXiv papers. This tool provides our agent with access to this knowledge.\n",
        "* **RAG search with filter**: Sometimes our agent may need more information from a specific paper, this tool allows our agent to do just that.\n",
        "* **Final answer**: We create a custom final answer tool that forces our agent to output information in a specific format like:\n",
        "\n",
        "```\n",
        "INTRODUCTION\n",
        "------------\n",
        "<some intro to our report>\n",
        "\n",
        "RESEARCH STEPS\n",
        "--------------\n",
        "<the steps the agent took during research>\n",
        "\n",
        "REPORT\n",
        "------\n",
        "<the report main body>\n",
        "\n",
        "CONCLUSION\n",
        "----------\n",
        "<the report conclusion>\n",
        "\n",
        "SOURCES\n",
        "-------\n",
        "<any sources the agent used>\n",
        "```"
      ]
    },
    {
      "cell_type": "markdown",
      "metadata": {
        "id": "vovHYoM-AdbU"
      },
      "source": [
        "## Setup Knowledge Base"
      ]
    },
    {
      "cell_type": "markdown",
      "metadata": {
        "id": "YEtKvy4_AgLy"
      },
      "source": [
        "We'll be running our agent against a knowledge base — which requires a Pinecone index to be built.\n",
        "\n",
        "You can, if needed, skip this step and replace the `search` tool with a placeholder value if wanting to quickly test the structure of a RAG agent _without_ the RAG.\n",
        "\n",
        "If you want full functionality here, you do need to run this section — but we'll make it quick."
      ]
    },
    {
      "cell_type": "markdown",
      "metadata": {
        "id": "ohBxmFyTBFT0"
      },
      "source": [
        "### Download a Dataset"
      ]
    },
    {
      "cell_type": "markdown",
      "metadata": {
        "id": "g1ufvA8hBKHx"
      },
      "source": [
        "The first thing we need for an agent using RAG is somewhere we want to pull knowledge from. We will use v2 of the AI ArXiv dataset, available on Hugging Face Datasets at [`jamescalam/ai-arxiv2-chunks`](https://huggingface.co/datasets/jamescalam/ai-arxiv2-chunks).\n",
        "\n",
        "Note: we're using the prechunked dataset. For the raw version see [`jamescalam/ai-arxiv2`](https://huggingface.co/datasets/jamescalam/ai-arxiv2)."
      ]
    },
    {
      "cell_type": "code",
      "execution_count": 3,
      "metadata": {
        "colab": {
          "base_uri": "https://localhost:8080/",
          "height": 150,
          "referenced_widgets": [
            "a7e5453c1ef94767be5966900d95ea99",
            "f944302f6085469ba1583606aafab9c6",
            "f01b688f742d49caab8c3409a2b00210",
            "fad7c233cbff4863b37ae05be9babdeb",
            "80bddb42d3a54831a46b56c719e6300a",
            "e77450a502ca413fa7fbbc6fb15d163c",
            "032b55a0a069441c8de7c8ad4b57e780",
            "5582b742b7244250a69b2724233fdd5a",
            "25ebeb7f929a450dbd35148a7fab9f6d",
            "78b1b738c59449058a82a56bb86feaa3",
            "cc2d199d7aa04a19a476923dc3987bbc",
            "d38053825c1c40be9bed649b43105e77",
            "71813f2ed2934a5dbba3821980cef616",
            "4722c2558a0c47a9a0d83f40f231d71c",
            "c791f7e11c0144b998c3625587061da5",
            "f398513848b44157870d1adc0b0f47d2",
            "91a235a6f8ca4d9094eb7bb07662a761",
            "5eda642c9c3f47f6b20f6e0de484a11c",
            "bbaef7ecbb634bda921ece8320648d94",
            "f5575b7428b84e33beced719cb3548e0",
            "920ceee554e640d9bbd032ceac6472d6",
            "78801f690c0b426999c3934c0aa85e46"
          ]
        },
        "id": "ehcjNQ49BBuI",
        "outputId": "52e67cd6-2ca4-4a79-ff95-d6d3d2733fc2"
      },
      "outputs": [
        {
          "output_type": "display_data",
          "data": {
            "text/plain": [
              "Downloading data:   0%|          | 0.00/253M [00:00<?, ?B/s]"
            ],
            "application/vnd.jupyter.widget-view+json": {
              "version_major": 2,
              "version_minor": 0,
              "model_id": "a7e5453c1ef94767be5966900d95ea99"
            }
          },
          "metadata": {}
        },
        {
          "output_type": "display_data",
          "data": {
            "text/plain": [
              "Generating train split:   0%|          | 0/209760 [00:00<?, ? examples/s]"
            ],
            "application/vnd.jupyter.widget-view+json": {
              "version_major": 2,
              "version_minor": 0,
              "model_id": "d38053825c1c40be9bed649b43105e77"
            }
          },
          "metadata": {}
        },
        {
          "output_type": "execute_result",
          "data": {
            "text/plain": [
              "Dataset({\n",
              "    features: ['id', 'title', 'content', 'prechunk_id', 'postchunk_id', 'arxiv_id', 'references'],\n",
              "    num_rows: 209760\n",
              "})"
            ]
          },
          "metadata": {},
          "execution_count": 3
        }
      ],
      "source": [
        "from datasets import load_dataset\n",
        "\n",
        "dataset = load_dataset(\"jamescalam/ai-arxiv2-semantic-chunks\", split=\"train\")\n",
        "dataset"
      ]
    },
    {
      "cell_type": "code",
      "execution_count": 4,
      "metadata": {
        "colab": {
          "base_uri": "https://localhost:8080/"
        },
        "id": "pElKCcVSSddB",
        "outputId": "706afe3c-23fe-4da4-d387-13fe9197da26"
      },
      "outputs": [
        {
          "output_type": "execute_result",
          "data": {
            "text/plain": [
              "{'id': '2401.04088#0',\n",
              " 'title': 'Mixtral of Experts',\n",
              " 'content': '4 2 0 2 n a J 8 ] G L . s c [ 1 v 8 8 0 4 0 . 1 0 4 2 : v i X r a # Mixtral of Experts Albert Q. Jiang, Alexandre Sablayrolles, Antoine Roux, Arthur Mensch, Blanche Savary, Chris Bamford, Devendra Singh Chaplot, Diego de las Casas, Emma Bou Hanna, Florian Bressand, Gianna Lengyel, Guillaume Bour, Guillaume Lample, LÃ©lio Renard Lavaud, Lucile Saulnier, Marie-Anne Lachaux, Pierre Stock, Sandeep Subramanian, Sophia Yang, Szymon Antoniak, Teven Le Scao, ThÃ©ophile Gervet, Thibaut Lavril, Thomas Wang, TimothÃ©e Lacroix, William El Sayed Abstract We introduce Mixtral 8x7B, a Sparse Mixture of Experts (SMoE) language model. Mixtral has the same architecture as Mistral 7B, with the difference that each layer is composed of 8 feedforward blocks (i.e. experts). For every token, at each layer, a router network selects two experts to process the current state and combine their outputs. Even though each token only sees two experts, the selected experts can be different at each timestep. As a result, each token has access to 47B parameters, but only uses 13B active parameters during inference. Mixtral was trained with a context size of 32k tokens and it outperforms or matches Llama 2 70B and GPT-3.5 across all evaluated benchmarks. In particular, Mixtral vastly outperforms Llama 2 70B on mathematics, code generation, and multilingual benchmarks. We also provide a model fine- tuned to follow instructions, Mixtral 8x7B â Instruct, that surpasses GPT-3.5 Turbo, Claude-2.1, Gemini Pro, and Llama 2 70B â chat model on human bench- marks. Both the base and instruct models are released under the Apache 2.0 license.',\n",
              " 'prechunk_id': '',\n",
              " 'postchunk_id': '2401.04088#1',\n",
              " 'arxiv_id': '2401.04088',\n",
              " 'references': ['1905.07830']}"
            ]
          },
          "metadata": {},
          "execution_count": 4
        }
      ],
      "source": [
        "dataset[0]"
      ]
    },
    {
      "cell_type": "markdown",
      "metadata": {
        "id": "vJjZMEO_HmOi"
      },
      "source": [
        "Building a knowledge base:"
      ]
    },
    {
      "cell_type": "code",
      "source": [
        "!pip install -qU \"semantic-router[local]\""
      ],
      "metadata": {
        "colab": {
          "base_uri": "https://localhost:8080/"
        },
        "id": "NF3RR_3jgRCk",
        "outputId": "677d4c20-5f3f-4550-e261-768a69e15964"
      },
      "execution_count": 8,
      "outputs": [
        {
          "output_type": "stream",
          "name": "stdout",
          "text": [
            "\u001b[2K     \u001b[90m━━━━━━━━━━━━━━━━━━━━━━━━━━━━━━━━━━━━━━━━\u001b[0m \u001b[32m49.3/49.3 MB\u001b[0m \u001b[31m10.5 MB/s\u001b[0m eta \u001b[36m0:00:00\u001b[0m\n",
            "\u001b[?25h  Installing build dependencies ... \u001b[?25l\u001b[?25hdone\n",
            "  Getting requirements to build wheel ... \u001b[?25l\u001b[?25hdone\n",
            "  Installing backend dependencies ... \u001b[?25l\u001b[?25hdone\n",
            "  Preparing metadata (pyproject.toml) ... \u001b[?25l\u001b[?25hdone\n",
            "\u001b[2K   \u001b[90m━━━━━━━━━━━━━━━━━━━━━━━━━━━━━━━━━━━━━━━━\u001b[0m \u001b[32m85.7/85.7 kB\u001b[0m \u001b[31m395.2 kB/s\u001b[0m eta \u001b[36m0:00:00\u001b[0m\n",
            "\u001b[2K   \u001b[90m━━━━━━━━━━━━━━━━━━━━━━━━━━━━━━━━━━━━━━━━\u001b[0m \u001b[32m45.5/45.5 kB\u001b[0m \u001b[31m2.4 MB/s\u001b[0m eta \u001b[36m0:00:00\u001b[0m\n",
            "\u001b[?25h  Building wheel for llama-cpp-python (pyproject.toml) ... \u001b[?25l\u001b[?25hdone\n"
          ]
        }
      ]
    },
    {
      "cell_type": "code",
      "source": [
        "from google.colab import userdata"
      ],
      "metadata": {
        "id": "EHq0PF9Ah90s"
      },
      "execution_count": 12,
      "outputs": []
    },
    {
      "cell_type": "code",
      "source": [
        "# prompt: print out the first 5 char values (use * for every following char to mask) of userdata 'OPENAI_API_KEY'\n",
        "\n",
        "api_key = userdata.get('OPENAI_API_KEY')\n",
        "\n",
        "if api_key:\n",
        "  masked_key = api_key[:5] + '*' * (len(api_key) - 5)\n",
        "  print(masked_key)\n",
        "else:\n",
        "  print(\"OPENAI_API_KEY not found in userdata.\")"
      ],
      "metadata": {
        "colab": {
          "base_uri": "https://localhost:8080/"
        },
        "id": "zSAQP3cYiKSk",
        "outputId": "77895479-894e-4e51-ea34-6b97ca40bbc4"
      },
      "execution_count": 14,
      "outputs": [
        {
          "output_type": "stream",
          "name": "stdout",
          "text": [
            "sk-pr***************************************************************************************************************************************************************\n"
          ]
        }
      ]
    },
    {
      "cell_type": "code",
      "execution_count": 15,
      "metadata": {
        "id": "LjsIFVbtKBu4"
      },
      "outputs": [],
      "source": [
        "import os\n",
        "from getpass import getpass\n",
        "from semantic_router.encoders import OpenAIEncoder\n",
        "\n",
        "os.environ[\"OPENAI_API_KEY\"] = os.getenv(\"OPENAI_API_KEY\") or userdata.get('OPENAI_API_KEY') or getpass(\"OpenAI API key: \")\n",
        "\n",
        "encoder = OpenAIEncoder(name=\"text-embedding-3-small\")"
      ]
    },
    {
      "cell_type": "code",
      "execution_count": 17,
      "metadata": {
        "id": "J233t2I4HmjD"
      },
      "outputs": [],
      "source": [
        "from pinecone import Pinecone\n",
        "\n",
        "# initialize connection to pinecone (get API key at app.pinecone.io)\n",
        "api_key = os.getenv(\"PINECONE_API_KEY\") or userdata.get('PINECONE_API_KEY') or getpass(\"Pinecone API key: \")\n",
        "\n",
        "# configure client\n",
        "pc = Pinecone(api_key=api_key)"
      ]
    },
    {
      "cell_type": "code",
      "execution_count": 21,
      "metadata": {
        "id": "actWflaEKgVb"
      },
      "outputs": [],
      "source": [
        "from pinecone import ServerlessSpec\n",
        "\n",
        "spec = ServerlessSpec(\n",
        "    cloud=\"aws\", region=\"us-east-1\"  # us-east-1\n",
        ")"
      ]
    },
    {
      "cell_type": "code",
      "execution_count": 22,
      "metadata": {
        "colab": {
          "base_uri": "https://localhost:8080/"
        },
        "id": "jWijfk8LKil7",
        "outputId": "11863308-8de2-4927-9553-902c23a1c060"
      },
      "outputs": [
        {
          "output_type": "execute_result",
          "data": {
            "text/plain": [
              "1536"
            ]
          },
          "metadata": {},
          "execution_count": 22
        }
      ],
      "source": [
        "dims = len(encoder([\"some random text\"])[0])\n",
        "dims"
      ]
    },
    {
      "cell_type": "code",
      "execution_count": 23,
      "metadata": {
        "colab": {
          "base_uri": "https://localhost:8080/"
        },
        "id": "V-GHzWs3KlJn",
        "outputId": "4ae1b510-e41e-40b1-cb24-2043084d3957"
      },
      "outputs": [
        {
          "output_type": "execute_result",
          "data": {
            "text/plain": [
              "{'dimension': 1536,\n",
              " 'index_fullness': 0.0,\n",
              " 'namespaces': {},\n",
              " 'total_vector_count': 0}"
            ]
          },
          "metadata": {},
          "execution_count": 23
        }
      ],
      "source": [
        "import time\n",
        "\n",
        "index_name = \"gpt-4o-research-agent\"\n",
        "\n",
        "# check if index already exists (it shouldn't if this is first time)\n",
        "if index_name not in pc.list_indexes().names():\n",
        "    # if does not exist, create index\n",
        "    pc.create_index(\n",
        "        index_name,\n",
        "        dimension=dims,  # dimensionality of embed 3\n",
        "        metric='dotproduct',\n",
        "        spec=spec\n",
        "    )\n",
        "    # wait for index to be initialized\n",
        "    while not pc.describe_index(index_name).status['ready']:\n",
        "        time.sleep(1)\n",
        "\n",
        "# connect to index\n",
        "index = pc.Index(index_name)\n",
        "time.sleep(1)\n",
        "# view index stats\n",
        "index.describe_index_stats()"
      ]
    },
    {
      "cell_type": "markdown",
      "metadata": {
        "id": "vwNPeBbZK0hx"
      },
      "source": [
        "Populate our knowledge base:"
      ]
    },
    {
      "cell_type": "code",
      "execution_count": 24,
      "metadata": {
        "colab": {
          "base_uri": "https://localhost:8080/",
          "height": 49,
          "referenced_widgets": [
            "49b314536b004c26a20568d4c4b54660",
            "67ed660296f340d68e08a42c99963e76",
            "8fd7fcd0e02b4b9fb3048635169d4f01",
            "1966240558ed4fbe89083ca9ddfd1309",
            "4d400a8697ae4cad8d5f65d69e7da478",
            "88fbc58b524a48a4a028714bf431a9ed",
            "afa9fd4713a646beb4fff61b310c5abc",
            "62eeb8d03f1a4783911808f83b376cb6",
            "2ee02ba4fad9412a88f325a27631867a",
            "540b45a604044f53adb08eaf130a13af",
            "fc5ec2edf8b54cb6b3c16ba1ff2e389d"
          ]
        },
        "id": "5iQ2YJPeK2Us",
        "outputId": "a94af393-62a8-43de-cc91-15cc4278cb1e"
      },
      "outputs": [
        {
          "output_type": "display_data",
          "data": {
            "text/plain": [
              "  0%|          | 0/79 [00:00<?, ?it/s]"
            ],
            "application/vnd.jupyter.widget-view+json": {
              "version_major": 2,
              "version_minor": 0,
              "model_id": "49b314536b004c26a20568d4c4b54660"
            }
          },
          "metadata": {}
        }
      ],
      "source": [
        "from tqdm.auto import tqdm\n",
        "\n",
        "# easier to work with dataset as pandas dataframe\n",
        "data = dataset.to_pandas().iloc[:10000]\n",
        "\n",
        "batch_size = 128\n",
        "\n",
        "for i in tqdm(range(0, len(data), batch_size)):\n",
        "    i_end = min(len(data), i+batch_size)\n",
        "    batch = data[i:i_end].to_dict(orient=\"records\")\n",
        "    # get batch of data\n",
        "    metadata = [{\n",
        "        \"title\": r[\"title\"],\n",
        "        \"content\": r[\"content\"],\n",
        "        \"arxiv_id\": r[\"arxiv_id\"],\n",
        "        \"references\": r[\"references\"].tolist()\n",
        "    } for r in batch]\n",
        "    # generate unique ids for each chunk\n",
        "    ids = [r[\"id\"] for r in batch]\n",
        "    # get text content to embed\n",
        "    content = [r[\"content\"] for r in batch]\n",
        "    # embed text\n",
        "    embeds = encoder(content)\n",
        "    # add to Pinecone\n",
        "    index.upsert(vectors=zip(ids, embeds, metadata))"
      ]
    },
    {
      "cell_type": "markdown",
      "metadata": {
        "id": "hITmdwQ7Qns0"
      },
      "source": [
        "## Graph State\n",
        "\n",
        "We will define a custom graph state to support our agent-oriented decision making."
      ]
    },
    {
      "cell_type": "code",
      "execution_count": 25,
      "metadata": {
        "id": "x7Fj9KNjQvUq"
      },
      "outputs": [],
      "source": [
        "from typing import TypedDict, Annotated, List, Union\n",
        "from langchain_core.agents import AgentAction, AgentFinish\n",
        "from langchain_core.messages import BaseMessage\n",
        "import operator\n",
        "\n",
        "\n",
        "class AgentState(TypedDict):\n",
        "    input: str\n",
        "    chat_history: list[BaseMessage]\n",
        "    intermediate_steps: Annotated[list[tuple[AgentAction, str]], operator.add]"
      ]
    },
    {
      "cell_type": "markdown",
      "metadata": {
        "id": "Fp4uQFBKQdyI"
      },
      "source": [
        "There are four parts to our agent state, those are:\n",
        "\n",
        "* `input`: this is the user's most recent query, usually this would be a question that we want to answer with our research agent.\n",
        "* `chat_history`: we are building a conversational agent that can support multiple interactions, to allow previous interactions to provide additional context throughout our agent logic we include the chat history in the agent state.\n",
        "* `intermediate_steps`: provides a record of all steps the research agent will take between the user asking a question via `input` and the agent providing a final answer. This can include things like \"search arxiv\", \"perform general purpose web search\", etc. These intermediate steps are crucial to allowing the agent to follow a path of coherent actions and ultimately producing an informed final answer."
      ]
    },
    {
      "cell_type": "markdown",
      "metadata": {
        "id": "zlVbgX39Rhxj"
      },
      "source": [
        "## Custom Tools"
      ]
    },
    {
      "cell_type": "markdown",
      "metadata": {
        "id": "io-lnbpgKHzy"
      },
      "source": [
        "We will define several tools for this agent that will focus on initial data discovery, that will allow the LLM to use more tools to research more deeply via a variety of different routes."
      ]
    },
    {
      "cell_type": "markdown",
      "metadata": {
        "id": "v9MYnZvtF9WN"
      },
      "source": [
        "### ArXiv Paper Fetch"
      ]
    },
    {
      "cell_type": "markdown",
      "metadata": {
        "id": "VQZjy5TZGAFB"
      },
      "source": [
        "The `fetch_arxiv` tool will allow our agent to get the summary of a specific paper given an ArXiv paper ID. To do this, we will simply send a GET request to arXiv and use regex to extract the paper abstract."
      ]
    },
    {
      "cell_type": "code",
      "execution_count": 26,
      "metadata": {
        "colab": {
          "base_uri": "https://localhost:8080/",
          "height": 175
        },
        "id": "B2W-V1cOGzwJ",
        "outputId": "addbd0aa-819b-4685-e6c4-eb0eadbcfe40"
      },
      "outputs": [
        {
          "output_type": "execute_result",
          "data": {
            "text/plain": [
              "'<?xml version=\"1.0\" encoding=\"UTF-8\"?>\\n<!DOCTYPE html PUBLIC \"-//W3C//DTD XHTML 1.0 Transitional//EN\" \"http://www.w3.org/TR/xhtml1/DTD/xhtml1-transitional.dtd\">\\n<html xmlns=\"http://www.w3.org/1999/xhtml\" lang=\"en\">\\n<head>\\n<title>[2401.04088] Mixtral of Experts</title>\\n<link rel=\"shortcut icon\" href=\"/favicon.ico\" type=\"image/x-icon\" />\\n<link rel=\"stylesheet\" type=\"text/css\" media=\"screen\" href=\"/css/arXiv-export.css\" />\\n<link rel=\"stylesheet\" type=\"text/css\" media=\"screen\" href=\"/bibex/bibex.css?20181009\">\\n<link rel=\"stylesheet\" type=\"text/css\" media=\"screen\" href=\"https://static.arxiv.org/static/browse/0.3.8/css/browse_search.css\" />\\n<meta name=\"citation_title\" content=\"Mixtral of Experts\" />\\n<meta name=\"citation_author\" content=\"Jiang, Albert Q.\" />\\n<meta name=\"citation_author\" content=\"Sablayrolles, Alexandre\" />\\n<meta name=\"citation_author\" content=\"Roux, Antoine\" />\\n<meta name=\"citation_author\" content=\"Mensch, Arthur\" />\\n<meta name=\"citation_author\" content=\"Savary, Blanche\" />\\n<meta name=\"citation_author\" content=\"Bamford, Chris\" />\\n<meta name=\"citation_author\" content=\"Chaplot, Devendra Singh\" />\\n<meta name=\"citation_author\" content=\"Casas, Diego de las\" />\\n<meta name=\"citation_author\" content=\"Hanna, Emma Bou\" />\\n<meta name=\"citation_author\" content=\"Bressand, Florian\" />\\n<meta name=\"citation_author\" content=\"Lengyel, Gianna\" />\\n<meta name=\"citation_author\" content=\"Bour, Guillaume\" />\\n<meta name=\"citation_author\" content=\"Lample, Guillaume\" />\\n<meta name=\"citation_author\" content=\"Lavaud, L&#xe9;lio Renard\" />\\n<meta name=\"citation_author\" content=\"Saulnier, Lucile\" />\\n<meta name=\"citation_author\" content=\"Lachaux, Marie-Anne\" />\\n<meta name=\"citation_author\" content=\"Stock, Pierre\" />\\n<meta name=\"citation_author\" content=\"Subramanian, Sandeep\" />\\n<meta name=\"citation_author\" content=\"Yang, Sophia\" />\\n<meta name=\"citation_author\" content=\"Antoniak, Szymon\" />\\n<meta name=\"citation_author\" content=\"Scao, Teven Le\" />\\n<meta name=\"citation_author\" content=\"Gervet, Th&#xe9;ophile\" />\\n<meta name=\"citation_author\" content=\"Lavril, Thibaut\" />\\n<meta name=\"citation_author\" content=\"Wang, Thomas\" />\\n<meta name=\"citation_author\" content=\"Lacroix, Timoth&#xe9;e\" />\\n<meta name=\"citation_author\" content=\"Sayed, William El\" />\\n<meta name=\"citation_date\" content=\"2024/01/08\" />\\n<meta name=\"citation_online_date\" content=\"2024/01/08\" />\\n<meta name=\"citation_pdf_url\" content=\"http://arxiv.org/pdf/2401.04088\" />\\n<meta name=\"citation_arxiv_id\" content=\"2401.04088\" />\\n<script src=\"/js/mathjaxToggle.min.js\" type=\"text/javascript\"></script>\\n\\n\\n</head>\\n<body class=\"with-cu-identity\">\\n\\n<div id=\"cu-identity\">\\n<div id=\"cu-logo\">\\n<a href=\"https://www.cornell.edu/\"><img src=\"//static.arxiv.org/icons/cu/cornell-reduced-white-SMALL.svg\" alt=\"Cornell University\" width=\"200\" border=\"0\" /></a>\\n</div>\\n<div id=\"support-ack\">\\n<a href=\"https://confluence.cornell.edu/x/ALlRF\">We gratefully acknowledge support from<br /> the Simons Foundation and member institutions.</a>\\n</div>\\n</div>\\n<div id=\"header\">\\n<h1 class=\"header-breadcrumbs\"><a href=\"/\"><img src=\"//static.arxiv.org/images/arxiv-logo-one-color-white.svg\" aria-label=\"logo\" alt=\"arxiv logo\" width=\"85\" style=\"width:85px;margin-right:8px;\"></a> <span>&gt;</span> <a href=\"/list/cs/recent\">cs</a> <span>&gt;</span> arXiv:2401.04088</h1>\\n<div id=\"search\">\\n<form id=\"search-arxiv\" method=\"post\" action=\"/search_classic\">\\n\\n<div class=\"wrapper-search-arxiv\">\\n<input class=\"keyword-field\" type=\"text\" name=\"query\" placeholder=\"Search or Article ID\"/>\\n\\n<div class=\"filter-field\">\\n <select name=\"searchtype\">\\n<option value=\"all\" selected=\"selected\">All papers</option>\\n<option value=\"ti\">Titles</option>\\n<option value=\"au\">Authors</option>\\n<option value=\"abs\">Abstracts</option>\\n<option value=\"ft\">Full text</option>\\n</select>\\n</div>\\n<input class=\"btn-search-arxiv\" value=\"\" type=\"submit\">\\n<div class=\"links\">(<a href=\"https://info.arxiv.org/help\">Help</a> | <a href=\"/find\">Advanced search</a>)</div>\\n</div>\\n</form>\\n</div>\\n</div>\\n<div id=\"content\">\\n\\n<!--\\n<rdf:RDF xmlns:rdf=\"http://www.w3.org/1999/02/22-rdf-syntax-ns#\"\\n         xmlns:dc=\"http://purl.org/dc/elements/1.1/\"\\n         xmlns:trackback=\"http://madskills.com/public/xml/rss/module/trackback/\">\\n    <rdf:Description\\n        rdf:about=\"http://arxiv.org/abs/2401.04088\"\\n        dc:identifier=\"http://arxiv.org/abs/2401.04088\"\\n        dc:title=\"Mixtral of Experts\"\\n        trackback:ping=\"http://arxiv.org/trackback/2401.04088\" />\\n    </rdf:RDF>\\n-->\\n\\n<div id=\"abs\">\\n<div class=\"extra-services\">\\n\\n<div class=\"full-text\">\\n<span class=\"descriptor\">Full-text links:</span>\\n<h2>Download:</h2>\\n<ul>\\n<li><a href=\"/pdf/2401.04088\" accesskey=\"f\">PDF</a></li>\\n<li><a href=\"/format/2401.04088\">Other formats</a></li>\\n</ul>\\n<div class=\"abs-license\"><a href=\"http://creativecommons.org/licenses/by/4.0/\" title=\"Rights to this article\"><img src=\"/icons/licenses/by-4.0.png\"/></a></div>\\n</div><!--end full-text-->\\n\\n<div class=\"browse\">\\n<h3>Current browse context:</h3>\\n<div class=\"current\">cs.LG</div>\\n<div class=\"prevnext\"><span class=\"arrow\"><a href=\"http://arxiv.org/prevnext?site=export.arxiv.org&amp;id=2401.04088&amp;context=cs.LG&amp;function=prev\" accesskey=\"p\" title=\"previous in cs.LG (accesskey p)\">&lt;&nbsp;prev</a></span>&nbsp;|&nbsp;<span class=\"arrow\"><a href=\"http://arxiv.org/prevnext?site=export.arxiv.org&amp;id=2401.04088&amp;context=cs.LG&amp;function=next\" accesskey=\"n\" title=\"next in cs.LG (accesskey n)\">next&nbsp;&gt;</a></span>\\n<br /></div>\\n<div class=\"list\"><a href=\"/list/cs.LG/new\">new</a>&nbsp;| <a href=\"/list/cs.LG/recent\">recent</a>&nbsp;| <a href=\"/list/cs.LG/2401\">2401</a></div><h3>Change to browse by:</h3><div class=\"switch\">\\n<a href=\"/abs/2401.04088?context=cs\">cs</a><br />\\n<span class=\"subclass\"><a href=\"/abs/2401.04088?context=cs.CL\">cs.CL</a></span>\\n</div>\\n\\n</div>\\n<div class=\"extra-ref-cite\">\\n<h3>References &amp; Citations</h3><ul><li><a href=\"http://adsabs.harvard.edu/cgi-bin/bib_query?arXiv:2401.04088\">NASA ADS</a></li>\\n</ul>\\n\\n</div>\\n<div class=\"dblp\">\\n<h3><a href=\"http://www.informatik.uni-trier.de/~ley/db/\">DBLP</a> - CS Bibliography</h3><div class=\"list\">\\n<a href=\"http://www.informatik.uni-trier.de/~ley/db/journals/corr/corr2401.html#abs-2401-04088\">listing</a> | <a href=\"http://dblp.uni-trier.de/rec/bibtex/journals/corr/abs-2401-04088\">bibtex</a>\\n</div>\\n\\n</div>\\n<div class=\"bookmarks\">\\n<div class=\"what-is-this\">\\n<h3>Bookmark</h3> (<a href=\"https://info.arxiv.org/help/social_bookmarking\">what is this?</a>)\\n</div>\\n<a href=\"http://arxiv.org/ct?url=http%3A%2F%2Fwww.citeulike.org%2Fposturl%3Furl%3Dhttp%3A%2F%2Farxiv.org%2Fabs%2F2401.04088%26title%3DMixtral%2520of%2520Experts%26authors%3D&amp;v=354d162e\" title=\"Bookmark on CiteULike\"><img src=\"//static.arxiv.org/icons/social/citeulike.png\" alt=\"CiteULike logo\" /></a>\\n<a href=\"http://arxiv.org/ct?url=http%3A%2F%2Fwww.bibsonomy.org%2FBibtexHandler%3FrequTask%3Dupload%26url%3Dhttp%3A%2F%2Farxiv.org%2Fabs%2F2401.04088%26description%3DMixtral%2520of%2520Experts&amp;v=bef47afc\" title=\"Bookmark on BibSonomy\"><img src=\"//static.arxiv.org/icons/social/bibsonomy.png\" alt=\"BibSonomy logo\" /></a>\\n<a href=\"http://arxiv.org/ct?url=https%3A%2F%2Fwww.mendeley.com%2Fimport%2F%3Furl%3Dhttp%3A%2F%2Farxiv.org%2Fabs%2F2401.04088&amp;v=be336fd9\" title=\"Bookmark on Mendeley\"><img src=\"//static.arxiv.org/icons/social/mendeley.png\" alt=\"Mendeley logo\" /></a>\\n<a href=\"http://arxiv.org/ct?url=https%3A%2F%2Fdel.icio.us%2Fpost%3Furl%3Dhttp%3A%2F%2Farxiv.org%2Fabs%2F2401.04088%26description%3DMixtral%2520of%2520Experts&amp;v=827de2f6\" title=\"Bookmark on del.icio.us\"><img src=\"//static.arxiv.org/icons/social/delicious.png\" alt=\"del.icio.us logo\" /></a>\\n<a href=\"http://arxiv.org/ct?url=https%3A%2F%2Fdigg.com%2Fsubmit%3Furl%3Dhttp%3A%2F%2Farxiv.org%2Fabs%2F2401.04088%26title%3DMixtral%2520of%2520Experts&amp;v=8d5c0d57\" title=\"Bookmark on Digg\"><img src=\"//static.arxiv.org/icons/social/digg.png\" alt=\"Digg logo\" /></a>\\n<a href=\"http://arxiv.org/ct?url=https%3A%2F%2Freddit.com%2Fsubmit%3Furl%3Dhttp%3A%2F%2Farxiv.org%2Fabs%2F2401.04088%26title%3DMixtral%2520of%2520Experts&amp;v=14eafc8c\" title=\"Bookmark on Reddit\"><img src=\"//static.arxiv.org/icons/social/reddit.png\" alt=\"Reddit logo\" /></a>\\n\\n</div>\\n</div><!--end extra-services-->\\n\\n<div class=\"leftcolumn\">\\n<div class=\"subheader\">\\n<h1>Computer Science > Machine Learning</h1>\\n</div>\\n<h1 class=\"title mathjax\"><span class=\"descriptor\">Title:</span>\\nMixtral of Experts</h1>\\n<div class=\"authors\"><span class=\"descriptor\">Authors:</span>\\n<a href=\"/find/cs/1/au:+Jiang_A/0/1/0/all/0/1\">Albert Q. Jiang</a>, \\n<a href=\"/find/cs/1/au:+Sablayrolles_A/0/1/0/all/0/1\">Alexandre Sablayrolles</a>, \\n<a href=\"/find/cs/1/au:+Roux_A/0/1/0/all/0/1\">Antoine Roux</a>, \\n<a href=\"/find/cs/1/au:+Mensch_A/0/1/0/all/0/1\">Arthur Mensch</a>, \\n<a href=\"/find/cs/1/au:+Savary_B/0/1/0/all/0/1\">Blanche Savary</a>, \\n<a href=\"/find/cs/1/au:+Bamford_C/0/1/0/all/0/1\">Chris Bamford</a>, \\n<a href=\"/find/cs/1/au:+Chaplot_D/0/1/0/all/0/1\">Devendra Singh Chaplot</a>, \\n<a href=\"/find/cs/1/au:+Casas_D/0/1/0/all/0/1\">Diego de las Casas</a>, \\n<a href=\"/find/cs/1/au:+Hanna_E/0/1/0/all/0/1\">Emma Bou Hanna</a>, \\n<a href=\"/find/cs/1/au:+Bressand_F/0/1/0/all/0/1\">Florian Bressand</a>, \\n<a href=\"/find/cs/1/au:+Lengyel_G/0/1/0/all/0/1\">Gianna Lengyel</a>, \\n<a href=\"/find/cs/1/au:+Bour_G/0/1/0/all/0/1\">Guillaume Bour</a>, \\n<a href=\"/find/cs/1/au:+Lample_G/0/1/0/all/0/1\">Guillaume Lample</a>, \\n<a href=\"/find/cs/1/au:+Lavaud_L/0/1/0/all/0/1\">L&#xe9;lio Renard Lavaud</a>, \\n<a href=\"/find/cs/1/au:+Saulnier_L/0/1/0/all/0/1\">Lucile Saulnier</a>, \\n<a href=\"/find/cs/1/au:+Lachaux_M/0/1/0/all/0/1\">Marie-Anne Lachaux</a>, \\n<a href=\"/find/cs/1/au:+Stock_P/0/1/0/all/0/1\">Pierre Stock</a>, \\n<a href=\"/find/cs/1/au:+Subramanian_S/0/1/0/all/0/1\">Sandeep Subramanian</a>, \\n<a href=\"/find/cs/1/au:+Yang_S/0/1/0/all/0/1\">Sophia Yang</a>, \\n<a href=\"/find/cs/1/au:+Antoniak_S/0/1/0/all/0/1\">Szymon Antoniak</a>, \\n<a href=\"/find/cs/1/au:+Scao_T/0/1/0/all/0/1\">Teven Le Scao</a>, \\n<a href=\"/find/cs/1/au:+Gervet_T/0/1/0/all/0/1\">Th&#xe9;ophile Gervet</a>, \\n<a href=\"/find/cs/1/au:+Lavril_T/0/1/0/all/0/1\">Thibaut Lavril</a>, \\n<a href=\"/find/cs/1/au:+Wang_T/0/1/0/all/0/1\">Thomas Wang</a>, \\n<a href=\"/find/cs/1/au:+Lacroix_T/0/1/0/all/0/1\">Timoth&#xe9;e Lacroix</a>, \\n<a href=\"/find/cs/1/au:+Sayed_W/0/1/0/all/0/1\">William El Sayed</a></div>\\n<div class=\"dateline\">(Submitted on 8 Jan 2024)</div>\\n<blockquote class=\"abstract mathjax\">\\n<span class=\"descriptor\">Abstract:</span> We introduce Mixtral 8x7B, a Sparse Mixture of Experts (SMoE) language model.\\nMixtral has the same architecture as Mistral 7B, with the difference that each\\nlayer is composed of 8 feedforward blocks (i.e. experts). For every token, at\\neach layer, a router network selects two experts to process the current state\\nand combine their outputs. Even though each token only sees two experts, the\\nselected experts can be different at each timestep. As a result, each token has\\naccess to 47B parameters, but only uses 13B active parameters during inference.\\nMixtral was trained with a context size of 32k tokens and it outperforms or\\nmatches Llama 2 70B and GPT-3.5 across all evaluated benchmarks. In particular,\\nMixtral vastly outperforms Llama 2 70B on mathematics, code generation, and\\nmultilingual benchmarks. We also provide a model fine-tuned to follow\\ninstructions, Mixtral 8x7B - Instruct, that surpasses GPT-3.5 Turbo,\\nClaude-2.1, Gemini Pro, and Llama 2 70B - chat model on human benchmarks. Both\\nthe base and instruct models are released under the Apache 2.0 license.\\n</blockquote>\\n<!--CONTEXT-->\\n<div class=\"metatable\">\\n<table summary=\"Additional metadata\">\\n<tr>\\n<td class=\"tablecell label\">Comments:\\n</td>\\n<td class=\"tablecell comments mathjax\">See more details at <a href=\"https://mistral.ai/news/mixtral-of-experts/\">this https URL</a></td>\\n</tr>\\n<tr>\\n<td class=\"tablecell label\">Subjects:\\n</td>\\n<td class=\"tablecell subjects\"><span class=\"primary-subject\">Machine Learning (cs.LG)</span>; Computation and Language (cs.CL)</td>\\n</tr>\\n<tr>\\n<td class=\"tablecell label\">\\nCite&nbsp;as:\\n</td>\\n<td class=\"tablecell arxivid\"><a href=\"/abs/2401.04088\">arXiv:2401.04088</a> [cs.LG]</td>\\n</tr>\\n<tr>\\n<td class=\"tablecell label\">&nbsp;</td>\\n<td class=\"tablecell arxividv\">(or <span class=\"arxivid\"><a href=\"/abs/2401.04088v1\">arXiv:2401.04088v1</a> [cs.LG]</span> for this version)</td>\\n</tr>\\n</table>\\n</div>\\n<div class=\"submission-history\">\\n<h2>Submission history</h2>\\nFrom: Devendra Singh Chaplot [<a href=\"https://arxiv.org/show-email/d382fa4f/2401.04088\">view email</a>]\\n<br />\\n<b>[v1]</b> Mon, 8 Jan 2024 18:47:34 GMT  (2811kb,D)<br />\\n</div>\\n<div class=\"endorsers\"><a href=\"http://arxiv.org/auth/show-endorsers/2401.04088\">Which authors of this paper are endorsers?</a> | <a id=\"mathjax_toggle\" href=\"javascript:setMathjaxCookie()\">Disable MathJax</a> (<a href=\"/help/mathjax\">What is MathJax?</a>) </div><script type=\"text/javascript\" language=\"javascript\">mathjaxToggle();</script>\\n<script src=\"/bibex/bibex.js?20181009\" type=\"text/javascript\" defer></script>\\n</div><!--end leftcolumn-->\\n</div><!--end abs-->\\n<p>Link back to: <a href=\"http://arXiv.org/\">arXiv</a>, <a href=\"http://arxiv.org/form\">form interface</a>, <a href=\"/help/contact\">contact</a>.</p>\\n</div>\\n</div>\\n <footer style=\"clear: both;\">\\n      <div class=\"columns is-desktop\" role=\"navigation\" aria-label=\"Secondary\" style=\"margin: -0.75em -0.75em 0.75em -0.75em\">\\n        <!-- Macro-Column 1 -->\\n        <div class=\"column\" style=\"padding: 0;\">\\n          <div class=\"columns\">\\n            <div class=\"column\">\\n              <ul style=\"list-style: none; line-height: 2;\">\\n                <li><a href=\"https://arxiv.org/about\">About</a></li>\\n                <li><a href=\"https://arxiv.org/help\">Help</a></li>\\n              </ul>\\n            </div>\\n            <div class=\"column\">\\n              <ul style=\"list-style: none; line-height: 2;\">\\n                <li>\\n                  <svg xmlns=\"http://www.w3.org/2000/svg\" viewBox=\"0 0 512 512\" class=\"icon filter-black\" role=\"presentation\"><title>contact arXiv</title><desc>Click here to contact arXiv</desc><path d=\"M502.3 190.8c3.9-3.1 9.7-.2 9.7 4.7V400c0 26.5-21.5 48-48 48H48c-26.5 0-48-21.5-48-48V195.6c0-5 5.7-7.8 9.7-4.7 22.4 17.4 52.1 39.5 154.1 113.6 21.1 15.4 56.7 47.8 92.2 47.6 35.7.3 72-32.8 92.3-47.6 102-74.1 131.6-96.3 154-113.7zM256 320c23.2.4 56.6-29.2 73.4-41.4 132.7-96.3 142.8-104.7 173.4-128.7 5.8-4.5 9.2-11.5 9.2-18.9v-19c0-26.5-21.5-48-48-48H48C21.5 64 0 85.5 0 112v19c0 7.4 3.4 14.3 9.2 18.9 30.6 23.9 40.7 32.4 173.4 128.7 16.8 12.2 50.2 41.8 73.4 41.4z\"/></svg>\\n                  <a href=\"https://arxiv.org/help/contact\"> Contact</a>\\n                </li>\\n                <li>\\n                  <svg xmlns=\"http://www.w3.org/2000/svg\" viewBox=\"0 0 512 512\" class=\"icon filter-black\" role=\"presentation\"><title>subscribe to arXiv mailings</title><desc>Click here to subscribe</desc><path d=\"M476 3.2L12.5 270.6c-18.1 10.4-15.8 35.6 2.2 43.2L121 358.4l287.3-253.2c5.5-4.9 13.3 2.6 8.6 8.3L176 407v80.5c0 23.6 28.5 32.9 42.5 15.8L282 426l124.6 52.2c14.2 6 30.4-2.9 33-18.2l72-432C515 7.8 493.3-6.8 476 3.2z\"/></svg>\\n                  <a href=\"https://arxiv.org/help/subscribe\"> Subscribe</a>\\n                </li>\\n              </ul>\\n            </div>\\n          </div>\\n        </div>\\n        <!-- End Macro-Column 1 -->\\n        <!-- Macro-Column 2 -->\\n        <div class=\"column\" style=\"padding: 0;\">\\n          <div class=\"columns\">\\n            <div class=\"column\">\\n              <ul style=\"list-style: none; line-height: 2;\">\\n                <li><a href=\"https://arxiv.org/help/license\">Copyright</a></li>\\n                <li><a href=\"https://arxiv.org/help/policies/privacy_policy\">Privacy Policy</a></li>\\n              </ul>\\n            </div>\\n            <div class=\"column sorry-app-links\">\\n              <ul style=\"list-style: none; line-height: 2;\">\\n                <li><a href=\"https://arxiv.org/help/web_accessibility\">Web Accessibility Assistance</a></li>\\n                <li>\\n                  <p class=\"help\">\\n                    <a class=\"a11y-main-link\" href=\"https://status.arxiv.org\" target=\"_blank\">arXiv Operational Status <svg xmlns=\"http://www.w3.org/2000/svg\" viewBox=\"0 0 256 512\" class=\"icon filter-dark_grey\" role=\"presentation\"><path d=\"M224.3 273l-136 136c-9.4 9.4-24.6 9.4-33.9 0l-22.6-22.6c-9.4-9.4-9.4-24.6 0-33.9l96.4-96.4-96.4-96.4c-9.4-9.4-9.4-24.6 0-33.9L54.3 103c9.4-9.4 24.6-9.4 33.9 0l136 136c9.5 9.4 9.5 24.6.1 34z\"/></svg></a><br>\\n                    Get status notifications via\\n                    <a class=\"is-link\" href=\"https://subscribe.sorryapp.com/24846f03/email/new\" target=\"_blank\"><svg xmlns=\"http://www.w3.org/2000/svg\" viewBox=\"0 0 512 512\" class=\"icon filter-black\" role=\"presentation\"><path d=\"M502.3 190.8c3.9-3.1 9.7-.2 9.7 4.7V400c0 26.5-21.5 48-48 48H48c-26.5 0-48-21.5-48-48V195.6c0-5 5.7-7.8 9.7-4.7 22.4 17.4 52.1 39.5 154.1 113.6 21.1 15.4 56.7 47.8 92.2 47.6 35.7.3 72-32.8 92.3-47.6 102-74.1 131.6-96.3 154-113.7zM256 320c23.2.4 56.6-29.2 73.4-41.4 132.7-96.3 142.8-104.7 173.4-128.7 5.8-4.5 9.2-11.5 9.2-18.9v-19c0-26.5-21.5-48-48-48H48C21.5 64 0 85.5 0 112v19c0 7.4 3.4 14.3 9.2 18.9 30.6 23.9 40.7 32.4 173.4 128.7 16.8 12.2 50.2 41.8 73.4 41.4z\"/></svg>email</a>\\n                    or <a class=\"is-link\" href=\"https://subscribe.sorryapp.com/24846f03/slack/new\" target=\"_blank\"><svg xmlns=\"http://www.w3.org/2000/svg\" viewBox=\"0 0 448 512\" class=\"icon filter-black\" role=\"presentation\"><path d=\"M94.12 315.1c0 25.9-21.16 47.06-47.06 47.06S0 341 0 315.1c0-25.9 21.16-47.06 47.06-47.06h47.06v47.06zm23.72 0c0-25.9 21.16-47.06 47.06-47.06s47.06 21.16 47.06 47.06v117.84c0 25.9-21.16 47.06-47.06 47.06s-47.06-21.16-47.06-47.06V315.1zm47.06-188.98c-25.9 0-47.06-21.16-47.06-47.06S139 32 164.9 32s47.06 21.16 47.06 47.06v47.06H164.9zm0 23.72c25.9 0 47.06 21.16 47.06 47.06s-21.16 47.06-47.06 47.06H47.06C21.16 243.96 0 222.8 0 196.9s21.16-47.06 47.06-47.06H164.9zm188.98 47.06c0-25.9 21.16-47.06 47.06-47.06 25.9 0 47.06 21.16 47.06 47.06s-21.16 47.06-47.06 47.06h-47.06V196.9zm-23.72 0c0 25.9-21.16 47.06-47.06 47.06-25.9 0-47.06-21.16-47.06-47.06V79.06c0-25.9 21.16-47.06 47.06-47.06 25.9 0 47.06 21.16 47.06 47.06V196.9zM283.1 385.88c25.9 0 47.06 21.16 47.06 47.06 0 25.9-21.16 47.06-47.06 47.06-25.9 0-47.06-21.16-47.06-47.06v-47.06h47.06zm0-23.72c-25.9 0-47.06-21.16-47.06-47.06 0-25.9 21.16-47.06 47.06-47.06h117.84c25.9 0 47.06 21.16 47.06 47.06 0 25.9-21.16 47.06-47.06 47.06H283.1z\"/></svg>slack</a>\\n                  </p>\\n                </li>\\n              </ul>\\n            </div>\\n          </div>\\n        </div> <!-- end MetaColumn 2 -->\\n        <!-- End Macro-Column 2 -->\\n      </div>\\n    </footer>\\n</body>\\n</html>\\n'"
            ],
            "application/vnd.google.colaboratory.intrinsic+json": {
              "type": "string"
            }
          },
          "metadata": {},
          "execution_count": 26
        }
      ],
      "source": [
        "import requests\n",
        "\n",
        "# we will test with the mixtral paper\n",
        "arxiv_id = \"2401.04088\"\n",
        "\n",
        "res = requests.get(\n",
        "    f\"https://export.arxiv.org/abs/{arxiv_id}\"\n",
        ")\n",
        "res.text"
      ]
    },
    {
      "cell_type": "markdown",
      "metadata": {
        "id": "lPbxToG5HDm_"
      },
      "source": [
        "There's a lot going on there. Fortunately, we can use some _relatively_ straightforward regex to find the paper abstract."
      ]
    },
    {
      "cell_type": "code",
      "execution_count": 27,
      "metadata": {
        "colab": {
          "base_uri": "https://localhost:8080/"
        },
        "id": "efGqEsaAF26E",
        "outputId": "87aa73a6-d6a4-4acb-dea9-a377281e2b10"
      },
      "outputs": [
        {
          "output_type": "stream",
          "name": "stdout",
          "text": [
            "We introduce Mixtral 8x7B, a Sparse Mixture of Experts (SMoE) language model.\n",
            "Mixtral has the same architecture as Mistral 7B, with the difference that each\n",
            "layer is composed of 8 feedforward blocks (i.e. experts). For every token, at\n",
            "each layer, a router network selects two experts to process the current state\n",
            "and combine their outputs. Even though each token only sees two experts, the\n",
            "selected experts can be different at each timestep. As a result, each token has\n",
            "access to 47B parameters, but only uses 13B active parameters during inference.\n",
            "Mixtral was trained with a context size of 32k tokens and it outperforms or\n",
            "matches Llama 2 70B and GPT-3.5 across all evaluated benchmarks. In particular,\n",
            "Mixtral vastly outperforms Llama 2 70B on mathematics, code generation, and\n",
            "multilingual benchmarks. We also provide a model fine-tuned to follow\n",
            "instructions, Mixtral 8x7B - Instruct, that surpasses GPT-3.5 Turbo,\n",
            "Claude-2.1, Gemini Pro, and Llama 2 70B - chat model on human benchmarks. Both\n",
            "the base and instruct models are released under the Apache 2.0 license.\n"
          ]
        }
      ],
      "source": [
        "import re\n",
        "\n",
        "# our regex\n",
        "abstract_pattern = re.compile(\n",
        "    r'<blockquote class=\"abstract mathjax\">\\s*<span class=\"descriptor\">Abstract:</span>\\s*(.*?)\\s*</blockquote>',\n",
        "    re.DOTALL\n",
        ")\n",
        "\n",
        "# we search\n",
        "re_match = abstract_pattern.search(res.text)\n",
        "\n",
        "# and now let's see what we got\n",
        "print(re_match.group(1))"
      ]
    },
    {
      "cell_type": "markdown",
      "metadata": {
        "id": "1vjd5FhzHpqJ"
      },
      "source": [
        "Now we pack all of this logic into a tool for our agent to use."
      ]
    },
    {
      "cell_type": "code",
      "execution_count": 28,
      "metadata": {
        "id": "jpYR2DYsHtgb"
      },
      "outputs": [],
      "source": [
        "from langchain_core.tools import tool\n",
        "\n",
        "\n",
        "@tool(\"fetch_arxiv\")\n",
        "def fetch_arxiv(arxiv_id: str):\n",
        "    \"\"\"Gets the abstract from an ArXiv paper given the arxiv ID. Useful for\n",
        "    finding high-level context about a specific paper.\"\"\"\n",
        "    # get paper page in html\n",
        "    res = requests.get(\n",
        "        f\"https://export.arxiv.org/abs/{arxiv_id}\"\n",
        "    )\n",
        "    # search html for abstract\n",
        "    re_match = abstract_pattern.search(res.text)\n",
        "    # return abstract text\n",
        "    return re_match.group(1)"
      ]
    },
    {
      "cell_type": "markdown",
      "metadata": {
        "id": "3uydhqzKIU2F"
      },
      "source": [
        "Let's test the tool."
      ]
    },
    {
      "cell_type": "code",
      "execution_count": 29,
      "metadata": {
        "colab": {
          "base_uri": "https://localhost:8080/"
        },
        "id": "yeEnI3V7IVDe",
        "outputId": "35e68258-0411-449e-a52a-344bb7526531"
      },
      "outputs": [
        {
          "output_type": "stream",
          "name": "stdout",
          "text": [
            "We introduce Mixtral 8x7B, a Sparse Mixture of Experts (SMoE) language model.\n",
            "Mixtral has the same architecture as Mistral 7B, with the difference that each\n",
            "layer is composed of 8 feedforward blocks (i.e. experts). For every token, at\n",
            "each layer, a router network selects two experts to process the current state\n",
            "and combine their outputs. Even though each token only sees two experts, the\n",
            "selected experts can be different at each timestep. As a result, each token has\n",
            "access to 47B parameters, but only uses 13B active parameters during inference.\n",
            "Mixtral was trained with a context size of 32k tokens and it outperforms or\n",
            "matches Llama 2 70B and GPT-3.5 across all evaluated benchmarks. In particular,\n",
            "Mixtral vastly outperforms Llama 2 70B on mathematics, code generation, and\n",
            "multilingual benchmarks. We also provide a model fine-tuned to follow\n",
            "instructions, Mixtral 8x7B - Instruct, that surpasses GPT-3.5 Turbo,\n",
            "Claude-2.1, Gemini Pro, and Llama 2 70B - chat model on human benchmarks. Both\n",
            "the base and instruct models are released under the Apache 2.0 license.\n"
          ]
        }
      ],
      "source": [
        "print(\n",
        "    fetch_arxiv.invoke(input={\"arxiv_id\": arxiv_id})\n",
        ")"
      ]
    },
    {
      "cell_type": "markdown",
      "metadata": {
        "id": "vLX1N7oWKiNZ"
      },
      "source": [
        "### Web Search"
      ]
    },
    {
      "cell_type": "markdown",
      "metadata": {
        "id": "FsOutTz9KjoL"
      },
      "source": [
        "The web search tool will provide the agent with access to web search. It will be instructed to use this for more general knowledge queries."
      ]
    },
    {
      "cell_type": "code",
      "execution_count": 35,
      "metadata": {
        "id": "vuv_exwsH8ZJ",
        "colab": {
          "base_uri": "https://localhost:8080/"
        },
        "outputId": "c1a7b24f-5450-4b5f-abc9-73bfadd97362"
      },
      "outputs": [
        {
          "output_type": "stream",
          "name": "stdout",
          "text": [
            "{'search_metadata': {'id': '6725c8153c95757cb8c6e2e6', 'status': 'Success', 'json_endpoint': 'https://serpapi.com/searches/b382c3c1bd5f3b63/6725c8153c95757cb8c6e2e6.json', 'created_at': '2024-11-02 06:35:01 UTC', 'processed_at': '2024-11-02 06:35:01 UTC', 'google_url': 'https://www.google.com/search?q=coffee&oq=coffee&sourceid=chrome&ie=UTF-8', 'raw_html_file': 'https://serpapi.com/searches/b382c3c1bd5f3b63/6725c8153c95757cb8c6e2e6.html', 'total_time_taken': 1.45}, 'search_parameters': {'engine': 'google', 'q': 'coffee', 'google_domain': 'google.com', 'device': 'desktop'}, 'search_information': {'query_displayed': 'coffee', 'total_results': 4680000000, 'time_taken_displayed': 0.31, 'organic_results_state': 'Results for exact spelling'}, 'local_map': {'link': 'https://www.google.com/search?sca_esv=b442d26e8f1a3023&q=coffee&npsic=0&rflfq=1&rldoc=1&rllag=43595822,-83864259,2344&tbm=lcl&sa=X&ved=2ahUKEwi0mqWChL2JAxW6g4kEHUYSDhIQtgN6BAg_EAM', 'image': 'https://serpapi.com/searches/6725c8153c95757cb8c6e2e6/images/138160cf56e903e0526b91de747b7147.png', 'gps_coordinates': {'latitude': 43.595822, 'longitude': -83.864259}}, 'local_results': {'places': [{'position': 1, 'rating': 4.9, 'reviews_original': '(214)', 'reviews': 214, 'price': '$1–10', 'description': '\"... environment, clean, friendly service and excellent tasting coffee.\"', 'lsig': 'AB86z5WUNd6vj0oDzj7V1TdNWH5h', 'thumbnail': 'https://serpapi.com/searches/6725c8153c95757cb8c6e2e6/images/f843ddced0d0e6cb6390cab82d6108eb7bf1f0c6177e99d35f8c4af75440c9817a3da0f1f5e7f992.jpeg', 'title': 'Excited Goat Coffee Company', 'type': 'Coffee shop', 'address': '1480 W Center Rd Suite 5', 'hours': 'Closed ⋅ Opens 7 AM', 'place_id': '7466364977026234085', 'place_id_search': 'https://serpapi.com/search.json?device=desktop&engine=google&google_domain=google.com&ludocid=7466364977026234085&q=coffee', 'gps_coordinates': {'latitude': 43.595974, 'longitude': -83.835815}}, {'position': 2, 'rating': 4.8, 'reviews_original': '(226)', 'reviews': 226, 'price': '$1–10', 'description': '\"The coffee tastes delicious and the ambiance is welcoming and cozy.\"', 'lsig': 'AB86z5VVeYfMJKINN7cOyz8PJsbz', 'thumbnail': 'https://serpapi.com/searches/6725c8153c95757cb8c6e2e6/images/f843ddced0d0e6cb6390cab82d6108eb9abd2d91a1428592ef4c4094e354286bab2242420823eb22.jpeg', 'title': 'Live Oak Coffeehouse', 'type': 'Coffee shop', 'address': 'Bay City, MI', 'hours': 'Closed ⋅ Opens 7 AM', 'place_id': '11229804040011138658', 'place_id_search': 'https://serpapi.com/search.json?device=desktop&engine=google&google_domain=google.com&ludocid=11229804040011138658&q=coffee', 'gps_coordinates': {'latitude': 43.59131, 'longitude': -83.892715}}, {'position': 3, 'rating': 4.7, 'reviews_original': '(552)', 'reviews': 552, 'price': '$1–10', 'description': '\"I had my first ever Matcha latte there and the barista made it so delicious.\"', 'lsig': 'AB86z5UwHTiL3hL6RL9Rk0ho9dAH', 'thumbnail': 'https://serpapi.com/searches/6725c8153c95757cb8c6e2e6/images/f843ddced0d0e6cb6390cab82d6108eb775bf8fe2a2c78fa7c80c1a39602998d54001e0c32fa04ba.jpeg', 'title': 'Harless + Hugh Coffee', 'type': 'Coffee shop', 'address': 'Bay City, MI', 'hours': 'Closed ⋅ Opens 8 AM', 'place_id': '6503746463380662788', 'place_id_search': 'https://serpapi.com/search.json?device=desktop&engine=google&google_domain=google.com&ludocid=6503746463380662788&q=coffee', 'gps_coordinates': {'latitude': 43.600327, 'longitude': -83.88767}}], 'more_locations_link': 'https://www.google.com/search?sca_esv=b442d26e8f1a3023&tbm=lcl&q=coffee&rflfq=1&num=10&sa=X&ved=2ahUKEwi0mqWChL2JAxW6g4kEHUYSDhIQjGp6BAhCEAE'}, 'knowledge_graph': {'title': 'Coffee', 'type': 'Beverages', 'entity_type': 'food, kp3_verticals', 'kgmid': '/m/02vqfm', 'knowledge_graph_search_link': 'https://www.google.com/search?kgmid=/m/02vqfm&hl=en-US&q=Coffee', 'serpapi_knowledge_graph_search_link': 'https://serpapi.com/search.json?device=desktop&engine=google&google_domain=google.com&hl=en-US&kgmid=%2Fm%2F02vqfm&q=Coffee', 'header_images': [{'image': 'https://serpapi.com/searches/6725c8153c95757cb8c6e2e6/images/b1593540b92edf8c90d7566a3085490e7e0ad6817778de663925213517469ee7bcd12da2e333bd9b.webp'}, {'image': 'https://serpapi.com/searches/6725c8153c95757cb8c6e2e6/images/b1593540b92edf8c90d7566a3085490e7e0ad6817778de668a48924d22f7cc5a457d4d6ff79e1e41.webp'}, {'image': 'https://serpapi.com/searches/6725c8153c95757cb8c6e2e6/images/b1593540b92edf8c90d7566a3085490e7e0ad6817778de66a0e717e01ac550ad36c29f3fb90f9b01.webp'}], 'sources_include': 'USDAUSDAUSDAUSDAUSDAUSDAUSDACoffee1 Calories - 1 cup (8 fl oz) (237 g)', 'sources_include_links': [{'text': 'USDA', 'link': 'https://fdc.nal.usda.gov/fdc-app.html#/food-details/171890/nutrients'}, {'text': 'USDA', 'link': 'https://fdc.nal.usda.gov/fdc-app.html#/food-details/171889/nutrients'}, {'text': 'USDA', 'link': 'https://fdc.nal.usda.gov/fdc-app.html#/food-details/171891/nutrients'}, {'text': 'USDA', 'link': 'https://fdc.nal.usda.gov/fdc-app.html#/food-details/171893/nutrients'}, {'text': 'USDA', 'link': 'https://fdc.nal.usda.gov/fdc-app.html#/food-details/174134/nutrients'}, {'text': 'USDA', 'link': 'https://fdc.nal.usda.gov/'}, {'text': 'USDA', 'link': 'https://fdc.nal.usda.gov/fdc-app.html#/food-details/174135/nutrients'}], 'web_results': [{'link': 'https://en.wikipedia.org/wiki/Coffee'}, {'title': 'Color', 'snippet': 'Black, dark brown, light brown, beige', 'link': 'https://www.google.com/search?sca_esv=b442d26e8f1a3023&q=coffee+color&stick=H4sIAAAAAAAAAOPgE-LUz9U3MCorTMvVEiouttIvT01KS0wuKbZKzs_JL1rEypOcn5aWmqoA5gIAL6tTPDAAAAA&sa=X&ved=2ahUKEwi0mqWChL2JAxW6g4kEHUYSDhIQ18AJegQIOBAB'}, {'title': 'Flavor', 'snippet': 'Distinctive, somewhat bitter', 'link': 'https://www.google.com/search?sca_esv=b442d26e8f1a3023&q=coffee+flavor&stick=H4sIAAAAAAAAAOPgE-LUz9U3MCorTMvVEi4uttIvT01KS0wuKbZKy0ksyy9axMqbnJ-WlpqqAOEDAJ4Y5wIyAAAA&sa=X&ved=2ahUKEwi0mqWChL2JAxW6g4kEHUYSDhIQ18AJegQIOxAB'}], 'people_also_search_for': [{'name': 'Tea', 'link': 'https://www.google.com/search?sca_esv=b442d26e8f1a3023&si=ACC90nyvvWro6QmnyY1IfSdgk5wwjB1r8BGd_IWRjXqmKPQqm2VgjArAxxvSAJ_S7SFmrAEQJU4eWY_hYQwnunXX7rQFFh-dGYy-PZJ4ZMuIeGTXzUgScn9NIyGafOPq5ftsHdiB5uigc-S9MteXqEjugGKphlz3QXb-_tJXsNGR3zegtvCkZHDAzloeVI5C5R6V6DnzezPOwPLjrADI0iZLg2iL-Z0WW1yMsWjrq54PpGJeovb9qLOyr1a7l2muZ6dTRF6ArDke2sQWm0zA9snuHTl2e8GpMg%3D%3D&q=Tea&sa=X&ved=2ahUKEwi0mqWChL2JAxW6g4kEHUYSDhIQs9oBKAB6BAg1EAU', 'serpapi_link': 'https://serpapi.com/search.json?device=desktop&engine=google&google_domain=google.com&q=Tea&si=ACC90nyvvWro6QmnyY1IfSdgk5wwjB1r8BGd_IWRjXqmKPQqm2VgjArAxxvSAJ_S7SFmrAEQJU4eWY_hYQwnunXX7rQFFh-dGYy-PZJ4ZMuIeGTXzUgScn9NIyGafOPq5ftsHdiB5uigc-S9MteXqEjugGKphlz3QXb-_tJXsNGR3zegtvCkZHDAzloeVI5C5R6V6DnzezPOwPLjrADI0iZLg2iL-Z0WW1yMsWjrq54PpGJeovb9qLOyr1a7l2muZ6dTRF6ArDke2sQWm0zA9snuHTl2e8GpMg%3D%3D', 'image': 'https://serpapi.com/searches/6725c8153c95757cb8c6e2e6/images/b1593540b92edf8c90d7566a3085490e300a99dd52acef1649064b141f93c076471e9777dd70b3092d481b8b88215786.jpeg'}, {'name': 'Espresso', 'link': 'https://www.google.com/search?sca_esv=b442d26e8f1a3023&si=ACC90nyvvWro6QmnyY1IfSdgk5wwjB1r8BGd_IWRjXqmKPQqm0OBdatvW-a2I_fj-h_OaBEHsUHJhW4ah8NZkZpk09mCOQbPRUUm4GhTzhT7V0-hnsQiZUmCCQrmeyuX1WhsLrOcUX04c1cXCB7DacjPn04Sbx35thWHD-P3KXet9cEjr4clX4qAENkaRHHL9hpfixzylUH0lGwVulD8mcQek22PL8V4nQA13ziVoGCkxC0i6GgzVYSSDkhaY8d735NiiacSp6fnJ4Iw9bm9YrUpuO5iGVCYDSvG0xlDKVH_8HrvDgy8fxg%3D&q=Espresso&sa=X&ved=2ahUKEwi0mqWChL2JAxW6g4kEHUYSDhIQs9oBKAB6BAg1EAk', 'serpapi_link': 'https://serpapi.com/search.json?device=desktop&engine=google&google_domain=google.com&q=Espresso&si=ACC90nyvvWro6QmnyY1IfSdgk5wwjB1r8BGd_IWRjXqmKPQqm0OBdatvW-a2I_fj-h_OaBEHsUHJhW4ah8NZkZpk09mCOQbPRUUm4GhTzhT7V0-hnsQiZUmCCQrmeyuX1WhsLrOcUX04c1cXCB7DacjPn04Sbx35thWHD-P3KXet9cEjr4clX4qAENkaRHHL9hpfixzylUH0lGwVulD8mcQek22PL8V4nQA13ziVoGCkxC0i6GgzVYSSDkhaY8d735NiiacSp6fnJ4Iw9bm9YrUpuO5iGVCYDSvG0xlDKVH_8HrvDgy8fxg%3D', 'image': 'https://serpapi.com/searches/6725c8153c95757cb8c6e2e6/images/b1593540b92edf8c90d7566a3085490e300a99dd52acef1649064b141f93c076e5792d3e5a7da55abc034d5399874224.jpeg'}, {'name': 'Iced coffee', 'link': 'https://www.google.com/search?sca_esv=b442d26e8f1a3023&si=ACC90nzx_D3_zUKRnpAjmO0UBLNxnt7EyN4YYdru6U3bxLI-LwZxMRZGkitlNjNo6SNQSysgb0HH6qRTwo6GkSeWlsG5TW-c-HBY7hddIf_qVgjOk1NnzG53mlAY0E3LLA6keAcdDAcRYFbn-PH5K1RRW2keTRLGAuJlHEFARNi7qwiTvM4dFBU6sUhWyoBD5K7t8ePQqhx3fwcovOhqu4WRehab0CdTdN86liTSWeV74YUC--iBCazdMRN9pWnuSm-2lzeHU53bDkgjxFdgC6kWtShGdcOEYImvdUYxvdITMmhBF_823wU%3D&q=Iced+coffee&sa=X&ved=2ahUKEwi0mqWChL2JAxW6g4kEHUYSDhIQs9oBKAB6BAg1EA0', 'serpapi_link': 'https://serpapi.com/search.json?device=desktop&engine=google&google_domain=google.com&q=Iced+coffee&si=ACC90nzx_D3_zUKRnpAjmO0UBLNxnt7EyN4YYdru6U3bxLI-LwZxMRZGkitlNjNo6SNQSysgb0HH6qRTwo6GkSeWlsG5TW-c-HBY7hddIf_qVgjOk1NnzG53mlAY0E3LLA6keAcdDAcRYFbn-PH5K1RRW2keTRLGAuJlHEFARNi7qwiTvM4dFBU6sUhWyoBD5K7t8ePQqhx3fwcovOhqu4WRehab0CdTdN86liTSWeV74YUC--iBCazdMRN9pWnuSm-2lzeHU53bDkgjxFdgC6kWtShGdcOEYImvdUYxvdITMmhBF_823wU%3D', 'image': 'https://serpapi.com/searches/6725c8153c95757cb8c6e2e6/images/b1593540b92edf8c90d7566a3085490e300a99dd52acef1649064b141f93c0764cdae5648f4692e40cd82450bc927225.jpeg'}, {'name': 'Cappuccino', 'link': 'https://www.google.com/search?sca_esv=b442d26e8f1a3023&si=ACC90nyvvWro6QmnyY1IfSdgk5wwjB1r8BGd_IWRjXqmKPQqm6hqn45R6HDq_bRft1V3sEs5SFg7AnMgKGqcMKb-88Djo-obJzbDghWY78qsFURPwD-rPrzltETeXYFtPBWzln7WQkz-aMy9I2MFJIiE9yMN_GVsBVIhqDJaf6XSzRtBQw4GX6P0zMisXr_MzriQ3IHBJdRmoPQ335In3HpuNWfkUtpNWWsjYL0Hx4Hbod9rNCRj5bwqIb3fm83ifBYzDZ1dAxNlJmPFSUQUXk_MhJZTKg13by5Eu-1-kpp2cgB87sz50Zo%3D&q=Cappuccino&sa=X&ved=2ahUKEwi0mqWChL2JAxW6g4kEHUYSDhIQs9oBKAB6BAg1EBE', 'serpapi_link': 'https://serpapi.com/search.json?device=desktop&engine=google&google_domain=google.com&q=Cappuccino&si=ACC90nyvvWro6QmnyY1IfSdgk5wwjB1r8BGd_IWRjXqmKPQqm6hqn45R6HDq_bRft1V3sEs5SFg7AnMgKGqcMKb-88Djo-obJzbDghWY78qsFURPwD-rPrzltETeXYFtPBWzln7WQkz-aMy9I2MFJIiE9yMN_GVsBVIhqDJaf6XSzRtBQw4GX6P0zMisXr_MzriQ3IHBJdRmoPQ335In3HpuNWfkUtpNWWsjYL0Hx4Hbod9rNCRj5bwqIb3fm83ifBYzDZ1dAxNlJmPFSUQUXk_MhJZTKg13by5Eu-1-kpp2cgB87sz50Zo%3D', 'image': 'https://serpapi.com/searches/6725c8153c95757cb8c6e2e6/images/b1593540b92edf8c90d7566a3085490e300a99dd52acef1649064b141f93c076694447f99406bf34a443253331955dba.jpeg'}], 'list': {'total_fat': ['0 g', '0%'], 'cholesterol': ['0 mg', '0%'], 'sodium': ['5 mg', '0%'], 'potassium': ['116 mg', '3%'], 'total_carbohydrate': ['0 g', '0%'], 'protein': ['0.3 g', '0%'], 'caffeine': ['95 mg']}}, 'inline_products': [{'position': 1, 'title': 'Folgers Classic Roast Ground Coffee', 'block_title': 'In stores nearby', 'source': 'Walmart', 'price': 5.42, 'currency': '$', 'rating': 4.6, 'thumbnail': 'https://serpapi.com/searches/6725c8153c95757cb8c6e2e6/images/dd1d1a9dfdf0f956c559b1673c0d1e8c227e6d996186c749d476a8b3781e0b9e.webp'}, {'position': 2, 'title': 'Tim Hortons Ground Medium Roast Original Blend Coffee', 'block_title': 'In stores nearby', 'tag': '6% OFF', 'source': 'Meijer', 'price': 6.99, 'currency': '$', 'original_price': 7, 'rating': 4.6, 'thumbnail': 'https://serpapi.com/searches/6725c8153c95757cb8c6e2e6/images/dd1d1a9dfdf0f956c559b1673c0d1e8c5b85e2a633266979fa305792ded6222a.webp'}, {'position': 3, 'title': 'Maxwell House Wake Up Roast Ground Coffee', 'block_title': 'In stores nearby', 'source': 'CVS Pharmacy', 'price': 15.79, 'currency': '$', 'rating': 4.6, 'thumbnail': 'https://serpapi.com/searches/6725c8153c95757cb8c6e2e6/images/dd1d1a9dfdf0f956c559b1673c0d1e8cadbb0f79a3c9998b67248fa3e96afdcf.webp'}, {'position': 4, 'title': \"Member's Mark Colombian Classic Medium-Dark Roast Ground Coffee\", 'block_title': 'In stores nearby', 'source': \"Sam's Club\", 'price': 9.98, 'currency': '$', 'rating': 4.4, 'thumbnail': 'https://serpapi.com/searches/6725c8153c95757cb8c6e2e6/images/dd1d1a9dfdf0f956c559b1673c0d1e8c0a0bd9f9e71f8faa05eb86368750fe41.webp'}, {'position': 5, 'title': 'Starbucks Pike Place Roast Coffee', 'block_title': 'In stores nearby', 'source': 'Walmart', 'price': 8.48, 'currency': '$', 'rating': 4.6, 'thumbnail': 'https://serpapi.com/searches/6725c8153c95757cb8c6e2e6/images/dd1d1a9dfdf0f956c559b1673c0d1e8c3c1c9be8a63104c41e2c3fe1574069a7.webp'}, {'position': 6, 'block_title': 'In stores nearby'}, {'position': 7, 'block_title': 'In stores nearby'}, {'position': 8, 'block_title': 'In stores nearby'}, {'position': 9, 'block_title': 'In stores nearby'}, {'position': 10, 'block_title': 'In stores nearby'}, {'position': 11, 'block_title': 'In stores nearby'}, {'position': 12, 'block_title': 'In stores nearby'}, {'position': 13, 'block_title': 'In stores nearby'}, {'position': 14, 'block_title': 'In stores nearby'}, {'position': 15, 'block_title': 'In stores nearby'}, {'position': 16, 'block_title': 'In stores nearby'}, {'position': 17, 'block_title': 'In stores nearby'}, {'position': 18, 'block_title': 'In stores nearby'}, {'position': 19, 'block_title': 'In stores nearby'}, {'position': 20, 'block_title': 'In stores nearby'}, {'position': 21, 'block_title': 'In stores nearby'}, {'position': 22, 'block_title': 'In stores nearby'}, {'position': 23, 'block_title': 'In stores nearby'}, {'position': 24, 'block_title': 'In stores nearby'}, {'position': 25, 'block_title': 'In stores nearby'}, {'position': 26, 'block_title': 'In stores nearby'}, {'position': 27, 'block_title': 'In stores nearby'}, {'position': 28, 'block_title': 'In stores nearby'}, {'position': 29, 'block_title': 'In stores nearby'}], 'immersive_products': [{'category': 'In stores nearby', 'thumbnail': 'https://serpapi.com/searches/6725c8153c95757cb8c6e2e6/images/b66b3ef371d2ca269b47c317a9c829c889b5020b4afd07b19a086f508e2127c8.webp', 'source_logo': 'https://serpapi.com/searches/6725c8153c95757cb8c6e2e6/images/b66b3ef371d2ca269b47c317a9c829c81f8e6bae237e01ab166524c3c80fa856bd88a5c23da597ad.png', 'source': 'Walmart', 'title': 'Folgers Classic Roast Ground Coffee', 'rating': 4.6, 'reviews': 17000, 'price': '$5.42', 'extracted_price': 5.42, 'location': 'Nearby, 4 mi', 'delivery': '$16.94 same-day', 'returns': 'Free 90-day returns', 'immersive_product_page_token': 'eyJlaSI6IkZjZ2xaX1M3RzdxSHB0UVB4cVM0a0FFIiwicHJvZHVjdGlkIjoiIiwiY2F0YWxvZ2lkIjoiMTQ4NzAwMTA2OTg0MDAyNjU3ODEiLCJ2YyI6IiIsInZzYyI6IiIsImhlYWRsaW5lT2ZmZXJEb2NpZCI6IjMyMzgyMjQ4NDQ2MjQ5MTIxNjkiLCJpbWFnZURvY2lkIjoiMTY3MDQ3Mzc5NDg0MjMyNDQ4NTEiLCJyZHMiOiJQQ18zMjQ1NDc2NDAwODMzNTUxOTQ4fFBST0RfUENfMzI0NTQ3NjQwMDgzMzU1MTk0OCIsInF1ZXJ5IjoiY29mZmVlIn0=', 'serpapi_link': 'https://serpapi.com/search.json?engine=google_immersive_product&page_token=eyJlaSI6IkZjZ2xaX1M3RzdxSHB0UVB4cVM0a0FFIiwicHJvZHVjdGlkIjoiIiwiY2F0YWxvZ2lkIjoiMTQ4NzAwMTA2OTg0MDAyNjU3ODEiLCJ2YyI6IiIsInZzYyI6IiIsImhlYWRsaW5lT2ZmZXJEb2NpZCI6IjMyMzgyMjQ4NDQ2MjQ5MTIxNjkiLCJpbWFnZURvY2lkIjoiMTY3MDQ3Mzc5NDg0MjMyNDQ4NTEiLCJyZHMiOiJQQ18zMjQ1NDc2NDAwODMzNTUxOTQ4fFBST0RfUENfMzI0NTQ3NjQwMDgzMzU1MTk0OCIsInF1ZXJ5IjoiY29mZmVlIn0%3D'}, {'category': 'In stores nearby', 'thumbnail': 'https://serpapi.com/searches/6725c8153c95757cb8c6e2e6/images/b66b3ef371d2ca269b47c317a9c829c81117a2b253edd0a37d27ad799021ef12.webp', 'source_logo': 'https://serpapi.com/searches/6725c8153c95757cb8c6e2e6/images/b66b3ef371d2ca269b47c317a9c829c85fcececc72b4a4a7d112da7f7c65f0cd39aad9e7a423056e.png', 'source': 'Meijer', 'title': 'Tim Hortons Ground Medium Roast Original Blend Coffee', 'rating': 4.6, 'reviews': 1400, 'price': '$6.99', 'extracted_price': 6.99, 'original_price': '$7', 'extracted_original_price': 7, 'location': 'Nearby, 2 mi', 'extensions': ['6% OFF'], 'immersive_product_page_token': 'eyJlaSI6IkZjZ2xaX1M3RzdxSHB0UVB4cVM0a0FFIiwicHJvZHVjdGlkIjoiIiwiY2F0YWxvZ2lkIjoiMTQzMDIyNzk4OTU2NDQwMDg2NjgiLCJ2YyI6IiIsInZzYyI6IiIsImhlYWRsaW5lT2ZmZXJEb2NpZCI6IjExMDYwMDAxNjY3NjQ2MzA0MDkyIiwiaW1hZ2VEb2NpZCI6IjE3NDkyNTEzNTM0NjY1NDI2MjI1IiwicmRzIjoiUENfMTM0NTc3MTYxMTI5NTE3MTQzOTV8UFJPRF9QQ18xMzQ1NzcxNjExMjk1MTcxNDM5NSIsInF1ZXJ5IjoiY29mZmVlIn0=', 'serpapi_link': 'https://serpapi.com/search.json?engine=google_immersive_product&page_token=eyJlaSI6IkZjZ2xaX1M3RzdxSHB0UVB4cVM0a0FFIiwicHJvZHVjdGlkIjoiIiwiY2F0YWxvZ2lkIjoiMTQzMDIyNzk4OTU2NDQwMDg2NjgiLCJ2YyI6IiIsInZzYyI6IiIsImhlYWRsaW5lT2ZmZXJEb2NpZCI6IjExMDYwMDAxNjY3NjQ2MzA0MDkyIiwiaW1hZ2VEb2NpZCI6IjE3NDkyNTEzNTM0NjY1NDI2MjI1IiwicmRzIjoiUENfMTM0NTc3MTYxMTI5NTE3MTQzOTV8UFJPRF9QQ18xMzQ1NzcxNjExMjk1MTcxNDM5NSIsInF1ZXJ5IjoiY29mZmVlIn0%3D'}, {'category': 'In stores nearby', 'thumbnail': 'https://serpapi.com/searches/6725c8153c95757cb8c6e2e6/images/b66b3ef371d2ca269b47c317a9c829c8ceaf68e34aae3f6a50661598454da797.webp', 'source_logo': 'https://serpapi.com/searches/6725c8153c95757cb8c6e2e6/images/b66b3ef371d2ca269b47c317a9c829c8ebfdc094e63e33068140a6b8793e6bcc9b7e5f6e07f2876d.png', 'source': 'CVS Pharmacy', 'title': 'Maxwell House Wake Up Roast Ground Coffee', 'rating': 4.6, 'reviews': 152, 'price': '$15.79', 'extracted_price': 15.79, 'location': 'Nearby, 4 mi', 'delivery': 'Free $35+', 'returns': '60-day returns', 'immersive_product_page_token': 'eyJlaSI6IkZjZ2xaX1M3RzdxSHB0UVB4cVM0a0FFIiwicHJvZHVjdGlkIjoiIiwiY2F0YWxvZ2lkIjoiMTA4MjI3MTc1MTk5MDUxNzcyOTQiLCJ2YyI6IiIsInZzYyI6IiIsImhlYWRsaW5lT2ZmZXJEb2NpZCI6Ijk4ODI5Nzc4OTQwNjMxMTIxOTEiLCJpbWFnZURvY2lkIjoiNzU2Mzk0MjQ4MDgxMDYwNzk5MCIsInJkcyI6IlBDXzY3NTAyMDE2NDAwMTgxNjI4MDV8UFJPRF9QQ182NzUwMjAxNjQwMDE4MTYyODA1IiwicXVlcnkiOiJjb2ZmZWUifQ==', 'serpapi_link': 'https://serpapi.com/search.json?engine=google_immersive_product&page_token=eyJlaSI6IkZjZ2xaX1M3RzdxSHB0UVB4cVM0a0FFIiwicHJvZHVjdGlkIjoiIiwiY2F0YWxvZ2lkIjoiMTA4MjI3MTc1MTk5MDUxNzcyOTQiLCJ2YyI6IiIsInZzYyI6IiIsImhlYWRsaW5lT2ZmZXJEb2NpZCI6Ijk4ODI5Nzc4OTQwNjMxMTIxOTEiLCJpbWFnZURvY2lkIjoiNzU2Mzk0MjQ4MDgxMDYwNzk5MCIsInJkcyI6IlBDXzY3NTAyMDE2NDAwMTgxNjI4MDV8UFJPRF9QQ182NzUwMjAxNjQwMDE4MTYyODA1IiwicXVlcnkiOiJjb2ZmZWUifQ%3D%3D'}, {'category': 'In stores nearby', 'thumbnail': 'https://serpapi.com/searches/6725c8153c95757cb8c6e2e6/images/b66b3ef371d2ca269b47c317a9c829c8fdab93417304901895a351a705d94cea.webp', 'source_logo': 'https://serpapi.com/searches/6725c8153c95757cb8c6e2e6/images/b66b3ef371d2ca269b47c317a9c829c8ceebe868d863d4c3c42dcc214e49bf2c9606cc4df06157b5.png', 'source': \"Sam's Club\", 'title': \"Member's Mark Colombian Classic Medium-Dark Roast Ground Coffee\", 'rating': 4.4, 'reviews': 1300, 'price': '$9.98', 'extracted_price': 9.98, 'location': 'Nearby, 10 mi', 'immersive_product_page_token': 'eyJlaSI6IkZjZ2xaX1M3RzdxSHB0UVB4cVM0a0FFIiwicHJvZHVjdGlkIjoiIiwiY2F0YWxvZ2lkIjoiMTQ5NTAyOTY2Mzk3MjY3NDEwNDkiLCJ2YyI6IiIsInZzYyI6IiIsImhlYWRsaW5lT2ZmZXJEb2NpZCI6IjEzOTA2ODk3NTA5NzUxMDMzMDkxIiwiaW1hZ2VEb2NpZCI6IjY4MjQwMzczMzEyNzY3OTc0MDEiLCJyZHMiOiJQQ182MjI5MjExMDc4ODk1NzkwMzk5fFBST0RfUENfNjIyOTIxMTA3ODg5NTc5MDM5OSIsInF1ZXJ5IjoiY29mZmVlIn0=', 'serpapi_link': 'https://serpapi.com/search.json?engine=google_immersive_product&page_token=eyJlaSI6IkZjZ2xaX1M3RzdxSHB0UVB4cVM0a0FFIiwicHJvZHVjdGlkIjoiIiwiY2F0YWxvZ2lkIjoiMTQ5NTAyOTY2Mzk3MjY3NDEwNDkiLCJ2YyI6IiIsInZzYyI6IiIsImhlYWRsaW5lT2ZmZXJEb2NpZCI6IjEzOTA2ODk3NTA5NzUxMDMzMDkxIiwiaW1hZ2VEb2NpZCI6IjY4MjQwMzczMzEyNzY3OTc0MDEiLCJyZHMiOiJQQ182MjI5MjExMDc4ODk1NzkwMzk5fFBST0RfUENfNjIyOTIxMTA3ODg5NTc5MDM5OSIsInF1ZXJ5IjoiY29mZmVlIn0%3D'}, {'category': 'In stores nearby', 'thumbnail': 'https://serpapi.com/searches/6725c8153c95757cb8c6e2e6/images/b66b3ef371d2ca269b47c317a9c829c8dc0a6c1b3c7be709b1586b6750206b6e.webp', 'source_logo': 'https://serpapi.com/searches/6725c8153c95757cb8c6e2e6/images/b66b3ef371d2ca269b47c317a9c829c828894b9b497ccd80b4460eff5a2ef23b0de35b832771893b.png', 'source': 'Walmart', 'title': 'Starbucks Pike Place Roast Coffee', 'rating': 4.6, 'reviews': 9700, 'price': '$8.48', 'extracted_price': 8.48, 'location': 'Nearby, 4 mi', 'delivery': '$16.94 same-day', 'returns': 'Free 90-day returns', 'immersive_product_page_token': 'eyJlaSI6IkZjZ2xaX1M3RzdxSHB0UVB4cVM0a0FFIiwicHJvZHVjdGlkIjoiIiwiY2F0YWxvZ2lkIjoiMTQ5MzY2MTExMTY2NzQxNDU5MTciLCJ2YyI6IiIsInZzYyI6IiIsImhlYWRsaW5lT2ZmZXJEb2NpZCI6IjU1MjM0Njk0NzgwODI1MzYxODgiLCJpbWFnZURvY2lkIjoiOTIyMzk1OTgzMTQzOTc0NDQzNiIsInJkcyI6IlBDXzg3OTcyMTY0MjU3MjU4NjE5Mzd8UFJPRF9QQ184Nzk3MjE2NDI1NzI1ODYxOTM3IiwicXVlcnkiOiJjb2ZmZWUifQ==', 'serpapi_link': 'https://serpapi.com/search.json?engine=google_immersive_product&page_token=eyJlaSI6IkZjZ2xaX1M3RzdxSHB0UVB4cVM0a0FFIiwicHJvZHVjdGlkIjoiIiwiY2F0YWxvZ2lkIjoiMTQ5MzY2MTExMTY2NzQxNDU5MTciLCJ2YyI6IiIsInZzYyI6IiIsImhlYWRsaW5lT2ZmZXJEb2NpZCI6IjU1MjM0Njk0NzgwODI1MzYxODgiLCJpbWFnZURvY2lkIjoiOTIyMzk1OTgzMTQzOTc0NDQzNiIsInJkcyI6IlBDXzg3OTcyMTY0MjU3MjU4NjE5Mzd8UFJPRF9QQ184Nzk3MjE2NDI1NzI1ODYxOTM3IiwicXVlcnkiOiJjb2ZmZWUifQ%3D%3D'}, {'category': 'In stores nearby', 'immersive_product_page_token': 'eyJlaSI6IkZjZ2xaX1M3RzdxSHB0UVB4cVM0a0FFIiwicHJvZHVjdGlkIjoiIiwiY2F0YWxvZ2lkIjoiMTQ4NzAwMTA2OTg0MDAyNjU3ODEiLCJ2YyI6IiIsInZzYyI6IiIsImhlYWRsaW5lT2ZmZXJEb2NpZCI6IjEyNDE2Mjc5NDI5NDk4OTc2MTA5IiwiaW1hZ2VEb2NpZCI6IjE2NzA0NzM3OTQ4NDIzMjQ0ODUxIiwicmRzIjoiUENfMzI0NTQ3NjQwMDgzMzU1MTk0OHxQUk9EX1BDXzMyNDU0NzY0MDA4MzM1NTE5NDgiLCJxdWVyeSI6ImNvZmZlZSJ9', 'serpapi_link': 'https://serpapi.com/search.json?engine=google_immersive_product&page_token=eyJlaSI6IkZjZ2xaX1M3RzdxSHB0UVB4cVM0a0FFIiwicHJvZHVjdGlkIjoiIiwiY2F0YWxvZ2lkIjoiMTQ4NzAwMTA2OTg0MDAyNjU3ODEiLCJ2YyI6IiIsInZzYyI6IiIsImhlYWRsaW5lT2ZmZXJEb2NpZCI6IjEyNDE2Mjc5NDI5NDk4OTc2MTA5IiwiaW1hZ2VEb2NpZCI6IjE2NzA0NzM3OTQ4NDIzMjQ0ODUxIiwicmRzIjoiUENfMzI0NTQ3NjQwMDgzMzU1MTk0OHxQUk9EX1BDXzMyNDU0NzY0MDA4MzM1NTE5NDgiLCJxdWVyeSI6ImNvZmZlZSJ9'}, {'category': 'In stores nearby', 'immersive_product_page_token': 'eyJlaSI6IkZjZ2xaX1M3RzdxSHB0UVB4cVM0a0FFIiwicHJvZHVjdGlkIjoiIiwiY2F0YWxvZ2lkIjoiNzcxMjEyMTQyODA1NzU5MjU2MCIsInZjIjoiIiwidnNjIjoiIiwiaGVhZGxpbmVPZmZlckRvY2lkIjoiNjAzMTAwMjg2MTg2MDExODkyNCIsImltYWdlRG9jaWQiOiIxMDMwODYzNjE1ODg1OTEyOTgyNCIsInJkcyI6IlBDXzM4NzQxMjAxOTQzNjI0NTQ5NXxQUk9EX1BDXzM4NzQxMjAxOTQzNjI0NTQ5NSIsInF1ZXJ5IjoiY29mZmVlIn0=', 'serpapi_link': 'https://serpapi.com/search.json?engine=google_immersive_product&page_token=eyJlaSI6IkZjZ2xaX1M3RzdxSHB0UVB4cVM0a0FFIiwicHJvZHVjdGlkIjoiIiwiY2F0YWxvZ2lkIjoiNzcxMjEyMTQyODA1NzU5MjU2MCIsInZjIjoiIiwidnNjIjoiIiwiaGVhZGxpbmVPZmZlckRvY2lkIjoiNjAzMTAwMjg2MTg2MDExODkyNCIsImltYWdlRG9jaWQiOiIxMDMwODYzNjE1ODg1OTEyOTgyNCIsInJkcyI6IlBDXzM4NzQxMjAxOTQzNjI0NTQ5NXxQUk9EX1BDXzM4NzQxMjAxOTQzNjI0NTQ5NSIsInF1ZXJ5IjoiY29mZmVlIn0%3D'}, {'category': 'In stores nearby', 'immersive_product_page_token': 'eyJlaSI6IkZjZ2xaX1M3RzdxSHB0UVB4cVM0a0FFIiwicHJvZHVjdGlkIjoiIiwiY2F0YWxvZ2lkIjoiNzE4MjMzNjU4NzE1OTYxNjQ1MiIsInZjIjoiIiwidnNjIjoiIiwiaGVhZGxpbmVPZmZlckRvY2lkIjoiNzIwNzQ3MzIyNDg3NzU4MjE1MCIsImltYWdlRG9jaWQiOiI4MzY2MDYyNzM2NzgwMDczMDE1IiwicmRzIjoiUENfOTEzMzQ1OTE0OTA0MzA4ODg1OHxQUk9EX1BDXzkxMzM0NTkxNDkwNDMwODg4NTgiLCJxdWVyeSI6ImNvZmZlZSJ9', 'serpapi_link': 'https://serpapi.com/search.json?engine=google_immersive_product&page_token=eyJlaSI6IkZjZ2xaX1M3RzdxSHB0UVB4cVM0a0FFIiwicHJvZHVjdGlkIjoiIiwiY2F0YWxvZ2lkIjoiNzE4MjMzNjU4NzE1OTYxNjQ1MiIsInZjIjoiIiwidnNjIjoiIiwiaGVhZGxpbmVPZmZlckRvY2lkIjoiNzIwNzQ3MzIyNDg3NzU4MjE1MCIsImltYWdlRG9jaWQiOiI4MzY2MDYyNzM2NzgwMDczMDE1IiwicmRzIjoiUENfOTEzMzQ1OTE0OTA0MzA4ODg1OHxQUk9EX1BDXzkxMzM0NTkxNDkwNDMwODg4NTgiLCJxdWVyeSI6ImNvZmZlZSJ9'}, {'category': 'In stores nearby', 'immersive_product_page_token': 'eyJlaSI6IkZjZ2xaX1M3RzdxSHB0UVB4cVM0a0FFIiwicHJvZHVjdGlkIjoiIiwiY2F0YWxvZ2lkIjoiODMzNjc5NzU2NTYwMjg2MzIxMyIsInZjIjoiIiwidnNjIjoiIiwiaGVhZGxpbmVPZmZlckRvY2lkIjoiMzAwMTM5MTIzODk2NjM3ODYwMiIsImltYWdlRG9jaWQiOiIxMTQ1NjMzMDU1NjQ1MjY3NzU3MSIsInJkcyI6IlBDXzMxNzk3NDY4OTk4MjA1NTgwMjB8UFJPRF9QQ18zMTc5NzQ2ODk5ODIwNTU4MDIwIiwicXVlcnkiOiJjb2ZmZWUifQ==', 'serpapi_link': 'https://serpapi.com/search.json?engine=google_immersive_product&page_token=eyJlaSI6IkZjZ2xaX1M3RzdxSHB0UVB4cVM0a0FFIiwicHJvZHVjdGlkIjoiIiwiY2F0YWxvZ2lkIjoiODMzNjc5NzU2NTYwMjg2MzIxMyIsInZjIjoiIiwidnNjIjoiIiwiaGVhZGxpbmVPZmZlckRvY2lkIjoiMzAwMTM5MTIzODk2NjM3ODYwMiIsImltYWdlRG9jaWQiOiIxMTQ1NjMzMDU1NjQ1MjY3NzU3MSIsInJkcyI6IlBDXzMxNzk3NDY4OTk4MjA1NTgwMjB8UFJPRF9QQ18zMTc5NzQ2ODk5ODIwNTU4MDIwIiwicXVlcnkiOiJjb2ZmZWUifQ%3D%3D'}, {'category': 'In stores nearby', 'immersive_product_page_token': 'eyJlaSI6IkZjZ2xaX1M3RzdxSHB0UVB4cVM0a0FFIiwicHJvZHVjdGlkIjoiIiwiY2F0YWxvZ2lkIjoiODg4MDExODcxNjE5MDc3NzA0OCIsInZjIjoiIiwidnNjIjoiIiwiaGVhZGxpbmVPZmZlckRvY2lkIjoiMTA3MTY0ODg3NjM2MTYzMjExNTYiLCJpbWFnZURvY2lkIjoiMTY1NzY5MjE1Nzc4MzM2NDY0NjYiLCJyZHMiOiJQQ18zMjQ1NDc2NDAwODMzNTUxOTQ4fFBST0RfUENfMzI0NTQ3NjQwMDgzMzU1MTk0OCIsInF1ZXJ5IjoiY29mZmVlIn0=', 'serpapi_link': 'https://serpapi.com/search.json?engine=google_immersive_product&page_token=eyJlaSI6IkZjZ2xaX1M3RzdxSHB0UVB4cVM0a0FFIiwicHJvZHVjdGlkIjoiIiwiY2F0YWxvZ2lkIjoiODg4MDExODcxNjE5MDc3NzA0OCIsInZjIjoiIiwidnNjIjoiIiwiaGVhZGxpbmVPZmZlckRvY2lkIjoiMTA3MTY0ODg3NjM2MTYzMjExNTYiLCJpbWFnZURvY2lkIjoiMTY1NzY5MjE1Nzc4MzM2NDY0NjYiLCJyZHMiOiJQQ18zMjQ1NDc2NDAwODMzNTUxOTQ4fFBST0RfUENfMzI0NTQ3NjQwMDgzMzU1MTk0OCIsInF1ZXJ5IjoiY29mZmVlIn0%3D'}, {'category': 'In stores nearby', 'immersive_product_page_token': 'eyJlaSI6IkZjZ2xaX1M3RzdxSHB0UVB4cVM0a0FFIiwicHJvZHVjdGlkIjoiIiwiY2F0YWxvZ2lkIjoiNTk4MTYyMTg0NjgyNjY5MDYyNSIsInZjIjoiIiwidnNjIjoiIiwiaGVhZGxpbmVPZmZlckRvY2lkIjoiNjYxMTc4OTIzNDQ5MjQ4NTk0MSIsImltYWdlRG9jaWQiOiI3MzY2NTY1MTI1NDA3MDIzNDEiLCJyZHMiOiJQQ183NjI2OTE1NzcyNzQyNTMzODAwfFBST0RfUENfNzYyNjkxNTc3Mjc0MjUzMzgwMCIsInF1ZXJ5IjoiY29mZmVlIn0=', 'serpapi_link': 'https://serpapi.com/search.json?engine=google_immersive_product&page_token=eyJlaSI6IkZjZ2xaX1M3RzdxSHB0UVB4cVM0a0FFIiwicHJvZHVjdGlkIjoiIiwiY2F0YWxvZ2lkIjoiNTk4MTYyMTg0NjgyNjY5MDYyNSIsInZjIjoiIiwidnNjIjoiIiwiaGVhZGxpbmVPZmZlckRvY2lkIjoiNjYxMTc4OTIzNDQ5MjQ4NTk0MSIsImltYWdlRG9jaWQiOiI3MzY2NTY1MTI1NDA3MDIzNDEiLCJyZHMiOiJQQ183NjI2OTE1NzcyNzQyNTMzODAwfFBST0RfUENfNzYyNjkxNTc3Mjc0MjUzMzgwMCIsInF1ZXJ5IjoiY29mZmVlIn0%3D'}, {'category': 'In stores nearby', 'immersive_product_page_token': 'eyJlaSI6IkZjZ2xaX1M3RzdxSHB0UVB4cVM0a0FFIiwicHJvZHVjdGlkIjoiIiwiY2F0YWxvZ2lkIjoiNDIyMjY1NDE4NzYxOTI0OTM4IiwidmMiOiIiLCJ2c2MiOiIiLCJoZWFkbGluZU9mZmVyRG9jaWQiOiI2MTY4NTkyNTI1MDUyNTM1OTczIiwiaW1hZ2VEb2NpZCI6IjEwNjM2NDA0NDUyMDMwOTE4NTMwIiwicmRzIjoiUENfMTEwMzg5NDY5NzM5NjAwNjg1OXxQUk9EX1BDXzExMDM4OTQ2OTczOTYwMDY4NTkiLCJxdWVyeSI6ImNvZmZlZSJ9', 'serpapi_link': 'https://serpapi.com/search.json?engine=google_immersive_product&page_token=eyJlaSI6IkZjZ2xaX1M3RzdxSHB0UVB4cVM0a0FFIiwicHJvZHVjdGlkIjoiIiwiY2F0YWxvZ2lkIjoiNDIyMjY1NDE4NzYxOTI0OTM4IiwidmMiOiIiLCJ2c2MiOiIiLCJoZWFkbGluZU9mZmVyRG9jaWQiOiI2MTY4NTkyNTI1MDUyNTM1OTczIiwiaW1hZ2VEb2NpZCI6IjEwNjM2NDA0NDUyMDMwOTE4NTMwIiwicmRzIjoiUENfMTEwMzg5NDY5NzM5NjAwNjg1OXxQUk9EX1BDXzExMDM4OTQ2OTczOTYwMDY4NTkiLCJxdWVyeSI6ImNvZmZlZSJ9'}, {'category': 'In stores nearby', 'immersive_product_page_token': 'eyJlaSI6IkZjZ2xaX1M3RzdxSHB0UVB4cVM0a0FFIiwicHJvZHVjdGlkIjoiIiwiY2F0YWxvZ2lkIjoiMTQ4NzAwMTA2OTg0MDAyNjU3ODEiLCJ2YyI6IiIsInZzYyI6IiIsImhlYWRsaW5lT2ZmZXJEb2NpZCI6IjY3Mzc4Njc5MzcwOTIwOTA1MiIsImltYWdlRG9jaWQiOiIxNjcwNDczNzk0ODQyMzI0NDg1MSIsInJkcyI6IlBDXzMyNDU0NzY0MDA4MzM1NTE5NDh8UFJPRF9QQ18zMjQ1NDc2NDAwODMzNTUxOTQ4IiwicXVlcnkiOiJjb2ZmZWUifQ==', 'serpapi_link': 'https://serpapi.com/search.json?engine=google_immersive_product&page_token=eyJlaSI6IkZjZ2xaX1M3RzdxSHB0UVB4cVM0a0FFIiwicHJvZHVjdGlkIjoiIiwiY2F0YWxvZ2lkIjoiMTQ4NzAwMTA2OTg0MDAyNjU3ODEiLCJ2YyI6IiIsInZzYyI6IiIsImhlYWRsaW5lT2ZmZXJEb2NpZCI6IjY3Mzc4Njc5MzcwOTIwOTA1MiIsImltYWdlRG9jaWQiOiIxNjcwNDczNzk0ODQyMzI0NDg1MSIsInJkcyI6IlBDXzMyNDU0NzY0MDA4MzM1NTE5NDh8UFJPRF9QQ18zMjQ1NDc2NDAwODMzNTUxOTQ4IiwicXVlcnkiOiJjb2ZmZWUifQ%3D%3D'}, {'category': 'In stores nearby', 'immersive_product_page_token': 'eyJlaSI6IkZjZ2xaX1M3RzdxSHB0UVB4cVM0a0FFIiwicHJvZHVjdGlkIjoiIiwiY2F0YWxvZ2lkIjoiOTYyNjYwNjcxODA1MTUyNzA3MCIsInZjIjoiIiwidnNjIjoiIiwiaGVhZGxpbmVPZmZlckRvY2lkIjoiMTY0OTY2MzMxNDQxMzk1NjU1NzYiLCJpbWFnZURvY2lkIjoiNjI0MjQzNjQ5MjQ2OTYyMzE3MiIsInJkcyI6IlBDXzUxOTQyNzI0NDU5NDk4MzUyODV8UFJPRF9QQ181MTk0MjcyNDQ1OTQ5ODM1Mjg1IiwicXVlcnkiOiJjb2ZmZWUifQ==', 'serpapi_link': 'https://serpapi.com/search.json?engine=google_immersive_product&page_token=eyJlaSI6IkZjZ2xaX1M3RzdxSHB0UVB4cVM0a0FFIiwicHJvZHVjdGlkIjoiIiwiY2F0YWxvZ2lkIjoiOTYyNjYwNjcxODA1MTUyNzA3MCIsInZjIjoiIiwidnNjIjoiIiwiaGVhZGxpbmVPZmZlckRvY2lkIjoiMTY0OTY2MzMxNDQxMzk1NjU1NzYiLCJpbWFnZURvY2lkIjoiNjI0MjQzNjQ5MjQ2OTYyMzE3MiIsInJkcyI6IlBDXzUxOTQyNzI0NDU5NDk4MzUyODV8UFJPRF9QQ181MTk0MjcyNDQ1OTQ5ODM1Mjg1IiwicXVlcnkiOiJjb2ZmZWUifQ%3D%3D'}, {'category': 'In stores nearby', 'immersive_product_page_token': 'eyJlaSI6IkZjZ2xaX1M3RzdxSHB0UVB4cVM0a0FFIiwicHJvZHVjdGlkIjoiIiwiY2F0YWxvZ2lkIjoiMTQ4NzAwMTA2OTg0MDAyNjU3ODEiLCJ2YyI6IiIsInZzYyI6IiIsImhlYWRsaW5lT2ZmZXJEb2NpZCI6IjE2ODA4NzA0NDEwMzU2NzU4NjgzIiwiaW1hZ2VEb2NpZCI6IjE2NzA0NzM3OTQ4NDIzMjQ0ODUxIiwicmRzIjoiUENfMzI0NTQ3NjQwMDgzMzU1MTk0OHxQUk9EX1BDXzMyNDU0NzY0MDA4MzM1NTE5NDgiLCJxdWVyeSI6ImNvZmZlZSJ9', 'serpapi_link': 'https://serpapi.com/search.json?engine=google_immersive_product&page_token=eyJlaSI6IkZjZ2xaX1M3RzdxSHB0UVB4cVM0a0FFIiwicHJvZHVjdGlkIjoiIiwiY2F0YWxvZ2lkIjoiMTQ4NzAwMTA2OTg0MDAyNjU3ODEiLCJ2YyI6IiIsInZzYyI6IiIsImhlYWRsaW5lT2ZmZXJEb2NpZCI6IjE2ODA4NzA0NDEwMzU2NzU4NjgzIiwiaW1hZ2VEb2NpZCI6IjE2NzA0NzM3OTQ4NDIzMjQ0ODUxIiwicmRzIjoiUENfMzI0NTQ3NjQwMDgzMzU1MTk0OHxQUk9EX1BDXzMyNDU0NzY0MDA4MzM1NTE5NDgiLCJxdWVyeSI6ImNvZmZlZSJ9'}, {'category': 'In stores nearby', 'immersive_product_page_token': 'eyJlaSI6IkZjZ2xaX1M3RzdxSHB0UVB4cVM0a0FFIiwicHJvZHVjdGlkIjoiIiwiY2F0YWxvZ2lkIjoiNDcxNTU0NDcwOTUzNTg0MTM5IiwidmMiOiIiLCJ2c2MiOiIiLCJoZWFkbGluZU9mZmVyRG9jaWQiOiI1NDg2NTQzODg0NDc5NzY2NDQzIiwiaW1hZ2VEb2NpZCI6IjEzNTQ1NjI2ODQwMDU0MTg4ODQ1IiwicmRzIjoiUENfMTI2Njc5NTUwMDIzMTY4NDkyMzB8UFJPRF9QQ18xMjY2Nzk1NTAwMjMxNjg0OTIzMCIsInF1ZXJ5IjoiY29mZmVlIn0=', 'serpapi_link': 'https://serpapi.com/search.json?engine=google_immersive_product&page_token=eyJlaSI6IkZjZ2xaX1M3RzdxSHB0UVB4cVM0a0FFIiwicHJvZHVjdGlkIjoiIiwiY2F0YWxvZ2lkIjoiNDcxNTU0NDcwOTUzNTg0MTM5IiwidmMiOiIiLCJ2c2MiOiIiLCJoZWFkbGluZU9mZmVyRG9jaWQiOiI1NDg2NTQzODg0NDc5NzY2NDQzIiwiaW1hZ2VEb2NpZCI6IjEzNTQ1NjI2ODQwMDU0MTg4ODQ1IiwicmRzIjoiUENfMTI2Njc5NTUwMDIzMTY4NDkyMzB8UFJPRF9QQ18xMjY2Nzk1NTAwMjMxNjg0OTIzMCIsInF1ZXJ5IjoiY29mZmVlIn0%3D'}, {'category': 'In stores nearby', 'immersive_product_page_token': 'eyJlaSI6IkZjZ2xaX1M3RzdxSHB0UVB4cVM0a0FFIiwicHJvZHVjdGlkIjoiIiwiY2F0YWxvZ2lkIjoiMTQzMDIyNzk4OTU2NDQwMDg2NjgiLCJ2YyI6IiIsInZzYyI6IiIsImhlYWRsaW5lT2ZmZXJEb2NpZCI6Ijc0NDk2MDY0NDc4NTU1NzQzMzUiLCJpbWFnZURvY2lkIjoiMTc0OTI1MTM1MzQ2NjU0MjYyMjUiLCJyZHMiOiJQQ18xMzQ1NzcxNjExMjk1MTcxNDM5NXxQUk9EX1BDXzEzNDU3NzE2MTEyOTUxNzE0Mzk1IiwicXVlcnkiOiJjb2ZmZWUifQ==', 'serpapi_link': 'https://serpapi.com/search.json?engine=google_immersive_product&page_token=eyJlaSI6IkZjZ2xaX1M3RzdxSHB0UVB4cVM0a0FFIiwicHJvZHVjdGlkIjoiIiwiY2F0YWxvZ2lkIjoiMTQzMDIyNzk4OTU2NDQwMDg2NjgiLCJ2YyI6IiIsInZzYyI6IiIsImhlYWRsaW5lT2ZmZXJEb2NpZCI6Ijc0NDk2MDY0NDc4NTU1NzQzMzUiLCJpbWFnZURvY2lkIjoiMTc0OTI1MTM1MzQ2NjU0MjYyMjUiLCJyZHMiOiJQQ18xMzQ1NzcxNjExMjk1MTcxNDM5NXxQUk9EX1BDXzEzNDU3NzE2MTEyOTUxNzE0Mzk1IiwicXVlcnkiOiJjb2ZmZWUifQ%3D%3D'}, {'category': 'In stores nearby', 'immersive_product_page_token': 'eyJlaSI6IkZjZ2xaX1M3RzdxSHB0UVB4cVM0a0FFIiwicHJvZHVjdGlkIjoiIiwiY2F0YWxvZ2lkIjoiNDg4MjI4NTIyMjQzMTYwNjM2MiIsInZjIjoiIiwidnNjIjoiIiwiaGVhZGxpbmVPZmZlckRvY2lkIjoiNjk1NDA1NDM4NDM2MTc2NDU5NCIsImltYWdlRG9jaWQiOiIxMzEyNDE3ODY1MzcxOTc3Nzg2OCIsInJkcyI6IlBDXzg0ODE1Mjc1MDUxNDQxOTQ0MDh8UFJPRF9QQ184NDgxNTI3NTA1MTQ0MTk0NDA4IiwicXVlcnkiOiJjb2ZmZWUifQ==', 'serpapi_link': 'https://serpapi.com/search.json?engine=google_immersive_product&page_token=eyJlaSI6IkZjZ2xaX1M3RzdxSHB0UVB4cVM0a0FFIiwicHJvZHVjdGlkIjoiIiwiY2F0YWxvZ2lkIjoiNDg4MjI4NTIyMjQzMTYwNjM2MiIsInZjIjoiIiwidnNjIjoiIiwiaGVhZGxpbmVPZmZlckRvY2lkIjoiNjk1NDA1NDM4NDM2MTc2NDU5NCIsImltYWdlRG9jaWQiOiIxMzEyNDE3ODY1MzcxOTc3Nzg2OCIsInJkcyI6IlBDXzg0ODE1Mjc1MDUxNDQxOTQ0MDh8UFJPRF9QQ184NDgxNTI3NTA1MTQ0MTk0NDA4IiwicXVlcnkiOiJjb2ZmZWUifQ%3D%3D'}, {'category': 'In stores nearby', 'immersive_product_page_token': 'eyJlaSI6IkZjZ2xaX1M3RzdxSHB0UVB4cVM0a0FFIiwicHJvZHVjdGlkIjoiIiwiY2F0YWxvZ2lkIjoiNTE4NTc3MDU2NDUzNTU4NTUzIiwidmMiOiIiLCJ2c2MiOiIiLCJoZWFkbGluZU9mZmVyRG9jaWQiOiI3Mzg5MDUxODYwMjk4MjA5NTMzIiwiaW1hZ2VEb2NpZCI6IjcwNDQyMDY4MzE1Nzc0NDUyOTYiLCJyZHMiOiJQQ184NDA0ODUyOTU3NzI4ODE2ODM4fFBST0RfUENfODQwNDg1Mjk1NzcyODgxNjgzOCIsInF1ZXJ5IjoiY29mZmVlIn0=', 'serpapi_link': 'https://serpapi.com/search.json?engine=google_immersive_product&page_token=eyJlaSI6IkZjZ2xaX1M3RzdxSHB0UVB4cVM0a0FFIiwicHJvZHVjdGlkIjoiIiwiY2F0YWxvZ2lkIjoiNTE4NTc3MDU2NDUzNTU4NTUzIiwidmMiOiIiLCJ2c2MiOiIiLCJoZWFkbGluZU9mZmVyRG9jaWQiOiI3Mzg5MDUxODYwMjk4MjA5NTMzIiwiaW1hZ2VEb2NpZCI6IjcwNDQyMDY4MzE1Nzc0NDUyOTYiLCJyZHMiOiJQQ184NDA0ODUyOTU3NzI4ODE2ODM4fFBST0RfUENfODQwNDg1Mjk1NzcyODgxNjgzOCIsInF1ZXJ5IjoiY29mZmVlIn0%3D'}, {'category': 'In stores nearby', 'immersive_product_page_token': 'eyJlaSI6IkZjZ2xaX1M3RzdxSHB0UVB4cVM0a0FFIiwicHJvZHVjdGlkIjoiIiwiY2F0YWxvZ2lkIjoiMTU5MzA2NzIzNzUxMTE2OTUwNCIsInZjIjoiIiwidnNjIjoiIiwiaGVhZGxpbmVPZmZlckRvY2lkIjoiODUyOTY5MTAwMzAzMzYzNzkzMCIsImltYWdlRG9jaWQiOiIxMjg2NTEzNDQ0MjQyNzYxNTgiLCJyZHMiOiJQQ18xNzU0NzcyNzgyMTYyOTkxOTA3MXxQUk9EX1BDXzE3NTQ3NzI3ODIxNjI5OTE5MDcxIiwicXVlcnkiOiJjb2ZmZWUifQ==', 'serpapi_link': 'https://serpapi.com/search.json?engine=google_immersive_product&page_token=eyJlaSI6IkZjZ2xaX1M3RzdxSHB0UVB4cVM0a0FFIiwicHJvZHVjdGlkIjoiIiwiY2F0YWxvZ2lkIjoiMTU5MzA2NzIzNzUxMTE2OTUwNCIsInZjIjoiIiwidnNjIjoiIiwiaGVhZGxpbmVPZmZlckRvY2lkIjoiODUyOTY5MTAwMzAzMzYzNzkzMCIsImltYWdlRG9jaWQiOiIxMjg2NTEzNDQ0MjQyNzYxNTgiLCJyZHMiOiJQQ18xNzU0NzcyNzgyMTYyOTkxOTA3MXxQUk9EX1BDXzE3NTQ3NzI3ODIxNjI5OTE5MDcxIiwicXVlcnkiOiJjb2ZmZWUifQ%3D%3D'}, {'category': 'In stores nearby', 'immersive_product_page_token': 'eyJlaSI6IkZjZ2xaX1M3RzdxSHB0UVB4cVM0a0FFIiwicHJvZHVjdGlkIjoiIiwiY2F0YWxvZ2lkIjoiMTc0NzEzMzIzMzAwMDkzNzc4NzUiLCJ2YyI6IiIsInZzYyI6IiIsImhlYWRsaW5lT2ZmZXJEb2NpZCI6IjE3NjA0NDYyNTk3ODA0NjU5OTU4IiwiaW1hZ2VEb2NpZCI6IjE2OTc2NDQ2NjQzNjA0MzU2OTM0IiwicmRzIjoiUENfNjkxMTg4NjUyMjU2Mzk1ODgzNHxQUk9EX1BDXzY5MTE4ODY1MjI1NjM5NTg4MzQiLCJxdWVyeSI6ImNvZmZlZSJ9', 'serpapi_link': 'https://serpapi.com/search.json?engine=google_immersive_product&page_token=eyJlaSI6IkZjZ2xaX1M3RzdxSHB0UVB4cVM0a0FFIiwicHJvZHVjdGlkIjoiIiwiY2F0YWxvZ2lkIjoiMTc0NzEzMzIzMzAwMDkzNzc4NzUiLCJ2YyI6IiIsInZzYyI6IiIsImhlYWRsaW5lT2ZmZXJEb2NpZCI6IjE3NjA0NDYyNTk3ODA0NjU5OTU4IiwiaW1hZ2VEb2NpZCI6IjE2OTc2NDQ2NjQzNjA0MzU2OTM0IiwicmRzIjoiUENfNjkxMTg4NjUyMjU2Mzk1ODgzNHxQUk9EX1BDXzY5MTE4ODY1MjI1NjM5NTg4MzQiLCJxdWVyeSI6ImNvZmZlZSJ9'}, {'category': 'In stores nearby', 'immersive_product_page_token': 'eyJlaSI6IkZjZ2xaX1M3RzdxSHB0UVB4cVM0a0FFIiwicHJvZHVjdGlkIjoiIiwiY2F0YWxvZ2lkIjoiMTA1MjYzNjExODU2Mzk2MDU1MTIiLCJ2YyI6IiIsInZzYyI6IiIsImhlYWRsaW5lT2ZmZXJEb2NpZCI6IjEyMzU5NDIzNDk4NzM1MDQzNjQ4IiwiaW1hZ2VEb2NpZCI6Ijc4NjkzMDY3NDg5NTUyMDY0NDYiLCJyZHMiOiJQQ18xMzc1MzAwNjgyMjM3MTA5MjgwNXxQUk9EX1BDXzEzNzUzMDA2ODIyMzcxMDkyODA1IiwicXVlcnkiOiJjb2ZmZWUifQ==', 'serpapi_link': 'https://serpapi.com/search.json?engine=google_immersive_product&page_token=eyJlaSI6IkZjZ2xaX1M3RzdxSHB0UVB4cVM0a0FFIiwicHJvZHVjdGlkIjoiIiwiY2F0YWxvZ2lkIjoiMTA1MjYzNjExODU2Mzk2MDU1MTIiLCJ2YyI6IiIsInZzYyI6IiIsImhlYWRsaW5lT2ZmZXJEb2NpZCI6IjEyMzU5NDIzNDk4NzM1MDQzNjQ4IiwiaW1hZ2VEb2NpZCI6Ijc4NjkzMDY3NDg5NTUyMDY0NDYiLCJyZHMiOiJQQ18xMzc1MzAwNjgyMjM3MTA5MjgwNXxQUk9EX1BDXzEzNzUzMDA2ODIyMzcxMDkyODA1IiwicXVlcnkiOiJjb2ZmZWUifQ%3D%3D'}, {'category': 'In stores nearby', 'immersive_product_page_token': 'eyJlaSI6IkZjZ2xaX1M3RzdxSHB0UVB4cVM0a0FFIiwicHJvZHVjdGlkIjoiIiwiY2F0YWxvZ2lkIjoiNzcxMjEyMTQyODA1NzU5MjU2MCIsInZjIjoiIiwidnNjIjoiIiwiaGVhZGxpbmVPZmZlckRvY2lkIjoiMzQ2ODIxODEyNTM4NzgwODgyMyIsImltYWdlRG9jaWQiOiIxMDMwODYzNjE1ODg1OTEyOTgyNCIsInJkcyI6IlBDXzM4NzQxMjAxOTQzNjI0NTQ5NXxQUk9EX1BDXzM4NzQxMjAxOTQzNjI0NTQ5NSIsInF1ZXJ5IjoiY29mZmVlIn0=', 'serpapi_link': 'https://serpapi.com/search.json?engine=google_immersive_product&page_token=eyJlaSI6IkZjZ2xaX1M3RzdxSHB0UVB4cVM0a0FFIiwicHJvZHVjdGlkIjoiIiwiY2F0YWxvZ2lkIjoiNzcxMjEyMTQyODA1NzU5MjU2MCIsInZjIjoiIiwidnNjIjoiIiwiaGVhZGxpbmVPZmZlckRvY2lkIjoiMzQ2ODIxODEyNTM4NzgwODgyMyIsImltYWdlRG9jaWQiOiIxMDMwODYzNjE1ODg1OTEyOTgyNCIsInJkcyI6IlBDXzM4NzQxMjAxOTQzNjI0NTQ5NXxQUk9EX1BDXzM4NzQxMjAxOTQzNjI0NTQ5NSIsInF1ZXJ5IjoiY29mZmVlIn0%3D'}, {'category': 'In stores nearby', 'immersive_product_page_token': 'eyJlaSI6IkZjZ2xaX1M3RzdxSHB0UVB4cVM0a0FFIiwicHJvZHVjdGlkIjoiIiwiY2F0YWxvZ2lkIjoiMTc3MjM5NjI4MDUwOTc4MDE5ODQiLCJ2YyI6IiIsInZzYyI6IiIsImhlYWRsaW5lT2ZmZXJEb2NpZCI6IjE4Njk3OTM2NTc2OTk5OTAzMjciLCJpbWFnZURvY2lkIjoiMjE5NDAxNTU5MjA1MjI4ODAwOSIsInJkcyI6IlBDXzEwMjI1NjYyMDMyMTc3NjUzOTg4fFBST0RfUENfMTAyMjU2NjIwMzIxNzc2NTM5ODgiLCJxdWVyeSI6ImNvZmZlZSJ9', 'serpapi_link': 'https://serpapi.com/search.json?engine=google_immersive_product&page_token=eyJlaSI6IkZjZ2xaX1M3RzdxSHB0UVB4cVM0a0FFIiwicHJvZHVjdGlkIjoiIiwiY2F0YWxvZ2lkIjoiMTc3MjM5NjI4MDUwOTc4MDE5ODQiLCJ2YyI6IiIsInZzYyI6IiIsImhlYWRsaW5lT2ZmZXJEb2NpZCI6IjE4Njk3OTM2NTc2OTk5OTAzMjciLCJpbWFnZURvY2lkIjoiMjE5NDAxNTU5MjA1MjI4ODAwOSIsInJkcyI6IlBDXzEwMjI1NjYyMDMyMTc3NjUzOTg4fFBST0RfUENfMTAyMjU2NjIwMzIxNzc2NTM5ODgiLCJxdWVyeSI6ImNvZmZlZSJ9'}, {'category': 'In stores nearby', 'immersive_product_page_token': 'eyJlaSI6IkZjZ2xaX1M3RzdxSHB0UVB4cVM0a0FFIiwicHJvZHVjdGlkIjoiIiwiY2F0YWxvZ2lkIjoiNDczMzA4MTQ0MzE0MTg4NDc3NiIsInZjIjoiIiwidnNjIjoiIiwiaGVhZGxpbmVPZmZlckRvY2lkIjoiMTYzMjg0NzY1NjUzMDY0NzE1NTgiLCJpbWFnZURvY2lkIjoiODMwNTM4NTkxNzQ0MzE4OTE0NyIsInJkcyI6IlBDXzE2NDQ5OTg5MjkzMDEyMTUwNTR8UFJPRF9QQ18xNjQ0OTk4OTI5MzAxMjE1MDU0IiwicXVlcnkiOiJjb2ZmZWUifQ==', 'serpapi_link': 'https://serpapi.com/search.json?engine=google_immersive_product&page_token=eyJlaSI6IkZjZ2xaX1M3RzdxSHB0UVB4cVM0a0FFIiwicHJvZHVjdGlkIjoiIiwiY2F0YWxvZ2lkIjoiNDczMzA4MTQ0MzE0MTg4NDc3NiIsInZjIjoiIiwidnNjIjoiIiwiaGVhZGxpbmVPZmZlckRvY2lkIjoiMTYzMjg0NzY1NjUzMDY0NzE1NTgiLCJpbWFnZURvY2lkIjoiODMwNTM4NTkxNzQ0MzE4OTE0NyIsInJkcyI6IlBDXzE2NDQ5OTg5MjkzMDEyMTUwNTR8UFJPRF9QQ18xNjQ0OTk4OTI5MzAxMjE1MDU0IiwicXVlcnkiOiJjb2ZmZWUifQ%3D%3D'}, {'category': 'In stores nearby', 'immersive_product_page_token': 'eyJlaSI6IkZjZ2xaX1M3RzdxSHB0UVB4cVM0a0FFIiwicHJvZHVjdGlkIjoiIiwiY2F0YWxvZ2lkIjoiNTM2NTk4MDg2NTk0MDA1NDA3NyIsInZjIjoiIiwidnNjIjoiIiwiaGVhZGxpbmVPZmZlckRvY2lkIjoiMTE0NzYwNDk4MTI3MTc4OTM1NzAiLCJpbWFnZURvY2lkIjoiMTIyODkxMDA3NTIyNDMyNTQzOTgiLCJyZHMiOiJQQ18xMjA1MzQ3OTk0NzQ0NzkxNzUyfFBST0RfUENfMTIwNTM0Nzk5NDc0NDc5MTc1MiIsInF1ZXJ5IjoiY29mZmVlIn0=', 'serpapi_link': 'https://serpapi.com/search.json?engine=google_immersive_product&page_token=eyJlaSI6IkZjZ2xaX1M3RzdxSHB0UVB4cVM0a0FFIiwicHJvZHVjdGlkIjoiIiwiY2F0YWxvZ2lkIjoiNTM2NTk4MDg2NTk0MDA1NDA3NyIsInZjIjoiIiwidnNjIjoiIiwiaGVhZGxpbmVPZmZlckRvY2lkIjoiMTE0NzYwNDk4MTI3MTc4OTM1NzAiLCJpbWFnZURvY2lkIjoiMTIyODkxMDA3NTIyNDMyNTQzOTgiLCJyZHMiOiJQQ18xMjA1MzQ3OTk0NzQ0NzkxNzUyfFBST0RfUENfMTIwNTM0Nzk5NDc0NDc5MTc1MiIsInF1ZXJ5IjoiY29mZmVlIn0%3D'}, {'category': 'In stores nearby', 'immersive_product_page_token': 'eyJlaSI6IkZjZ2xaX1M3RzdxSHB0UVB4cVM0a0FFIiwicHJvZHVjdGlkIjoiIiwiY2F0YWxvZ2lkIjoiMTUwMjAzOTA3OTY1NDE1MDA3NTMiLCJ2YyI6IiIsInZzYyI6IiIsImhlYWRsaW5lT2ZmZXJEb2NpZCI6IjE3MzEyNTc2MDI4OTUwMDM3MzIyIiwiaW1hZ2VEb2NpZCI6IjEyNjgwOTUzODM3Njg0MDM3ODgyIiwicmRzIjoiIiwicXVlcnkiOiJjb2ZmZWUifQ==', 'serpapi_link': 'https://serpapi.com/search.json?engine=google_immersive_product&page_token=eyJlaSI6IkZjZ2xaX1M3RzdxSHB0UVB4cVM0a0FFIiwicHJvZHVjdGlkIjoiIiwiY2F0YWxvZ2lkIjoiMTUwMjAzOTA3OTY1NDE1MDA3NTMiLCJ2YyI6IiIsInZzYyI6IiIsImhlYWRsaW5lT2ZmZXJEb2NpZCI6IjE3MzEyNTc2MDI4OTUwMDM3MzIyIiwiaW1hZ2VEb2NpZCI6IjEyNjgwOTUzODM3Njg0MDM3ODgyIiwicmRzIjoiIiwicXVlcnkiOiJjb2ZmZWUifQ%3D%3D'}, {'category': 'In stores nearby', 'immersive_product_page_token': 'eyJlaSI6IkZjZ2xaX1M3RzdxSHB0UVB4cVM0a0FFIiwicHJvZHVjdGlkIjoiIiwiY2F0YWxvZ2lkIjoiNzcxMjEyMTQyODA1NzU5MjU2MCIsInZjIjoiIiwidnNjIjoiIiwiaGVhZGxpbmVPZmZlckRvY2lkIjoiMTQyNDI3MjM3NTgwMzgzMjQyNTAiLCJpbWFnZURvY2lkIjoiMTAzMDg2MzYxNTg4NTkxMjk4MjQiLCJyZHMiOiJQQ18zODc0MTIwMTk0MzYyNDU0OTV8UFJPRF9QQ18zODc0MTIwMTk0MzYyNDU0OTUiLCJxdWVyeSI6ImNvZmZlZSJ9', 'serpapi_link': 'https://serpapi.com/search.json?engine=google_immersive_product&page_token=eyJlaSI6IkZjZ2xaX1M3RzdxSHB0UVB4cVM0a0FFIiwicHJvZHVjdGlkIjoiIiwiY2F0YWxvZ2lkIjoiNzcxMjEyMTQyODA1NzU5MjU2MCIsInZjIjoiIiwidnNjIjoiIiwiaGVhZGxpbmVPZmZlckRvY2lkIjoiMTQyNDI3MjM3NTgwMzgzMjQyNTAiLCJpbWFnZURvY2lkIjoiMTAzMDg2MzYxNTg4NTkxMjk4MjQiLCJyZHMiOiJQQ18zODc0MTIwMTk0MzYyNDU0OTV8UFJPRF9QQ18zODc0MTIwMTk0MzYyNDU0OTUiLCJxdWVyeSI6ImNvZmZlZSJ9'}, {'category': 'In stores nearby', 'immersive_product_page_token': 'eyJlaSI6IkZjZ2xaX1M3RzdxSHB0UVB4cVM0a0FFIiwicHJvZHVjdGlkIjoiIiwiY2F0YWxvZ2lkIjoiMTc3MjM5NjI4MDUwOTc4MDE5ODQiLCJ2YyI6IiIsInZzYyI6IiIsImhlYWRsaW5lT2ZmZXJEb2NpZCI6IjE1NDIxMTU2OTEyNjA3NjgzODU2IiwiaW1hZ2VEb2NpZCI6IjIxOTQwMTU1OTIwNTIyODgwMDkiLCJyZHMiOiJQQ18xMDIyNTY2MjAzMjE3NzY1Mzk4OHxQUk9EX1BDXzEwMjI1NjYyMDMyMTc3NjUzOTg4IiwicXVlcnkiOiJjb2ZmZWUifQ==', 'serpapi_link': 'https://serpapi.com/search.json?engine=google_immersive_product&page_token=eyJlaSI6IkZjZ2xaX1M3RzdxSHB0UVB4cVM0a0FFIiwicHJvZHVjdGlkIjoiIiwiY2F0YWxvZ2lkIjoiMTc3MjM5NjI4MDUwOTc4MDE5ODQiLCJ2YyI6IiIsInZzYyI6IiIsImhlYWRsaW5lT2ZmZXJEb2NpZCI6IjE1NDIxMTU2OTEyNjA3NjgzODU2IiwiaW1hZ2VEb2NpZCI6IjIxOTQwMTU1OTIwNTIyODgwMDkiLCJyZHMiOiJQQ18xMDIyNTY2MjAzMjE3NzY1Mzk4OHxQUk9EX1BDXzEwMjI1NjYyMDMyMTc3NjUzOTg4IiwicXVlcnkiOiJjb2ZmZWUifQ%3D%3D'}, {'category': 'Popular products', 'thumbnail': 'https://encrypted-tbn1.gstatic.com/shopping?q=tbn:ANd9GcSraT7OVtMhg6QutGI2A2KdWz-jCFqQp4esNHj27_GSCG_HqLrJvA4NiW14IYiQ__nSpbevLv3Z46RG5zuaCARh2Zt_btlKX1AqK4MJILm6InwPLe1LNoRd1w', 'source_logo': 'https://encrypted-tbn2.gstatic.com/favicon-tbn?q=tbn%3AANd9GcSP-3CAlIHM4vrNOnJx5Jd7oBV13KVkk1fiPTxyM09zvi5dG3Cb77DP5Yk91NGg0tnVV2YHLB83fSvddh4G2eFtTFdFtAhWT5aKHscH', 'source': 'Bones Coffee Company', 'title': 'Ground Bones Coffee 5 Bag Sample Pack', 'rating': 4.8, 'reviews': 11000, 'price': '$33.00', 'extracted_price': 33.0, 'delivery': 'Free $75+', 'returns': '30-day returns', 'immersive_product_page_token': 'eyJlaSI6IkZjZ2xaX1M3RzdxSHB0UVB4cVM0a0FFIiwicHJvZHVjdGlkIjoiIiwiY2F0YWxvZ2lkIjoiNzczMzU1MzAzMjAzNjY3NzU4NCIsInZjIjoiIiwidnNjIjoiIiwiaGVhZGxpbmVPZmZlckRvY2lkIjoiMTMzNDk3ODQ3NTQ0MjgyMTU3MzAiLCJpbWFnZURvY2lkIjoiNjM0OTk5OTM3ODA1MjkzOTY3MyIsInJkcyI6IlBDXzE0NjE1ODQ1OTU5MTc4NTY1OTAxfFBST0RfUENfMTQ2MTU4NDU5NTkxNzg1NjU5MDEiLCJxdWVyeSI6ImNvZmZlZSJ9', 'serpapi_link': 'https://serpapi.com/search.json?engine=google_immersive_product&page_token=eyJlaSI6IkZjZ2xaX1M3RzdxSHB0UVB4cVM0a0FFIiwicHJvZHVjdGlkIjoiIiwiY2F0YWxvZ2lkIjoiNzczMzU1MzAzMjAzNjY3NzU4NCIsInZjIjoiIiwidnNjIjoiIiwiaGVhZGxpbmVPZmZlckRvY2lkIjoiMTMzNDk3ODQ3NTQ0MjgyMTU3MzAiLCJpbWFnZURvY2lkIjoiNjM0OTk5OTM3ODA1MjkzOTY3MyIsInJkcyI6IlBDXzE0NjE1ODQ1OTU5MTc4NTY1OTAxfFBST0RfUENfMTQ2MTU4NDU5NTkxNzg1NjU5MDEiLCJxdWVyeSI6ImNvZmZlZSJ9'}, {'category': 'Popular products', 'thumbnail': 'https://encrypted-tbn1.gstatic.com/shopping?q=tbn:ANd9GcQN_CC0gH6MlQF0lxouaL9ffMwqGDzOLJx7nMgSUegEGJtEHDqeDozUhk_QbccwjLxuQSWFUN61cOBtjBsKbZB4B_4Tbr_pOV_6HadyDwDBWg3Izexr5Ymo', 'source_logo': 'https://encrypted-tbn1.gstatic.com/favicon-tbn?q=tbn%3AANd9GcSr30EzBoxaXOgULwmzSRg2Ghmt2nLUWxW7wxBRnQFz9MCqXfeEmPsau3i2L2P5txeBQFvmxWBlaBJxPZoE0i4g2lMUCad3TsJ9TVnihhsXnio', 'source': 'Black Rifle Coffee Company', 'title': 'Black Rifle Coffee Company Freedom Fuel', 'rating': 4.5, 'reviews': 98, 'price': '$15.99', 'extracted_price': 15.99, 'location': 'Also nearby', 'returns': '30-day returns', 'immersive_product_page_token': 'eyJlaSI6IkZjZ2xaX1M3RzdxSHB0UVB4cVM0a0FFIiwicHJvZHVjdGlkIjoiIiwiY2F0YWxvZ2lkIjoiMTQ5MTE4Mzk0MjE3NDcwMDA0MDMiLCJ2YyI6IiIsInZzYyI6IiIsImhlYWRsaW5lT2ZmZXJEb2NpZCI6IjI1Mjg0OTk4ODAzNTQ4OTQ5OTAiLCJpbWFnZURvY2lkIjoiMTE3NzAxNzk2NzcwMzkxOTM3MDEiLCJyZHMiOiJQQ18xNjIwNjM4MjQwMzg5MzU1MjYwNHxQUk9EX1BDXzE2MjA2MzgyNDAzODkzNTUyNjA0IiwicXVlcnkiOiJjb2ZmZWUifQ==', 'serpapi_link': 'https://serpapi.com/search.json?engine=google_immersive_product&page_token=eyJlaSI6IkZjZ2xaX1M3RzdxSHB0UVB4cVM0a0FFIiwicHJvZHVjdGlkIjoiIiwiY2F0YWxvZ2lkIjoiMTQ5MTE4Mzk0MjE3NDcwMDA0MDMiLCJ2YyI6IiIsInZzYyI6IiIsImhlYWRsaW5lT2ZmZXJEb2NpZCI6IjI1Mjg0OTk4ODAzNTQ4OTQ5OTAiLCJpbWFnZURvY2lkIjoiMTE3NzAxNzk2NzcwMzkxOTM3MDEiLCJyZHMiOiJQQ18xNjIwNjM4MjQwMzg5MzU1MjYwNHxQUk9EX1BDXzE2MjA2MzgyNDAzODkzNTUyNjA0IiwicXVlcnkiOiJjb2ZmZWUifQ%3D%3D'}, {'category': 'Popular products', 'thumbnail': 'https://encrypted-tbn0.gstatic.com/shopping?q=tbn:ANd9GcSrr03dTuIybC4ewLsyMXJmLs8cPhszwr5HX3Nfv0sIJnWTFeb3BlWmCJFWMgSz63H9FMUfnRxeenDiLqLyZzU68PGFxqbPfATnG9P2xBSKVeTBDl4Wg-pk', 'source_logo': 'https://encrypted-tbn2.gstatic.com/favicon-tbn?q=tbn%3AANd9GcT0TsMMuS8IRIUU_Envbo02npaZ6DJgbXTwa-h2DSMswBydNyxi_1NukUkPuQPc8-6EH8dopTDEyU5ccMeLEvcSrbCBtAW3', 'source': 'Amazon.com - Seller', 'title': 'Bean Box Gourmet Coffee Sampler', 'rating': 4.7, 'reviews': 135, 'price': '$28.99', 'extracted_price': 28.99, 'immersive_product_page_token': 'eyJlaSI6IkZjZ2xaX1M3RzdxSHB0UVB4cVM0a0FFIiwicHJvZHVjdGlkIjoiIiwiY2F0YWxvZ2lkIjoiMTM5MjQ4NDM3MDkyNDMzMTQxMjgiLCJ2YyI6IiIsInZzYyI6IiIsImhlYWRsaW5lT2ZmZXJEb2NpZCI6IjcwNzc3OTM5OTkyMzU3MDY2MTEiLCJpbWFnZURvY2lkIjoiMjgzMjk1MTUxODY1NzY1NDEyIiwicmRzIjoiUENfNTE3OTUyOTk2OTE5MzU0NzMyNXxQUk9EX1BDXzUxNzk1Mjk5NjkxOTM1NDczMjUiLCJxdWVyeSI6ImNvZmZlZSJ9', 'serpapi_link': 'https://serpapi.com/search.json?engine=google_immersive_product&page_token=eyJlaSI6IkZjZ2xaX1M3RzdxSHB0UVB4cVM0a0FFIiwicHJvZHVjdGlkIjoiIiwiY2F0YWxvZ2lkIjoiMTM5MjQ4NDM3MDkyNDMzMTQxMjgiLCJ2YyI6IiIsInZzYyI6IiIsImhlYWRsaW5lT2ZmZXJEb2NpZCI6IjcwNzc3OTM5OTkyMzU3MDY2MTEiLCJpbWFnZURvY2lkIjoiMjgzMjk1MTUxODY1NzY1NDEyIiwicmRzIjoiUENfNTE3OTUyOTk2OTE5MzU0NzMyNXxQUk9EX1BDXzUxNzk1Mjk5NjkxOTM1NDczMjUiLCJxdWVyeSI6ImNvZmZlZSJ9'}, {'category': 'Popular products', 'thumbnail': 'https://encrypted-tbn2.gstatic.com/shopping?q=tbn:ANd9GcTyiImkxm7BL7GGtNo3eTT3YchvlhF9N6A5fg92bH1gXOoc4Ge2JumU5jzDDB5Df0Z-7bIz-Yi3DfDymwcdOyYdRkUGhln0dtjQDjQdP_caCgiSqkMLD-iX', 'source_logo': 'https://encrypted-tbn3.gstatic.com/favicon-tbn?q=tbn%3AANd9GcTnP5ISNmbEt5sfd-d6O77v8eZaWxR-UtwYkk865osEjKrS0r8udsVsfLPjH1VQBQizWhrYkhO2STFk8WaMhokVgFUhjn2NoxU', 'source': 'Walmart', 'title': 'Folgers Classic Roast Ground Coffee', 'rating': 4.6, 'reviews': 17000, 'price': '$5.42', 'extracted_price': 5.42, 'location': 'Nearby, 4 mi', 'delivery': '$16.94 same-day', 'returns': 'Free 90-day returns', 'immersive_product_page_token': 'eyJlaSI6IkZjZ2xaX1M3RzdxSHB0UVB4cVM0a0FFIiwicHJvZHVjdGlkIjoiIiwiY2F0YWxvZ2lkIjoiMTY5MTQ4Nzc2MjUyODA5Nzc4NjUiLCJ2YyI6IiIsInZzYyI6IiIsImhlYWRsaW5lT2ZmZXJEb2NpZCI6IjMyMzgyMjQ4NDQ2MjQ5MTIxNjkiLCJpbWFnZURvY2lkIjoiNDc2NzQ5OTE1OTA2MzI3OTE0IiwicmRzIjoiUENfMzI0NTQ3NjQwMDgzMzU1MTk0OHxQUk9EX1BDXzMyNDU0NzY0MDA4MzM1NTE5NDgiLCJxdWVyeSI6ImNvZmZlZSJ9', 'serpapi_link': 'https://serpapi.com/search.json?engine=google_immersive_product&page_token=eyJlaSI6IkZjZ2xaX1M3RzdxSHB0UVB4cVM0a0FFIiwicHJvZHVjdGlkIjoiIiwiY2F0YWxvZ2lkIjoiMTY5MTQ4Nzc2MjUyODA5Nzc4NjUiLCJ2YyI6IiIsInZzYyI6IiIsImhlYWRsaW5lT2ZmZXJEb2NpZCI6IjMyMzgyMjQ4NDQ2MjQ5MTIxNjkiLCJpbWFnZURvY2lkIjoiNDc2NzQ5OTE1OTA2MzI3OTE0IiwicmRzIjoiUENfMzI0NTQ3NjQwMDgzMzU1MTk0OHxQUk9EX1BDXzMyNDU0NzY0MDA4MzM1NTE5NDgiLCJxdWVyeSI6ImNvZmZlZSJ9'}, {'category': 'Popular products', 'thumbnail': 'https://encrypted-tbn2.gstatic.com/shopping?q=tbn:ANd9GcSyM-1NVboEEP1dIg6_TmtRyNCDIR4mPv1T8q9G3o4HHHtSFWFQXm31KoYCUUGpw_-DPu7rIyYI_YBoTI2YY4GzZMPEWjDicaaIPYSxuiLbOSACCURhD8Oi', 'source_logo': 'https://encrypted-tbn2.gstatic.com/favicon-tbn?q=tbn%3AANd9GcT3xpS8aLa1ivOxeHyWvRGBXbhgo_A5FgGRlBTVarzT7wjaQU_uH6wFDHNaQ3bsWbOini649L-mTNBU-SjN276G42MOU6acT2n-4qriYIeq5Q', 'source': 'Death Wish Coffee Company', 'title': 'Death Wish Coffee Dark Roast Coffee', 'rating': 4.8, 'reviews': 6600, 'price': '$15.99', 'extracted_price': 15.99, 'original_price': '$20', 'extracted_original_price': 20, 'delivery': 'Free $50+', 'returns': 'Free 30-day returns', 'extensions': ['20% OFF'], 'immersive_product_page_token': 'eyJlaSI6IkZjZ2xaX1M3RzdxSHB0UVB4cVM0a0FFIiwicHJvZHVjdGlkIjoiIiwiY2F0YWxvZ2lkIjoiOTg0Mzk0NjI0ODMyNTY1NjM0IiwidmMiOiIiLCJ2c2MiOiIiLCJoZWFkbGluZU9mZmVyRG9jaWQiOiIxNjY0MDcyMDMxNDU3ODY2MjE1NCIsImltYWdlRG9jaWQiOiIxNzk4MTkyOTI0Nzk1MjY4MTc1OCIsInJkcyI6IlBDXzE2MTAxNTUwMjUxOTE0OTY1MTkzfFBST0RfUENfMTYxMDE1NTAyNTE5MTQ5NjUxOTMiLCJxdWVyeSI6ImNvZmZlZSJ9', 'serpapi_link': 'https://serpapi.com/search.json?engine=google_immersive_product&page_token=eyJlaSI6IkZjZ2xaX1M3RzdxSHB0UVB4cVM0a0FFIiwicHJvZHVjdGlkIjoiIiwiY2F0YWxvZ2lkIjoiOTg0Mzk0NjI0ODMyNTY1NjM0IiwidmMiOiIiLCJ2c2MiOiIiLCJoZWFkbGluZU9mZmVyRG9jaWQiOiIxNjY0MDcyMDMxNDU3ODY2MjE1NCIsImltYWdlRG9jaWQiOiIxNzk4MTkyOTI0Nzk1MjY4MTc1OCIsInJkcyI6IlBDXzE2MTAxNTUwMjUxOTE0OTY1MTkzfFBST0RfUENfMTYxMDE1NTAyNTE5MTQ5NjUxOTMiLCJxdWVyeSI6ImNvZmZlZSJ9'}, {'category': 'Popular products', 'thumbnail': 'https://encrypted-tbn0.gstatic.com/shopping?q=tbn:ANd9GcQLQe4I-o38ZfqKFBG44O1hTDneLPrA_6gOvc6JybO2ZJdzKJ6lpMzOpbkRao719gl6Iz7p2Lr0toR7PfPCJCL6kE0WurlZjjDP1436OZjtQPgmr9a_qo44v1U', 'source_logo': 'https://encrypted-tbn2.gstatic.com/favicon-tbn?q=tbn%3AANd9GcQi-n5kDFGgAilLb9D3eOt7OSi_cC7b0FnOoa4_3Rz0H0fKoLrlVNYXHDhGNI1Dk-Z50DzBy8TH9T0upQzYpIit-0wc8xdA8wNC1RE', 'source': 'Lavazzausa.com', 'title': 'Lavazza Super Crema Whole Bean Espresso Coffee', 'rating': 4.8, 'reviews': 5000, 'price': '$19.98', 'extracted_price': 19.98, 'original_price': '$25', 'extracted_original_price': 25, 'returns': '30-day returns', 'extensions': ['20% OFF'], 'immersive_product_page_token': 'eyJlaSI6IkZjZ2xaX1M3RzdxSHB0UVB4cVM0a0FFIiwicHJvZHVjdGlkIjoiIiwiY2F0YWxvZ2lkIjoiMTA5NjU5OTY2MDQ0NzMxMTAyNzQiLCJ2YyI6IiIsInZzYyI6IiIsImhlYWRsaW5lT2ZmZXJEb2NpZCI6Ijk5NjA3MDY2NTc1NDM2MzEwOTIiLCJpbWFnZURvY2lkIjoiMzgxNjA3ODkxNDYwMzQ4ODgwOCIsInJkcyI6IlBDXzg4NDA0OTI1MDc4NTk4NjIwODJ8UFJPRF9QQ184ODQwNDkyNTA3ODU5ODYyMDgyIiwicXVlcnkiOiJjb2ZmZWUifQ==', 'serpapi_link': 'https://serpapi.com/search.json?engine=google_immersive_product&page_token=eyJlaSI6IkZjZ2xaX1M3RzdxSHB0UVB4cVM0a0FFIiwicHJvZHVjdGlkIjoiIiwiY2F0YWxvZ2lkIjoiMTA5NjU5OTY2MDQ0NzMxMTAyNzQiLCJ2YyI6IiIsInZzYyI6IiIsImhlYWRsaW5lT2ZmZXJEb2NpZCI6Ijk5NjA3MDY2NTc1NDM2MzEwOTIiLCJpbWFnZURvY2lkIjoiMzgxNjA3ODkxNDYwMzQ4ODgwOCIsInJkcyI6IlBDXzg4NDA0OTI1MDc4NTk4NjIwODJ8UFJPRF9QQ184ODQwNDkyNTA3ODU5ODYyMDgyIiwicXVlcnkiOiJjb2ZmZWUifQ%3D%3D'}, {'category': 'Popular products', 'thumbnail': 'https://encrypted-tbn3.gstatic.com/shopping?q=tbn:ANd9GcT9UuYHF7095fdv4AVw20YOV97e6-K8Fgb0lAxuCvwlICaQ8KLlpKmAd_nLAJs5Y2rFmxwb4sGWh4bycjDGz-02xyg4qw_fFSVIhQi4VnfERRCF4BeuQQOo5w', 'source_logo': 'https://encrypted-tbn2.gstatic.com/favicon-tbn?q=tbn%3AANd9GcRl9YiXtze0VPaxthoInwIEaqI98TFv1Qffw8lHFF0It87Z_aiZAhuYmeCzOykfmh5ks8hoASBINpBlQ0T2YrGg9u61BjF4633Kt6F1eg', 'source': 'Bulletproof', 'title': 'Bulletproof The Original Ground Coffee', 'rating': 4.7, 'reviews': 6100, 'price': '$15.99', 'extracted_price': 15.99, 'delivery': 'Free $49+', 'returns': 'Free 30-day returns', 'immersive_product_page_token': 'eyJlaSI6IkZjZ2xaX1M3RzdxSHB0UVB4cVM0a0FFIiwicHJvZHVjdGlkIjoiIiwiY2F0YWxvZ2lkIjoiMzIxODk3MzM3ODgxMDg5OTE0MSIsInZjIjoiIiwidnNjIjoiIiwiaGVhZGxpbmVPZmZlckRvY2lkIjoiMzMzNDcyMzMzNjM4NTczMzcwMSIsImltYWdlRG9jaWQiOiIxMDQ3Njc5MTI3MzY5NDM0OTA1OSIsInJkcyI6IlBDXzE0MDA2MjQxMjk4MTA5ODA3NzgxfFBST0RfUENfMTQwMDYyNDEyOTgxMDk4MDc3ODEiLCJxdWVyeSI6ImNvZmZlZSJ9', 'serpapi_link': 'https://serpapi.com/search.json?engine=google_immersive_product&page_token=eyJlaSI6IkZjZ2xaX1M3RzdxSHB0UVB4cVM0a0FFIiwicHJvZHVjdGlkIjoiIiwiY2F0YWxvZ2lkIjoiMzIxODk3MzM3ODgxMDg5OTE0MSIsInZjIjoiIiwidnNjIjoiIiwiaGVhZGxpbmVPZmZlckRvY2lkIjoiMzMzNDcyMzMzNjM4NTczMzcwMSIsImltYWdlRG9jaWQiOiIxMDQ3Njc5MTI3MzY5NDM0OTA1OSIsInJkcyI6IlBDXzE0MDA2MjQxMjk4MTA5ODA3NzgxfFBST0RfUENfMTQwMDYyNDEyOTgxMDk4MDc3ODEiLCJxdWVyeSI6ImNvZmZlZSJ9'}, {'category': 'Popular products', 'thumbnail': 'https://encrypted-tbn2.gstatic.com/shopping?q=tbn:ANd9GcS7v2tWwxtQEskTatv7luy8897v_DSfYBHLXgF6A8ZQ0eJxuOh-fK1CHmfkfNwgUZwxnmsC5vtPrJXZOOLtSo0r5WFeSMXKnmnXul5yD-_fTkC8sWhIOIaU', 'source_logo': 'https://encrypted-tbn3.gstatic.com/favicon-tbn?q=tbn%3AANd9GcTEcvKCC4vYSJ0lcojmG1G8H5SxvMYMWwuZ0hBVYInrlmIpQc8-QknEydjdLUOCUc4t5gk8LzLYNskt9jyjXHnjIq2sfztY', 'source': 'Target', 'title': 'Starbucks Pike Place Roast Coffee', 'rating': 4.6, 'reviews': 9700, 'price': '$8.99', 'extracted_price': 8.99, 'location': 'Nearby, 10 mi', 'delivery': 'Free $35+', 'returns': 'Free 90-day returns', 'immersive_product_page_token': 'eyJlaSI6IkZjZ2xaX1M3RzdxSHB0UVB4cVM0a0FFIiwicHJvZHVjdGlkIjoiIiwiY2F0YWxvZ2lkIjoiMTQ5MzY2MTExMTY2NzQxNDU5MTciLCJ2YyI6IiIsInZzYyI6IiIsImhlYWRsaW5lT2ZmZXJEb2NpZCI6IjE1Nzg1Nzg4ODYwNTQzNjgzNzkxIiwiaW1hZ2VEb2NpZCI6IjY4ODkyMDY5Mjk5NjEzMTQ3MzAiLCJyZHMiOiJQQ184Nzk3MjE2NDI1NzI1ODYxOTM3fFBST0RfUENfODc5NzIxNjQyNTcyNTg2MTkzNyIsInF1ZXJ5IjoiY29mZmVlIn0=', 'serpapi_link': 'https://serpapi.com/search.json?engine=google_immersive_product&page_token=eyJlaSI6IkZjZ2xaX1M3RzdxSHB0UVB4cVM0a0FFIiwicHJvZHVjdGlkIjoiIiwiY2F0YWxvZ2lkIjoiMTQ5MzY2MTExMTY2NzQxNDU5MTciLCJ2YyI6IiIsInZzYyI6IiIsImhlYWRsaW5lT2ZmZXJEb2NpZCI6IjE1Nzg1Nzg4ODYwNTQzNjgzNzkxIiwiaW1hZ2VEb2NpZCI6IjY4ODkyMDY5Mjk5NjEzMTQ3MzAiLCJyZHMiOiJQQ184Nzk3MjE2NDI1NzI1ODYxOTM3fFBST0RfUENfODc5NzIxNjQyNTcyNTg2MTkzNyIsInF1ZXJ5IjoiY29mZmVlIn0%3D'}], 'related_questions': [{'question': 'Is coffee good or bad for health?', 'snippet': \"Hu said that moderate coffee intake—about 2–5 cups a day—is linked to a lower likelihood of type 2 diabetes, heart disease, liver and endometrial cancers, Parkinson's disease, and depression. It's even possible that people who drink coffee can reduce their risk of early death.\", 'title': 'Is coffee good or bad for your health? | News', 'link': 'https://www.hsph.harvard.edu/news/hsph-in-the-news/is-coffee-good-or-bad-for-your-health/#:~:text=Hu%20said%20that%20moderate%20coffee,their%20risk%20of%20early%20death.', 'displayed_link': 'https://www.hsph.harvard.edu › news › hsph-in-the-news', 'source_logo': 'https://serpapi.com/searches/6725c8153c95757cb8c6e2e6/images/b0a21525512add1d0e411c2ad965a6a47a3b67038be0ac9f53f4b6317ac7f176.png', 'next_page_token': 'eyJvbnMiOiIxMDA0MSIsImZjIjoiRW9zQkNreEJTa2M1U210Tk9GZHdha2RNZFdWRk0ybGpOSGx6TjFSWk1uTjFObXAzYjNkdlVVNVVUbDlSVWxSeVVrZERkSGxETWxGdFkzbG1VR0paVkVST1gyUmtVRWhJTmxGcE5IaHBRM2hXRWhkR1kyZHNXbDlUTjBjM2NVaHdkRkZRZUhGVE5HdEJSUm9pUVVaWWNrVmpiMnR3VERKck5FUlFUMGRzUjI5U1ZGSnJSazFOVEdJeE5HWmZVUSIsImZjdiI6IjMiLCJlaSI6IkZjZ2xaX1M3RzdxSHB0UVB4cVM0a0FFIiwicWMiOiJDZ1pqYjJabVpXVVFBSDJvcWpFXyIsInF1ZXN0aW9uIjoiSXMgY29mZmVlIGdvb2Qgb3IgYmFkIGZvciBoZWFsdGg/IiwibGsiOiJHaUJwY3lCamIyWm1aV1VnWjI5dlpDQnZjaUJpWVdRZ1ptOXlJR2hsWVd4MGFBIiwiYnMiOiJjLVB5NGxMMExGWkl6azlMUzAxVlNNX1BUMUhJTDFKSVNreFJTQVBTR2FtSk9TVVo5aEozREl5VXBCUXlDYWpqY3VLU0RjLW9SRktYbEZwU2tsb0VWbEtaWDJvdnNWbk9TRTVLcGh5UEdpNGJMaW1FZTNJVFUxSVYwb3J5YzRFQ3lmbUo5aExMREkya3BTUXpjU25nc3VPU2RzbFBoVXRucDZZV2dFeFZTQ3hQekU2MWxfaWZhU1FqSlpXQ1U0VUFJd0EiLCJpZCI6ImZjX0ZjZ2xaX1M3RzdxSHB0UVB4cVM0a0FFXzIifQ==', 'serpapi_link': 'https://serpapi.com/search.json?device=desktop&engine=google_related_questions&google_domain=google.com&next_page_token=eyJvbnMiOiIxMDA0MSIsImZjIjoiRW9zQkNreEJTa2M1U210Tk9GZHdha2RNZFdWRk0ybGpOSGx6TjFSWk1uTjFObXAzYjNkdlVVNVVUbDlSVWxSeVVrZERkSGxETWxGdFkzbG1VR0paVkVST1gyUmtVRWhJTmxGcE5IaHBRM2hXRWhkR1kyZHNXbDlUTjBjM2NVaHdkRkZRZUhGVE5HdEJSUm9pUVVaWWNrVmpiMnR3VERKck5FUlFUMGRzUjI5U1ZGSnJSazFOVEdJeE5HWmZVUSIsImZjdiI6IjMiLCJlaSI6IkZjZ2xaX1M3RzdxSHB0UVB4cVM0a0FFIiwicWMiOiJDZ1pqYjJabVpXVVFBSDJvcWpFXyIsInF1ZXN0aW9uIjoiSXMgY29mZmVlIGdvb2Qgb3IgYmFkIGZvciBoZWFsdGg%2FIiwibGsiOiJHaUJwY3lCamIyWm1aV1VnWjI5dlpDQnZjaUJpWVdRZ1ptOXlJR2hsWVd4MGFBIiwiYnMiOiJjLVB5NGxMMExGWkl6azlMUzAxVlNNX1BUMUhJTDFKSVNreFJTQVBTR2FtSk9TVVo5aEozREl5VXBCUXlDYWpqY3VLU0RjLW9SRktYbEZwU2tsb0VWbEtaWDJvdnNWbk9TRTVLcGh5UEdpNGJMaW1FZTNJVFUxSVYwb3J5YzRFQ3lmbUo5aExMREkya3BTUXpjU25nc3VPU2RzbFBoVXRucDZZV2dFeFZTQ3hQekU2MWxfaWZhU1FqSlpXQ1U0VUFJd0EiLCJpZCI6ImZjX0ZjZ2xaX1M3RzdxSHB0UVB4cVM0a0FFXzIifQ%3D%3D'}, {'question': 'Why is coffee better for you?', 'snippet': 'Caffeine is the first thing that comes to mind when you think about coffee. But coffee also contains antioxidants and other active substances that may reduce internal inflammation and protect against disease, say nutrition experts from Johns Hopkins University School of Medicine.', 'title': '9 Reasons Why (the Right Amount of) Coffee Is Good for You', 'link': 'https://www.hopkinsmedicine.org/health/wellness-and-prevention/9-reasons-why-the-right-amount-of-coffee-is-good-for-you#:~:text=Caffeine%20is%20the%20first%20thing,Hopkins%20University%20School%20of%20Medicine.', 'displayed_link': 'https://www.hopkinsmedicine.org › health › 9-reasons-w...', 'thumbnail': 'https://encrypted-tbn0.gstatic.com/images?q=tbn:ANd9GcSDV1_KHRKIUNXbIJYeb7G3jkEJsXv-MlZnSnAT4Qh-iw&s', 'source_logo': None, 'next_page_token': 'eyJvbnMiOiIxMDA0MSIsImZjIjoiRW9zQkNreEJTa2M1U210Tk9GZHdha2RNZFdWRk0ybGpOSGx6TjFSWk1uTjFObXAzYjNkdlVVNVVUbDlSVWxSeVVrZERkSGxETWxGdFkzbG1VR0paVkVST1gyUmtVRWhJTmxGcE5IaHBRM2hXRWhkR1kyZHNXbDlUTjBjM2NVaHdkRkZRZUhGVE5HdEJSUm9pUVVaWWNrVmpiMnR3VERKck5FUlFUMGRzUjI5U1ZGSnJSazFOVEdJeE5HWmZVUSIsImZjdiI6IjMiLCJlaSI6IkZjZ2xaX1M3RzdxSHB0UVB4cVM0a0FFIiwicWMiOiJDZ1pqYjJabVpXVVFBSDJvcWpFXyIsInF1ZXN0aW9uIjoiV2h5IGlzIGNvZmZlZSBiZXR0ZXIgZm9yIHlvdT8iLCJsayI6IkdoeDNhSGtnYVhNZ1kyOW1abVZsSUdKbGRIUmxjaUJtYjNJZ2VXOTEiLCJicyI6ImMtUHk0bEwwTEZaSXprOUxTMDFWU01fUFQxSElMMUpJU2t4UlNBUFNHYW1KT1NVWjloSjNESXlVcEJReUNhampjdUtTRGMtb1JGS1hsRnBTa2xvRVZsS1pYMm92c1ZuT1NFNUtwaHlQR2k0YkxpbUVlM0lUVTFJVjBvcnljNEVDeWZtSjloTExESTJrcFNRemNTbmdzdU9TZHNsUGhVdG5wNllXZ0V4VlNDeFB6RTYxbF9pZmFTUWpKWldDVTRVQUl3QSIsImlkIjoiZmNfRmNnbFpfUzdHN3FIcHRRUHhxUzRrQUVfMiJ9', 'serpapi_link': 'https://serpapi.com/search.json?device=desktop&engine=google_related_questions&google_domain=google.com&next_page_token=eyJvbnMiOiIxMDA0MSIsImZjIjoiRW9zQkNreEJTa2M1U210Tk9GZHdha2RNZFdWRk0ybGpOSGx6TjFSWk1uTjFObXAzYjNkdlVVNVVUbDlSVWxSeVVrZERkSGxETWxGdFkzbG1VR0paVkVST1gyUmtVRWhJTmxGcE5IaHBRM2hXRWhkR1kyZHNXbDlUTjBjM2NVaHdkRkZRZUhGVE5HdEJSUm9pUVVaWWNrVmpiMnR3VERKck5FUlFUMGRzUjI5U1ZGSnJSazFOVEdJeE5HWmZVUSIsImZjdiI6IjMiLCJlaSI6IkZjZ2xaX1M3RzdxSHB0UVB4cVM0a0FFIiwicWMiOiJDZ1pqYjJabVpXVVFBSDJvcWpFXyIsInF1ZXN0aW9uIjoiV2h5IGlzIGNvZmZlZSBiZXR0ZXIgZm9yIHlvdT8iLCJsayI6IkdoeDNhSGtnYVhNZ1kyOW1abVZsSUdKbGRIUmxjaUJtYjNJZ2VXOTEiLCJicyI6ImMtUHk0bEwwTEZaSXprOUxTMDFWU01fUFQxSElMMUpJU2t4UlNBUFNHYW1KT1NVWjloSjNESXlVcEJReUNhampjdUtTRGMtb1JGS1hsRnBTa2xvRVZsS1pYMm92c1ZuT1NFNUtwaHlQR2k0YkxpbUVlM0lUVTFJVjBvcnljNEVDeWZtSjloTExESTJrcFNRemNTbmdzdU9TZHNsUGhVdG5wNllXZ0V4VlNDeFB6RTYxbF9pZmFTUWpKWldDVTRVQUl3QSIsImlkIjoiZmNfRmNnbFpfUzdHN3FIcHRRUHhxUzRrQUVfMiJ9'}, {'question': 'Is coffee made from cocoa?', 'snippet': \"No, coffee and chocolate are not the same. Coffee and chocolate come from two different plants. Coffee “beans” (they're actually seeds) are derived from a cherry-like fruit that grows from a coffee plant — a woody evergreen that can grow up to 32 feet. Chocolate comes from trees, specifically the Theobroma cacao tree.\", 'title': \"There's a reason coffee and chocolate go so well together\", 'date': 'Nov 11, 2021', 'link': 'https://bakedbrewedbeautiful.com/coffee-and-chocolate/#:~:text=No%2C%20coffee%20and%20chocolate%20are,specifically%20the%20Theobroma%20cacao%20tree.', 'displayed_link': 'https://bakedbrewedbeautiful.com › coffee-and-chocolate', 'source_logo': 'https://serpapi.com/searches/6725c8153c95757cb8c6e2e6/images/b0a21525512add1d0e411c2ad965a6a413fd0fa8fd415c6785703a5eb645971e.png', 'next_page_token': 'eyJvbnMiOiIxMDA0MSIsImZjIjoiRW9zQkNreEJTa2M1U210Tk9GZHdha2RNZFdWRk0ybGpOSGx6TjFSWk1uTjFObXAzYjNkdlVVNVVUbDlSVWxSeVVrZERkSGxETWxGdFkzbG1VR0paVkVST1gyUmtVRWhJTmxGcE5IaHBRM2hXRWhkR1kyZHNXbDlUTjBjM2NVaHdkRkZRZUhGVE5HdEJSUm9pUVVaWWNrVmpiMnR3VERKck5FUlFUMGRzUjI5U1ZGSnJSazFOVEdJeE5HWmZVUSIsImZjdiI6IjMiLCJlaSI6IkZjZ2xaX1M3RzdxSHB0UVB4cVM0a0FFIiwicWMiOiJDZ1pqYjJabVpXVVFBSDJvcWpFXyIsInF1ZXN0aW9uIjoiSXMgY29mZmVlIG1hZGUgZnJvbSBjb2NvYT8iLCJsayI6IkdobHBjeUJqYjJabVpXVWdiV0ZrWlNCbWNtOXRJR052WTI5aCIsImJzIjoiYy1QeTRsTDBMRlpJems5TFMwMVZTTV9QVDFISUwxSklTa3hSU0FQU0dhbUpPU1VaOWhKM0RJeVVwQlF5Q2FqamN1S1NEYy1vUkZLWGxGcFNrbG9FVmxLWlgyb3ZzVm5PU0U1S3BoeVBHaTRiTGltRWUzSVRVMUlWMG9yeWM0RUN5Zm1KOWhMTERJMmtwU1F6Y1NuZ3N1T1Nkc2xQaFV0bnA2WVdnRXhWU0N4UHpFNjFsX2lmYVNRakpaV0NVNFVBSXdBIiwiaWQiOiJmY19GY2dsWl9TN0c3cUhwdFFQeHFTNGtBRV8yIn0=', 'serpapi_link': 'https://serpapi.com/search.json?device=desktop&engine=google_related_questions&google_domain=google.com&next_page_token=eyJvbnMiOiIxMDA0MSIsImZjIjoiRW9zQkNreEJTa2M1U210Tk9GZHdha2RNZFdWRk0ybGpOSGx6TjFSWk1uTjFObXAzYjNkdlVVNVVUbDlSVWxSeVVrZERkSGxETWxGdFkzbG1VR0paVkVST1gyUmtVRWhJTmxGcE5IaHBRM2hXRWhkR1kyZHNXbDlUTjBjM2NVaHdkRkZRZUhGVE5HdEJSUm9pUVVaWWNrVmpiMnR3VERKck5FUlFUMGRzUjI5U1ZGSnJSazFOVEdJeE5HWmZVUSIsImZjdiI6IjMiLCJlaSI6IkZjZ2xaX1M3RzdxSHB0UVB4cVM0a0FFIiwicWMiOiJDZ1pqYjJabVpXVVFBSDJvcWpFXyIsInF1ZXN0aW9uIjoiSXMgY29mZmVlIG1hZGUgZnJvbSBjb2NvYT8iLCJsayI6IkdobHBjeUJqYjJabVpXVWdiV0ZrWlNCbWNtOXRJR052WTI5aCIsImJzIjoiYy1QeTRsTDBMRlpJems5TFMwMVZTTV9QVDFISUwxSklTa3hSU0FQU0dhbUpPU1VaOWhKM0RJeVVwQlF5Q2FqamN1S1NEYy1vUkZLWGxGcFNrbG9FVmxLWlgyb3ZzVm5PU0U1S3BoeVBHaTRiTGltRWUzSVRVMUlWMG9yeWM0RUN5Zm1KOWhMTERJMmtwU1F6Y1NuZ3N1T1Nkc2xQaFV0bnA2WVdnRXhWU0N4UHpFNjFsX2lmYVNRakpaV0NVNFVBSXdBIiwiaWQiOiJmY19GY2dsWl9TN0c3cUhwdFFQeHFTNGtBRV8yIn0%3D'}, {'question': 'Does coffee keep you awake?', 'snippet': \"Once consumed, caffeine is very quickly absorbed and distributed throughout your body, including to your brain. It's here that caffeine elicits its most classic effect — helping keep you alert and awake. “Caffeine works by blocking sleep-promoting receptors in your brain called adenosine receptors,” says Dr.\", 'title': 'Caffeine & Sleep: How Long Does Caffeine Keep You Awake?', 'date': 'Jul 7, 2023', 'link': 'https://www.houstonmethodist.org/blog/articles/2021/oct/caffeine-sleep-how-long-does-caffeine-keep-you-awake/#:~:text=Once%20consumed%2C%20caffeine%20is%20very,adenosine%20receptors%2C%E2%80%9D%20says%20Dr.', 'displayed_link': 'https://www.houstonmethodist.org › blog › articles › oct', 'source_logo': 'https://serpapi.com/searches/6725c8153c95757cb8c6e2e6/images/b0a21525512add1d0e411c2ad965a6a4170b5b03af8d826eb8e1541fa864bb64.png', 'next_page_token': 'eyJvbnMiOiIxMDA0MSIsImZjIjoiRW9zQkNreEJTa2M1U210Tk9GZHdha2RNZFdWRk0ybGpOSGx6TjFSWk1uTjFObXAzYjNkdlVVNVVUbDlSVWxSeVVrZERkSGxETWxGdFkzbG1VR0paVkVST1gyUmtVRWhJTmxGcE5IaHBRM2hXRWhkR1kyZHNXbDlUTjBjM2NVaHdkRkZRZUhGVE5HdEJSUm9pUVVaWWNrVmpiMnR3VERKck5FUlFUMGRzUjI5U1ZGSnJSazFOVEdJeE5HWmZVUSIsImZjdiI6IjMiLCJlaSI6IkZjZ2xaX1M3RzdxSHB0UVB4cVM0a0FFIiwicWMiOiJDZ1pqYjJabVpXVVFBSDJvcWpFXyIsInF1ZXN0aW9uIjoiRG9lcyBjb2ZmZWUga2VlcCB5b3UgYXdha2U/IiwibGsiOiJHaHBrYjJWeklHTnZabVpsWlNCclpXVndJSGx2ZFNCaGQyRnJaUSIsImJzIjoiYy1QeTRsTDBMRlpJems5TFMwMVZTTV9QVDFISUwxSklTa3hSU0FQU0dhbUpPU1VaOWhKM0RJeVVwQlF5Q2FqamN1S1NEYy1vUkZLWGxGcFNrbG9FVmxLWlgyb3ZzVm5PU0U1S3BoeVBHaTRiTGltRWUzSVRVMUlWMG9yeWM0RUN5Zm1KOWhMTERJMmtwU1F6Y1NuZ3N1T1Nkc2xQaFV0bnA2WVdnRXhWU0N4UHpFNjFsX2lmYVNRakpaV0NVNFVBSXdBIiwiaWQiOiJmY19GY2dsWl9TN0c3cUhwdFFQeHFTNGtBRV8yIn0=', 'serpapi_link': 'https://serpapi.com/search.json?device=desktop&engine=google_related_questions&google_domain=google.com&next_page_token=eyJvbnMiOiIxMDA0MSIsImZjIjoiRW9zQkNreEJTa2M1U210Tk9GZHdha2RNZFdWRk0ybGpOSGx6TjFSWk1uTjFObXAzYjNkdlVVNVVUbDlSVWxSeVVrZERkSGxETWxGdFkzbG1VR0paVkVST1gyUmtVRWhJTmxGcE5IaHBRM2hXRWhkR1kyZHNXbDlUTjBjM2NVaHdkRkZRZUhGVE5HdEJSUm9pUVVaWWNrVmpiMnR3VERKck5FUlFUMGRzUjI5U1ZGSnJSazFOVEdJeE5HWmZVUSIsImZjdiI6IjMiLCJlaSI6IkZjZ2xaX1M3RzdxSHB0UVB4cVM0a0FFIiwicWMiOiJDZ1pqYjJabVpXVVFBSDJvcWpFXyIsInF1ZXN0aW9uIjoiRG9lcyBjb2ZmZWUga2VlcCB5b3UgYXdha2U%2FIiwibGsiOiJHaHBrYjJWeklHTnZabVpsWlNCclpXVndJSGx2ZFNCaGQyRnJaUSIsImJzIjoiYy1QeTRsTDBMRlpJems5TFMwMVZTTV9QVDFISUwxSklTa3hSU0FQU0dhbUpPU1VaOWhKM0RJeVVwQlF5Q2FqamN1S1NEYy1vUkZLWGxGcFNrbG9FVmxLWlgyb3ZzVm5PU0U1S3BoeVBHaTRiTGltRWUzSVRVMUlWMG9yeWM0RUN5Zm1KOWhMTERJMmtwU1F6Y1NuZ3N1T1Nkc2xQaFV0bnA2WVdnRXhWU0N4UHpFNjFsX2lmYVNRakpaV0NVNFVBSXdBIiwiaWQiOiJmY19GY2dsWl9TN0c3cUhwdFFQeHFTNGtBRV8yIn0%3D'}], 'organic_results': [{'position': 1, 'title': 'Coffee', 'link': 'https://en.wikipedia.org/wiki/Coffee', 'redirect_link': 'https://www.google.com/url?sa=t&source=web&rct=j&opi=89978449&url=https://en.wikipedia.org/wiki/Coffee&ved=2ahUKEwi0mqWChL2JAxW6g4kEHUYSDhIQFnoECBcQAQ', 'displayed_link': 'https://en.wikipedia.org › wiki › Coffee', 'thumbnail': 'https://serpapi.com/searches/6725c8153c95757cb8c6e2e6/images/ba03583ee6fab58deb5d4a7cf858d848e5e0bce5f17f86e476e118d8eb8deaf1.jpeg', 'favicon': 'https://serpapi.com/searches/6725c8153c95757cb8c6e2e6/images/ba03583ee6fab58deb5d4a7cf858d848ce6d501ffdd2f45cdf6c209c5b87f500.png', 'snippet': 'Coffee is a beverage brewed from roasted coffee beans. Darkly colored, bitter, and slightly acidic, coffee has a stimulating effect on humans, primarily due ...', 'snippet_highlighted_words': ['Coffee', 'coffee', 'coffee'], 'sitelinks': {'inline': [{'title': 'Coffee bean', 'link': 'https://en.wikipedia.org/wiki/Coffee_bean'}, {'title': 'History', 'link': 'https://en.wikipedia.org/wiki/History_of_coffee'}, {'title': 'Coffee production', 'link': 'https://en.wikipedia.org/wiki/Coffee_production'}, {'title': 'Coffee preparation', 'link': 'https://en.wikipedia.org/wiki/Coffee_preparation'}]}, 'source': 'Wikipedia'}, {'position': 2, 'title': 'Blue Bottle Coffee | Fresh Roasted Specialty Coffee', 'link': 'https://bluebottlecoffee.com/?srsltid=AfmBOorNELJByXvMGRc5CjvuwtUHvfIn-tmlEraLG6WQFTKq62tRmTzK', 'redirect_link': 'https://www.google.com/url?sa=t&source=web&rct=j&opi=89978449&url=https://bluebottlecoffee.com/%3Fsrsltid%3DAfmBOorNELJByXvMGRc5CjvuwtUHvfIn-tmlEraLG6WQFTKq62tRmTzK&ved=2ahUKEwi0mqWChL2JAxW6g4kEHUYSDhIQFnoECH0QAQ', 'displayed_link': 'https://bluebottlecoffee.com', 'thumbnail': 'https://serpapi.com/searches/6725c8153c95757cb8c6e2e6/images/ba03583ee6fab58deb5d4a7cf858d8483cfab3237c2276b60cea46382c4e3aa1.jpeg', 'favicon': 'https://serpapi.com/searches/6725c8153c95757cb8c6e2e6/images/ba03583ee6fab58deb5d4a7cf858d8488e0096e1c103776214b7bb9dfa6c4110.png', 'author': 'Free 2–6 day delivery over $40', 'cited_by': '\\u200e30-day returns', 'snippet': 'Blue Bottle Coffee is a specialty coffee roaster with cafes in LA, SF, NYC, & Japan. Shop our freshly roasted specialty coffee online & in-store.', 'snippet_highlighted_words': ['Coffee', 'coffee', 'coffee'], 'sitelinks': {'inline': [{'title': 'Specialty Whole Bean Coffee', 'link': 'https://bluebottlecoffee.com/us/eng/shop/coffee'}, {'title': 'Browse Our Cafes', 'link': 'https://bluebottlecoffee.com/cafes'}, {'title': 'Our Coffee', 'link': 'https://bluebottlecoffee.com/us/eng/our-coffee'}, {'title': 'Blue Bottle Coffee', 'link': 'https://support.bluebottlecoffee.com/hc/en-us'}]}, 'rich_snippet': {'top': {'detected_extensions': {'free_day_delivery_over': '2–6', 'day_returns': 30}, 'extensions': ['Free 2–6 day delivery over $40', '30-day returns']}}, 'source': 'Blue Bottle Coffee'}, {'position': 3, 'title': \"Peet's Coffee | The Original Craft Coffee, Est. 1966\", 'link': 'https://www.peets.com/', 'redirect_link': 'https://www.google.com/url?sa=t&source=web&rct=j&opi=89978449&url=https://www.peets.com/&ved=2ahUKEwi0mqWChL2JAxW6g4kEHUYSDhIQFnoECHQQAQ', 'displayed_link': 'https://www.peets.com', 'favicon': 'https://serpapi.com/searches/6725c8153c95757cb8c6e2e6/images/ba03583ee6fab58deb5d4a7cf858d84823a59c6f5ec7e88a00c2ab26a008cefa.png', 'snippet': \"Since 1966, Peet's Coffee has sourced and offered superior coffees and teas and adhering to strict high-quality and taste standards. Shop today.\", 'snippet_highlighted_words': ['Coffee', 'coffees'], 'sitelinks': {'inline': [{'title': 'Shop All Coffee', 'link': 'https://www.peets.com/collections/all-coffees'}, {'title': 'Store Locator', 'link': 'https://www.peets.com/pages/store-locator'}, {'title': \"Peet's Coffeebar Menu\", 'link': 'https://www.peets.com/pages/menu'}, {'title': 'Coffee for Coffee People', 'link': 'https://www.peets.com/pages/coffeepeople'}]}, 'source': \"Peet's Coffee\"}, {'position': 4, 'title': 'Starbucks Coffee Company', 'link': 'https://www.starbucks.com/', 'redirect_link': 'https://www.google.com/url?sa=t&source=web&rct=j&opi=89978449&url=https://www.starbucks.com/&ved=2ahUKEwi0mqWChL2JAxW6g4kEHUYSDhIQFnoECF4QAQ', 'displayed_link': 'https://www.starbucks.com', 'thumbnail': 'https://encrypted-tbn0.gstatic.com/images?q=tbn:ANd9GcTo91ez49uWjfg4dR82mmU7W8QsajiVGyMJ0paitI0g9WbTNc3dgefm&usqp=CAE&s', 'snippet': 'More than just great coffee. Explore the menu, sign up for Starbucks® Rewards, manage your gift card and more.', 'snippet_highlighted_words': ['coffee'], 'sitelinks': {'inline': [{'title': \"Let's talk coffee\", 'link': 'https://www.starbucks.com/coffee/'}, {'title': 'Store Locator', 'link': 'https://www.starbucks.com/store-locator'}, {'title': 'Menu', 'link': 'https://www.starbucks.com/menu'}, {'title': 'Starbucks®️ Coffee', 'link': 'https://athome.starbucks.com/'}]}, 'source': 'Starbucks'}, {'position': 5, 'title': 'What is Coffee?', 'link': 'https://www.ncausa.org/about-coffee/what-is-coffee', 'redirect_link': 'https://www.google.com/url?sa=t&source=web&rct=j&opi=89978449&url=https://www.ncausa.org/about-coffee/what-is-coffee&ved=2ahUKEwi0mqWChL2JAxW6g4kEHUYSDhIQFnoECFMQAQ', 'displayed_link': 'https://www.ncausa.org › About Coffee › What is Coffee?', 'snippet': 'Coffee traces its origin to a genus of plants known as Coffea. Within the genus there are over 500 genera and 6,000 species of tropical trees and shrubs.', 'snippet_highlighted_words': ['Coffee'], 'source': 'National Coffee Association'}, {'position': 6, 'title': 'Klatch Coffee | Where Coffee Is The Conversation', 'link': 'https://www.klatchcoffee.com/?srsltid=AfmBOoo9liuj3208cHLZ-U87B9TlCLD1vih69HyMzsOwLUADCL1JLArC', 'redirect_link': 'https://www.google.com/url?sa=t&source=web&rct=j&opi=89978449&url=https://www.klatchcoffee.com/%3Fsrsltid%3DAfmBOoo9liuj3208cHLZ-U87B9TlCLD1vih69HyMzsOwLUADCL1JLArC&ved=2ahUKEwi0mqWChL2JAxW6g4kEHUYSDhIQFnoECFcQAQ', 'displayed_link': 'https://www.klatchcoffee.com', 'thumbnail': 'https://encrypted-tbn0.gstatic.com/images?q=tbn:ANd9GcQ4tgdJHEXiYMlda6d0TGVwZzM3YuJCwKwEowWzwKueAa7vHez0PJ4Z&usqp=CAE&s', 'favicon': 'https://serpapi.com/searches/6725c8153c95757cb8c6e2e6/images/ba03583ee6fab58deb5d4a7cf858d8488aa9b3c103ddf4685da8b75dd95ab082.png', 'snippet': \"Take our interactive quiz to find the coffee that suits your taste. In just a few clicks, we'll unveil your ideal roast and match you with the perfect brew.\", 'snippet_highlighted_words': ['coffee'], 'source': 'Klatch Coffee'}, {'position': 7, 'title': 'Coffee | Origin, Types, Uses, History, & Facts', 'link': 'https://www.britannica.com/topic/coffee', 'redirect_link': 'https://www.google.com/url?sa=t&source=web&rct=j&opi=89978449&url=https://www.britannica.com/topic/coffee&ved=2ahUKEwi0mqWChL2JAxW6g4kEHUYSDhIQFnoECFgQAQ', 'displayed_link': 'https://www.britannica.com › ... › Food', 'thumbnail': 'https://encrypted-tbn0.gstatic.com/images?q=tbn:ANd9GcSAnVM0H5-8HgFFgrpSm9fyUj4LRexFYCC36QequTjOCYxXEnBZfi5A&usqp=CAE&s', 'favicon': 'https://serpapi.com/searches/6725c8153c95757cb8c6e2e6/images/ba03583ee6fab58deb5d4a7cf858d848e2c308a4508617be23334889d281c5e6.png', 'date': '3 days ago', 'snippet': 'Coffee is a beverage brewed from the roasted and ground seeds of the tropical evergreen coffee plant.', 'snippet_highlighted_words': ['Coffee', 'coffee'], 'sitelinks': {'inline': [{'title': 'History of coffee', 'link': 'https://www.britannica.com/topic/history-of-coffee'}, {'title': 'Using coffee', 'link': 'https://www.britannica.com/topic/coffee/Using-coffee'}, {'title': 'Decaffeinated coffee', 'link': 'https://www.britannica.com/topic/decaffeinated-coffee'}, {'title': 'Cold-brew coffee', 'link': 'https://www.britannica.com/topic/cold-brew-coffee'}]}, 'source': 'Britannica'}, {'position': 8, 'title': 'Coffee health benefits: Diabetes, heart health, liver cancer, ...', 'link': 'https://www.medicalnewstoday.com/articles/270202', 'redirect_link': 'https://www.google.com/url?sa=t&source=web&rct=j&opi=89978449&url=https://www.medicalnewstoday.com/articles/270202&ved=2ahUKEwi0mqWChL2JAxW6g4kEHUYSDhIQFnoECHwQAQ', 'displayed_link': 'https://www.medicalnewstoday.com › articles', 'thumbnail': 'https://encrypted-tbn0.gstatic.com/images?q=tbn:ANd9GcR8URs8EHOjTtsp6Z5L2PYyW1dpJeMK56lCGpQOKXBIa1bjWBSbB1tW&usqp=CAE&s', 'favicon': 'https://serpapi.com/searches/6725c8153c95757cb8c6e2e6/images/ba03583ee6fab58deb5d4a7cf858d848ac349b305c66ad292446e6d7856d98d4.png', 'snippet': 'In some cases, coffee may be good for health, as it may offer benefits such as lowering the risk of type 2 diabetes and helping people lose weight.', 'snippet_highlighted_words': ['coffee'], 'source': 'MedicalNewsToday'}, {'position': 9, 'title': 'The Coffee Bean & Tea Leaf | CBTL', 'link': 'https://coffeebean.com/', 'redirect_link': 'https://www.google.com/url?sa=t&source=web&rct=j&opi=89978449&url=https://coffeebean.com/&ved=2ahUKEwi0mqWChL2JAxW6g4kEHUYSDhIQFnoECFQQAQ', 'displayed_link': 'https://coffeebean.com', 'favicon': 'https://serpapi.com/searches/6725c8153c95757cb8c6e2e6/images/ba03583ee6fab58deb5d4a7cf858d8482b00de983a8ff4650beaf40da030051d.png', 'snippet': \"We're passionate about delivering the best handcrafted products and take pride in the journey from seed to cup.\", 'source': 'The Coffee Bean & Tea Leaf'}], 'top_stories_link': 'https://www.google.com/search?sca_esv=b442d26e8f1a3023&tbm=lcl&q=coffee&rflfq=1&num=10&sa=X&ved=2ahUKEwi0mqWChL2JAxW6g4kEHUYSDhIQjGp6BAhCEAE', 'top_stories_serpapi_link': 'https://serpapi.com/search.json?device=desktop&engine=google_local&gl=us&google_domain=google.com&hl=en&q=coffee', 'related_searches': [{'block_position': 1, 'query': 'Coffee near me', 'link': 'https://www.google.com/search?sca_esv=b442d26e8f1a3023&q=Coffee+near+me&sa=X&ved=2ahUKEwi0mqWChL2JAxW6g4kEHUYSDhIQ1QJ6BQiMARAB', 'serpapi_link': 'https://serpapi.com/search.json?device=desktop&engine=google&google_domain=google.com&q=Coffee+near+me'}, {'block_position': 1, 'query': 'Coffee benefits', 'link': 'https://www.google.com/search?sca_esv=b442d26e8f1a3023&q=Coffee+benefits&sa=X&ved=2ahUKEwi0mqWChL2JAxW6g4kEHUYSDhIQ1QJ6BQiKARAB', 'serpapi_link': 'https://serpapi.com/search.json?device=desktop&engine=google&google_domain=google.com&q=Coffee+benefits'}, {'block_position': 1, 'query': 'Coffee brand', 'link': 'https://www.google.com/search?sca_esv=b442d26e8f1a3023&q=Coffee+brand&sa=X&ved=2ahUKEwi0mqWChL2JAxW6g4kEHUYSDhIQ1QJ6BQiHARAB', 'serpapi_link': 'https://serpapi.com/search.json?device=desktop&engine=google&google_domain=google.com&q=Coffee+brand'}, {'block_position': 1, 'query': 'Coffee types', 'link': 'https://www.google.com/search?sca_esv=b442d26e8f1a3023&q=Coffee+types&sa=X&ved=2ahUKEwi0mqWChL2JAxW6g4kEHUYSDhIQ1QJ6BQiCARAB', 'serpapi_link': 'https://serpapi.com/search.json?device=desktop&engine=google&google_domain=google.com&q=Coffee+types'}, {'block_position': 1, 'query': 'Coffee shop', 'link': 'https://www.google.com/search?sca_esv=b442d26e8f1a3023&q=Coffee+shop&sa=X&ved=2ahUKEwi0mqWChL2JAxW6g4kEHUYSDhIQ1QJ6BQiBARAB', 'serpapi_link': 'https://serpapi.com/search.json?device=desktop&engine=google&google_domain=google.com&q=Coffee+shop'}, {'block_position': 1, 'query': 'Coffee Machine', 'link': 'https://www.google.com/search?sca_esv=b442d26e8f1a3023&q=Coffee+Machine&sa=X&ved=2ahUKEwi0mqWChL2JAxW6g4kEHUYSDhIQ1QJ6BAh6EAE', 'serpapi_link': 'https://serpapi.com/search.json?device=desktop&engine=google&google_domain=google.com&q=Coffee+Machine'}, {'block_position': 1, 'query': 'Coffee beans', 'link': 'https://www.google.com/search?sca_esv=b442d26e8f1a3023&q=Coffee+beans&sa=X&ved=2ahUKEwi0mqWChL2JAxW6g4kEHUYSDhIQ1QJ6BAh4EAE', 'serpapi_link': 'https://serpapi.com/search.json?device=desktop&engine=google&google_domain=google.com&q=Coffee+beans'}, {'block_position': 1, 'query': 'Coffee NESCAFÉ', 'link': 'https://www.google.com/search?sca_esv=b442d26e8f1a3023&q=Coffee+NESCAF%C3%89&sa=X&ved=2ahUKEwi0mqWChL2JAxW6g4kEHUYSDhIQ1QJ6BAh2EAE', 'serpapi_link': 'https://serpapi.com/search.json?device=desktop&engine=google&google_domain=google.com&q=Coffee+NESCAF%C3%89'}], 'refine_this_search': [{'query': 'Nearby', 'link': 'https://www.google.com/search?q=coffee+nearby&shoprs=GAMqBmNvZmZlZTIMCAMSBk5lYXJieRgCWLfLH2AB&sa=X&ved=2ahUKEwi0mqWChL2JAxW6g4kEHUYSDhIQip4GKAF6BAgjEFY', 'serpapi_link': 'https://serpapi.com/search.json?device=desktop&engine=google&google_domain=google.com&q=coffee+nearby'}, {'query': 'Whole Bean', 'link': 'https://www.google.com/search?q=whole+bean+coffee&shoprs=GAEqBmNvZmZlZTIaCAESCldob2xlIEJlYW46Cgju_jgQ8f44MAJYt8sfYAE&sa=X&ved=2ahUKEwi0mqWChL2JAxW6g4kEHUYSDhIQip4GKAJ6BAgjEFc', 'serpapi_link': 'https://serpapi.com/search.json?device=desktop&engine=google&google_domain=google.com&q=whole+bean+coffee'}, {'query': 'Ground', 'link': 'https://www.google.com/search?q=ground+coffee&shoprs=GAEqBmNvZmZlZTIWCAESBkdyb3VuZDoKCO7-OBDv_jgwAli3yx9gAQ&sa=X&ved=2ahUKEwi0mqWChL2JAxW6g4kEHUYSDhIQip4GKAN6BAgjEFg', 'serpapi_link': 'https://serpapi.com/search.json?device=desktop&engine=google&google_domain=google.com&q=ground+coffee'}, {'query': 'Brand', 'link': 'https://www.google.com/search?q=brand+coffee&shoprs=GBIqBmNvZmZlZTIJCBISBUJyYW5kYAE&sa=X&ved=2ahUKEwi0mqWChL2JAxW6g4kEHUYSDhIQip4GKAR6BAgjEFk', 'serpapi_link': 'https://serpapi.com/search.json?device=desktop&engine=google&google_domain=google.com&q=brand+coffee'}, {'query': 'On sale', 'link': 'https://www.google.com/search?q=coffee+sale&shoprs=EgRKAhgBGAYqBmNvZmZlZTITCAYSB09uIHNhbGUYAiIESgIYAVi3yx9gAQ&sa=X&ved=2ahUKEwi0mqWChL2JAxW6g4kEHUYSDhIQip4GKAV6BAgjEFo', 'serpapi_link': 'https://serpapi.com/search.json?device=desktop&engine=google&google_domain=google.com&q=coffee+sale'}, {'query': 'Get it fast', 'link': 'https://www.google.com/search?q=coffee&shoprs=Eg2aAQoKCBADOAFAAkgBGBQqBmNvZmZlZTIkCBQSC0dldCBpdCBmYXN0Ig2aAQoKCBADOAFAAkgBKgQQARgBYAE&sa=X&ved=2ahUKEwi0mqWChL2JAxW6g4kEHUYSDhIQip4GKAZ6BAgjEFs', 'serpapi_link': 'https://serpapi.com/search.json?device=desktop&engine=google&google_domain=google.com&q=coffee'}, {'query': 'Pod', 'link': 'https://www.google.com/search?q=pod+coffee&shoprs=GAEqBmNvZmZlZTITCAESA1BvZDoKCPucZRD8nGUwA1i3yx9gAQ&sa=X&ved=2ahUKEwi0mqWChL2JAxW6g4kEHUYSDhIQip4GKAd6BAgjEFw', 'serpapi_link': 'https://serpapi.com/search.json?device=desktop&engine=google&google_domain=google.com&q=pod+coffee'}, {'query': 'Bag', 'link': 'https://www.google.com/search?q=bag+coffee&shoprs=GAEqBmNvZmZlZTITCAESA0JhZzoKCIGdZRCEnWUwAFi3yx9gAQ&sa=X&ved=2ahUKEwi0mqWChL2JAxW6g4kEHUYSDhIQip4GKAh6BAgjEF0', 'serpapi_link': 'https://serpapi.com/search.json?device=desktop&engine=google&google_domain=google.com&q=bag+coffee'}, {'query': 'Instant', 'link': 'https://www.google.com/search?q=instant+coffee&shoprs=GAEqBmNvZmZlZTIXCAESB0luc3RhbnQ6Cgju_jgQ8P44MAJYt8sfYAE&sa=X&ved=2ahUKEwi0mqWChL2JAxW6g4kEHUYSDhIQip4GKAl6BAgjEF4', 'serpapi_link': 'https://serpapi.com/search.json?device=desktop&engine=google&google_domain=google.com&q=instant+coffee'}, {'query': 'Medium Roast', 'link': 'https://www.google.com/search?q=medium+roast+coffee&shoprs=GAEqBmNvZmZlZTIcCAESDE1lZGl1bSBSb2FzdDoKCJm4OxCbuDswAFi3yx9gAQ&sa=X&ved=2ahUKEwi0mqWChL2JAxW6g4kEHUYSDhIQip4GKAp6BAgjEF8', 'serpapi_link': 'https://serpapi.com/search.json?device=desktop&engine=google&google_domain=google.com&q=medium+roast+coffee'}, {'query': 'Buy', 'link': 'https://www.google.com/search?q=buy+coffee&shoprs=GBIqBmNvZmZlZTIHCBISA0J1eWAB&sa=X&ved=2ahUKEwi0mqWChL2JAxW6g4kEHUYSDhIQip4GKAt6BAgjEGA', 'serpapi_link': 'https://serpapi.com/search.json?device=desktop&engine=google&google_domain=google.com&q=buy+coffee'}, {'query': 'Walmart', 'link': 'https://www.google.com/search?q=walmart+coffee&shoprs=GAIqBmNvZmZlZTILCAISB1dhbG1hcnRYt8sfYAE&sa=X&ved=2ahUKEwi0mqWChL2JAxW6g4kEHUYSDhIQip4GKAx6BAgjEGE', 'serpapi_link': 'https://serpapi.com/search.json?device=desktop&engine=google&google_domain=google.com&q=walmart+coffee', 'thumbnail': 'https://serpapi.com/searches/6725c8153c95757cb8c6e2e6/images/3a59199fb5017a80e162bccc85e3f5089d04f8b75a24ab84dec55c07378f646f.png'}, {'query': 'Organic', 'link': 'https://www.google.com/search?q=organic+coffee&shoprs=GAEqBmNvZmZlZTIZCAESB09yZ2FuaWM6DAi--YcBEL_5hwEwA1i3yx9gAQ&sa=X&ved=2ahUKEwi0mqWChL2JAxW6g4kEHUYSDhIQip4GKA16BAgjEGM', 'serpapi_link': 'https://serpapi.com/search.json?device=desktop&engine=google&google_domain=google.com&q=organic+coffee'}, {'query': 'Under $9', 'link': 'https://www.google.com/search?q=coffee+under+$9&shoprs=Eg0SCxEAAAAAiCphQRgBGAUqBmNvZmZlZTIhCAUSCFVuZGVyICQ5GAIiDRILEQAAAACIKmFBGAEqAhgBWLfLH2AB&sa=X&ved=2ahUKEwi0mqWChL2JAxW6g4kEHUYSDhIQip4GKA56BAgjEGQ', 'serpapi_link': 'https://serpapi.com/search.json?device=desktop&engine=google&google_domain=google.com&q=coffee+under+%249'}, {'query': 'Online', 'link': 'https://www.google.com/search?q=online+coffee&shoprs=GBIqBmNvZmZlZTIKCBISBk9ubGluZWAB&sa=X&ved=2ahUKEwi0mqWChL2JAxW6g4kEHUYSDhIQip4GKA96BAgjEGU', 'serpapi_link': 'https://serpapi.com/search.json?device=desktop&engine=google&google_domain=google.com&q=online+coffee'}, {'query': 'Store', 'link': 'https://www.google.com/search?q=store+coffee&shoprs=GBIqBmNvZmZlZTIJCBISBVN0b3JlYAE&sa=X&ved=2ahUKEwi0mqWChL2JAxW6g4kEHUYSDhIQip4GKBB6BAgjEGY', 'serpapi_link': 'https://serpapi.com/search.json?device=desktop&engine=google&google_domain=google.com&q=store+coffee'}, {'query': 'Caffeine-free', 'link': 'https://www.google.com/search?q=caffeine-free+coffee&shoprs=GAEqBmNvZmZlZTIfCAESDUNhZmZlaW5lLWZyZWU6DAig8YoBEKHxigEwA1i3yx9gAQ&sa=X&ved=2ahUKEwi0mqWChL2JAxW6g4kEHUYSDhIQip4GKBF6BAgjEGc', 'serpapi_link': 'https://serpapi.com/search.json?device=desktop&engine=google&google_domain=google.com&q=caffeine-free+coffee'}, {'query': 'Target', 'link': 'https://www.google.com/search?q=target+coffee&shoprs=GAIqBmNvZmZlZTIKCAISBlRhcmdldFi3yx9gAQ&sa=X&ved=2ahUKEwi0mqWChL2JAxW6g4kEHUYSDhIQip4GKBJ6BAgjEGg', 'serpapi_link': 'https://serpapi.com/search.json?device=desktop&engine=google&google_domain=google.com&q=target+coffee', 'thumbnail': 'https://serpapi.com/searches/6725c8153c95757cb8c6e2e6/images/3a59199fb5017a80e162bccc85e3f508726a92803a50f2d3d4c0a7ecc37bac7b.png'}, {'query': 'Dark Roast', 'link': 'https://www.google.com/search?q=dark+roast+coffee&shoprs=GAEqBmNvZmZlZTIaCAESCkRhcmsgUm9hc3Q6CgiZuDsQnbg7MABYt8sfYAE&sa=X&ved=2ahUKEwi0mqWChL2JAxW6g4kEHUYSDhIQip4GKBN6BAgjEGo', 'serpapi_link': 'https://serpapi.com/search.json?device=desktop&engine=google&google_domain=google.com&q=dark+roast+coffee'}, {'query': 'Chocolate', 'link': 'https://www.google.com/search?q=chocolate+coffee&shoprs=GAEqBmNvZmZlZTIZCAESCUNob2NvbGF0ZToKCIidZRCMnWUwAFi3yx9gAQ&sa=X&ved=2ahUKEwi0mqWChL2JAxW6g4kEHUYSDhIQip4GKBR6BAgjEGs', 'serpapi_link': 'https://serpapi.com/search.json?device=desktop&engine=google&google_domain=google.com&q=chocolate+coffee'}, {'query': 'Price', 'link': 'https://www.google.com/search?q=price+coffee&shoprs=GBIqBmNvZmZlZTIJCBISBVByaWNlYAE&sa=X&ved=2ahUKEwi0mqWChL2JAxW6g4kEHUYSDhIQip4GKBV6BAgjEGw', 'serpapi_link': 'https://serpapi.com/search.json?device=desktop&engine=google&google_domain=google.com&q=price+coffee'}, {'query': 'Box', 'link': 'https://www.google.com/search?q=box+coffee&shoprs=GAEqBmNvZmZlZTITCAESA0JveDoKCIGdZRCPnWUwAFi3yx9gAQ&sa=X&ved=2ahUKEwi0mqWChL2JAxW6g4kEHUYSDhIQip4GKBZ6BAgjEG0', 'serpapi_link': 'https://serpapi.com/search.json?device=desktop&engine=google&google_domain=google.com&q=box+coffee'}, {'query': 'Recipe', 'link': 'https://www.google.com/search?q=recipe+coffee&shoprs=GBIqBmNvZmZlZTIKCBISBlJlY2lwZWAB&sa=X&ved=2ahUKEwi0mqWChL2JAxW6g4kEHUYSDhIQip4GKBd6BAgjEG4', 'serpapi_link': 'https://serpapi.com/search.json?device=desktop&engine=google&google_domain=google.com&q=recipe+coffee'}, {'query': 'For Sale', 'link': 'https://www.google.com/search?q=coffee+for+sale&shoprs=GBIqBmNvZmZlZTIMCBISCEZvciBTYWxlYAE&sa=X&ved=2ahUKEwi0mqWChL2JAxW6g4kEHUYSDhIQip4GKBh6BAgjEG8', 'serpapi_link': 'https://serpapi.com/search.json?device=desktop&engine=google&google_domain=google.com&q=coffee+for+sale'}, {'query': 'Amazon', 'link': 'https://www.google.com/search?q=amazon+coffee&shoprs=GAIqBmNvZmZlZTIKCAISBkFtYXpvbli3yx9gAQ&sa=X&ved=2ahUKEwi0mqWChL2JAxW6g4kEHUYSDhIQip4GKBl6BAgjEHA', 'serpapi_link': 'https://serpapi.com/search.json?device=desktop&engine=google&google_domain=google.com&q=amazon+coffee', 'thumbnail': 'https://serpapi.com/searches/6725c8153c95757cb8c6e2e6/images/3a59199fb5017a80e162bccc85e3f5088adf364eaf7662593508d13eb4ec5903.png'}, {'query': 'Reviews', 'link': 'https://www.google.com/search?q=reviews+coffee&shoprs=GBIqBmNvZmZlZTILCBISB1Jldmlld3NgAQ&sa=X&ved=2ahUKEwi0mqWChL2JAxW6g4kEHUYSDhIQip4GKBp6BAgjEHI', 'serpapi_link': 'https://serpapi.com/search.json?device=desktop&engine=google&google_domain=google.com&q=reviews+coffee'}], 'discussions_and_forums': [{'title': 'What is a \"coffee\"', 'link': 'https://www.reddit.com/r/espresso/comments/1c1d6t7/what_is_a_coffee/', 'date': '6mo ago', 'extensions': ['r/espresso', '30+ comments'], 'source': 'Reddit'}, {'title': 'Tell me about coffee', 'link': 'https://www.hornfans.com/threads/tell-me-about-coffee.9587/', 'date': '7mo ago', 'source': 'Hornfans'}, {'title': 'ELI5: Coffee', 'link': 'https://www.reddit.com/r/explainlikeimfive/comments/2figk5/eli5_coffee/', 'date': '10y ago', 'extensions': ['r/explainlikeimfive', '9 comments'], 'source': 'Reddit'}], 'pagination': {'current': 1, 'next': 'https://www.google.com/search?q=coffee&sca_esv=b442d26e8f1a3023&ei=FcglZ_S7G7qHptQPxqS4kAE&start=10&sa=N&sstk=AagrsujRMfqL_Z1V8C8XJGdN7V00MOtYRUeT1xnuV28C_HDvbdaRDtw1WvtUSuHc_wvj8MHqc_ncYokJbFPdM0OywJz8xO9OyL51cQ&ved=2ahUKEwi0mqWChL2JAxW6g4kEHUYSDhIQ8NMDegQIChAW', 'other_pages': {'2': 'https://www.google.com/search?q=coffee&sca_esv=b442d26e8f1a3023&ei=FcglZ_S7G7qHptQPxqS4kAE&start=10&sa=N&sstk=AagrsujRMfqL_Z1V8C8XJGdN7V00MOtYRUeT1xnuV28C_HDvbdaRDtw1WvtUSuHc_wvj8MHqc_ncYokJbFPdM0OywJz8xO9OyL51cQ&ved=2ahUKEwi0mqWChL2JAxW6g4kEHUYSDhIQ8tMDegQIChAE', '3': 'https://www.google.com/search?q=coffee&sca_esv=b442d26e8f1a3023&ei=FcglZ_S7G7qHptQPxqS4kAE&start=20&sa=N&sstk=AagrsujRMfqL_Z1V8C8XJGdN7V00MOtYRUeT1xnuV28C_HDvbdaRDtw1WvtUSuHc_wvj8MHqc_ncYokJbFPdM0OywJz8xO9OyL51cQ&ved=2ahUKEwi0mqWChL2JAxW6g4kEHUYSDhIQ8tMDegQIChAG', '4': 'https://www.google.com/search?q=coffee&sca_esv=b442d26e8f1a3023&ei=FcglZ_S7G7qHptQPxqS4kAE&start=30&sa=N&sstk=AagrsujRMfqL_Z1V8C8XJGdN7V00MOtYRUeT1xnuV28C_HDvbdaRDtw1WvtUSuHc_wvj8MHqc_ncYokJbFPdM0OywJz8xO9OyL51cQ&ved=2ahUKEwi0mqWChL2JAxW6g4kEHUYSDhIQ8tMDegQIChAI', '5': 'https://www.google.com/search?q=coffee&sca_esv=b442d26e8f1a3023&ei=FcglZ_S7G7qHptQPxqS4kAE&start=40&sa=N&sstk=AagrsujRMfqL_Z1V8C8XJGdN7V00MOtYRUeT1xnuV28C_HDvbdaRDtw1WvtUSuHc_wvj8MHqc_ncYokJbFPdM0OywJz8xO9OyL51cQ&ved=2ahUKEwi0mqWChL2JAxW6g4kEHUYSDhIQ8tMDegQIChAK', '6': 'https://www.google.com/search?q=coffee&sca_esv=b442d26e8f1a3023&ei=FcglZ_S7G7qHptQPxqS4kAE&start=50&sa=N&sstk=AagrsujRMfqL_Z1V8C8XJGdN7V00MOtYRUeT1xnuV28C_HDvbdaRDtw1WvtUSuHc_wvj8MHqc_ncYokJbFPdM0OywJz8xO9OyL51cQ&ved=2ahUKEwi0mqWChL2JAxW6g4kEHUYSDhIQ8tMDegQIChAM', '7': 'https://www.google.com/search?q=coffee&sca_esv=b442d26e8f1a3023&ei=FcglZ_S7G7qHptQPxqS4kAE&start=60&sa=N&sstk=AagrsujRMfqL_Z1V8C8XJGdN7V00MOtYRUeT1xnuV28C_HDvbdaRDtw1WvtUSuHc_wvj8MHqc_ncYokJbFPdM0OywJz8xO9OyL51cQ&ved=2ahUKEwi0mqWChL2JAxW6g4kEHUYSDhIQ8tMDegQIChAO', '8': 'https://www.google.com/search?q=coffee&sca_esv=b442d26e8f1a3023&ei=FcglZ_S7G7qHptQPxqS4kAE&start=70&sa=N&sstk=AagrsujRMfqL_Z1V8C8XJGdN7V00MOtYRUeT1xnuV28C_HDvbdaRDtw1WvtUSuHc_wvj8MHqc_ncYokJbFPdM0OywJz8xO9OyL51cQ&ved=2ahUKEwi0mqWChL2JAxW6g4kEHUYSDhIQ8tMDegQIChAQ', '9': 'https://www.google.com/search?q=coffee&sca_esv=b442d26e8f1a3023&ei=FcglZ_S7G7qHptQPxqS4kAE&start=80&sa=N&sstk=AagrsujRMfqL_Z1V8C8XJGdN7V00MOtYRUeT1xnuV28C_HDvbdaRDtw1WvtUSuHc_wvj8MHqc_ncYokJbFPdM0OywJz8xO9OyL51cQ&ved=2ahUKEwi0mqWChL2JAxW6g4kEHUYSDhIQ8tMDegQIChAS', '10': 'https://www.google.com/search?q=coffee&sca_esv=b442d26e8f1a3023&ei=FcglZ_S7G7qHptQPxqS4kAE&start=90&sa=N&sstk=AagrsujRMfqL_Z1V8C8XJGdN7V00MOtYRUeT1xnuV28C_HDvbdaRDtw1WvtUSuHc_wvj8MHqc_ncYokJbFPdM0OywJz8xO9OyL51cQ&ved=2ahUKEwi0mqWChL2JAxW6g4kEHUYSDhIQ8tMDegQIChAU'}}, 'serpapi_pagination': {'current': 1, 'next_link': 'https://serpapi.com/search.json?device=desktop&engine=google&google_domain=google.com&q=coffee&start=10', 'next': 'https://serpapi.com/search.json?device=desktop&engine=google&google_domain=google.com&q=coffee&start=10', 'other_pages': {'2': 'https://serpapi.com/search.json?device=desktop&engine=google&google_domain=google.com&q=coffee&start=10', '3': 'https://serpapi.com/search.json?device=desktop&engine=google&google_domain=google.com&q=coffee&start=20', '4': 'https://serpapi.com/search.json?device=desktop&engine=google&google_domain=google.com&q=coffee&start=30', '5': 'https://serpapi.com/search.json?device=desktop&engine=google&google_domain=google.com&q=coffee&start=40', '6': 'https://serpapi.com/search.json?device=desktop&engine=google&google_domain=google.com&q=coffee&start=50', '7': 'https://serpapi.com/search.json?device=desktop&engine=google&google_domain=google.com&q=coffee&start=60', '8': 'https://serpapi.com/search.json?device=desktop&engine=google&google_domain=google.com&q=coffee&start=70', '9': 'https://serpapi.com/search.json?device=desktop&engine=google&google_domain=google.com&q=coffee&start=80', '10': 'https://serpapi.com/search.json?device=desktop&engine=google&google_domain=google.com&q=coffee&start=90'}}}\n"
          ]
        }
      ],
      "source": [
        "from serpapi import GoogleSearch\n",
        "\n",
        "serpapi_params = {\n",
        "    \"engine\": \"google\",\n",
        "    \"api_key\": os.getenv(\"SERPAPI_KEY\") or userdata.get(\"SERPAPI_KEY\") or getpass(\"SerpAPI key: \")\n",
        "}\n",
        "\n",
        "search = GoogleSearch({\n",
        "    **serpapi_params,\n",
        "    \"q\": \"coffee\"\n",
        "})\n",
        "\n",
        "response = search.get_dict()\n",
        "print(response)\n",
        "\n",
        "results = search.get_dict()[\"organic_results\"]"
      ]
    },
    {
      "cell_type": "code",
      "source": [
        "# prompt: print json dumps with indent =2 reponse\n",
        "\n",
        "import json\n",
        "\n",
        "# Assuming 'response' is the variable containing the data you want to print\n",
        "print(json.dumps(response, indent=2))"
      ],
      "metadata": {
        "colab": {
          "base_uri": "https://localhost:8080/"
        },
        "id": "BU3cvEC6lbcH",
        "outputId": "48d00e16-6f37-43a9-d23a-a908b26d2be0"
      },
      "execution_count": 36,
      "outputs": [
        {
          "output_type": "stream",
          "name": "stdout",
          "text": [
            "{\n",
            "  \"search_metadata\": {\n",
            "    \"id\": \"6725c8153c95757cb8c6e2e6\",\n",
            "    \"status\": \"Success\",\n",
            "    \"json_endpoint\": \"https://serpapi.com/searches/b382c3c1bd5f3b63/6725c8153c95757cb8c6e2e6.json\",\n",
            "    \"created_at\": \"2024-11-02 06:35:01 UTC\",\n",
            "    \"processed_at\": \"2024-11-02 06:35:01 UTC\",\n",
            "    \"google_url\": \"https://www.google.com/search?q=coffee&oq=coffee&sourceid=chrome&ie=UTF-8\",\n",
            "    \"raw_html_file\": \"https://serpapi.com/searches/b382c3c1bd5f3b63/6725c8153c95757cb8c6e2e6.html\",\n",
            "    \"total_time_taken\": 1.45\n",
            "  },\n",
            "  \"search_parameters\": {\n",
            "    \"engine\": \"google\",\n",
            "    \"q\": \"coffee\",\n",
            "    \"google_domain\": \"google.com\",\n",
            "    \"device\": \"desktop\"\n",
            "  },\n",
            "  \"search_information\": {\n",
            "    \"query_displayed\": \"coffee\",\n",
            "    \"total_results\": 4680000000,\n",
            "    \"time_taken_displayed\": 0.31,\n",
            "    \"organic_results_state\": \"Results for exact spelling\"\n",
            "  },\n",
            "  \"local_map\": {\n",
            "    \"link\": \"https://www.google.com/search?sca_esv=b442d26e8f1a3023&q=coffee&npsic=0&rflfq=1&rldoc=1&rllag=43595822,-83864259,2344&tbm=lcl&sa=X&ved=2ahUKEwi0mqWChL2JAxW6g4kEHUYSDhIQtgN6BAg_EAM\",\n",
            "    \"image\": \"https://serpapi.com/searches/6725c8153c95757cb8c6e2e6/images/138160cf56e903e0526b91de747b7147.png\",\n",
            "    \"gps_coordinates\": {\n",
            "      \"latitude\": 43.595822,\n",
            "      \"longitude\": -83.864259\n",
            "    }\n",
            "  },\n",
            "  \"local_results\": {\n",
            "    \"places\": [\n",
            "      {\n",
            "        \"position\": 1,\n",
            "        \"rating\": 4.9,\n",
            "        \"reviews_original\": \"(214)\",\n",
            "        \"reviews\": 214,\n",
            "        \"price\": \"$1\\u201310\",\n",
            "        \"description\": \"\\\"... environment, clean, friendly service and excellent tasting coffee.\\\"\",\n",
            "        \"lsig\": \"AB86z5WUNd6vj0oDzj7V1TdNWH5h\",\n",
            "        \"thumbnail\": \"https://serpapi.com/searches/6725c8153c95757cb8c6e2e6/images/f843ddced0d0e6cb6390cab82d6108eb7bf1f0c6177e99d35f8c4af75440c9817a3da0f1f5e7f992.jpeg\",\n",
            "        \"title\": \"Excited Goat Coffee Company\",\n",
            "        \"type\": \"Coffee shop\",\n",
            "        \"address\": \"1480 W Center Rd Suite 5\",\n",
            "        \"hours\": \"Closed \\u22c5 Opens 7 AM\",\n",
            "        \"place_id\": \"7466364977026234085\",\n",
            "        \"place_id_search\": \"https://serpapi.com/search.json?device=desktop&engine=google&google_domain=google.com&ludocid=7466364977026234085&q=coffee\",\n",
            "        \"gps_coordinates\": {\n",
            "          \"latitude\": 43.595974,\n",
            "          \"longitude\": -83.835815\n",
            "        }\n",
            "      },\n",
            "      {\n",
            "        \"position\": 2,\n",
            "        \"rating\": 4.8,\n",
            "        \"reviews_original\": \"(226)\",\n",
            "        \"reviews\": 226,\n",
            "        \"price\": \"$1\\u201310\",\n",
            "        \"description\": \"\\\"The coffee tastes delicious and the ambiance is welcoming and cozy.\\\"\",\n",
            "        \"lsig\": \"AB86z5VVeYfMJKINN7cOyz8PJsbz\",\n",
            "        \"thumbnail\": \"https://serpapi.com/searches/6725c8153c95757cb8c6e2e6/images/f843ddced0d0e6cb6390cab82d6108eb9abd2d91a1428592ef4c4094e354286bab2242420823eb22.jpeg\",\n",
            "        \"title\": \"Live Oak Coffeehouse\",\n",
            "        \"type\": \"Coffee shop\",\n",
            "        \"address\": \"Bay City, MI\",\n",
            "        \"hours\": \"Closed \\u22c5 Opens 7 AM\",\n",
            "        \"place_id\": \"11229804040011138658\",\n",
            "        \"place_id_search\": \"https://serpapi.com/search.json?device=desktop&engine=google&google_domain=google.com&ludocid=11229804040011138658&q=coffee\",\n",
            "        \"gps_coordinates\": {\n",
            "          \"latitude\": 43.59131,\n",
            "          \"longitude\": -83.892715\n",
            "        }\n",
            "      },\n",
            "      {\n",
            "        \"position\": 3,\n",
            "        \"rating\": 4.7,\n",
            "        \"reviews_original\": \"(552)\",\n",
            "        \"reviews\": 552,\n",
            "        \"price\": \"$1\\u201310\",\n",
            "        \"description\": \"\\\"I had my first ever Matcha latte there and the barista made it so delicious.\\\"\",\n",
            "        \"lsig\": \"AB86z5UwHTiL3hL6RL9Rk0ho9dAH\",\n",
            "        \"thumbnail\": \"https://serpapi.com/searches/6725c8153c95757cb8c6e2e6/images/f843ddced0d0e6cb6390cab82d6108eb775bf8fe2a2c78fa7c80c1a39602998d54001e0c32fa04ba.jpeg\",\n",
            "        \"title\": \"Harless + Hugh Coffee\",\n",
            "        \"type\": \"Coffee shop\",\n",
            "        \"address\": \"Bay City, MI\",\n",
            "        \"hours\": \"Closed \\u22c5 Opens 8 AM\",\n",
            "        \"place_id\": \"6503746463380662788\",\n",
            "        \"place_id_search\": \"https://serpapi.com/search.json?device=desktop&engine=google&google_domain=google.com&ludocid=6503746463380662788&q=coffee\",\n",
            "        \"gps_coordinates\": {\n",
            "          \"latitude\": 43.600327,\n",
            "          \"longitude\": -83.88767\n",
            "        }\n",
            "      }\n",
            "    ],\n",
            "    \"more_locations_link\": \"https://www.google.com/search?sca_esv=b442d26e8f1a3023&tbm=lcl&q=coffee&rflfq=1&num=10&sa=X&ved=2ahUKEwi0mqWChL2JAxW6g4kEHUYSDhIQjGp6BAhCEAE\"\n",
            "  },\n",
            "  \"knowledge_graph\": {\n",
            "    \"title\": \"Coffee\",\n",
            "    \"type\": \"Beverages\",\n",
            "    \"entity_type\": \"food, kp3_verticals\",\n",
            "    \"kgmid\": \"/m/02vqfm\",\n",
            "    \"knowledge_graph_search_link\": \"https://www.google.com/search?kgmid=/m/02vqfm&hl=en-US&q=Coffee\",\n",
            "    \"serpapi_knowledge_graph_search_link\": \"https://serpapi.com/search.json?device=desktop&engine=google&google_domain=google.com&hl=en-US&kgmid=%2Fm%2F02vqfm&q=Coffee\",\n",
            "    \"header_images\": [\n",
            "      {\n",
            "        \"image\": \"https://serpapi.com/searches/6725c8153c95757cb8c6e2e6/images/b1593540b92edf8c90d7566a3085490e7e0ad6817778de663925213517469ee7bcd12da2e333bd9b.webp\"\n",
            "      },\n",
            "      {\n",
            "        \"image\": \"https://serpapi.com/searches/6725c8153c95757cb8c6e2e6/images/b1593540b92edf8c90d7566a3085490e7e0ad6817778de668a48924d22f7cc5a457d4d6ff79e1e41.webp\"\n",
            "      },\n",
            "      {\n",
            "        \"image\": \"https://serpapi.com/searches/6725c8153c95757cb8c6e2e6/images/b1593540b92edf8c90d7566a3085490e7e0ad6817778de66a0e717e01ac550ad36c29f3fb90f9b01.webp\"\n",
            "      }\n",
            "    ],\n",
            "    \"sources_include\": \"USDAUSDAUSDAUSDAUSDAUSDAUSDACoffee1 Calories - 1 cup (8 fl oz) (237 g)\",\n",
            "    \"sources_include_links\": [\n",
            "      {\n",
            "        \"text\": \"USDA\",\n",
            "        \"link\": \"https://fdc.nal.usda.gov/fdc-app.html#/food-details/171890/nutrients\"\n",
            "      },\n",
            "      {\n",
            "        \"text\": \"USDA\",\n",
            "        \"link\": \"https://fdc.nal.usda.gov/fdc-app.html#/food-details/171889/nutrients\"\n",
            "      },\n",
            "      {\n",
            "        \"text\": \"USDA\",\n",
            "        \"link\": \"https://fdc.nal.usda.gov/fdc-app.html#/food-details/171891/nutrients\"\n",
            "      },\n",
            "      {\n",
            "        \"text\": \"USDA\",\n",
            "        \"link\": \"https://fdc.nal.usda.gov/fdc-app.html#/food-details/171893/nutrients\"\n",
            "      },\n",
            "      {\n",
            "        \"text\": \"USDA\",\n",
            "        \"link\": \"https://fdc.nal.usda.gov/fdc-app.html#/food-details/174134/nutrients\"\n",
            "      },\n",
            "      {\n",
            "        \"text\": \"USDA\",\n",
            "        \"link\": \"https://fdc.nal.usda.gov/\"\n",
            "      },\n",
            "      {\n",
            "        \"text\": \"USDA\",\n",
            "        \"link\": \"https://fdc.nal.usda.gov/fdc-app.html#/food-details/174135/nutrients\"\n",
            "      }\n",
            "    ],\n",
            "    \"web_results\": [\n",
            "      {\n",
            "        \"link\": \"https://en.wikipedia.org/wiki/Coffee\"\n",
            "      },\n",
            "      {\n",
            "        \"title\": \"Color\",\n",
            "        \"snippet\": \"Black, dark brown, light brown, beige\",\n",
            "        \"link\": \"https://www.google.com/search?sca_esv=b442d26e8f1a3023&q=coffee+color&stick=H4sIAAAAAAAAAOPgE-LUz9U3MCorTMvVEiouttIvT01KS0wuKbZKzs_JL1rEypOcn5aWmqoA5gIAL6tTPDAAAAA&sa=X&ved=2ahUKEwi0mqWChL2JAxW6g4kEHUYSDhIQ18AJegQIOBAB\"\n",
            "      },\n",
            "      {\n",
            "        \"title\": \"Flavor\",\n",
            "        \"snippet\": \"Distinctive, somewhat bitter\",\n",
            "        \"link\": \"https://www.google.com/search?sca_esv=b442d26e8f1a3023&q=coffee+flavor&stick=H4sIAAAAAAAAAOPgE-LUz9U3MCorTMvVEi4uttIvT01KS0wuKbZKy0ksyy9axMqbnJ-WlpqqAOEDAJ4Y5wIyAAAA&sa=X&ved=2ahUKEwi0mqWChL2JAxW6g4kEHUYSDhIQ18AJegQIOxAB\"\n",
            "      }\n",
            "    ],\n",
            "    \"people_also_search_for\": [\n",
            "      {\n",
            "        \"name\": \"Tea\",\n",
            "        \"link\": \"https://www.google.com/search?sca_esv=b442d26e8f1a3023&si=ACC90nyvvWro6QmnyY1IfSdgk5wwjB1r8BGd_IWRjXqmKPQqm2VgjArAxxvSAJ_S7SFmrAEQJU4eWY_hYQwnunXX7rQFFh-dGYy-PZJ4ZMuIeGTXzUgScn9NIyGafOPq5ftsHdiB5uigc-S9MteXqEjugGKphlz3QXb-_tJXsNGR3zegtvCkZHDAzloeVI5C5R6V6DnzezPOwPLjrADI0iZLg2iL-Z0WW1yMsWjrq54PpGJeovb9qLOyr1a7l2muZ6dTRF6ArDke2sQWm0zA9snuHTl2e8GpMg%3D%3D&q=Tea&sa=X&ved=2ahUKEwi0mqWChL2JAxW6g4kEHUYSDhIQs9oBKAB6BAg1EAU\",\n",
            "        \"serpapi_link\": \"https://serpapi.com/search.json?device=desktop&engine=google&google_domain=google.com&q=Tea&si=ACC90nyvvWro6QmnyY1IfSdgk5wwjB1r8BGd_IWRjXqmKPQqm2VgjArAxxvSAJ_S7SFmrAEQJU4eWY_hYQwnunXX7rQFFh-dGYy-PZJ4ZMuIeGTXzUgScn9NIyGafOPq5ftsHdiB5uigc-S9MteXqEjugGKphlz3QXb-_tJXsNGR3zegtvCkZHDAzloeVI5C5R6V6DnzezPOwPLjrADI0iZLg2iL-Z0WW1yMsWjrq54PpGJeovb9qLOyr1a7l2muZ6dTRF6ArDke2sQWm0zA9snuHTl2e8GpMg%3D%3D\",\n",
            "        \"image\": \"https://serpapi.com/searches/6725c8153c95757cb8c6e2e6/images/b1593540b92edf8c90d7566a3085490e300a99dd52acef1649064b141f93c076471e9777dd70b3092d481b8b88215786.jpeg\"\n",
            "      },\n",
            "      {\n",
            "        \"name\": \"Espresso\",\n",
            "        \"link\": \"https://www.google.com/search?sca_esv=b442d26e8f1a3023&si=ACC90nyvvWro6QmnyY1IfSdgk5wwjB1r8BGd_IWRjXqmKPQqm0OBdatvW-a2I_fj-h_OaBEHsUHJhW4ah8NZkZpk09mCOQbPRUUm4GhTzhT7V0-hnsQiZUmCCQrmeyuX1WhsLrOcUX04c1cXCB7DacjPn04Sbx35thWHD-P3KXet9cEjr4clX4qAENkaRHHL9hpfixzylUH0lGwVulD8mcQek22PL8V4nQA13ziVoGCkxC0i6GgzVYSSDkhaY8d735NiiacSp6fnJ4Iw9bm9YrUpuO5iGVCYDSvG0xlDKVH_8HrvDgy8fxg%3D&q=Espresso&sa=X&ved=2ahUKEwi0mqWChL2JAxW6g4kEHUYSDhIQs9oBKAB6BAg1EAk\",\n",
            "        \"serpapi_link\": \"https://serpapi.com/search.json?device=desktop&engine=google&google_domain=google.com&q=Espresso&si=ACC90nyvvWro6QmnyY1IfSdgk5wwjB1r8BGd_IWRjXqmKPQqm0OBdatvW-a2I_fj-h_OaBEHsUHJhW4ah8NZkZpk09mCOQbPRUUm4GhTzhT7V0-hnsQiZUmCCQrmeyuX1WhsLrOcUX04c1cXCB7DacjPn04Sbx35thWHD-P3KXet9cEjr4clX4qAENkaRHHL9hpfixzylUH0lGwVulD8mcQek22PL8V4nQA13ziVoGCkxC0i6GgzVYSSDkhaY8d735NiiacSp6fnJ4Iw9bm9YrUpuO5iGVCYDSvG0xlDKVH_8HrvDgy8fxg%3D\",\n",
            "        \"image\": \"https://serpapi.com/searches/6725c8153c95757cb8c6e2e6/images/b1593540b92edf8c90d7566a3085490e300a99dd52acef1649064b141f93c076e5792d3e5a7da55abc034d5399874224.jpeg\"\n",
            "      },\n",
            "      {\n",
            "        \"name\": \"Iced coffee\",\n",
            "        \"link\": \"https://www.google.com/search?sca_esv=b442d26e8f1a3023&si=ACC90nzx_D3_zUKRnpAjmO0UBLNxnt7EyN4YYdru6U3bxLI-LwZxMRZGkitlNjNo6SNQSysgb0HH6qRTwo6GkSeWlsG5TW-c-HBY7hddIf_qVgjOk1NnzG53mlAY0E3LLA6keAcdDAcRYFbn-PH5K1RRW2keTRLGAuJlHEFARNi7qwiTvM4dFBU6sUhWyoBD5K7t8ePQqhx3fwcovOhqu4WRehab0CdTdN86liTSWeV74YUC--iBCazdMRN9pWnuSm-2lzeHU53bDkgjxFdgC6kWtShGdcOEYImvdUYxvdITMmhBF_823wU%3D&q=Iced+coffee&sa=X&ved=2ahUKEwi0mqWChL2JAxW6g4kEHUYSDhIQs9oBKAB6BAg1EA0\",\n",
            "        \"serpapi_link\": \"https://serpapi.com/search.json?device=desktop&engine=google&google_domain=google.com&q=Iced+coffee&si=ACC90nzx_D3_zUKRnpAjmO0UBLNxnt7EyN4YYdru6U3bxLI-LwZxMRZGkitlNjNo6SNQSysgb0HH6qRTwo6GkSeWlsG5TW-c-HBY7hddIf_qVgjOk1NnzG53mlAY0E3LLA6keAcdDAcRYFbn-PH5K1RRW2keTRLGAuJlHEFARNi7qwiTvM4dFBU6sUhWyoBD5K7t8ePQqhx3fwcovOhqu4WRehab0CdTdN86liTSWeV74YUC--iBCazdMRN9pWnuSm-2lzeHU53bDkgjxFdgC6kWtShGdcOEYImvdUYxvdITMmhBF_823wU%3D\",\n",
            "        \"image\": \"https://serpapi.com/searches/6725c8153c95757cb8c6e2e6/images/b1593540b92edf8c90d7566a3085490e300a99dd52acef1649064b141f93c0764cdae5648f4692e40cd82450bc927225.jpeg\"\n",
            "      },\n",
            "      {\n",
            "        \"name\": \"Cappuccino\",\n",
            "        \"link\": \"https://www.google.com/search?sca_esv=b442d26e8f1a3023&si=ACC90nyvvWro6QmnyY1IfSdgk5wwjB1r8BGd_IWRjXqmKPQqm6hqn45R6HDq_bRft1V3sEs5SFg7AnMgKGqcMKb-88Djo-obJzbDghWY78qsFURPwD-rPrzltETeXYFtPBWzln7WQkz-aMy9I2MFJIiE9yMN_GVsBVIhqDJaf6XSzRtBQw4GX6P0zMisXr_MzriQ3IHBJdRmoPQ335In3HpuNWfkUtpNWWsjYL0Hx4Hbod9rNCRj5bwqIb3fm83ifBYzDZ1dAxNlJmPFSUQUXk_MhJZTKg13by5Eu-1-kpp2cgB87sz50Zo%3D&q=Cappuccino&sa=X&ved=2ahUKEwi0mqWChL2JAxW6g4kEHUYSDhIQs9oBKAB6BAg1EBE\",\n",
            "        \"serpapi_link\": \"https://serpapi.com/search.json?device=desktop&engine=google&google_domain=google.com&q=Cappuccino&si=ACC90nyvvWro6QmnyY1IfSdgk5wwjB1r8BGd_IWRjXqmKPQqm6hqn45R6HDq_bRft1V3sEs5SFg7AnMgKGqcMKb-88Djo-obJzbDghWY78qsFURPwD-rPrzltETeXYFtPBWzln7WQkz-aMy9I2MFJIiE9yMN_GVsBVIhqDJaf6XSzRtBQw4GX6P0zMisXr_MzriQ3IHBJdRmoPQ335In3HpuNWfkUtpNWWsjYL0Hx4Hbod9rNCRj5bwqIb3fm83ifBYzDZ1dAxNlJmPFSUQUXk_MhJZTKg13by5Eu-1-kpp2cgB87sz50Zo%3D\",\n",
            "        \"image\": \"https://serpapi.com/searches/6725c8153c95757cb8c6e2e6/images/b1593540b92edf8c90d7566a3085490e300a99dd52acef1649064b141f93c076694447f99406bf34a443253331955dba.jpeg\"\n",
            "      }\n",
            "    ],\n",
            "    \"list\": {\n",
            "      \"total_fat\": [\n",
            "        \"0 g\",\n",
            "        \"0%\"\n",
            "      ],\n",
            "      \"cholesterol\": [\n",
            "        \"0 mg\",\n",
            "        \"0%\"\n",
            "      ],\n",
            "      \"sodium\": [\n",
            "        \"5 mg\",\n",
            "        \"0%\"\n",
            "      ],\n",
            "      \"potassium\": [\n",
            "        \"116 mg\",\n",
            "        \"3%\"\n",
            "      ],\n",
            "      \"total_carbohydrate\": [\n",
            "        \"0 g\",\n",
            "        \"0%\"\n",
            "      ],\n",
            "      \"protein\": [\n",
            "        \"0.3 g\",\n",
            "        \"0%\"\n",
            "      ],\n",
            "      \"caffeine\": [\n",
            "        \"95 mg\"\n",
            "      ]\n",
            "    }\n",
            "  },\n",
            "  \"inline_products\": [\n",
            "    {\n",
            "      \"position\": 1,\n",
            "      \"title\": \"Folgers Classic Roast Ground Coffee\",\n",
            "      \"block_title\": \"In stores nearby\",\n",
            "      \"source\": \"Walmart\",\n",
            "      \"price\": 5.42,\n",
            "      \"currency\": \"$\",\n",
            "      \"rating\": 4.6,\n",
            "      \"thumbnail\": \"https://serpapi.com/searches/6725c8153c95757cb8c6e2e6/images/dd1d1a9dfdf0f956c559b1673c0d1e8c227e6d996186c749d476a8b3781e0b9e.webp\"\n",
            "    },\n",
            "    {\n",
            "      \"position\": 2,\n",
            "      \"title\": \"Tim Hortons Ground Medium Roast Original Blend Coffee\",\n",
            "      \"block_title\": \"In stores nearby\",\n",
            "      \"tag\": \"6% OFF\",\n",
            "      \"source\": \"Meijer\",\n",
            "      \"price\": 6.99,\n",
            "      \"currency\": \"$\",\n",
            "      \"original_price\": 7,\n",
            "      \"rating\": 4.6,\n",
            "      \"thumbnail\": \"https://serpapi.com/searches/6725c8153c95757cb8c6e2e6/images/dd1d1a9dfdf0f956c559b1673c0d1e8c5b85e2a633266979fa305792ded6222a.webp\"\n",
            "    },\n",
            "    {\n",
            "      \"position\": 3,\n",
            "      \"title\": \"Maxwell House Wake Up Roast Ground Coffee\",\n",
            "      \"block_title\": \"In stores nearby\",\n",
            "      \"source\": \"CVS Pharmacy\",\n",
            "      \"price\": 15.79,\n",
            "      \"currency\": \"$\",\n",
            "      \"rating\": 4.6,\n",
            "      \"thumbnail\": \"https://serpapi.com/searches/6725c8153c95757cb8c6e2e6/images/dd1d1a9dfdf0f956c559b1673c0d1e8cadbb0f79a3c9998b67248fa3e96afdcf.webp\"\n",
            "    },\n",
            "    {\n",
            "      \"position\": 4,\n",
            "      \"title\": \"Member's Mark Colombian Classic Medium-Dark Roast Ground Coffee\",\n",
            "      \"block_title\": \"In stores nearby\",\n",
            "      \"source\": \"Sam's Club\",\n",
            "      \"price\": 9.98,\n",
            "      \"currency\": \"$\",\n",
            "      \"rating\": 4.4,\n",
            "      \"thumbnail\": \"https://serpapi.com/searches/6725c8153c95757cb8c6e2e6/images/dd1d1a9dfdf0f956c559b1673c0d1e8c0a0bd9f9e71f8faa05eb86368750fe41.webp\"\n",
            "    },\n",
            "    {\n",
            "      \"position\": 5,\n",
            "      \"title\": \"Starbucks Pike Place Roast Coffee\",\n",
            "      \"block_title\": \"In stores nearby\",\n",
            "      \"source\": \"Walmart\",\n",
            "      \"price\": 8.48,\n",
            "      \"currency\": \"$\",\n",
            "      \"rating\": 4.6,\n",
            "      \"thumbnail\": \"https://serpapi.com/searches/6725c8153c95757cb8c6e2e6/images/dd1d1a9dfdf0f956c559b1673c0d1e8c3c1c9be8a63104c41e2c3fe1574069a7.webp\"\n",
            "    },\n",
            "    {\n",
            "      \"position\": 6,\n",
            "      \"block_title\": \"In stores nearby\"\n",
            "    },\n",
            "    {\n",
            "      \"position\": 7,\n",
            "      \"block_title\": \"In stores nearby\"\n",
            "    },\n",
            "    {\n",
            "      \"position\": 8,\n",
            "      \"block_title\": \"In stores nearby\"\n",
            "    },\n",
            "    {\n",
            "      \"position\": 9,\n",
            "      \"block_title\": \"In stores nearby\"\n",
            "    },\n",
            "    {\n",
            "      \"position\": 10,\n",
            "      \"block_title\": \"In stores nearby\"\n",
            "    },\n",
            "    {\n",
            "      \"position\": 11,\n",
            "      \"block_title\": \"In stores nearby\"\n",
            "    },\n",
            "    {\n",
            "      \"position\": 12,\n",
            "      \"block_title\": \"In stores nearby\"\n",
            "    },\n",
            "    {\n",
            "      \"position\": 13,\n",
            "      \"block_title\": \"In stores nearby\"\n",
            "    },\n",
            "    {\n",
            "      \"position\": 14,\n",
            "      \"block_title\": \"In stores nearby\"\n",
            "    },\n",
            "    {\n",
            "      \"position\": 15,\n",
            "      \"block_title\": \"In stores nearby\"\n",
            "    },\n",
            "    {\n",
            "      \"position\": 16,\n",
            "      \"block_title\": \"In stores nearby\"\n",
            "    },\n",
            "    {\n",
            "      \"position\": 17,\n",
            "      \"block_title\": \"In stores nearby\"\n",
            "    },\n",
            "    {\n",
            "      \"position\": 18,\n",
            "      \"block_title\": \"In stores nearby\"\n",
            "    },\n",
            "    {\n",
            "      \"position\": 19,\n",
            "      \"block_title\": \"In stores nearby\"\n",
            "    },\n",
            "    {\n",
            "      \"position\": 20,\n",
            "      \"block_title\": \"In stores nearby\"\n",
            "    },\n",
            "    {\n",
            "      \"position\": 21,\n",
            "      \"block_title\": \"In stores nearby\"\n",
            "    },\n",
            "    {\n",
            "      \"position\": 22,\n",
            "      \"block_title\": \"In stores nearby\"\n",
            "    },\n",
            "    {\n",
            "      \"position\": 23,\n",
            "      \"block_title\": \"In stores nearby\"\n",
            "    },\n",
            "    {\n",
            "      \"position\": 24,\n",
            "      \"block_title\": \"In stores nearby\"\n",
            "    },\n",
            "    {\n",
            "      \"position\": 25,\n",
            "      \"block_title\": \"In stores nearby\"\n",
            "    },\n",
            "    {\n",
            "      \"position\": 26,\n",
            "      \"block_title\": \"In stores nearby\"\n",
            "    },\n",
            "    {\n",
            "      \"position\": 27,\n",
            "      \"block_title\": \"In stores nearby\"\n",
            "    },\n",
            "    {\n",
            "      \"position\": 28,\n",
            "      \"block_title\": \"In stores nearby\"\n",
            "    },\n",
            "    {\n",
            "      \"position\": 29,\n",
            "      \"block_title\": \"In stores nearby\"\n",
            "    }\n",
            "  ],\n",
            "  \"immersive_products\": [\n",
            "    {\n",
            "      \"category\": \"In stores nearby\",\n",
            "      \"thumbnail\": \"https://serpapi.com/searches/6725c8153c95757cb8c6e2e6/images/b66b3ef371d2ca269b47c317a9c829c889b5020b4afd07b19a086f508e2127c8.webp\",\n",
            "      \"source_logo\": \"https://serpapi.com/searches/6725c8153c95757cb8c6e2e6/images/b66b3ef371d2ca269b47c317a9c829c81f8e6bae237e01ab166524c3c80fa856bd88a5c23da597ad.png\",\n",
            "      \"source\": \"Walmart\",\n",
            "      \"title\": \"Folgers Classic Roast Ground Coffee\",\n",
            "      \"rating\": 4.6,\n",
            "      \"reviews\": 17000,\n",
            "      \"price\": \"$5.42\",\n",
            "      \"extracted_price\": 5.42,\n",
            "      \"location\": \"Nearby, 4 mi\",\n",
            "      \"delivery\": \"$16.94 same-day\",\n",
            "      \"returns\": \"Free 90-day returns\",\n",
            "      \"immersive_product_page_token\": \"eyJlaSI6IkZjZ2xaX1M3RzdxSHB0UVB4cVM0a0FFIiwicHJvZHVjdGlkIjoiIiwiY2F0YWxvZ2lkIjoiMTQ4NzAwMTA2OTg0MDAyNjU3ODEiLCJ2YyI6IiIsInZzYyI6IiIsImhlYWRsaW5lT2ZmZXJEb2NpZCI6IjMyMzgyMjQ4NDQ2MjQ5MTIxNjkiLCJpbWFnZURvY2lkIjoiMTY3MDQ3Mzc5NDg0MjMyNDQ4NTEiLCJyZHMiOiJQQ18zMjQ1NDc2NDAwODMzNTUxOTQ4fFBST0RfUENfMzI0NTQ3NjQwMDgzMzU1MTk0OCIsInF1ZXJ5IjoiY29mZmVlIn0=\",\n",
            "      \"serpapi_link\": \"https://serpapi.com/search.json?engine=google_immersive_product&page_token=eyJlaSI6IkZjZ2xaX1M3RzdxSHB0UVB4cVM0a0FFIiwicHJvZHVjdGlkIjoiIiwiY2F0YWxvZ2lkIjoiMTQ4NzAwMTA2OTg0MDAyNjU3ODEiLCJ2YyI6IiIsInZzYyI6IiIsImhlYWRsaW5lT2ZmZXJEb2NpZCI6IjMyMzgyMjQ4NDQ2MjQ5MTIxNjkiLCJpbWFnZURvY2lkIjoiMTY3MDQ3Mzc5NDg0MjMyNDQ4NTEiLCJyZHMiOiJQQ18zMjQ1NDc2NDAwODMzNTUxOTQ4fFBST0RfUENfMzI0NTQ3NjQwMDgzMzU1MTk0OCIsInF1ZXJ5IjoiY29mZmVlIn0%3D\"\n",
            "    },\n",
            "    {\n",
            "      \"category\": \"In stores nearby\",\n",
            "      \"thumbnail\": \"https://serpapi.com/searches/6725c8153c95757cb8c6e2e6/images/b66b3ef371d2ca269b47c317a9c829c81117a2b253edd0a37d27ad799021ef12.webp\",\n",
            "      \"source_logo\": \"https://serpapi.com/searches/6725c8153c95757cb8c6e2e6/images/b66b3ef371d2ca269b47c317a9c829c85fcececc72b4a4a7d112da7f7c65f0cd39aad9e7a423056e.png\",\n",
            "      \"source\": \"Meijer\",\n",
            "      \"title\": \"Tim Hortons Ground Medium Roast Original Blend Coffee\",\n",
            "      \"rating\": 4.6,\n",
            "      \"reviews\": 1400,\n",
            "      \"price\": \"$6.99\",\n",
            "      \"extracted_price\": 6.99,\n",
            "      \"original_price\": \"$7\",\n",
            "      \"extracted_original_price\": 7,\n",
            "      \"location\": \"Nearby, 2 mi\",\n",
            "      \"extensions\": [\n",
            "        \"6% OFF\"\n",
            "      ],\n",
            "      \"immersive_product_page_token\": \"eyJlaSI6IkZjZ2xaX1M3RzdxSHB0UVB4cVM0a0FFIiwicHJvZHVjdGlkIjoiIiwiY2F0YWxvZ2lkIjoiMTQzMDIyNzk4OTU2NDQwMDg2NjgiLCJ2YyI6IiIsInZzYyI6IiIsImhlYWRsaW5lT2ZmZXJEb2NpZCI6IjExMDYwMDAxNjY3NjQ2MzA0MDkyIiwiaW1hZ2VEb2NpZCI6IjE3NDkyNTEzNTM0NjY1NDI2MjI1IiwicmRzIjoiUENfMTM0NTc3MTYxMTI5NTE3MTQzOTV8UFJPRF9QQ18xMzQ1NzcxNjExMjk1MTcxNDM5NSIsInF1ZXJ5IjoiY29mZmVlIn0=\",\n",
            "      \"serpapi_link\": \"https://serpapi.com/search.json?engine=google_immersive_product&page_token=eyJlaSI6IkZjZ2xaX1M3RzdxSHB0UVB4cVM0a0FFIiwicHJvZHVjdGlkIjoiIiwiY2F0YWxvZ2lkIjoiMTQzMDIyNzk4OTU2NDQwMDg2NjgiLCJ2YyI6IiIsInZzYyI6IiIsImhlYWRsaW5lT2ZmZXJEb2NpZCI6IjExMDYwMDAxNjY3NjQ2MzA0MDkyIiwiaW1hZ2VEb2NpZCI6IjE3NDkyNTEzNTM0NjY1NDI2MjI1IiwicmRzIjoiUENfMTM0NTc3MTYxMTI5NTE3MTQzOTV8UFJPRF9QQ18xMzQ1NzcxNjExMjk1MTcxNDM5NSIsInF1ZXJ5IjoiY29mZmVlIn0%3D\"\n",
            "    },\n",
            "    {\n",
            "      \"category\": \"In stores nearby\",\n",
            "      \"thumbnail\": \"https://serpapi.com/searches/6725c8153c95757cb8c6e2e6/images/b66b3ef371d2ca269b47c317a9c829c8ceaf68e34aae3f6a50661598454da797.webp\",\n",
            "      \"source_logo\": \"https://serpapi.com/searches/6725c8153c95757cb8c6e2e6/images/b66b3ef371d2ca269b47c317a9c829c8ebfdc094e63e33068140a6b8793e6bcc9b7e5f6e07f2876d.png\",\n",
            "      \"source\": \"CVS Pharmacy\",\n",
            "      \"title\": \"Maxwell House Wake Up Roast Ground Coffee\",\n",
            "      \"rating\": 4.6,\n",
            "      \"reviews\": 152,\n",
            "      \"price\": \"$15.79\",\n",
            "      \"extracted_price\": 15.79,\n",
            "      \"location\": \"Nearby, 4 mi\",\n",
            "      \"delivery\": \"Free $35+\",\n",
            "      \"returns\": \"60-day returns\",\n",
            "      \"immersive_product_page_token\": \"eyJlaSI6IkZjZ2xaX1M3RzdxSHB0UVB4cVM0a0FFIiwicHJvZHVjdGlkIjoiIiwiY2F0YWxvZ2lkIjoiMTA4MjI3MTc1MTk5MDUxNzcyOTQiLCJ2YyI6IiIsInZzYyI6IiIsImhlYWRsaW5lT2ZmZXJEb2NpZCI6Ijk4ODI5Nzc4OTQwNjMxMTIxOTEiLCJpbWFnZURvY2lkIjoiNzU2Mzk0MjQ4MDgxMDYwNzk5MCIsInJkcyI6IlBDXzY3NTAyMDE2NDAwMTgxNjI4MDV8UFJPRF9QQ182NzUwMjAxNjQwMDE4MTYyODA1IiwicXVlcnkiOiJjb2ZmZWUifQ==\",\n",
            "      \"serpapi_link\": \"https://serpapi.com/search.json?engine=google_immersive_product&page_token=eyJlaSI6IkZjZ2xaX1M3RzdxSHB0UVB4cVM0a0FFIiwicHJvZHVjdGlkIjoiIiwiY2F0YWxvZ2lkIjoiMTA4MjI3MTc1MTk5MDUxNzcyOTQiLCJ2YyI6IiIsInZzYyI6IiIsImhlYWRsaW5lT2ZmZXJEb2NpZCI6Ijk4ODI5Nzc4OTQwNjMxMTIxOTEiLCJpbWFnZURvY2lkIjoiNzU2Mzk0MjQ4MDgxMDYwNzk5MCIsInJkcyI6IlBDXzY3NTAyMDE2NDAwMTgxNjI4MDV8UFJPRF9QQ182NzUwMjAxNjQwMDE4MTYyODA1IiwicXVlcnkiOiJjb2ZmZWUifQ%3D%3D\"\n",
            "    },\n",
            "    {\n",
            "      \"category\": \"In stores nearby\",\n",
            "      \"thumbnail\": \"https://serpapi.com/searches/6725c8153c95757cb8c6e2e6/images/b66b3ef371d2ca269b47c317a9c829c8fdab93417304901895a351a705d94cea.webp\",\n",
            "      \"source_logo\": \"https://serpapi.com/searches/6725c8153c95757cb8c6e2e6/images/b66b3ef371d2ca269b47c317a9c829c8ceebe868d863d4c3c42dcc214e49bf2c9606cc4df06157b5.png\",\n",
            "      \"source\": \"Sam's Club\",\n",
            "      \"title\": \"Member's Mark Colombian Classic Medium-Dark Roast Ground Coffee\",\n",
            "      \"rating\": 4.4,\n",
            "      \"reviews\": 1300,\n",
            "      \"price\": \"$9.98\",\n",
            "      \"extracted_price\": 9.98,\n",
            "      \"location\": \"Nearby, 10 mi\",\n",
            "      \"immersive_product_page_token\": \"eyJlaSI6IkZjZ2xaX1M3RzdxSHB0UVB4cVM0a0FFIiwicHJvZHVjdGlkIjoiIiwiY2F0YWxvZ2lkIjoiMTQ5NTAyOTY2Mzk3MjY3NDEwNDkiLCJ2YyI6IiIsInZzYyI6IiIsImhlYWRsaW5lT2ZmZXJEb2NpZCI6IjEzOTA2ODk3NTA5NzUxMDMzMDkxIiwiaW1hZ2VEb2NpZCI6IjY4MjQwMzczMzEyNzY3OTc0MDEiLCJyZHMiOiJQQ182MjI5MjExMDc4ODk1NzkwMzk5fFBST0RfUENfNjIyOTIxMTA3ODg5NTc5MDM5OSIsInF1ZXJ5IjoiY29mZmVlIn0=\",\n",
            "      \"serpapi_link\": \"https://serpapi.com/search.json?engine=google_immersive_product&page_token=eyJlaSI6IkZjZ2xaX1M3RzdxSHB0UVB4cVM0a0FFIiwicHJvZHVjdGlkIjoiIiwiY2F0YWxvZ2lkIjoiMTQ5NTAyOTY2Mzk3MjY3NDEwNDkiLCJ2YyI6IiIsInZzYyI6IiIsImhlYWRsaW5lT2ZmZXJEb2NpZCI6IjEzOTA2ODk3NTA5NzUxMDMzMDkxIiwiaW1hZ2VEb2NpZCI6IjY4MjQwMzczMzEyNzY3OTc0MDEiLCJyZHMiOiJQQ182MjI5MjExMDc4ODk1NzkwMzk5fFBST0RfUENfNjIyOTIxMTA3ODg5NTc5MDM5OSIsInF1ZXJ5IjoiY29mZmVlIn0%3D\"\n",
            "    },\n",
            "    {\n",
            "      \"category\": \"In stores nearby\",\n",
            "      \"thumbnail\": \"https://serpapi.com/searches/6725c8153c95757cb8c6e2e6/images/b66b3ef371d2ca269b47c317a9c829c8dc0a6c1b3c7be709b1586b6750206b6e.webp\",\n",
            "      \"source_logo\": \"https://serpapi.com/searches/6725c8153c95757cb8c6e2e6/images/b66b3ef371d2ca269b47c317a9c829c828894b9b497ccd80b4460eff5a2ef23b0de35b832771893b.png\",\n",
            "      \"source\": \"Walmart\",\n",
            "      \"title\": \"Starbucks Pike Place Roast Coffee\",\n",
            "      \"rating\": 4.6,\n",
            "      \"reviews\": 9700,\n",
            "      \"price\": \"$8.48\",\n",
            "      \"extracted_price\": 8.48,\n",
            "      \"location\": \"Nearby, 4 mi\",\n",
            "      \"delivery\": \"$16.94 same-day\",\n",
            "      \"returns\": \"Free 90-day returns\",\n",
            "      \"immersive_product_page_token\": \"eyJlaSI6IkZjZ2xaX1M3RzdxSHB0UVB4cVM0a0FFIiwicHJvZHVjdGlkIjoiIiwiY2F0YWxvZ2lkIjoiMTQ5MzY2MTExMTY2NzQxNDU5MTciLCJ2YyI6IiIsInZzYyI6IiIsImhlYWRsaW5lT2ZmZXJEb2NpZCI6IjU1MjM0Njk0NzgwODI1MzYxODgiLCJpbWFnZURvY2lkIjoiOTIyMzk1OTgzMTQzOTc0NDQzNiIsInJkcyI6IlBDXzg3OTcyMTY0MjU3MjU4NjE5Mzd8UFJPRF9QQ184Nzk3MjE2NDI1NzI1ODYxOTM3IiwicXVlcnkiOiJjb2ZmZWUifQ==\",\n",
            "      \"serpapi_link\": \"https://serpapi.com/search.json?engine=google_immersive_product&page_token=eyJlaSI6IkZjZ2xaX1M3RzdxSHB0UVB4cVM0a0FFIiwicHJvZHVjdGlkIjoiIiwiY2F0YWxvZ2lkIjoiMTQ5MzY2MTExMTY2NzQxNDU5MTciLCJ2YyI6IiIsInZzYyI6IiIsImhlYWRsaW5lT2ZmZXJEb2NpZCI6IjU1MjM0Njk0NzgwODI1MzYxODgiLCJpbWFnZURvY2lkIjoiOTIyMzk1OTgzMTQzOTc0NDQzNiIsInJkcyI6IlBDXzg3OTcyMTY0MjU3MjU4NjE5Mzd8UFJPRF9QQ184Nzk3MjE2NDI1NzI1ODYxOTM3IiwicXVlcnkiOiJjb2ZmZWUifQ%3D%3D\"\n",
            "    },\n",
            "    {\n",
            "      \"category\": \"In stores nearby\",\n",
            "      \"immersive_product_page_token\": \"eyJlaSI6IkZjZ2xaX1M3RzdxSHB0UVB4cVM0a0FFIiwicHJvZHVjdGlkIjoiIiwiY2F0YWxvZ2lkIjoiMTQ4NzAwMTA2OTg0MDAyNjU3ODEiLCJ2YyI6IiIsInZzYyI6IiIsImhlYWRsaW5lT2ZmZXJEb2NpZCI6IjEyNDE2Mjc5NDI5NDk4OTc2MTA5IiwiaW1hZ2VEb2NpZCI6IjE2NzA0NzM3OTQ4NDIzMjQ0ODUxIiwicmRzIjoiUENfMzI0NTQ3NjQwMDgzMzU1MTk0OHxQUk9EX1BDXzMyNDU0NzY0MDA4MzM1NTE5NDgiLCJxdWVyeSI6ImNvZmZlZSJ9\",\n",
            "      \"serpapi_link\": \"https://serpapi.com/search.json?engine=google_immersive_product&page_token=eyJlaSI6IkZjZ2xaX1M3RzdxSHB0UVB4cVM0a0FFIiwicHJvZHVjdGlkIjoiIiwiY2F0YWxvZ2lkIjoiMTQ4NzAwMTA2OTg0MDAyNjU3ODEiLCJ2YyI6IiIsInZzYyI6IiIsImhlYWRsaW5lT2ZmZXJEb2NpZCI6IjEyNDE2Mjc5NDI5NDk4OTc2MTA5IiwiaW1hZ2VEb2NpZCI6IjE2NzA0NzM3OTQ4NDIzMjQ0ODUxIiwicmRzIjoiUENfMzI0NTQ3NjQwMDgzMzU1MTk0OHxQUk9EX1BDXzMyNDU0NzY0MDA4MzM1NTE5NDgiLCJxdWVyeSI6ImNvZmZlZSJ9\"\n",
            "    },\n",
            "    {\n",
            "      \"category\": \"In stores nearby\",\n",
            "      \"immersive_product_page_token\": \"eyJlaSI6IkZjZ2xaX1M3RzdxSHB0UVB4cVM0a0FFIiwicHJvZHVjdGlkIjoiIiwiY2F0YWxvZ2lkIjoiNzcxMjEyMTQyODA1NzU5MjU2MCIsInZjIjoiIiwidnNjIjoiIiwiaGVhZGxpbmVPZmZlckRvY2lkIjoiNjAzMTAwMjg2MTg2MDExODkyNCIsImltYWdlRG9jaWQiOiIxMDMwODYzNjE1ODg1OTEyOTgyNCIsInJkcyI6IlBDXzM4NzQxMjAxOTQzNjI0NTQ5NXxQUk9EX1BDXzM4NzQxMjAxOTQzNjI0NTQ5NSIsInF1ZXJ5IjoiY29mZmVlIn0=\",\n",
            "      \"serpapi_link\": \"https://serpapi.com/search.json?engine=google_immersive_product&page_token=eyJlaSI6IkZjZ2xaX1M3RzdxSHB0UVB4cVM0a0FFIiwicHJvZHVjdGlkIjoiIiwiY2F0YWxvZ2lkIjoiNzcxMjEyMTQyODA1NzU5MjU2MCIsInZjIjoiIiwidnNjIjoiIiwiaGVhZGxpbmVPZmZlckRvY2lkIjoiNjAzMTAwMjg2MTg2MDExODkyNCIsImltYWdlRG9jaWQiOiIxMDMwODYzNjE1ODg1OTEyOTgyNCIsInJkcyI6IlBDXzM4NzQxMjAxOTQzNjI0NTQ5NXxQUk9EX1BDXzM4NzQxMjAxOTQzNjI0NTQ5NSIsInF1ZXJ5IjoiY29mZmVlIn0%3D\"\n",
            "    },\n",
            "    {\n",
            "      \"category\": \"In stores nearby\",\n",
            "      \"immersive_product_page_token\": \"eyJlaSI6IkZjZ2xaX1M3RzdxSHB0UVB4cVM0a0FFIiwicHJvZHVjdGlkIjoiIiwiY2F0YWxvZ2lkIjoiNzE4MjMzNjU4NzE1OTYxNjQ1MiIsInZjIjoiIiwidnNjIjoiIiwiaGVhZGxpbmVPZmZlckRvY2lkIjoiNzIwNzQ3MzIyNDg3NzU4MjE1MCIsImltYWdlRG9jaWQiOiI4MzY2MDYyNzM2NzgwMDczMDE1IiwicmRzIjoiUENfOTEzMzQ1OTE0OTA0MzA4ODg1OHxQUk9EX1BDXzkxMzM0NTkxNDkwNDMwODg4NTgiLCJxdWVyeSI6ImNvZmZlZSJ9\",\n",
            "      \"serpapi_link\": \"https://serpapi.com/search.json?engine=google_immersive_product&page_token=eyJlaSI6IkZjZ2xaX1M3RzdxSHB0UVB4cVM0a0FFIiwicHJvZHVjdGlkIjoiIiwiY2F0YWxvZ2lkIjoiNzE4MjMzNjU4NzE1OTYxNjQ1MiIsInZjIjoiIiwidnNjIjoiIiwiaGVhZGxpbmVPZmZlckRvY2lkIjoiNzIwNzQ3MzIyNDg3NzU4MjE1MCIsImltYWdlRG9jaWQiOiI4MzY2MDYyNzM2NzgwMDczMDE1IiwicmRzIjoiUENfOTEzMzQ1OTE0OTA0MzA4ODg1OHxQUk9EX1BDXzkxMzM0NTkxNDkwNDMwODg4NTgiLCJxdWVyeSI6ImNvZmZlZSJ9\"\n",
            "    },\n",
            "    {\n",
            "      \"category\": \"In stores nearby\",\n",
            "      \"immersive_product_page_token\": \"eyJlaSI6IkZjZ2xaX1M3RzdxSHB0UVB4cVM0a0FFIiwicHJvZHVjdGlkIjoiIiwiY2F0YWxvZ2lkIjoiODMzNjc5NzU2NTYwMjg2MzIxMyIsInZjIjoiIiwidnNjIjoiIiwiaGVhZGxpbmVPZmZlckRvY2lkIjoiMzAwMTM5MTIzODk2NjM3ODYwMiIsImltYWdlRG9jaWQiOiIxMTQ1NjMzMDU1NjQ1MjY3NzU3MSIsInJkcyI6IlBDXzMxNzk3NDY4OTk4MjA1NTgwMjB8UFJPRF9QQ18zMTc5NzQ2ODk5ODIwNTU4MDIwIiwicXVlcnkiOiJjb2ZmZWUifQ==\",\n",
            "      \"serpapi_link\": \"https://serpapi.com/search.json?engine=google_immersive_product&page_token=eyJlaSI6IkZjZ2xaX1M3RzdxSHB0UVB4cVM0a0FFIiwicHJvZHVjdGlkIjoiIiwiY2F0YWxvZ2lkIjoiODMzNjc5NzU2NTYwMjg2MzIxMyIsInZjIjoiIiwidnNjIjoiIiwiaGVhZGxpbmVPZmZlckRvY2lkIjoiMzAwMTM5MTIzODk2NjM3ODYwMiIsImltYWdlRG9jaWQiOiIxMTQ1NjMzMDU1NjQ1MjY3NzU3MSIsInJkcyI6IlBDXzMxNzk3NDY4OTk4MjA1NTgwMjB8UFJPRF9QQ18zMTc5NzQ2ODk5ODIwNTU4MDIwIiwicXVlcnkiOiJjb2ZmZWUifQ%3D%3D\"\n",
            "    },\n",
            "    {\n",
            "      \"category\": \"In stores nearby\",\n",
            "      \"immersive_product_page_token\": \"eyJlaSI6IkZjZ2xaX1M3RzdxSHB0UVB4cVM0a0FFIiwicHJvZHVjdGlkIjoiIiwiY2F0YWxvZ2lkIjoiODg4MDExODcxNjE5MDc3NzA0OCIsInZjIjoiIiwidnNjIjoiIiwiaGVhZGxpbmVPZmZlckRvY2lkIjoiMTA3MTY0ODg3NjM2MTYzMjExNTYiLCJpbWFnZURvY2lkIjoiMTY1NzY5MjE1Nzc4MzM2NDY0NjYiLCJyZHMiOiJQQ18zMjQ1NDc2NDAwODMzNTUxOTQ4fFBST0RfUENfMzI0NTQ3NjQwMDgzMzU1MTk0OCIsInF1ZXJ5IjoiY29mZmVlIn0=\",\n",
            "      \"serpapi_link\": \"https://serpapi.com/search.json?engine=google_immersive_product&page_token=eyJlaSI6IkZjZ2xaX1M3RzdxSHB0UVB4cVM0a0FFIiwicHJvZHVjdGlkIjoiIiwiY2F0YWxvZ2lkIjoiODg4MDExODcxNjE5MDc3NzA0OCIsInZjIjoiIiwidnNjIjoiIiwiaGVhZGxpbmVPZmZlckRvY2lkIjoiMTA3MTY0ODg3NjM2MTYzMjExNTYiLCJpbWFnZURvY2lkIjoiMTY1NzY5MjE1Nzc4MzM2NDY0NjYiLCJyZHMiOiJQQ18zMjQ1NDc2NDAwODMzNTUxOTQ4fFBST0RfUENfMzI0NTQ3NjQwMDgzMzU1MTk0OCIsInF1ZXJ5IjoiY29mZmVlIn0%3D\"\n",
            "    },\n",
            "    {\n",
            "      \"category\": \"In stores nearby\",\n",
            "      \"immersive_product_page_token\": \"eyJlaSI6IkZjZ2xaX1M3RzdxSHB0UVB4cVM0a0FFIiwicHJvZHVjdGlkIjoiIiwiY2F0YWxvZ2lkIjoiNTk4MTYyMTg0NjgyNjY5MDYyNSIsInZjIjoiIiwidnNjIjoiIiwiaGVhZGxpbmVPZmZlckRvY2lkIjoiNjYxMTc4OTIzNDQ5MjQ4NTk0MSIsImltYWdlRG9jaWQiOiI3MzY2NTY1MTI1NDA3MDIzNDEiLCJyZHMiOiJQQ183NjI2OTE1NzcyNzQyNTMzODAwfFBST0RfUENfNzYyNjkxNTc3Mjc0MjUzMzgwMCIsInF1ZXJ5IjoiY29mZmVlIn0=\",\n",
            "      \"serpapi_link\": \"https://serpapi.com/search.json?engine=google_immersive_product&page_token=eyJlaSI6IkZjZ2xaX1M3RzdxSHB0UVB4cVM0a0FFIiwicHJvZHVjdGlkIjoiIiwiY2F0YWxvZ2lkIjoiNTk4MTYyMTg0NjgyNjY5MDYyNSIsInZjIjoiIiwidnNjIjoiIiwiaGVhZGxpbmVPZmZlckRvY2lkIjoiNjYxMTc4OTIzNDQ5MjQ4NTk0MSIsImltYWdlRG9jaWQiOiI3MzY2NTY1MTI1NDA3MDIzNDEiLCJyZHMiOiJQQ183NjI2OTE1NzcyNzQyNTMzODAwfFBST0RfUENfNzYyNjkxNTc3Mjc0MjUzMzgwMCIsInF1ZXJ5IjoiY29mZmVlIn0%3D\"\n",
            "    },\n",
            "    {\n",
            "      \"category\": \"In stores nearby\",\n",
            "      \"immersive_product_page_token\": \"eyJlaSI6IkZjZ2xaX1M3RzdxSHB0UVB4cVM0a0FFIiwicHJvZHVjdGlkIjoiIiwiY2F0YWxvZ2lkIjoiNDIyMjY1NDE4NzYxOTI0OTM4IiwidmMiOiIiLCJ2c2MiOiIiLCJoZWFkbGluZU9mZmVyRG9jaWQiOiI2MTY4NTkyNTI1MDUyNTM1OTczIiwiaW1hZ2VEb2NpZCI6IjEwNjM2NDA0NDUyMDMwOTE4NTMwIiwicmRzIjoiUENfMTEwMzg5NDY5NzM5NjAwNjg1OXxQUk9EX1BDXzExMDM4OTQ2OTczOTYwMDY4NTkiLCJxdWVyeSI6ImNvZmZlZSJ9\",\n",
            "      \"serpapi_link\": \"https://serpapi.com/search.json?engine=google_immersive_product&page_token=eyJlaSI6IkZjZ2xaX1M3RzdxSHB0UVB4cVM0a0FFIiwicHJvZHVjdGlkIjoiIiwiY2F0YWxvZ2lkIjoiNDIyMjY1NDE4NzYxOTI0OTM4IiwidmMiOiIiLCJ2c2MiOiIiLCJoZWFkbGluZU9mZmVyRG9jaWQiOiI2MTY4NTkyNTI1MDUyNTM1OTczIiwiaW1hZ2VEb2NpZCI6IjEwNjM2NDA0NDUyMDMwOTE4NTMwIiwicmRzIjoiUENfMTEwMzg5NDY5NzM5NjAwNjg1OXxQUk9EX1BDXzExMDM4OTQ2OTczOTYwMDY4NTkiLCJxdWVyeSI6ImNvZmZlZSJ9\"\n",
            "    },\n",
            "    {\n",
            "      \"category\": \"In stores nearby\",\n",
            "      \"immersive_product_page_token\": \"eyJlaSI6IkZjZ2xaX1M3RzdxSHB0UVB4cVM0a0FFIiwicHJvZHVjdGlkIjoiIiwiY2F0YWxvZ2lkIjoiMTQ4NzAwMTA2OTg0MDAyNjU3ODEiLCJ2YyI6IiIsInZzYyI6IiIsImhlYWRsaW5lT2ZmZXJEb2NpZCI6IjY3Mzc4Njc5MzcwOTIwOTA1MiIsImltYWdlRG9jaWQiOiIxNjcwNDczNzk0ODQyMzI0NDg1MSIsInJkcyI6IlBDXzMyNDU0NzY0MDA4MzM1NTE5NDh8UFJPRF9QQ18zMjQ1NDc2NDAwODMzNTUxOTQ4IiwicXVlcnkiOiJjb2ZmZWUifQ==\",\n",
            "      \"serpapi_link\": \"https://serpapi.com/search.json?engine=google_immersive_product&page_token=eyJlaSI6IkZjZ2xaX1M3RzdxSHB0UVB4cVM0a0FFIiwicHJvZHVjdGlkIjoiIiwiY2F0YWxvZ2lkIjoiMTQ4NzAwMTA2OTg0MDAyNjU3ODEiLCJ2YyI6IiIsInZzYyI6IiIsImhlYWRsaW5lT2ZmZXJEb2NpZCI6IjY3Mzc4Njc5MzcwOTIwOTA1MiIsImltYWdlRG9jaWQiOiIxNjcwNDczNzk0ODQyMzI0NDg1MSIsInJkcyI6IlBDXzMyNDU0NzY0MDA4MzM1NTE5NDh8UFJPRF9QQ18zMjQ1NDc2NDAwODMzNTUxOTQ4IiwicXVlcnkiOiJjb2ZmZWUifQ%3D%3D\"\n",
            "    },\n",
            "    {\n",
            "      \"category\": \"In stores nearby\",\n",
            "      \"immersive_product_page_token\": \"eyJlaSI6IkZjZ2xaX1M3RzdxSHB0UVB4cVM0a0FFIiwicHJvZHVjdGlkIjoiIiwiY2F0YWxvZ2lkIjoiOTYyNjYwNjcxODA1MTUyNzA3MCIsInZjIjoiIiwidnNjIjoiIiwiaGVhZGxpbmVPZmZlckRvY2lkIjoiMTY0OTY2MzMxNDQxMzk1NjU1NzYiLCJpbWFnZURvY2lkIjoiNjI0MjQzNjQ5MjQ2OTYyMzE3MiIsInJkcyI6IlBDXzUxOTQyNzI0NDU5NDk4MzUyODV8UFJPRF9QQ181MTk0MjcyNDQ1OTQ5ODM1Mjg1IiwicXVlcnkiOiJjb2ZmZWUifQ==\",\n",
            "      \"serpapi_link\": \"https://serpapi.com/search.json?engine=google_immersive_product&page_token=eyJlaSI6IkZjZ2xaX1M3RzdxSHB0UVB4cVM0a0FFIiwicHJvZHVjdGlkIjoiIiwiY2F0YWxvZ2lkIjoiOTYyNjYwNjcxODA1MTUyNzA3MCIsInZjIjoiIiwidnNjIjoiIiwiaGVhZGxpbmVPZmZlckRvY2lkIjoiMTY0OTY2MzMxNDQxMzk1NjU1NzYiLCJpbWFnZURvY2lkIjoiNjI0MjQzNjQ5MjQ2OTYyMzE3MiIsInJkcyI6IlBDXzUxOTQyNzI0NDU5NDk4MzUyODV8UFJPRF9QQ181MTk0MjcyNDQ1OTQ5ODM1Mjg1IiwicXVlcnkiOiJjb2ZmZWUifQ%3D%3D\"\n",
            "    },\n",
            "    {\n",
            "      \"category\": \"In stores nearby\",\n",
            "      \"immersive_product_page_token\": \"eyJlaSI6IkZjZ2xaX1M3RzdxSHB0UVB4cVM0a0FFIiwicHJvZHVjdGlkIjoiIiwiY2F0YWxvZ2lkIjoiMTQ4NzAwMTA2OTg0MDAyNjU3ODEiLCJ2YyI6IiIsInZzYyI6IiIsImhlYWRsaW5lT2ZmZXJEb2NpZCI6IjE2ODA4NzA0NDEwMzU2NzU4NjgzIiwiaW1hZ2VEb2NpZCI6IjE2NzA0NzM3OTQ4NDIzMjQ0ODUxIiwicmRzIjoiUENfMzI0NTQ3NjQwMDgzMzU1MTk0OHxQUk9EX1BDXzMyNDU0NzY0MDA4MzM1NTE5NDgiLCJxdWVyeSI6ImNvZmZlZSJ9\",\n",
            "      \"serpapi_link\": \"https://serpapi.com/search.json?engine=google_immersive_product&page_token=eyJlaSI6IkZjZ2xaX1M3RzdxSHB0UVB4cVM0a0FFIiwicHJvZHVjdGlkIjoiIiwiY2F0YWxvZ2lkIjoiMTQ4NzAwMTA2OTg0MDAyNjU3ODEiLCJ2YyI6IiIsInZzYyI6IiIsImhlYWRsaW5lT2ZmZXJEb2NpZCI6IjE2ODA4NzA0NDEwMzU2NzU4NjgzIiwiaW1hZ2VEb2NpZCI6IjE2NzA0NzM3OTQ4NDIzMjQ0ODUxIiwicmRzIjoiUENfMzI0NTQ3NjQwMDgzMzU1MTk0OHxQUk9EX1BDXzMyNDU0NzY0MDA4MzM1NTE5NDgiLCJxdWVyeSI6ImNvZmZlZSJ9\"\n",
            "    },\n",
            "    {\n",
            "      \"category\": \"In stores nearby\",\n",
            "      \"immersive_product_page_token\": \"eyJlaSI6IkZjZ2xaX1M3RzdxSHB0UVB4cVM0a0FFIiwicHJvZHVjdGlkIjoiIiwiY2F0YWxvZ2lkIjoiNDcxNTU0NDcwOTUzNTg0MTM5IiwidmMiOiIiLCJ2c2MiOiIiLCJoZWFkbGluZU9mZmVyRG9jaWQiOiI1NDg2NTQzODg0NDc5NzY2NDQzIiwiaW1hZ2VEb2NpZCI6IjEzNTQ1NjI2ODQwMDU0MTg4ODQ1IiwicmRzIjoiUENfMTI2Njc5NTUwMDIzMTY4NDkyMzB8UFJPRF9QQ18xMjY2Nzk1NTAwMjMxNjg0OTIzMCIsInF1ZXJ5IjoiY29mZmVlIn0=\",\n",
            "      \"serpapi_link\": \"https://serpapi.com/search.json?engine=google_immersive_product&page_token=eyJlaSI6IkZjZ2xaX1M3RzdxSHB0UVB4cVM0a0FFIiwicHJvZHVjdGlkIjoiIiwiY2F0YWxvZ2lkIjoiNDcxNTU0NDcwOTUzNTg0MTM5IiwidmMiOiIiLCJ2c2MiOiIiLCJoZWFkbGluZU9mZmVyRG9jaWQiOiI1NDg2NTQzODg0NDc5NzY2NDQzIiwiaW1hZ2VEb2NpZCI6IjEzNTQ1NjI2ODQwMDU0MTg4ODQ1IiwicmRzIjoiUENfMTI2Njc5NTUwMDIzMTY4NDkyMzB8UFJPRF9QQ18xMjY2Nzk1NTAwMjMxNjg0OTIzMCIsInF1ZXJ5IjoiY29mZmVlIn0%3D\"\n",
            "    },\n",
            "    {\n",
            "      \"category\": \"In stores nearby\",\n",
            "      \"immersive_product_page_token\": \"eyJlaSI6IkZjZ2xaX1M3RzdxSHB0UVB4cVM0a0FFIiwicHJvZHVjdGlkIjoiIiwiY2F0YWxvZ2lkIjoiMTQzMDIyNzk4OTU2NDQwMDg2NjgiLCJ2YyI6IiIsInZzYyI6IiIsImhlYWRsaW5lT2ZmZXJEb2NpZCI6Ijc0NDk2MDY0NDc4NTU1NzQzMzUiLCJpbWFnZURvY2lkIjoiMTc0OTI1MTM1MzQ2NjU0MjYyMjUiLCJyZHMiOiJQQ18xMzQ1NzcxNjExMjk1MTcxNDM5NXxQUk9EX1BDXzEzNDU3NzE2MTEyOTUxNzE0Mzk1IiwicXVlcnkiOiJjb2ZmZWUifQ==\",\n",
            "      \"serpapi_link\": \"https://serpapi.com/search.json?engine=google_immersive_product&page_token=eyJlaSI6IkZjZ2xaX1M3RzdxSHB0UVB4cVM0a0FFIiwicHJvZHVjdGlkIjoiIiwiY2F0YWxvZ2lkIjoiMTQzMDIyNzk4OTU2NDQwMDg2NjgiLCJ2YyI6IiIsInZzYyI6IiIsImhlYWRsaW5lT2ZmZXJEb2NpZCI6Ijc0NDk2MDY0NDc4NTU1NzQzMzUiLCJpbWFnZURvY2lkIjoiMTc0OTI1MTM1MzQ2NjU0MjYyMjUiLCJyZHMiOiJQQ18xMzQ1NzcxNjExMjk1MTcxNDM5NXxQUk9EX1BDXzEzNDU3NzE2MTEyOTUxNzE0Mzk1IiwicXVlcnkiOiJjb2ZmZWUifQ%3D%3D\"\n",
            "    },\n",
            "    {\n",
            "      \"category\": \"In stores nearby\",\n",
            "      \"immersive_product_page_token\": \"eyJlaSI6IkZjZ2xaX1M3RzdxSHB0UVB4cVM0a0FFIiwicHJvZHVjdGlkIjoiIiwiY2F0YWxvZ2lkIjoiNDg4MjI4NTIyMjQzMTYwNjM2MiIsInZjIjoiIiwidnNjIjoiIiwiaGVhZGxpbmVPZmZlckRvY2lkIjoiNjk1NDA1NDM4NDM2MTc2NDU5NCIsImltYWdlRG9jaWQiOiIxMzEyNDE3ODY1MzcxOTc3Nzg2OCIsInJkcyI6IlBDXzg0ODE1Mjc1MDUxNDQxOTQ0MDh8UFJPRF9QQ184NDgxNTI3NTA1MTQ0MTk0NDA4IiwicXVlcnkiOiJjb2ZmZWUifQ==\",\n",
            "      \"serpapi_link\": \"https://serpapi.com/search.json?engine=google_immersive_product&page_token=eyJlaSI6IkZjZ2xaX1M3RzdxSHB0UVB4cVM0a0FFIiwicHJvZHVjdGlkIjoiIiwiY2F0YWxvZ2lkIjoiNDg4MjI4NTIyMjQzMTYwNjM2MiIsInZjIjoiIiwidnNjIjoiIiwiaGVhZGxpbmVPZmZlckRvY2lkIjoiNjk1NDA1NDM4NDM2MTc2NDU5NCIsImltYWdlRG9jaWQiOiIxMzEyNDE3ODY1MzcxOTc3Nzg2OCIsInJkcyI6IlBDXzg0ODE1Mjc1MDUxNDQxOTQ0MDh8UFJPRF9QQ184NDgxNTI3NTA1MTQ0MTk0NDA4IiwicXVlcnkiOiJjb2ZmZWUifQ%3D%3D\"\n",
            "    },\n",
            "    {\n",
            "      \"category\": \"In stores nearby\",\n",
            "      \"immersive_product_page_token\": \"eyJlaSI6IkZjZ2xaX1M3RzdxSHB0UVB4cVM0a0FFIiwicHJvZHVjdGlkIjoiIiwiY2F0YWxvZ2lkIjoiNTE4NTc3MDU2NDUzNTU4NTUzIiwidmMiOiIiLCJ2c2MiOiIiLCJoZWFkbGluZU9mZmVyRG9jaWQiOiI3Mzg5MDUxODYwMjk4MjA5NTMzIiwiaW1hZ2VEb2NpZCI6IjcwNDQyMDY4MzE1Nzc0NDUyOTYiLCJyZHMiOiJQQ184NDA0ODUyOTU3NzI4ODE2ODM4fFBST0RfUENfODQwNDg1Mjk1NzcyODgxNjgzOCIsInF1ZXJ5IjoiY29mZmVlIn0=\",\n",
            "      \"serpapi_link\": \"https://serpapi.com/search.json?engine=google_immersive_product&page_token=eyJlaSI6IkZjZ2xaX1M3RzdxSHB0UVB4cVM0a0FFIiwicHJvZHVjdGlkIjoiIiwiY2F0YWxvZ2lkIjoiNTE4NTc3MDU2NDUzNTU4NTUzIiwidmMiOiIiLCJ2c2MiOiIiLCJoZWFkbGluZU9mZmVyRG9jaWQiOiI3Mzg5MDUxODYwMjk4MjA5NTMzIiwiaW1hZ2VEb2NpZCI6IjcwNDQyMDY4MzE1Nzc0NDUyOTYiLCJyZHMiOiJQQ184NDA0ODUyOTU3NzI4ODE2ODM4fFBST0RfUENfODQwNDg1Mjk1NzcyODgxNjgzOCIsInF1ZXJ5IjoiY29mZmVlIn0%3D\"\n",
            "    },\n",
            "    {\n",
            "      \"category\": \"In stores nearby\",\n",
            "      \"immersive_product_page_token\": \"eyJlaSI6IkZjZ2xaX1M3RzdxSHB0UVB4cVM0a0FFIiwicHJvZHVjdGlkIjoiIiwiY2F0YWxvZ2lkIjoiMTU5MzA2NzIzNzUxMTE2OTUwNCIsInZjIjoiIiwidnNjIjoiIiwiaGVhZGxpbmVPZmZlckRvY2lkIjoiODUyOTY5MTAwMzAzMzYzNzkzMCIsImltYWdlRG9jaWQiOiIxMjg2NTEzNDQ0MjQyNzYxNTgiLCJyZHMiOiJQQ18xNzU0NzcyNzgyMTYyOTkxOTA3MXxQUk9EX1BDXzE3NTQ3NzI3ODIxNjI5OTE5MDcxIiwicXVlcnkiOiJjb2ZmZWUifQ==\",\n",
            "      \"serpapi_link\": \"https://serpapi.com/search.json?engine=google_immersive_product&page_token=eyJlaSI6IkZjZ2xaX1M3RzdxSHB0UVB4cVM0a0FFIiwicHJvZHVjdGlkIjoiIiwiY2F0YWxvZ2lkIjoiMTU5MzA2NzIzNzUxMTE2OTUwNCIsInZjIjoiIiwidnNjIjoiIiwiaGVhZGxpbmVPZmZlckRvY2lkIjoiODUyOTY5MTAwMzAzMzYzNzkzMCIsImltYWdlRG9jaWQiOiIxMjg2NTEzNDQ0MjQyNzYxNTgiLCJyZHMiOiJQQ18xNzU0NzcyNzgyMTYyOTkxOTA3MXxQUk9EX1BDXzE3NTQ3NzI3ODIxNjI5OTE5MDcxIiwicXVlcnkiOiJjb2ZmZWUifQ%3D%3D\"\n",
            "    },\n",
            "    {\n",
            "      \"category\": \"In stores nearby\",\n",
            "      \"immersive_product_page_token\": \"eyJlaSI6IkZjZ2xaX1M3RzdxSHB0UVB4cVM0a0FFIiwicHJvZHVjdGlkIjoiIiwiY2F0YWxvZ2lkIjoiMTc0NzEzMzIzMzAwMDkzNzc4NzUiLCJ2YyI6IiIsInZzYyI6IiIsImhlYWRsaW5lT2ZmZXJEb2NpZCI6IjE3NjA0NDYyNTk3ODA0NjU5OTU4IiwiaW1hZ2VEb2NpZCI6IjE2OTc2NDQ2NjQzNjA0MzU2OTM0IiwicmRzIjoiUENfNjkxMTg4NjUyMjU2Mzk1ODgzNHxQUk9EX1BDXzY5MTE4ODY1MjI1NjM5NTg4MzQiLCJxdWVyeSI6ImNvZmZlZSJ9\",\n",
            "      \"serpapi_link\": \"https://serpapi.com/search.json?engine=google_immersive_product&page_token=eyJlaSI6IkZjZ2xaX1M3RzdxSHB0UVB4cVM0a0FFIiwicHJvZHVjdGlkIjoiIiwiY2F0YWxvZ2lkIjoiMTc0NzEzMzIzMzAwMDkzNzc4NzUiLCJ2YyI6IiIsInZzYyI6IiIsImhlYWRsaW5lT2ZmZXJEb2NpZCI6IjE3NjA0NDYyNTk3ODA0NjU5OTU4IiwiaW1hZ2VEb2NpZCI6IjE2OTc2NDQ2NjQzNjA0MzU2OTM0IiwicmRzIjoiUENfNjkxMTg4NjUyMjU2Mzk1ODgzNHxQUk9EX1BDXzY5MTE4ODY1MjI1NjM5NTg4MzQiLCJxdWVyeSI6ImNvZmZlZSJ9\"\n",
            "    },\n",
            "    {\n",
            "      \"category\": \"In stores nearby\",\n",
            "      \"immersive_product_page_token\": \"eyJlaSI6IkZjZ2xaX1M3RzdxSHB0UVB4cVM0a0FFIiwicHJvZHVjdGlkIjoiIiwiY2F0YWxvZ2lkIjoiMTA1MjYzNjExODU2Mzk2MDU1MTIiLCJ2YyI6IiIsInZzYyI6IiIsImhlYWRsaW5lT2ZmZXJEb2NpZCI6IjEyMzU5NDIzNDk4NzM1MDQzNjQ4IiwiaW1hZ2VEb2NpZCI6Ijc4NjkzMDY3NDg5NTUyMDY0NDYiLCJyZHMiOiJQQ18xMzc1MzAwNjgyMjM3MTA5MjgwNXxQUk9EX1BDXzEzNzUzMDA2ODIyMzcxMDkyODA1IiwicXVlcnkiOiJjb2ZmZWUifQ==\",\n",
            "      \"serpapi_link\": \"https://serpapi.com/search.json?engine=google_immersive_product&page_token=eyJlaSI6IkZjZ2xaX1M3RzdxSHB0UVB4cVM0a0FFIiwicHJvZHVjdGlkIjoiIiwiY2F0YWxvZ2lkIjoiMTA1MjYzNjExODU2Mzk2MDU1MTIiLCJ2YyI6IiIsInZzYyI6IiIsImhlYWRsaW5lT2ZmZXJEb2NpZCI6IjEyMzU5NDIzNDk4NzM1MDQzNjQ4IiwiaW1hZ2VEb2NpZCI6Ijc4NjkzMDY3NDg5NTUyMDY0NDYiLCJyZHMiOiJQQ18xMzc1MzAwNjgyMjM3MTA5MjgwNXxQUk9EX1BDXzEzNzUzMDA2ODIyMzcxMDkyODA1IiwicXVlcnkiOiJjb2ZmZWUifQ%3D%3D\"\n",
            "    },\n",
            "    {\n",
            "      \"category\": \"In stores nearby\",\n",
            "      \"immersive_product_page_token\": \"eyJlaSI6IkZjZ2xaX1M3RzdxSHB0UVB4cVM0a0FFIiwicHJvZHVjdGlkIjoiIiwiY2F0YWxvZ2lkIjoiNzcxMjEyMTQyODA1NzU5MjU2MCIsInZjIjoiIiwidnNjIjoiIiwiaGVhZGxpbmVPZmZlckRvY2lkIjoiMzQ2ODIxODEyNTM4NzgwODgyMyIsImltYWdlRG9jaWQiOiIxMDMwODYzNjE1ODg1OTEyOTgyNCIsInJkcyI6IlBDXzM4NzQxMjAxOTQzNjI0NTQ5NXxQUk9EX1BDXzM4NzQxMjAxOTQzNjI0NTQ5NSIsInF1ZXJ5IjoiY29mZmVlIn0=\",\n",
            "      \"serpapi_link\": \"https://serpapi.com/search.json?engine=google_immersive_product&page_token=eyJlaSI6IkZjZ2xaX1M3RzdxSHB0UVB4cVM0a0FFIiwicHJvZHVjdGlkIjoiIiwiY2F0YWxvZ2lkIjoiNzcxMjEyMTQyODA1NzU5MjU2MCIsInZjIjoiIiwidnNjIjoiIiwiaGVhZGxpbmVPZmZlckRvY2lkIjoiMzQ2ODIxODEyNTM4NzgwODgyMyIsImltYWdlRG9jaWQiOiIxMDMwODYzNjE1ODg1OTEyOTgyNCIsInJkcyI6IlBDXzM4NzQxMjAxOTQzNjI0NTQ5NXxQUk9EX1BDXzM4NzQxMjAxOTQzNjI0NTQ5NSIsInF1ZXJ5IjoiY29mZmVlIn0%3D\"\n",
            "    },\n",
            "    {\n",
            "      \"category\": \"In stores nearby\",\n",
            "      \"immersive_product_page_token\": \"eyJlaSI6IkZjZ2xaX1M3RzdxSHB0UVB4cVM0a0FFIiwicHJvZHVjdGlkIjoiIiwiY2F0YWxvZ2lkIjoiMTc3MjM5NjI4MDUwOTc4MDE5ODQiLCJ2YyI6IiIsInZzYyI6IiIsImhlYWRsaW5lT2ZmZXJEb2NpZCI6IjE4Njk3OTM2NTc2OTk5OTAzMjciLCJpbWFnZURvY2lkIjoiMjE5NDAxNTU5MjA1MjI4ODAwOSIsInJkcyI6IlBDXzEwMjI1NjYyMDMyMTc3NjUzOTg4fFBST0RfUENfMTAyMjU2NjIwMzIxNzc2NTM5ODgiLCJxdWVyeSI6ImNvZmZlZSJ9\",\n",
            "      \"serpapi_link\": \"https://serpapi.com/search.json?engine=google_immersive_product&page_token=eyJlaSI6IkZjZ2xaX1M3RzdxSHB0UVB4cVM0a0FFIiwicHJvZHVjdGlkIjoiIiwiY2F0YWxvZ2lkIjoiMTc3MjM5NjI4MDUwOTc4MDE5ODQiLCJ2YyI6IiIsInZzYyI6IiIsImhlYWRsaW5lT2ZmZXJEb2NpZCI6IjE4Njk3OTM2NTc2OTk5OTAzMjciLCJpbWFnZURvY2lkIjoiMjE5NDAxNTU5MjA1MjI4ODAwOSIsInJkcyI6IlBDXzEwMjI1NjYyMDMyMTc3NjUzOTg4fFBST0RfUENfMTAyMjU2NjIwMzIxNzc2NTM5ODgiLCJxdWVyeSI6ImNvZmZlZSJ9\"\n",
            "    },\n",
            "    {\n",
            "      \"category\": \"In stores nearby\",\n",
            "      \"immersive_product_page_token\": \"eyJlaSI6IkZjZ2xaX1M3RzdxSHB0UVB4cVM0a0FFIiwicHJvZHVjdGlkIjoiIiwiY2F0YWxvZ2lkIjoiNDczMzA4MTQ0MzE0MTg4NDc3NiIsInZjIjoiIiwidnNjIjoiIiwiaGVhZGxpbmVPZmZlckRvY2lkIjoiMTYzMjg0NzY1NjUzMDY0NzE1NTgiLCJpbWFnZURvY2lkIjoiODMwNTM4NTkxNzQ0MzE4OTE0NyIsInJkcyI6IlBDXzE2NDQ5OTg5MjkzMDEyMTUwNTR8UFJPRF9QQ18xNjQ0OTk4OTI5MzAxMjE1MDU0IiwicXVlcnkiOiJjb2ZmZWUifQ==\",\n",
            "      \"serpapi_link\": \"https://serpapi.com/search.json?engine=google_immersive_product&page_token=eyJlaSI6IkZjZ2xaX1M3RzdxSHB0UVB4cVM0a0FFIiwicHJvZHVjdGlkIjoiIiwiY2F0YWxvZ2lkIjoiNDczMzA4MTQ0MzE0MTg4NDc3NiIsInZjIjoiIiwidnNjIjoiIiwiaGVhZGxpbmVPZmZlckRvY2lkIjoiMTYzMjg0NzY1NjUzMDY0NzE1NTgiLCJpbWFnZURvY2lkIjoiODMwNTM4NTkxNzQ0MzE4OTE0NyIsInJkcyI6IlBDXzE2NDQ5OTg5MjkzMDEyMTUwNTR8UFJPRF9QQ18xNjQ0OTk4OTI5MzAxMjE1MDU0IiwicXVlcnkiOiJjb2ZmZWUifQ%3D%3D\"\n",
            "    },\n",
            "    {\n",
            "      \"category\": \"In stores nearby\",\n",
            "      \"immersive_product_page_token\": \"eyJlaSI6IkZjZ2xaX1M3RzdxSHB0UVB4cVM0a0FFIiwicHJvZHVjdGlkIjoiIiwiY2F0YWxvZ2lkIjoiNTM2NTk4MDg2NTk0MDA1NDA3NyIsInZjIjoiIiwidnNjIjoiIiwiaGVhZGxpbmVPZmZlckRvY2lkIjoiMTE0NzYwNDk4MTI3MTc4OTM1NzAiLCJpbWFnZURvY2lkIjoiMTIyODkxMDA3NTIyNDMyNTQzOTgiLCJyZHMiOiJQQ18xMjA1MzQ3OTk0NzQ0NzkxNzUyfFBST0RfUENfMTIwNTM0Nzk5NDc0NDc5MTc1MiIsInF1ZXJ5IjoiY29mZmVlIn0=\",\n",
            "      \"serpapi_link\": \"https://serpapi.com/search.json?engine=google_immersive_product&page_token=eyJlaSI6IkZjZ2xaX1M3RzdxSHB0UVB4cVM0a0FFIiwicHJvZHVjdGlkIjoiIiwiY2F0YWxvZ2lkIjoiNTM2NTk4MDg2NTk0MDA1NDA3NyIsInZjIjoiIiwidnNjIjoiIiwiaGVhZGxpbmVPZmZlckRvY2lkIjoiMTE0NzYwNDk4MTI3MTc4OTM1NzAiLCJpbWFnZURvY2lkIjoiMTIyODkxMDA3NTIyNDMyNTQzOTgiLCJyZHMiOiJQQ18xMjA1MzQ3OTk0NzQ0NzkxNzUyfFBST0RfUENfMTIwNTM0Nzk5NDc0NDc5MTc1MiIsInF1ZXJ5IjoiY29mZmVlIn0%3D\"\n",
            "    },\n",
            "    {\n",
            "      \"category\": \"In stores nearby\",\n",
            "      \"immersive_product_page_token\": \"eyJlaSI6IkZjZ2xaX1M3RzdxSHB0UVB4cVM0a0FFIiwicHJvZHVjdGlkIjoiIiwiY2F0YWxvZ2lkIjoiMTUwMjAzOTA3OTY1NDE1MDA3NTMiLCJ2YyI6IiIsInZzYyI6IiIsImhlYWRsaW5lT2ZmZXJEb2NpZCI6IjE3MzEyNTc2MDI4OTUwMDM3MzIyIiwiaW1hZ2VEb2NpZCI6IjEyNjgwOTUzODM3Njg0MDM3ODgyIiwicmRzIjoiIiwicXVlcnkiOiJjb2ZmZWUifQ==\",\n",
            "      \"serpapi_link\": \"https://serpapi.com/search.json?engine=google_immersive_product&page_token=eyJlaSI6IkZjZ2xaX1M3RzdxSHB0UVB4cVM0a0FFIiwicHJvZHVjdGlkIjoiIiwiY2F0YWxvZ2lkIjoiMTUwMjAzOTA3OTY1NDE1MDA3NTMiLCJ2YyI6IiIsInZzYyI6IiIsImhlYWRsaW5lT2ZmZXJEb2NpZCI6IjE3MzEyNTc2MDI4OTUwMDM3MzIyIiwiaW1hZ2VEb2NpZCI6IjEyNjgwOTUzODM3Njg0MDM3ODgyIiwicmRzIjoiIiwicXVlcnkiOiJjb2ZmZWUifQ%3D%3D\"\n",
            "    },\n",
            "    {\n",
            "      \"category\": \"In stores nearby\",\n",
            "      \"immersive_product_page_token\": \"eyJlaSI6IkZjZ2xaX1M3RzdxSHB0UVB4cVM0a0FFIiwicHJvZHVjdGlkIjoiIiwiY2F0YWxvZ2lkIjoiNzcxMjEyMTQyODA1NzU5MjU2MCIsInZjIjoiIiwidnNjIjoiIiwiaGVhZGxpbmVPZmZlckRvY2lkIjoiMTQyNDI3MjM3NTgwMzgzMjQyNTAiLCJpbWFnZURvY2lkIjoiMTAzMDg2MzYxNTg4NTkxMjk4MjQiLCJyZHMiOiJQQ18zODc0MTIwMTk0MzYyNDU0OTV8UFJPRF9QQ18zODc0MTIwMTk0MzYyNDU0OTUiLCJxdWVyeSI6ImNvZmZlZSJ9\",\n",
            "      \"serpapi_link\": \"https://serpapi.com/search.json?engine=google_immersive_product&page_token=eyJlaSI6IkZjZ2xaX1M3RzdxSHB0UVB4cVM0a0FFIiwicHJvZHVjdGlkIjoiIiwiY2F0YWxvZ2lkIjoiNzcxMjEyMTQyODA1NzU5MjU2MCIsInZjIjoiIiwidnNjIjoiIiwiaGVhZGxpbmVPZmZlckRvY2lkIjoiMTQyNDI3MjM3NTgwMzgzMjQyNTAiLCJpbWFnZURvY2lkIjoiMTAzMDg2MzYxNTg4NTkxMjk4MjQiLCJyZHMiOiJQQ18zODc0MTIwMTk0MzYyNDU0OTV8UFJPRF9QQ18zODc0MTIwMTk0MzYyNDU0OTUiLCJxdWVyeSI6ImNvZmZlZSJ9\"\n",
            "    },\n",
            "    {\n",
            "      \"category\": \"In stores nearby\",\n",
            "      \"immersive_product_page_token\": \"eyJlaSI6IkZjZ2xaX1M3RzdxSHB0UVB4cVM0a0FFIiwicHJvZHVjdGlkIjoiIiwiY2F0YWxvZ2lkIjoiMTc3MjM5NjI4MDUwOTc4MDE5ODQiLCJ2YyI6IiIsInZzYyI6IiIsImhlYWRsaW5lT2ZmZXJEb2NpZCI6IjE1NDIxMTU2OTEyNjA3NjgzODU2IiwiaW1hZ2VEb2NpZCI6IjIxOTQwMTU1OTIwNTIyODgwMDkiLCJyZHMiOiJQQ18xMDIyNTY2MjAzMjE3NzY1Mzk4OHxQUk9EX1BDXzEwMjI1NjYyMDMyMTc3NjUzOTg4IiwicXVlcnkiOiJjb2ZmZWUifQ==\",\n",
            "      \"serpapi_link\": \"https://serpapi.com/search.json?engine=google_immersive_product&page_token=eyJlaSI6IkZjZ2xaX1M3RzdxSHB0UVB4cVM0a0FFIiwicHJvZHVjdGlkIjoiIiwiY2F0YWxvZ2lkIjoiMTc3MjM5NjI4MDUwOTc4MDE5ODQiLCJ2YyI6IiIsInZzYyI6IiIsImhlYWRsaW5lT2ZmZXJEb2NpZCI6IjE1NDIxMTU2OTEyNjA3NjgzODU2IiwiaW1hZ2VEb2NpZCI6IjIxOTQwMTU1OTIwNTIyODgwMDkiLCJyZHMiOiJQQ18xMDIyNTY2MjAzMjE3NzY1Mzk4OHxQUk9EX1BDXzEwMjI1NjYyMDMyMTc3NjUzOTg4IiwicXVlcnkiOiJjb2ZmZWUifQ%3D%3D\"\n",
            "    },\n",
            "    {\n",
            "      \"category\": \"Popular products\",\n",
            "      \"thumbnail\": \"https://encrypted-tbn1.gstatic.com/shopping?q=tbn:ANd9GcSraT7OVtMhg6QutGI2A2KdWz-jCFqQp4esNHj27_GSCG_HqLrJvA4NiW14IYiQ__nSpbevLv3Z46RG5zuaCARh2Zt_btlKX1AqK4MJILm6InwPLe1LNoRd1w\",\n",
            "      \"source_logo\": \"https://encrypted-tbn2.gstatic.com/favicon-tbn?q=tbn%3AANd9GcSP-3CAlIHM4vrNOnJx5Jd7oBV13KVkk1fiPTxyM09zvi5dG3Cb77DP5Yk91NGg0tnVV2YHLB83fSvddh4G2eFtTFdFtAhWT5aKHscH\",\n",
            "      \"source\": \"Bones Coffee Company\",\n",
            "      \"title\": \"Ground Bones Coffee 5 Bag Sample Pack\",\n",
            "      \"rating\": 4.8,\n",
            "      \"reviews\": 11000,\n",
            "      \"price\": \"$33.00\",\n",
            "      \"extracted_price\": 33.0,\n",
            "      \"delivery\": \"Free $75+\",\n",
            "      \"returns\": \"30-day returns\",\n",
            "      \"immersive_product_page_token\": \"eyJlaSI6IkZjZ2xaX1M3RzdxSHB0UVB4cVM0a0FFIiwicHJvZHVjdGlkIjoiIiwiY2F0YWxvZ2lkIjoiNzczMzU1MzAzMjAzNjY3NzU4NCIsInZjIjoiIiwidnNjIjoiIiwiaGVhZGxpbmVPZmZlckRvY2lkIjoiMTMzNDk3ODQ3NTQ0MjgyMTU3MzAiLCJpbWFnZURvY2lkIjoiNjM0OTk5OTM3ODA1MjkzOTY3MyIsInJkcyI6IlBDXzE0NjE1ODQ1OTU5MTc4NTY1OTAxfFBST0RfUENfMTQ2MTU4NDU5NTkxNzg1NjU5MDEiLCJxdWVyeSI6ImNvZmZlZSJ9\",\n",
            "      \"serpapi_link\": \"https://serpapi.com/search.json?engine=google_immersive_product&page_token=eyJlaSI6IkZjZ2xaX1M3RzdxSHB0UVB4cVM0a0FFIiwicHJvZHVjdGlkIjoiIiwiY2F0YWxvZ2lkIjoiNzczMzU1MzAzMjAzNjY3NzU4NCIsInZjIjoiIiwidnNjIjoiIiwiaGVhZGxpbmVPZmZlckRvY2lkIjoiMTMzNDk3ODQ3NTQ0MjgyMTU3MzAiLCJpbWFnZURvY2lkIjoiNjM0OTk5OTM3ODA1MjkzOTY3MyIsInJkcyI6IlBDXzE0NjE1ODQ1OTU5MTc4NTY1OTAxfFBST0RfUENfMTQ2MTU4NDU5NTkxNzg1NjU5MDEiLCJxdWVyeSI6ImNvZmZlZSJ9\"\n",
            "    },\n",
            "    {\n",
            "      \"category\": \"Popular products\",\n",
            "      \"thumbnail\": \"https://encrypted-tbn1.gstatic.com/shopping?q=tbn:ANd9GcQN_CC0gH6MlQF0lxouaL9ffMwqGDzOLJx7nMgSUegEGJtEHDqeDozUhk_QbccwjLxuQSWFUN61cOBtjBsKbZB4B_4Tbr_pOV_6HadyDwDBWg3Izexr5Ymo\",\n",
            "      \"source_logo\": \"https://encrypted-tbn1.gstatic.com/favicon-tbn?q=tbn%3AANd9GcSr30EzBoxaXOgULwmzSRg2Ghmt2nLUWxW7wxBRnQFz9MCqXfeEmPsau3i2L2P5txeBQFvmxWBlaBJxPZoE0i4g2lMUCad3TsJ9TVnihhsXnio\",\n",
            "      \"source\": \"Black Rifle Coffee Company\",\n",
            "      \"title\": \"Black Rifle Coffee Company Freedom Fuel\",\n",
            "      \"rating\": 4.5,\n",
            "      \"reviews\": 98,\n",
            "      \"price\": \"$15.99\",\n",
            "      \"extracted_price\": 15.99,\n",
            "      \"location\": \"Also nearby\",\n",
            "      \"returns\": \"30-day returns\",\n",
            "      \"immersive_product_page_token\": \"eyJlaSI6IkZjZ2xaX1M3RzdxSHB0UVB4cVM0a0FFIiwicHJvZHVjdGlkIjoiIiwiY2F0YWxvZ2lkIjoiMTQ5MTE4Mzk0MjE3NDcwMDA0MDMiLCJ2YyI6IiIsInZzYyI6IiIsImhlYWRsaW5lT2ZmZXJEb2NpZCI6IjI1Mjg0OTk4ODAzNTQ4OTQ5OTAiLCJpbWFnZURvY2lkIjoiMTE3NzAxNzk2NzcwMzkxOTM3MDEiLCJyZHMiOiJQQ18xNjIwNjM4MjQwMzg5MzU1MjYwNHxQUk9EX1BDXzE2MjA2MzgyNDAzODkzNTUyNjA0IiwicXVlcnkiOiJjb2ZmZWUifQ==\",\n",
            "      \"serpapi_link\": \"https://serpapi.com/search.json?engine=google_immersive_product&page_token=eyJlaSI6IkZjZ2xaX1M3RzdxSHB0UVB4cVM0a0FFIiwicHJvZHVjdGlkIjoiIiwiY2F0YWxvZ2lkIjoiMTQ5MTE4Mzk0MjE3NDcwMDA0MDMiLCJ2YyI6IiIsInZzYyI6IiIsImhlYWRsaW5lT2ZmZXJEb2NpZCI6IjI1Mjg0OTk4ODAzNTQ4OTQ5OTAiLCJpbWFnZURvY2lkIjoiMTE3NzAxNzk2NzcwMzkxOTM3MDEiLCJyZHMiOiJQQ18xNjIwNjM4MjQwMzg5MzU1MjYwNHxQUk9EX1BDXzE2MjA2MzgyNDAzODkzNTUyNjA0IiwicXVlcnkiOiJjb2ZmZWUifQ%3D%3D\"\n",
            "    },\n",
            "    {\n",
            "      \"category\": \"Popular products\",\n",
            "      \"thumbnail\": \"https://encrypted-tbn0.gstatic.com/shopping?q=tbn:ANd9GcSrr03dTuIybC4ewLsyMXJmLs8cPhszwr5HX3Nfv0sIJnWTFeb3BlWmCJFWMgSz63H9FMUfnRxeenDiLqLyZzU68PGFxqbPfATnG9P2xBSKVeTBDl4Wg-pk\",\n",
            "      \"source_logo\": \"https://encrypted-tbn2.gstatic.com/favicon-tbn?q=tbn%3AANd9GcT0TsMMuS8IRIUU_Envbo02npaZ6DJgbXTwa-h2DSMswBydNyxi_1NukUkPuQPc8-6EH8dopTDEyU5ccMeLEvcSrbCBtAW3\",\n",
            "      \"source\": \"Amazon.com - Seller\",\n",
            "      \"title\": \"Bean Box Gourmet Coffee Sampler\",\n",
            "      \"rating\": 4.7,\n",
            "      \"reviews\": 135,\n",
            "      \"price\": \"$28.99\",\n",
            "      \"extracted_price\": 28.99,\n",
            "      \"immersive_product_page_token\": \"eyJlaSI6IkZjZ2xaX1M3RzdxSHB0UVB4cVM0a0FFIiwicHJvZHVjdGlkIjoiIiwiY2F0YWxvZ2lkIjoiMTM5MjQ4NDM3MDkyNDMzMTQxMjgiLCJ2YyI6IiIsInZzYyI6IiIsImhlYWRsaW5lT2ZmZXJEb2NpZCI6IjcwNzc3OTM5OTkyMzU3MDY2MTEiLCJpbWFnZURvY2lkIjoiMjgzMjk1MTUxODY1NzY1NDEyIiwicmRzIjoiUENfNTE3OTUyOTk2OTE5MzU0NzMyNXxQUk9EX1BDXzUxNzk1Mjk5NjkxOTM1NDczMjUiLCJxdWVyeSI6ImNvZmZlZSJ9\",\n",
            "      \"serpapi_link\": \"https://serpapi.com/search.json?engine=google_immersive_product&page_token=eyJlaSI6IkZjZ2xaX1M3RzdxSHB0UVB4cVM0a0FFIiwicHJvZHVjdGlkIjoiIiwiY2F0YWxvZ2lkIjoiMTM5MjQ4NDM3MDkyNDMzMTQxMjgiLCJ2YyI6IiIsInZzYyI6IiIsImhlYWRsaW5lT2ZmZXJEb2NpZCI6IjcwNzc3OTM5OTkyMzU3MDY2MTEiLCJpbWFnZURvY2lkIjoiMjgzMjk1MTUxODY1NzY1NDEyIiwicmRzIjoiUENfNTE3OTUyOTk2OTE5MzU0NzMyNXxQUk9EX1BDXzUxNzk1Mjk5NjkxOTM1NDczMjUiLCJxdWVyeSI6ImNvZmZlZSJ9\"\n",
            "    },\n",
            "    {\n",
            "      \"category\": \"Popular products\",\n",
            "      \"thumbnail\": \"https://encrypted-tbn2.gstatic.com/shopping?q=tbn:ANd9GcTyiImkxm7BL7GGtNo3eTT3YchvlhF9N6A5fg92bH1gXOoc4Ge2JumU5jzDDB5Df0Z-7bIz-Yi3DfDymwcdOyYdRkUGhln0dtjQDjQdP_caCgiSqkMLD-iX\",\n",
            "      \"source_logo\": \"https://encrypted-tbn3.gstatic.com/favicon-tbn?q=tbn%3AANd9GcTnP5ISNmbEt5sfd-d6O77v8eZaWxR-UtwYkk865osEjKrS0r8udsVsfLPjH1VQBQizWhrYkhO2STFk8WaMhokVgFUhjn2NoxU\",\n",
            "      \"source\": \"Walmart\",\n",
            "      \"title\": \"Folgers Classic Roast Ground Coffee\",\n",
            "      \"rating\": 4.6,\n",
            "      \"reviews\": 17000,\n",
            "      \"price\": \"$5.42\",\n",
            "      \"extracted_price\": 5.42,\n",
            "      \"location\": \"Nearby, 4 mi\",\n",
            "      \"delivery\": \"$16.94 same-day\",\n",
            "      \"returns\": \"Free 90-day returns\",\n",
            "      \"immersive_product_page_token\": \"eyJlaSI6IkZjZ2xaX1M3RzdxSHB0UVB4cVM0a0FFIiwicHJvZHVjdGlkIjoiIiwiY2F0YWxvZ2lkIjoiMTY5MTQ4Nzc2MjUyODA5Nzc4NjUiLCJ2YyI6IiIsInZzYyI6IiIsImhlYWRsaW5lT2ZmZXJEb2NpZCI6IjMyMzgyMjQ4NDQ2MjQ5MTIxNjkiLCJpbWFnZURvY2lkIjoiNDc2NzQ5OTE1OTA2MzI3OTE0IiwicmRzIjoiUENfMzI0NTQ3NjQwMDgzMzU1MTk0OHxQUk9EX1BDXzMyNDU0NzY0MDA4MzM1NTE5NDgiLCJxdWVyeSI6ImNvZmZlZSJ9\",\n",
            "      \"serpapi_link\": \"https://serpapi.com/search.json?engine=google_immersive_product&page_token=eyJlaSI6IkZjZ2xaX1M3RzdxSHB0UVB4cVM0a0FFIiwicHJvZHVjdGlkIjoiIiwiY2F0YWxvZ2lkIjoiMTY5MTQ4Nzc2MjUyODA5Nzc4NjUiLCJ2YyI6IiIsInZzYyI6IiIsImhlYWRsaW5lT2ZmZXJEb2NpZCI6IjMyMzgyMjQ4NDQ2MjQ5MTIxNjkiLCJpbWFnZURvY2lkIjoiNDc2NzQ5OTE1OTA2MzI3OTE0IiwicmRzIjoiUENfMzI0NTQ3NjQwMDgzMzU1MTk0OHxQUk9EX1BDXzMyNDU0NzY0MDA4MzM1NTE5NDgiLCJxdWVyeSI6ImNvZmZlZSJ9\"\n",
            "    },\n",
            "    {\n",
            "      \"category\": \"Popular products\",\n",
            "      \"thumbnail\": \"https://encrypted-tbn2.gstatic.com/shopping?q=tbn:ANd9GcSyM-1NVboEEP1dIg6_TmtRyNCDIR4mPv1T8q9G3o4HHHtSFWFQXm31KoYCUUGpw_-DPu7rIyYI_YBoTI2YY4GzZMPEWjDicaaIPYSxuiLbOSACCURhD8Oi\",\n",
            "      \"source_logo\": \"https://encrypted-tbn2.gstatic.com/favicon-tbn?q=tbn%3AANd9GcT3xpS8aLa1ivOxeHyWvRGBXbhgo_A5FgGRlBTVarzT7wjaQU_uH6wFDHNaQ3bsWbOini649L-mTNBU-SjN276G42MOU6acT2n-4qriYIeq5Q\",\n",
            "      \"source\": \"Death Wish Coffee Company\",\n",
            "      \"title\": \"Death Wish Coffee Dark Roast Coffee\",\n",
            "      \"rating\": 4.8,\n",
            "      \"reviews\": 6600,\n",
            "      \"price\": \"$15.99\",\n",
            "      \"extracted_price\": 15.99,\n",
            "      \"original_price\": \"$20\",\n",
            "      \"extracted_original_price\": 20,\n",
            "      \"delivery\": \"Free $50+\",\n",
            "      \"returns\": \"Free 30-day returns\",\n",
            "      \"extensions\": [\n",
            "        \"20% OFF\"\n",
            "      ],\n",
            "      \"immersive_product_page_token\": \"eyJlaSI6IkZjZ2xaX1M3RzdxSHB0UVB4cVM0a0FFIiwicHJvZHVjdGlkIjoiIiwiY2F0YWxvZ2lkIjoiOTg0Mzk0NjI0ODMyNTY1NjM0IiwidmMiOiIiLCJ2c2MiOiIiLCJoZWFkbGluZU9mZmVyRG9jaWQiOiIxNjY0MDcyMDMxNDU3ODY2MjE1NCIsImltYWdlRG9jaWQiOiIxNzk4MTkyOTI0Nzk1MjY4MTc1OCIsInJkcyI6IlBDXzE2MTAxNTUwMjUxOTE0OTY1MTkzfFBST0RfUENfMTYxMDE1NTAyNTE5MTQ5NjUxOTMiLCJxdWVyeSI6ImNvZmZlZSJ9\",\n",
            "      \"serpapi_link\": \"https://serpapi.com/search.json?engine=google_immersive_product&page_token=eyJlaSI6IkZjZ2xaX1M3RzdxSHB0UVB4cVM0a0FFIiwicHJvZHVjdGlkIjoiIiwiY2F0YWxvZ2lkIjoiOTg0Mzk0NjI0ODMyNTY1NjM0IiwidmMiOiIiLCJ2c2MiOiIiLCJoZWFkbGluZU9mZmVyRG9jaWQiOiIxNjY0MDcyMDMxNDU3ODY2MjE1NCIsImltYWdlRG9jaWQiOiIxNzk4MTkyOTI0Nzk1MjY4MTc1OCIsInJkcyI6IlBDXzE2MTAxNTUwMjUxOTE0OTY1MTkzfFBST0RfUENfMTYxMDE1NTAyNTE5MTQ5NjUxOTMiLCJxdWVyeSI6ImNvZmZlZSJ9\"\n",
            "    },\n",
            "    {\n",
            "      \"category\": \"Popular products\",\n",
            "      \"thumbnail\": \"https://encrypted-tbn0.gstatic.com/shopping?q=tbn:ANd9GcQLQe4I-o38ZfqKFBG44O1hTDneLPrA_6gOvc6JybO2ZJdzKJ6lpMzOpbkRao719gl6Iz7p2Lr0toR7PfPCJCL6kE0WurlZjjDP1436OZjtQPgmr9a_qo44v1U\",\n",
            "      \"source_logo\": \"https://encrypted-tbn2.gstatic.com/favicon-tbn?q=tbn%3AANd9GcQi-n5kDFGgAilLb9D3eOt7OSi_cC7b0FnOoa4_3Rz0H0fKoLrlVNYXHDhGNI1Dk-Z50DzBy8TH9T0upQzYpIit-0wc8xdA8wNC1RE\",\n",
            "      \"source\": \"Lavazzausa.com\",\n",
            "      \"title\": \"Lavazza Super Crema Whole Bean Espresso Coffee\",\n",
            "      \"rating\": 4.8,\n",
            "      \"reviews\": 5000,\n",
            "      \"price\": \"$19.98\",\n",
            "      \"extracted_price\": 19.98,\n",
            "      \"original_price\": \"$25\",\n",
            "      \"extracted_original_price\": 25,\n",
            "      \"returns\": \"30-day returns\",\n",
            "      \"extensions\": [\n",
            "        \"20% OFF\"\n",
            "      ],\n",
            "      \"immersive_product_page_token\": \"eyJlaSI6IkZjZ2xaX1M3RzdxSHB0UVB4cVM0a0FFIiwicHJvZHVjdGlkIjoiIiwiY2F0YWxvZ2lkIjoiMTA5NjU5OTY2MDQ0NzMxMTAyNzQiLCJ2YyI6IiIsInZzYyI6IiIsImhlYWRsaW5lT2ZmZXJEb2NpZCI6Ijk5NjA3MDY2NTc1NDM2MzEwOTIiLCJpbWFnZURvY2lkIjoiMzgxNjA3ODkxNDYwMzQ4ODgwOCIsInJkcyI6IlBDXzg4NDA0OTI1MDc4NTk4NjIwODJ8UFJPRF9QQ184ODQwNDkyNTA3ODU5ODYyMDgyIiwicXVlcnkiOiJjb2ZmZWUifQ==\",\n",
            "      \"serpapi_link\": \"https://serpapi.com/search.json?engine=google_immersive_product&page_token=eyJlaSI6IkZjZ2xaX1M3RzdxSHB0UVB4cVM0a0FFIiwicHJvZHVjdGlkIjoiIiwiY2F0YWxvZ2lkIjoiMTA5NjU5OTY2MDQ0NzMxMTAyNzQiLCJ2YyI6IiIsInZzYyI6IiIsImhlYWRsaW5lT2ZmZXJEb2NpZCI6Ijk5NjA3MDY2NTc1NDM2MzEwOTIiLCJpbWFnZURvY2lkIjoiMzgxNjA3ODkxNDYwMzQ4ODgwOCIsInJkcyI6IlBDXzg4NDA0OTI1MDc4NTk4NjIwODJ8UFJPRF9QQ184ODQwNDkyNTA3ODU5ODYyMDgyIiwicXVlcnkiOiJjb2ZmZWUifQ%3D%3D\"\n",
            "    },\n",
            "    {\n",
            "      \"category\": \"Popular products\",\n",
            "      \"thumbnail\": \"https://encrypted-tbn3.gstatic.com/shopping?q=tbn:ANd9GcT9UuYHF7095fdv4AVw20YOV97e6-K8Fgb0lAxuCvwlICaQ8KLlpKmAd_nLAJs5Y2rFmxwb4sGWh4bycjDGz-02xyg4qw_fFSVIhQi4VnfERRCF4BeuQQOo5w\",\n",
            "      \"source_logo\": \"https://encrypted-tbn2.gstatic.com/favicon-tbn?q=tbn%3AANd9GcRl9YiXtze0VPaxthoInwIEaqI98TFv1Qffw8lHFF0It87Z_aiZAhuYmeCzOykfmh5ks8hoASBINpBlQ0T2YrGg9u61BjF4633Kt6F1eg\",\n",
            "      \"source\": \"Bulletproof\",\n",
            "      \"title\": \"Bulletproof The Original Ground Coffee\",\n",
            "      \"rating\": 4.7,\n",
            "      \"reviews\": 6100,\n",
            "      \"price\": \"$15.99\",\n",
            "      \"extracted_price\": 15.99,\n",
            "      \"delivery\": \"Free $49+\",\n",
            "      \"returns\": \"Free 30-day returns\",\n",
            "      \"immersive_product_page_token\": \"eyJlaSI6IkZjZ2xaX1M3RzdxSHB0UVB4cVM0a0FFIiwicHJvZHVjdGlkIjoiIiwiY2F0YWxvZ2lkIjoiMzIxODk3MzM3ODgxMDg5OTE0MSIsInZjIjoiIiwidnNjIjoiIiwiaGVhZGxpbmVPZmZlckRvY2lkIjoiMzMzNDcyMzMzNjM4NTczMzcwMSIsImltYWdlRG9jaWQiOiIxMDQ3Njc5MTI3MzY5NDM0OTA1OSIsInJkcyI6IlBDXzE0MDA2MjQxMjk4MTA5ODA3NzgxfFBST0RfUENfMTQwMDYyNDEyOTgxMDk4MDc3ODEiLCJxdWVyeSI6ImNvZmZlZSJ9\",\n",
            "      \"serpapi_link\": \"https://serpapi.com/search.json?engine=google_immersive_product&page_token=eyJlaSI6IkZjZ2xaX1M3RzdxSHB0UVB4cVM0a0FFIiwicHJvZHVjdGlkIjoiIiwiY2F0YWxvZ2lkIjoiMzIxODk3MzM3ODgxMDg5OTE0MSIsInZjIjoiIiwidnNjIjoiIiwiaGVhZGxpbmVPZmZlckRvY2lkIjoiMzMzNDcyMzMzNjM4NTczMzcwMSIsImltYWdlRG9jaWQiOiIxMDQ3Njc5MTI3MzY5NDM0OTA1OSIsInJkcyI6IlBDXzE0MDA2MjQxMjk4MTA5ODA3NzgxfFBST0RfUENfMTQwMDYyNDEyOTgxMDk4MDc3ODEiLCJxdWVyeSI6ImNvZmZlZSJ9\"\n",
            "    },\n",
            "    {\n",
            "      \"category\": \"Popular products\",\n",
            "      \"thumbnail\": \"https://encrypted-tbn2.gstatic.com/shopping?q=tbn:ANd9GcS7v2tWwxtQEskTatv7luy8897v_DSfYBHLXgF6A8ZQ0eJxuOh-fK1CHmfkfNwgUZwxnmsC5vtPrJXZOOLtSo0r5WFeSMXKnmnXul5yD-_fTkC8sWhIOIaU\",\n",
            "      \"source_logo\": \"https://encrypted-tbn3.gstatic.com/favicon-tbn?q=tbn%3AANd9GcTEcvKCC4vYSJ0lcojmG1G8H5SxvMYMWwuZ0hBVYInrlmIpQc8-QknEydjdLUOCUc4t5gk8LzLYNskt9jyjXHnjIq2sfztY\",\n",
            "      \"source\": \"Target\",\n",
            "      \"title\": \"Starbucks Pike Place Roast Coffee\",\n",
            "      \"rating\": 4.6,\n",
            "      \"reviews\": 9700,\n",
            "      \"price\": \"$8.99\",\n",
            "      \"extracted_price\": 8.99,\n",
            "      \"location\": \"Nearby, 10 mi\",\n",
            "      \"delivery\": \"Free $35+\",\n",
            "      \"returns\": \"Free 90-day returns\",\n",
            "      \"immersive_product_page_token\": \"eyJlaSI6IkZjZ2xaX1M3RzdxSHB0UVB4cVM0a0FFIiwicHJvZHVjdGlkIjoiIiwiY2F0YWxvZ2lkIjoiMTQ5MzY2MTExMTY2NzQxNDU5MTciLCJ2YyI6IiIsInZzYyI6IiIsImhlYWRsaW5lT2ZmZXJEb2NpZCI6IjE1Nzg1Nzg4ODYwNTQzNjgzNzkxIiwiaW1hZ2VEb2NpZCI6IjY4ODkyMDY5Mjk5NjEzMTQ3MzAiLCJyZHMiOiJQQ184Nzk3MjE2NDI1NzI1ODYxOTM3fFBST0RfUENfODc5NzIxNjQyNTcyNTg2MTkzNyIsInF1ZXJ5IjoiY29mZmVlIn0=\",\n",
            "      \"serpapi_link\": \"https://serpapi.com/search.json?engine=google_immersive_product&page_token=eyJlaSI6IkZjZ2xaX1M3RzdxSHB0UVB4cVM0a0FFIiwicHJvZHVjdGlkIjoiIiwiY2F0YWxvZ2lkIjoiMTQ5MzY2MTExMTY2NzQxNDU5MTciLCJ2YyI6IiIsInZzYyI6IiIsImhlYWRsaW5lT2ZmZXJEb2NpZCI6IjE1Nzg1Nzg4ODYwNTQzNjgzNzkxIiwiaW1hZ2VEb2NpZCI6IjY4ODkyMDY5Mjk5NjEzMTQ3MzAiLCJyZHMiOiJQQ184Nzk3MjE2NDI1NzI1ODYxOTM3fFBST0RfUENfODc5NzIxNjQyNTcyNTg2MTkzNyIsInF1ZXJ5IjoiY29mZmVlIn0%3D\"\n",
            "    }\n",
            "  ],\n",
            "  \"related_questions\": [\n",
            "    {\n",
            "      \"question\": \"Is coffee good or bad for health?\",\n",
            "      \"snippet\": \"Hu said that moderate coffee intake\\u2014about 2\\u20135 cups a day\\u2014is linked to a lower likelihood of type 2 diabetes, heart disease, liver and endometrial cancers, Parkinson's disease, and depression. It's even possible that people who drink coffee can reduce their risk of early death.\",\n",
            "      \"title\": \"Is coffee good or bad for your health? | News\",\n",
            "      \"link\": \"https://www.hsph.harvard.edu/news/hsph-in-the-news/is-coffee-good-or-bad-for-your-health/#:~:text=Hu%20said%20that%20moderate%20coffee,their%20risk%20of%20early%20death.\",\n",
            "      \"displayed_link\": \"https://www.hsph.harvard.edu \\u203a news \\u203a hsph-in-the-news\",\n",
            "      \"source_logo\": \"https://serpapi.com/searches/6725c8153c95757cb8c6e2e6/images/b0a21525512add1d0e411c2ad965a6a47a3b67038be0ac9f53f4b6317ac7f176.png\",\n",
            "      \"next_page_token\": \"eyJvbnMiOiIxMDA0MSIsImZjIjoiRW9zQkNreEJTa2M1U210Tk9GZHdha2RNZFdWRk0ybGpOSGx6TjFSWk1uTjFObXAzYjNkdlVVNVVUbDlSVWxSeVVrZERkSGxETWxGdFkzbG1VR0paVkVST1gyUmtVRWhJTmxGcE5IaHBRM2hXRWhkR1kyZHNXbDlUTjBjM2NVaHdkRkZRZUhGVE5HdEJSUm9pUVVaWWNrVmpiMnR3VERKck5FUlFUMGRzUjI5U1ZGSnJSazFOVEdJeE5HWmZVUSIsImZjdiI6IjMiLCJlaSI6IkZjZ2xaX1M3RzdxSHB0UVB4cVM0a0FFIiwicWMiOiJDZ1pqYjJabVpXVVFBSDJvcWpFXyIsInF1ZXN0aW9uIjoiSXMgY29mZmVlIGdvb2Qgb3IgYmFkIGZvciBoZWFsdGg/IiwibGsiOiJHaUJwY3lCamIyWm1aV1VnWjI5dlpDQnZjaUJpWVdRZ1ptOXlJR2hsWVd4MGFBIiwiYnMiOiJjLVB5NGxMMExGWkl6azlMUzAxVlNNX1BUMUhJTDFKSVNreFJTQVBTR2FtSk9TVVo5aEozREl5VXBCUXlDYWpqY3VLU0RjLW9SRktYbEZwU2tsb0VWbEtaWDJvdnNWbk9TRTVLcGh5UEdpNGJMaW1FZTNJVFUxSVYwb3J5YzRFQ3lmbUo5aExMREkya3BTUXpjU25nc3VPU2RzbFBoVXRucDZZV2dFeFZTQ3hQekU2MWxfaWZhU1FqSlpXQ1U0VUFJd0EiLCJpZCI6ImZjX0ZjZ2xaX1M3RzdxSHB0UVB4cVM0a0FFXzIifQ==\",\n",
            "      \"serpapi_link\": \"https://serpapi.com/search.json?device=desktop&engine=google_related_questions&google_domain=google.com&next_page_token=eyJvbnMiOiIxMDA0MSIsImZjIjoiRW9zQkNreEJTa2M1U210Tk9GZHdha2RNZFdWRk0ybGpOSGx6TjFSWk1uTjFObXAzYjNkdlVVNVVUbDlSVWxSeVVrZERkSGxETWxGdFkzbG1VR0paVkVST1gyUmtVRWhJTmxGcE5IaHBRM2hXRWhkR1kyZHNXbDlUTjBjM2NVaHdkRkZRZUhGVE5HdEJSUm9pUVVaWWNrVmpiMnR3VERKck5FUlFUMGRzUjI5U1ZGSnJSazFOVEdJeE5HWmZVUSIsImZjdiI6IjMiLCJlaSI6IkZjZ2xaX1M3RzdxSHB0UVB4cVM0a0FFIiwicWMiOiJDZ1pqYjJabVpXVVFBSDJvcWpFXyIsInF1ZXN0aW9uIjoiSXMgY29mZmVlIGdvb2Qgb3IgYmFkIGZvciBoZWFsdGg%2FIiwibGsiOiJHaUJwY3lCamIyWm1aV1VnWjI5dlpDQnZjaUJpWVdRZ1ptOXlJR2hsWVd4MGFBIiwiYnMiOiJjLVB5NGxMMExGWkl6azlMUzAxVlNNX1BUMUhJTDFKSVNreFJTQVBTR2FtSk9TVVo5aEozREl5VXBCUXlDYWpqY3VLU0RjLW9SRktYbEZwU2tsb0VWbEtaWDJvdnNWbk9TRTVLcGh5UEdpNGJMaW1FZTNJVFUxSVYwb3J5YzRFQ3lmbUo5aExMREkya3BTUXpjU25nc3VPU2RzbFBoVXRucDZZV2dFeFZTQ3hQekU2MWxfaWZhU1FqSlpXQ1U0VUFJd0EiLCJpZCI6ImZjX0ZjZ2xaX1M3RzdxSHB0UVB4cVM0a0FFXzIifQ%3D%3D\"\n",
            "    },\n",
            "    {\n",
            "      \"question\": \"Why is coffee better for you?\",\n",
            "      \"snippet\": \"Caffeine is the first thing that comes to mind when you think about coffee. But coffee also contains antioxidants and other active substances that may reduce internal inflammation and protect against disease, say nutrition experts from Johns Hopkins University School of Medicine.\",\n",
            "      \"title\": \"9 Reasons Why (the Right Amount of) Coffee Is Good for You\",\n",
            "      \"link\": \"https://www.hopkinsmedicine.org/health/wellness-and-prevention/9-reasons-why-the-right-amount-of-coffee-is-good-for-you#:~:text=Caffeine%20is%20the%20first%20thing,Hopkins%20University%20School%20of%20Medicine.\",\n",
            "      \"displayed_link\": \"https://www.hopkinsmedicine.org \\u203a health \\u203a 9-reasons-w...\",\n",
            "      \"thumbnail\": \"https://encrypted-tbn0.gstatic.com/images?q=tbn:ANd9GcSDV1_KHRKIUNXbIJYeb7G3jkEJsXv-MlZnSnAT4Qh-iw&s\",\n",
            "      \"source_logo\": null,\n",
            "      \"next_page_token\": \"eyJvbnMiOiIxMDA0MSIsImZjIjoiRW9zQkNreEJTa2M1U210Tk9GZHdha2RNZFdWRk0ybGpOSGx6TjFSWk1uTjFObXAzYjNkdlVVNVVUbDlSVWxSeVVrZERkSGxETWxGdFkzbG1VR0paVkVST1gyUmtVRWhJTmxGcE5IaHBRM2hXRWhkR1kyZHNXbDlUTjBjM2NVaHdkRkZRZUhGVE5HdEJSUm9pUVVaWWNrVmpiMnR3VERKck5FUlFUMGRzUjI5U1ZGSnJSazFOVEdJeE5HWmZVUSIsImZjdiI6IjMiLCJlaSI6IkZjZ2xaX1M3RzdxSHB0UVB4cVM0a0FFIiwicWMiOiJDZ1pqYjJabVpXVVFBSDJvcWpFXyIsInF1ZXN0aW9uIjoiV2h5IGlzIGNvZmZlZSBiZXR0ZXIgZm9yIHlvdT8iLCJsayI6IkdoeDNhSGtnYVhNZ1kyOW1abVZsSUdKbGRIUmxjaUJtYjNJZ2VXOTEiLCJicyI6ImMtUHk0bEwwTEZaSXprOUxTMDFWU01fUFQxSElMMUpJU2t4UlNBUFNHYW1KT1NVWjloSjNESXlVcEJReUNhampjdUtTRGMtb1JGS1hsRnBTa2xvRVZsS1pYMm92c1ZuT1NFNUtwaHlQR2k0YkxpbUVlM0lUVTFJVjBvcnljNEVDeWZtSjloTExESTJrcFNRemNTbmdzdU9TZHNsUGhVdG5wNllXZ0V4VlNDeFB6RTYxbF9pZmFTUWpKWldDVTRVQUl3QSIsImlkIjoiZmNfRmNnbFpfUzdHN3FIcHRRUHhxUzRrQUVfMiJ9\",\n",
            "      \"serpapi_link\": \"https://serpapi.com/search.json?device=desktop&engine=google_related_questions&google_domain=google.com&next_page_token=eyJvbnMiOiIxMDA0MSIsImZjIjoiRW9zQkNreEJTa2M1U210Tk9GZHdha2RNZFdWRk0ybGpOSGx6TjFSWk1uTjFObXAzYjNkdlVVNVVUbDlSVWxSeVVrZERkSGxETWxGdFkzbG1VR0paVkVST1gyUmtVRWhJTmxGcE5IaHBRM2hXRWhkR1kyZHNXbDlUTjBjM2NVaHdkRkZRZUhGVE5HdEJSUm9pUVVaWWNrVmpiMnR3VERKck5FUlFUMGRzUjI5U1ZGSnJSazFOVEdJeE5HWmZVUSIsImZjdiI6IjMiLCJlaSI6IkZjZ2xaX1M3RzdxSHB0UVB4cVM0a0FFIiwicWMiOiJDZ1pqYjJabVpXVVFBSDJvcWpFXyIsInF1ZXN0aW9uIjoiV2h5IGlzIGNvZmZlZSBiZXR0ZXIgZm9yIHlvdT8iLCJsayI6IkdoeDNhSGtnYVhNZ1kyOW1abVZsSUdKbGRIUmxjaUJtYjNJZ2VXOTEiLCJicyI6ImMtUHk0bEwwTEZaSXprOUxTMDFWU01fUFQxSElMMUpJU2t4UlNBUFNHYW1KT1NVWjloSjNESXlVcEJReUNhampjdUtTRGMtb1JGS1hsRnBTa2xvRVZsS1pYMm92c1ZuT1NFNUtwaHlQR2k0YkxpbUVlM0lUVTFJVjBvcnljNEVDeWZtSjloTExESTJrcFNRemNTbmdzdU9TZHNsUGhVdG5wNllXZ0V4VlNDeFB6RTYxbF9pZmFTUWpKWldDVTRVQUl3QSIsImlkIjoiZmNfRmNnbFpfUzdHN3FIcHRRUHhxUzRrQUVfMiJ9\"\n",
            "    },\n",
            "    {\n",
            "      \"question\": \"Is coffee made from cocoa?\",\n",
            "      \"snippet\": \"No, coffee and chocolate are not the same. Coffee and chocolate come from two different plants. Coffee \\u201cbeans\\u201d (they're actually seeds) are derived from a cherry-like fruit that grows from a coffee plant \\u2014 a woody evergreen that can grow up to 32 feet. Chocolate comes from trees, specifically the Theobroma cacao tree.\",\n",
            "      \"title\": \"There's a reason coffee and chocolate go so well together\",\n",
            "      \"date\": \"Nov 11, 2021\",\n",
            "      \"link\": \"https://bakedbrewedbeautiful.com/coffee-and-chocolate/#:~:text=No%2C%20coffee%20and%20chocolate%20are,specifically%20the%20Theobroma%20cacao%20tree.\",\n",
            "      \"displayed_link\": \"https://bakedbrewedbeautiful.com \\u203a coffee-and-chocolate\",\n",
            "      \"source_logo\": \"https://serpapi.com/searches/6725c8153c95757cb8c6e2e6/images/b0a21525512add1d0e411c2ad965a6a413fd0fa8fd415c6785703a5eb645971e.png\",\n",
            "      \"next_page_token\": \"eyJvbnMiOiIxMDA0MSIsImZjIjoiRW9zQkNreEJTa2M1U210Tk9GZHdha2RNZFdWRk0ybGpOSGx6TjFSWk1uTjFObXAzYjNkdlVVNVVUbDlSVWxSeVVrZERkSGxETWxGdFkzbG1VR0paVkVST1gyUmtVRWhJTmxGcE5IaHBRM2hXRWhkR1kyZHNXbDlUTjBjM2NVaHdkRkZRZUhGVE5HdEJSUm9pUVVaWWNrVmpiMnR3VERKck5FUlFUMGRzUjI5U1ZGSnJSazFOVEdJeE5HWmZVUSIsImZjdiI6IjMiLCJlaSI6IkZjZ2xaX1M3RzdxSHB0UVB4cVM0a0FFIiwicWMiOiJDZ1pqYjJabVpXVVFBSDJvcWpFXyIsInF1ZXN0aW9uIjoiSXMgY29mZmVlIG1hZGUgZnJvbSBjb2NvYT8iLCJsayI6IkdobHBjeUJqYjJabVpXVWdiV0ZrWlNCbWNtOXRJR052WTI5aCIsImJzIjoiYy1QeTRsTDBMRlpJems5TFMwMVZTTV9QVDFISUwxSklTa3hSU0FQU0dhbUpPU1VaOWhKM0RJeVVwQlF5Q2FqamN1S1NEYy1vUkZLWGxGcFNrbG9FVmxLWlgyb3ZzVm5PU0U1S3BoeVBHaTRiTGltRWUzSVRVMUlWMG9yeWM0RUN5Zm1KOWhMTERJMmtwU1F6Y1NuZ3N1T1Nkc2xQaFV0bnA2WVdnRXhWU0N4UHpFNjFsX2lmYVNRakpaV0NVNFVBSXdBIiwiaWQiOiJmY19GY2dsWl9TN0c3cUhwdFFQeHFTNGtBRV8yIn0=\",\n",
            "      \"serpapi_link\": \"https://serpapi.com/search.json?device=desktop&engine=google_related_questions&google_domain=google.com&next_page_token=eyJvbnMiOiIxMDA0MSIsImZjIjoiRW9zQkNreEJTa2M1U210Tk9GZHdha2RNZFdWRk0ybGpOSGx6TjFSWk1uTjFObXAzYjNkdlVVNVVUbDlSVWxSeVVrZERkSGxETWxGdFkzbG1VR0paVkVST1gyUmtVRWhJTmxGcE5IaHBRM2hXRWhkR1kyZHNXbDlUTjBjM2NVaHdkRkZRZUhGVE5HdEJSUm9pUVVaWWNrVmpiMnR3VERKck5FUlFUMGRzUjI5U1ZGSnJSazFOVEdJeE5HWmZVUSIsImZjdiI6IjMiLCJlaSI6IkZjZ2xaX1M3RzdxSHB0UVB4cVM0a0FFIiwicWMiOiJDZ1pqYjJabVpXVVFBSDJvcWpFXyIsInF1ZXN0aW9uIjoiSXMgY29mZmVlIG1hZGUgZnJvbSBjb2NvYT8iLCJsayI6IkdobHBjeUJqYjJabVpXVWdiV0ZrWlNCbWNtOXRJR052WTI5aCIsImJzIjoiYy1QeTRsTDBMRlpJems5TFMwMVZTTV9QVDFISUwxSklTa3hSU0FQU0dhbUpPU1VaOWhKM0RJeVVwQlF5Q2FqamN1S1NEYy1vUkZLWGxGcFNrbG9FVmxLWlgyb3ZzVm5PU0U1S3BoeVBHaTRiTGltRWUzSVRVMUlWMG9yeWM0RUN5Zm1KOWhMTERJMmtwU1F6Y1NuZ3N1T1Nkc2xQaFV0bnA2WVdnRXhWU0N4UHpFNjFsX2lmYVNRakpaV0NVNFVBSXdBIiwiaWQiOiJmY19GY2dsWl9TN0c3cUhwdFFQeHFTNGtBRV8yIn0%3D\"\n",
            "    },\n",
            "    {\n",
            "      \"question\": \"Does coffee keep you awake?\",\n",
            "      \"snippet\": \"Once consumed, caffeine is very quickly absorbed and distributed throughout your body, including to your brain. It's here that caffeine elicits its most classic effect \\u2014 helping keep you alert and awake. \\u201cCaffeine works by blocking sleep-promoting receptors in your brain called adenosine receptors,\\u201d says Dr.\",\n",
            "      \"title\": \"Caffeine & Sleep: How Long Does Caffeine Keep You Awake?\",\n",
            "      \"date\": \"Jul 7, 2023\",\n",
            "      \"link\": \"https://www.houstonmethodist.org/blog/articles/2021/oct/caffeine-sleep-how-long-does-caffeine-keep-you-awake/#:~:text=Once%20consumed%2C%20caffeine%20is%20very,adenosine%20receptors%2C%E2%80%9D%20says%20Dr.\",\n",
            "      \"displayed_link\": \"https://www.houstonmethodist.org \\u203a blog \\u203a articles \\u203a oct\",\n",
            "      \"source_logo\": \"https://serpapi.com/searches/6725c8153c95757cb8c6e2e6/images/b0a21525512add1d0e411c2ad965a6a4170b5b03af8d826eb8e1541fa864bb64.png\",\n",
            "      \"next_page_token\": \"eyJvbnMiOiIxMDA0MSIsImZjIjoiRW9zQkNreEJTa2M1U210Tk9GZHdha2RNZFdWRk0ybGpOSGx6TjFSWk1uTjFObXAzYjNkdlVVNVVUbDlSVWxSeVVrZERkSGxETWxGdFkzbG1VR0paVkVST1gyUmtVRWhJTmxGcE5IaHBRM2hXRWhkR1kyZHNXbDlUTjBjM2NVaHdkRkZRZUhGVE5HdEJSUm9pUVVaWWNrVmpiMnR3VERKck5FUlFUMGRzUjI5U1ZGSnJSazFOVEdJeE5HWmZVUSIsImZjdiI6IjMiLCJlaSI6IkZjZ2xaX1M3RzdxSHB0UVB4cVM0a0FFIiwicWMiOiJDZ1pqYjJabVpXVVFBSDJvcWpFXyIsInF1ZXN0aW9uIjoiRG9lcyBjb2ZmZWUga2VlcCB5b3UgYXdha2U/IiwibGsiOiJHaHBrYjJWeklHTnZabVpsWlNCclpXVndJSGx2ZFNCaGQyRnJaUSIsImJzIjoiYy1QeTRsTDBMRlpJems5TFMwMVZTTV9QVDFISUwxSklTa3hSU0FQU0dhbUpPU1VaOWhKM0RJeVVwQlF5Q2FqamN1S1NEYy1vUkZLWGxGcFNrbG9FVmxLWlgyb3ZzVm5PU0U1S3BoeVBHaTRiTGltRWUzSVRVMUlWMG9yeWM0RUN5Zm1KOWhMTERJMmtwU1F6Y1NuZ3N1T1Nkc2xQaFV0bnA2WVdnRXhWU0N4UHpFNjFsX2lmYVNRakpaV0NVNFVBSXdBIiwiaWQiOiJmY19GY2dsWl9TN0c3cUhwdFFQeHFTNGtBRV8yIn0=\",\n",
            "      \"serpapi_link\": \"https://serpapi.com/search.json?device=desktop&engine=google_related_questions&google_domain=google.com&next_page_token=eyJvbnMiOiIxMDA0MSIsImZjIjoiRW9zQkNreEJTa2M1U210Tk9GZHdha2RNZFdWRk0ybGpOSGx6TjFSWk1uTjFObXAzYjNkdlVVNVVUbDlSVWxSeVVrZERkSGxETWxGdFkzbG1VR0paVkVST1gyUmtVRWhJTmxGcE5IaHBRM2hXRWhkR1kyZHNXbDlUTjBjM2NVaHdkRkZRZUhGVE5HdEJSUm9pUVVaWWNrVmpiMnR3VERKck5FUlFUMGRzUjI5U1ZGSnJSazFOVEdJeE5HWmZVUSIsImZjdiI6IjMiLCJlaSI6IkZjZ2xaX1M3RzdxSHB0UVB4cVM0a0FFIiwicWMiOiJDZ1pqYjJabVpXVVFBSDJvcWpFXyIsInF1ZXN0aW9uIjoiRG9lcyBjb2ZmZWUga2VlcCB5b3UgYXdha2U%2FIiwibGsiOiJHaHBrYjJWeklHTnZabVpsWlNCclpXVndJSGx2ZFNCaGQyRnJaUSIsImJzIjoiYy1QeTRsTDBMRlpJems5TFMwMVZTTV9QVDFISUwxSklTa3hSU0FQU0dhbUpPU1VaOWhKM0RJeVVwQlF5Q2FqamN1S1NEYy1vUkZLWGxGcFNrbG9FVmxLWlgyb3ZzVm5PU0U1S3BoeVBHaTRiTGltRWUzSVRVMUlWMG9yeWM0RUN5Zm1KOWhMTERJMmtwU1F6Y1NuZ3N1T1Nkc2xQaFV0bnA2WVdnRXhWU0N4UHpFNjFsX2lmYVNRakpaV0NVNFVBSXdBIiwiaWQiOiJmY19GY2dsWl9TN0c3cUhwdFFQeHFTNGtBRV8yIn0%3D\"\n",
            "    }\n",
            "  ],\n",
            "  \"organic_results\": [\n",
            "    {\n",
            "      \"position\": 1,\n",
            "      \"title\": \"Coffee\",\n",
            "      \"link\": \"https://en.wikipedia.org/wiki/Coffee\",\n",
            "      \"redirect_link\": \"https://www.google.com/url?sa=t&source=web&rct=j&opi=89978449&url=https://en.wikipedia.org/wiki/Coffee&ved=2ahUKEwi0mqWChL2JAxW6g4kEHUYSDhIQFnoECBcQAQ\",\n",
            "      \"displayed_link\": \"https://en.wikipedia.org \\u203a wiki \\u203a Coffee\",\n",
            "      \"thumbnail\": \"https://serpapi.com/searches/6725c8153c95757cb8c6e2e6/images/ba03583ee6fab58deb5d4a7cf858d848e5e0bce5f17f86e476e118d8eb8deaf1.jpeg\",\n",
            "      \"favicon\": \"https://serpapi.com/searches/6725c8153c95757cb8c6e2e6/images/ba03583ee6fab58deb5d4a7cf858d848ce6d501ffdd2f45cdf6c209c5b87f500.png\",\n",
            "      \"snippet\": \"Coffee is a beverage brewed from roasted coffee beans. Darkly colored, bitter, and slightly acidic, coffee has a stimulating effect on humans, primarily due ...\",\n",
            "      \"snippet_highlighted_words\": [\n",
            "        \"Coffee\",\n",
            "        \"coffee\",\n",
            "        \"coffee\"\n",
            "      ],\n",
            "      \"sitelinks\": {\n",
            "        \"inline\": [\n",
            "          {\n",
            "            \"title\": \"Coffee bean\",\n",
            "            \"link\": \"https://en.wikipedia.org/wiki/Coffee_bean\"\n",
            "          },\n",
            "          {\n",
            "            \"title\": \"History\",\n",
            "            \"link\": \"https://en.wikipedia.org/wiki/History_of_coffee\"\n",
            "          },\n",
            "          {\n",
            "            \"title\": \"Coffee production\",\n",
            "            \"link\": \"https://en.wikipedia.org/wiki/Coffee_production\"\n",
            "          },\n",
            "          {\n",
            "            \"title\": \"Coffee preparation\",\n",
            "            \"link\": \"https://en.wikipedia.org/wiki/Coffee_preparation\"\n",
            "          }\n",
            "        ]\n",
            "      },\n",
            "      \"source\": \"Wikipedia\"\n",
            "    },\n",
            "    {\n",
            "      \"position\": 2,\n",
            "      \"title\": \"Blue Bottle Coffee | Fresh Roasted Specialty Coffee\",\n",
            "      \"link\": \"https://bluebottlecoffee.com/?srsltid=AfmBOorNELJByXvMGRc5CjvuwtUHvfIn-tmlEraLG6WQFTKq62tRmTzK\",\n",
            "      \"redirect_link\": \"https://www.google.com/url?sa=t&source=web&rct=j&opi=89978449&url=https://bluebottlecoffee.com/%3Fsrsltid%3DAfmBOorNELJByXvMGRc5CjvuwtUHvfIn-tmlEraLG6WQFTKq62tRmTzK&ved=2ahUKEwi0mqWChL2JAxW6g4kEHUYSDhIQFnoECH0QAQ\",\n",
            "      \"displayed_link\": \"https://bluebottlecoffee.com\",\n",
            "      \"thumbnail\": \"https://serpapi.com/searches/6725c8153c95757cb8c6e2e6/images/ba03583ee6fab58deb5d4a7cf858d8483cfab3237c2276b60cea46382c4e3aa1.jpeg\",\n",
            "      \"favicon\": \"https://serpapi.com/searches/6725c8153c95757cb8c6e2e6/images/ba03583ee6fab58deb5d4a7cf858d8488e0096e1c103776214b7bb9dfa6c4110.png\",\n",
            "      \"author\": \"Free 2\\u20136 day delivery over $40\",\n",
            "      \"cited_by\": \"\\u200e30-day returns\",\n",
            "      \"snippet\": \"Blue Bottle Coffee is a specialty coffee roaster with cafes in LA, SF, NYC, & Japan. Shop our freshly roasted specialty coffee online & in-store.\",\n",
            "      \"snippet_highlighted_words\": [\n",
            "        \"Coffee\",\n",
            "        \"coffee\",\n",
            "        \"coffee\"\n",
            "      ],\n",
            "      \"sitelinks\": {\n",
            "        \"inline\": [\n",
            "          {\n",
            "            \"title\": \"Specialty Whole Bean Coffee\",\n",
            "            \"link\": \"https://bluebottlecoffee.com/us/eng/shop/coffee\"\n",
            "          },\n",
            "          {\n",
            "            \"title\": \"Browse Our Cafes\",\n",
            "            \"link\": \"https://bluebottlecoffee.com/cafes\"\n",
            "          },\n",
            "          {\n",
            "            \"title\": \"Our Coffee\",\n",
            "            \"link\": \"https://bluebottlecoffee.com/us/eng/our-coffee\"\n",
            "          },\n",
            "          {\n",
            "            \"title\": \"Blue Bottle Coffee\",\n",
            "            \"link\": \"https://support.bluebottlecoffee.com/hc/en-us\"\n",
            "          }\n",
            "        ]\n",
            "      },\n",
            "      \"rich_snippet\": {\n",
            "        \"top\": {\n",
            "          \"detected_extensions\": {\n",
            "            \"free_day_delivery_over\": \"2\\u20136\",\n",
            "            \"day_returns\": 30\n",
            "          },\n",
            "          \"extensions\": [\n",
            "            \"Free 2\\u20136 day delivery over $40\",\n",
            "            \"30-day returns\"\n",
            "          ]\n",
            "        }\n",
            "      },\n",
            "      \"source\": \"Blue Bottle Coffee\"\n",
            "    },\n",
            "    {\n",
            "      \"position\": 3,\n",
            "      \"title\": \"Peet's Coffee | The Original Craft Coffee, Est. 1966\",\n",
            "      \"link\": \"https://www.peets.com/\",\n",
            "      \"redirect_link\": \"https://www.google.com/url?sa=t&source=web&rct=j&opi=89978449&url=https://www.peets.com/&ved=2ahUKEwi0mqWChL2JAxW6g4kEHUYSDhIQFnoECHQQAQ\",\n",
            "      \"displayed_link\": \"https://www.peets.com\",\n",
            "      \"favicon\": \"https://serpapi.com/searches/6725c8153c95757cb8c6e2e6/images/ba03583ee6fab58deb5d4a7cf858d84823a59c6f5ec7e88a00c2ab26a008cefa.png\",\n",
            "      \"snippet\": \"Since 1966, Peet's Coffee has sourced and offered superior coffees and teas and adhering to strict high-quality and taste standards. Shop today.\",\n",
            "      \"snippet_highlighted_words\": [\n",
            "        \"Coffee\",\n",
            "        \"coffees\"\n",
            "      ],\n",
            "      \"sitelinks\": {\n",
            "        \"inline\": [\n",
            "          {\n",
            "            \"title\": \"Shop All Coffee\",\n",
            "            \"link\": \"https://www.peets.com/collections/all-coffees\"\n",
            "          },\n",
            "          {\n",
            "            \"title\": \"Store Locator\",\n",
            "            \"link\": \"https://www.peets.com/pages/store-locator\"\n",
            "          },\n",
            "          {\n",
            "            \"title\": \"Peet's Coffeebar Menu\",\n",
            "            \"link\": \"https://www.peets.com/pages/menu\"\n",
            "          },\n",
            "          {\n",
            "            \"title\": \"Coffee for Coffee People\",\n",
            "            \"link\": \"https://www.peets.com/pages/coffeepeople\"\n",
            "          }\n",
            "        ]\n",
            "      },\n",
            "      \"source\": \"Peet's Coffee\"\n",
            "    },\n",
            "    {\n",
            "      \"position\": 4,\n",
            "      \"title\": \"Starbucks Coffee Company\",\n",
            "      \"link\": \"https://www.starbucks.com/\",\n",
            "      \"redirect_link\": \"https://www.google.com/url?sa=t&source=web&rct=j&opi=89978449&url=https://www.starbucks.com/&ved=2ahUKEwi0mqWChL2JAxW6g4kEHUYSDhIQFnoECF4QAQ\",\n",
            "      \"displayed_link\": \"https://www.starbucks.com\",\n",
            "      \"thumbnail\": \"https://encrypted-tbn0.gstatic.com/images?q=tbn:ANd9GcTo91ez49uWjfg4dR82mmU7W8QsajiVGyMJ0paitI0g9WbTNc3dgefm&usqp=CAE&s\",\n",
            "      \"snippet\": \"More than just great coffee. Explore the menu, sign up for Starbucks\\u00ae Rewards, manage your gift card and more.\",\n",
            "      \"snippet_highlighted_words\": [\n",
            "        \"coffee\"\n",
            "      ],\n",
            "      \"sitelinks\": {\n",
            "        \"inline\": [\n",
            "          {\n",
            "            \"title\": \"Let's talk coffee\",\n",
            "            \"link\": \"https://www.starbucks.com/coffee/\"\n",
            "          },\n",
            "          {\n",
            "            \"title\": \"Store Locator\",\n",
            "            \"link\": \"https://www.starbucks.com/store-locator\"\n",
            "          },\n",
            "          {\n",
            "            \"title\": \"Menu\",\n",
            "            \"link\": \"https://www.starbucks.com/menu\"\n",
            "          },\n",
            "          {\n",
            "            \"title\": \"Starbucks\\u00ae\\ufe0f Coffee\",\n",
            "            \"link\": \"https://athome.starbucks.com/\"\n",
            "          }\n",
            "        ]\n",
            "      },\n",
            "      \"source\": \"Starbucks\"\n",
            "    },\n",
            "    {\n",
            "      \"position\": 5,\n",
            "      \"title\": \"What is Coffee?\",\n",
            "      \"link\": \"https://www.ncausa.org/about-coffee/what-is-coffee\",\n",
            "      \"redirect_link\": \"https://www.google.com/url?sa=t&source=web&rct=j&opi=89978449&url=https://www.ncausa.org/about-coffee/what-is-coffee&ved=2ahUKEwi0mqWChL2JAxW6g4kEHUYSDhIQFnoECFMQAQ\",\n",
            "      \"displayed_link\": \"https://www.ncausa.org \\u203a About Coffee \\u203a What is Coffee?\",\n",
            "      \"snippet\": \"Coffee traces its origin to a genus of plants known as Coffea. Within the genus there are over 500 genera and 6,000 species of tropical trees and shrubs.\",\n",
            "      \"snippet_highlighted_words\": [\n",
            "        \"Coffee\"\n",
            "      ],\n",
            "      \"source\": \"National Coffee Association\"\n",
            "    },\n",
            "    {\n",
            "      \"position\": 6,\n",
            "      \"title\": \"Klatch Coffee | Where Coffee Is The Conversation\",\n",
            "      \"link\": \"https://www.klatchcoffee.com/?srsltid=AfmBOoo9liuj3208cHLZ-U87B9TlCLD1vih69HyMzsOwLUADCL1JLArC\",\n",
            "      \"redirect_link\": \"https://www.google.com/url?sa=t&source=web&rct=j&opi=89978449&url=https://www.klatchcoffee.com/%3Fsrsltid%3DAfmBOoo9liuj3208cHLZ-U87B9TlCLD1vih69HyMzsOwLUADCL1JLArC&ved=2ahUKEwi0mqWChL2JAxW6g4kEHUYSDhIQFnoECFcQAQ\",\n",
            "      \"displayed_link\": \"https://www.klatchcoffee.com\",\n",
            "      \"thumbnail\": \"https://encrypted-tbn0.gstatic.com/images?q=tbn:ANd9GcQ4tgdJHEXiYMlda6d0TGVwZzM3YuJCwKwEowWzwKueAa7vHez0PJ4Z&usqp=CAE&s\",\n",
            "      \"favicon\": \"https://serpapi.com/searches/6725c8153c95757cb8c6e2e6/images/ba03583ee6fab58deb5d4a7cf858d8488aa9b3c103ddf4685da8b75dd95ab082.png\",\n",
            "      \"snippet\": \"Take our interactive quiz to find the coffee that suits your taste. In just a few clicks, we'll unveil your ideal roast and match you with the perfect brew.\",\n",
            "      \"snippet_highlighted_words\": [\n",
            "        \"coffee\"\n",
            "      ],\n",
            "      \"source\": \"Klatch Coffee\"\n",
            "    },\n",
            "    {\n",
            "      \"position\": 7,\n",
            "      \"title\": \"Coffee | Origin, Types, Uses, History, & Facts\",\n",
            "      \"link\": \"https://www.britannica.com/topic/coffee\",\n",
            "      \"redirect_link\": \"https://www.google.com/url?sa=t&source=web&rct=j&opi=89978449&url=https://www.britannica.com/topic/coffee&ved=2ahUKEwi0mqWChL2JAxW6g4kEHUYSDhIQFnoECFgQAQ\",\n",
            "      \"displayed_link\": \"https://www.britannica.com \\u203a ... \\u203a Food\",\n",
            "      \"thumbnail\": \"https://encrypted-tbn0.gstatic.com/images?q=tbn:ANd9GcSAnVM0H5-8HgFFgrpSm9fyUj4LRexFYCC36QequTjOCYxXEnBZfi5A&usqp=CAE&s\",\n",
            "      \"favicon\": \"https://serpapi.com/searches/6725c8153c95757cb8c6e2e6/images/ba03583ee6fab58deb5d4a7cf858d848e2c308a4508617be23334889d281c5e6.png\",\n",
            "      \"date\": \"3 days ago\",\n",
            "      \"snippet\": \"Coffee is a beverage brewed from the roasted and ground seeds of the tropical evergreen coffee plant.\",\n",
            "      \"snippet_highlighted_words\": [\n",
            "        \"Coffee\",\n",
            "        \"coffee\"\n",
            "      ],\n",
            "      \"sitelinks\": {\n",
            "        \"inline\": [\n",
            "          {\n",
            "            \"title\": \"History of coffee\",\n",
            "            \"link\": \"https://www.britannica.com/topic/history-of-coffee\"\n",
            "          },\n",
            "          {\n",
            "            \"title\": \"Using coffee\",\n",
            "            \"link\": \"https://www.britannica.com/topic/coffee/Using-coffee\"\n",
            "          },\n",
            "          {\n",
            "            \"title\": \"Decaffeinated coffee\",\n",
            "            \"link\": \"https://www.britannica.com/topic/decaffeinated-coffee\"\n",
            "          },\n",
            "          {\n",
            "            \"title\": \"Cold-brew coffee\",\n",
            "            \"link\": \"https://www.britannica.com/topic/cold-brew-coffee\"\n",
            "          }\n",
            "        ]\n",
            "      },\n",
            "      \"source\": \"Britannica\"\n",
            "    },\n",
            "    {\n",
            "      \"position\": 8,\n",
            "      \"title\": \"Coffee health benefits: Diabetes, heart health, liver cancer, ...\",\n",
            "      \"link\": \"https://www.medicalnewstoday.com/articles/270202\",\n",
            "      \"redirect_link\": \"https://www.google.com/url?sa=t&source=web&rct=j&opi=89978449&url=https://www.medicalnewstoday.com/articles/270202&ved=2ahUKEwi0mqWChL2JAxW6g4kEHUYSDhIQFnoECHwQAQ\",\n",
            "      \"displayed_link\": \"https://www.medicalnewstoday.com \\u203a articles\",\n",
            "      \"thumbnail\": \"https://encrypted-tbn0.gstatic.com/images?q=tbn:ANd9GcR8URs8EHOjTtsp6Z5L2PYyW1dpJeMK56lCGpQOKXBIa1bjWBSbB1tW&usqp=CAE&s\",\n",
            "      \"favicon\": \"https://serpapi.com/searches/6725c8153c95757cb8c6e2e6/images/ba03583ee6fab58deb5d4a7cf858d848ac349b305c66ad292446e6d7856d98d4.png\",\n",
            "      \"snippet\": \"In some cases, coffee may be good for health, as it may offer benefits such as lowering the risk of type 2 diabetes and helping people lose weight.\",\n",
            "      \"snippet_highlighted_words\": [\n",
            "        \"coffee\"\n",
            "      ],\n",
            "      \"source\": \"MedicalNewsToday\"\n",
            "    },\n",
            "    {\n",
            "      \"position\": 9,\n",
            "      \"title\": \"The Coffee Bean & Tea Leaf | CBTL\",\n",
            "      \"link\": \"https://coffeebean.com/\",\n",
            "      \"redirect_link\": \"https://www.google.com/url?sa=t&source=web&rct=j&opi=89978449&url=https://coffeebean.com/&ved=2ahUKEwi0mqWChL2JAxW6g4kEHUYSDhIQFnoECFQQAQ\",\n",
            "      \"displayed_link\": \"https://coffeebean.com\",\n",
            "      \"favicon\": \"https://serpapi.com/searches/6725c8153c95757cb8c6e2e6/images/ba03583ee6fab58deb5d4a7cf858d8482b00de983a8ff4650beaf40da030051d.png\",\n",
            "      \"snippet\": \"We're passionate about delivering the best handcrafted products and take pride in the journey from seed to cup.\",\n",
            "      \"source\": \"The Coffee Bean & Tea Leaf\"\n",
            "    }\n",
            "  ],\n",
            "  \"top_stories_link\": \"https://www.google.com/search?sca_esv=b442d26e8f1a3023&tbm=lcl&q=coffee&rflfq=1&num=10&sa=X&ved=2ahUKEwi0mqWChL2JAxW6g4kEHUYSDhIQjGp6BAhCEAE\",\n",
            "  \"top_stories_serpapi_link\": \"https://serpapi.com/search.json?device=desktop&engine=google_local&gl=us&google_domain=google.com&hl=en&q=coffee\",\n",
            "  \"related_searches\": [\n",
            "    {\n",
            "      \"block_position\": 1,\n",
            "      \"query\": \"Coffee near me\",\n",
            "      \"link\": \"https://www.google.com/search?sca_esv=b442d26e8f1a3023&q=Coffee+near+me&sa=X&ved=2ahUKEwi0mqWChL2JAxW6g4kEHUYSDhIQ1QJ6BQiMARAB\",\n",
            "      \"serpapi_link\": \"https://serpapi.com/search.json?device=desktop&engine=google&google_domain=google.com&q=Coffee+near+me\"\n",
            "    },\n",
            "    {\n",
            "      \"block_position\": 1,\n",
            "      \"query\": \"Coffee benefits\",\n",
            "      \"link\": \"https://www.google.com/search?sca_esv=b442d26e8f1a3023&q=Coffee+benefits&sa=X&ved=2ahUKEwi0mqWChL2JAxW6g4kEHUYSDhIQ1QJ6BQiKARAB\",\n",
            "      \"serpapi_link\": \"https://serpapi.com/search.json?device=desktop&engine=google&google_domain=google.com&q=Coffee+benefits\"\n",
            "    },\n",
            "    {\n",
            "      \"block_position\": 1,\n",
            "      \"query\": \"Coffee brand\",\n",
            "      \"link\": \"https://www.google.com/search?sca_esv=b442d26e8f1a3023&q=Coffee+brand&sa=X&ved=2ahUKEwi0mqWChL2JAxW6g4kEHUYSDhIQ1QJ6BQiHARAB\",\n",
            "      \"serpapi_link\": \"https://serpapi.com/search.json?device=desktop&engine=google&google_domain=google.com&q=Coffee+brand\"\n",
            "    },\n",
            "    {\n",
            "      \"block_position\": 1,\n",
            "      \"query\": \"Coffee types\",\n",
            "      \"link\": \"https://www.google.com/search?sca_esv=b442d26e8f1a3023&q=Coffee+types&sa=X&ved=2ahUKEwi0mqWChL2JAxW6g4kEHUYSDhIQ1QJ6BQiCARAB\",\n",
            "      \"serpapi_link\": \"https://serpapi.com/search.json?device=desktop&engine=google&google_domain=google.com&q=Coffee+types\"\n",
            "    },\n",
            "    {\n",
            "      \"block_position\": 1,\n",
            "      \"query\": \"Coffee shop\",\n",
            "      \"link\": \"https://www.google.com/search?sca_esv=b442d26e8f1a3023&q=Coffee+shop&sa=X&ved=2ahUKEwi0mqWChL2JAxW6g4kEHUYSDhIQ1QJ6BQiBARAB\",\n",
            "      \"serpapi_link\": \"https://serpapi.com/search.json?device=desktop&engine=google&google_domain=google.com&q=Coffee+shop\"\n",
            "    },\n",
            "    {\n",
            "      \"block_position\": 1,\n",
            "      \"query\": \"Coffee Machine\",\n",
            "      \"link\": \"https://www.google.com/search?sca_esv=b442d26e8f1a3023&q=Coffee+Machine&sa=X&ved=2ahUKEwi0mqWChL2JAxW6g4kEHUYSDhIQ1QJ6BAh6EAE\",\n",
            "      \"serpapi_link\": \"https://serpapi.com/search.json?device=desktop&engine=google&google_domain=google.com&q=Coffee+Machine\"\n",
            "    },\n",
            "    {\n",
            "      \"block_position\": 1,\n",
            "      \"query\": \"Coffee beans\",\n",
            "      \"link\": \"https://www.google.com/search?sca_esv=b442d26e8f1a3023&q=Coffee+beans&sa=X&ved=2ahUKEwi0mqWChL2JAxW6g4kEHUYSDhIQ1QJ6BAh4EAE\",\n",
            "      \"serpapi_link\": \"https://serpapi.com/search.json?device=desktop&engine=google&google_domain=google.com&q=Coffee+beans\"\n",
            "    },\n",
            "    {\n",
            "      \"block_position\": 1,\n",
            "      \"query\": \"Coffee NESCAF\\u00c9\",\n",
            "      \"link\": \"https://www.google.com/search?sca_esv=b442d26e8f1a3023&q=Coffee+NESCAF%C3%89&sa=X&ved=2ahUKEwi0mqWChL2JAxW6g4kEHUYSDhIQ1QJ6BAh2EAE\",\n",
            "      \"serpapi_link\": \"https://serpapi.com/search.json?device=desktop&engine=google&google_domain=google.com&q=Coffee+NESCAF%C3%89\"\n",
            "    }\n",
            "  ],\n",
            "  \"refine_this_search\": [\n",
            "    {\n",
            "      \"query\": \"Nearby\",\n",
            "      \"link\": \"https://www.google.com/search?q=coffee+nearby&shoprs=GAMqBmNvZmZlZTIMCAMSBk5lYXJieRgCWLfLH2AB&sa=X&ved=2ahUKEwi0mqWChL2JAxW6g4kEHUYSDhIQip4GKAF6BAgjEFY\",\n",
            "      \"serpapi_link\": \"https://serpapi.com/search.json?device=desktop&engine=google&google_domain=google.com&q=coffee+nearby\"\n",
            "    },\n",
            "    {\n",
            "      \"query\": \"Whole Bean\",\n",
            "      \"link\": \"https://www.google.com/search?q=whole+bean+coffee&shoprs=GAEqBmNvZmZlZTIaCAESCldob2xlIEJlYW46Cgju_jgQ8f44MAJYt8sfYAE&sa=X&ved=2ahUKEwi0mqWChL2JAxW6g4kEHUYSDhIQip4GKAJ6BAgjEFc\",\n",
            "      \"serpapi_link\": \"https://serpapi.com/search.json?device=desktop&engine=google&google_domain=google.com&q=whole+bean+coffee\"\n",
            "    },\n",
            "    {\n",
            "      \"query\": \"Ground\",\n",
            "      \"link\": \"https://www.google.com/search?q=ground+coffee&shoprs=GAEqBmNvZmZlZTIWCAESBkdyb3VuZDoKCO7-OBDv_jgwAli3yx9gAQ&sa=X&ved=2ahUKEwi0mqWChL2JAxW6g4kEHUYSDhIQip4GKAN6BAgjEFg\",\n",
            "      \"serpapi_link\": \"https://serpapi.com/search.json?device=desktop&engine=google&google_domain=google.com&q=ground+coffee\"\n",
            "    },\n",
            "    {\n",
            "      \"query\": \"Brand\",\n",
            "      \"link\": \"https://www.google.com/search?q=brand+coffee&shoprs=GBIqBmNvZmZlZTIJCBISBUJyYW5kYAE&sa=X&ved=2ahUKEwi0mqWChL2JAxW6g4kEHUYSDhIQip4GKAR6BAgjEFk\",\n",
            "      \"serpapi_link\": \"https://serpapi.com/search.json?device=desktop&engine=google&google_domain=google.com&q=brand+coffee\"\n",
            "    },\n",
            "    {\n",
            "      \"query\": \"On sale\",\n",
            "      \"link\": \"https://www.google.com/search?q=coffee+sale&shoprs=EgRKAhgBGAYqBmNvZmZlZTITCAYSB09uIHNhbGUYAiIESgIYAVi3yx9gAQ&sa=X&ved=2ahUKEwi0mqWChL2JAxW6g4kEHUYSDhIQip4GKAV6BAgjEFo\",\n",
            "      \"serpapi_link\": \"https://serpapi.com/search.json?device=desktop&engine=google&google_domain=google.com&q=coffee+sale\"\n",
            "    },\n",
            "    {\n",
            "      \"query\": \"Get it fast\",\n",
            "      \"link\": \"https://www.google.com/search?q=coffee&shoprs=Eg2aAQoKCBADOAFAAkgBGBQqBmNvZmZlZTIkCBQSC0dldCBpdCBmYXN0Ig2aAQoKCBADOAFAAkgBKgQQARgBYAE&sa=X&ved=2ahUKEwi0mqWChL2JAxW6g4kEHUYSDhIQip4GKAZ6BAgjEFs\",\n",
            "      \"serpapi_link\": \"https://serpapi.com/search.json?device=desktop&engine=google&google_domain=google.com&q=coffee\"\n",
            "    },\n",
            "    {\n",
            "      \"query\": \"Pod\",\n",
            "      \"link\": \"https://www.google.com/search?q=pod+coffee&shoprs=GAEqBmNvZmZlZTITCAESA1BvZDoKCPucZRD8nGUwA1i3yx9gAQ&sa=X&ved=2ahUKEwi0mqWChL2JAxW6g4kEHUYSDhIQip4GKAd6BAgjEFw\",\n",
            "      \"serpapi_link\": \"https://serpapi.com/search.json?device=desktop&engine=google&google_domain=google.com&q=pod+coffee\"\n",
            "    },\n",
            "    {\n",
            "      \"query\": \"Bag\",\n",
            "      \"link\": \"https://www.google.com/search?q=bag+coffee&shoprs=GAEqBmNvZmZlZTITCAESA0JhZzoKCIGdZRCEnWUwAFi3yx9gAQ&sa=X&ved=2ahUKEwi0mqWChL2JAxW6g4kEHUYSDhIQip4GKAh6BAgjEF0\",\n",
            "      \"serpapi_link\": \"https://serpapi.com/search.json?device=desktop&engine=google&google_domain=google.com&q=bag+coffee\"\n",
            "    },\n",
            "    {\n",
            "      \"query\": \"Instant\",\n",
            "      \"link\": \"https://www.google.com/search?q=instant+coffee&shoprs=GAEqBmNvZmZlZTIXCAESB0luc3RhbnQ6Cgju_jgQ8P44MAJYt8sfYAE&sa=X&ved=2ahUKEwi0mqWChL2JAxW6g4kEHUYSDhIQip4GKAl6BAgjEF4\",\n",
            "      \"serpapi_link\": \"https://serpapi.com/search.json?device=desktop&engine=google&google_domain=google.com&q=instant+coffee\"\n",
            "    },\n",
            "    {\n",
            "      \"query\": \"Medium Roast\",\n",
            "      \"link\": \"https://www.google.com/search?q=medium+roast+coffee&shoprs=GAEqBmNvZmZlZTIcCAESDE1lZGl1bSBSb2FzdDoKCJm4OxCbuDswAFi3yx9gAQ&sa=X&ved=2ahUKEwi0mqWChL2JAxW6g4kEHUYSDhIQip4GKAp6BAgjEF8\",\n",
            "      \"serpapi_link\": \"https://serpapi.com/search.json?device=desktop&engine=google&google_domain=google.com&q=medium+roast+coffee\"\n",
            "    },\n",
            "    {\n",
            "      \"query\": \"Buy\",\n",
            "      \"link\": \"https://www.google.com/search?q=buy+coffee&shoprs=GBIqBmNvZmZlZTIHCBISA0J1eWAB&sa=X&ved=2ahUKEwi0mqWChL2JAxW6g4kEHUYSDhIQip4GKAt6BAgjEGA\",\n",
            "      \"serpapi_link\": \"https://serpapi.com/search.json?device=desktop&engine=google&google_domain=google.com&q=buy+coffee\"\n",
            "    },\n",
            "    {\n",
            "      \"query\": \"Walmart\",\n",
            "      \"link\": \"https://www.google.com/search?q=walmart+coffee&shoprs=GAIqBmNvZmZlZTILCAISB1dhbG1hcnRYt8sfYAE&sa=X&ved=2ahUKEwi0mqWChL2JAxW6g4kEHUYSDhIQip4GKAx6BAgjEGE\",\n",
            "      \"serpapi_link\": \"https://serpapi.com/search.json?device=desktop&engine=google&google_domain=google.com&q=walmart+coffee\",\n",
            "      \"thumbnail\": \"https://serpapi.com/searches/6725c8153c95757cb8c6e2e6/images/3a59199fb5017a80e162bccc85e3f5089d04f8b75a24ab84dec55c07378f646f.png\"\n",
            "    },\n",
            "    {\n",
            "      \"query\": \"Organic\",\n",
            "      \"link\": \"https://www.google.com/search?q=organic+coffee&shoprs=GAEqBmNvZmZlZTIZCAESB09yZ2FuaWM6DAi--YcBEL_5hwEwA1i3yx9gAQ&sa=X&ved=2ahUKEwi0mqWChL2JAxW6g4kEHUYSDhIQip4GKA16BAgjEGM\",\n",
            "      \"serpapi_link\": \"https://serpapi.com/search.json?device=desktop&engine=google&google_domain=google.com&q=organic+coffee\"\n",
            "    },\n",
            "    {\n",
            "      \"query\": \"Under $9\",\n",
            "      \"link\": \"https://www.google.com/search?q=coffee+under+$9&shoprs=Eg0SCxEAAAAAiCphQRgBGAUqBmNvZmZlZTIhCAUSCFVuZGVyICQ5GAIiDRILEQAAAACIKmFBGAEqAhgBWLfLH2AB&sa=X&ved=2ahUKEwi0mqWChL2JAxW6g4kEHUYSDhIQip4GKA56BAgjEGQ\",\n",
            "      \"serpapi_link\": \"https://serpapi.com/search.json?device=desktop&engine=google&google_domain=google.com&q=coffee+under+%249\"\n",
            "    },\n",
            "    {\n",
            "      \"query\": \"Online\",\n",
            "      \"link\": \"https://www.google.com/search?q=online+coffee&shoprs=GBIqBmNvZmZlZTIKCBISBk9ubGluZWAB&sa=X&ved=2ahUKEwi0mqWChL2JAxW6g4kEHUYSDhIQip4GKA96BAgjEGU\",\n",
            "      \"serpapi_link\": \"https://serpapi.com/search.json?device=desktop&engine=google&google_domain=google.com&q=online+coffee\"\n",
            "    },\n",
            "    {\n",
            "      \"query\": \"Store\",\n",
            "      \"link\": \"https://www.google.com/search?q=store+coffee&shoprs=GBIqBmNvZmZlZTIJCBISBVN0b3JlYAE&sa=X&ved=2ahUKEwi0mqWChL2JAxW6g4kEHUYSDhIQip4GKBB6BAgjEGY\",\n",
            "      \"serpapi_link\": \"https://serpapi.com/search.json?device=desktop&engine=google&google_domain=google.com&q=store+coffee\"\n",
            "    },\n",
            "    {\n",
            "      \"query\": \"Caffeine-free\",\n",
            "      \"link\": \"https://www.google.com/search?q=caffeine-free+coffee&shoprs=GAEqBmNvZmZlZTIfCAESDUNhZmZlaW5lLWZyZWU6DAig8YoBEKHxigEwA1i3yx9gAQ&sa=X&ved=2ahUKEwi0mqWChL2JAxW6g4kEHUYSDhIQip4GKBF6BAgjEGc\",\n",
            "      \"serpapi_link\": \"https://serpapi.com/search.json?device=desktop&engine=google&google_domain=google.com&q=caffeine-free+coffee\"\n",
            "    },\n",
            "    {\n",
            "      \"query\": \"Target\",\n",
            "      \"link\": \"https://www.google.com/search?q=target+coffee&shoprs=GAIqBmNvZmZlZTIKCAISBlRhcmdldFi3yx9gAQ&sa=X&ved=2ahUKEwi0mqWChL2JAxW6g4kEHUYSDhIQip4GKBJ6BAgjEGg\",\n",
            "      \"serpapi_link\": \"https://serpapi.com/search.json?device=desktop&engine=google&google_domain=google.com&q=target+coffee\",\n",
            "      \"thumbnail\": \"https://serpapi.com/searches/6725c8153c95757cb8c6e2e6/images/3a59199fb5017a80e162bccc85e3f508726a92803a50f2d3d4c0a7ecc37bac7b.png\"\n",
            "    },\n",
            "    {\n",
            "      \"query\": \"Dark Roast\",\n",
            "      \"link\": \"https://www.google.com/search?q=dark+roast+coffee&shoprs=GAEqBmNvZmZlZTIaCAESCkRhcmsgUm9hc3Q6CgiZuDsQnbg7MABYt8sfYAE&sa=X&ved=2ahUKEwi0mqWChL2JAxW6g4kEHUYSDhIQip4GKBN6BAgjEGo\",\n",
            "      \"serpapi_link\": \"https://serpapi.com/search.json?device=desktop&engine=google&google_domain=google.com&q=dark+roast+coffee\"\n",
            "    },\n",
            "    {\n",
            "      \"query\": \"Chocolate\",\n",
            "      \"link\": \"https://www.google.com/search?q=chocolate+coffee&shoprs=GAEqBmNvZmZlZTIZCAESCUNob2NvbGF0ZToKCIidZRCMnWUwAFi3yx9gAQ&sa=X&ved=2ahUKEwi0mqWChL2JAxW6g4kEHUYSDhIQip4GKBR6BAgjEGs\",\n",
            "      \"serpapi_link\": \"https://serpapi.com/search.json?device=desktop&engine=google&google_domain=google.com&q=chocolate+coffee\"\n",
            "    },\n",
            "    {\n",
            "      \"query\": \"Price\",\n",
            "      \"link\": \"https://www.google.com/search?q=price+coffee&shoprs=GBIqBmNvZmZlZTIJCBISBVByaWNlYAE&sa=X&ved=2ahUKEwi0mqWChL2JAxW6g4kEHUYSDhIQip4GKBV6BAgjEGw\",\n",
            "      \"serpapi_link\": \"https://serpapi.com/search.json?device=desktop&engine=google&google_domain=google.com&q=price+coffee\"\n",
            "    },\n",
            "    {\n",
            "      \"query\": \"Box\",\n",
            "      \"link\": \"https://www.google.com/search?q=box+coffee&shoprs=GAEqBmNvZmZlZTITCAESA0JveDoKCIGdZRCPnWUwAFi3yx9gAQ&sa=X&ved=2ahUKEwi0mqWChL2JAxW6g4kEHUYSDhIQip4GKBZ6BAgjEG0\",\n",
            "      \"serpapi_link\": \"https://serpapi.com/search.json?device=desktop&engine=google&google_domain=google.com&q=box+coffee\"\n",
            "    },\n",
            "    {\n",
            "      \"query\": \"Recipe\",\n",
            "      \"link\": \"https://www.google.com/search?q=recipe+coffee&shoprs=GBIqBmNvZmZlZTIKCBISBlJlY2lwZWAB&sa=X&ved=2ahUKEwi0mqWChL2JAxW6g4kEHUYSDhIQip4GKBd6BAgjEG4\",\n",
            "      \"serpapi_link\": \"https://serpapi.com/search.json?device=desktop&engine=google&google_domain=google.com&q=recipe+coffee\"\n",
            "    },\n",
            "    {\n",
            "      \"query\": \"For Sale\",\n",
            "      \"link\": \"https://www.google.com/search?q=coffee+for+sale&shoprs=GBIqBmNvZmZlZTIMCBISCEZvciBTYWxlYAE&sa=X&ved=2ahUKEwi0mqWChL2JAxW6g4kEHUYSDhIQip4GKBh6BAgjEG8\",\n",
            "      \"serpapi_link\": \"https://serpapi.com/search.json?device=desktop&engine=google&google_domain=google.com&q=coffee+for+sale\"\n",
            "    },\n",
            "    {\n",
            "      \"query\": \"Amazon\",\n",
            "      \"link\": \"https://www.google.com/search?q=amazon+coffee&shoprs=GAIqBmNvZmZlZTIKCAISBkFtYXpvbli3yx9gAQ&sa=X&ved=2ahUKEwi0mqWChL2JAxW6g4kEHUYSDhIQip4GKBl6BAgjEHA\",\n",
            "      \"serpapi_link\": \"https://serpapi.com/search.json?device=desktop&engine=google&google_domain=google.com&q=amazon+coffee\",\n",
            "      \"thumbnail\": \"https://serpapi.com/searches/6725c8153c95757cb8c6e2e6/images/3a59199fb5017a80e162bccc85e3f5088adf364eaf7662593508d13eb4ec5903.png\"\n",
            "    },\n",
            "    {\n",
            "      \"query\": \"Reviews\",\n",
            "      \"link\": \"https://www.google.com/search?q=reviews+coffee&shoprs=GBIqBmNvZmZlZTILCBISB1Jldmlld3NgAQ&sa=X&ved=2ahUKEwi0mqWChL2JAxW6g4kEHUYSDhIQip4GKBp6BAgjEHI\",\n",
            "      \"serpapi_link\": \"https://serpapi.com/search.json?device=desktop&engine=google&google_domain=google.com&q=reviews+coffee\"\n",
            "    }\n",
            "  ],\n",
            "  \"discussions_and_forums\": [\n",
            "    {\n",
            "      \"title\": \"What is a \\\"coffee\\\"\",\n",
            "      \"link\": \"https://www.reddit.com/r/espresso/comments/1c1d6t7/what_is_a_coffee/\",\n",
            "      \"date\": \"6mo ago\",\n",
            "      \"extensions\": [\n",
            "        \"r/espresso\",\n",
            "        \"30+ comments\"\n",
            "      ],\n",
            "      \"source\": \"Reddit\"\n",
            "    },\n",
            "    {\n",
            "      \"title\": \"Tell me about coffee\",\n",
            "      \"link\": \"https://www.hornfans.com/threads/tell-me-about-coffee.9587/\",\n",
            "      \"date\": \"7mo ago\",\n",
            "      \"source\": \"Hornfans\"\n",
            "    },\n",
            "    {\n",
            "      \"title\": \"ELI5: Coffee\",\n",
            "      \"link\": \"https://www.reddit.com/r/explainlikeimfive/comments/2figk5/eli5_coffee/\",\n",
            "      \"date\": \"10y ago\",\n",
            "      \"extensions\": [\n",
            "        \"r/explainlikeimfive\",\n",
            "        \"9 comments\"\n",
            "      ],\n",
            "      \"source\": \"Reddit\"\n",
            "    }\n",
            "  ],\n",
            "  \"pagination\": {\n",
            "    \"current\": 1,\n",
            "    \"next\": \"https://www.google.com/search?q=coffee&sca_esv=b442d26e8f1a3023&ei=FcglZ_S7G7qHptQPxqS4kAE&start=10&sa=N&sstk=AagrsujRMfqL_Z1V8C8XJGdN7V00MOtYRUeT1xnuV28C_HDvbdaRDtw1WvtUSuHc_wvj8MHqc_ncYokJbFPdM0OywJz8xO9OyL51cQ&ved=2ahUKEwi0mqWChL2JAxW6g4kEHUYSDhIQ8NMDegQIChAW\",\n",
            "    \"other_pages\": {\n",
            "      \"2\": \"https://www.google.com/search?q=coffee&sca_esv=b442d26e8f1a3023&ei=FcglZ_S7G7qHptQPxqS4kAE&start=10&sa=N&sstk=AagrsujRMfqL_Z1V8C8XJGdN7V00MOtYRUeT1xnuV28C_HDvbdaRDtw1WvtUSuHc_wvj8MHqc_ncYokJbFPdM0OywJz8xO9OyL51cQ&ved=2ahUKEwi0mqWChL2JAxW6g4kEHUYSDhIQ8tMDegQIChAE\",\n",
            "      \"3\": \"https://www.google.com/search?q=coffee&sca_esv=b442d26e8f1a3023&ei=FcglZ_S7G7qHptQPxqS4kAE&start=20&sa=N&sstk=AagrsujRMfqL_Z1V8C8XJGdN7V00MOtYRUeT1xnuV28C_HDvbdaRDtw1WvtUSuHc_wvj8MHqc_ncYokJbFPdM0OywJz8xO9OyL51cQ&ved=2ahUKEwi0mqWChL2JAxW6g4kEHUYSDhIQ8tMDegQIChAG\",\n",
            "      \"4\": \"https://www.google.com/search?q=coffee&sca_esv=b442d26e8f1a3023&ei=FcglZ_S7G7qHptQPxqS4kAE&start=30&sa=N&sstk=AagrsujRMfqL_Z1V8C8XJGdN7V00MOtYRUeT1xnuV28C_HDvbdaRDtw1WvtUSuHc_wvj8MHqc_ncYokJbFPdM0OywJz8xO9OyL51cQ&ved=2ahUKEwi0mqWChL2JAxW6g4kEHUYSDhIQ8tMDegQIChAI\",\n",
            "      \"5\": \"https://www.google.com/search?q=coffee&sca_esv=b442d26e8f1a3023&ei=FcglZ_S7G7qHptQPxqS4kAE&start=40&sa=N&sstk=AagrsujRMfqL_Z1V8C8XJGdN7V00MOtYRUeT1xnuV28C_HDvbdaRDtw1WvtUSuHc_wvj8MHqc_ncYokJbFPdM0OywJz8xO9OyL51cQ&ved=2ahUKEwi0mqWChL2JAxW6g4kEHUYSDhIQ8tMDegQIChAK\",\n",
            "      \"6\": \"https://www.google.com/search?q=coffee&sca_esv=b442d26e8f1a3023&ei=FcglZ_S7G7qHptQPxqS4kAE&start=50&sa=N&sstk=AagrsujRMfqL_Z1V8C8XJGdN7V00MOtYRUeT1xnuV28C_HDvbdaRDtw1WvtUSuHc_wvj8MHqc_ncYokJbFPdM0OywJz8xO9OyL51cQ&ved=2ahUKEwi0mqWChL2JAxW6g4kEHUYSDhIQ8tMDegQIChAM\",\n",
            "      \"7\": \"https://www.google.com/search?q=coffee&sca_esv=b442d26e8f1a3023&ei=FcglZ_S7G7qHptQPxqS4kAE&start=60&sa=N&sstk=AagrsujRMfqL_Z1V8C8XJGdN7V00MOtYRUeT1xnuV28C_HDvbdaRDtw1WvtUSuHc_wvj8MHqc_ncYokJbFPdM0OywJz8xO9OyL51cQ&ved=2ahUKEwi0mqWChL2JAxW6g4kEHUYSDhIQ8tMDegQIChAO\",\n",
            "      \"8\": \"https://www.google.com/search?q=coffee&sca_esv=b442d26e8f1a3023&ei=FcglZ_S7G7qHptQPxqS4kAE&start=70&sa=N&sstk=AagrsujRMfqL_Z1V8C8XJGdN7V00MOtYRUeT1xnuV28C_HDvbdaRDtw1WvtUSuHc_wvj8MHqc_ncYokJbFPdM0OywJz8xO9OyL51cQ&ved=2ahUKEwi0mqWChL2JAxW6g4kEHUYSDhIQ8tMDegQIChAQ\",\n",
            "      \"9\": \"https://www.google.com/search?q=coffee&sca_esv=b442d26e8f1a3023&ei=FcglZ_S7G7qHptQPxqS4kAE&start=80&sa=N&sstk=AagrsujRMfqL_Z1V8C8XJGdN7V00MOtYRUeT1xnuV28C_HDvbdaRDtw1WvtUSuHc_wvj8MHqc_ncYokJbFPdM0OywJz8xO9OyL51cQ&ved=2ahUKEwi0mqWChL2JAxW6g4kEHUYSDhIQ8tMDegQIChAS\",\n",
            "      \"10\": \"https://www.google.com/search?q=coffee&sca_esv=b442d26e8f1a3023&ei=FcglZ_S7G7qHptQPxqS4kAE&start=90&sa=N&sstk=AagrsujRMfqL_Z1V8C8XJGdN7V00MOtYRUeT1xnuV28C_HDvbdaRDtw1WvtUSuHc_wvj8MHqc_ncYokJbFPdM0OywJz8xO9OyL51cQ&ved=2ahUKEwi0mqWChL2JAxW6g4kEHUYSDhIQ8tMDegQIChAU\"\n",
            "    }\n",
            "  },\n",
            "  \"serpapi_pagination\": {\n",
            "    \"current\": 1,\n",
            "    \"next_link\": \"https://serpapi.com/search.json?device=desktop&engine=google&google_domain=google.com&q=coffee&start=10\",\n",
            "    \"next\": \"https://serpapi.com/search.json?device=desktop&engine=google&google_domain=google.com&q=coffee&start=10\",\n",
            "    \"other_pages\": {\n",
            "      \"2\": \"https://serpapi.com/search.json?device=desktop&engine=google&google_domain=google.com&q=coffee&start=10\",\n",
            "      \"3\": \"https://serpapi.com/search.json?device=desktop&engine=google&google_domain=google.com&q=coffee&start=20\",\n",
            "      \"4\": \"https://serpapi.com/search.json?device=desktop&engine=google&google_domain=google.com&q=coffee&start=30\",\n",
            "      \"5\": \"https://serpapi.com/search.json?device=desktop&engine=google&google_domain=google.com&q=coffee&start=40\",\n",
            "      \"6\": \"https://serpapi.com/search.json?device=desktop&engine=google&google_domain=google.com&q=coffee&start=50\",\n",
            "      \"7\": \"https://serpapi.com/search.json?device=desktop&engine=google&google_domain=google.com&q=coffee&start=60\",\n",
            "      \"8\": \"https://serpapi.com/search.json?device=desktop&engine=google&google_domain=google.com&q=coffee&start=70\",\n",
            "      \"9\": \"https://serpapi.com/search.json?device=desktop&engine=google&google_domain=google.com&q=coffee&start=80\",\n",
            "      \"10\": \"https://serpapi.com/search.json?device=desktop&engine=google&google_domain=google.com&q=coffee&start=90\"\n",
            "    }\n",
            "  }\n",
            "}\n"
          ]
        }
      ]
    },
    {
      "cell_type": "code",
      "execution_count": 37,
      "metadata": {
        "id": "KklJP-XSTqLG"
      },
      "outputs": [],
      "source": [
        "contexts = \"\\n---\\n\".join(\n",
        "    [\"\\n\".join([x[\"title\"], x[\"snippet\"], x[\"link\"]]) for x in results]\n",
        ")"
      ]
    },
    {
      "cell_type": "code",
      "execution_count": 38,
      "metadata": {
        "colab": {
          "base_uri": "https://localhost:8080/"
        },
        "id": "_b083gU3T-8K",
        "outputId": "24d6dd2a-3274-4ee3-b389-6a12232fd1ec"
      },
      "outputs": [
        {
          "output_type": "stream",
          "name": "stdout",
          "text": [
            "Coffee\n",
            "Coffee is a beverage brewed from roasted coffee beans. Darkly colored, bitter, and slightly acidic, coffee has a stimulating effect on humans, primarily due ...\n",
            "https://en.wikipedia.org/wiki/Coffee\n",
            "---\n",
            "Blue Bottle Coffee | Fresh Roasted Specialty Coffee\n",
            "Blue Bottle Coffee is a specialty coffee roaster with cafes in LA, SF, NYC, & Japan. Shop our freshly roasted specialty coffee online & in-store.\n",
            "https://bluebottlecoffee.com/?srsltid=AfmBOorNELJByXvMGRc5CjvuwtUHvfIn-tmlEraLG6WQFTKq62tRmTzK\n",
            "---\n",
            "Peet's Coffee | The Original Craft Coffee, Est. 1966\n",
            "Since 1966, Peet's Coffee has sourced and offered superior coffees and teas and adhering to strict high-quality and taste standards. Shop today.\n",
            "https://www.peets.com/\n",
            "---\n",
            "Starbucks Coffee Company\n",
            "More than just great coffee. Explore the menu, sign up for Starbucks® Rewards, manage your gift card and more.\n",
            "https://www.starbucks.com/\n",
            "---\n",
            "What is Coffee?\n",
            "Coffee traces its origin to a genus of plants known as Coffea. Within the genus there are over 500 genera and 6,000 species of tropical trees and shrubs.\n",
            "https://www.ncausa.org/about-coffee/what-is-coffee\n",
            "---\n",
            "Klatch Coffee | Where Coffee Is The Conversation\n",
            "Take our interactive quiz to find the coffee that suits your taste. In just a few clicks, we'll unveil your ideal roast and match you with the perfect brew.\n",
            "https://www.klatchcoffee.com/?srsltid=AfmBOoo9liuj3208cHLZ-U87B9TlCLD1vih69HyMzsOwLUADCL1JLArC\n",
            "---\n",
            "Coffee | Origin, Types, Uses, History, & Facts\n",
            "Coffee is a beverage brewed from the roasted and ground seeds of the tropical evergreen coffee plant.\n",
            "https://www.britannica.com/topic/coffee\n",
            "---\n",
            "Coffee health benefits: Diabetes, heart health, liver cancer, ...\n",
            "In some cases, coffee may be good for health, as it may offer benefits such as lowering the risk of type 2 diabetes and helping people lose weight.\n",
            "https://www.medicalnewstoday.com/articles/270202\n",
            "---\n",
            "The Coffee Bean & Tea Leaf | CBTL\n",
            "We're passionate about delivering the best handcrafted products and take pride in the journey from seed to cup.\n",
            "https://coffeebean.com/\n"
          ]
        }
      ],
      "source": [
        "print(contexts)"
      ]
    },
    {
      "cell_type": "markdown",
      "metadata": {
        "id": "ZtmOt4nQH4KS"
      },
      "source": [
        "We put this process into a tool:"
      ]
    },
    {
      "cell_type": "code",
      "execution_count": 39,
      "metadata": {
        "id": "TYmOL54xH6GH"
      },
      "outputs": [],
      "source": [
        "@tool(\"web_search\")\n",
        "def web_search(query: str):\n",
        "    \"\"\"Finds general knowledge information using Google search. Can also be used\n",
        "    to augment more 'general' knowledge to a previous specialist query.\"\"\"\n",
        "    search = GoogleSearch({\n",
        "        **serpapi_params,\n",
        "        \"q\": query,\n",
        "        \"num\": 5\n",
        "    })\n",
        "    results = search.get_dict()[\"organic_results\"]\n",
        "    contexts = \"\\n---\\n\".join(\n",
        "        [\"\\n\".join([x[\"title\"], x[\"snippet\"], x[\"link\"]]) for x in results]\n",
        "    )\n",
        "    return contexts"
      ]
    },
    {
      "cell_type": "markdown",
      "metadata": {
        "id": "oCBZjWfAIN0N"
      },
      "source": [
        "### RAG Tools"
      ]
    },
    {
      "cell_type": "markdown",
      "metadata": {
        "id": "zY37AFP6RBOP"
      },
      "source": [
        "We provide two RAG-focused tools for our agent. The `rag_search` allows the agent to perform a simple RAG search for some information across _all_ indexed research papers. The `rag_search_filter` also searches, but _within_ a specific paper which is filtered for via the `arxiv_id` parameter.\n",
        "\n",
        "We also define the `format_rag_contexts` function to handle the transformation of our Pinecone results from a JSON object to a readble plaintext format."
      ]
    },
    {
      "cell_type": "code",
      "execution_count": 40,
      "metadata": {
        "id": "SPcrbQfdRrda"
      },
      "outputs": [],
      "source": [
        "from langchain_core.tools import tool\n",
        "\n",
        "def format_rag_contexts(matches: list):\n",
        "    contexts = []\n",
        "    for x in matches:\n",
        "        text = (\n",
        "            f\"Title: {x['metadata']['title']}\\n\"\n",
        "            f\"Content: {x['metadata']['content']}\\n\"\n",
        "            f\"ArXiv ID: {x['metadata']['arxiv_id']}\\n\"\n",
        "            f\"Related Papers: {x['metadata']['references']}\\n\"\n",
        "        )\n",
        "        contexts.append(text)\n",
        "    context_str = \"\\n---\\n\".join(contexts)\n",
        "    return context_str\n",
        "\n",
        "@tool(\"rag_search_filter\")\n",
        "def rag_search_filter(query: str, arxiv_id: str):\n",
        "    \"\"\"Finds information from our ArXiv database using a natural language query\n",
        "    and a specific ArXiv ID. Allows us to learn more details about a specific paper.\"\"\"\n",
        "    xq = encoder([query])\n",
        "    xc = index.query(vector=xq, top_k=6, include_metadata=True, filter={\"arxiv_id\": arxiv_id})\n",
        "    context_str = format_rag_contexts(xc[\"matches\"])\n",
        "    return context_str\n",
        "\n",
        "@tool(\"rag_search\")\n",
        "def rag_search(query: str):\n",
        "    \"\"\"Finds specialist information on AI using a natural language query.\"\"\"\n",
        "    xq = encoder([query])\n",
        "    xc = index.query(vector=xq, top_k=2, include_metadata=True)\n",
        "    context_str = format_rag_contexts(xc[\"matches\"])\n",
        "    return context_str"
      ]
    },
    {
      "cell_type": "markdown",
      "metadata": {
        "id": "KDBmpJ0URzKS"
      },
      "source": [
        "### Final Answer"
      ]
    },
    {
      "cell_type": "markdown",
      "metadata": {
        "id": "bWVKYuQ6R6nB"
      },
      "source": [
        "Finally, we define a \"final answer\" tool. This isn't a tool in the usual sense, instead we use it to force a particular output format from our LLM via the function/tool calling."
      ]
    },
    {
      "cell_type": "code",
      "execution_count": 41,
      "metadata": {
        "id": "UIjAlcHdfJCG"
      },
      "outputs": [],
      "source": [
        "@tool(\"final_answer\")\n",
        "def final_answer(\n",
        "    introduction: str,\n",
        "    research_steps: str,\n",
        "    main_body: str,\n",
        "    conclusion: str,\n",
        "    sources: str\n",
        "):\n",
        "    \"\"\"Returns a natural language response to the user in the form of a research\n",
        "    report. There are several sections to this report, those are:\n",
        "    - `introduction`: a short paragraph introducing the user's question and the\n",
        "    topic we are researching.\n",
        "    - `research_steps`: a few bullet points explaining the steps that were taken\n",
        "    to research your report.\n",
        "    - `main_body`: this is where the bulk of high quality and concise\n",
        "    information that answers the user's question belongs. It is 3-4 paragraphs\n",
        "    long in length.\n",
        "    - `conclusion`: this is a short single paragraph conclusion providing a\n",
        "    concise but sophisticated view on what was found.\n",
        "    - `sources`: a bulletpoint list provided detailed sources for all information\n",
        "    referenced during the research process\n",
        "    \"\"\"\n",
        "    if type(research_steps) is list:\n",
        "        research_steps = \"\\n\".join([f\"- {r}\" for r in research_steps])\n",
        "    if type(sources) is list:\n",
        "        sources = \"\\n\".join([f\"- {s}\" for s in sources])\n",
        "    return \"\""
      ]
    },
    {
      "cell_type": "markdown",
      "metadata": {
        "id": "E8OsQ3tIS-_t"
      },
      "source": [
        "## Initialize the \"Oracle\""
      ]
    },
    {
      "cell_type": "markdown",
      "metadata": {
        "id": "YykLRD5rXfr5"
      },
      "source": [
        "The **Oracle** LLM is our graph's decision maker. It decides which path we should take down our graph. It functions similarly to an agent but is much simpler and reliable.\n",
        "\n",
        "The Oracle consists of an LLM provided with a set of potential function calls (ie our tools) that it can decide to use — we force it to use _at least_ one of those tool using the `tool_choice=\"any\"` setting (see below). Our Oracle only makes the decision to use a tool, it doesn't execute the tool code itself (we do that seperately in our graph)."
      ]
    },
    {
      "cell_type": "markdown",
      "metadata": {
        "id": "lRlREI1wYSd0"
      },
      "source": [
        "### Oracle Prompt"
      ]
    },
    {
      "cell_type": "markdown",
      "metadata": {
        "id": "OFE638_CYUbf"
      },
      "source": [
        "Our prompt for the Oracle will emphasize it's decision making ability within the `system_prompt`, leave a placeholder for us to later insert `chat_history`, and provide a place for us to insert the user `input`."
      ]
    },
    {
      "cell_type": "code",
      "execution_count": 42,
      "metadata": {
        "id": "FBZrvHDAYmOP"
      },
      "outputs": [],
      "source": [
        "from langchain_core.prompts import ChatPromptTemplate, MessagesPlaceholder\n",
        "\n",
        "system_prompt = \"\"\"You are the oracle, the great AI decision maker.\n",
        "Given the user's query you must decide what to do with it based on the\n",
        "list of tools provided to you.\n",
        "\n",
        "If you see that a tool has been used (in the scratchpad) with a particular\n",
        "query, do NOT use that same tool with the same query again. Also, do NOT use\n",
        "any tool more than twice (ie, if the tool appears in the scratchpad twice, do\n",
        "not use it again).\n",
        "\n",
        "You should aim to collect information from a diverse range of sources before\n",
        "providing the answer to the user. Once you have collected plenty of information\n",
        "to answer the user's question (stored in the scratchpad) use the final_answer\n",
        "tool.\"\"\"\n",
        "\n",
        "prompt = ChatPromptTemplate.from_messages([\n",
        "    (\"system\", system_prompt),\n",
        "    MessagesPlaceholder(variable_name=\"chat_history\"),\n",
        "    (\"user\", \"{input}\"),\n",
        "    (\"assistant\", \"scratchpad: {scratchpad}\"),\n",
        "])"
      ]
    },
    {
      "cell_type": "markdown",
      "metadata": {
        "id": "euGh0137Ynxv"
      },
      "source": [
        "Next, we must initialize our `llm` (for this we use `gpt-4o`) and then create the _runnable_ pipeline of our Oracle.\n",
        "\n",
        "The runnable connects our inputs (the user `input` and `chat_history`) to our `prompt`, and our `prompt` to our `llm`. It is also where we _bind_ our tools to the LLM and enforce function calling via `tool_choice=\"any\"`."
      ]
    },
    {
      "cell_type": "code",
      "execution_count": 43,
      "metadata": {
        "id": "0gKxRe4tTBHX"
      },
      "outputs": [],
      "source": [
        "from langchain_core.messages import ToolCall, ToolMessage\n",
        "from langchain_openai import ChatOpenAI\n",
        "\n",
        "llm = ChatOpenAI(\n",
        "    model=\"gpt-4o\",\n",
        "    openai_api_key=os.environ[\"OPENAI_API_KEY\"],\n",
        "    temperature=0\n",
        ")\n",
        "\n",
        "tools=[\n",
        "    rag_search_filter,\n",
        "    rag_search,\n",
        "    fetch_arxiv,\n",
        "    web_search,\n",
        "    final_answer\n",
        "]\n",
        "\n",
        "# define a function to transform intermediate_steps from list\n",
        "# of AgentAction to scratchpad string\n",
        "def create_scratchpad(intermediate_steps: list[AgentAction]):\n",
        "    research_steps = []\n",
        "    for i, action in enumerate(intermediate_steps):\n",
        "        if action.log != \"TBD\":\n",
        "            # this was the ToolExecution\n",
        "            research_steps.append(\n",
        "                f\"Tool: {action.tool}, input: {action.tool_input}\\n\"\n",
        "                f\"Output: {action.log}\"\n",
        "            )\n",
        "    return \"\\n---\\n\".join(research_steps)\n",
        "\n",
        "oracle = (\n",
        "    {\n",
        "        \"input\": lambda x: x[\"input\"],\n",
        "        \"chat_history\": lambda x: x[\"chat_history\"],\n",
        "        \"scratchpad\": lambda x: create_scratchpad(\n",
        "            intermediate_steps=x[\"intermediate_steps\"]\n",
        "        ),\n",
        "    }\n",
        "    | prompt\n",
        "    | llm.bind_tools(tools, tool_choice=\"any\")\n",
        ")"
      ]
    },
    {
      "cell_type": "markdown",
      "metadata": {
        "id": "ESCSupKbTuVR"
      },
      "source": [
        "Test the agent quickly to confirm it is functional:"
      ]
    },
    {
      "cell_type": "code",
      "execution_count": 48,
      "metadata": {
        "colab": {
          "base_uri": "https://localhost:8080/"
        },
        "id": "p5xMQ8ajTxFQ",
        "outputId": "38831917-7906-4843-ea04-5160475eed7e"
      },
      "outputs": [
        {
          "output_type": "execute_result",
          "data": {
            "text/plain": [
              "AIMessage(content='', additional_kwargs={'tool_calls': [{'id': 'call_YJCeefUhOJ57AAkGY1f2g9JM', 'function': {'arguments': '{\"query\": \"tabular LLM research since July 2024\"}', 'name': 'rag_search'}, 'type': 'function'}, {'id': 'call_L0FfCC8nTYXZVF4Bgl2S1KLH', 'function': {'arguments': '{\"query\": \"tabular LLM research since July 2024\"}', 'name': 'web_search'}, 'type': 'function'}]}, response_metadata={'token_usage': {'completion_tokens': 63, 'prompt_tokens': 544, 'total_tokens': 607, 'completion_tokens_details': {'audio_tokens': None, 'reasoning_tokens': 0}, 'prompt_tokens_details': {'audio_tokens': None, 'cached_tokens': 0}}, 'model_name': 'gpt-4o-2024-08-06', 'system_fingerprint': 'fp_45cf54deae', 'finish_reason': 'tool_calls', 'logprobs': None}, id='run-070a5376-d853-4097-b96d-1b3b8c4d4411-0', tool_calls=[{'name': 'rag_search', 'args': {'query': 'tabular LLM research since July 2024'}, 'id': 'call_YJCeefUhOJ57AAkGY1f2g9JM'}, {'name': 'web_search', 'args': {'query': 'tabular LLM research since July 2024'}, 'id': 'call_L0FfCC8nTYXZVF4Bgl2S1KLH'}], usage_metadata={'input_tokens': 544, 'output_tokens': 63, 'total_tokens': 607})"
            ]
          },
          "metadata": {},
          "execution_count": 48
        }
      ],
      "source": [
        "inputs = {\n",
        "    \"input\": \"any tabular LLM research since July 2024\",\n",
        "    \"chat_history\": [],\n",
        "    \"intermediate_steps\": [],\n",
        "}\n",
        "out = oracle.invoke(inputs)\n",
        "out"
      ]
    },
    {
      "cell_type": "markdown",
      "metadata": {
        "id": "zTwZ-7ZtZXq2"
      },
      "source": [
        "It is running but we are returning a lot of output here, we can narrow this down to what we need — ie, the chosen tool name and generated input args for the tool."
      ]
    },
    {
      "cell_type": "code",
      "execution_count": 49,
      "metadata": {
        "colab": {
          "base_uri": "https://localhost:8080/",
          "height": 36
        },
        "id": "u7wUMr2BUBt7",
        "outputId": "ec542cb3-ed11-45f7-992a-f25ca9efaa71"
      },
      "outputs": [
        {
          "output_type": "execute_result",
          "data": {
            "text/plain": [
              "'rag_search'"
            ],
            "application/vnd.google.colaboratory.intrinsic+json": {
              "type": "string"
            }
          },
          "metadata": {},
          "execution_count": 49
        }
      ],
      "source": [
        "out.tool_calls[0][\"name\"]"
      ]
    },
    {
      "cell_type": "code",
      "execution_count": 50,
      "metadata": {
        "colab": {
          "base_uri": "https://localhost:8080/"
        },
        "id": "se0M1pbnaFyi",
        "outputId": "0ce403c7-196f-4306-e217-841596630881"
      },
      "outputs": [
        {
          "output_type": "execute_result",
          "data": {
            "text/plain": [
              "{'query': 'tabular LLM research since July 2024'}"
            ]
          },
          "metadata": {},
          "execution_count": 50
        }
      ],
      "source": [
        "out.tool_calls[0][\"args\"]"
      ]
    },
    {
      "cell_type": "markdown",
      "metadata": {
        "id": "lbO6IMEZaK4q"
      },
      "source": [
        "We can see now that our Oracle decided to use the `web_search` tool with a `query` of `\"interesting facts about dogs\"` — a good choice."
      ]
    },
    {
      "cell_type": "markdown",
      "metadata": {
        "id": "h6pAxC9kcY1F"
      },
      "source": [
        "## Define Nodes for Graph"
      ]
    },
    {
      "cell_type": "markdown",
      "metadata": {
        "id": "o8ykjVWoa0kz"
      },
      "source": [
        "We will be passing the tool use decision to our `router` which will _route_ the output to the chosen node component to run (we define these below) based on the `out.tool_calls[0][\"name\"]` value."
      ]
    },
    {
      "cell_type": "code",
      "execution_count": 51,
      "metadata": {
        "id": "LcRVPIuAgcoG"
      },
      "outputs": [],
      "source": [
        "def run_oracle(state: list):\n",
        "    print(\"run_oracle\")\n",
        "    print(f\"intermediate_steps: {state['intermediate_steps']}\")\n",
        "    out = oracle.invoke(state)\n",
        "    tool_name = out.tool_calls[0][\"name\"]\n",
        "    tool_args = out.tool_calls[0][\"args\"]\n",
        "    action_out = AgentAction(\n",
        "        tool=tool_name,\n",
        "        tool_input=tool_args,\n",
        "        log=\"TBD\"\n",
        "    )\n",
        "    return {\n",
        "        \"intermediate_steps\": [action_out]\n",
        "    }\n",
        "\n",
        "def router(state: list):\n",
        "    # return the tool name to use\n",
        "    if isinstance(state[\"intermediate_steps\"], list):\n",
        "        return state[\"intermediate_steps\"][-1].tool\n",
        "    else:\n",
        "        # if we output bad format go to final answer\n",
        "        print(\"Router invalid format\")\n",
        "        return \"final_answer\""
      ]
    },
    {
      "cell_type": "markdown",
      "metadata": {
        "id": "PtBEhoDOSOCQ"
      },
      "source": [
        "All of our tools can be run using the same function logic, which we define with `run_tool`. The input parameters to our tool call and the resultant output are added to our graph state's `intermediate_steps` parameter."
      ]
    },
    {
      "cell_type": "code",
      "execution_count": 52,
      "metadata": {
        "id": "-JGJGvDVcbvq"
      },
      "outputs": [],
      "source": [
        "tool_str_to_func = {\n",
        "    \"rag_search_filter\": rag_search_filter,\n",
        "    \"rag_search\": rag_search,\n",
        "    \"fetch_arxiv\": fetch_arxiv,\n",
        "    \"web_search\": web_search,\n",
        "    \"final_answer\": final_answer\n",
        "}\n",
        "\n",
        "def run_tool(state: list):\n",
        "    # use this as helper function so we repeat less code\n",
        "    tool_name = state[\"intermediate_steps\"][-1].tool\n",
        "    tool_args = state[\"intermediate_steps\"][-1].tool_input\n",
        "    print(f\"{tool_name}.invoke(input={tool_args})\")\n",
        "    # run tool\n",
        "    out = tool_str_to_func[tool_name].invoke(input=tool_args)\n",
        "    action_out = AgentAction(\n",
        "        tool=tool_name,\n",
        "        tool_input=tool_args,\n",
        "        log=str(out)\n",
        "    )\n",
        "    return {\"intermediate_steps\": [action_out]}"
      ]
    },
    {
      "cell_type": "markdown",
      "metadata": {
        "id": "zwv4EsTKeZzh"
      },
      "source": [
        "## Define Graph"
      ]
    },
    {
      "cell_type": "code",
      "execution_count": 53,
      "metadata": {
        "id": "LAkcBE5pebXv"
      },
      "outputs": [],
      "source": [
        "from langgraph.graph import StateGraph, END\n",
        "\n",
        "graph = StateGraph(AgentState)\n",
        "\n",
        "graph.add_node(\"oracle\", run_oracle)\n",
        "graph.add_node(\"rag_search_filter\", run_tool)\n",
        "graph.add_node(\"rag_search\", run_tool)\n",
        "graph.add_node(\"fetch_arxiv\", run_tool)\n",
        "graph.add_node(\"web_search\", run_tool)\n",
        "graph.add_node(\"final_answer\", run_tool)\n",
        "\n",
        "graph.set_entry_point(\"oracle\")\n",
        "\n",
        "graph.add_conditional_edges(\n",
        "    source=\"oracle\",  # where in graph to start\n",
        "    path=router,  # function to determine which node is called\n",
        ")\n",
        "\n",
        "# create edges from each tool back to the oracle\n",
        "for tool_obj in tools:\n",
        "    if tool_obj.name != \"final_answer\":\n",
        "        graph.add_edge(tool_obj.name, \"oracle\")\n",
        "\n",
        "# if anything goes to final answer, it must then move to END\n",
        "graph.add_edge(\"final_answer\", END)\n",
        "\n",
        "runnable = graph.compile()"
      ]
    },
    {
      "cell_type": "code",
      "execution_count": 54,
      "metadata": {
        "colab": {
          "base_uri": "https://localhost:8080/",
          "height": 318
        },
        "id": "EmwkoQkthb__",
        "outputId": "4a3d2f79-0101-49ef-8bdb-09de91cd8657"
      },
      "outputs": [
        {
          "output_type": "execute_result",
          "data": {
            "image/png": "[encoded data removed]",
            "text/plain": [
              "<IPython.core.display.Image object>"
            ]
          },
          "metadata": {},
          "execution_count": 54
        }
      ],
      "source": [
        "from IPython.display import Image\n",
        "\n",
        "Image(runnable.get_graph().draw_png())"
      ]
    },
    {
      "cell_type": "markdown",
      "metadata": {
        "id": "QmrXAdCwiN8N"
      },
      "source": [
        "## Building Reports"
      ]
    },
    {
      "cell_type": "markdown",
      "metadata": {
        "id": "nPJiet2niPnQ"
      },
      "source": [
        "Let's test our research agent. First, I want to try on something simple (although not within the intended use-case of our agent):"
      ]
    },
    {
      "cell_type": "code",
      "execution_count": 55,
      "metadata": {
        "colab": {
          "base_uri": "https://localhost:8080/"
        },
        "id": "eghr8ZBI-IJL",
        "outputId": "b50f8a16-e045-4be5-e6ba-306114464dc2"
      },
      "outputs": [
        {
          "output_type": "stream",
          "name": "stdout",
          "text": [
            "run_oracle\n",
            "intermediate_steps: []\n",
            "web_search.invoke(input={'query': 'interesting facts about dogs'})\n",
            "run_oracle\n",
            "intermediate_steps: [AgentAction(tool='web_search', tool_input={'query': 'interesting facts about dogs'}, log='TBD'), AgentAction(tool='web_search', tool_input={'query': 'interesting facts about dogs'}, log=\"30 Fun and Fascinating Dog Facts\\n6. A dog's sense of smell is legendary, but did you know that their nose has as many as 300 million receptors? In comparison, a human nose has about 5 million.\\nhttps://www.akc.org/expert-advice/lifestyle/dog-facts/\\n---\\nInteresting Facts About Dogs\\n– When a puppy is born, he is blind, deaf, and toothless. – All dogs, regardless of breed, are direct descendants of wolves and technically of the same species.\\nhttps://www.mspca.org/pet_resources/interesting-facts-about-dogs/\\n---\\nDog facts for kids!\\nDogs were the first animal domesticated (tamed) by humans, over 20,000 years ago! As they evolved from wolves, their skulls, teeth and paws shrank, and they ...\\nhttps://www.natgeokids.com/uk/discover/animals/general-animals/dog-facts/\\n---\\n23 Amazing Facts About Dogs You Probably Didn't Know\\n1. Dogs have a sense of time. It's been proven that they know the difference between a hour and five. If conditioned to, they can predict future events, such as ...\\nhttps://www.thedrakecenter.com/services/dogs/blog/23-amazing-facts-about-dogs-you-probably-didnt-know\")]\n",
            "final_answer.invoke(input={'introduction': \"Dogs are fascinating creatures with a rich history and unique characteristics that make them beloved companions to humans. Let's explore some intriguing facts about these loyal animals.\", 'research_steps': '- Conducted a web search to gather interesting facts about dogs from various sources.', 'main_body': \"Dogs have been a part of human life for thousands of years, being the first animals to be domesticated over 20,000 years ago. This long history has led to a deep bond between humans and dogs, with dogs evolving from wolves and undergoing significant changes in their physical characteristics, such as smaller skulls, teeth, and paws.\\n\\nOne of the most remarkable features of dogs is their sense of smell. A dog's nose is equipped with up to 300 million olfactory receptors, compared to a human's mere 5 million. This extraordinary sense of smell allows dogs to perform tasks such as detecting drugs, finding missing persons, and even identifying certain medical conditions in humans.\\n\\nAdditionally, dogs have a keen sense of time. Studies have shown that they can distinguish between different lengths of time and can be conditioned to anticipate future events. This ability is part of what makes them such excellent companions, as they can adapt to human schedules and routines.\\n\\nMoreover, when puppies are born, they are blind, deaf, and toothless, relying entirely on their mother and their sense of touch and smell to navigate the world. As they grow, they develop the senses and skills that make them the playful and intelligent animals we know and love.\", 'conclusion': \"Dogs are not only man's best friend but also remarkable creatures with unique abilities and a rich history intertwined with human development. Their extraordinary senses and adaptability continue to make them invaluable companions in various aspects of life.\", 'sources': '- American Kennel Club: https://www.akc.org/expert-advice/lifestyle/dog-facts/\\n- MSPCA: https://www.mspca.org/pet_resources/interesting-facts-about-dogs/\\n- National Geographic Kids: https://www.natgeokids.com/uk/discover/animals/general-animals/dog-facts/\\n- The Drake Center: https://www.thedrakecenter.com/services/dogs/blog/23-amazing-facts-about-dogs-you-probably-didnt-know'})\n"
          ]
        }
      ],
      "source": [
        "out = runnable.invoke({\n",
        "    \"input\": \"tell me something interesting about dogs\",\n",
        "    \"chat_history\": [],\n",
        "})"
      ]
    },
    {
      "cell_type": "markdown",
      "metadata": {
        "id": "YjwDv5zvjACg"
      },
      "source": [
        "Let's create a function to consume the agent output and format it into our report:"
      ]
    },
    {
      "cell_type": "code",
      "execution_count": 56,
      "metadata": {
        "id": "xZxjrfBfjFPl"
      },
      "outputs": [],
      "source": [
        "def build_report(output: dict):\n",
        "    research_steps = output[\"research_steps\"]\n",
        "    if type(research_steps) is list:\n",
        "        research_steps = \"\\n\".join([f\"- {r}\" for r in research_steps])\n",
        "    sources = output[\"sources\"]\n",
        "    if type(sources) is list:\n",
        "        sources = \"\\n\".join([f\"- {s}\" for s in sources])\n",
        "    return f\"\"\"\n",
        "INTRODUCTION\n",
        "------------\n",
        "{output[\"introduction\"]}\n",
        "\n",
        "RESEARCH STEPS\n",
        "--------------\n",
        "{research_steps}\n",
        "\n",
        "REPORT\n",
        "------\n",
        "{output[\"main_body\"]}\n",
        "\n",
        "CONCLUSION\n",
        "----------\n",
        "{output[\"conclusion\"]}\n",
        "\n",
        "SOURCES\n",
        "-------\n",
        "{sources}\n",
        "\"\"\""
      ]
    },
    {
      "cell_type": "code",
      "execution_count": 57,
      "metadata": {
        "colab": {
          "base_uri": "https://localhost:8080/"
        },
        "id": "xjbPRhk8dhfs",
        "outputId": "e97e4c07-48dc-4ef9-9dae-d36c9bf47d78"
      },
      "outputs": [
        {
          "output_type": "stream",
          "name": "stdout",
          "text": [
            "\n",
            "INTRODUCTION\n",
            "------------\n",
            "Dogs are fascinating creatures with a rich history and unique characteristics that make them beloved companions to humans. Let's explore some intriguing facts about these loyal animals.\n",
            "\n",
            "RESEARCH STEPS\n",
            "--------------\n",
            "- Conducted a web search to gather interesting facts about dogs from various sources.\n",
            "\n",
            "REPORT\n",
            "------\n",
            "Dogs have been a part of human life for thousands of years, being the first animals to be domesticated over 20,000 years ago. This long history has led to a deep bond between humans and dogs, with dogs evolving from wolves and undergoing significant changes in their physical characteristics, such as smaller skulls, teeth, and paws.\n",
            "\n",
            "One of the most remarkable features of dogs is their sense of smell. A dog's nose is equipped with up to 300 million olfactory receptors, compared to a human's mere 5 million. This extraordinary sense of smell allows dogs to perform tasks such as detecting drugs, finding missing persons, and even identifying certain medical conditions in humans.\n",
            "\n",
            "Additionally, dogs have a keen sense of time. Studies have shown that they can distinguish between different lengths of time and can be conditioned to anticipate future events. This ability is part of what makes them such excellent companions, as they can adapt to human schedules and routines.\n",
            "\n",
            "Moreover, when puppies are born, they are blind, deaf, and toothless, relying entirely on their mother and their sense of touch and smell to navigate the world. As they grow, they develop the senses and skills that make them the playful and intelligent animals we know and love.\n",
            "\n",
            "CONCLUSION\n",
            "----------\n",
            "Dogs are not only man's best friend but also remarkable creatures with unique abilities and a rich history intertwined with human development. Their extraordinary senses and adaptability continue to make them invaluable companions in various aspects of life.\n",
            "\n",
            "SOURCES\n",
            "-------\n",
            "- American Kennel Club: https://www.akc.org/expert-advice/lifestyle/dog-facts/\n",
            "- MSPCA: https://www.mspca.org/pet_resources/interesting-facts-about-dogs/\n",
            "- National Geographic Kids: https://www.natgeokids.com/uk/discover/animals/general-animals/dog-facts/\n",
            "- The Drake Center: https://www.thedrakecenter.com/services/dogs/blog/23-amazing-facts-about-dogs-you-probably-didnt-know\n",
            "\n"
          ]
        }
      ],
      "source": [
        "print(build_report(\n",
        "    output=out[\"intermediate_steps\"][-1].tool_input\n",
        "))"
      ]
    },
    {
      "cell_type": "markdown",
      "metadata": {
        "id": "TBgBR3PdiXIg"
      },
      "source": [
        "Now let's try with an on-topic question on AI."
      ]
    },
    {
      "cell_type": "code",
      "execution_count": 58,
      "metadata": {
        "colab": {
          "base_uri": "https://localhost:8080/"
        },
        "id": "a21f9VneePw_",
        "outputId": "9acfe970-ff1f-462a-da38-ef26dd201575"
      },
      "outputs": [
        {
          "output_type": "stream",
          "name": "stdout",
          "text": [
            "run_oracle\n",
            "intermediate_steps: []\n",
            "rag_search.invoke(input={'query': 'AI'})\n",
            "run_oracle\n",
            "intermediate_steps: [AgentAction(tool='rag_search', tool_input={'query': 'AI'}, log='TBD'), AgentAction(tool='rag_search', tool_input={'query': 'AI'}, log=\"Title: An In-depth Survey of Large Language Model-based Artificial Intelligence Agents\\nContent: thoughtsâ together to autonomously achieve whatever goal users set An task-driven autonomous agent leveraging GPT-4 language model, Pinecone vector search, and the LangChain framework to perform a wide range of tasks across diverse domains A developer-centric open-source framework to build, manage and run useful Autonomous AI Agents A framework allow users to configure and deploy Autonomous AI agents rapidly Table 1: LLM-based AI Agent applications. research, coding, collaboration, and general pur- pose, as shown in Tab. 1. 4.1. Chatbot Pi3 is a typical LLM-based chatting AI agent re- leased by Inflection. Like ChatGPT4 and Claude5, users can talk directly with Pi, but Pi not only serves productivity needs such as searching or an- swering questions but also focuses on emotional companionship. Pi is known for its high emotional intelligence. Users can communicate with Pi as naturally as they would with a close friend.\\nArXiv ID: 2309.14365\\nRelated Papers: ['2306.05424']\\n\\n---\\nTitle: Cognitive Architectures for Language Agents\\nContent: AI-generated characters for supporting personalized learning and well-being. Nature Machine Intelligence, 3(12):1013â 1022, 2021. A. Peng, I. Sucholutsky, B. Li, T. R. Sumers, T. L. Griffiths, J. Andreas, and J. A. Shah. Language guided state abstractions. In Workshop on Social Intelligence in Humans and Robots at RSS 2023, 2023. E. L. Post.\\nArXiv ID: 2309.02427\\nRelated Papers: ['2305.14909']\\n\")]\n",
            "web_search.invoke(input={'query': 'AI'})\n",
            "run_oracle\n",
            "intermediate_steps: [AgentAction(tool='rag_search', tool_input={'query': 'AI'}, log='TBD'), AgentAction(tool='rag_search', tool_input={'query': 'AI'}, log=\"Title: An In-depth Survey of Large Language Model-based Artificial Intelligence Agents\\nContent: thoughtsâ together to autonomously achieve whatever goal users set An task-driven autonomous agent leveraging GPT-4 language model, Pinecone vector search, and the LangChain framework to perform a wide range of tasks across diverse domains A developer-centric open-source framework to build, manage and run useful Autonomous AI Agents A framework allow users to configure and deploy Autonomous AI agents rapidly Table 1: LLM-based AI Agent applications. research, coding, collaboration, and general pur- pose, as shown in Tab. 1. 4.1. Chatbot Pi3 is a typical LLM-based chatting AI agent re- leased by Inflection. Like ChatGPT4 and Claude5, users can talk directly with Pi, but Pi not only serves productivity needs such as searching or an- swering questions but also focuses on emotional companionship. Pi is known for its high emotional intelligence. Users can communicate with Pi as naturally as they would with a close friend.\\nArXiv ID: 2309.14365\\nRelated Papers: ['2306.05424']\\n\\n---\\nTitle: Cognitive Architectures for Language Agents\\nContent: AI-generated characters for supporting personalized learning and well-being. Nature Machine Intelligence, 3(12):1013â 1022, 2021. A. Peng, I. Sucholutsky, B. Li, T. R. Sumers, T. L. Griffiths, J. Andreas, and J. A. Shah. Language guided state abstractions. In Workshop on Social Intelligence in Humans and Robots at RSS 2023, 2023. E. L. Post.\\nArXiv ID: 2309.02427\\nRelated Papers: ['2305.14909']\\n\"), AgentAction(tool='web_search', tool_input={'query': 'AI'}, log='TBD'), AgentAction(tool='web_search', tool_input={'query': 'AI'}, log='OpenAI\\nWe believe our research will eventually lead to artificial general intelligence, a system that can solve human-level problems. Building safe and beneficial ...\\nhttps://openai.com/\\n---\\nMaking AI helpful for everyone - Google AI – Google AI\\nGoogle AI on Android reimagines your mobile device experience, helping you be more creative, get more done, and stay safe with powerful protection from Google.\\nhttps://ai.google/\\n---\\nArtificial intelligence\\nArtificial intelligence (AI), in its broadest sense, is intelligence exhibited by machines, particularly computer systems. It is a field of research in ...\\nhttps://en.wikipedia.org/wiki/Artificial_intelligence\\n---\\nAI at Meta\\nUse Meta AI to explore the world around you and bring your visions to life. Try our newest features to ask about photos or have a conversation using just your ...\\nhttps://ai.meta.com/')]\n",
            "rag_search_filter.invoke(input={'query': 'AI', 'arxiv_id': '2309.14365'})\n",
            "run_oracle\n",
            "intermediate_steps: [AgentAction(tool='rag_search', tool_input={'query': 'AI'}, log='TBD'), AgentAction(tool='rag_search', tool_input={'query': 'AI'}, log=\"Title: An In-depth Survey of Large Language Model-based Artificial Intelligence Agents\\nContent: thoughtsâ together to autonomously achieve whatever goal users set An task-driven autonomous agent leveraging GPT-4 language model, Pinecone vector search, and the LangChain framework to perform a wide range of tasks across diverse domains A developer-centric open-source framework to build, manage and run useful Autonomous AI Agents A framework allow users to configure and deploy Autonomous AI agents rapidly Table 1: LLM-based AI Agent applications. research, coding, collaboration, and general pur- pose, as shown in Tab. 1. 4.1. Chatbot Pi3 is a typical LLM-based chatting AI agent re- leased by Inflection. Like ChatGPT4 and Claude5, users can talk directly with Pi, but Pi not only serves productivity needs such as searching or an- swering questions but also focuses on emotional companionship. Pi is known for its high emotional intelligence. Users can communicate with Pi as naturally as they would with a close friend.\\nArXiv ID: 2309.14365\\nRelated Papers: ['2306.05424']\\n\\n---\\nTitle: Cognitive Architectures for Language Agents\\nContent: AI-generated characters for supporting personalized learning and well-being. Nature Machine Intelligence, 3(12):1013â 1022, 2021. A. Peng, I. Sucholutsky, B. Li, T. R. Sumers, T. L. Griffiths, J. Andreas, and J. A. Shah. Language guided state abstractions. In Workshop on Social Intelligence in Humans and Robots at RSS 2023, 2023. E. L. Post.\\nArXiv ID: 2309.02427\\nRelated Papers: ['2305.14909']\\n\"), AgentAction(tool='web_search', tool_input={'query': 'AI'}, log='TBD'), AgentAction(tool='web_search', tool_input={'query': 'AI'}, log='OpenAI\\nWe believe our research will eventually lead to artificial general intelligence, a system that can solve human-level problems. Building safe and beneficial ...\\nhttps://openai.com/\\n---\\nMaking AI helpful for everyone - Google AI – Google AI\\nGoogle AI on Android reimagines your mobile device experience, helping you be more creative, get more done, and stay safe with powerful protection from Google.\\nhttps://ai.google/\\n---\\nArtificial intelligence\\nArtificial intelligence (AI), in its broadest sense, is intelligence exhibited by machines, particularly computer systems. It is a field of research in ...\\nhttps://en.wikipedia.org/wiki/Artificial_intelligence\\n---\\nAI at Meta\\nUse Meta AI to explore the world around you and bring your visions to life. Try our newest features to ask about photos or have a conversation using just your ...\\nhttps://ai.meta.com/'), AgentAction(tool='rag_search_filter', tool_input={'query': 'AI', 'arxiv_id': '2309.14365'}, log='TBD'), AgentAction(tool='rag_search_filter', tool_input={'query': 'AI', 'arxiv_id': '2309.14365'}, log=\"Title: An In-depth Survey of Large Language Model-based Artificial Intelligence Agents\\nContent: thoughtsâ together to autonomously achieve whatever goal users set An task-driven autonomous agent leveraging GPT-4 language model, Pinecone vector search, and the LangChain framework to perform a wide range of tasks across diverse domains A developer-centric open-source framework to build, manage and run useful Autonomous AI Agents A framework allow users to configure and deploy Autonomous AI agents rapidly Table 1: LLM-based AI Agent applications. research, coding, collaboration, and general pur- pose, as shown in Tab. 1. 4.1. Chatbot Pi3 is a typical LLM-based chatting AI agent re- leased by Inflection. Like ChatGPT4 and Claude5, users can talk directly with Pi, but Pi not only serves productivity needs such as searching or an- swering questions but also focuses on emotional companionship. Pi is known for its high emotional intelligence. Users can communicate with Pi as naturally as they would with a close friend.\\nArXiv ID: 2309.14365\\nRelated Papers: ['2306.05424']\\n\\n---\\nTitle: An In-depth Survey of Large Language Model-based Artificial Intelligence Agents\\nContent: 4.3. Coding Developers have always wanted to have a code generator to help improve programming efficiency. # 4.4. Design The idea of AI Agent has also been applied to de- sign. Diagram7 is a representative AI-powered and automatable design platform with many products, including Magician, Genius, Automator, and UI- AI, for designing high-quality charts and graphs. Taking Genius and UI-AI as examples. Genius is equivalent to a design assistant, helping to trans- form usersâ ideas into designs. Users only need to provide a product description and Genius can create fully editable UI designs. In addition, Ge- nius can provide design suggestions to help improve productivity. UI-AI contains a series of user inter- face AI models made for designers that leverage the latest advancements in AI combined with creative # 3https://pi.ai/talk 4https://chat.openai.com 5https://www.anthropic.com/index/claude-2 6https://github.com/AntonOsika/gpt-engineer 7https://diagram.com/ prompting or multimodal prompts to generate de- sign assets. # 4.5. Research A number of AI agents for autonomous scientific research have emerged. ChemCrow (Bran et al., 2023) is an LLM chemistry agent designed to ac- complish various tasks such as organic synthesis, drug discovery, and materials design. It integrates 17 expert-designed chemistry tools and operates by prompting GPT-4 to provide specific instructions about the task and the format required. Specifi- cally, a set of tools is created by using a variety of chemistry-related packages and software. These tools and user prompts are provided to GPT-4 and GPT-4 determines its behavioral path before arriv- ing at the final answer through an automated, it- erative chain-of-thought process. Throughout the process, ChemCrow serves as an assistant to expert chemists while simultaneously lowering the entry barrier for non-experts by offering a simple inter- face to access accurate chemical knowledge. Agent (Boiko et al., 2023) is an exploration of emerging autonomous scientific research capabil- ities of large language models. It binds multiple LLMs together for autonomous design, planning, and execution of scientific experiments (eg., the synthesis experiment of ibuprofen and the cross- coupling experiment of Suzuki and Sonogashira reaction).\\nArXiv ID: 2309.14365\\nRelated Papers: ['2306.05424']\\n\\n---\\nTitle: An In-depth Survey of Large Language Model-based Artificial Intelligence Agents\\nContent: # 4. Application AI Agent is not an emergent concept. As early as 1959, the worldâ s first complete artificial intelli- gence system, advice taker (McCarthy, 1959), was proposed. Subsequently, John McCarthy and oth- ers began to use the term Agent to describe the role that a computing program can play in a scene to achieve certain tasks in artificial intelligence. With reinforcement learning coming into promi- nence, the field of artificial intelligence has seen a number of notable AI agents based on reinforce- ment learning and gaming strategies, such as Al- phaGo (Silver et al., 2016), a Go agent launched by DeepMind in 2014. Similarly, OpenAI launched OpenAI Five (Berner and et al., 2019) for playing the game of Dota 2 in 2017 and DeepMind an- nounced AlphaStar (Vinyals et al., 2019) for play- ing StarCraft II. Recently, the emergence of Chat- GPT has made AI agents active once again. The LLM-based Agent also keeps emerging. In this pa- per, we focus on the latest LLM-based AI Agent applications and talk about the applications of AI Agent from seven aspects: chatbot, game, design, Category Application Description Chatbot Pi Inflectionâ s chatting AI agent known for its emotional companion- ship and high emotional intelligence Game Voyager (Wang et al., 2023a) The first LLM-powered embodied lifelong learning agent in Minecraft that continuously explores the world, acquires diverse skills, and makes novel discoveries without human intervention Coding GPT Engineer A AI coding agent that can generate an entire codebase based on a prompt Design Diagram An AI-powered and automatable design platform Research ChemCrow (Bran et al., 2023) Agent (Boiko et al., 2023) An LLM chemistry agent designed to accomplish tasks across or- ganic synthesis, drug discovery, and materials design An intelligent agent system that combines multiple large language models for autonomous design, planning, and execution of scien- tific experiments Collaboration DialOp (Lin et al., 2023a) MindOS MetaGPT Multi-GPT AI assistants collaborating with one or more humans via natural language to help them make complex decisions An engine creating autonomous AI agents for usersâ\\nArXiv ID: 2309.14365\\nRelated Papers: ['2306.05424']\\n\\n---\\nTitle: An In-depth Survey of Large Language Model-based Artificial Intelligence Agents\\nContent: Adaptive and intelligent robot task planning for home service: A review. Engineering Applications of Artificial Intelligence, 117:105618. Minghao Li, Feifan Song, Bowen Yu, Haiyang Yu, Zhoujun Li, Fei Huang, and Yongbin Li. 2023c. Api-bank: A benchmark for tool-augmented llms. arXiv preprint arXiv:2304.08244. Yuxi Li. 2017. Deep reinforcement learning: An overview. arXiv preprint arXiv:1701.07274. Xinnian Liang, Bing Wang, Hui Huang, Shuangzhi Wu, Peihao Wu, Lu Lu, Zejun Ma, and Zhou- jun Li. 2023a. Unleashing infinite-length input capacity for large-scale language models with self-controlled memory system. arXiv preprint arXiv:2304.13343. Yaobo Liang, Chenfei Wu, Ting Song, Wenshan Wu, Yan Xia, Yu Liu, Yang Ou, Shuai Lu, Lei Ji, Shaoguang Mao, et al. 2023b. Taskmatrix. ai: Completing tasks by connecting foundation models with millions of apis. arXiv preprint arXiv:2303.16434. Jessy Lin, Nicholas Tomlin, Jacob Andreas, and Jason Eisner. 2023a. Decision-oriented dia- logue for human-ai collaboration. arXiv preprint arXiv:2305.20076. Jiaju Lin, Haoran Zhao, Aochi Zhang, Yiting Wu, Huqiuyue Ping, and Qin Chen. 2023b. Agentsims: An open-source sandbox for large arXiv preprint language model evaluation. arXiv:2308.04026. Bo Liu, Yuqian Jiang, Xiaohan Zhang, Qiang Liu, Shiqi Zhang, Joydeep Biswas, and Peter Stone. 2023a. Llm+ p: Empowering large language models with optimal planning proficiency. arXiv preprint arXiv:2304.11477.\\nArXiv ID: 2309.14365\\nRelated Papers: ['2306.05424']\\n\\n---\\nTitle: An In-depth Survey of Large Language Model-based Artificial Intelligence Agents\\nContent: s attention. Similar to Auto-GPT, BabyAGI12 is a task-driven autonomous AI agent. BabyAGI constructs a task list dedicated to achiev- ing the goal, derives further tasks based on the pre- vious results, and executes these tasks in order of priority until the overall goal is achieved. More- over, SuperAGI13 and AgentGPT14 support the building and deployment of autonomous AI agents, and have it embark on any goal imaginable. Al- though these AI agents are not so perfect and even have some deficiencies, their presentation is cer- tainly an important step towards artificial general intelligence.\\nArXiv ID: 2309.14365\\nRelated Papers: ['2306.05424']\\n\\n---\\nTitle: An In-depth Survey of Large Language Model-based Artificial Intelligence Agents\\nContent: Hugginggpt: Solving ai tasks with chat- gpt and its friends in huggingface. arXiv preprint arXiv:2303.17580. Noah Shinn, Beck Labash, and Ashwin Gopinath. 2023. Reflexion: an autonomous agent with dy- namic memory and self-reflection. arXiv preprint arXiv:2303.11366. Kurt Shuster, Jing Xu, Mojtaba Komeili, Da Ju, Eric Michael Smith, Stephen Roller, Megan Ung, Moya Chen, Kushal Arora, Joshua Lane, et al. 2022. Blenderbot 3: a deployed conversational agent that continually learns to responsibly en- gage. arXiv preprint arXiv:2208.03188. David Silver, Aja Huang, Chris J Maddison, Arthur Guez, Laurent Sifre, George Van Den Driessche, Julian Schrittwieser, Ioannis Antonoglou, Veda Panneershelvam, Marc Lanc- tot, et al. 2016. Mastering the game of go with deep neural networks and tree search. nature, 529(7587):484â 489. Ishika Singh, Valts Blukis, Arsalan Mousavian, Ankit Goyal, Danfei Xu, Jonathan Tremblay, Di- eter Fox, Jesse Thomason, and Animesh Garg. 2023. Progprompt: Generating situated robot task plans using large language models. In Pro- ceedings of IEEE International Conference on Robotics and Automation, pages 11523â\\nArXiv ID: 2309.14365\\nRelated Papers: ['2306.05424']\\n\")]\n",
            "final_answer.invoke(input={'introduction': 'Artificial Intelligence (AI) is a rapidly evolving field that encompasses the development of computer systems capable of performing tasks that typically require human intelligence. These tasks include learning, reasoning, problem-solving, perception, and language understanding.', 'research_steps': '- Conducted a specialist search using a natural language query to gather detailed information on AI from academic sources.\\n- Performed a web search to obtain general knowledge and current applications of AI from reputable websites.\\n- Filtered specific information from an ArXiv paper to gain insights into the latest developments in AI agents.', 'main_body': 'AI has become an integral part of modern technology, influencing various sectors such as healthcare, finance, education, and entertainment. At its core, AI involves creating algorithms and models that enable machines to mimic cognitive functions associated with the human mind. One of the most significant advancements in AI is the development of large language models (LLMs), which are capable of understanding and generating human-like text. These models, such as GPT-4, are used in a wide range of applications, from chatbots to autonomous agents that can perform complex tasks across different domains.\\n\\nThe concept of AI agents is not new, with its roots tracing back to the 1950s. However, recent advancements in machine learning and reinforcement learning have led to the creation of sophisticated AI agents capable of learning and adapting to new environments. These agents are used in various applications, including gaming, design, and scientific research. For instance, AI agents like AlphaGo and OpenAI Five have demonstrated remarkable capabilities in strategic games, while others like ChemCrow are used in scientific research to assist in tasks such as drug discovery and materials design.\\n\\nAI is also being integrated into everyday applications, enhancing user experiences through personalized interactions and intelligent automation. Companies like Google, OpenAI, and Meta are at the forefront of AI research, developing technologies that aim to achieve artificial general intelligence (AGI), where machines can perform any intellectual task that a human can do. Despite the progress, challenges remain in ensuring the safety, ethics, and transparency of AI systems.', 'conclusion': 'AI continues to transform the technological landscape, offering unprecedented opportunities and challenges. As AI systems become more advanced, it is crucial to address ethical considerations and ensure that these technologies are developed responsibly. The future of AI holds the promise of even more sophisticated systems that can seamlessly integrate into various aspects of human life, enhancing productivity and innovation.', 'sources': \"- ArXiv paper: 'An In-depth Survey of Large Language Model-based Artificial Intelligence Agents' (ArXiv ID: 2309.14365)\\n- Wikipedia: Artificial intelligence (https://en.wikipedia.org/wiki/Artificial_intelligence)\\n- OpenAI website (https://openai.com/)\\n- Google AI website (https://ai.google/)\\n- Meta AI website (https://ai.meta.com/)\"})\n"
          ]
        }
      ],
      "source": [
        "out = runnable.invoke({\n",
        "    \"input\": \"tell me about AI\",\n",
        "    \"chat_history\": []\n",
        "})"
      ]
    },
    {
      "cell_type": "code",
      "execution_count": 59,
      "metadata": {
        "colab": {
          "base_uri": "https://localhost:8080/"
        },
        "id": "Vis78CFR3puz",
        "outputId": "f5f049b3-02cb-4c23-d1b6-5124e3730329"
      },
      "outputs": [
        {
          "output_type": "stream",
          "name": "stdout",
          "text": [
            "\n",
            "INTRODUCTION\n",
            "------------\n",
            "Artificial Intelligence (AI) is a rapidly evolving field that encompasses the development of computer systems capable of performing tasks that typically require human intelligence. These tasks include learning, reasoning, problem-solving, perception, and language understanding.\n",
            "\n",
            "RESEARCH STEPS\n",
            "--------------\n",
            "- Conducted a specialist search using a natural language query to gather detailed information on AI from academic sources.\n",
            "- Performed a web search to obtain general knowledge and current applications of AI from reputable websites.\n",
            "- Filtered specific information from an ArXiv paper to gain insights into the latest developments in AI agents.\n",
            "\n",
            "REPORT\n",
            "------\n",
            "AI has become an integral part of modern technology, influencing various sectors such as healthcare, finance, education, and entertainment. At its core, AI involves creating algorithms and models that enable machines to mimic cognitive functions associated with the human mind. One of the most significant advancements in AI is the development of large language models (LLMs), which are capable of understanding and generating human-like text. These models, such as GPT-4, are used in a wide range of applications, from chatbots to autonomous agents that can perform complex tasks across different domains.\n",
            "\n",
            "The concept of AI agents is not new, with its roots tracing back to the 1950s. However, recent advancements in machine learning and reinforcement learning have led to the creation of sophisticated AI agents capable of learning and adapting to new environments. These agents are used in various applications, including gaming, design, and scientific research. For instance, AI agents like AlphaGo and OpenAI Five have demonstrated remarkable capabilities in strategic games, while others like ChemCrow are used in scientific research to assist in tasks such as drug discovery and materials design.\n",
            "\n",
            "AI is also being integrated into everyday applications, enhancing user experiences through personalized interactions and intelligent automation. Companies like Google, OpenAI, and Meta are at the forefront of AI research, developing technologies that aim to achieve artificial general intelligence (AGI), where machines can perform any intellectual task that a human can do. Despite the progress, challenges remain in ensuring the safety, ethics, and transparency of AI systems.\n",
            "\n",
            "CONCLUSION\n",
            "----------\n",
            "AI continues to transform the technological landscape, offering unprecedented opportunities and challenges. As AI systems become more advanced, it is crucial to address ethical considerations and ensure that these technologies are developed responsibly. The future of AI holds the promise of even more sophisticated systems that can seamlessly integrate into various aspects of human life, enhancing productivity and innovation.\n",
            "\n",
            "SOURCES\n",
            "-------\n",
            "- ArXiv paper: 'An In-depth Survey of Large Language Model-based Artificial Intelligence Agents' (ArXiv ID: 2309.14365)\n",
            "- Wikipedia: Artificial intelligence (https://en.wikipedia.org/wiki/Artificial_intelligence)\n",
            "- OpenAI website (https://openai.com/)\n",
            "- Google AI website (https://ai.google/)\n",
            "- Meta AI website (https://ai.meta.com/)\n",
            "\n"
          ]
        }
      ],
      "source": [
        "print(build_report(\n",
        "    output=out[\"intermediate_steps\"][-1].tool_input\n",
        "))"
      ]
    },
    {
      "cell_type": "markdown",
      "metadata": {
        "id": "JNyxZL4SNjhX"
      },
      "source": [
        "Let's ask about RAG specifically."
      ]
    },
    {
      "cell_type": "code",
      "execution_count": 60,
      "metadata": {
        "colab": {
          "base_uri": "https://localhost:8080/"
        },
        "id": "x0VmnWlWE6Lg",
        "outputId": "b58a4bee-c126-4d56-95f4-0a4e1bc9d8b2"
      },
      "outputs": [
        {
          "output_type": "stream",
          "name": "stdout",
          "text": [
            "run_oracle\n",
            "intermediate_steps: []\n",
            "rag_search.invoke(input={'query': 'retrieval augmented generation'})\n",
            "run_oracle\n",
            "intermediate_steps: [AgentAction(tool='rag_search', tool_input={'query': 'retrieval augmented generation'}, log='TBD'), AgentAction(tool='rag_search', tool_input={'query': 'retrieval augmented generation'}, log=\"Title: AutoGen: Enabling Next-Gen LLM Applications via Multi-Agent Conversation\\nContent: Due to the page limit, details of the evaluation, including case studies in three scenarios are in Appendix D. # A2: Retrieval-Augmented Code Generation and Question Answering Retrieval augmentation has emerged as a practical and effective approach for mitigating the intrinsic limitations of LLMs by incorporating external documents. In this section, we employ AutoGen to build a Retrieval-Augmented Generation (RAG) system (Lewis et al., 2020; Parvez et al., 2021) named Retrieval-augmented Chat. The system consists of two agents: a Retrieval-augmented User Proxy agent and a Retrieval-augmented Assistant agent, both of which are extended from built-in agents from AutoGen. The Retrieval-augmented User Proxy includes a vector database (Chroma, 5We did not evaluate ChatGPT on the whole dataset since it requires substantial manual effort and is re- stricted by its hourly message-number limitation. Multi-agent debate and LangChain ReAct were also not evaluated since they underperformed vanilla GPT-4 on the smaller test set.\\nArXiv ID: 2308.08155\\nRelated Papers: ['2103.03874']\\n\\n---\\nTitle: SimplyRetrieve: A Private and Lightweight Retrieval-Centric Generative AI Tool\\nContent: 2https://www.kioxia.com/en-jp/top.html 3https://huggingface.co/ehartford/ Wizard-Vicuna-13B-Uncensored 4https://huggingface.co/intfloat/ multilingual-e5-base # 4.1 Qualitative Evaluation We compare the results of three approaches: Retrieval-Centric Generation (RCG), Retrieval- Augmented Generation (RAG), and Retrieval-OFF Generation (ROG). Note that in this work, we de- fine RAG as allowing more permissible integra- tion of LLMâ s inherent and externally retrieved knowledge, whereas RCG prioritizes clear demar- cations between context interpretation and knowl- edge memorization. Investigating advanced meth- ods in extracting RCG behavior is a promising research topic. In this work, we conduct simple experiments using prompt-engineering technique to reveal the potential of RCG approach. Specifi- cally, for RCG, we employ a retrieval suffix prompt that reads â answer the following question with the provided knowledge.â For RAG, we use a less constraining prompt that reads â answer the follow- ing question. You may use the provided knowl- edge.â\\nArXiv ID: 2308.03983\\nRelated Papers: ['2302.13971']\\n\")]\n",
            "web_search.invoke(input={'query': 'retrieval augmented generation'})\n",
            "run_oracle\n",
            "intermediate_steps: [AgentAction(tool='rag_search', tool_input={'query': 'retrieval augmented generation'}, log='TBD'), AgentAction(tool='rag_search', tool_input={'query': 'retrieval augmented generation'}, log=\"Title: AutoGen: Enabling Next-Gen LLM Applications via Multi-Agent Conversation\\nContent: Due to the page limit, details of the evaluation, including case studies in three scenarios are in Appendix D. # A2: Retrieval-Augmented Code Generation and Question Answering Retrieval augmentation has emerged as a practical and effective approach for mitigating the intrinsic limitations of LLMs by incorporating external documents. In this section, we employ AutoGen to build a Retrieval-Augmented Generation (RAG) system (Lewis et al., 2020; Parvez et al., 2021) named Retrieval-augmented Chat. The system consists of two agents: a Retrieval-augmented User Proxy agent and a Retrieval-augmented Assistant agent, both of which are extended from built-in agents from AutoGen. The Retrieval-augmented User Proxy includes a vector database (Chroma, 5We did not evaluate ChatGPT on the whole dataset since it requires substantial manual effort and is re- stricted by its hourly message-number limitation. Multi-agent debate and LangChain ReAct were also not evaluated since they underperformed vanilla GPT-4 on the smaller test set.\\nArXiv ID: 2308.08155\\nRelated Papers: ['2103.03874']\\n\\n---\\nTitle: SimplyRetrieve: A Private and Lightweight Retrieval-Centric Generative AI Tool\\nContent: 2https://www.kioxia.com/en-jp/top.html 3https://huggingface.co/ehartford/ Wizard-Vicuna-13B-Uncensored 4https://huggingface.co/intfloat/ multilingual-e5-base # 4.1 Qualitative Evaluation We compare the results of three approaches: Retrieval-Centric Generation (RCG), Retrieval- Augmented Generation (RAG), and Retrieval-OFF Generation (ROG). Note that in this work, we de- fine RAG as allowing more permissible integra- tion of LLMâ s inherent and externally retrieved knowledge, whereas RCG prioritizes clear demar- cations between context interpretation and knowl- edge memorization. Investigating advanced meth- ods in extracting RCG behavior is a promising research topic. In this work, we conduct simple experiments using prompt-engineering technique to reveal the potential of RCG approach. Specifi- cally, for RCG, we employ a retrieval suffix prompt that reads â answer the following question with the provided knowledge.â For RAG, we use a less constraining prompt that reads â answer the follow- ing question. You may use the provided knowl- edge.â\\nArXiv ID: 2308.03983\\nRelated Papers: ['2302.13971']\\n\"), AgentAction(tool='web_search', tool_input={'query': 'retrieval augmented generation'}, log='TBD'), AgentAction(tool='web_search', tool_input={'query': 'retrieval augmented generation'}, log='What Is Retrieval-Augmented Generation aka RAG\\nRetrieval-augmented generation (RAG) is a technique for enhancing the accuracy and reliability of generative AI models with facts fetched ...\\nhttps://blogs.nvidia.com/blog/what-is-retrieval-augmented-generation/\\n---\\nWhat is RAG (Retrieval-Augmented Generation)?\\nRetrieval-Augmented Generation (RAG) is the process of optimizing the output of a large language model, so it references an authoritative knowledge base ...\\nhttps://aws.amazon.com/what-is/retrieval-augmented-generation/\\n---\\nWhat is Retrieval-Augmented Generation (RAG)?\\nRetrieval-augmented generation (RAG) combines LLMs with external knowledge bases to improve their outputs. Learn more with Google Cloud.\\nhttps://cloud.google.com/use-cases/retrieval-augmented-generation\\n---\\nWhat is retrieval-augmented generation (RAG)?\\nRAG is an AI framework for improving the quality of LLM-generated responses by grounding the model on external sources of knowledge.\\nhttps://research.ibm.com/blog/retrieval-augmented-generation-RAG\\n---\\nRetrieval-augmented generation\\nRetrieval augmented generation (RAG) is a technique that grants generative artificial intelligence models information retrieval capabilities.\\nhttps://en.wikipedia.org/wiki/Retrieval-augmented_generation')]\n",
            "final_answer.invoke(input={'introduction': 'Retrieval-Augmented Generation (RAG) is a cutting-edge technique in the field of artificial intelligence that enhances the capabilities of generative models by integrating them with external knowledge sources. This approach aims to improve the accuracy and reliability of AI-generated content by grounding it in factual information.', 'research_steps': '- Conducted a specialist search using the RAG search tool to gather detailed information on retrieval-augmented generation.\\n- Performed a web search to collect general knowledge and definitions from various reputable sources.\\n- Compiled and synthesized information from both specialist and general sources to provide a comprehensive understanding of RAG.', 'main_body': 'Retrieval-Augmented Generation (RAG) is a framework that combines the strengths of large language models (LLMs) with external knowledge bases to enhance the quality of AI-generated responses. The primary goal of RAG is to mitigate the limitations of LLMs, such as their tendency to generate inaccurate or non-factual content, by incorporating relevant and authoritative information from external sources.\\n\\nThe RAG framework operates by first retrieving pertinent information from a pre-defined knowledge base or database. This retrieval process is typically facilitated by a retrieval model that identifies and extracts the most relevant documents or data points related to the query or task at hand. Once the relevant information is retrieved, it is then used to inform and guide the generative model, ensuring that the output is not only coherent but also factually grounded.\\n\\nThis approach has been particularly effective in applications where accuracy and reliability are paramount, such as in question-answering systems, code generation, and other domains where precise information is crucial. By leveraging external knowledge, RAG systems can provide more contextually appropriate and accurate responses, thereby enhancing the overall performance of generative AI models.\\n\\nRecent advancements in RAG have seen the development of systems like AutoGen, which utilize multi-agent architectures to further refine the retrieval and generation processes. These systems employ specialized agents that work in tandem to optimize the integration of retrieved knowledge with the generative capabilities of LLMs, resulting in more robust and reliable AI applications.', 'conclusion': 'Retrieval-Augmented Generation represents a significant advancement in the field of AI, offering a practical solution to the inherent limitations of generative models. By grounding AI outputs in external knowledge, RAG enhances the accuracy and reliability of AI-generated content, making it a valuable tool in various applications. As research in this area continues to evolve, we can expect further improvements in the integration of retrieval and generation processes, leading to even more sophisticated AI systems.', 'sources': '- AutoGen: Enabling Next-Gen LLM Applications via Multi-Agent Conversation, ArXiv ID: 2308.08155\\n- SimplyRetrieve: A Private and Lightweight Retrieval-Centric Generative AI Tool, ArXiv ID: 2308.03983\\n- NVIDIA Blog on Retrieval-Augmented Generation\\n- AWS and Google Cloud articles on RAG\\n- IBM Research Blog on RAG\\n- Wikipedia entry on Retrieval-Augmented Generation'})\n"
          ]
        }
      ],
      "source": [
        "out = runnable.invoke({\n",
        "    \"input\": \"what is retrieval augmented generation?\",\n",
        "    \"chat_history\": []\n",
        "})"
      ]
    },
    {
      "cell_type": "code",
      "execution_count": 61,
      "metadata": {
        "colab": {
          "base_uri": "https://localhost:8080/"
        },
        "id": "I7LssyU4Nqis",
        "outputId": "057f78d3-d27f-4d30-eda3-d80262d5919f"
      },
      "outputs": [
        {
          "output_type": "stream",
          "name": "stdout",
          "text": [
            "\n",
            "INTRODUCTION\n",
            "------------\n",
            "Retrieval-Augmented Generation (RAG) is a cutting-edge technique in the field of artificial intelligence that enhances the capabilities of generative models by integrating them with external knowledge sources. This approach aims to improve the accuracy and reliability of AI-generated content by grounding it in factual information.\n",
            "\n",
            "RESEARCH STEPS\n",
            "--------------\n",
            "- Conducted a specialist search using the RAG search tool to gather detailed information on retrieval-augmented generation.\n",
            "- Performed a web search to collect general knowledge and definitions from various reputable sources.\n",
            "- Compiled and synthesized information from both specialist and general sources to provide a comprehensive understanding of RAG.\n",
            "\n",
            "REPORT\n",
            "------\n",
            "Retrieval-Augmented Generation (RAG) is a framework that combines the strengths of large language models (LLMs) with external knowledge bases to enhance the quality of AI-generated responses. The primary goal of RAG is to mitigate the limitations of LLMs, such as their tendency to generate inaccurate or non-factual content, by incorporating relevant and authoritative information from external sources.\n",
            "\n",
            "The RAG framework operates by first retrieving pertinent information from a pre-defined knowledge base or database. This retrieval process is typically facilitated by a retrieval model that identifies and extracts the most relevant documents or data points related to the query or task at hand. Once the relevant information is retrieved, it is then used to inform and guide the generative model, ensuring that the output is not only coherent but also factually grounded.\n",
            "\n",
            "This approach has been particularly effective in applications where accuracy and reliability are paramount, such as in question-answering systems, code generation, and other domains where precise information is crucial. By leveraging external knowledge, RAG systems can provide more contextually appropriate and accurate responses, thereby enhancing the overall performance of generative AI models.\n",
            "\n",
            "Recent advancements in RAG have seen the development of systems like AutoGen, which utilize multi-agent architectures to further refine the retrieval and generation processes. These systems employ specialized agents that work in tandem to optimize the integration of retrieved knowledge with the generative capabilities of LLMs, resulting in more robust and reliable AI applications.\n",
            "\n",
            "CONCLUSION\n",
            "----------\n",
            "Retrieval-Augmented Generation represents a significant advancement in the field of AI, offering a practical solution to the inherent limitations of generative models. By grounding AI outputs in external knowledge, RAG enhances the accuracy and reliability of AI-generated content, making it a valuable tool in various applications. As research in this area continues to evolve, we can expect further improvements in the integration of retrieval and generation processes, leading to even more sophisticated AI systems.\n",
            "\n",
            "SOURCES\n",
            "-------\n",
            "- AutoGen: Enabling Next-Gen LLM Applications via Multi-Agent Conversation, ArXiv ID: 2308.08155\n",
            "- SimplyRetrieve: A Private and Lightweight Retrieval-Centric Generative AI Tool, ArXiv ID: 2308.03983\n",
            "- NVIDIA Blog on Retrieval-Augmented Generation\n",
            "- AWS and Google Cloud articles on RAG\n",
            "- IBM Research Blog on RAG\n",
            "- Wikipedia entry on Retrieval-Augmented Generation\n",
            "\n"
          ]
        }
      ],
      "source": [
        "print(build_report(\n",
        "    output=out[\"intermediate_steps\"][-1].tool_input\n",
        "))"
      ]
    },
    {
      "cell_type": "markdown",
      "metadata": {
        "id": "rp2uaRW7cAoM"
      },
      "source": [
        "---"
      ]
    }
  ],
  "metadata": {
    "colab": {
      "provenance": [],
      "toc_visible": true
    },
    "kernelspec": {
      "display_name": "Python 3",
      "name": "python3"
    },
    "language_info": {
      "name": "python"
    },
    "widgets": {
      "application/vnd.jupyter.widget-state+json": {
        "a7e5453c1ef94767be5966900d95ea99": {
          "model_module": "@jupyter-widgets/controls",
          "model_name": "HBoxModel",
          "model_module_version": "1.5.0",
          "state": {
            "_dom_classes": [],
            "_model_module": "@jupyter-widgets/controls",
            "_model_module_version": "1.5.0",
            "_model_name": "HBoxModel",
            "_view_count": null,
            "_view_module": "@jupyter-widgets/controls",
            "_view_module_version": "1.5.0",
            "_view_name": "HBoxView",
            "box_style": "",
            "children": [
              "IPY_MODEL_f944302f6085469ba1583606aafab9c6",
              "IPY_MODEL_f01b688f742d49caab8c3409a2b00210",
              "IPY_MODEL_fad7c233cbff4863b37ae05be9babdeb"
            ],
            "layout": "IPY_MODEL_80bddb42d3a54831a46b56c719e6300a"
          }
        },
        "f944302f6085469ba1583606aafab9c6": {
          "model_module": "@jupyter-widgets/controls",
          "model_name": "HTMLModel",
          "model_module_version": "1.5.0",
          "state": {
            "_dom_classes": [],
            "_model_module": "@jupyter-widgets/controls",
            "_model_module_version": "1.5.0",
            "_model_name": "HTMLModel",
            "_view_count": null,
            "_view_module": "@jupyter-widgets/controls",
            "_view_module_version": "1.5.0",
            "_view_name": "HTMLView",
            "description": "",
            "description_tooltip": null,
            "layout": "IPY_MODEL_e77450a502ca413fa7fbbc6fb15d163c",
            "placeholder": "​",
            "style": "IPY_MODEL_032b55a0a069441c8de7c8ad4b57e780",
            "value": "Downloading data: 100%"
          }
        },
        "f01b688f742d49caab8c3409a2b00210": {
          "model_module": "@jupyter-widgets/controls",
          "model_name": "FloatProgressModel",
          "model_module_version": "1.5.0",
          "state": {
            "_dom_classes": [],
            "_model_module": "@jupyter-widgets/controls",
            "_model_module_version": "1.5.0",
            "_model_name": "FloatProgressModel",
            "_view_count": null,
            "_view_module": "@jupyter-widgets/controls",
            "_view_module_version": "1.5.0",
            "_view_name": "ProgressView",
            "bar_style": "success",
            "description": "",
            "description_tooltip": null,
            "layout": "IPY_MODEL_5582b742b7244250a69b2724233fdd5a",
            "max": 253475402,
            "min": 0,
            "orientation": "horizontal",
            "style": "IPY_MODEL_25ebeb7f929a450dbd35148a7fab9f6d",
            "value": 253475402
          }
        },
        "fad7c233cbff4863b37ae05be9babdeb": {
          "model_module": "@jupyter-widgets/controls",
          "model_name": "HTMLModel",
          "model_module_version": "1.5.0",
          "state": {
            "_dom_classes": [],
            "_model_module": "@jupyter-widgets/controls",
            "_model_module_version": "1.5.0",
            "_model_name": "HTMLModel",
            "_view_count": null,
            "_view_module": "@jupyter-widgets/controls",
            "_view_module_version": "1.5.0",
            "_view_name": "HTMLView",
            "description": "",
            "description_tooltip": null,
            "layout": "IPY_MODEL_78b1b738c59449058a82a56bb86feaa3",
            "placeholder": "​",
            "style": "IPY_MODEL_cc2d199d7aa04a19a476923dc3987bbc",
            "value": " 253M/253M [00:24&lt;00:00, 10.4MB/s]"
          }
        },
        "80bddb42d3a54831a46b56c719e6300a": {
          "model_module": "@jupyter-widgets/base",
          "model_name": "LayoutModel",
          "model_module_version": "1.2.0",
          "state": {
            "_model_module": "@jupyter-widgets/base",
            "_model_module_version": "1.2.0",
            "_model_name": "LayoutModel",
            "_view_count": null,
            "_view_module": "@jupyter-widgets/base",
            "_view_module_version": "1.2.0",
            "_view_name": "LayoutView",
            "align_content": null,
            "align_items": null,
            "align_self": null,
            "border": null,
            "bottom": null,
            "display": null,
            "flex": null,
            "flex_flow": null,
            "grid_area": null,
            "grid_auto_columns": null,
            "grid_auto_flow": null,
            "grid_auto_rows": null,
            "grid_column": null,
            "grid_gap": null,
            "grid_row": null,
            "grid_template_areas": null,
            "grid_template_columns": null,
            "grid_template_rows": null,
            "height": null,
            "justify_content": null,
            "justify_items": null,
            "left": null,
            "margin": null,
            "max_height": null,
            "max_width": null,
            "min_height": null,
            "min_width": null,
            "object_fit": null,
            "object_position": null,
            "order": null,
            "overflow": null,
            "overflow_x": null,
            "overflow_y": null,
            "padding": null,
            "right": null,
            "top": null,
            "visibility": null,
            "width": null
          }
        },
        "e77450a502ca413fa7fbbc6fb15d163c": {
          "model_module": "@jupyter-widgets/base",
          "model_name": "LayoutModel",
          "model_module_version": "1.2.0",
          "state": {
            "_model_module": "@jupyter-widgets/base",
            "_model_module_version": "1.2.0",
            "_model_name": "LayoutModel",
            "_view_count": null,
            "_view_module": "@jupyter-widgets/base",
            "_view_module_version": "1.2.0",
            "_view_name": "LayoutView",
            "align_content": null,
            "align_items": null,
            "align_self": null,
            "border": null,
            "bottom": null,
            "display": null,
            "flex": null,
            "flex_flow": null,
            "grid_area": null,
            "grid_auto_columns": null,
            "grid_auto_flow": null,
            "grid_auto_rows": null,
            "grid_column": null,
            "grid_gap": null,
            "grid_row": null,
            "grid_template_areas": null,
            "grid_template_columns": null,
            "grid_template_rows": null,
            "height": null,
            "justify_content": null,
            "justify_items": null,
            "left": null,
            "margin": null,
            "max_height": null,
            "max_width": null,
            "min_height": null,
            "min_width": null,
            "object_fit": null,
            "object_position": null,
            "order": null,
            "overflow": null,
            "overflow_x": null,
            "overflow_y": null,
            "padding": null,
            "right": null,
            "top": null,
            "visibility": null,
            "width": null
          }
        },
        "032b55a0a069441c8de7c8ad4b57e780": {
          "model_module": "@jupyter-widgets/controls",
          "model_name": "DescriptionStyleModel",
          "model_module_version": "1.5.0",
          "state": {
            "_model_module": "@jupyter-widgets/controls",
            "_model_module_version": "1.5.0",
            "_model_name": "DescriptionStyleModel",
            "_view_count": null,
            "_view_module": "@jupyter-widgets/base",
            "_view_module_version": "1.2.0",
            "_view_name": "StyleView",
            "description_width": ""
          }
        },
        "5582b742b7244250a69b2724233fdd5a": {
          "model_module": "@jupyter-widgets/base",
          "model_name": "LayoutModel",
          "model_module_version": "1.2.0",
          "state": {
            "_model_module": "@jupyter-widgets/base",
            "_model_module_version": "1.2.0",
            "_model_name": "LayoutModel",
            "_view_count": null,
            "_view_module": "@jupyter-widgets/base",
            "_view_module_version": "1.2.0",
            "_view_name": "LayoutView",
            "align_content": null,
            "align_items": null,
            "align_self": null,
            "border": null,
            "bottom": null,
            "display": null,
            "flex": null,
            "flex_flow": null,
            "grid_area": null,
            "grid_auto_columns": null,
            "grid_auto_flow": null,
            "grid_auto_rows": null,
            "grid_column": null,
            "grid_gap": null,
            "grid_row": null,
            "grid_template_areas": null,
            "grid_template_columns": null,
            "grid_template_rows": null,
            "height": null,
            "justify_content": null,
            "justify_items": null,
            "left": null,
            "margin": null,
            "max_height": null,
            "max_width": null,
            "min_height": null,
            "min_width": null,
            "object_fit": null,
            "object_position": null,
            "order": null,
            "overflow": null,
            "overflow_x": null,
            "overflow_y": null,
            "padding": null,
            "right": null,
            "top": null,
            "visibility": null,
            "width": null
          }
        },
        "25ebeb7f929a450dbd35148a7fab9f6d": {
          "model_module": "@jupyter-widgets/controls",
          "model_name": "ProgressStyleModel",
          "model_module_version": "1.5.0",
          "state": {
            "_model_module": "@jupyter-widgets/controls",
            "_model_module_version": "1.5.0",
            "_model_name": "ProgressStyleModel",
            "_view_count": null,
            "_view_module": "@jupyter-widgets/base",
            "_view_module_version": "1.2.0",
            "_view_name": "StyleView",
            "bar_color": null,
            "description_width": ""
          }
        },
        "78b1b738c59449058a82a56bb86feaa3": {
          "model_module": "@jupyter-widgets/base",
          "model_name": "LayoutModel",
          "model_module_version": "1.2.0",
          "state": {
            "_model_module": "@jupyter-widgets/base",
            "_model_module_version": "1.2.0",
            "_model_name": "LayoutModel",
            "_view_count": null,
            "_view_module": "@jupyter-widgets/base",
            "_view_module_version": "1.2.0",
            "_view_name": "LayoutView",
            "align_content": null,
            "align_items": null,
            "align_self": null,
            "border": null,
            "bottom": null,
            "display": null,
            "flex": null,
            "flex_flow": null,
            "grid_area": null,
            "grid_auto_columns": null,
            "grid_auto_flow": null,
            "grid_auto_rows": null,
            "grid_column": null,
            "grid_gap": null,
            "grid_row": null,
            "grid_template_areas": null,
            "grid_template_columns": null,
            "grid_template_rows": null,
            "height": null,
            "justify_content": null,
            "justify_items": null,
            "left": null,
            "margin": null,
            "max_height": null,
            "max_width": null,
            "min_height": null,
            "min_width": null,
            "object_fit": null,
            "object_position": null,
            "order": null,
            "overflow": null,
            "overflow_x": null,
            "overflow_y": null,
            "padding": null,
            "right": null,
            "top": null,
            "visibility": null,
            "width": null
          }
        },
        "cc2d199d7aa04a19a476923dc3987bbc": {
          "model_module": "@jupyter-widgets/controls",
          "model_name": "DescriptionStyleModel",
          "model_module_version": "1.5.0",
          "state": {
            "_model_module": "@jupyter-widgets/controls",
            "_model_module_version": "1.5.0",
            "_model_name": "DescriptionStyleModel",
            "_view_count": null,
            "_view_module": "@jupyter-widgets/base",
            "_view_module_version": "1.2.0",
            "_view_name": "StyleView",
            "description_width": ""
          }
        },
        "d38053825c1c40be9bed649b43105e77": {
          "model_module": "@jupyter-widgets/controls",
          "model_name": "HBoxModel",
          "model_module_version": "1.5.0",
          "state": {
            "_dom_classes": [],
            "_model_module": "@jupyter-widgets/controls",
            "_model_module_version": "1.5.0",
            "_model_name": "HBoxModel",
            "_view_count": null,
            "_view_module": "@jupyter-widgets/controls",
            "_view_module_version": "1.5.0",
            "_view_name": "HBoxView",
            "box_style": "",
            "children": [
              "IPY_MODEL_71813f2ed2934a5dbba3821980cef616",
              "IPY_MODEL_4722c2558a0c47a9a0d83f40f231d71c",
              "IPY_MODEL_c791f7e11c0144b998c3625587061da5"
            ],
            "layout": "IPY_MODEL_f398513848b44157870d1adc0b0f47d2"
          }
        },
        "71813f2ed2934a5dbba3821980cef616": {
          "model_module": "@jupyter-widgets/controls",
          "model_name": "HTMLModel",
          "model_module_version": "1.5.0",
          "state": {
            "_dom_classes": [],
            "_model_module": "@jupyter-widgets/controls",
            "_model_module_version": "1.5.0",
            "_model_name": "HTMLModel",
            "_view_count": null,
            "_view_module": "@jupyter-widgets/controls",
            "_view_module_version": "1.5.0",
            "_view_name": "HTMLView",
            "description": "",
            "description_tooltip": null,
            "layout": "IPY_MODEL_91a235a6f8ca4d9094eb7bb07662a761",
            "placeholder": "​",
            "style": "IPY_MODEL_5eda642c9c3f47f6b20f6e0de484a11c",
            "value": "Generating train split: 100%"
          }
        },
        "4722c2558a0c47a9a0d83f40f231d71c": {
          "model_module": "@jupyter-widgets/controls",
          "model_name": "FloatProgressModel",
          "model_module_version": "1.5.0",
          "state": {
            "_dom_classes": [],
            "_model_module": "@jupyter-widgets/controls",
            "_model_module_version": "1.5.0",
            "_model_name": "FloatProgressModel",
            "_view_count": null,
            "_view_module": "@jupyter-widgets/controls",
            "_view_module_version": "1.5.0",
            "_view_name": "ProgressView",
            "bar_style": "success",
            "description": "",
            "description_tooltip": null,
            "layout": "IPY_MODEL_bbaef7ecbb634bda921ece8320648d94",
            "max": 209760,
            "min": 0,
            "orientation": "horizontal",
            "style": "IPY_MODEL_f5575b7428b84e33beced719cb3548e0",
            "value": 209760
          }
        },
        "c791f7e11c0144b998c3625587061da5": {
          "model_module": "@jupyter-widgets/controls",
          "model_name": "HTMLModel",
          "model_module_version": "1.5.0",
          "state": {
            "_dom_classes": [],
            "_model_module": "@jupyter-widgets/controls",
            "_model_module_version": "1.5.0",
            "_model_name": "HTMLModel",
            "_view_count": null,
            "_view_module": "@jupyter-widgets/controls",
            "_view_module_version": "1.5.0",
            "_view_name": "HTMLView",
            "description": "",
            "description_tooltip": null,
            "layout": "IPY_MODEL_920ceee554e640d9bbd032ceac6472d6",
            "placeholder": "​",
            "style": "IPY_MODEL_78801f690c0b426999c3934c0aa85e46",
            "value": " 209760/209760 [00:02&lt;00:00, 92048.14 examples/s]"
          }
        },
        "f398513848b44157870d1adc0b0f47d2": {
          "model_module": "@jupyter-widgets/base",
          "model_name": "LayoutModel",
          "model_module_version": "1.2.0",
          "state": {
            "_model_module": "@jupyter-widgets/base",
            "_model_module_version": "1.2.0",
            "_model_name": "LayoutModel",
            "_view_count": null,
            "_view_module": "@jupyter-widgets/base",
            "_view_module_version": "1.2.0",
            "_view_name": "LayoutView",
            "align_content": null,
            "align_items": null,
            "align_self": null,
            "border": null,
            "bottom": null,
            "display": null,
            "flex": null,
            "flex_flow": null,
            "grid_area": null,
            "grid_auto_columns": null,
            "grid_auto_flow": null,
            "grid_auto_rows": null,
            "grid_column": null,
            "grid_gap": null,
            "grid_row": null,
            "grid_template_areas": null,
            "grid_template_columns": null,
            "grid_template_rows": null,
            "height": null,
            "justify_content": null,
            "justify_items": null,
            "left": null,
            "margin": null,
            "max_height": null,
            "max_width": null,
            "min_height": null,
            "min_width": null,
            "object_fit": null,
            "object_position": null,
            "order": null,
            "overflow": null,
            "overflow_x": null,
            "overflow_y": null,
            "padding": null,
            "right": null,
            "top": null,
            "visibility": null,
            "width": null
          }
        },
        "91a235a6f8ca4d9094eb7bb07662a761": {
          "model_module": "@jupyter-widgets/base",
          "model_name": "LayoutModel",
          "model_module_version": "1.2.0",
          "state": {
            "_model_module": "@jupyter-widgets/base",
            "_model_module_version": "1.2.0",
            "_model_name": "LayoutModel",
            "_view_count": null,
            "_view_module": "@jupyter-widgets/base",
            "_view_module_version": "1.2.0",
            "_view_name": "LayoutView",
            "align_content": null,
            "align_items": null,
            "align_self": null,
            "border": null,
            "bottom": null,
            "display": null,
            "flex": null,
            "flex_flow": null,
            "grid_area": null,
            "grid_auto_columns": null,
            "grid_auto_flow": null,
            "grid_auto_rows": null,
            "grid_column": null,
            "grid_gap": null,
            "grid_row": null,
            "grid_template_areas": null,
            "grid_template_columns": null,
            "grid_template_rows": null,
            "height": null,
            "justify_content": null,
            "justify_items": null,
            "left": null,
            "margin": null,
            "max_height": null,
            "max_width": null,
            "min_height": null,
            "min_width": null,
            "object_fit": null,
            "object_position": null,
            "order": null,
            "overflow": null,
            "overflow_x": null,
            "overflow_y": null,
            "padding": null,
            "right": null,
            "top": null,
            "visibility": null,
            "width": null
          }
        },
        "5eda642c9c3f47f6b20f6e0de484a11c": {
          "model_module": "@jupyter-widgets/controls",
          "model_name": "DescriptionStyleModel",
          "model_module_version": "1.5.0",
          "state": {
            "_model_module": "@jupyter-widgets/controls",
            "_model_module_version": "1.5.0",
            "_model_name": "DescriptionStyleModel",
            "_view_count": null,
            "_view_module": "@jupyter-widgets/base",
            "_view_module_version": "1.2.0",
            "_view_name": "StyleView",
            "description_width": ""
          }
        },
        "bbaef7ecbb634bda921ece8320648d94": {
          "model_module": "@jupyter-widgets/base",
          "model_name": "LayoutModel",
          "model_module_version": "1.2.0",
          "state": {
            "_model_module": "@jupyter-widgets/base",
            "_model_module_version": "1.2.0",
            "_model_name": "LayoutModel",
            "_view_count": null,
            "_view_module": "@jupyter-widgets/base",
            "_view_module_version": "1.2.0",
            "_view_name": "LayoutView",
            "align_content": null,
            "align_items": null,
            "align_self": null,
            "border": null,
            "bottom": null,
            "display": null,
            "flex": null,
            "flex_flow": null,
            "grid_area": null,
            "grid_auto_columns": null,
            "grid_auto_flow": null,
            "grid_auto_rows": null,
            "grid_column": null,
            "grid_gap": null,
            "grid_row": null,
            "grid_template_areas": null,
            "grid_template_columns": null,
            "grid_template_rows": null,
            "height": null,
            "justify_content": null,
            "justify_items": null,
            "left": null,
            "margin": null,
            "max_height": null,
            "max_width": null,
            "min_height": null,
            "min_width": null,
            "object_fit": null,
            "object_position": null,
            "order": null,
            "overflow": null,
            "overflow_x": null,
            "overflow_y": null,
            "padding": null,
            "right": null,
            "top": null,
            "visibility": null,
            "width": null
          }
        },
        "f5575b7428b84e33beced719cb3548e0": {
          "model_module": "@jupyter-widgets/controls",
          "model_name": "ProgressStyleModel",
          "model_module_version": "1.5.0",
          "state": {
            "_model_module": "@jupyter-widgets/controls",
            "_model_module_version": "1.5.0",
            "_model_name": "ProgressStyleModel",
            "_view_count": null,
            "_view_module": "@jupyter-widgets/base",
            "_view_module_version": "1.2.0",
            "_view_name": "StyleView",
            "bar_color": null,
            "description_width": ""
          }
        },
        "920ceee554e640d9bbd032ceac6472d6": {
          "model_module": "@jupyter-widgets/base",
          "model_name": "LayoutModel",
          "model_module_version": "1.2.0",
          "state": {
            "_model_module": "@jupyter-widgets/base",
            "_model_module_version": "1.2.0",
            "_model_name": "LayoutModel",
            "_view_count": null,
            "_view_module": "@jupyter-widgets/base",
            "_view_module_version": "1.2.0",
            "_view_name": "LayoutView",
            "align_content": null,
            "align_items": null,
            "align_self": null,
            "border": null,
            "bottom": null,
            "display": null,
            "flex": null,
            "flex_flow": null,
            "grid_area": null,
            "grid_auto_columns": null,
            "grid_auto_flow": null,
            "grid_auto_rows": null,
            "grid_column": null,
            "grid_gap": null,
            "grid_row": null,
            "grid_template_areas": null,
            "grid_template_columns": null,
            "grid_template_rows": null,
            "height": null,
            "justify_content": null,
            "justify_items": null,
            "left": null,
            "margin": null,
            "max_height": null,
            "max_width": null,
            "min_height": null,
            "min_width": null,
            "object_fit": null,
            "object_position": null,
            "order": null,
            "overflow": null,
            "overflow_x": null,
            "overflow_y": null,
            "padding": null,
            "right": null,
            "top": null,
            "visibility": null,
            "width": null
          }
        },
        "78801f690c0b426999c3934c0aa85e46": {
          "model_module": "@jupyter-widgets/controls",
          "model_name": "DescriptionStyleModel",
          "model_module_version": "1.5.0",
          "state": {
            "_model_module": "@jupyter-widgets/controls",
            "_model_module_version": "1.5.0",
            "_model_name": "DescriptionStyleModel",
            "_view_count": null,
            "_view_module": "@jupyter-widgets/base",
            "_view_module_version": "1.2.0",
            "_view_name": "StyleView",
            "description_width": ""
          }
        },
        "49b314536b004c26a20568d4c4b54660": {
          "model_module": "@jupyter-widgets/controls",
          "model_name": "HBoxModel",
          "model_module_version": "1.5.0",
          "state": {
            "_dom_classes": [],
            "_model_module": "@jupyter-widgets/controls",
            "_model_module_version": "1.5.0",
            "_model_name": "HBoxModel",
            "_view_count": null,
            "_view_module": "@jupyter-widgets/controls",
            "_view_module_version": "1.5.0",
            "_view_name": "HBoxView",
            "box_style": "",
            "children": [
              "IPY_MODEL_67ed660296f340d68e08a42c99963e76",
              "IPY_MODEL_8fd7fcd0e02b4b9fb3048635169d4f01",
              "IPY_MODEL_1966240558ed4fbe89083ca9ddfd1309"
            ],
            "layout": "IPY_MODEL_4d400a8697ae4cad8d5f65d69e7da478"
          }
        },
        "67ed660296f340d68e08a42c99963e76": {
          "model_module": "@jupyter-widgets/controls",
          "model_name": "HTMLModel",
          "model_module_version": "1.5.0",
          "state": {
            "_dom_classes": [],
            "_model_module": "@jupyter-widgets/controls",
            "_model_module_version": "1.5.0",
            "_model_name": "HTMLModel",
            "_view_count": null,
            "_view_module": "@jupyter-widgets/controls",
            "_view_module_version": "1.5.0",
            "_view_name": "HTMLView",
            "description": "",
            "description_tooltip": null,
            "layout": "IPY_MODEL_88fbc58b524a48a4a028714bf431a9ed",
            "placeholder": "​",
            "style": "IPY_MODEL_afa9fd4713a646beb4fff61b310c5abc",
            "value": "100%"
          }
        },
        "8fd7fcd0e02b4b9fb3048635169d4f01": {
          "model_module": "@jupyter-widgets/controls",
          "model_name": "FloatProgressModel",
          "model_module_version": "1.5.0",
          "state": {
            "_dom_classes": [],
            "_model_module": "@jupyter-widgets/controls",
            "_model_module_version": "1.5.0",
            "_model_name": "FloatProgressModel",
            "_view_count": null,
            "_view_module": "@jupyter-widgets/controls",
            "_view_module_version": "1.5.0",
            "_view_name": "ProgressView",
            "bar_style": "success",
            "description": "",
            "description_tooltip": null,
            "layout": "IPY_MODEL_62eeb8d03f1a4783911808f83b376cb6",
            "max": 79,
            "min": 0,
            "orientation": "horizontal",
            "style": "IPY_MODEL_2ee02ba4fad9412a88f325a27631867a",
            "value": 79
          }
        },
        "1966240558ed4fbe89083ca9ddfd1309": {
          "model_module": "@jupyter-widgets/controls",
          "model_name": "HTMLModel",
          "model_module_version": "1.5.0",
          "state": {
            "_dom_classes": [],
            "_model_module": "@jupyter-widgets/controls",
            "_model_module_version": "1.5.0",
            "_model_name": "HTMLModel",
            "_view_count": null,
            "_view_module": "@jupyter-widgets/controls",
            "_view_module_version": "1.5.0",
            "_view_name": "HTMLView",
            "description": "",
            "description_tooltip": null,
            "layout": "IPY_MODEL_540b45a604044f53adb08eaf130a13af",
            "placeholder": "​",
            "style": "IPY_MODEL_fc5ec2edf8b54cb6b3c16ba1ff2e389d",
            "value": " 79/79 [03:34&lt;00:00,  1.93s/it]"
          }
        },
        "4d400a8697ae4cad8d5f65d69e7da478": {
          "model_module": "@jupyter-widgets/base",
          "model_name": "LayoutModel",
          "model_module_version": "1.2.0",
          "state": {
            "_model_module": "@jupyter-widgets/base",
            "_model_module_version": "1.2.0",
            "_model_name": "LayoutModel",
            "_view_count": null,
            "_view_module": "@jupyter-widgets/base",
            "_view_module_version": "1.2.0",
            "_view_name": "LayoutView",
            "align_content": null,
            "align_items": null,
            "align_self": null,
            "border": null,
            "bottom": null,
            "display": null,
            "flex": null,
            "flex_flow": null,
            "grid_area": null,
            "grid_auto_columns": null,
            "grid_auto_flow": null,
            "grid_auto_rows": null,
            "grid_column": null,
            "grid_gap": null,
            "grid_row": null,
            "grid_template_areas": null,
            "grid_template_columns": null,
            "grid_template_rows": null,
            "height": null,
            "justify_content": null,
            "justify_items": null,
            "left": null,
            "margin": null,
            "max_height": null,
            "max_width": null,
            "min_height": null,
            "min_width": null,
            "object_fit": null,
            "object_position": null,
            "order": null,
            "overflow": null,
            "overflow_x": null,
            "overflow_y": null,
            "padding": null,
            "right": null,
            "top": null,
            "visibility": null,
            "width": null
          }
        },
        "88fbc58b524a48a4a028714bf431a9ed": {
          "model_module": "@jupyter-widgets/base",
          "model_name": "LayoutModel",
          "model_module_version": "1.2.0",
          "state": {
            "_model_module": "@jupyter-widgets/base",
            "_model_module_version": "1.2.0",
            "_model_name": "LayoutModel",
            "_view_count": null,
            "_view_module": "@jupyter-widgets/base",
            "_view_module_version": "1.2.0",
            "_view_name": "LayoutView",
            "align_content": null,
            "align_items": null,
            "align_self": null,
            "border": null,
            "bottom": null,
            "display": null,
            "flex": null,
            "flex_flow": null,
            "grid_area": null,
            "grid_auto_columns": null,
            "grid_auto_flow": null,
            "grid_auto_rows": null,
            "grid_column": null,
            "grid_gap": null,
            "grid_row": null,
            "grid_template_areas": null,
            "grid_template_columns": null,
            "grid_template_rows": null,
            "height": null,
            "justify_content": null,
            "justify_items": null,
            "left": null,
            "margin": null,
            "max_height": null,
            "max_width": null,
            "min_height": null,
            "min_width": null,
            "object_fit": null,
            "object_position": null,
            "order": null,
            "overflow": null,
            "overflow_x": null,
            "overflow_y": null,
            "padding": null,
            "right": null,
            "top": null,
            "visibility": null,
            "width": null
          }
        },
        "afa9fd4713a646beb4fff61b310c5abc": {
          "model_module": "@jupyter-widgets/controls",
          "model_name": "DescriptionStyleModel",
          "model_module_version": "1.5.0",
          "state": {
            "_model_module": "@jupyter-widgets/controls",
            "_model_module_version": "1.5.0",
            "_model_name": "DescriptionStyleModel",
            "_view_count": null,
            "_view_module": "@jupyter-widgets/base",
            "_view_module_version": "1.2.0",
            "_view_name": "StyleView",
            "description_width": ""
          }
        },
        "62eeb8d03f1a4783911808f83b376cb6": {
          "model_module": "@jupyter-widgets/base",
          "model_name": "LayoutModel",
          "model_module_version": "1.2.0",
          "state": {
            "_model_module": "@jupyter-widgets/base",
            "_model_module_version": "1.2.0",
            "_model_name": "LayoutModel",
            "_view_count": null,
            "_view_module": "@jupyter-widgets/base",
            "_view_module_version": "1.2.0",
            "_view_name": "LayoutView",
            "align_content": null,
            "align_items": null,
            "align_self": null,
            "border": null,
            "bottom": null,
            "display": null,
            "flex": null,
            "flex_flow": null,
            "grid_area": null,
            "grid_auto_columns": null,
            "grid_auto_flow": null,
            "grid_auto_rows": null,
            "grid_column": null,
            "grid_gap": null,
            "grid_row": null,
            "grid_template_areas": null,
            "grid_template_columns": null,
            "grid_template_rows": null,
            "height": null,
            "justify_content": null,
            "justify_items": null,
            "left": null,
            "margin": null,
            "max_height": null,
            "max_width": null,
            "min_height": null,
            "min_width": null,
            "object_fit": null,
            "object_position": null,
            "order": null,
            "overflow": null,
            "overflow_x": null,
            "overflow_y": null,
            "padding": null,
            "right": null,
            "top": null,
            "visibility": null,
            "width": null
          }
        },
        "2ee02ba4fad9412a88f325a27631867a": {
          "model_module": "@jupyter-widgets/controls",
          "model_name": "ProgressStyleModel",
          "model_module_version": "1.5.0",
          "state": {
            "_model_module": "@jupyter-widgets/controls",
            "_model_module_version": "1.5.0",
            "_model_name": "ProgressStyleModel",
            "_view_count": null,
            "_view_module": "@jupyter-widgets/base",
            "_view_module_version": "1.2.0",
            "_view_name": "StyleView",
            "bar_color": null,
            "description_width": ""
          }
        },
        "540b45a604044f53adb08eaf130a13af": {
          "model_module": "@jupyter-widgets/base",
          "model_name": "LayoutModel",
          "model_module_version": "1.2.0",
          "state": {
            "_model_module": "@jupyter-widgets/base",
            "_model_module_version": "1.2.0",
            "_model_name": "LayoutModel",
            "_view_count": null,
            "_view_module": "@jupyter-widgets/base",
            "_view_module_version": "1.2.0",
            "_view_name": "LayoutView",
            "align_content": null,
            "align_items": null,
            "align_self": null,
            "border": null,
            "bottom": null,
            "display": null,
            "flex": null,
            "flex_flow": null,
            "grid_area": null,
            "grid_auto_columns": null,
            "grid_auto_flow": null,
            "grid_auto_rows": null,
            "grid_column": null,
            "grid_gap": null,
            "grid_row": null,
            "grid_template_areas": null,
            "grid_template_columns": null,
            "grid_template_rows": null,
            "height": null,
            "justify_content": null,
            "justify_items": null,
            "left": null,
            "margin": null,
            "max_height": null,
            "max_width": null,
            "min_height": null,
            "min_width": null,
            "object_fit": null,
            "object_position": null,
            "order": null,
            "overflow": null,
            "overflow_x": null,
            "overflow_y": null,
            "padding": null,
            "right": null,
            "top": null,
            "visibility": null,
            "width": null
          }
        },
        "fc5ec2edf8b54cb6b3c16ba1ff2e389d": {
          "model_module": "@jupyter-widgets/controls",
          "model_name": "DescriptionStyleModel",
          "model_module_version": "1.5.0",
          "state": {
            "_model_module": "@jupyter-widgets/controls",
            "_model_module_version": "1.5.0",
            "_model_name": "DescriptionStyleModel",
            "_view_count": null,
            "_view_module": "@jupyter-widgets/base",
            "_view_module_version": "1.2.0",
            "_view_name": "StyleView",
            "description_width": ""
          }
        }
      }
    }
  },
  "nbformat": 4,
  "nbformat_minor": 0
}