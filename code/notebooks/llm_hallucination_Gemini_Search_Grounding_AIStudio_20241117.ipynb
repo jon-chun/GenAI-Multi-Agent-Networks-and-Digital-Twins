{
  "nbformat": 4,
  "nbformat_minor": 0,
  "metadata": {
    "colab": {
      "provenance": []
    },
    "kernelspec": {
      "name": "python3",
      "display_name": "Python 3"
    },
    "language_info": {
      "name": "python"
    }
  },
  "cells": [
    {
      "cell_type": "markdown",
      "source": [
        "* https://www.youtube.com/watch?v=1rzUbimPzpE\n",
        "\n",
        "* Requires API key\n",
        "- 100 free/day\n",
        "- over 100/day: $5/1000 queries or $0.001/search\n",
        "\n",
        "* https://aistudio.google.com/"
      ],
      "metadata": {
        "id": "VUL2kRshjpmS"
      }
    },
    {
      "cell_type": "code",
      "execution_count": null,
      "metadata": {
        "id": "udJSRuG2oBzd"
      },
      "outputs": [],
      "source": [
        "!pip install -U google-generativeai>=0.8.3"
      ]
    },
    {
      "cell_type": "markdown",
      "source": [
        "# Gemini Grounding with Google Search"
      ],
      "metadata": {
        "id": "1i8kKp0LR7Tu"
      }
    },
    {
      "cell_type": "code",
      "source": [
        "import google.generativeai as genai\n",
        "from IPython.display import Markdown, HTML, display\n"
      ],
      "metadata": {
        "id": "-iZXhsRjoWbd"
      },
      "execution_count": null,
      "outputs": []
    },
    {
      "cell_type": "code",
      "source": [
        "from google.colab import userdata\n",
        "GOOGLE_API_KEY=userdata.get('GOOGLE_AI_STUDIO') # 'GOOGLE_API_KEY')\n",
        "\n",
        "genai.configure(api_key=GOOGLE_API_KEY)"
      ],
      "metadata": {
        "id": "yDqdYSjZoMon"
      },
      "execution_count": null,
      "outputs": []
    },
    {
      "cell_type": "code",
      "source": [
        "for model in genai.list_models():\n",
        "  if '002' in model.name:\n",
        "    print(model.name)"
      ],
      "metadata": {
        "colab": {
          "base_uri": "https://localhost:8080/",
          "height": 52
        },
        "id": "wAVSmS-VoOkj",
        "outputId": "3c4999ab-f1d2-4936-ac8d-066e358b7ab8"
      },
      "execution_count": null,
      "outputs": [
        {
          "output_type": "stream",
          "name": "stdout",
          "text": [
            "models/gemini-1.5-pro-002\n",
            "models/gemini-1.5-flash-002\n"
          ]
        }
      ]
    },
    {
      "cell_type": "markdown",
      "source": [
        "## The Search Tool\n",
        "\n",
        "`GoogleSearchRetrieval` is a tool to do a search and retrieve public webpages for grounding. Part of `GoogleSearchRetrieval` is dynamic search retrieval, which uses real time retrieved data to build answers to queries.\n",
        "\n",
        "\n",
        "\n"
      ],
      "metadata": {
        "id": "d1hlXQE-om_H"
      }
    },
    {
      "cell_type": "code",
      "source": [
        "model = genai.GenerativeModel('models/gemini-1.5-pro-002')\n",
        "\n",
        "response = model.generate_content(contents=\"Who won the Nobal prive in physics in 2024?\",\n",
        "                                  tools='google_search_retrieval')"
      ],
      "metadata": {
        "id": "qZ9Ire6RomVD"
      },
      "execution_count": null,
      "outputs": []
    },
    {
      "cell_type": "markdown",
      "source": [
        "## Dealing with 429 errors\n",
        "\n",
        "If you're getting errors on this part and they're 429 errors, usually that relates to the fact that you don't have any quota set up. And that basically just means that you haven't setup a billing account here.\n",
        "\n",
        " Resource has been exhausted (e.g. check quota)."
      ],
      "metadata": {
        "id": "aTF_XK9Mo7bw"
      }
    },
    {
      "cell_type": "code",
      "source": [
        "Markdown(response.candidates[0].content.parts[0].text)"
      ],
      "metadata": {
        "colab": {
          "base_uri": "https://localhost:8080/",
          "height": 64
        },
        "id": "TnkD_O5zo0sk",
        "outputId": "a385527f-dab6-43fd-f88f-93c820df30ab"
      },
      "execution_count": null,
      "outputs": [
        {
          "output_type": "execute_result",
          "data": {
            "text/plain": [
              "<IPython.core.display.Markdown object>"
            ],
            "text/markdown": "The 2024 Nobel Prize in Physics was awarded to John J. Hopfield and Geoffrey E. Hinton \"for foundational discoveries and inventions that enable machine learning with artificial neural networks\".  Hinton is known as \"a godfather of AI\" for his work on methods enabling autonomous data analysis.\n"
          },
          "metadata": {},
          "execution_count": 5
        }
      ]
    },
    {
      "cell_type": "code",
      "source": [
        "HTML(response.candidates[0].grounding_metadata.search_entry_point.rendered_content)"
      ],
      "metadata": {
        "colab": {
          "base_uri": "https://localhost:8080/",
          "height": 64
        },
        "id": "qD8Xmj30pOXh",
        "outputId": "f2b65f99-4beb-4585-844d-1959441b461e"
      },
      "execution_count": null,
      "outputs": [
        {
          "output_type": "execute_result",
          "data": {
            "text/plain": [
              "<IPython.core.display.HTML object>"
            ],
            "text/html": [
              "<style>\n",
              ".container {\n",
              "  align-items: center;\n",
              "  border-radius: 8px;\n",
              "  display: flex;\n",
              "  font-family: Google Sans, Roboto, sans-serif;\n",
              "  font-size: 14px;\n",
              "  line-height: 20px;\n",
              "  padding: 8px 12px;\n",
              "}\n",
              ".chip {\n",
              "  display: inline-block;\n",
              "  border: solid 1px;\n",
              "  border-radius: 16px;\n",
              "  min-width: 14px;\n",
              "  padding: 5px 16px;\n",
              "  text-align: center;\n",
              "  user-select: none;\n",
              "  margin: 0 8px;\n",
              "  -webkit-tap-highlight-color: transparent;\n",
              "}\n",
              ".carousel {\n",
              "  overflow: auto;\n",
              "  scrollbar-width: none;\n",
              "  white-space: nowrap;\n",
              "  margin-right: -12px;\n",
              "}\n",
              ".headline {\n",
              "  display: flex;\n",
              "  margin-right: 4px;\n",
              "}\n",
              ".gradient-container {\n",
              "  position: relative;\n",
              "}\n",
              ".gradient {\n",
              "  position: absolute;\n",
              "  transform: translate(3px, -9px);\n",
              "  height: 36px;\n",
              "  width: 9px;\n",
              "}\n",
              "@media (prefers-color-scheme: light) {\n",
              "  .container {\n",
              "    background-color: #fafafa;\n",
              "    box-shadow: 0 0 0 1px #0000000f;\n",
              "  }\n",
              "  .headline-label {\n",
              "    color: #1f1f1f;\n",
              "  }\n",
              "  .chip {\n",
              "    background-color: #ffffff;\n",
              "    border-color: #d2d2d2;\n",
              "    color: #5e5e5e;\n",
              "    text-decoration: none;\n",
              "  }\n",
              "  .chip:hover {\n",
              "    background-color: #f2f2f2;\n",
              "  }\n",
              "  .chip:focus {\n",
              "    background-color: #f2f2f2;\n",
              "  }\n",
              "  .chip:active {\n",
              "    background-color: #d8d8d8;\n",
              "    border-color: #b6b6b6;\n",
              "  }\n",
              "  .logo-dark {\n",
              "    display: none;\n",
              "  }\n",
              "  .gradient {\n",
              "    background: linear-gradient(90deg, #fafafa 15%, #fafafa00 100%);\n",
              "  }\n",
              "}\n",
              "@media (prefers-color-scheme: dark) {\n",
              "  .container {\n",
              "    background-color: #1f1f1f;\n",
              "    box-shadow: 0 0 0 1px #ffffff26;\n",
              "  }\n",
              "  .headline-label {\n",
              "    color: #fff;\n",
              "  }\n",
              "  .chip {\n",
              "    background-color: #2c2c2c;\n",
              "    border-color: #3c4043;\n",
              "    color: #fff;\n",
              "    text-decoration: none;\n",
              "  }\n",
              "  .chip:hover {\n",
              "    background-color: #353536;\n",
              "  }\n",
              "  .chip:focus {\n",
              "    background-color: #353536;\n",
              "  }\n",
              "  .chip:active {\n",
              "    background-color: #464849;\n",
              "    border-color: #53575b;\n",
              "  }\n",
              "  .logo-light {\n",
              "    display: none;\n",
              "  }\n",
              "  .gradient {\n",
              "    background: linear-gradient(90deg, #1f1f1f 15%, #1f1f1f00 100%);\n",
              "  }\n",
              "}\n",
              "</style>\n",
              "<div class=\"container\">\n",
              "  <div class=\"headline\">\n",
              "    <svg class=\"logo-light\" width=\"18\" height=\"18\" viewBox=\"9 9 35 35\" fill=\"none\" xmlns=\"http://www.w3.org/2000/svg\">\n",
              "      <path fill-rule=\"evenodd\" clip-rule=\"evenodd\" d=\"M42.8622 27.0064C42.8622 25.7839 42.7525 24.6084 42.5487 23.4799H26.3109V30.1568H35.5897C35.1821 32.3041 33.9596 34.1222 32.1258 35.3448V39.6864H37.7213C40.9814 36.677 42.8622 32.2571 42.8622 27.0064V27.0064Z\" fill=\"#4285F4\"/>\n",
              "      <path fill-rule=\"evenodd\" clip-rule=\"evenodd\" d=\"M26.3109 43.8555C30.9659 43.8555 34.8687 42.3195 37.7213 39.6863L32.1258 35.3447C30.5898 36.3792 28.6306 37.0061 26.3109 37.0061C21.8282 37.0061 18.0195 33.9811 16.6559 29.906H10.9194V34.3573C13.7563 39.9841 19.5712 43.8555 26.3109 43.8555V43.8555Z\" fill=\"#34A853\"/>\n",
              "      <path fill-rule=\"evenodd\" clip-rule=\"evenodd\" d=\"M16.6559 29.8904C16.3111 28.8559 16.1074 27.7588 16.1074 26.6146C16.1074 25.4704 16.3111 24.3733 16.6559 23.3388V18.8875H10.9194C9.74388 21.2072 9.06992 23.8247 9.06992 26.6146C9.06992 29.4045 9.74388 32.022 10.9194 34.3417L15.3864 30.8621L16.6559 29.8904V29.8904Z\" fill=\"#FBBC05\"/>\n",
              "      <path fill-rule=\"evenodd\" clip-rule=\"evenodd\" d=\"M26.3109 16.2386C28.85 16.2386 31.107 17.1164 32.9095 18.8091L37.8466 13.8719C34.853 11.082 30.9659 9.3736 26.3109 9.3736C19.5712 9.3736 13.7563 13.245 10.9194 18.8875L16.6559 23.3388C18.0195 19.2636 21.8282 16.2386 26.3109 16.2386V16.2386Z\" fill=\"#EA4335\"/>\n",
              "    </svg>\n",
              "    <svg class=\"logo-dark\" width=\"18\" height=\"18\" viewBox=\"0 0 48 48\" xmlns=\"http://www.w3.org/2000/svg\">\n",
              "      <circle cx=\"24\" cy=\"23\" fill=\"#FFF\" r=\"22\"/>\n",
              "      <path d=\"M33.76 34.26c2.75-2.56 4.49-6.37 4.49-11.26 0-.89-.08-1.84-.29-3H24.01v5.99h8.03c-.4 2.02-1.5 3.56-3.07 4.56v.75l3.91 2.97h.88z\" fill=\"#4285F4\"/>\n",
              "      <path d=\"M15.58 25.77A8.845 8.845 0 0 0 24 31.86c1.92 0 3.62-.46 4.97-1.31l4.79 3.71C31.14 36.7 27.65 38 24 38c-5.93 0-11.01-3.4-13.45-8.36l.17-1.01 4.06-2.85h.8z\" fill=\"#34A853\"/>\n",
              "      <path d=\"M15.59 20.21a8.864 8.864 0 0 0 0 5.58l-5.03 3.86c-.98-2-1.53-4.25-1.53-6.64 0-2.39.55-4.64 1.53-6.64l1-.22 3.81 2.98.22 1.08z\" fill=\"#FBBC05\"/>\n",
              "      <path d=\"M24 14.14c2.11 0 4.02.75 5.52 1.98l4.36-4.36C31.22 9.43 27.81 8 24 8c-5.93 0-11.01 3.4-13.45 8.36l5.03 3.85A8.86 8.86 0 0 1 24 14.14z\" fill=\"#EA4335\"/>\n",
              "    </svg>\n",
              "    <div class=\"gradient-container\"><div class=\"gradient\"></div></div>\n",
              "  </div>\n",
              "  <div class=\"carousel\">\n",
              "    <a class=\"chip\" href=\"https://vertexaisearch.cloud.google.com/grounding-api-redirect/AZnLMfzZfwuKWOPk_rogPCGrP1eX9lZcwwKmKcOKjv2Da8zd2FKU-i5a2bSiJqSxngmNCmPPUHYi5kLuSPJLnyoqfAVYDuj6C99B5m3ioKF65YsZsjiB6-I1H2WZoAlXsz-JM9PmV-Sp1FST5LPpLwGWjQJ6t4xESm3Ts7qzkewRwfxA0A5XfJ2JxUF4M8nwrumuXxbqGvZd3BoRkBOrshAmnNz-2Nm96lAeL15ZQkDO-lfdgg==\">Who won the Nobel Prize in Physics in 2024?</a>\n",
              "  </div>\n",
              "</div>\n"
            ]
          },
          "metadata": {},
          "execution_count": 6
        }
      ]
    },
    {
      "cell_type": "code",
      "source": [
        "links = response.candidates[0].grounding_metadata.grounding_chunks\n",
        "links"
      ],
      "metadata": {
        "colab": {
          "base_uri": "https://localhost:8080/"
        },
        "id": "6FJiXFXvpSs6",
        "outputId": "6a93ee0c-96aa-40fe-da92-48d5d7cdf08a"
      },
      "execution_count": null,
      "outputs": [
        {
          "output_type": "execute_result",
          "data": {
            "text/plain": [
              "[web {\n",
              "  uri: \"https://vertexaisearch.cloud.google.com/grounding-api-redirect/AZnLMfwGBTuFt1A_KKeuRE7AiswQgaPWI9usfZES-jI10K-c-0aMVWhhoX71Sbv37mcY6pApwJQrVEC3h8EaAmD1lO6j_xidcXXSe-OR1f4NDvqYshidbsVMwyDmJLfHJqNRnp8JelOZVnNKQ9jMoxcwA8htdOPu-b8Uyg==\"\n",
              "  title: \"aip.org\"\n",
              "}\n",
              ", web {\n",
              "  uri: \"https://vertexaisearch.cloud.google.com/grounding-api-redirect/AZnLMfwiQneKgSdmvyViF4dyqrIsh1R3m2YvJTFexms4hfGNlpfbROOijRYnxBOjM4g0ET_q40Gm0Jq4wLEqX_U1vhYvHMxSt3i1iaNoIOwP-otnthDf6P909mjr-TynVybjJRt0tps6Hfs=\"\n",
              "  title: \"youtube.com\"\n",
              "}\n",
              ", web {\n",
              "  uri: \"https://vertexaisearch.cloud.google.com/grounding-api-redirect/AZnLMfwKUM-WucPPJSEzzArXOVaZg_YyTNX3TXWj3XXelBp9DdKJl517aLIZWIdLd2JlgzAySlWGXu3gAxxm3XHOH2iWEzniXmYHYNETyD67KsZMMlCZAx99KaudIsPpjHBoxyNJ51_0HVcqr9pApMZF2ye5V9x0gvBTGyCCzZM4\"\n",
              "  title: \"weforum.org\"\n",
              "}\n",
              "]"
            ]
          },
          "metadata": {},
          "execution_count": 7
        }
      ]
    },
    {
      "cell_type": "code",
      "source": [
        "\n",
        "links = [(chunk.web.title, chunk.web.uri) for chunk in links]\n",
        "\n",
        "html_links = '<br>'.join(f'<a href=\"{url}\" target=\"_blank\">{title}</a>' for title, url in links)\n",
        "display(HTML(html_links))"
      ],
      "metadata": {
        "colab": {
          "base_uri": "https://localhost:8080/",
          "height": 69
        },
        "id": "Y1TyN-jXKn3H",
        "outputId": "84f64e59-a731-4835-a9c7-0164a1ca299a"
      },
      "execution_count": null,
      "outputs": [
        {
          "output_type": "display_data",
          "data": {
            "text/plain": [
              "<IPython.core.display.HTML object>"
            ],
            "text/html": [
              "<a href=\"https://vertexaisearch.cloud.google.com/grounding-api-redirect/AZnLMfwGBTuFt1A_KKeuRE7AiswQgaPWI9usfZES-jI10K-c-0aMVWhhoX71Sbv37mcY6pApwJQrVEC3h8EaAmD1lO6j_xidcXXSe-OR1f4NDvqYshidbsVMwyDmJLfHJqNRnp8JelOZVnNKQ9jMoxcwA8htdOPu-b8Uyg==\" target=\"_blank\">aip.org</a><br><a href=\"https://vertexaisearch.cloud.google.com/grounding-api-redirect/AZnLMfwiQneKgSdmvyViF4dyqrIsh1R3m2YvJTFexms4hfGNlpfbROOijRYnxBOjM4g0ET_q40Gm0Jq4wLEqX_U1vhYvHMxSt3i1iaNoIOwP-otnthDf6P909mjr-TynVybjJRt0tps6Hfs=\" target=\"_blank\">youtube.com</a><br><a href=\"https://vertexaisearch.cloud.google.com/grounding-api-redirect/AZnLMfwKUM-WucPPJSEzzArXOVaZg_YyTNX3TXWj3XXelBp9DdKJl517aLIZWIdLd2JlgzAySlWGXu3gAxxm3XHOH2iWEzniXmYHYNETyD67KsZMMlCZAx99KaudIsPpjHBoxyNJ51_0HVcqr9pApMZF2ye5V9x0gvBTGyCCzZM4\" target=\"_blank\">weforum.org</a>"
            ]
          },
          "metadata": {}
        }
      ]
    },
    {
      "cell_type": "code",
      "source": [
        "response.candidates[0].grounding_metadata.grounding_supports"
      ],
      "metadata": {
        "colab": {
          "base_uri": "https://localhost:8080/"
        },
        "id": "MRQkQpQ1pW8T",
        "outputId": "a62d97cb-3ef5-488d-8710-ff524058ed63"
      },
      "execution_count": null,
      "outputs": [
        {
          "output_type": "execute_result",
          "data": {
            "text/plain": [
              "[segment {\n",
              "  end_index: 194\n",
              "  text: \"The 2024 Nobel Prize in Physics was awarded to John J. Hopfield and Geoffrey E. Hinton \\\"for foundational discoveries and inventions that enable machine learning with artificial neural networks\\\".\"\n",
              "}\n",
              "grounding_chunk_indices: 0\n",
              "grounding_chunk_indices: 1\n",
              "confidence_scores: 0.9747981429100037\n",
              "confidence_scores: 0.9693813920021057\n",
              ", segment {\n",
              "  start_index: 196\n",
              "  end_index: 293\n",
              "  text: \"Hinton is known as \\\"a godfather of AI\\\" for his work on methods enabling autonomous data analysis.\"\n",
              "}\n",
              "grounding_chunk_indices: 2\n",
              "confidence_scores: 0.9746900796890259\n",
              "]"
            ]
          },
          "metadata": {},
          "execution_count": 9
        }
      ]
    },
    {
      "cell_type": "markdown",
      "source": [
        "### Customize search grounding parameters\n",
        "\n",
        "For a dictionary implementation, you don't actually have to pass in `mode` or `dynamic_threshold` key-value pairs. If you don't pass in a value, a default value is created. See the next code cell for this. For the `mode` value, you can pass in one of two specifications:\n",
        "\n",
        "1. `unspecified`: Always trigger retrieval.\n",
        "2. `dynamic`: Run retrieval only when system decides it is necessary.\n",
        "\n",
        "The `dynamic_threshold` is a float value that acts as a threshold on how relevant answers returned should be. You can tweak this parameter depending on how much variation you want in your answer."
      ],
      "metadata": {
        "id": "LaXPcr-EqHra"
      }
    },
    {
      "cell_type": "code",
      "source": [
        "model = genai.GenerativeModel('models/gemini-1.5-pro-002')\n",
        "response = model.generate_content(contents=\"Who is Geoffrey Hinton?\",\n",
        "                                  tools={\"google_search_retrieval\": {\"dynamic_retrieval_config\": {\"mode\": \"MODE_DYNAMIC\",\n",
        "                                                                                                  \"dynamic_threshold\": 0.5}}})"
      ],
      "metadata": {
        "id": "r99EFNrup8aX"
      },
      "execution_count": null,
      "outputs": []
    },
    {
      "cell_type": "code",
      "source": [
        "Markdown(response.candidates[0].content.parts[0].text)"
      ],
      "metadata": {
        "colab": {
          "base_uri": "https://localhost:8080/",
          "height": 417
        },
        "id": "1_2aT4pCqQ97",
        "outputId": "5b6723e0-9ef5-4d9d-8217-cc68f86d1227"
      },
      "execution_count": null,
      "outputs": [
        {
          "output_type": "execute_result",
          "data": {
            "text/plain": [
              "<IPython.core.display.Markdown object>"
            ],
            "text/markdown": "Geoffrey Hinton is a British-Canadian cognitive psychologist and computer scientist renowned for his groundbreaking work in artificial intelligence, particularly in the area of artificial neural networks.  He is often called the \"Godfather of AI\" for his significant contributions to the field.  Born on December 6, 1947, Hinton's career has been marked by his persistent exploration of neural networks, even when the field was not popular.  His research has revolutionized machine learning and paved the way for many modern AI applications.\n\nHinton earned a degree in experimental psychology from the University of Cambridge in 1970 and a PhD in Artificial Intelligence from the University of Edinburgh in 1978.  He held positions at various universities, including the University of Sussex, University of California, San Diego, Carnegie Mellon University, and University College London.  He joined the University of Toronto in 1987 and is currently a University Professor Emeritus there.\n\nSome of Hinton's key contributions include:\n\n* **Backpropagation:**  Along with David Rumelhart and Ronald J. Williams, Hinton popularized the backpropagation algorithm, a key process for training multi-layer neural networks. This 1986 paper was highly influential in the development of the field.\n* **Boltzmann Machines:** In 1983, he co-invented Boltzmann machines, one of the first neural networks capable of learning internal representations.\n* **Deep Learning:**  Hinton's research group at the University of Toronto made major breakthroughs in deep learning that transformed speech recognition and object classification.\n* **AlexNet:** In 2012, with his students Alex Krizhevsky and Ilya Sutskever, Hinton developed AlexNet, an eight-layer neural network that significantly outperformed other image recognition programs. This marked a major breakthrough in computer vision.\n* **Word Embeddings:** Hinton was the first to use backpropagation for learning word embeddings, further advancing natural language processing.\n\nHinton has received numerous prestigious awards, including the 2018 Turing Award (often referred to as the \"Nobel Prize of Computing\"), the 2010 Gerhard Herzberg Canada Gold Medal, and most recently, the 2024 Nobel Prize in Physics for his foundational discoveries and inventions that enable machine learning with artificial neural networks.  He co-founded DNNresearch, which was acquired by Google, where he worked until 2023. He also co-founded and is the Chief Scientific Advisor of the Vector Institute in Toronto. In 2023, Hinton publicly expressed concerns about the risks of AI technology, becoming a prominent voice warning about the potential dangers of advanced AI systems.\n"
          },
          "metadata": {},
          "execution_count": 11
        }
      ]
    },
    {
      "cell_type": "code",
      "source": [
        "HTML(response.candidates[0].grounding_metadata.search_entry_point.rendered_content)"
      ],
      "metadata": {
        "colab": {
          "base_uri": "https://localhost:8080/",
          "height": 64
        },
        "id": "tuBhFuZIV7Ae",
        "outputId": "84a04183-09b0-4aca-933e-c66de4539aa7"
      },
      "execution_count": null,
      "outputs": [
        {
          "output_type": "execute_result",
          "data": {
            "text/plain": [
              "<IPython.core.display.HTML object>"
            ],
            "text/html": [
              "<style>\n",
              ".container {\n",
              "  align-items: center;\n",
              "  border-radius: 8px;\n",
              "  display: flex;\n",
              "  font-family: Google Sans, Roboto, sans-serif;\n",
              "  font-size: 14px;\n",
              "  line-height: 20px;\n",
              "  padding: 8px 12px;\n",
              "}\n",
              ".chip {\n",
              "  display: inline-block;\n",
              "  border: solid 1px;\n",
              "  border-radius: 16px;\n",
              "  min-width: 14px;\n",
              "  padding: 5px 16px;\n",
              "  text-align: center;\n",
              "  user-select: none;\n",
              "  margin: 0 8px;\n",
              "  -webkit-tap-highlight-color: transparent;\n",
              "}\n",
              ".carousel {\n",
              "  overflow: auto;\n",
              "  scrollbar-width: none;\n",
              "  white-space: nowrap;\n",
              "  margin-right: -12px;\n",
              "}\n",
              ".headline {\n",
              "  display: flex;\n",
              "  margin-right: 4px;\n",
              "}\n",
              ".gradient-container {\n",
              "  position: relative;\n",
              "}\n",
              ".gradient {\n",
              "  position: absolute;\n",
              "  transform: translate(3px, -9px);\n",
              "  height: 36px;\n",
              "  width: 9px;\n",
              "}\n",
              "@media (prefers-color-scheme: light) {\n",
              "  .container {\n",
              "    background-color: #fafafa;\n",
              "    box-shadow: 0 0 0 1px #0000000f;\n",
              "  }\n",
              "  .headline-label {\n",
              "    color: #1f1f1f;\n",
              "  }\n",
              "  .chip {\n",
              "    background-color: #ffffff;\n",
              "    border-color: #d2d2d2;\n",
              "    color: #5e5e5e;\n",
              "    text-decoration: none;\n",
              "  }\n",
              "  .chip:hover {\n",
              "    background-color: #f2f2f2;\n",
              "  }\n",
              "  .chip:focus {\n",
              "    background-color: #f2f2f2;\n",
              "  }\n",
              "  .chip:active {\n",
              "    background-color: #d8d8d8;\n",
              "    border-color: #b6b6b6;\n",
              "  }\n",
              "  .logo-dark {\n",
              "    display: none;\n",
              "  }\n",
              "  .gradient {\n",
              "    background: linear-gradient(90deg, #fafafa 15%, #fafafa00 100%);\n",
              "  }\n",
              "}\n",
              "@media (prefers-color-scheme: dark) {\n",
              "  .container {\n",
              "    background-color: #1f1f1f;\n",
              "    box-shadow: 0 0 0 1px #ffffff26;\n",
              "  }\n",
              "  .headline-label {\n",
              "    color: #fff;\n",
              "  }\n",
              "  .chip {\n",
              "    background-color: #2c2c2c;\n",
              "    border-color: #3c4043;\n",
              "    color: #fff;\n",
              "    text-decoration: none;\n",
              "  }\n",
              "  .chip:hover {\n",
              "    background-color: #353536;\n",
              "  }\n",
              "  .chip:focus {\n",
              "    background-color: #353536;\n",
              "  }\n",
              "  .chip:active {\n",
              "    background-color: #464849;\n",
              "    border-color: #53575b;\n",
              "  }\n",
              "  .logo-light {\n",
              "    display: none;\n",
              "  }\n",
              "  .gradient {\n",
              "    background: linear-gradient(90deg, #1f1f1f 15%, #1f1f1f00 100%);\n",
              "  }\n",
              "}\n",
              "</style>\n",
              "<div class=\"container\">\n",
              "  <div class=\"headline\">\n",
              "    <svg class=\"logo-light\" width=\"18\" height=\"18\" viewBox=\"9 9 35 35\" fill=\"none\" xmlns=\"http://www.w3.org/2000/svg\">\n",
              "      <path fill-rule=\"evenodd\" clip-rule=\"evenodd\" d=\"M42.8622 27.0064C42.8622 25.7839 42.7525 24.6084 42.5487 23.4799H26.3109V30.1568H35.5897C35.1821 32.3041 33.9596 34.1222 32.1258 35.3448V39.6864H37.7213C40.9814 36.677 42.8622 32.2571 42.8622 27.0064V27.0064Z\" fill=\"#4285F4\"/>\n",
              "      <path fill-rule=\"evenodd\" clip-rule=\"evenodd\" d=\"M26.3109 43.8555C30.9659 43.8555 34.8687 42.3195 37.7213 39.6863L32.1258 35.3447C30.5898 36.3792 28.6306 37.0061 26.3109 37.0061C21.8282 37.0061 18.0195 33.9811 16.6559 29.906H10.9194V34.3573C13.7563 39.9841 19.5712 43.8555 26.3109 43.8555V43.8555Z\" fill=\"#34A853\"/>\n",
              "      <path fill-rule=\"evenodd\" clip-rule=\"evenodd\" d=\"M16.6559 29.8904C16.3111 28.8559 16.1074 27.7588 16.1074 26.6146C16.1074 25.4704 16.3111 24.3733 16.6559 23.3388V18.8875H10.9194C9.74388 21.2072 9.06992 23.8247 9.06992 26.6146C9.06992 29.4045 9.74388 32.022 10.9194 34.3417L15.3864 30.8621L16.6559 29.8904V29.8904Z\" fill=\"#FBBC05\"/>\n",
              "      <path fill-rule=\"evenodd\" clip-rule=\"evenodd\" d=\"M26.3109 16.2386C28.85 16.2386 31.107 17.1164 32.9095 18.8091L37.8466 13.8719C34.853 11.082 30.9659 9.3736 26.3109 9.3736C19.5712 9.3736 13.7563 13.245 10.9194 18.8875L16.6559 23.3388C18.0195 19.2636 21.8282 16.2386 26.3109 16.2386V16.2386Z\" fill=\"#EA4335\"/>\n",
              "    </svg>\n",
              "    <svg class=\"logo-dark\" width=\"18\" height=\"18\" viewBox=\"0 0 48 48\" xmlns=\"http://www.w3.org/2000/svg\">\n",
              "      <circle cx=\"24\" cy=\"23\" fill=\"#FFF\" r=\"22\"/>\n",
              "      <path d=\"M33.76 34.26c2.75-2.56 4.49-6.37 4.49-11.26 0-.89-.08-1.84-.29-3H24.01v5.99h8.03c-.4 2.02-1.5 3.56-3.07 4.56v.75l3.91 2.97h.88z\" fill=\"#4285F4\"/>\n",
              "      <path d=\"M15.58 25.77A8.845 8.845 0 0 0 24 31.86c1.92 0 3.62-.46 4.97-1.31l4.79 3.71C31.14 36.7 27.65 38 24 38c-5.93 0-11.01-3.4-13.45-8.36l.17-1.01 4.06-2.85h.8z\" fill=\"#34A853\"/>\n",
              "      <path d=\"M15.59 20.21a8.864 8.864 0 0 0 0 5.58l-5.03 3.86c-.98-2-1.53-4.25-1.53-6.64 0-2.39.55-4.64 1.53-6.64l1-.22 3.81 2.98.22 1.08z\" fill=\"#FBBC05\"/>\n",
              "      <path d=\"M24 14.14c2.11 0 4.02.75 5.52 1.98l4.36-4.36C31.22 9.43 27.81 8 24 8c-5.93 0-11.01 3.4-13.45 8.36l5.03 3.85A8.86 8.86 0 0 1 24 14.14z\" fill=\"#EA4335\"/>\n",
              "    </svg>\n",
              "    <div class=\"gradient-container\"><div class=\"gradient\"></div></div>\n",
              "  </div>\n",
              "  <div class=\"carousel\">\n",
              "    <a class=\"chip\" href=\"https://vertexaisearch.cloud.google.com/grounding-api-redirect/AZnLMfxFEQgAbjEcEVMndv_uliUnIZtz_3CQDtI6_ChWr9bEI7QOEJHq4FXKmloT-8CKOoUOEJ-ltLXMYxiFoBOiWZaXB7vUhl0xhrpw-9uGDGF_mEv9bEVIzg4QE-ytWavdknW1IgC-VEzJ5gpG6JZ7wlOkRiSo-pszqZS_ztWhe7wRBEnYnd_F2D1dX2ThL5uPaVi2phtEbLlxxyspq0o=\">Who is Geoffrey Hinton?</a>\n",
              "  </div>\n",
              "</div>\n"
            ]
          },
          "metadata": {},
          "execution_count": 12
        }
      ]
    },
    {
      "cell_type": "code",
      "source": [
        "links = response.candidates[0].grounding_metadata.grounding_chunks\n",
        "\n",
        "links = [(chunk.web.title, chunk.web.uri) for chunk in links]\n",
        "\n",
        "html_links = '<br>'.join(f'<a href=\"{url}\" target=\"_blank\">{title}</a>' for title, url in links)\n",
        "display(HTML(html_links))"
      ],
      "metadata": {
        "colab": {
          "base_uri": "https://localhost:8080/",
          "height": 104
        },
        "id": "MlpNDxnKWC5U",
        "outputId": "c824b3a1-afb8-476d-9a0e-d3a5a1c8ffaa"
      },
      "execution_count": null,
      "outputs": [
        {
          "output_type": "display_data",
          "data": {
            "text/plain": [
              "<IPython.core.display.HTML object>"
            ],
            "text/html": [
              "<a href=\"https://vertexaisearch.cloud.google.com/grounding-api-redirect/AZnLMfx2a-9SQPxWT2b0C5jhkgU8lfzU_apdH89b1WzWaypAbv168tfM41EZC0jJ-Lcl-_W8oTfCWLKPylE0P5eM_Haf9rdKQPsvgjrkAn-fDDEBwTBobNK1VBxaLNq3KuG6piNiufmu4T_KDgYKUXsm450=\" target=\"_blank\">britannica.com</a><br><a href=\"https://vertexaisearch.cloud.google.com/grounding-api-redirect/AZnLMfzoFicQ2Kj8LzajlkDDVJoZhe6wqy-P8Rc6Mym685PlhgQGbS21_UIbyzRVsp2PCuz7vyTooxHaong7CCJNFwlK3w8g1ZIxzOW9jKJJELWctXPdcvuClWkGo98WdTn7oMw1Z6st4-Jf3bQs6lsovg==\" target=\"_blank\">acm.org</a><br><a href=\"https://vertexaisearch.cloud.google.com/grounding-api-redirect/AZnLMfyrAgtxT0sHtcPJ6Y07krzDpFw9SlDFG0sF0RWZwNLLI_F6S3dJjzbqpHAXh0nWyMGviW6P1tTPWTjULVX6afCC9H8K47KSMr72s7ooB8tV2ZMFKn3xNoFF7_3s0UYm-9oiP_vPFBnVhQ==\" target=\"_blank\">wikipedia.org</a><br><a href=\"https://vertexaisearch.cloud.google.com/grounding-api-redirect/AZnLMfxoElJBRkWaCKPMdBpV0iETFuBg3kU3qEM46uR5gji4s9qW1EJCQ3KY2x5A0-i4RuwQEcNMcTrYBi_khPCotZZM9_5MiRgdHiYHctawiDb1q715od3TWggmMJ47O9iWcWiD3NAp9hfHV8g7ah6AbB0g4nbQGJDwMxe2A7uKfv7OJmlLX0_s_x107edHNa7dYp9beUYtOwgLe6o6YRE=\" target=\"_blank\">jagranjosh.com</a><br><a href=\"https://vertexaisearch.cloud.google.com/grounding-api-redirect/AZnLMfxgW1zEinbnmK1ha0rHo3GYvy8vttkprxuf2X04mv8NcpvYsEXamaBbcpEZYRpzy9mLa5WN_wCbHVW9qstyIKLZPUEhxMMuNcUUW7M7nQzLe3X7MKs-K8DDSGdmDllRp2mF6wiAoBwjvc2ESyAIzm4oyKog-Hmxxns=\" target=\"_blank\">utoronto.ca</a>"
            ]
          },
          "metadata": {}
        }
      ]
    },
    {
      "cell_type": "code",
      "source": [
        "model = genai.GenerativeModel('models/gemini-1.5-pro-002')\n",
        "response = model.generate_content(contents=\"Who is Geoffrey Hinton?\",\n",
        "                                  tools={\"google_search_retrieval\": {}})"
      ],
      "metadata": {
        "id": "0RxN1J-mqTBb"
      },
      "execution_count": null,
      "outputs": []
    },
    {
      "cell_type": "code",
      "source": [
        "Markdown(response.candidates[0].content.parts[0].text)"
      ],
      "metadata": {
        "colab": {
          "base_uri": "https://localhost:8080/",
          "height": 406
        },
        "id": "vWIaNfnPqWzE",
        "outputId": "9c6fd192-2d8a-4c29-aac0-ff5a79ca1057"
      },
      "execution_count": null,
      "outputs": [
        {
          "output_type": "execute_result",
          "data": {
            "text/plain": [
              "<IPython.core.display.Markdown object>"
            ],
            "text/markdown": "Geoffrey Hinton is a British-Canadian cognitive psychologist and computer scientist known as the \"Godfather of AI\" for his revolutionary work on artificial neural networks.  Born in Wimbledon, London, on December 6, 1947, he currently holds the title of University Professor Emeritus at the University of Toronto.\n\nHinton's academic journey began at the University of Cambridge, where he explored physiology, philosophy, and physics before graduating with a degree in experimental psychology in 1970. He then pursued a Ph.D. in Artificial Intelligence (AI) from the University of Edinburgh, graduating in 1978.  Despite discouragement from his professors, Hinton persisted in his research on neural networks, inspired by the structure of the human brain.\n\nHinton's career has included positions at the University of Sussex, the MRC Applied Psychology Unit, the University of California, San Diego, and Carnegie Mellon University. In 1987, he joined the University of Toronto, where he remains affiliated today.  He was also the founding director of the Gatsby Charitable Foundation Computational Neuroscience Unit at University College London.  From 2013 to 2023, he divided his time between the University of Toronto and Google Brain, leaving Google to speak openly about the risks of AI.\n\nHinton's key contributions to AI include:\n\n* **Backpropagation:** Co-authoring a landmark 1986 paper popularizing the backpropagation algorithm for training multi-layer neural networks.\n* **Boltzmann Machines:** Co-inventing Boltzmann machines in 1985 with David Ackley and Terry Sejnowski.\n* **Deep Learning:** Making significant advancements in deep learning, leading to breakthroughs in speech recognition and object classification.\n* **AlexNet:** Developing AlexNet in 2012 with his students, a deep learning model that significantly advanced image recognition.\n* **Word Embeddings:** Being the first to use backpropagation for learning word embeddings.\n\nHinton's work has been widely recognized with prestigious awards, including the 2018 Turing Award, often called the \"Nobel Prize of Computing,\" and the 2024 Nobel Prize in Physics, shared with John Hopfield. He is the first person to win both the Turing Award and the Nobel Prize in Physics.  He also holds the Gerhard Herzberg Canada Gold Medal (2010) and the Royal Society's Royal Medal (2022).  He is a fellow of the Royal Society (UK), the Royal Society of Canada, and an international member of the US National Academy of Sciences, the US National Academy of Engineering, and the American Academy of Arts and Sciences. Since 2017, he has served as the Chief Scientific Advisor at the Vector Institute in Toronto.\n"
          },
          "metadata": {},
          "execution_count": 15
        }
      ]
    },
    {
      "cell_type": "markdown",
      "source": [
        "## Doing it all in Chat mode"
      ],
      "metadata": {
        "id": "MQkqFIUiqycY"
      }
    },
    {
      "cell_type": "code",
      "source": [
        "model = genai.GenerativeModel('models/gemini-1.5-flash-002',\n",
        "                              tools=\"google_search_retrieval\")\n",
        "\n",
        "chat = model.start_chat()\n",
        "result = chat.send_message('Who is Geoffrey Hinton?')"
      ],
      "metadata": {
        "id": "UhTcV7ADqagI"
      },
      "execution_count": null,
      "outputs": []
    },
    {
      "cell_type": "code",
      "source": [
        "display(Markdown(result.text))\n",
        "\n",
        "display(HTML(result.candidates[0].grounding_metadata.search_entry_point.rendered_content))"
      ],
      "metadata": {
        "colab": {
          "base_uri": "https://localhost:8080/",
          "height": 337
        },
        "id": "ssixT0NSrHQy",
        "outputId": "2b0524fd-840e-4290-d96b-246d45278a80"
      },
      "execution_count": null,
      "outputs": [
        {
          "output_type": "display_data",
          "data": {
            "text/plain": [
              "<IPython.core.display.Markdown object>"
            ],
            "text/markdown": "Geoffrey Everest Hinton (born December 6, 1947) is a highly influential British-Canadian computer scientist and cognitive psychologist.  He is widely recognized as a pioneer in the field of artificial intelligence (AI), specifically deep learning, earning him the moniker \"Godfather of AI\".\n\nHinton's contributions to AI are substantial and groundbreaking.  He co-authored a highly influential 1986 paper that popularized the backpropagation algorithm for training multi-layer neural networks, a crucial advancement in the field.  He also played a pivotal role in the development of Boltzmann machines, a type of neural network capable of learning internal representations.  His research group at the University of Toronto made significant breakthroughs in deep learning, revolutionizing areas such as speech recognition and object classification, notably through the development of AlexNet in 2012 with his students. AlexNet dramatically improved image recognition accuracy.\n\nHis academic career has spanned several prestigious institutions, including the University of Toronto (where he is currently University Professor Emeritus),  University College London, Carnegie Mellon University, and Google (Google Brain), where he worked until May 2023.  He is also the Chief Scientific Advisor at the Vector Institute in Toronto.  Hinton's extensive accolades include the 2018 Turing Award (often called the \"Nobel Prize of Computing\") and the 2024 Nobel Prize in Physics, awarded jointly with John J. Hopfield, for their foundational discoveries and inventions enabling machine learning with artificial neural networks.  He has also received numerous other awards and recognitions throughout his career.\n\nIn recent years, Hinton has become increasingly vocal about the potential risks and dangers associated with rapidly advancing AI technology.  His concerns highlight the ethical and societal implications of AI, emphasizing the need for cautious development and responsible implementation.\n"
          },
          "metadata": {}
        },
        {
          "output_type": "display_data",
          "data": {
            "text/plain": [
              "<IPython.core.display.HTML object>"
            ],
            "text/html": [
              "<style>\n",
              ".container {\n",
              "  align-items: center;\n",
              "  border-radius: 8px;\n",
              "  display: flex;\n",
              "  font-family: Google Sans, Roboto, sans-serif;\n",
              "  font-size: 14px;\n",
              "  line-height: 20px;\n",
              "  padding: 8px 12px;\n",
              "}\n",
              ".chip {\n",
              "  display: inline-block;\n",
              "  border: solid 1px;\n",
              "  border-radius: 16px;\n",
              "  min-width: 14px;\n",
              "  padding: 5px 16px;\n",
              "  text-align: center;\n",
              "  user-select: none;\n",
              "  margin: 0 8px;\n",
              "  -webkit-tap-highlight-color: transparent;\n",
              "}\n",
              ".carousel {\n",
              "  overflow: auto;\n",
              "  scrollbar-width: none;\n",
              "  white-space: nowrap;\n",
              "  margin-right: -12px;\n",
              "}\n",
              ".headline {\n",
              "  display: flex;\n",
              "  margin-right: 4px;\n",
              "}\n",
              ".gradient-container {\n",
              "  position: relative;\n",
              "}\n",
              ".gradient {\n",
              "  position: absolute;\n",
              "  transform: translate(3px, -9px);\n",
              "  height: 36px;\n",
              "  width: 9px;\n",
              "}\n",
              "@media (prefers-color-scheme: light) {\n",
              "  .container {\n",
              "    background-color: #fafafa;\n",
              "    box-shadow: 0 0 0 1px #0000000f;\n",
              "  }\n",
              "  .headline-label {\n",
              "    color: #1f1f1f;\n",
              "  }\n",
              "  .chip {\n",
              "    background-color: #ffffff;\n",
              "    border-color: #d2d2d2;\n",
              "    color: #5e5e5e;\n",
              "    text-decoration: none;\n",
              "  }\n",
              "  .chip:hover {\n",
              "    background-color: #f2f2f2;\n",
              "  }\n",
              "  .chip:focus {\n",
              "    background-color: #f2f2f2;\n",
              "  }\n",
              "  .chip:active {\n",
              "    background-color: #d8d8d8;\n",
              "    border-color: #b6b6b6;\n",
              "  }\n",
              "  .logo-dark {\n",
              "    display: none;\n",
              "  }\n",
              "  .gradient {\n",
              "    background: linear-gradient(90deg, #fafafa 15%, #fafafa00 100%);\n",
              "  }\n",
              "}\n",
              "@media (prefers-color-scheme: dark) {\n",
              "  .container {\n",
              "    background-color: #1f1f1f;\n",
              "    box-shadow: 0 0 0 1px #ffffff26;\n",
              "  }\n",
              "  .headline-label {\n",
              "    color: #fff;\n",
              "  }\n",
              "  .chip {\n",
              "    background-color: #2c2c2c;\n",
              "    border-color: #3c4043;\n",
              "    color: #fff;\n",
              "    text-decoration: none;\n",
              "  }\n",
              "  .chip:hover {\n",
              "    background-color: #353536;\n",
              "  }\n",
              "  .chip:focus {\n",
              "    background-color: #353536;\n",
              "  }\n",
              "  .chip:active {\n",
              "    background-color: #464849;\n",
              "    border-color: #53575b;\n",
              "  }\n",
              "  .logo-light {\n",
              "    display: none;\n",
              "  }\n",
              "  .gradient {\n",
              "    background: linear-gradient(90deg, #1f1f1f 15%, #1f1f1f00 100%);\n",
              "  }\n",
              "}\n",
              "</style>\n",
              "<div class=\"container\">\n",
              "  <div class=\"headline\">\n",
              "    <svg class=\"logo-light\" width=\"18\" height=\"18\" viewBox=\"9 9 35 35\" fill=\"none\" xmlns=\"http://www.w3.org/2000/svg\">\n",
              "      <path fill-rule=\"evenodd\" clip-rule=\"evenodd\" d=\"M42.8622 27.0064C42.8622 25.7839 42.7525 24.6084 42.5487 23.4799H26.3109V30.1568H35.5897C35.1821 32.3041 33.9596 34.1222 32.1258 35.3448V39.6864H37.7213C40.9814 36.677 42.8622 32.2571 42.8622 27.0064V27.0064Z\" fill=\"#4285F4\"/>\n",
              "      <path fill-rule=\"evenodd\" clip-rule=\"evenodd\" d=\"M26.3109 43.8555C30.9659 43.8555 34.8687 42.3195 37.7213 39.6863L32.1258 35.3447C30.5898 36.3792 28.6306 37.0061 26.3109 37.0061C21.8282 37.0061 18.0195 33.9811 16.6559 29.906H10.9194V34.3573C13.7563 39.9841 19.5712 43.8555 26.3109 43.8555V43.8555Z\" fill=\"#34A853\"/>\n",
              "      <path fill-rule=\"evenodd\" clip-rule=\"evenodd\" d=\"M16.6559 29.8904C16.3111 28.8559 16.1074 27.7588 16.1074 26.6146C16.1074 25.4704 16.3111 24.3733 16.6559 23.3388V18.8875H10.9194C9.74388 21.2072 9.06992 23.8247 9.06992 26.6146C9.06992 29.4045 9.74388 32.022 10.9194 34.3417L15.3864 30.8621L16.6559 29.8904V29.8904Z\" fill=\"#FBBC05\"/>\n",
              "      <path fill-rule=\"evenodd\" clip-rule=\"evenodd\" d=\"M26.3109 16.2386C28.85 16.2386 31.107 17.1164 32.9095 18.8091L37.8466 13.8719C34.853 11.082 30.9659 9.3736 26.3109 9.3736C19.5712 9.3736 13.7563 13.245 10.9194 18.8875L16.6559 23.3388C18.0195 19.2636 21.8282 16.2386 26.3109 16.2386V16.2386Z\" fill=\"#EA4335\"/>\n",
              "    </svg>\n",
              "    <svg class=\"logo-dark\" width=\"18\" height=\"18\" viewBox=\"0 0 48 48\" xmlns=\"http://www.w3.org/2000/svg\">\n",
              "      <circle cx=\"24\" cy=\"23\" fill=\"#FFF\" r=\"22\"/>\n",
              "      <path d=\"M33.76 34.26c2.75-2.56 4.49-6.37 4.49-11.26 0-.89-.08-1.84-.29-3H24.01v5.99h8.03c-.4 2.02-1.5 3.56-3.07 4.56v.75l3.91 2.97h.88z\" fill=\"#4285F4\"/>\n",
              "      <path d=\"M15.58 25.77A8.845 8.845 0 0 0 24 31.86c1.92 0 3.62-.46 4.97-1.31l4.79 3.71C31.14 36.7 27.65 38 24 38c-5.93 0-11.01-3.4-13.45-8.36l.17-1.01 4.06-2.85h.8z\" fill=\"#34A853\"/>\n",
              "      <path d=\"M15.59 20.21a8.864 8.864 0 0 0 0 5.58l-5.03 3.86c-.98-2-1.53-4.25-1.53-6.64 0-2.39.55-4.64 1.53-6.64l1-.22 3.81 2.98.22 1.08z\" fill=\"#FBBC05\"/>\n",
              "      <path d=\"M24 14.14c2.11 0 4.02.75 5.52 1.98l4.36-4.36C31.22 9.43 27.81 8 24 8c-5.93 0-11.01 3.4-13.45 8.36l5.03 3.85A8.86 8.86 0 0 1 24 14.14z\" fill=\"#EA4335\"/>\n",
              "    </svg>\n",
              "    <div class=\"gradient-container\"><div class=\"gradient\"></div></div>\n",
              "  </div>\n",
              "  <div class=\"carousel\">\n",
              "    <a class=\"chip\" href=\"https://vertexaisearch.cloud.google.com/grounding-api-redirect/AZnLMfxEflwnCIy2NdlUrOY50IuRXpXF_cmrH_mACiQFV_-eJdxxOcq3nhABxPvRTbep8-fpwSA42I-KOh0ZJGGvuBWb_xxXGgs5JIPbRCJPYkoCbsGEFUqCteLoJGHtf5xn3sbL2jLTqiW_8Z40JEOHvTdW16wvrrlz0jkXoNa2nIVg3Rq5jJl0Pkkqiu9hWWVdSQd5HWeuin4512N7eTQ=\">Who is Geoffrey Hinton?</a>\n",
              "  </div>\n",
              "</div>\n"
            ]
          },
          "metadata": {}
        }
      ]
    },
    {
      "cell_type": "code",
      "source": [
        "result = chat.send_message('what is the google stock price?')\n",
        "\n",
        "\n",
        "display(Markdown(result.text))\n",
        "\n",
        "display(HTML(result.candidates[0].grounding_metadata.search_entry_point.rendered_content))"
      ],
      "metadata": {
        "colab": {
          "base_uri": "https://localhost:8080/",
          "height": 278
        },
        "id": "O1ewM3eRrNGC",
        "outputId": "c6d6ad16-9bf0-4ed5-b86b-904a01237250"
      },
      "execution_count": null,
      "outputs": [
        {
          "output_type": "display_data",
          "data": {
            "text/plain": [
              "<IPython.core.display.Markdown object>"
            ],
            "text/markdown": "The provided sources give slightly different prices for Alphabet Inc. (Google) Class C stock (GOOG), reflecting the fluctuation of stock prices throughout the day.  There is also a distinction made between Class A (GOOGL) and Class C (GOOG) shares.  The question doesn't specify which class of shares is being inquired about, but I will provide information for both based on the data available.\n\nAs of the closing prices on Friday, November 8th, 2024:\n\n* **GOOG (Class C):**  The closing price was approximately $179.93 according to one source. Other sources show prices slightly different, between $179.57 and $182.35 as the range of the day's trading.  This reflects the constant change in stock prices.\n\n* **GOOGL (Class A):**  The provided text doesn't give the exact current price for GOOGL (Class A shares).  To get the most up-to-date price, you should consult a live stock ticker.\n\n\nPlease note that stock prices are constantly changing, and these values are only accurate as of the dates and times reflected in the provided sources.  For the most current information, you should refer to a live stock quote source.\n"
          },
          "metadata": {}
        },
        {
          "output_type": "display_data",
          "data": {
            "text/plain": [
              "<IPython.core.display.HTML object>"
            ],
            "text/html": [
              "<style>\n",
              ".container {\n",
              "  align-items: center;\n",
              "  border-radius: 8px;\n",
              "  display: flex;\n",
              "  font-family: Google Sans, Roboto, sans-serif;\n",
              "  font-size: 14px;\n",
              "  line-height: 20px;\n",
              "  padding: 8px 12px;\n",
              "}\n",
              ".chip {\n",
              "  display: inline-block;\n",
              "  border: solid 1px;\n",
              "  border-radius: 16px;\n",
              "  min-width: 14px;\n",
              "  padding: 5px 16px;\n",
              "  text-align: center;\n",
              "  user-select: none;\n",
              "  margin: 0 8px;\n",
              "  -webkit-tap-highlight-color: transparent;\n",
              "}\n",
              ".carousel {\n",
              "  overflow: auto;\n",
              "  scrollbar-width: none;\n",
              "  white-space: nowrap;\n",
              "  margin-right: -12px;\n",
              "}\n",
              ".headline {\n",
              "  display: flex;\n",
              "  margin-right: 4px;\n",
              "}\n",
              ".gradient-container {\n",
              "  position: relative;\n",
              "}\n",
              ".gradient {\n",
              "  position: absolute;\n",
              "  transform: translate(3px, -9px);\n",
              "  height: 36px;\n",
              "  width: 9px;\n",
              "}\n",
              "@media (prefers-color-scheme: light) {\n",
              "  .container {\n",
              "    background-color: #fafafa;\n",
              "    box-shadow: 0 0 0 1px #0000000f;\n",
              "  }\n",
              "  .headline-label {\n",
              "    color: #1f1f1f;\n",
              "  }\n",
              "  .chip {\n",
              "    background-color: #ffffff;\n",
              "    border-color: #d2d2d2;\n",
              "    color: #5e5e5e;\n",
              "    text-decoration: none;\n",
              "  }\n",
              "  .chip:hover {\n",
              "    background-color: #f2f2f2;\n",
              "  }\n",
              "  .chip:focus {\n",
              "    background-color: #f2f2f2;\n",
              "  }\n",
              "  .chip:active {\n",
              "    background-color: #d8d8d8;\n",
              "    border-color: #b6b6b6;\n",
              "  }\n",
              "  .logo-dark {\n",
              "    display: none;\n",
              "  }\n",
              "  .gradient {\n",
              "    background: linear-gradient(90deg, #fafafa 15%, #fafafa00 100%);\n",
              "  }\n",
              "}\n",
              "@media (prefers-color-scheme: dark) {\n",
              "  .container {\n",
              "    background-color: #1f1f1f;\n",
              "    box-shadow: 0 0 0 1px #ffffff26;\n",
              "  }\n",
              "  .headline-label {\n",
              "    color: #fff;\n",
              "  }\n",
              "  .chip {\n",
              "    background-color: #2c2c2c;\n",
              "    border-color: #3c4043;\n",
              "    color: #fff;\n",
              "    text-decoration: none;\n",
              "  }\n",
              "  .chip:hover {\n",
              "    background-color: #353536;\n",
              "  }\n",
              "  .chip:focus {\n",
              "    background-color: #353536;\n",
              "  }\n",
              "  .chip:active {\n",
              "    background-color: #464849;\n",
              "    border-color: #53575b;\n",
              "  }\n",
              "  .logo-light {\n",
              "    display: none;\n",
              "  }\n",
              "  .gradient {\n",
              "    background: linear-gradient(90deg, #1f1f1f 15%, #1f1f1f00 100%);\n",
              "  }\n",
              "}\n",
              "</style>\n",
              "<div class=\"container\">\n",
              "  <div class=\"headline\">\n",
              "    <svg class=\"logo-light\" width=\"18\" height=\"18\" viewBox=\"9 9 35 35\" fill=\"none\" xmlns=\"http://www.w3.org/2000/svg\">\n",
              "      <path fill-rule=\"evenodd\" clip-rule=\"evenodd\" d=\"M42.8622 27.0064C42.8622 25.7839 42.7525 24.6084 42.5487 23.4799H26.3109V30.1568H35.5897C35.1821 32.3041 33.9596 34.1222 32.1258 35.3448V39.6864H37.7213C40.9814 36.677 42.8622 32.2571 42.8622 27.0064V27.0064Z\" fill=\"#4285F4\"/>\n",
              "      <path fill-rule=\"evenodd\" clip-rule=\"evenodd\" d=\"M26.3109 43.8555C30.9659 43.8555 34.8687 42.3195 37.7213 39.6863L32.1258 35.3447C30.5898 36.3792 28.6306 37.0061 26.3109 37.0061C21.8282 37.0061 18.0195 33.9811 16.6559 29.906H10.9194V34.3573C13.7563 39.9841 19.5712 43.8555 26.3109 43.8555V43.8555Z\" fill=\"#34A853\"/>\n",
              "      <path fill-rule=\"evenodd\" clip-rule=\"evenodd\" d=\"M16.6559 29.8904C16.3111 28.8559 16.1074 27.7588 16.1074 26.6146C16.1074 25.4704 16.3111 24.3733 16.6559 23.3388V18.8875H10.9194C9.74388 21.2072 9.06992 23.8247 9.06992 26.6146C9.06992 29.4045 9.74388 32.022 10.9194 34.3417L15.3864 30.8621L16.6559 29.8904V29.8904Z\" fill=\"#FBBC05\"/>\n",
              "      <path fill-rule=\"evenodd\" clip-rule=\"evenodd\" d=\"M26.3109 16.2386C28.85 16.2386 31.107 17.1164 32.9095 18.8091L37.8466 13.8719C34.853 11.082 30.9659 9.3736 26.3109 9.3736C19.5712 9.3736 13.7563 13.245 10.9194 18.8875L16.6559 23.3388C18.0195 19.2636 21.8282 16.2386 26.3109 16.2386V16.2386Z\" fill=\"#EA4335\"/>\n",
              "    </svg>\n",
              "    <svg class=\"logo-dark\" width=\"18\" height=\"18\" viewBox=\"0 0 48 48\" xmlns=\"http://www.w3.org/2000/svg\">\n",
              "      <circle cx=\"24\" cy=\"23\" fill=\"#FFF\" r=\"22\"/>\n",
              "      <path d=\"M33.76 34.26c2.75-2.56 4.49-6.37 4.49-11.26 0-.89-.08-1.84-.29-3H24.01v5.99h8.03c-.4 2.02-1.5 3.56-3.07 4.56v.75l3.91 2.97h.88z\" fill=\"#4285F4\"/>\n",
              "      <path d=\"M15.58 25.77A8.845 8.845 0 0 0 24 31.86c1.92 0 3.62-.46 4.97-1.31l4.79 3.71C31.14 36.7 27.65 38 24 38c-5.93 0-11.01-3.4-13.45-8.36l.17-1.01 4.06-2.85h.8z\" fill=\"#34A853\"/>\n",
              "      <path d=\"M15.59 20.21a8.864 8.864 0 0 0 0 5.58l-5.03 3.86c-.98-2-1.53-4.25-1.53-6.64 0-2.39.55-4.64 1.53-6.64l1-.22 3.81 2.98.22 1.08z\" fill=\"#FBBC05\"/>\n",
              "      <path d=\"M24 14.14c2.11 0 4.02.75 5.52 1.98l4.36-4.36C31.22 9.43 27.81 8 24 8c-5.93 0-11.01 3.4-13.45 8.36l5.03 3.85A8.86 8.86 0 0 1 24 14.14z\" fill=\"#EA4335\"/>\n",
              "    </svg>\n",
              "    <div class=\"gradient-container\"><div class=\"gradient\"></div></div>\n",
              "  </div>\n",
              "  <div class=\"carousel\">\n",
              "    <a class=\"chip\" href=\"https://vertexaisearch.cloud.google.com/grounding-api-redirect/AZnLMfy7ggiYDINu1Fi1PhpFHrQbNM9qV3y-_x7FUpY3or5RqvaoBIpVK5awM7fVTe0_2BHbjRCBd9Obd_JCHunDulA-x64f0CM2FYS-dmInDH_vicq6xEu8vt4bQimPparzXnk63VxwKwJ3BHVG1v2DiVUY15mERANUwY8MqiRKw_lwgiYEyxhpSNeFqQ_WwuhoLme9zdgv4iRjyDTP9nPuhzKacg==\">what is the google stock price</a>\n",
              "  </div>\n",
              "</div>\n"
            ]
          },
          "metadata": {}
        }
      ]
    },
    {
      "cell_type": "code",
      "source": [
        "model = genai.GenerativeModel('models/gemini-1.5-flash-002')\n",
        "chat = model.start_chat()\n",
        "result = chat.send_message('who won the Nobel prize for physics this year?',\n",
        "                           tools=\"google_search_retrieval\")"
      ],
      "metadata": {
        "id": "vdj4JTzCteN8"
      },
      "execution_count": null,
      "outputs": []
    },
    {
      "cell_type": "code",
      "source": [
        "display(Markdown(result.text))\n",
        "\n",
        "display(HTML(result.candidates[0].grounding_metadata.search_entry_point.rendered_content))"
      ],
      "metadata": {
        "colab": {
          "base_uri": "https://localhost:8080/",
          "height": 128
        },
        "id": "Xsk5cXLTtmUs",
        "outputId": "5faa4a28-24ce-482d-ca4c-c6c8f007dda0"
      },
      "execution_count": null,
      "outputs": [
        {
          "output_type": "display_data",
          "data": {
            "text/plain": [
              "<IPython.core.display.Markdown object>"
            ],
            "text/markdown": "The 2024 Nobel Prize in Physics was awarded to John J. Hopfield and Geoffrey E. Hinton.  They were recognized for their foundational discoveries and inventions that enabled machine learning using artificial neural networks.  Hopfield's contribution involved creating an associative memory capable of storing and reconstructing patterns in data, while Hinton invented a method for autonomously identifying properties within data, crucial for tasks like identifying elements in images.\n"
          },
          "metadata": {}
        },
        {
          "output_type": "display_data",
          "data": {
            "text/plain": [
              "<IPython.core.display.HTML object>"
            ],
            "text/html": [
              "<style>\n",
              ".container {\n",
              "  align-items: center;\n",
              "  border-radius: 8px;\n",
              "  display: flex;\n",
              "  font-family: Google Sans, Roboto, sans-serif;\n",
              "  font-size: 14px;\n",
              "  line-height: 20px;\n",
              "  padding: 8px 12px;\n",
              "}\n",
              ".chip {\n",
              "  display: inline-block;\n",
              "  border: solid 1px;\n",
              "  border-radius: 16px;\n",
              "  min-width: 14px;\n",
              "  padding: 5px 16px;\n",
              "  text-align: center;\n",
              "  user-select: none;\n",
              "  margin: 0 8px;\n",
              "  -webkit-tap-highlight-color: transparent;\n",
              "}\n",
              ".carousel {\n",
              "  overflow: auto;\n",
              "  scrollbar-width: none;\n",
              "  white-space: nowrap;\n",
              "  margin-right: -12px;\n",
              "}\n",
              ".headline {\n",
              "  display: flex;\n",
              "  margin-right: 4px;\n",
              "}\n",
              ".gradient-container {\n",
              "  position: relative;\n",
              "}\n",
              ".gradient {\n",
              "  position: absolute;\n",
              "  transform: translate(3px, -9px);\n",
              "  height: 36px;\n",
              "  width: 9px;\n",
              "}\n",
              "@media (prefers-color-scheme: light) {\n",
              "  .container {\n",
              "    background-color: #fafafa;\n",
              "    box-shadow: 0 0 0 1px #0000000f;\n",
              "  }\n",
              "  .headline-label {\n",
              "    color: #1f1f1f;\n",
              "  }\n",
              "  .chip {\n",
              "    background-color: #ffffff;\n",
              "    border-color: #d2d2d2;\n",
              "    color: #5e5e5e;\n",
              "    text-decoration: none;\n",
              "  }\n",
              "  .chip:hover {\n",
              "    background-color: #f2f2f2;\n",
              "  }\n",
              "  .chip:focus {\n",
              "    background-color: #f2f2f2;\n",
              "  }\n",
              "  .chip:active {\n",
              "    background-color: #d8d8d8;\n",
              "    border-color: #b6b6b6;\n",
              "  }\n",
              "  .logo-dark {\n",
              "    display: none;\n",
              "  }\n",
              "  .gradient {\n",
              "    background: linear-gradient(90deg, #fafafa 15%, #fafafa00 100%);\n",
              "  }\n",
              "}\n",
              "@media (prefers-color-scheme: dark) {\n",
              "  .container {\n",
              "    background-color: #1f1f1f;\n",
              "    box-shadow: 0 0 0 1px #ffffff26;\n",
              "  }\n",
              "  .headline-label {\n",
              "    color: #fff;\n",
              "  }\n",
              "  .chip {\n",
              "    background-color: #2c2c2c;\n",
              "    border-color: #3c4043;\n",
              "    color: #fff;\n",
              "    text-decoration: none;\n",
              "  }\n",
              "  .chip:hover {\n",
              "    background-color: #353536;\n",
              "  }\n",
              "  .chip:focus {\n",
              "    background-color: #353536;\n",
              "  }\n",
              "  .chip:active {\n",
              "    background-color: #464849;\n",
              "    border-color: #53575b;\n",
              "  }\n",
              "  .logo-light {\n",
              "    display: none;\n",
              "  }\n",
              "  .gradient {\n",
              "    background: linear-gradient(90deg, #1f1f1f 15%, #1f1f1f00 100%);\n",
              "  }\n",
              "}\n",
              "</style>\n",
              "<div class=\"container\">\n",
              "  <div class=\"headline\">\n",
              "    <svg class=\"logo-light\" width=\"18\" height=\"18\" viewBox=\"9 9 35 35\" fill=\"none\" xmlns=\"http://www.w3.org/2000/svg\">\n",
              "      <path fill-rule=\"evenodd\" clip-rule=\"evenodd\" d=\"M42.8622 27.0064C42.8622 25.7839 42.7525 24.6084 42.5487 23.4799H26.3109V30.1568H35.5897C35.1821 32.3041 33.9596 34.1222 32.1258 35.3448V39.6864H37.7213C40.9814 36.677 42.8622 32.2571 42.8622 27.0064V27.0064Z\" fill=\"#4285F4\"/>\n",
              "      <path fill-rule=\"evenodd\" clip-rule=\"evenodd\" d=\"M26.3109 43.8555C30.9659 43.8555 34.8687 42.3195 37.7213 39.6863L32.1258 35.3447C30.5898 36.3792 28.6306 37.0061 26.3109 37.0061C21.8282 37.0061 18.0195 33.9811 16.6559 29.906H10.9194V34.3573C13.7563 39.9841 19.5712 43.8555 26.3109 43.8555V43.8555Z\" fill=\"#34A853\"/>\n",
              "      <path fill-rule=\"evenodd\" clip-rule=\"evenodd\" d=\"M16.6559 29.8904C16.3111 28.8559 16.1074 27.7588 16.1074 26.6146C16.1074 25.4704 16.3111 24.3733 16.6559 23.3388V18.8875H10.9194C9.74388 21.2072 9.06992 23.8247 9.06992 26.6146C9.06992 29.4045 9.74388 32.022 10.9194 34.3417L15.3864 30.8621L16.6559 29.8904V29.8904Z\" fill=\"#FBBC05\"/>\n",
              "      <path fill-rule=\"evenodd\" clip-rule=\"evenodd\" d=\"M26.3109 16.2386C28.85 16.2386 31.107 17.1164 32.9095 18.8091L37.8466 13.8719C34.853 11.082 30.9659 9.3736 26.3109 9.3736C19.5712 9.3736 13.7563 13.245 10.9194 18.8875L16.6559 23.3388C18.0195 19.2636 21.8282 16.2386 26.3109 16.2386V16.2386Z\" fill=\"#EA4335\"/>\n",
              "    </svg>\n",
              "    <svg class=\"logo-dark\" width=\"18\" height=\"18\" viewBox=\"0 0 48 48\" xmlns=\"http://www.w3.org/2000/svg\">\n",
              "      <circle cx=\"24\" cy=\"23\" fill=\"#FFF\" r=\"22\"/>\n",
              "      <path d=\"M33.76 34.26c2.75-2.56 4.49-6.37 4.49-11.26 0-.89-.08-1.84-.29-3H24.01v5.99h8.03c-.4 2.02-1.5 3.56-3.07 4.56v.75l3.91 2.97h.88z\" fill=\"#4285F4\"/>\n",
              "      <path d=\"M15.58 25.77A8.845 8.845 0 0 0 24 31.86c1.92 0 3.62-.46 4.97-1.31l4.79 3.71C31.14 36.7 27.65 38 24 38c-5.93 0-11.01-3.4-13.45-8.36l.17-1.01 4.06-2.85h.8z\" fill=\"#34A853\"/>\n",
              "      <path d=\"M15.59 20.21a8.864 8.864 0 0 0 0 5.58l-5.03 3.86c-.98-2-1.53-4.25-1.53-6.64 0-2.39.55-4.64 1.53-6.64l1-.22 3.81 2.98.22 1.08z\" fill=\"#FBBC05\"/>\n",
              "      <path d=\"M24 14.14c2.11 0 4.02.75 5.52 1.98l4.36-4.36C31.22 9.43 27.81 8 24 8c-5.93 0-11.01 3.4-13.45 8.36l5.03 3.85A8.86 8.86 0 0 1 24 14.14z\" fill=\"#EA4335\"/>\n",
              "    </svg>\n",
              "    <div class=\"gradient-container\"><div class=\"gradient\"></div></div>\n",
              "  </div>\n",
              "  <div class=\"carousel\">\n",
              "    <a class=\"chip\" href=\"https://vertexaisearch.cloud.google.com/grounding-api-redirect/AZnLMfxOkqMjFAjp-X3C5O8Wang3EtOKlYHW3Z4pmDiyxQfmF954p28yUsyYfYgDb7R8mau3RaJTbUORWsBS47MOi5YZzFTaTvzPDKBHmunYeX1N5JAbbsddHnJZW4TlI-vgvWUFwSqSKnB3j_M2HNUGgmncmBuoNfQ8vGQKHwMOlgbUoWVcOho4YoR04nMcHVzfZbzPon_ZPoxrssMW85xkqUWOKnV87UXDGAKHBtLtue4tdA==\">who won the Nobel prize for physics this year</a>\n",
              "  </div>\n",
              "</div>\n"
            ]
          },
          "metadata": {}
        }
      ]
    },
    {
      "cell_type": "code",
      "source": [],
      "metadata": {
        "id": "KWoH3z2KtqXf"
      },
      "execution_count": null,
      "outputs": []
    }
  ]
}